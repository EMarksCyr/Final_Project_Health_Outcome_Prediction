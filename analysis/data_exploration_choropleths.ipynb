{
 "cells": [
  {
   "cell_type": "code",
   "execution_count": 1,
   "id": "5d979754",
   "metadata": {},
   "outputs": [],
   "source": [
    "#import dependencies \n",
    "import psycopg2\n",
    "import pandas as pd\n",
    "import numpy as np\n",
    "import plotly.graph_objects as go\n",
    "import plotly.express as px"
   ]
  },
  {
   "cell_type": "code",
   "execution_count": 2,
   "id": "f4b41100",
   "metadata": {},
   "outputs": [
    {
     "name": "stdout",
     "output_type": "stream",
     "text": [
      "Enter database password········\n"
     ]
    }
   ],
   "source": [
    "from getpass import getpass\n",
    "password = getpass(\"Enter database password\")\n",
    "\n",
    "param_dic = {\n",
    "    \"host\" : \"localhost\",\n",
    "    \"database\" : \"BRFSSAnalysis\",\n",
    "    \"user\" : \"postgres\",\n",
    "    \"password\" : password\n",
    "}"
   ]
  },
  {
   "cell_type": "code",
   "execution_count": 3,
   "id": "9baae596",
   "metadata": {},
   "outputs": [],
   "source": [
    "def connect(params_dic):\n",
    "    \"\"\"\n",
    "    Tranform a SELECT query into a pandas dataframe\n",
    "    \"\"\"\n",
    "    conn = None\n",
    "    try:\n",
    "        # connect to the PostgreSQL server\n",
    "        print('Connecting to the PostgreSQL database...')\n",
    "        conn = psycopg2.connect(**params_dic)\n",
    "    except (Exception, psycopg2.DatabaseError) as error:\n",
    "        print(error)\n",
    "        sys.exit(1) \n",
    "    print(\"Connection successful\")\n",
    "    return conn"
   ]
  },
  {
   "cell_type": "code",
   "execution_count": 4,
   "id": "88443df6",
   "metadata": {},
   "outputs": [],
   "source": [
    "def postgresql_to_dataframe(conn, select_query, column_names):\n",
    "    \"\"\"\n",
    "    SELECT * from question_info\n",
    "    \"\"\"\n",
    "    cursor = conn.cursor()\n",
    "    try:\n",
    "        cursor.execute(select_query)\n",
    "    except (Exception, psycopg2.DatabaseError) as error:\n",
    "        print(\"Error: %s\" % error)\n",
    "        cursor.close()\n",
    "        return 1\n",
    "    \n",
    "    # Naturally we get a list of tupples\n",
    "    tupples = cursor.fetchall()\n",
    "    cursor.close()\n",
    "    \n",
    "    # We just need to turn it into a pandas dataframe\n",
    "    df = pd.DataFrame(tupples, columns=column_names)\n",
    "    return df"
   ]
  },
  {
   "cell_type": "code",
   "execution_count": 5,
   "id": "4e2d9515",
   "metadata": {},
   "outputs": [
    {
     "name": "stdout",
     "output_type": "stream",
     "text": [
      "Connecting to the PostgreSQL database...\n",
      "Connection successful\n"
     ]
    },
    {
     "data": {
      "text/html": [
       "<div>\n",
       "<style scoped>\n",
       "    .dataframe tbody tr th:only-of-type {\n",
       "        vertical-align: middle;\n",
       "    }\n",
       "\n",
       "    .dataframe tbody tr th {\n",
       "        vertical-align: top;\n",
       "    }\n",
       "\n",
       "    .dataframe thead th {\n",
       "        text-align: right;\n",
       "    }\n",
       "</style>\n",
       "<table border=\"1\" class=\"dataframe\">\n",
       "  <thead>\n",
       "    <tr style=\"text-align: right;\">\n",
       "      <th></th>\n",
       "      <th>id</th>\n",
       "      <th>var_name</th>\n",
       "      <th>label</th>\n",
       "      <th>text</th>\n",
       "    </tr>\n",
       "  </thead>\n",
       "  <tbody>\n",
       "    <tr>\n",
       "      <th>0</th>\n",
       "      <td>1</td>\n",
       "      <td>_STATE</td>\n",
       "      <td>State FIPS Code</td>\n",
       "      <td>State FIPS Code</td>\n",
       "    </tr>\n",
       "    <tr>\n",
       "      <th>1</th>\n",
       "      <td>2</td>\n",
       "      <td>FMONTH</td>\n",
       "      <td>File Month</td>\n",
       "      <td>File Month</td>\n",
       "    </tr>\n",
       "    <tr>\n",
       "      <th>2</th>\n",
       "      <td>3</td>\n",
       "      <td>IDATE</td>\n",
       "      <td>Interview Date</td>\n",
       "      <td>Interview Date</td>\n",
       "    </tr>\n",
       "    <tr>\n",
       "      <th>3</th>\n",
       "      <td>4</td>\n",
       "      <td>IMONTH</td>\n",
       "      <td>Interview Month</td>\n",
       "      <td>Interview Month</td>\n",
       "    </tr>\n",
       "    <tr>\n",
       "      <th>4</th>\n",
       "      <td>5</td>\n",
       "      <td>IDAY</td>\n",
       "      <td>Interview Day</td>\n",
       "      <td>Interview Day</td>\n",
       "    </tr>\n",
       "  </tbody>\n",
       "</table>\n",
       "</div>"
      ],
      "text/plain": [
       "   id var_name            label             text\n",
       "0   1   _STATE  State FIPS Code  State FIPS Code\n",
       "1   2   FMONTH       File Month       File Month\n",
       "2   3    IDATE   Interview Date   Interview Date\n",
       "3   4   IMONTH  Interview Month  Interview Month\n",
       "4   5     IDAY    Interview Day    Interview Day"
      ]
     },
     "execution_count": 5,
     "metadata": {},
     "output_type": "execute_result"
    }
   ],
   "source": [
    "# Connect to the database\n",
    "conn = connect(param_dic)\n",
    "column_names = [\"id\", \"var_name\", \"label\", \"text\"]\n",
    "# Execute the \"SELECT *\" query to save question_info as a datafram\n",
    "question_info_df = postgresql_to_dataframe(conn, \"select * from question_info\", column_names)\n",
    "question_info_df.head()"
   ]
  },
  {
   "cell_type": "code",
   "execution_count": 6,
   "id": "9d8827ec",
   "metadata": {},
   "outputs": [
    {
     "name": "stdout",
     "output_type": "stream",
     "text": [
      "Connecting to the PostgreSQL database...\n",
      "Connection successful\n"
     ]
    },
    {
     "data": {
      "text/html": [
       "<div>\n",
       "<style scoped>\n",
       "    .dataframe tbody tr th:only-of-type {\n",
       "        vertical-align: middle;\n",
       "    }\n",
       "\n",
       "    .dataframe tbody tr th {\n",
       "        vertical-align: top;\n",
       "    }\n",
       "\n",
       "    .dataframe thead th {\n",
       "        text-align: right;\n",
       "    }\n",
       "</style>\n",
       "<table border=\"1\" class=\"dataframe\">\n",
       "  <thead>\n",
       "    <tr style=\"text-align: right;\">\n",
       "      <th></th>\n",
       "      <th>id</th>\n",
       "      <th>question_id</th>\n",
       "      <th>label</th>\n",
       "      <th>value</th>\n",
       "      <th>value_end</th>\n",
       "    </tr>\n",
       "  </thead>\n",
       "  <tbody>\n",
       "    <tr>\n",
       "      <th>0</th>\n",
       "      <td>1</td>\n",
       "      <td>1</td>\n",
       "      <td>Alabama</td>\n",
       "      <td>1</td>\n",
       "      <td>None</td>\n",
       "    </tr>\n",
       "    <tr>\n",
       "      <th>1</th>\n",
       "      <td>2</td>\n",
       "      <td>1</td>\n",
       "      <td>Alaska</td>\n",
       "      <td>2</td>\n",
       "      <td>None</td>\n",
       "    </tr>\n",
       "    <tr>\n",
       "      <th>2</th>\n",
       "      <td>3</td>\n",
       "      <td>1</td>\n",
       "      <td>Arizona</td>\n",
       "      <td>4</td>\n",
       "      <td>None</td>\n",
       "    </tr>\n",
       "    <tr>\n",
       "      <th>3</th>\n",
       "      <td>4</td>\n",
       "      <td>1</td>\n",
       "      <td>Arkansas</td>\n",
       "      <td>5</td>\n",
       "      <td>None</td>\n",
       "    </tr>\n",
       "    <tr>\n",
       "      <th>4</th>\n",
       "      <td>5</td>\n",
       "      <td>1</td>\n",
       "      <td>California</td>\n",
       "      <td>6</td>\n",
       "      <td>None</td>\n",
       "    </tr>\n",
       "  </tbody>\n",
       "</table>\n",
       "</div>"
      ],
      "text/plain": [
       "   id  question_id       label value value_end\n",
       "0   1            1     Alabama     1      None\n",
       "1   2            1      Alaska     2      None\n",
       "2   3            1     Arizona     4      None\n",
       "3   4            1    Arkansas     5      None\n",
       "4   5            1  California     6      None"
      ]
     },
     "execution_count": 6,
     "metadata": {},
     "output_type": "execute_result"
    }
   ],
   "source": [
    "# Connect to the database and repeat process for question_values\n",
    "conn = connect(param_dic)\n",
    "column_names = [\"id\", \"question_id\", \"label\", \"value\", \"value_end\"]\n",
    "# Execute the \"SELECT *\" query to save question_info as a datafram\n",
    "answer_info_df = postgresql_to_dataframe(conn, \"select * from question_values\", column_names)\n",
    "answer_info_df.head()"
   ]
  },
  {
   "cell_type": "code",
   "execution_count": 7,
   "id": "af1478bd",
   "metadata": {},
   "outputs": [],
   "source": [
    "#determing which columns of user answers (aka relevant answers) to bring over\n",
    "a = question_info_df['label'].values.tolist()\n",
    "b = question_info_df['var_name'].values.tolist()"
   ]
  },
  {
   "cell_type": "code",
   "execution_count": 8,
   "id": "16b6d5df",
   "metadata": {},
   "outputs": [],
   "source": [
    "zip_iterator = zip(b, a)\n",
    "a_dictionary = dict(zip_iterator)"
   ]
  },
  {
   "cell_type": "code",
   "execution_count": 9,
   "id": "1c881e7f",
   "metadata": {},
   "outputs": [
    {
     "name": "stdout",
     "output_type": "stream",
     "text": [
      "_STATE  :  State FIPS Code\n",
      "FMONTH  :  File Month\n",
      "IDATE  :  Interview Date\n",
      "IMONTH  :  Interview Month\n",
      "IDAY  :  Interview Day\n",
      "IYEAR  :  Interview Year\n",
      "DISPCODE  :  Final Disposition\n",
      "SEQNO  :  Annual Sequence Number\n",
      "_PSU  :  Primary Sampling Unit\n",
      "CTELENM1  :  Correct telephone number?\n",
      "PVTRESD1  :  Private Residence?\n",
      "COLGHOUS  :  Do you live in college housing?\n",
      "STATERE1  :  Resident of State\n",
      "CELPHONE  :  Cellular Telephone\n",
      "LADULT1  :  Are you 18 years of age or older?\n",
      "COLGSEX  :  Are you male or female?\n",
      "NUMADULT  :  Number of Adults in Household\n",
      "LANDSEX  :  Are you male or female?\n",
      "NUMMEN  :  Number of Adult men in Household\n",
      "NUMWOMEN  :  Number of Adult women in Household\n",
      "RESPSLCT  :  Respondent selection\n",
      "SAFETIME  :  Safe time to talk\n",
      "CTELNUM1  :  Correct Phone Number?\n",
      "CELLFON5  :  Is this a cell phone?\n",
      "CADULT1  :  Are you 18 years of age or older?\n",
      "CELLSEX  :  Are you male or female?\n",
      "PVTRESD3  :  Do you live in a private residence?\n",
      "CCLGHOUS  :  Do you live in college housing?\n",
      "CSTATE1  :  Do you currently live in  ____(state)____?\n",
      "LANDLINE  :  Do you also have a landline telephone?\n",
      "HHADULT  :  Number of Adults in Household\n",
      "SEXVAR  :  Sex of Respondent\n",
      "GENHLTH  :  General Health\n",
      "PHYSHLTH  :  Number of Days Physical Health Not Good\n",
      "MENTHLTH  :  Number of Days Mental Health Not Good\n",
      "POORHLTH  :  Poor Physical or Mental Health\n",
      "HLTHPLN1  :  Have any health care coverage\n",
      "PERSDOC2  :  Multiple Health Care Professionals\n",
      "MEDCOST  :  Could Not See Doctor Because of Cost\n",
      "CHECKUP1  :  Length of time since last routine checkup\n",
      "BPHIGH4  :  Ever Told Blood Pressure High\n",
      "BPMEDS  :  Currently Taking Blood Pressure Medication\n",
      "CHOLCHK2  :  How Long since Cholesterol Checked\n",
      "TOLDHI2  :  Ever Told Blood Cholesterol High\n",
      "CHOLMED2  :  Currently taking medicine for high cholesterol\n",
      "CVDINFR4  :  Ever Diagnosed with Heart Attack\n",
      "CVDCRHD4  :  Ever Diagnosed with Angina or Coronary Heart Disease\n",
      "CVDSTRK3  :  Ever Diagnosed with a Stroke\n",
      "ASTHMA3  :  Ever Told Had Asthma\n",
      "ASTHNOW  :  Still Have Asthma\n",
      "CHCSCNCR  :  (Ever told) you had skin cancer?\n",
      "CHCOCNCR  :  (Ever told) you had any other types of cancer?\n",
      "CHCCOPD2  :  (Ever told) (you had) chronic obstructive pulmonary disease, C.O.P.D., emphysema or chronic bronchitis?\n",
      "ADDEPEV3  :  (Ever told) you had a depressive disorder\n",
      "CHCKDNY2  :  Ever told you have kidney disease?\n",
      "DIABAGE3  :  Age When Told Had Diabetes\n",
      "ARTHEXER  :  Dr. Suggest Use of Physical Activity or Exercise for Arthritis or Joint Symptoms\n",
      "LMTJOIN3  :  Limited Because of Joint Symptoms\n",
      "JOINPAI2  :  How Bad Was Joint Pain\n",
      "EDUCA  :  Education Level\n",
      "NUMHHOL3  :  Household Telephones\n",
      "CPDEMO1B  :  Do you have a cell phone for personal use?\n",
      "EMPLOY1  :  Employment Status\n",
      "INCOME2  :  Income Level\n",
      "HEIGHT3  :  Reported Height in Feet and Inches\n",
      "DEAF  :  Are you deaf or do you have serious difficulty hearing?\n",
      "DECIDE  :  Difficulty Concentrating or Remembering\n",
      "DIFFDRES  :  Difficulty Dressing or Bathing\n",
      "SMOKE100  :  Smoked at Least 100 Cigarettes\n",
      "STOPSMK2  :  Stopped Smoking in past 12 months\n",
      "USENOW3  :  Use of Smokeless Tobacco Products\n",
      "AVEDRNK3  :  Avg alcoholic drinks per day in past 30\n",
      "MAXDRNKS  :  Most drinks on single occasion past 30 days\n",
      "EXRACT11  :  Type of Physical Activity\n",
      "EXERHMM1  :  Minutes or Hours Walking, Running, Jogging, or Swimming\n",
      "EXEROFT2  :  How Many Times Walking, Running, Jogging, or Swimming\n",
      "STRENGTH  :  How many times did you do physical activities or exercises to STRENGTHEN your muscles?\n",
      "FRUITJU2  :  How many times did you drink 100 percent PURE fruit juices?\n",
      "FRENCHF1  :  How often do you eat french fries or fried potatoes?\n",
      "VEGETAB2  :  How many times did you eat OTHER vegetables?\n",
      "FLSHTMY3  :  When did you receive your most recent seasonal flu shot/spray?\n",
      "PNEUVAC4  :  Pneumonia shot ever\n",
      "HIVTSTD3  :  Month and Year of Last HIV Test\n",
      "PDIABTST  :  Had a test for high blood sugar or diabetes in the past three years?\n",
      "INSULIN1  :  Now Taking Insulin\n",
      "FEETCHK3  :  How Often Check Feet for Sores or Irritations\n",
      "CHKHEMO3  :  Times Checked for Glycosylated Hemoglobin\n",
      "EYEEXAM1  :  Last Eye Exam Where Pupils Were Dilated\n",
      "DIABEDU  :  Ever Taken Class in Managing Diabetes\n",
      "HAVECFS  :  Still have Chronic Fatigue Syndrome or Myalgic Encephalomyelitis\n",
      "TOLDHEPC  :  Told had Hepatitis C\n",
      "PRIRHEPC  :  Were you treated for Hepatitis C prior to 2015\n",
      "HAVEHEPB  :  Told  had hepatitis B\n",
      "HPVADVC3  :  Have you ever had the HPV vaccination?\n",
      "IMFVPLA1  :  Where did you get your last flu shot/vaccine?\n",
      "DIABETE4  :  (Ever told) you had diabetes\n",
      "HAVARTH4  :  Told Had Arthritis\n",
      "ARTHEDU  :  Ever Taken Class in Managing Arthritis or Joint Symptoms\n",
      "ARTHDIS2  :  Does Arthritis Affect Whether You Work\n",
      "MARITAL  :  Marital Status\n",
      "RENTHOM1  :  Own or Rent Home\n",
      "NUMPHON3  :  Residential Phones\n",
      "VETERAN3  :  Are You A Veteran\n",
      "CHILDREN  :  Number of Children in Household\n",
      "WEIGHT2  :  Reported Weight in Pounds\n",
      "PREGNANT  :  Pregnancy Status\n",
      "BLIND  :  Blind or Difficulty seeing\n",
      "DIFFWALK  :  Difficulty Walking or Climbing Stairs\n",
      "DIFFALON  :  Difficulty Doing Errands Alone\n",
      "SMOKDAY2  :  Frequency of Days Now Smoking\n",
      "LASTSMK2  :  Interval Since Last Smoked\n",
      "ALCDAY5  :  Days in past 30 had alcoholic beverage\n",
      "DRNK3GE5  :  Binge Drinking\n",
      "EXERANY2  :  Exercise in Past 30 Days\n",
      "EXEROFT1  :  How Many Times Walking, Running, Jogging, or Swimming\n",
      "EXRACT21  :  Other Type of Physical Activity Giving Most Exercise During Past Month\n",
      "EXERHMM2  :  Minutes or Hours Walking, Running, Jogging, or Swimming\n",
      "FRUIT2  :  How many times did you eat fruit?\n",
      "FVGREEN1  :  How many times did you eat dark green vegetables?\n",
      "POTATOE1  :  How Often Do You Eat Potatoes\n",
      "FLUSHOT7  :  Adult flu shot/spray past 12 mos\n",
      "TETANUS1  :  Received Tetanus Shot Since 2005?\n",
      "HIVTST7  :  Ever tested H.I.V.\n",
      "HIVRISK5  :  Do Any High Risk Situations Apply\n",
      "PREDIAB1  :  Ever been told by a doctor or other health professional that you have pre-diabetes or borderline diabetes?\n",
      "BLDSUGAR  :  How Often Check Blood for Glucose\n",
      "DOCTDIAB  :  Times Seen Health Professional for Diabetes\n",
      "FEETCHK  :  Times Feet Check for Sores/irritations\n",
      "DIABEYE  :  Ever Told Diabetes Has Affected Eyes\n",
      "TOLDCFS  :  Told had Chronic Fatigue Syndrome (CFS) or (Myalgic Encephalomyelitis) ME\n",
      "WORKCFS  :  How many hours a week are you been able to work\n",
      "TRETHEPC  :  Treated for Hepatitis C\n",
      "HAVEHEPC  :  Still have Hepatitis C\n",
      "MEDSHEPB  :  Currently taking medicine for hepatitis B\n",
      "HPVADSHT  :  How many HPV shots did you receive?\n",
      "_FRTRES1  :  Missing any fruit responses\n",
      "SHINGLE2  :  Have you ever had the shingles or zoster vaccine?\n",
      "LCSLAST  :  How old when you last smoked?\n",
      "LCSCTSCN  :  Did you have a CT or CAT scan?\n",
      "HOWLONG  :  How Long since Last Mammogram\n",
      "LASTPAP2  :  How Long Since Last Pap Test\n",
      "HPLSTTST  :  How long since your last HPV test?\n",
      "PCPSAAD3  :  Has a health professional EVER talked with you about the advantages of the PSA test?\n",
      "PCPSARE1  :  Has a doctor EVER recommended that you have a PSA test?\n",
      "PSATIME  :  Time Since Last PSA Test\n",
      "PCPSADE1  :  Why was PSA test done?\n",
      "BLDSTOOL  :  Ever Had Blood Stool Test Using Home Kit\n",
      "HADSIGM3  :  Ever Had Sigmoidoscopy/Colonoscopy\n",
      "LASTSIG3  :  Time Since Last Sigmoidoscopy/Colonoscopy\n",
      "CNCRAGE  :  Age Told Had Cancer\n",
      "CSRVTRT3  :  Currently Receiving Treatment for Cancer\n",
      "CSRVSUM  :  Did You Receive a Summary of Cancer Treatments Received\n",
      "CSRVINST  :  Instructions Written or Printed\n",
      "CSRVDEIN  :  Ever Denied Insurance Coverage Because Of Your Cancer?\n",
      "CSRVPAIN  :  Currently Have Physical Pain From Cancer Or Treatment?\n",
      "HLTHCVR1  :  Primary Health Insurance Coverage\n",
      "HOMBPCHK  :  Told check blood pressure at home\n",
      "WHEREBP  :  Where do you get blood pressure taken\n",
      "WTCHSALT  :  Watching Sodium or Salt Intake\n",
      "INDORTAN  :  Times used an indoor tanning device\n",
      "SUNPRTCT  :  How often protect yourself from the sun\n",
      "WKENDOUT  :  How often outside on weekends\n",
      "CDHOUSE  :  Given up day-to-day chores due to confusion or memory loss\n",
      "CDHELP  :  When you need help with day-to-day activities are you able to get it\n",
      "CDDISCUS  :  Have you discussed your confusion or memory loss with a health care professional?\n",
      "CRGVREL3  :  Relationship Of Person To Whom You Are Giving Care?\n",
      "CRGVHRS1  :  How Many Hours Do You Provide Care For Person?\n",
      "CRGVALZD  :  Does Person Being Cared For Have Alzheimer´s Disease?\n",
      "CRGVHOU1  :  Managed household tasks\n",
      "ACEDEPRS  :  Live With Anyone Depressed, Mentally Ill, Or Suicidal?\n",
      "ACEDRUGS  :  Live With Anyone Who Used Illegal Drugs or Abused Prescriptions?\n",
      "ACEDIVRC  :  Were Your Parents Divorced/Seperated?\n",
      "ACEHURT1  :  How Often Did A Parent Physically Hurt You In Any Way?\n",
      "ACETOUCH  :  How Often Did Anyone Ever Touch You Sexually?\n",
      "ACEHVSEX  :  How Often Did Anyone Ever Force You to Have Sex?\n",
      "TYPCNTR8  :  What did you do to keep you from getting pregnant?\n",
      "ASBIALCH  :  Asked during checkup if you drink alchohol\n",
      "ASBIBING  :  Asked whether you drank [5 FOR MEN /4 FOR WOMEN] or more alcoholic drinks on an occasion?\n",
      "ASBIRDUC  :  Were you advised to reduce or quit your drinking?\n",
      "LCSFIRST  :  How old when you first started smoking?\n",
      "LCSNUMCG  :  On average, how many cigarettes do you smoke each day?\n",
      "HADMAM  :  Have You Ever Had a Mammogram\n",
      "HADPAP2  :  Ever Had a Pap Test\n",
      "HPVTEST  :  Have you ever had an HPV test?\n",
      "HADHYST2  :  Had Hysterectomy\n",
      "PCPSADI1  :  Has a health professional EVER talked with you about the disadvantages of the PSA test?\n",
      "PSATEST1  :  Ever Had PSA Test\n",
      "PCPSARS1  :  What was the MAIN reason you had this PSA test?\n",
      "PCDMDEC1  :  Who made the decision with you to have PSA test?\n",
      "LSTBLDS3  :  Time Since Last Blood Stool Test\n",
      "HADSGCO1  :  Was your last test a sigmoidoscopy or colonoscopy?\n",
      "CNCRDIFF  :  How Many Types of Cancer?\n",
      "CNCRTYP1  :  Type of Cancer\n",
      "CSRVDOC1  :  What Type of Doctor Provides Majority of Your Care\n",
      "CSRVRTRN  :  Ever Receive Instructions From A Doctor For Follow-Up Check-Ups\n",
      "CSRVINSR  :  Did Health Insurance Pay For All Of Your Cancer Treatment\n",
      "CSRVCLIN  :  Participate In Clinical Trial As Part Of Cancer Treatment?\n",
      "CSRVCTL2  :  Is Pain Under Control?\n",
      "ASPIRIN  :  How often do you take an aspirin\n",
      "HOMRGCHK  :  Regularly check blood pressure at home\n",
      "SHAREBP  :  How do you share your blood pressure numbers\n",
      "DRADVISE  :  Doctor Advised Reduced Sodium/Salt Intake\n",
      "NUMBURN3  :  Number Of Sunburns In Past 12 Months\n",
      "WKDAYOUT  :  How often outside on weekdays\n",
      "CIMEMLOS  :  Have you experienced confusion or memory loss that is happening more often or is getting worse?\n",
      "CDASSIST  :  Need assistance with day-to_day activities due to confusion or memory loss\n",
      "CDSOCIAL  :  Does confusion or memory loss interfere with work or social activities\n",
      "CAREGIV1  :  Provided regular care for family or friend\n",
      "CRGVLNG1  :  How Long Provided Care For Person.\n",
      "CRGVPRB3  :  What Is The Major Health Problem, Illness, Disability For Care For Person?\n",
      "CRGVPER1  :  Managed personal care\n",
      "CRGVEXPT  :  Do you expect to have a relative you will need to provide care for?\n",
      "ACEDRINK  :  Live With a Problem Drinker/Alcoholic?\n",
      "ACEPRISN  :  Live With Anyone Who Served TIme in Prison or Jail?\n",
      "ACEPUNCH  :  How Often Did Your Parents Beat Each Other Up?\n",
      "ACESWEAR  :  How Often Did A Parent Swear At You?\n",
      "ACETTHEM  :  How Often Did Anyone Make You Touch Them Sexually?\n",
      "PFPPRVN3  :  Did you do anything to keep from getting pregnant?\n",
      "NOBCUSE7  :  What was main reason for not doing anything to keep you from getting pregnant?\n",
      "ASBIDRNK  :  Asked in person or by form how much you drink?\n",
      "ASBIADVC  :  Offered advice about what level of drinking is harmful or risky?\n",
      "MARIJAN1  :  During the past 30 days, on how many days did you use marijuana or hashish?\n",
      "RSNMRJN1  :  What was the reason you used marijuana?\n",
      "BIRTHSEX  :  Are you male or female?\n",
      "SOFEMALE  :  Sexual orientation\n",
      "RCSGENDR  :  Gender of child\n",
      "CASTHDX2  :  Hlth pro ever said child has asthma\n",
      "QSTVER  :  Questionnaire Version Identifier\n",
      "_METSTAT  :  Metropolitan Status\n",
      "MSCODE  :  Metropolitan Status Code\n",
      "_STRWT  :  Stratum weight\n",
      "_WT2RAKE  :  Design weight use in raking\n",
      "_CHISPNC  :  Child Hispanic, Latino/a, or Spanish origin calculated variable\n",
      "_CPRACE  :  Preferred Child Race Categories\n",
      "_DUALUSE  :  Dual Phone Use Categories\n",
      "_LLCPWT2  :  Truncated design weight used in adult combined land line and cell phone raking\n",
      "_RFHLTH  :  Adults with good or better health\n",
      "_MENT14D  :  Computed Mental Health Status\n",
      "_RFHYPE5  :  High Blood Pressure Calculated Variable\n",
      "_RFCHOL2  :  High Cholesterol Calculated Variable\n",
      "_LTASTH1  :  Lifetime Asthma Calculated Variable\n",
      "_ASTHMS1  :  Computed Asthma Status\n",
      "_LMTACT2  :  Limited usual activities\n",
      "_PRACE1  :  Computed Preferred Race\n",
      "_HISPANC  :  Hispanic, Latino/a, or Spanish origin calculated variable\n",
      "_RACEG21  :  Create Computed Non-Hispanic Whites/All Others Race Categories Race/Ethnic Group Codes Used In Post-Stratification Variable\n",
      "_RACE_G1  :  Computed race groups used for internet prevalence tables\n",
      "_AGEG5YR  :  Reported age in five-year age categories calculated variable\n",
      "_AGE80  :  Imputed Age value collapsed above 80\n",
      "HTIN4  :  Computed Height in Inches\n",
      "WTKG3  :  Computed Weight in Kilograms\n",
      "_BMI5CAT  :  Computed body mass index categories\n",
      "_CHLDCNT  :  Computed number of children in household\n",
      "_INCOMG  :  Computed income categories\n",
      "_RFSMOK3  :  Current Smoking Calculated Variable\n",
      "DROCDY3_  :  Computed drink-occasions-per-day\n",
      "_DRNKWK1  :  Computed number of drinks of alcohol beverages per week\n",
      "_TOTINDA  :  Leisure Time Physical Activity Calculated Variable\n",
      "METVL21_  :  Activity MET Value for Second Activity\n",
      "FC601_  :  Estimated Functional Capacity\n",
      "ACTIN22_  :  Estimated Activity Intensity for Second Activity\n",
      "PADUR2_  :  Minutes of Second Activity\n",
      "PAFREQ2_  :  Physical Activity Frequency per Week for Second Activity\n",
      "_MINAC21  :  Minutes of Physical Activity per week for Second Activity\n",
      "PAMISS2_  :  Missing Physical Activity Data\n",
      "PAMIN22_  :  Minutes of Physical Activity per week for Second Activity\n",
      "PAVIG12_  :  Minutes of Vigorous Physical Activity per week for First Activity\n",
      "PA2VIGM_  :  Minutes of total Vigorous Physical Activity per week\n",
      "_PAINDX2  :  Physical Activity Index\n",
      "_PA300R3  :  300 Minute Physical Activity Calculated Variable\n",
      "_PASTRNG  :  Muscle Strengthening Recommendation\n",
      "_PASTAE2  :  Aerobic and Strengthening (2-level)\n",
      "FRUTDA2_  :  Computed Fruit intake in times per day\n",
      "FRNCHDA_  :  Computed French Fry intake in times per day\n",
      "VEGEDA2_  :  Computed Other Vegetable intake in times per  day\n",
      "_MISVEG1  :  The number of missing vegetable responses\n",
      "_VEGRES1  :  Missing any vegetable responses\n",
      "_VEGESU1  :  Total vegetables consumed per day\n",
      "_VEGLT1A  :  Consume Vegetables 1 or more times per day\n",
      "_VEG23A  :  Reported consuming Vegetables >23 per day\n",
      "USEMRJN2  :  During the past 30 days, how did you primarily use marijuana?\n",
      "FOODSTMP  :  In the past 12 months have you received food stamps\n",
      "SOMALE  :  Sexual orientation\n",
      "TRNSGNDR  :  Do you consider yourself to be transgender?\n",
      "RCSRLTN2  :  Relationship to child\n",
      "CASTHNO2  :  Child still have asthma?\n",
      "QSTLANG  :  Language identifier\n",
      "_URBSTAT  :  Urban/Rural Status\n",
      "_STSTR  :  Sample Design Stratification Variable\n",
      "_RAWRAKE  :  Raw weighting factor used in raking\n",
      "_IMPRACE  :  Imputed race/ethnicity value\n",
      "_CRACE1  :  Child Non-Hispanic Race including Multiracial\n",
      "_CLLCPWT  :  Final child weight: Land-line and Cell-Phone data\n",
      "_DUALCOR  :  Dual Phone Use Correction Factor\n",
      "_LLCPWT  :  Final weight: Land-line and cell-phone data\n",
      "_PHYS14D  :  Computed Physical Health Status\n",
      "_HCVU651  :  Respondents aged 18-64 with health care coverage\n",
      "_CHOLCH2  :  Cholesterol Checked Calculated Variable\n",
      "_MICHD  :  Ever had CHD or MI\n",
      "_CASTHM1  :  Current Asthma Calculated Variable\n",
      "_DRDXAR2  :  Respondents diagnosed with arthritis\n",
      "_LMTWRK2  :  Limited work activities\n",
      "_MRACE1  :  Calculated non-Hispanic Race including multiracial\n",
      "_RACE  :  Computed Race-Ethnicity grouping\n",
      "_RACEGR3  :  Computed Five level race/ethnicity category.\n",
      "_SEX  :  Calculated sex variable\n",
      "_AGE65YR  :  Reported age in two age groups calculated variable\n",
      "_AGE_G  :  Imputed age in six groups\n",
      "HTM4  :  Computed Height in Meters\n",
      "_BMI5  :  Computed body mass index\n",
      "_RFBMI5  :  Overweight or obese calculated variable\n",
      "_EDUCAG  :  Computed level of education completed categories\n",
      "_SMOKER3  :  Computed Smoking Status\n",
      "DRNKANY5  :  Drink any alcoholic beverages in past 30 days\n",
      "_RFBING5  :  Binge Drinking Calculated Variable\n",
      "_RFDRHV7  :  Heavy Alcohol Consumption  Calculated Variable\n",
      "METVL11_  :  Activity MET Value for First Activity\n",
      "MAXVO21_  :  Estimated Age-Gender Specific Maximum Oxygen Consumption\n",
      "ACTIN12_  :  Estimated Activity Intensity for First Activity\n",
      "PADUR1_  :  Minutes of First Activity\n",
      "PAFREQ1_  :  Physical Activity Frequency per Week for First Activity\n",
      "_MINAC11  :  Minutes of Physical Activity per week for First Activity\n",
      "STRFREQ_  :  Strength Activity Frequency per Week\n",
      "PAMIN12_  :  Minutes of Physical Activity per week for First Activity\n",
      "PA2MIN_  :  Minutes of total Physical Activity per week\n",
      "PAVIG22_  :  Minutes of Vigorous Physical Activity per week for Second Activity\n",
      "_PACAT2  :  Physical Activity Categories\n",
      "_PA150R3  :  150 Minute Physical Activity Calculated Variable\n",
      "_PA30022  :  300 Minute Physical Activity 2-Level Calculated Variable\n",
      "_PAREC2  :  Aerobic and Strengthening Guideline\n",
      "FTJUDA2_  :  Computed Fruit Juice intake in times per day\n",
      "GRENDA1_  :  Computed Dark Green Vegetable intake in times per day\n",
      "POTADA1_  :  Computed Potato Servings per day\n",
      "_MISFRT1  :  The number of missing fruit responses\n",
      "_FRUTSU1  :  Total fruits consumed per day\n",
      "_FRTLT1A  :  Consume Fruit 1 or more times per day\n",
      "_FRT16A  :  Reported consuming Fruit >16 per day\n",
      "_FRUITE1  :  Fruit Exclusion from analyses\n",
      "_FLSHOT7  :  Flu Shot Calculated Variable\n",
      "_AIDTST4  :  Ever been tested for HIV calculated variable\n",
      "_VEGETE1  :  Vegetable Exclusion from analyses\n",
      "_PNEUMO3  :  Pneumonia Vaccination Calculated Variable\n"
     ]
    }
   ],
   "source": [
    "for key, value in a_dictionary.items():\n",
    "    print(key, ' : ', value)"
   ]
  },
  {
   "cell_type": "code",
   "execution_count": 10,
   "id": "682ae889",
   "metadata": {},
   "outputs": [],
   "source": [
    "#select columns to include from list above for health behaviour features predicting general, mental and physical health\n",
    "columns = [\"id\", \"_STATE\", \"GENHLTH\", \"PHYSHLTH\", \"MENTHLTH\", \"POORHLTH\", \"EXRACT11\", \"PAFREQ1_\", \"_MINAC11\", \"ACTIN12_\", \"EXRACT21\", \"PAFREQ2_\", \"_MINAC21\", \"ACTIN22_\",  \"STRFREQ_\", \"PA2MIN_\", \"_METSTAT\", \"_URBSTAT\", \"HTIN4\", \"WTKG3\", \"_RFBMI5\", \"_BMI5\", \"_RFSMOK3\", \"_RFDRHV7\", \"FC601_\", \"FTJUDA2_\",  \"GRENDA1_\", \"VEGEDA2_\", \"POTADA1_\", \"FRNCHDA_\", \"_FRUTSU1\", \"_VEGESU1\", \"_PAINDX2\", \"_PASTRNG\", \"_AGEG5YR\", \"_AGE80\", \"CVDINFR4\", \"CVDCRHD4\", \"CVDSTRK3\", \"ASTHMA3\", \"CHCSCNCR\", \"CHCOCNCR\", \"DIABETE4\", \"ADDEPEV3\", \"CHCKDNY2\", \"HAVARTH4\", \"HLTHCVR1\", \"HLTHPLN1\", \"_IMPRACE\", \"_EDUCAG\", \"INCOME2\"]                 "
   ]
  },
  {
   "cell_type": "code",
   "execution_count": 11,
   "id": "ddb8d7ae",
   "metadata": {},
   "outputs": [
    {
     "name": "stdout",
     "output_type": "stream",
     "text": [
      "Connecting to the PostgreSQL database...\n",
      "Connection successful\n"
     ]
    }
   ],
   "source": [
    "# Connect to the database and repeat process for user_answers\n",
    "conn = connect(param_dic)\n",
    "column_names = columns\n",
    "# Execute the \"SELECT *\" query to save question_info as a datafram\n",
    "health_behaviour_df = postgresql_to_dataframe(conn, f\"select id, _STATE, GENHLTH, PHYSHLTH, MENTHLTH, POORHLTH, EXRACT11, PAFREQ1_, _MINAC11, ACTIN12_, EXRACT21, PAFREQ2_, _MINAC21, ACTIN22_,  STRFREQ_, PA2MIN_, _METSTAT, _URBSTAT, HTIN4, WTKG3, _RFBMI5, _BMI5, _RFSMOK3, _RFDRHV7, FC601_, FTJUDA2_,  GRENDA1_, VEGEDA2_, POTADA1_, FRNCHDA_, _FRUTSU1, _VEGESU1,  _PAINDX2, _PASTRNG, _AGEG5YR, _AGE80, CVDINFR4, CVDCRHD4, CVDSTRK3, ASTHMA3, CHCSCNCR, CHCOCNCR, DIABETE4, ADDEPEV3, CHCKDNY2, HAVARTH4, HLTHCVR1, HLTHPLN1, _IMPRACE, _EDUCAG, INCOME2 from user_answers\", column_names)\n"
   ]
  },
  {
   "cell_type": "code",
   "execution_count": 12,
   "id": "86d58daf",
   "metadata": {},
   "outputs": [
    {
     "data": {
      "text/html": [
       "<div>\n",
       "<style scoped>\n",
       "    .dataframe tbody tr th:only-of-type {\n",
       "        vertical-align: middle;\n",
       "    }\n",
       "\n",
       "    .dataframe tbody tr th {\n",
       "        vertical-align: top;\n",
       "    }\n",
       "\n",
       "    .dataframe thead th {\n",
       "        text-align: right;\n",
       "    }\n",
       "</style>\n",
       "<table border=\"1\" class=\"dataframe\">\n",
       "  <thead>\n",
       "    <tr style=\"text-align: right;\">\n",
       "      <th></th>\n",
       "      <th>id</th>\n",
       "      <th>_STATE</th>\n",
       "      <th>GENHLTH</th>\n",
       "      <th>PHYSHLTH</th>\n",
       "      <th>MENTHLTH</th>\n",
       "      <th>POORHLTH</th>\n",
       "      <th>EXRACT11</th>\n",
       "      <th>PAFREQ1_</th>\n",
       "      <th>_MINAC11</th>\n",
       "      <th>ACTIN12_</th>\n",
       "      <th>...</th>\n",
       "      <th>CHCOCNCR</th>\n",
       "      <th>DIABETE4</th>\n",
       "      <th>ADDEPEV3</th>\n",
       "      <th>CHCKDNY2</th>\n",
       "      <th>HAVARTH4</th>\n",
       "      <th>HLTHCVR1</th>\n",
       "      <th>HLTHPLN1</th>\n",
       "      <th>_IMPRACE</th>\n",
       "      <th>_EDUCAG</th>\n",
       "      <th>INCOME2</th>\n",
       "    </tr>\n",
       "  </thead>\n",
       "  <tbody>\n",
       "    <tr>\n",
       "      <th>0</th>\n",
       "      <td>1</td>\n",
       "      <td>1.0</td>\n",
       "      <td>3.0</td>\n",
       "      <td>15.0</td>\n",
       "      <td>88.0</td>\n",
       "      <td>88.0</td>\n",
       "      <td>None</td>\n",
       "      <td>None</td>\n",
       "      <td>None</td>\n",
       "      <td>None</td>\n",
       "      <td>...</td>\n",
       "      <td>2.0</td>\n",
       "      <td>3.0</td>\n",
       "      <td>2.0</td>\n",
       "      <td>2.0</td>\n",
       "      <td>1.0</td>\n",
       "      <td>None</td>\n",
       "      <td>1.0</td>\n",
       "      <td>2.0</td>\n",
       "      <td>1.0</td>\n",
       "      <td>3.0</td>\n",
       "    </tr>\n",
       "    <tr>\n",
       "      <th>1</th>\n",
       "      <td>2</td>\n",
       "      <td>1.0</td>\n",
       "      <td>4.0</td>\n",
       "      <td>10.0</td>\n",
       "      <td>88.0</td>\n",
       "      <td>10.0</td>\n",
       "      <td>64.0</td>\n",
       "      <td>467.0</td>\n",
       "      <td>28.0</td>\n",
       "      <td>1.0</td>\n",
       "      <td>...</td>\n",
       "      <td>2.0</td>\n",
       "      <td>3.0</td>\n",
       "      <td>2.0</td>\n",
       "      <td>2.0</td>\n",
       "      <td>1.0</td>\n",
       "      <td>None</td>\n",
       "      <td>1.0</td>\n",
       "      <td>1.0</td>\n",
       "      <td>3.0</td>\n",
       "      <td>5.0</td>\n",
       "    </tr>\n",
       "    <tr>\n",
       "      <th>2</th>\n",
       "      <td>3</td>\n",
       "      <td>1.0</td>\n",
       "      <td>3.0</td>\n",
       "      <td>88.0</td>\n",
       "      <td>30.0</td>\n",
       "      <td>88.0</td>\n",
       "      <td>2.0</td>\n",
       "      <td>1000.0</td>\n",
       "      <td>60.0</td>\n",
       "      <td>2.0</td>\n",
       "      <td>...</td>\n",
       "      <td>2.0</td>\n",
       "      <td>1.0</td>\n",
       "      <td>2.0</td>\n",
       "      <td>2.0</td>\n",
       "      <td>1.0</td>\n",
       "      <td>None</td>\n",
       "      <td>1.0</td>\n",
       "      <td>2.0</td>\n",
       "      <td>4.0</td>\n",
       "      <td>7.0</td>\n",
       "    </tr>\n",
       "    <tr>\n",
       "      <th>3</th>\n",
       "      <td>4</td>\n",
       "      <td>1.0</td>\n",
       "      <td>4.0</td>\n",
       "      <td>30.0</td>\n",
       "      <td>88.0</td>\n",
       "      <td>88.0</td>\n",
       "      <td>None</td>\n",
       "      <td>None</td>\n",
       "      <td>None</td>\n",
       "      <td>None</td>\n",
       "      <td>...</td>\n",
       "      <td>2.0</td>\n",
       "      <td>3.0</td>\n",
       "      <td>2.0</td>\n",
       "      <td>2.0</td>\n",
       "      <td>1.0</td>\n",
       "      <td>None</td>\n",
       "      <td>1.0</td>\n",
       "      <td>1.0</td>\n",
       "      <td>3.0</td>\n",
       "      <td>6.0</td>\n",
       "    </tr>\n",
       "    <tr>\n",
       "      <th>4</th>\n",
       "      <td>5</td>\n",
       "      <td>1.0</td>\n",
       "      <td>2.0</td>\n",
       "      <td>88.0</td>\n",
       "      <td>88.0</td>\n",
       "      <td>None</td>\n",
       "      <td>None</td>\n",
       "      <td>None</td>\n",
       "      <td>None</td>\n",
       "      <td>None</td>\n",
       "      <td>...</td>\n",
       "      <td>2.0</td>\n",
       "      <td>3.0</td>\n",
       "      <td>2.0</td>\n",
       "      <td>2.0</td>\n",
       "      <td>2.0</td>\n",
       "      <td>None</td>\n",
       "      <td>1.0</td>\n",
       "      <td>1.0</td>\n",
       "      <td>3.0</td>\n",
       "      <td>99.0</td>\n",
       "    </tr>\n",
       "  </tbody>\n",
       "</table>\n",
       "<p>5 rows × 51 columns</p>\n",
       "</div>"
      ],
      "text/plain": [
       "   id _STATE GENHLTH PHYSHLTH MENTHLTH POORHLTH EXRACT11 PAFREQ1_ _MINAC11  \\\n",
       "0   1    1.0     3.0     15.0     88.0     88.0     None     None     None   \n",
       "1   2    1.0     4.0     10.0     88.0     10.0     64.0    467.0     28.0   \n",
       "2   3    1.0     3.0     88.0     30.0     88.0      2.0   1000.0     60.0   \n",
       "3   4    1.0     4.0     30.0     88.0     88.0     None     None     None   \n",
       "4   5    1.0     2.0     88.0     88.0     None     None     None     None   \n",
       "\n",
       "  ACTIN12_  ... CHCOCNCR DIABETE4 ADDEPEV3 CHCKDNY2 HAVARTH4 HLTHCVR1  \\\n",
       "0     None  ...      2.0      3.0      2.0      2.0      1.0     None   \n",
       "1      1.0  ...      2.0      3.0      2.0      2.0      1.0     None   \n",
       "2      2.0  ...      2.0      1.0      2.0      2.0      1.0     None   \n",
       "3     None  ...      2.0      3.0      2.0      2.0      1.0     None   \n",
       "4     None  ...      2.0      3.0      2.0      2.0      2.0     None   \n",
       "\n",
       "  HLTHPLN1 _IMPRACE _EDUCAG INCOME2  \n",
       "0      1.0      2.0     1.0     3.0  \n",
       "1      1.0      1.0     3.0     5.0  \n",
       "2      1.0      2.0     4.0     7.0  \n",
       "3      1.0      1.0     3.0     6.0  \n",
       "4      1.0      1.0     3.0    99.0  \n",
       "\n",
       "[5 rows x 51 columns]"
      ]
     },
     "execution_count": 12,
     "metadata": {},
     "output_type": "execute_result"
    }
   ],
   "source": [
    "health_behaviour_df.head()"
   ]
  },
  {
   "cell_type": "code",
   "execution_count": 13,
   "id": "fe677feb",
   "metadata": {},
   "outputs": [],
   "source": [
    "#filling blank spaces with NaN\n",
    "health_behaviour_df = health_behaviour_df.fillna(value=np.nan)"
   ]
  },
  {
   "cell_type": "code",
   "execution_count": 16,
   "id": "9ce6cd1d",
   "metadata": {},
   "outputs": [
    {
     "data": {
      "image/png": "[encoded data removed]",
      "text/plain": [
       "<Figure size 432x288 with 1 Axes>"
      ]
     },
     "metadata": {
      "needs_background": "light"
     },
     "output_type": "display_data"
    }
   ],
   "source": [
    "#test distribution of ratio variables\n",
    "bmi = health_behaviour_df['_BMI5'].values.tolist()\n",
    "#print('mean=%.3f stdv=%.3f' % (mean(bmi), std(bmi)))\n",
    "\n",
    "from matplotlib import pyplot\n",
    "pyplot.hist(bmi)\n",
    "pyplot.show()"
   ]
  },
  {
   "cell_type": "code",
   "execution_count": 17,
   "id": "8e39443c",
   "metadata": {},
   "outputs": [],
   "source": [
    "health_behaviour_df.to_csv('Data/uncleaned_health_behaviour.csv', index=False)"
   ]
  },
  {
   "cell_type": "code",
   "execution_count": 14,
   "id": "984ffa6b",
   "metadata": {},
   "outputs": [],
   "source": [
    "#Make a copy of health_behaviour_df to perform value recoding on\n",
    "recoded_health_behaviour_df = health_behaviour_df.copy()"
   ]
  },
  {
   "cell_type": "code",
   "execution_count": 15,
   "id": "ffefc96d",
   "metadata": {},
   "outputs": [
    {
     "name": "stdout",
     "output_type": "stream",
     "text": [
      "id               0\n",
      "_STATE           0\n",
      "GENHLTH         26\n",
      "PHYSHLTH        32\n",
      "MENTHLTH        19\n",
      "POORHLTH    188931\n",
      "EXRACT11    130359\n",
      "PAFREQ1_    140516\n",
      "_MINAC11    146930\n",
      "ACTIN12_    135951\n",
      "EXRACT21    134658\n",
      "PAFREQ2_    237530\n",
      "_MINAC21    147892\n",
      "ACTIN22_    143575\n",
      "STRFREQ_     37082\n",
      "PA2MIN_     140384\n",
      "_METSTAT      8458\n",
      "_URBSTAT      8458\n",
      "HTIN4        20355\n",
      "WTKG3        29748\n",
      "_RFBMI5          0\n",
      "_RFSMOK3         0\n",
      "_RFDRHV7         0\n",
      "FC601_           0\n",
      "FTJUDA2_     38440\n",
      "GRENDA1_     38902\n",
      "VEGEDA2_     43369\n",
      "POTADA1_     42224\n",
      "FRNCHDA_     38866\n",
      "_FRUTSU1     44600\n",
      "_VEGESU1     53430\n",
      "_PAINDX2         0\n",
      "_PASTRNG         0\n",
      "_AGEG5YR         0\n",
      "CVDINFR4        10\n",
      "CVDCRHD4         8\n",
      "CVDSTRK3        11\n",
      "ASTHMA3          8\n",
      "CHCSCNCR         8\n",
      "CHCOCNCR         9\n",
      "DIABETE4         9\n",
      "ADDEPEV3        10\n",
      "CHCKDNY2        11\n",
      "HAVARTH4        10\n",
      "HLTHCVR1    321755\n",
      "HLTHPLN1         9\n",
      "_IMPRACE         0\n",
      "_EDUCAG          0\n",
      "INCOME2       6881\n",
      "dtype: int64\n"
     ]
    }
   ],
   "source": [
    "print(health_behaviour_df.isnull().sum())"
   ]
  },
  {
   "cell_type": "markdown",
   "id": "224da165",
   "metadata": {},
   "source": [
    "## TODO: go through features and correct poorly coded values (e.g. 9999 = no answer)\n",
    "clean up DF for null values\n",
    "clean up poorly encoded variables"
   ]
  },
  {
   "cell_type": "markdown",
   "id": "37ac432c",
   "metadata": {},
   "source": [
    "### GENHLTH \n",
    "#### question: Would you say that in general your health is:\n",
    "\n",
    "Answers currently coded as : \n",
    "   - 1: Excellent\n",
    "   - 2: Very Good\n",
    "   - 3: Good\n",
    "   - 4: Fair\n",
    "   - 5: Poor\n",
    "   - 7: Don't know/Not Sure\n",
    "   - 9: Refused\n",
    "   - BLANK: Not asked or Missing\n",
    "   \n",
    "Recode to: \n",
    "   - Nan: Don't know/Not Sure\n",
    "   - Nan: Refused\n",
    "   - BLANK: Not asked or Missing \n",
    "   - 1: Poor\n",
    "   - 2: Fair\n",
    "   - 3: Good\n",
    "   - 4: Very Good\n",
    "   - 5: Excellent\n",
    "   "
   ]
  },
  {
   "cell_type": "code",
   "execution_count": 16,
   "id": "503e03d7",
   "metadata": {},
   "outputs": [
    {
     "data": {
      "text/plain": [
       "0     3.0\n",
       "1     4.0\n",
       "2     2.0\n",
       "3     3.0\n",
       "4     3.0\n",
       "5     3.0\n",
       "6     1.0\n",
       "7     3.0\n",
       "8     4.0\n",
       "9     2.0\n",
       "10    3.0\n",
       "11    2.0\n",
       "12    3.0\n",
       "13    3.0\n",
       "14    3.0\n",
       "15    3.0\n",
       "16    1.0\n",
       "17    1.0\n",
       "18    4.0\n",
       "19    5.0\n",
       "Name: GENHLTH, dtype: object"
      ]
     },
     "execution_count": 16,
     "metadata": {},
     "output_type": "execute_result"
    }
   ],
   "source": [
    "#print out original gen health values for reference and check data type\n",
    "health_behaviour_df['GENHLTH'].head(20)"
   ]
  },
  {
   "cell_type": "code",
   "execution_count": 17,
   "id": "2daa4dd3",
   "metadata": {},
   "outputs": [],
   "source": [
    "#recode GENHLTH values to new coding scheme described above\n",
    "recoded_health_behaviour_df.loc[health_behaviour_df.GENHLTH == 1., \"GENHLTH\"] = 5\n",
    "recoded_health_behaviour_df.loc[health_behaviour_df.GENHLTH == 2., \"GENHLTH\"] = 4\n",
    "recoded_health_behaviour_df.loc[health_behaviour_df.GENHLTH == 3., \"GENHLTH\"] = 3\n",
    "recoded_health_behaviour_df.loc[health_behaviour_df.GENHLTH == 4., \"GENHLTH\"] = 2\n",
    "recoded_health_behaviour_df.loc[health_behaviour_df.GENHLTH == 5., \"GENHLTH\"] = 1\n",
    "recoded_health_behaviour_df.loc[health_behaviour_df.GENHLTH == 7., \"GENHLTH\"] = np.NaN\n",
    "recoded_health_behaviour_df.loc[health_behaviour_df.GENHLTH == 9., \"GENHLTH\"] = np.NaN"
   ]
  },
  {
   "cell_type": "code",
   "execution_count": 18,
   "id": "5dfbe481",
   "metadata": {},
   "outputs": [],
   "source": [
    "recoded_health_behaviour_df.GENHLTH = pd.to_numeric(recoded_health_behaviour_df.GENHLTH).astype('Int32')"
   ]
  },
  {
   "cell_type": "code",
   "execution_count": 19,
   "id": "a84b5121",
   "metadata": {},
   "outputs": [
    {
     "data": {
      "text/plain": [
       "0     3\n",
       "1     2\n",
       "2     4\n",
       "3     3\n",
       "4     3\n",
       "5     3\n",
       "6     5\n",
       "7     3\n",
       "8     2\n",
       "9     4\n",
       "10    3\n",
       "11    4\n",
       "12    3\n",
       "13    3\n",
       "14    3\n",
       "15    3\n",
       "16    5\n",
       "17    5\n",
       "18    2\n",
       "19    1\n",
       "Name: GENHLTH, dtype: Int32"
      ]
     },
     "execution_count": 19,
     "metadata": {},
     "output_type": "execute_result"
    }
   ],
   "source": [
    "#print to confirm values were recoded correctly\n",
    "recoded_health_behaviour_df['GENHLTH'].head(20)"
   ]
  },
  {
   "cell_type": "code",
   "execution_count": 20,
   "id": "b0136e7f",
   "metadata": {},
   "outputs": [
    {
     "name": "stdout",
     "output_type": "stream",
     "text": [
      "id               0\n",
      "_STATE           0\n",
      "GENHLTH       1047\n",
      "PHYSHLTH        32\n",
      "MENTHLTH        19\n",
      "POORHLTH    188931\n",
      "EXRACT11    130359\n",
      "PAFREQ1_    140516\n",
      "_MINAC11    146930\n",
      "ACTIN12_    135951\n",
      "EXRACT21    134658\n",
      "PAFREQ2_    237530\n",
      "_MINAC21    147892\n",
      "ACTIN22_    143575\n",
      "STRFREQ_     37082\n",
      "PA2MIN_     140384\n",
      "_METSTAT      8458\n",
      "_URBSTAT      8458\n",
      "HTIN4        20355\n",
      "WTKG3        29748\n",
      "_RFBMI5          0\n",
      "_RFSMOK3         0\n",
      "_RFDRHV7         0\n",
      "FC601_           0\n",
      "FTJUDA2_     38440\n",
      "GRENDA1_     38902\n",
      "VEGEDA2_     43369\n",
      "POTADA1_     42224\n",
      "FRNCHDA_     38866\n",
      "_FRUTSU1     44600\n",
      "_VEGESU1     53430\n",
      "_PAINDX2         0\n",
      "_PASTRNG         0\n",
      "_AGEG5YR         0\n",
      "CVDINFR4        10\n",
      "CVDCRHD4         8\n",
      "CVDSTRK3        11\n",
      "ASTHMA3          8\n",
      "CHCSCNCR         8\n",
      "CHCOCNCR         9\n",
      "DIABETE4         9\n",
      "ADDEPEV3        10\n",
      "CHCKDNY2        11\n",
      "HAVARTH4        10\n",
      "HLTHCVR1    321755\n",
      "HLTHPLN1         9\n",
      "_IMPRACE         0\n",
      "_EDUCAG          0\n",
      "INCOME2       6881\n",
      "dtype: int64\n"
     ]
    }
   ],
   "source": [
    "print(recoded_health_behaviour_df.isnull().sum())"
   ]
  },
  {
   "cell_type": "markdown",
   "id": "ac58089a",
   "metadata": {},
   "source": [
    "### State Codes\n",
    "original code: \n",
    "- 1: Alabama\n",
    "- 2\tAlaska\t\n",
    "- 4\tArizona\t\n",
    "- 5\tArkansas\t\n",
    "- 6\tCalifornia\t\n",
    "- 8\tColorado\t\n",
    "- 9\tConnecticut\t\n",
    "- 10\tDelaware\t\n",
    "- 11\tDistrict of Columbia\t\n",
    "- 12\tFlorida\t\n",
    "- 13\tGeorgia\t\n",
    "- 15\tHawaii\t\n",
    "- 16\tIdaho\t\n",
    "- 17\tIllinois\t\n",
    "- 18\tIndiana\t\n",
    "- 19\tIowa\t\n",
    "- 20\tKansas\t\n",
    "- 21\tKentucky\t\n",
    "- 22\tLouisiana\t\n",
    "- 23\tMaine\t\n",
    "- 24\tMaryland\t\n",
    "- 25\tMassachusetts\t\n",
    "- 26\tMichigan\t\n",
    "- 27\tMinnesota\t\n",
    "- 28\tMississippi\t\n",
    "- 29\tMissouri\t\n",
    "- 30\tMontana\t\n",
    "- 31\tNebraska\t\n",
    "- 32\tNevada\t\n",
    "- 33\tNew Hampshire\t\n",
    "- 35\tNew Mexico\t\n",
    "- 36\tNew York\t\n",
    "- 37\tNorth Carolina\t\n",
    "- 38\tNorth Dakota\t\n",
    "- 39\tOhio\t\n",
    "- 40\tOklahoma\t\n",
    "- 41\tOregon\t\n",
    "- 42\tPennsylvania\t\n",
    "- 44\tRhode Island\t\n",
    "- 45\tSouth Carolina\t\n",
    "- 46\tSouth Dakota\t\n",
    "- 47\tTennessee\t\n",
    "- 48\tTexas\t\n",
    "- 49\tUtah\t\n",
    "- 50\tVermont\t\n",
    "- 51\tVirginia\t\n",
    "- 53\tWashington\t\n",
    "- 54\tWest Virginia\t\n",
    "- 55\tWisconsin\t\n",
    "- 56\tWyoming\n",
    "- 66\tGuam\t\n",
    "- 72\tPuerto Rico\n",
    "    "
   ]
  },
  {
   "cell_type": "code",
   "execution_count": 21,
   "id": "9f704579",
   "metadata": {},
   "outputs": [],
   "source": [
    "#recode states to two letter codes so they can work with go.choropleth\n",
    "\n",
    "recoded_health_behaviour_df.loc[recoded_health_behaviour_df._STATE == 1, \"_STATE\"] = 'AL'\n",
    "recoded_health_behaviour_df.loc[recoded_health_behaviour_df._STATE == 2, \"_STATE\"] = 'AK'\n",
    "recoded_health_behaviour_df.loc[recoded_health_behaviour_df._STATE == 4, \"_STATE\"] = 'AZ'\n",
    "recoded_health_behaviour_df.loc[recoded_health_behaviour_df._STATE == 5, \"_STATE\"] = 'AR'\n",
    "recoded_health_behaviour_df.loc[recoded_health_behaviour_df._STATE == 6, \"_STATE\"] = 'CA'\n",
    "recoded_health_behaviour_df.loc[recoded_health_behaviour_df._STATE == 8, \"_STATE\"] = 'CO'\n",
    "recoded_health_behaviour_df.loc[recoded_health_behaviour_df._STATE == 9, \"_STATE\"] = 'CT'\n",
    "recoded_health_behaviour_df.loc[recoded_health_behaviour_df._STATE == 10, \"_STATE\"] = 'DE'\n",
    "recoded_health_behaviour_df.loc[recoded_health_behaviour_df._STATE == 11, \"_STATE\"] = 'DC'\n",
    "recoded_health_behaviour_df.loc[recoded_health_behaviour_df._STATE == 12, \"_STATE\"] = 'FL'\n",
    "recoded_health_behaviour_df.loc[recoded_health_behaviour_df._STATE == 13, \"_STATE\"] = 'GA'\n",
    "recoded_health_behaviour_df.loc[recoded_health_behaviour_df._STATE == 15, \"_STATE\"] = 'HI'\n",
    "recoded_health_behaviour_df.loc[recoded_health_behaviour_df._STATE == 16, \"_STATE\"] = 'ID'\n",
    "recoded_health_behaviour_df.loc[recoded_health_behaviour_df._STATE == 17, \"_STATE\"] = 'IL'\n",
    "recoded_health_behaviour_df.loc[recoded_health_behaviour_df._STATE == 18, \"_STATE\"] = 'IN'\n",
    "recoded_health_behaviour_df.loc[recoded_health_behaviour_df._STATE == 19, \"_STATE\"] = 'IA'\n",
    "recoded_health_behaviour_df.loc[recoded_health_behaviour_df._STATE == 20, \"_STATE\"] = 'KS'\n",
    "recoded_health_behaviour_df.loc[recoded_health_behaviour_df._STATE == 21, \"_STATE\"] = 'KY'\n",
    "recoded_health_behaviour_df.loc[recoded_health_behaviour_df._STATE == 22, \"_STATE\"] = 'LA'\n",
    "recoded_health_behaviour_df.loc[recoded_health_behaviour_df._STATE == 23, \"_STATE\"] = 'ME'\n",
    "recoded_health_behaviour_df.loc[recoded_health_behaviour_df._STATE == 24, \"_STATE\"] = 'MD'\n",
    "recoded_health_behaviour_df.loc[recoded_health_behaviour_df._STATE == 25, \"_STATE\"] = 'MA'\n",
    "recoded_health_behaviour_df.loc[recoded_health_behaviour_df._STATE == 26, \"_STATE\"] = 'MI'\n",
    "recoded_health_behaviour_df.loc[recoded_health_behaviour_df._STATE == 27, \"_STATE\"] = 'MN'\n",
    "recoded_health_behaviour_df.loc[recoded_health_behaviour_df._STATE == 28, \"_STATE\"] = 'MS'\n",
    "recoded_health_behaviour_df.loc[recoded_health_behaviour_df._STATE == 29, \"_STATE\"] = 'MO'\n",
    "recoded_health_behaviour_df.loc[recoded_health_behaviour_df._STATE == 30, \"_STATE\"] = 'MT'\n",
    "recoded_health_behaviour_df.loc[recoded_health_behaviour_df._STATE == 31, \"_STATE\"] = 'NE'\n",
    "recoded_health_behaviour_df.loc[recoded_health_behaviour_df._STATE == 32, \"_STATE\"] = 'NV'\n",
    "recoded_health_behaviour_df.loc[recoded_health_behaviour_df._STATE == 33, \"_STATE\"] = 'NH'\n",
    "recoded_health_behaviour_df.loc[recoded_health_behaviour_df._STATE == 35, \"_STATE\"] = 'NM'\n",
    "recoded_health_behaviour_df.loc[recoded_health_behaviour_df._STATE == 36, \"_STATE\"] = 'NY'\n",
    "recoded_health_behaviour_df.loc[recoded_health_behaviour_df._STATE == 37, \"_STATE\"] = 'NC'\n",
    "recoded_health_behaviour_df.loc[recoded_health_behaviour_df._STATE == 38, \"_STATE\"] = 'ND'\n",
    "recoded_health_behaviour_df.loc[recoded_health_behaviour_df._STATE == 39, \"_STATE\"] = 'OH'\n",
    "recoded_health_behaviour_df.loc[recoded_health_behaviour_df._STATE == 40, \"_STATE\"] = 'OK'\n",
    "recoded_health_behaviour_df.loc[recoded_health_behaviour_df._STATE == 41, \"_STATE\"] = 'OR'\n",
    "recoded_health_behaviour_df.loc[recoded_health_behaviour_df._STATE == 42, \"_STATE\"] = 'PA'\n",
    "recoded_health_behaviour_df.loc[recoded_health_behaviour_df._STATE == 44, \"_STATE\"] = 'RI'\n",
    "recoded_health_behaviour_df.loc[recoded_health_behaviour_df._STATE == 45, \"_STATE\"] = 'SC'\n",
    "recoded_health_behaviour_df.loc[recoded_health_behaviour_df._STATE == 46, \"_STATE\"] = 'SD'\n",
    "recoded_health_behaviour_df.loc[recoded_health_behaviour_df._STATE == 47, \"_STATE\"] = 'TN'\n",
    "recoded_health_behaviour_df.loc[recoded_health_behaviour_df._STATE == 48, \"_STATE\"] = 'TX'\n",
    "recoded_health_behaviour_df.loc[recoded_health_behaviour_df._STATE == 49, \"_STATE\"] = 'UT'\n",
    "recoded_health_behaviour_df.loc[recoded_health_behaviour_df._STATE == 50, \"_STATE\"] = 'VT'\n",
    "recoded_health_behaviour_df.loc[recoded_health_behaviour_df._STATE == 51, \"_STATE\"] = 'VA'\n",
    "recoded_health_behaviour_df.loc[recoded_health_behaviour_df._STATE == 53, \"_STATE\"] = 'WA'\n",
    "recoded_health_behaviour_df.loc[recoded_health_behaviour_df._STATE == 54, \"_STATE\"] = 'WV'\n",
    "recoded_health_behaviour_df.loc[recoded_health_behaviour_df._STATE == 55, \"_STATE\"] = 'WI'\n",
    "recoded_health_behaviour_df.loc[recoded_health_behaviour_df._STATE == 56, \"_STATE\"] = 'WY'\n",
    "recoded_health_behaviour_df.loc[recoded_health_behaviour_df._STATE == 66, \"_STATE\"] = 'GU'\n",
    "recoded_health_behaviour_df.loc[recoded_health_behaviour_df._STATE == 72, \"_STATE\"] = 'PR'"
   ]
  },
  {
   "cell_type": "markdown",
   "id": "955aa04c",
   "metadata": {},
   "source": [
    "### _PAINDX2\n",
    "#### Question:  Physical Activity Index\n",
    "Values originally coded as:\n",
    "- 1: Meet Aerobic Recommendations\n",
    "- 2: Did Not Meet Aerobic Recommendations\n",
    "- 9: Don’t know/Not Sure/Refused/Missing\n",
    "\n",
    "Recode to:\n",
    "- 1: Meet Aerobic Recommendations\n",
    "- 2: Did Not Meet Aerobic Recommendations\n",
    "- Nan: Don’t know/Not Sure/Refused/Missing\n",
    "    "
   ]
  },
  {
   "cell_type": "code",
   "execution_count": 22,
   "id": "9ff14644",
   "metadata": {},
   "outputs": [
    {
     "data": {
      "text/plain": [
       "0     1.0\n",
       "1     2.0\n",
       "2     1.0\n",
       "3     1.0\n",
       "4     1.0\n",
       "5     1.0\n",
       "6     2.0\n",
       "7     9.0\n",
       "8     1.0\n",
       "9     2.0\n",
       "10    2.0\n",
       "11    2.0\n",
       "12    2.0\n",
       "13    2.0\n",
       "14    1.0\n",
       "15    2.0\n",
       "16    1.0\n",
       "17    9.0\n",
       "18    2.0\n",
       "19    2.0\n",
       "Name: _PAINDX2, dtype: object"
      ]
     },
     "execution_count": 22,
     "metadata": {},
     "output_type": "execute_result"
    }
   ],
   "source": [
    "recoded_health_behaviour_df['_PAINDX2'].head(20)"
   ]
  },
  {
   "cell_type": "code",
   "execution_count": 23,
   "id": "8b448a8f",
   "metadata": {},
   "outputs": [],
   "source": [
    "# recode values to new coding scheme described above\n",
    "recoded_health_behaviour_df.loc[health_behaviour_df._PAINDX2 == 9, \"_PAINDX2\"] = np.NaN\n",
    "recoded_health_behaviour_df._PAINDX2 = pd.to_numeric(recoded_health_behaviour_df._PAINDX2).astype('Int32')"
   ]
  },
  {
   "cell_type": "code",
   "execution_count": 24,
   "id": "d7687a11",
   "metadata": {},
   "outputs": [
    {
     "data": {
      "text/plain": [
       "<IntegerArray>\n",
       "[1, 2, <NA>]\n",
       "Length: 3, dtype: Int32"
      ]
     },
     "execution_count": 24,
     "metadata": {},
     "output_type": "execute_result"
    }
   ],
   "source": [
    "recoded_health_behaviour_df['_PAINDX2'].unique()"
   ]
  },
  {
   "cell_type": "markdown",
   "id": "fadc09f2",
   "metadata": {},
   "source": [
    "### _PASTRNG\n",
    "#### Question:  Muscle Strengthening Recommendation\n",
    "Originally coded as:\n",
    "- 1: Meet muscle strengthening recommendations\n",
    "- 2: Did not meet muscle strengthening recommendations\n",
    "- 9: Don’t know/Not Sure/Refused/Missing\n",
    "\n",
    "Recode to:\n",
    "- 1: Meet muscle strengthening recommendations\n",
    "- 2: Did not meet muscle strengthening recommendations\n",
    "- Nan: Don’t know/Not Sure/Refused/Missing"
   ]
  },
  {
   "cell_type": "code",
   "execution_count": 25,
   "id": "934cf069",
   "metadata": {},
   "outputs": [
    {
     "data": {
      "text/plain": [
       "array([Decimal('2.0'), Decimal('1.0'), Decimal('9.0')], dtype=object)"
      ]
     },
     "execution_count": 25,
     "metadata": {},
     "output_type": "execute_result"
    }
   ],
   "source": [
    "recoded_health_behaviour_df['_PASTRNG'].unique()"
   ]
  },
  {
   "cell_type": "code",
   "execution_count": 26,
   "id": "9899b7d5",
   "metadata": {},
   "outputs": [],
   "source": [
    "# recode values to new coding scheme described above\n",
    "recoded_health_behaviour_df.loc[health_behaviour_df._PASTRNG == 9, \"_PASTRNG\"] = np.NaN\n",
    "recoded_health_behaviour_df._PASTRNG = pd.to_numeric(recoded_health_behaviour_df._PASTRNG).astype('Int32')"
   ]
  },
  {
   "cell_type": "code",
   "execution_count": 27,
   "id": "6d159471",
   "metadata": {},
   "outputs": [
    {
     "data": {
      "text/plain": [
       "<IntegerArray>\n",
       "[2, 1, <NA>]\n",
       "Length: 3, dtype: Int32"
      ]
     },
     "execution_count": 27,
     "metadata": {},
     "output_type": "execute_result"
    }
   ],
   "source": [
    "recoded_health_behaviour_df['_PASTRNG'].unique()"
   ]
  },
  {
   "cell_type": "markdown",
   "id": "2c42fd18",
   "metadata": {},
   "source": [
    "### _FRUTSU1\n",
    "#### Question:  Total fruits consumed per day\n",
    "Originally coded as: \n",
    "- 0-99998: Number of Fruits consumed per day (two implied decimal places)\n",
    "- BLANK: Not asked or Missing\n",
    "\n",
    "Recode to:\n",
    "- 0.00-999.98: Number of Fruits consumed per day\n",
    "- Nan: Not asked or Missing"
   ]
  },
  {
   "cell_type": "code",
   "execution_count": 28,
   "id": "db388c40",
   "metadata": {},
   "outputs": [
    {
     "data": {
      "text/plain": [
       "0       NaN\n",
       "1     114.0\n",
       "2      10.0\n",
       "3      46.0\n",
       "4     100.0\n",
       "5     329.0\n",
       "6     114.0\n",
       "7       NaN\n",
       "8     100.0\n",
       "9     203.0\n",
       "10     86.0\n",
       "11      NaN\n",
       "12     43.0\n",
       "13      NaN\n",
       "14    200.0\n",
       "15     57.0\n",
       "16    214.0\n",
       "17      NaN\n",
       "18     45.0\n",
       "19     13.0\n",
       "Name: _FRUTSU1, dtype: object"
      ]
     },
     "execution_count": 28,
     "metadata": {},
     "output_type": "execute_result"
    }
   ],
   "source": [
    "recoded_health_behaviour_df['_FRUTSU1'].head(20)"
   ]
  },
  {
   "cell_type": "code",
   "execution_count": 29,
   "id": "1a3faebc",
   "metadata": {},
   "outputs": [],
   "source": [
    "#TODO: convert to int to remove decimal place, convert to string then interate through and insert decimal before last two digits, convert to float"
   ]
  },
  {
   "cell_type": "code",
   "execution_count": 30,
   "id": "faec9a5a",
   "metadata": {},
   "outputs": [],
   "source": [
    "recoded_health_behaviour_df['_FRUTSU1'] = recoded_health_behaviour_df['_FRUTSU1'].fillna(100000).astype(float)"
   ]
  },
  {
   "cell_type": "code",
   "execution_count": 31,
   "id": "d0119f51",
   "metadata": {},
   "outputs": [
    {
     "data": {
      "text/plain": [
       "0     100000.0\n",
       "1        114.0\n",
       "2         10.0\n",
       "3         46.0\n",
       "4        100.0\n",
       "5        329.0\n",
       "6        114.0\n",
       "7     100000.0\n",
       "8        100.0\n",
       "9        203.0\n",
       "10        86.0\n",
       "11    100000.0\n",
       "12        43.0\n",
       "13    100000.0\n",
       "14       200.0\n",
       "15        57.0\n",
       "16       214.0\n",
       "17    100000.0\n",
       "18        45.0\n",
       "19        13.0\n",
       "Name: _FRUTSU1, dtype: float64"
      ]
     },
     "execution_count": 31,
     "metadata": {},
     "output_type": "execute_result"
    }
   ],
   "source": [
    "recoded_health_behaviour_df['_FRUTSU1'].head(20)"
   ]
  },
  {
   "cell_type": "code",
   "execution_count": 32,
   "id": "8aca9318",
   "metadata": {},
   "outputs": [],
   "source": [
    "recoded_health_behaviour_df['_FRUTSU1'] = recoded_health_behaviour_df['_FRUTSU1'].div(100).round(2)"
   ]
  },
  {
   "cell_type": "code",
   "execution_count": 33,
   "id": "d7117432",
   "metadata": {},
   "outputs": [
    {
     "data": {
      "text/plain": [
       "0     1000.00\n",
       "1        1.14\n",
       "2        0.10\n",
       "3        0.46\n",
       "4        1.00\n",
       "5        3.29\n",
       "6        1.14\n",
       "7     1000.00\n",
       "8        1.00\n",
       "9        2.03\n",
       "10       0.86\n",
       "11    1000.00\n",
       "12       0.43\n",
       "13    1000.00\n",
       "14       2.00\n",
       "15       0.57\n",
       "16       2.14\n",
       "17    1000.00\n",
       "18       0.45\n",
       "19       0.13\n",
       "Name: _FRUTSU1, dtype: float64"
      ]
     },
     "execution_count": 33,
     "metadata": {},
     "output_type": "execute_result"
    }
   ],
   "source": [
    "recoded_health_behaviour_df['_FRUTSU1'].head(20)"
   ]
  },
  {
   "cell_type": "code",
   "execution_count": 34,
   "id": "ac0a3bee",
   "metadata": {},
   "outputs": [],
   "source": [
    "recoded_health_behaviour_df['_FRUTSU1'] = recoded_health_behaviour_df['_FRUTSU1'].mask(np.isclose(recoded_health_behaviour_df['_FRUTSU1'].values, 1000.00))"
   ]
  },
  {
   "cell_type": "code",
   "execution_count": 35,
   "id": "517e0a6d",
   "metadata": {},
   "outputs": [
    {
     "data": {
      "text/plain": [
       "0      NaN\n",
       "1     1.14\n",
       "2     0.10\n",
       "3     0.46\n",
       "4     1.00\n",
       "5     3.29\n",
       "6     1.14\n",
       "7      NaN\n",
       "8     1.00\n",
       "9     2.03\n",
       "10    0.86\n",
       "11     NaN\n",
       "12    0.43\n",
       "13     NaN\n",
       "14    2.00\n",
       "15    0.57\n",
       "16    2.14\n",
       "17     NaN\n",
       "18    0.45\n",
       "19    0.13\n",
       "Name: _FRUTSU1, dtype: float64"
      ]
     },
     "execution_count": 35,
     "metadata": {},
     "output_type": "execute_result"
    }
   ],
   "source": [
    "recoded_health_behaviour_df['_FRUTSU1'].head(20)"
   ]
  },
  {
   "cell_type": "markdown",
   "id": "803ba5e5",
   "metadata": {},
   "source": [
    "###  _VEGESU1\n",
    "#### Question:  Total vegetables consumed per day\n",
    "Originally coded as: \n",
    "- 0-99998: Number of Vegetables consumed per day (two implied decimal places)\n",
    "- BLANK: Not asked or Missing\n",
    "\n",
    "Recode to:\n",
    "- 0.00-999.98: Number of Vegetables consumed per day\n",
    "- Nan: Not asked or Missing"
   ]
  },
  {
   "cell_type": "code",
   "execution_count": 36,
   "id": "36aca10e",
   "metadata": {},
   "outputs": [
    {
     "data": {
      "text/plain": [
       "0       NaN\n",
       "1      89.0\n",
       "2     179.0\n",
       "3     113.0\n",
       "4      89.0\n",
       "5      82.0\n",
       "6     235.0\n",
       "7       NaN\n",
       "8      75.0\n",
       "9     135.0\n",
       "10    100.0\n",
       "11     61.0\n",
       "12    129.0\n",
       "13      NaN\n",
       "14    200.0\n",
       "15      NaN\n",
       "16    310.0\n",
       "17      NaN\n",
       "18     46.0\n",
       "19    414.0\n",
       "Name: _VEGESU1, dtype: object"
      ]
     },
     "execution_count": 36,
     "metadata": {},
     "output_type": "execute_result"
    }
   ],
   "source": [
    "recoded_health_behaviour_df['_VEGESU1'].head(20)"
   ]
  },
  {
   "cell_type": "code",
   "execution_count": 37,
   "id": "ca3cb0a0",
   "metadata": {},
   "outputs": [
    {
     "data": {
      "text/plain": [
       "0      NaN\n",
       "1     0.89\n",
       "2     1.79\n",
       "3     1.13\n",
       "4     0.89\n",
       "5     0.82\n",
       "6     2.35\n",
       "7      NaN\n",
       "8     0.75\n",
       "9     1.35\n",
       "10    1.00\n",
       "11    0.61\n",
       "12    1.29\n",
       "13     NaN\n",
       "14    2.00\n",
       "15     NaN\n",
       "16    3.10\n",
       "17     NaN\n",
       "18    0.46\n",
       "19    4.14\n",
       "Name: _VEGESU1, dtype: float64"
      ]
     },
     "execution_count": 37,
     "metadata": {},
     "output_type": "execute_result"
    }
   ],
   "source": [
    "recoded_health_behaviour_df['_VEGESU1'] = recoded_health_behaviour_df['_VEGESU1'].fillna(100000).astype(float)\n",
    "recoded_health_behaviour_df['_VEGESU1'] = recoded_health_behaviour_df['_VEGESU1'].div(100).round(2)\n",
    "recoded_health_behaviour_df['_VEGESU1'] = recoded_health_behaviour_df['_VEGESU1'].mask(np.isclose(recoded_health_behaviour_df['_VEGESU1'].values, 1000.00))\n",
    "recoded_health_behaviour_df['_VEGESU1'].head(20)"
   ]
  },
  {
   "cell_type": "code",
   "execution_count": 38,
   "id": "bdcfebec",
   "metadata": {},
   "outputs": [],
   "source": [
    "state_veg_mean = recoded_health_behaviour_df.groupby('_STATE')['_VEGESU1'].mean().reset_index()"
   ]
  },
  {
   "cell_type": "markdown",
   "id": "899c067e",
   "metadata": {},
   "source": [
    "## FRNCHDA_\n",
    "Question:  French Fry intake in times per day\n",
    "Originally coded as: \n",
    "- 0-99998: Times per day (two implied decimal places)\n",
    "- BLANK: Not asked or Missing\n",
    "\n",
    "Recode to:\n",
    "- 0.00-999.98: Times per week\n",
    "- Nan: Not asked or Missing"
   ]
  },
  {
   "cell_type": "code",
   "execution_count": 39,
   "id": "1677a36a",
   "metadata": {},
   "outputs": [
    {
     "data": {
      "text/plain": [
       "0      NaN\n",
       "1     14.0\n",
       "2     33.0\n",
       "3     29.0\n",
       "4     29.0\n",
       "5      3.0\n",
       "6      7.0\n",
       "7      NaN\n",
       "8      3.0\n",
       "9     43.0\n",
       "10    43.0\n",
       "11     3.0\n",
       "12     0.0\n",
       "13     NaN\n",
       "14     0.0\n",
       "15     0.0\n",
       "16     0.0\n",
       "17     NaN\n",
       "18    13.0\n",
       "19    57.0\n",
       "Name: FRNCHDA_, dtype: object"
      ]
     },
     "execution_count": 39,
     "metadata": {},
     "output_type": "execute_result"
    }
   ],
   "source": [
    "recoded_health_behaviour_df['FRNCHDA_'].head(20)"
   ]
  },
  {
   "cell_type": "code",
   "execution_count": 40,
   "id": "1b69db27",
   "metadata": {},
   "outputs": [],
   "source": [
    "recoded_health_behaviour_df['FRNCHDA_'] = recoded_health_behaviour_df['FRNCHDA_']*7\n",
    "recoded_health_behaviour_df['FRNCHDA_'] = recoded_health_behaviour_df['FRNCHDA_'].fillna(100000).astype(float)\n",
    "recoded_health_behaviour_df['FRNCHDA_'] = recoded_health_behaviour_df['FRNCHDA_'].div(100).round(2)\n",
    "\n"
   ]
  },
  {
   "cell_type": "code",
   "execution_count": 41,
   "id": "36e47261",
   "metadata": {},
   "outputs": [
    {
     "data": {
      "text/plain": [
       "0      NaN\n",
       "1     0.98\n",
       "2     2.31\n",
       "3     2.03\n",
       "4     2.03\n",
       "5     0.21\n",
       "6     0.49\n",
       "7      NaN\n",
       "8     0.21\n",
       "9     3.01\n",
       "10    3.01\n",
       "11    0.21\n",
       "12    0.00\n",
       "13     NaN\n",
       "14    0.00\n",
       "15    0.00\n",
       "16    0.00\n",
       "17     NaN\n",
       "18    0.91\n",
       "19    3.99\n",
       "Name: FRNCHDA_, dtype: float64"
      ]
     },
     "execution_count": 41,
     "metadata": {},
     "output_type": "execute_result"
    }
   ],
   "source": [
    "recoded_health_behaviour_df['FRNCHDA_'] = recoded_health_behaviour_df['FRNCHDA_'].mask(np.isclose(recoded_health_behaviour_df['FRNCHDA_'].values, 1000.00))\n",
    "recoded_health_behaviour_df['FRNCHDA_'].head(20)"
   ]
  },
  {
   "cell_type": "code",
   "execution_count": 42,
   "id": "19b1b0a2",
   "metadata": {},
   "outputs": [],
   "source": [
    "state_fry_mean = recoded_health_behaviour_df.groupby('_STATE')['FRNCHDA_'].mean().reset_index()"
   ]
  },
  {
   "cell_type": "markdown",
   "id": "5abd6af8",
   "metadata": {},
   "source": [
    "## TODO: get mean values per state for chloropleth maps"
   ]
  },
  {
   "cell_type": "markdown",
   "id": "4e26c74f",
   "metadata": {},
   "source": [
    "### Health Behaviours Chloropleth maps by state"
   ]
  },
  {
   "cell_type": "code",
   "execution_count": 43,
   "id": "5440c84d",
   "metadata": {},
   "outputs": [],
   "source": [
    "### Fruits per day by state"
   ]
  },
  {
   "cell_type": "code",
   "execution_count": 44,
   "id": "5de8d784",
   "metadata": {},
   "outputs": [],
   "source": [
    "state_fruit_mean = recoded_health_behaviour_df.groupby('_STATE')['_FRUTSU1'].mean().reset_index()"
   ]
  },
  {
   "cell_type": "code",
   "execution_count": 45,
   "id": "50f94ef4",
   "metadata": {},
   "outputs": [
    {
     "data": {
      "text/html": [
       "<div>\n",
       "<style scoped>\n",
       "    .dataframe tbody tr th:only-of-type {\n",
       "        vertical-align: middle;\n",
       "    }\n",
       "\n",
       "    .dataframe tbody tr th {\n",
       "        vertical-align: top;\n",
       "    }\n",
       "\n",
       "    .dataframe thead th {\n",
       "        text-align: right;\n",
       "    }\n",
       "</style>\n",
       "<table border=\"1\" class=\"dataframe\">\n",
       "  <thead>\n",
       "    <tr style=\"text-align: right;\">\n",
       "      <th></th>\n",
       "      <th>_STATE</th>\n",
       "      <th>_FRUTSU1</th>\n",
       "    </tr>\n",
       "  </thead>\n",
       "  <tbody>\n",
       "    <tr>\n",
       "      <th>0</th>\n",
       "      <td>AK</td>\n",
       "      <td>1.540369</td>\n",
       "    </tr>\n",
       "    <tr>\n",
       "      <th>1</th>\n",
       "      <td>AL</td>\n",
       "      <td>1.232993</td>\n",
       "    </tr>\n",
       "    <tr>\n",
       "      <th>2</th>\n",
       "      <td>AR</td>\n",
       "      <td>1.569661</td>\n",
       "    </tr>\n",
       "    <tr>\n",
       "      <th>3</th>\n",
       "      <td>AZ</td>\n",
       "      <td>1.748288</td>\n",
       "    </tr>\n",
       "    <tr>\n",
       "      <th>4</th>\n",
       "      <td>CA</td>\n",
       "      <td>1.435239</td>\n",
       "    </tr>\n",
       "    <tr>\n",
       "      <th>5</th>\n",
       "      <td>CO</td>\n",
       "      <td>1.396317</td>\n",
       "    </tr>\n",
       "    <tr>\n",
       "      <th>6</th>\n",
       "      <td>CT</td>\n",
       "      <td>1.946547</td>\n",
       "    </tr>\n",
       "    <tr>\n",
       "      <th>7</th>\n",
       "      <td>DC</td>\n",
       "      <td>1.532979</td>\n",
       "    </tr>\n",
       "    <tr>\n",
       "      <th>8</th>\n",
       "      <td>DE</td>\n",
       "      <td>1.426221</td>\n",
       "    </tr>\n",
       "    <tr>\n",
       "      <th>9</th>\n",
       "      <td>FL</td>\n",
       "      <td>1.394397</td>\n",
       "    </tr>\n",
       "    <tr>\n",
       "      <th>10</th>\n",
       "      <td>GA</td>\n",
       "      <td>1.316258</td>\n",
       "    </tr>\n",
       "    <tr>\n",
       "      <th>11</th>\n",
       "      <td>GU</td>\n",
       "      <td>1.327064</td>\n",
       "    </tr>\n",
       "    <tr>\n",
       "      <th>12</th>\n",
       "      <td>HI</td>\n",
       "      <td>1.372681</td>\n",
       "    </tr>\n",
       "    <tr>\n",
       "      <th>13</th>\n",
       "      <td>IA</td>\n",
       "      <td>1.334835</td>\n",
       "    </tr>\n",
       "    <tr>\n",
       "      <th>14</th>\n",
       "      <td>ID</td>\n",
       "      <td>1.370627</td>\n",
       "    </tr>\n",
       "    <tr>\n",
       "      <th>15</th>\n",
       "      <td>IL</td>\n",
       "      <td>1.434555</td>\n",
       "    </tr>\n",
       "    <tr>\n",
       "      <th>16</th>\n",
       "      <td>IN</td>\n",
       "      <td>1.837262</td>\n",
       "    </tr>\n",
       "    <tr>\n",
       "      <th>17</th>\n",
       "      <td>KS</td>\n",
       "      <td>1.355549</td>\n",
       "    </tr>\n",
       "    <tr>\n",
       "      <th>18</th>\n",
       "      <td>KY</td>\n",
       "      <td>1.135081</td>\n",
       "    </tr>\n",
       "    <tr>\n",
       "      <th>19</th>\n",
       "      <td>LA</td>\n",
       "      <td>1.254212</td>\n",
       "    </tr>\n",
       "  </tbody>\n",
       "</table>\n",
       "</div>"
      ],
      "text/plain": [
       "   _STATE  _FRUTSU1\n",
       "0      AK  1.540369\n",
       "1      AL  1.232993\n",
       "2      AR  1.569661\n",
       "3      AZ  1.748288\n",
       "4      CA  1.435239\n",
       "5      CO  1.396317\n",
       "6      CT  1.946547\n",
       "7      DC  1.532979\n",
       "8      DE  1.426221\n",
       "9      FL  1.394397\n",
       "10     GA  1.316258\n",
       "11     GU  1.327064\n",
       "12     HI  1.372681\n",
       "13     IA  1.334835\n",
       "14     ID  1.370627\n",
       "15     IL  1.434555\n",
       "16     IN  1.837262\n",
       "17     KS  1.355549\n",
       "18     KY  1.135081\n",
       "19     LA  1.254212"
      ]
     },
     "execution_count": 45,
     "metadata": {},
     "output_type": "execute_result"
    }
   ],
   "source": [
    "state_fruit_mean.head(20)\n"
   ]
  },
  {
   "cell_type": "code",
   "execution_count": 46,
   "id": "9026bcac",
   "metadata": {},
   "outputs": [],
   "source": [
    "## "
   ]
  },
  {
   "cell_type": "code",
   "execution_count": 47,
   "id": "d2d175dd",
   "metadata": {},
   "outputs": [
    {
     "data": {
      "text/html": [
       "<div>\n",
       "<style scoped>\n",
       "    .dataframe tbody tr th:only-of-type {\n",
       "        vertical-align: middle;\n",
       "    }\n",
       "\n",
       "    .dataframe tbody tr th {\n",
       "        vertical-align: top;\n",
       "    }\n",
       "\n",
       "    .dataframe thead th {\n",
       "        text-align: right;\n",
       "    }\n",
       "</style>\n",
       "<table border=\"1\" class=\"dataframe\">\n",
       "  <thead>\n",
       "    <tr style=\"text-align: right;\">\n",
       "      <th></th>\n",
       "      <th>_STATE</th>\n",
       "      <th>_PAINDX2</th>\n",
       "    </tr>\n",
       "  </thead>\n",
       "  <tbody>\n",
       "    <tr>\n",
       "      <th>0</th>\n",
       "      <td>CA</td>\n",
       "      <td>1</td>\n",
       "    </tr>\n",
       "    <tr>\n",
       "      <th>1</th>\n",
       "      <td>CA</td>\n",
       "      <td>2</td>\n",
       "    </tr>\n",
       "    <tr>\n",
       "      <th>2</th>\n",
       "      <td>CA</td>\n",
       "      <td>1</td>\n",
       "    </tr>\n",
       "    <tr>\n",
       "      <th>3</th>\n",
       "      <td>CA</td>\n",
       "      <td>1</td>\n",
       "    </tr>\n",
       "    <tr>\n",
       "      <th>4</th>\n",
       "      <td>CA</td>\n",
       "      <td>1</td>\n",
       "    </tr>\n",
       "    <tr>\n",
       "      <th>5</th>\n",
       "      <td>CA</td>\n",
       "      <td>1</td>\n",
       "    </tr>\n",
       "    <tr>\n",
       "      <th>6</th>\n",
       "      <td>CA</td>\n",
       "      <td>2</td>\n",
       "    </tr>\n",
       "    <tr>\n",
       "      <th>8</th>\n",
       "      <td>CA</td>\n",
       "      <td>1</td>\n",
       "    </tr>\n",
       "    <tr>\n",
       "      <th>9</th>\n",
       "      <td>CA</td>\n",
       "      <td>2</td>\n",
       "    </tr>\n",
       "    <tr>\n",
       "      <th>10</th>\n",
       "      <td>CA</td>\n",
       "      <td>2</td>\n",
       "    </tr>\n",
       "    <tr>\n",
       "      <th>11</th>\n",
       "      <td>CA</td>\n",
       "      <td>2</td>\n",
       "    </tr>\n",
       "    <tr>\n",
       "      <th>12</th>\n",
       "      <td>CA</td>\n",
       "      <td>2</td>\n",
       "    </tr>\n",
       "    <tr>\n",
       "      <th>13</th>\n",
       "      <td>CA</td>\n",
       "      <td>2</td>\n",
       "    </tr>\n",
       "    <tr>\n",
       "      <th>14</th>\n",
       "      <td>CA</td>\n",
       "      <td>1</td>\n",
       "    </tr>\n",
       "    <tr>\n",
       "      <th>15</th>\n",
       "      <td>CA</td>\n",
       "      <td>2</td>\n",
       "    </tr>\n",
       "    <tr>\n",
       "      <th>16</th>\n",
       "      <td>CA</td>\n",
       "      <td>1</td>\n",
       "    </tr>\n",
       "    <tr>\n",
       "      <th>18</th>\n",
       "      <td>CA</td>\n",
       "      <td>2</td>\n",
       "    </tr>\n",
       "    <tr>\n",
       "      <th>19</th>\n",
       "      <td>CA</td>\n",
       "      <td>2</td>\n",
       "    </tr>\n",
       "    <tr>\n",
       "      <th>20</th>\n",
       "      <td>CA</td>\n",
       "      <td>2</td>\n",
       "    </tr>\n",
       "    <tr>\n",
       "      <th>21</th>\n",
       "      <td>CA</td>\n",
       "      <td>2</td>\n",
       "    </tr>\n",
       "  </tbody>\n",
       "</table>\n",
       "</div>"
      ],
      "text/plain": [
       "   _STATE  _PAINDX2\n",
       "0      CA         1\n",
       "1      CA         2\n",
       "2      CA         1\n",
       "3      CA         1\n",
       "4      CA         1\n",
       "5      CA         1\n",
       "6      CA         2\n",
       "8      CA         1\n",
       "9      CA         2\n",
       "10     CA         2\n",
       "11     CA         2\n",
       "12     CA         2\n",
       "13     CA         2\n",
       "14     CA         1\n",
       "15     CA         2\n",
       "16     CA         1\n",
       "18     CA         2\n",
       "19     CA         2\n",
       "20     CA         2\n",
       "21     CA         2"
      ]
     },
     "execution_count": 47,
     "metadata": {},
     "output_type": "execute_result"
    }
   ],
   "source": [
    "### % of state that meets physical activity reccomendations\n",
    "#TODO: group by state, find % of '1': meets reccomendations\n",
    "state_act_mean_df = recoded_health_behaviour_df[['_STATE', '_PAINDX2']].dropna()\n",
    "state_act_mean_df.head(20)"
   ]
  },
  {
   "cell_type": "code",
   "execution_count": 48,
   "id": "ff1a4a63",
   "metadata": {},
   "outputs": [
    {
     "data": {
      "text/html": [
       "<div>\n",
       "<style scoped>\n",
       "    .dataframe tbody tr th:only-of-type {\n",
       "        vertical-align: middle;\n",
       "    }\n",
       "\n",
       "    .dataframe tbody tr th {\n",
       "        vertical-align: top;\n",
       "    }\n",
       "\n",
       "    .dataframe thead th {\n",
       "        text-align: right;\n",
       "    }\n",
       "</style>\n",
       "<table border=\"1\" class=\"dataframe\">\n",
       "  <thead>\n",
       "    <tr style=\"text-align: right;\">\n",
       "      <th></th>\n",
       "      <th>_STATE</th>\n",
       "      <th>_PAINDX2</th>\n",
       "    </tr>\n",
       "  </thead>\n",
       "  <tbody>\n",
       "    <tr>\n",
       "      <th>0</th>\n",
       "      <td>AK</td>\n",
       "      <td>1642</td>\n",
       "    </tr>\n",
       "    <tr>\n",
       "      <th>1</th>\n",
       "      <td>AK</td>\n",
       "      <td>2078</td>\n",
       "    </tr>\n",
       "    <tr>\n",
       "      <th>2</th>\n",
       "      <td>AL</td>\n",
       "      <td>2885</td>\n",
       "    </tr>\n",
       "    <tr>\n",
       "      <th>3</th>\n",
       "      <td>AL</td>\n",
       "      <td>6862</td>\n",
       "    </tr>\n",
       "    <tr>\n",
       "      <th>4</th>\n",
       "      <td>AR</td>\n",
       "      <td>2277</td>\n",
       "    </tr>\n",
       "  </tbody>\n",
       "</table>\n",
       "</div>"
      ],
      "text/plain": [
       "  _STATE  _PAINDX2\n",
       "0     AK      1642\n",
       "1     AK      2078\n",
       "2     AL      2885\n",
       "3     AL      6862\n",
       "4     AR      2277"
      ]
     },
     "execution_count": 48,
     "metadata": {},
     "output_type": "execute_result"
    }
   ],
   "source": [
    "#group by _PAINDX2 and calculate sum of '1' within each state\n",
    "\n",
    "def calc_perc(x): \n",
    "    return 100 * x / float(x.sum())\n",
    "\n",
    "state_act_mean = state_act_mean_df.groupby(['_STATE', '_PAINDX2' ], as_index=False).agg({'_PAINDX2': 'sum'})\n",
    "act_perc_df = state_act_mean.groupby('_STATE').apply(calc_perc)\n",
    "#add back in _STATE column fore reference\n",
    "act_perc_df['_STATE'] = state_act_mean['_STATE']\n",
    "state_act_mean.head()"
   ]
  },
  {
   "cell_type": "code",
   "execution_count": 49,
   "id": "2570228e",
   "metadata": {},
   "outputs": [
    {
     "data": {
      "text/html": [
       "<div>\n",
       "<style scoped>\n",
       "    .dataframe tbody tr th:only-of-type {\n",
       "        vertical-align: middle;\n",
       "    }\n",
       "\n",
       "    .dataframe tbody tr th {\n",
       "        vertical-align: top;\n",
       "    }\n",
       "\n",
       "    .dataframe thead th {\n",
       "        text-align: right;\n",
       "    }\n",
       "</style>\n",
       "<table border=\"1\" class=\"dataframe\">\n",
       "  <thead>\n",
       "    <tr style=\"text-align: right;\">\n",
       "      <th></th>\n",
       "      <th>_PAINDX2</th>\n",
       "      <th>_STATE</th>\n",
       "    </tr>\n",
       "  </thead>\n",
       "  <tbody>\n",
       "    <tr>\n",
       "      <th>0</th>\n",
       "      <td>44.139785</td>\n",
       "      <td>AK</td>\n",
       "    </tr>\n",
       "    <tr>\n",
       "      <th>1</th>\n",
       "      <td>55.860215</td>\n",
       "      <td>AK</td>\n",
       "    </tr>\n",
       "    <tr>\n",
       "      <th>2</th>\n",
       "      <td>29.598851</td>\n",
       "      <td>AL</td>\n",
       "    </tr>\n",
       "    <tr>\n",
       "      <th>3</th>\n",
       "      <td>70.401149</td>\n",
       "      <td>AL</td>\n",
       "    </tr>\n",
       "    <tr>\n",
       "      <th>4</th>\n",
       "      <td>31.196054</td>\n",
       "      <td>AR</td>\n",
       "    </tr>\n",
       "    <tr>\n",
       "      <th>5</th>\n",
       "      <td>68.803946</td>\n",
       "      <td>AR</td>\n",
       "    </tr>\n",
       "    <tr>\n",
       "      <th>6</th>\n",
       "      <td>40.685358</td>\n",
       "      <td>AZ</td>\n",
       "    </tr>\n",
       "    <tr>\n",
       "      <th>7</th>\n",
       "      <td>59.314642</td>\n",
       "      <td>AZ</td>\n",
       "    </tr>\n",
       "    <tr>\n",
       "      <th>8</th>\n",
       "      <td>38.18882</td>\n",
       "      <td>CA</td>\n",
       "    </tr>\n",
       "    <tr>\n",
       "      <th>9</th>\n",
       "      <td>61.81118</td>\n",
       "      <td>CA</td>\n",
       "    </tr>\n",
       "    <tr>\n",
       "      <th>10</th>\n",
       "      <td>43.527172</td>\n",
       "      <td>CO</td>\n",
       "    </tr>\n",
       "    <tr>\n",
       "      <th>11</th>\n",
       "      <td>56.472828</td>\n",
       "      <td>CO</td>\n",
       "    </tr>\n",
       "    <tr>\n",
       "      <th>12</th>\n",
       "      <td>40.344201</td>\n",
       "      <td>CT</td>\n",
       "    </tr>\n",
       "    <tr>\n",
       "      <th>13</th>\n",
       "      <td>59.655799</td>\n",
       "      <td>CT</td>\n",
       "    </tr>\n",
       "    <tr>\n",
       "      <th>14</th>\n",
       "      <td>40.514776</td>\n",
       "      <td>DC</td>\n",
       "    </tr>\n",
       "    <tr>\n",
       "      <th>15</th>\n",
       "      <td>59.485224</td>\n",
       "      <td>DC</td>\n",
       "    </tr>\n",
       "    <tr>\n",
       "      <th>16</th>\n",
       "      <td>34.872798</td>\n",
       "      <td>DE</td>\n",
       "    </tr>\n",
       "    <tr>\n",
       "      <th>17</th>\n",
       "      <td>65.127202</td>\n",
       "      <td>DE</td>\n",
       "    </tr>\n",
       "    <tr>\n",
       "      <th>18</th>\n",
       "      <td>36.988839</td>\n",
       "      <td>FL</td>\n",
       "    </tr>\n",
       "    <tr>\n",
       "      <th>19</th>\n",
       "      <td>63.011161</td>\n",
       "      <td>FL</td>\n",
       "    </tr>\n",
       "  </tbody>\n",
       "</table>\n",
       "</div>"
      ],
      "text/plain": [
       "     _PAINDX2 _STATE\n",
       "0   44.139785     AK\n",
       "1   55.860215     AK\n",
       "2   29.598851     AL\n",
       "3   70.401149     AL\n",
       "4   31.196054     AR\n",
       "5   68.803946     AR\n",
       "6   40.685358     AZ\n",
       "7   59.314642     AZ\n",
       "8    38.18882     CA\n",
       "9    61.81118     CA\n",
       "10  43.527172     CO\n",
       "11  56.472828     CO\n",
       "12  40.344201     CT\n",
       "13  59.655799     CT\n",
       "14  40.514776     DC\n",
       "15  59.485224     DC\n",
       "16  34.872798     DE\n",
       "17  65.127202     DE\n",
       "18  36.988839     FL\n",
       "19  63.011161     FL"
      ]
     },
     "execution_count": 49,
     "metadata": {},
     "output_type": "execute_result"
    }
   ],
   "source": [
    "act_perc_df.head(20)"
   ]
  },
  {
   "cell_type": "code",
   "execution_count": 50,
   "id": "8229fc2b",
   "metadata": {},
   "outputs": [
    {
     "data": {
      "text/html": [
       "<div>\n",
       "<style scoped>\n",
       "    .dataframe tbody tr th:only-of-type {\n",
       "        vertical-align: middle;\n",
       "    }\n",
       "\n",
       "    .dataframe tbody tr th {\n",
       "        vertical-align: top;\n",
       "    }\n",
       "\n",
       "    .dataframe thead th {\n",
       "        text-align: right;\n",
       "    }\n",
       "</style>\n",
       "<table border=\"1\" class=\"dataframe\">\n",
       "  <thead>\n",
       "    <tr style=\"text-align: right;\">\n",
       "      <th></th>\n",
       "      <th>_PAINDX2</th>\n",
       "      <th>_STATE</th>\n",
       "    </tr>\n",
       "  </thead>\n",
       "  <tbody>\n",
       "    <tr>\n",
       "      <th>0</th>\n",
       "      <td>44.139785</td>\n",
       "      <td>AK</td>\n",
       "    </tr>\n",
       "    <tr>\n",
       "      <th>2</th>\n",
       "      <td>29.598851</td>\n",
       "      <td>AL</td>\n",
       "    </tr>\n",
       "    <tr>\n",
       "      <th>4</th>\n",
       "      <td>31.196054</td>\n",
       "      <td>AR</td>\n",
       "    </tr>\n",
       "    <tr>\n",
       "      <th>6</th>\n",
       "      <td>40.685358</td>\n",
       "      <td>AZ</td>\n",
       "    </tr>\n",
       "    <tr>\n",
       "      <th>8</th>\n",
       "      <td>38.18882</td>\n",
       "      <td>CA</td>\n",
       "    </tr>\n",
       "    <tr>\n",
       "      <th>10</th>\n",
       "      <td>43.527172</td>\n",
       "      <td>CO</td>\n",
       "    </tr>\n",
       "    <tr>\n",
       "      <th>12</th>\n",
       "      <td>40.344201</td>\n",
       "      <td>CT</td>\n",
       "    </tr>\n",
       "    <tr>\n",
       "      <th>14</th>\n",
       "      <td>40.514776</td>\n",
       "      <td>DC</td>\n",
       "    </tr>\n",
       "    <tr>\n",
       "      <th>16</th>\n",
       "      <td>34.872798</td>\n",
       "      <td>DE</td>\n",
       "    </tr>\n",
       "    <tr>\n",
       "      <th>18</th>\n",
       "      <td>36.988839</td>\n",
       "      <td>FL</td>\n",
       "    </tr>\n",
       "    <tr>\n",
       "      <th>20</th>\n",
       "      <td>32.31663</td>\n",
       "      <td>GA</td>\n",
       "    </tr>\n",
       "    <tr>\n",
       "      <th>22</th>\n",
       "      <td>32.911392</td>\n",
       "      <td>GU</td>\n",
       "    </tr>\n",
       "    <tr>\n",
       "      <th>24</th>\n",
       "      <td>41.303487</td>\n",
       "      <td>HI</td>\n",
       "    </tr>\n",
       "    <tr>\n",
       "      <th>26</th>\n",
       "      <td>32.387672</td>\n",
       "      <td>IA</td>\n",
       "    </tr>\n",
       "    <tr>\n",
       "      <th>28</th>\n",
       "      <td>41.307534</td>\n",
       "      <td>ID</td>\n",
       "    </tr>\n",
       "    <tr>\n",
       "      <th>30</th>\n",
       "      <td>34.861184</td>\n",
       "      <td>IL</td>\n",
       "    </tr>\n",
       "    <tr>\n",
       "      <th>32</th>\n",
       "      <td>31.325403</td>\n",
       "      <td>IN</td>\n",
       "    </tr>\n",
       "    <tr>\n",
       "      <th>34</th>\n",
       "      <td>33.315751</td>\n",
       "      <td>KS</td>\n",
       "    </tr>\n",
       "    <tr>\n",
       "      <th>36</th>\n",
       "      <td>20.521476</td>\n",
       "      <td>KY</td>\n",
       "    </tr>\n",
       "    <tr>\n",
       "      <th>38</th>\n",
       "      <td>29.90374</td>\n",
       "      <td>LA</td>\n",
       "    </tr>\n",
       "  </tbody>\n",
       "</table>\n",
       "</div>"
      ],
      "text/plain": [
       "     _PAINDX2 _STATE\n",
       "0   44.139785     AK\n",
       "2   29.598851     AL\n",
       "4   31.196054     AR\n",
       "6   40.685358     AZ\n",
       "8    38.18882     CA\n",
       "10  43.527172     CO\n",
       "12  40.344201     CT\n",
       "14  40.514776     DC\n",
       "16  34.872798     DE\n",
       "18  36.988839     FL\n",
       "20   32.31663     GA\n",
       "22  32.911392     GU\n",
       "24  41.303487     HI\n",
       "26  32.387672     IA\n",
       "28  41.307534     ID\n",
       "30  34.861184     IL\n",
       "32  31.325403     IN\n",
       "34  33.315751     KS\n",
       "36  20.521476     KY\n",
       "38   29.90374     LA"
      ]
     },
     "execution_count": 50,
     "metadata": {},
     "output_type": "execute_result"
    }
   ],
   "source": [
    "#Groupy organized states by _PAINDX2 1 sum then 2 sum so remove even numbers dataframe rows to keep only value representing percentage of state that did meet reccomended physical activity\n",
    "pass_state_phys_act = act_perc_df[np.arange(len(act_perc_df)) % 2 == 0]\n",
    "pass_state_phys_act.head(20)\n"
   ]
  },
  {
   "cell_type": "code",
   "execution_count": 51,
   "id": "2589c1d8",
   "metadata": {},
   "outputs": [
    {
     "data": {
      "text/html": [
       "<div>\n",
       "<style scoped>\n",
       "    .dataframe tbody tr th:only-of-type {\n",
       "        vertical-align: middle;\n",
       "    }\n",
       "\n",
       "    .dataframe tbody tr th {\n",
       "        vertical-align: top;\n",
       "    }\n",
       "\n",
       "    .dataframe thead th {\n",
       "        text-align: right;\n",
       "    }\n",
       "</style>\n",
       "<table border=\"1\" class=\"dataframe\">\n",
       "  <thead>\n",
       "    <tr style=\"text-align: right;\">\n",
       "      <th></th>\n",
       "      <th>_STATE</th>\n",
       "      <th>_PASTRNG</th>\n",
       "    </tr>\n",
       "  </thead>\n",
       "  <tbody>\n",
       "    <tr>\n",
       "      <th>0</th>\n",
       "      <td>CA</td>\n",
       "      <td>2</td>\n",
       "    </tr>\n",
       "    <tr>\n",
       "      <th>1</th>\n",
       "      <td>CA</td>\n",
       "      <td>2</td>\n",
       "    </tr>\n",
       "    <tr>\n",
       "      <th>2</th>\n",
       "      <td>CA</td>\n",
       "      <td>2</td>\n",
       "    </tr>\n",
       "    <tr>\n",
       "      <th>3</th>\n",
       "      <td>CA</td>\n",
       "      <td>2</td>\n",
       "    </tr>\n",
       "    <tr>\n",
       "      <th>4</th>\n",
       "      <td>CA</td>\n",
       "      <td>1</td>\n",
       "    </tr>\n",
       "    <tr>\n",
       "      <th>5</th>\n",
       "      <td>CA</td>\n",
       "      <td>2</td>\n",
       "    </tr>\n",
       "    <tr>\n",
       "      <th>6</th>\n",
       "      <td>CA</td>\n",
       "      <td>1</td>\n",
       "    </tr>\n",
       "    <tr>\n",
       "      <th>8</th>\n",
       "      <td>CA</td>\n",
       "      <td>2</td>\n",
       "    </tr>\n",
       "    <tr>\n",
       "      <th>9</th>\n",
       "      <td>CA</td>\n",
       "      <td>1</td>\n",
       "    </tr>\n",
       "    <tr>\n",
       "      <th>10</th>\n",
       "      <td>CA</td>\n",
       "      <td>2</td>\n",
       "    </tr>\n",
       "    <tr>\n",
       "      <th>11</th>\n",
       "      <td>CA</td>\n",
       "      <td>2</td>\n",
       "    </tr>\n",
       "    <tr>\n",
       "      <th>12</th>\n",
       "      <td>CA</td>\n",
       "      <td>2</td>\n",
       "    </tr>\n",
       "    <tr>\n",
       "      <th>13</th>\n",
       "      <td>CA</td>\n",
       "      <td>1</td>\n",
       "    </tr>\n",
       "    <tr>\n",
       "      <th>14</th>\n",
       "      <td>CA</td>\n",
       "      <td>1</td>\n",
       "    </tr>\n",
       "    <tr>\n",
       "      <th>15</th>\n",
       "      <td>CA</td>\n",
       "      <td>1</td>\n",
       "    </tr>\n",
       "    <tr>\n",
       "      <th>16</th>\n",
       "      <td>CA</td>\n",
       "      <td>1</td>\n",
       "    </tr>\n",
       "    <tr>\n",
       "      <th>18</th>\n",
       "      <td>CA</td>\n",
       "      <td>2</td>\n",
       "    </tr>\n",
       "    <tr>\n",
       "      <th>19</th>\n",
       "      <td>CA</td>\n",
       "      <td>2</td>\n",
       "    </tr>\n",
       "    <tr>\n",
       "      <th>20</th>\n",
       "      <td>CA</td>\n",
       "      <td>2</td>\n",
       "    </tr>\n",
       "    <tr>\n",
       "      <th>21</th>\n",
       "      <td>CA</td>\n",
       "      <td>1</td>\n",
       "    </tr>\n",
       "  </tbody>\n",
       "</table>\n",
       "</div>"
      ],
      "text/plain": [
       "   _STATE  _PASTRNG\n",
       "0      CA         2\n",
       "1      CA         2\n",
       "2      CA         2\n",
       "3      CA         2\n",
       "4      CA         1\n",
       "5      CA         2\n",
       "6      CA         1\n",
       "8      CA         2\n",
       "9      CA         1\n",
       "10     CA         2\n",
       "11     CA         2\n",
       "12     CA         2\n",
       "13     CA         1\n",
       "14     CA         1\n",
       "15     CA         1\n",
       "16     CA         1\n",
       "18     CA         2\n",
       "19     CA         2\n",
       "20     CA         2\n",
       "21     CA         1"
      ]
     },
     "execution_count": 51,
     "metadata": {},
     "output_type": "execute_result"
    }
   ],
   "source": [
    "### % of state that meets strength activity reccomendations\n",
    "#TODO: group by state, find % of '1': meets reccomendations\n",
    "state_strength_mean_df = recoded_health_behaviour_df[['_STATE', '_PASTRNG']].dropna()\n",
    "state_strength_mean_df.head(20)"
   ]
  },
  {
   "cell_type": "code",
   "execution_count": 52,
   "id": "9d3175ba",
   "metadata": {},
   "outputs": [
    {
     "data": {
      "text/html": [
       "<div>\n",
       "<style scoped>\n",
       "    .dataframe tbody tr th:only-of-type {\n",
       "        vertical-align: middle;\n",
       "    }\n",
       "\n",
       "    .dataframe tbody tr th {\n",
       "        vertical-align: top;\n",
       "    }\n",
       "\n",
       "    .dataframe thead th {\n",
       "        text-align: right;\n",
       "    }\n",
       "</style>\n",
       "<table border=\"1\" class=\"dataframe\">\n",
       "  <thead>\n",
       "    <tr style=\"text-align: right;\">\n",
       "      <th></th>\n",
       "      <th>_STATE</th>\n",
       "      <th>_PASTRNG</th>\n",
       "    </tr>\n",
       "  </thead>\n",
       "  <tbody>\n",
       "    <tr>\n",
       "      <th>0</th>\n",
       "      <td>AK</td>\n",
       "      <td>1020</td>\n",
       "    </tr>\n",
       "    <tr>\n",
       "      <th>1</th>\n",
       "      <td>AK</td>\n",
       "      <td>3366</td>\n",
       "    </tr>\n",
       "    <tr>\n",
       "      <th>2</th>\n",
       "      <td>AL</td>\n",
       "      <td>1759</td>\n",
       "    </tr>\n",
       "    <tr>\n",
       "      <th>3</th>\n",
       "      <td>AL</td>\n",
       "      <td>9360</td>\n",
       "    </tr>\n",
       "    <tr>\n",
       "      <th>4</th>\n",
       "      <td>AR</td>\n",
       "      <td>1528</td>\n",
       "    </tr>\n",
       "  </tbody>\n",
       "</table>\n",
       "</div>"
      ],
      "text/plain": [
       "  _STATE  _PASTRNG\n",
       "0     AK      1020\n",
       "1     AK      3366\n",
       "2     AL      1759\n",
       "3     AL      9360\n",
       "4     AR      1528"
      ]
     },
     "execution_count": 52,
     "metadata": {},
     "output_type": "execute_result"
    }
   ],
   "source": [
    "#group by _PAINDX2 and calculate sum of '1' within each state\n",
    "\n",
    "def calc_perc(x): \n",
    "    return 100 * x / float(x.sum())\n",
    "\n",
    "state_strength_mean = state_strength_mean_df.groupby(['_STATE', '_PASTRNG' ], as_index=False).agg({'_PASTRNG': 'sum'})\n",
    "strength_perc_df = state_strength_mean.groupby('_STATE').apply(calc_perc)\n",
    "#add back in _STATE column fore reference\n",
    "strength_perc_df['_STATE'] = state_strength_mean['_STATE']\n",
    "state_strength_mean.head()"
   ]
  },
  {
   "cell_type": "code",
   "execution_count": 53,
   "id": "cc31f3d5",
   "metadata": {},
   "outputs": [
    {
     "data": {
      "text/html": [
       "<div>\n",
       "<style scoped>\n",
       "    .dataframe tbody tr th:only-of-type {\n",
       "        vertical-align: middle;\n",
       "    }\n",
       "\n",
       "    .dataframe tbody tr th {\n",
       "        vertical-align: top;\n",
       "    }\n",
       "\n",
       "    .dataframe thead th {\n",
       "        text-align: right;\n",
       "    }\n",
       "</style>\n",
       "<table border=\"1\" class=\"dataframe\">\n",
       "  <thead>\n",
       "    <tr style=\"text-align: right;\">\n",
       "      <th></th>\n",
       "      <th>_PASTRNG</th>\n",
       "      <th>_STATE</th>\n",
       "    </tr>\n",
       "  </thead>\n",
       "  <tbody>\n",
       "    <tr>\n",
       "      <th>0</th>\n",
       "      <td>23.255814</td>\n",
       "      <td>AK</td>\n",
       "    </tr>\n",
       "    <tr>\n",
       "      <th>1</th>\n",
       "      <td>76.744186</td>\n",
       "      <td>AK</td>\n",
       "    </tr>\n",
       "    <tr>\n",
       "      <th>2</th>\n",
       "      <td>15.819768</td>\n",
       "      <td>AL</td>\n",
       "    </tr>\n",
       "    <tr>\n",
       "      <th>3</th>\n",
       "      <td>84.180232</td>\n",
       "      <td>AL</td>\n",
       "    </tr>\n",
       "    <tr>\n",
       "      <th>4</th>\n",
       "      <td>18.920258</td>\n",
       "      <td>AR</td>\n",
       "    </tr>\n",
       "    <tr>\n",
       "      <th>5</th>\n",
       "      <td>81.079742</td>\n",
       "      <td>AR</td>\n",
       "    </tr>\n",
       "    <tr>\n",
       "      <th>6</th>\n",
       "      <td>23.537583</td>\n",
       "      <td>AZ</td>\n",
       "    </tr>\n",
       "    <tr>\n",
       "      <th>7</th>\n",
       "      <td>76.462417</td>\n",
       "      <td>AZ</td>\n",
       "    </tr>\n",
       "    <tr>\n",
       "      <th>8</th>\n",
       "      <td>19.958599</td>\n",
       "      <td>CA</td>\n",
       "    </tr>\n",
       "    <tr>\n",
       "      <th>9</th>\n",
       "      <td>80.041401</td>\n",
       "      <td>CA</td>\n",
       "    </tr>\n",
       "    <tr>\n",
       "      <th>10</th>\n",
       "      <td>24.385717</td>\n",
       "      <td>CO</td>\n",
       "    </tr>\n",
       "    <tr>\n",
       "      <th>11</th>\n",
       "      <td>75.614283</td>\n",
       "      <td>CO</td>\n",
       "    </tr>\n",
       "    <tr>\n",
       "      <th>12</th>\n",
       "      <td>24.486094</td>\n",
       "      <td>CT</td>\n",
       "    </tr>\n",
       "    <tr>\n",
       "      <th>13</th>\n",
       "      <td>75.513906</td>\n",
       "      <td>CT</td>\n",
       "    </tr>\n",
       "    <tr>\n",
       "      <th>14</th>\n",
       "      <td>25.591635</td>\n",
       "      <td>DC</td>\n",
       "    </tr>\n",
       "    <tr>\n",
       "      <th>15</th>\n",
       "      <td>74.408365</td>\n",
       "      <td>DC</td>\n",
       "    </tr>\n",
       "    <tr>\n",
       "      <th>16</th>\n",
       "      <td>22.521246</td>\n",
       "      <td>DE</td>\n",
       "    </tr>\n",
       "    <tr>\n",
       "      <th>17</th>\n",
       "      <td>77.478754</td>\n",
       "      <td>DE</td>\n",
       "    </tr>\n",
       "    <tr>\n",
       "      <th>18</th>\n",
       "      <td>22.662702</td>\n",
       "      <td>FL</td>\n",
       "    </tr>\n",
       "    <tr>\n",
       "      <th>19</th>\n",
       "      <td>77.337298</td>\n",
       "      <td>FL</td>\n",
       "    </tr>\n",
       "  </tbody>\n",
       "</table>\n",
       "</div>"
      ],
      "text/plain": [
       "     _PASTRNG _STATE\n",
       "0   23.255814     AK\n",
       "1   76.744186     AK\n",
       "2   15.819768     AL\n",
       "3   84.180232     AL\n",
       "4   18.920258     AR\n",
       "5   81.079742     AR\n",
       "6   23.537583     AZ\n",
       "7   76.462417     AZ\n",
       "8   19.958599     CA\n",
       "9   80.041401     CA\n",
       "10  24.385717     CO\n",
       "11  75.614283     CO\n",
       "12  24.486094     CT\n",
       "13  75.513906     CT\n",
       "14  25.591635     DC\n",
       "15  74.408365     DC\n",
       "16  22.521246     DE\n",
       "17  77.478754     DE\n",
       "18  22.662702     FL\n",
       "19  77.337298     FL"
      ]
     },
     "execution_count": 53,
     "metadata": {},
     "output_type": "execute_result"
    }
   ],
   "source": [
    "strength_perc_df.head(20)"
   ]
  },
  {
   "cell_type": "code",
   "execution_count": 54,
   "id": "56802fc2",
   "metadata": {},
   "outputs": [
    {
     "data": {
      "text/html": [
       "<div>\n",
       "<style scoped>\n",
       "    .dataframe tbody tr th:only-of-type {\n",
       "        vertical-align: middle;\n",
       "    }\n",
       "\n",
       "    .dataframe tbody tr th {\n",
       "        vertical-align: top;\n",
       "    }\n",
       "\n",
       "    .dataframe thead th {\n",
       "        text-align: right;\n",
       "    }\n",
       "</style>\n",
       "<table border=\"1\" class=\"dataframe\">\n",
       "  <thead>\n",
       "    <tr style=\"text-align: right;\">\n",
       "      <th></th>\n",
       "      <th>_PASTRNG</th>\n",
       "      <th>_STATE</th>\n",
       "    </tr>\n",
       "  </thead>\n",
       "  <tbody>\n",
       "    <tr>\n",
       "      <th>0</th>\n",
       "      <td>23.255814</td>\n",
       "      <td>AK</td>\n",
       "    </tr>\n",
       "    <tr>\n",
       "      <th>2</th>\n",
       "      <td>15.819768</td>\n",
       "      <td>AL</td>\n",
       "    </tr>\n",
       "    <tr>\n",
       "      <th>4</th>\n",
       "      <td>18.920258</td>\n",
       "      <td>AR</td>\n",
       "    </tr>\n",
       "    <tr>\n",
       "      <th>6</th>\n",
       "      <td>23.537583</td>\n",
       "      <td>AZ</td>\n",
       "    </tr>\n",
       "    <tr>\n",
       "      <th>8</th>\n",
       "      <td>19.958599</td>\n",
       "      <td>CA</td>\n",
       "    </tr>\n",
       "    <tr>\n",
       "      <th>10</th>\n",
       "      <td>24.385717</td>\n",
       "      <td>CO</td>\n",
       "    </tr>\n",
       "    <tr>\n",
       "      <th>12</th>\n",
       "      <td>24.486094</td>\n",
       "      <td>CT</td>\n",
       "    </tr>\n",
       "    <tr>\n",
       "      <th>14</th>\n",
       "      <td>25.591635</td>\n",
       "      <td>DC</td>\n",
       "    </tr>\n",
       "    <tr>\n",
       "      <th>16</th>\n",
       "      <td>22.521246</td>\n",
       "      <td>DE</td>\n",
       "    </tr>\n",
       "    <tr>\n",
       "      <th>18</th>\n",
       "      <td>22.662702</td>\n",
       "      <td>FL</td>\n",
       "    </tr>\n",
       "    <tr>\n",
       "      <th>20</th>\n",
       "      <td>22.296141</td>\n",
       "      <td>GA</td>\n",
       "    </tr>\n",
       "    <tr>\n",
       "      <th>22</th>\n",
       "      <td>21.691974</td>\n",
       "      <td>GU</td>\n",
       "    </tr>\n",
       "    <tr>\n",
       "      <th>24</th>\n",
       "      <td>23.130941</td>\n",
       "      <td>HI</td>\n",
       "    </tr>\n",
       "    <tr>\n",
       "      <th>26</th>\n",
       "      <td>19.123165</td>\n",
       "      <td>IA</td>\n",
       "    </tr>\n",
       "    <tr>\n",
       "      <th>28</th>\n",
       "      <td>16.857573</td>\n",
       "      <td>ID</td>\n",
       "    </tr>\n",
       "    <tr>\n",
       "      <th>30</th>\n",
       "      <td>23.225345</td>\n",
       "      <td>IL</td>\n",
       "    </tr>\n",
       "    <tr>\n",
       "      <th>32</th>\n",
       "      <td>20.815828</td>\n",
       "      <td>IN</td>\n",
       "    </tr>\n",
       "    <tr>\n",
       "      <th>34</th>\n",
       "      <td>19.38288</td>\n",
       "      <td>KS</td>\n",
       "    </tr>\n",
       "    <tr>\n",
       "      <th>36</th>\n",
       "      <td>13.749243</td>\n",
       "      <td>KY</td>\n",
       "    </tr>\n",
       "    <tr>\n",
       "      <th>38</th>\n",
       "      <td>19.896492</td>\n",
       "      <td>LA</td>\n",
       "    </tr>\n",
       "  </tbody>\n",
       "</table>\n",
       "</div>"
      ],
      "text/plain": [
       "     _PASTRNG _STATE\n",
       "0   23.255814     AK\n",
       "2   15.819768     AL\n",
       "4   18.920258     AR\n",
       "6   23.537583     AZ\n",
       "8   19.958599     CA\n",
       "10  24.385717     CO\n",
       "12  24.486094     CT\n",
       "14  25.591635     DC\n",
       "16  22.521246     DE\n",
       "18  22.662702     FL\n",
       "20  22.296141     GA\n",
       "22  21.691974     GU\n",
       "24  23.130941     HI\n",
       "26  19.123165     IA\n",
       "28  16.857573     ID\n",
       "30  23.225345     IL\n",
       "32  20.815828     IN\n",
       "34   19.38288     KS\n",
       "36  13.749243     KY\n",
       "38  19.896492     LA"
      ]
     },
     "execution_count": 54,
     "metadata": {},
     "output_type": "execute_result"
    }
   ],
   "source": [
    "#Groupy organized states by _PAINDX2 1 sum then 2 sum so remove even numbers dataframe rows to keep only value representing percentage of state that did meet reccomended physical activity\n",
    "pass_state_strength = strength_perc_df[np.arange(len(strength_perc_df)) % 2 == 0]\n",
    "pass_state_strength.head(20)\n"
   ]
  },
  {
   "cell_type": "markdown",
   "id": "e325c21d",
   "metadata": {},
   "source": [
    "## TODO: \n",
    "_RFDRHV7:\n",
    "Question:  Heavy drinkers (adult men having more than 14 drinks per week and adult women having more than 7 drinks per week)\n",
    "\n",
    "Coded as:\n",
    "- 1: No\n",
    "- 2: Yes\n",
    "- 9: Don't know\n",
    "\n",
    "Recode to:\n",
    "- 1: No\n",
    "- 2: Yes\n",
    "- Nan: Don't know\n"
   ]
  },
  {
   "cell_type": "code",
   "execution_count": 55,
   "id": "3f56a527",
   "metadata": {},
   "outputs": [
    {
     "data": {
      "text/plain": [
       "array([Decimal('1.0'), Decimal('2.0'), nan], dtype=object)"
      ]
     },
     "execution_count": 55,
     "metadata": {},
     "output_type": "execute_result"
    }
   ],
   "source": [
    "#recode to new scheme\n",
    "recoded_health_behaviour_df.loc[health_behaviour_df._RFDRHV7 == 9, \"_RFDRHV7\"] = np.NaN\n",
    "recoded_health_behaviour_df['_RFDRHV7'].unique()"
   ]
  },
  {
   "cell_type": "code",
   "execution_count": 56,
   "id": "67f1fbe8",
   "metadata": {},
   "outputs": [
    {
     "data": {
      "text/html": [
       "<div>\n",
       "<style scoped>\n",
       "    .dataframe tbody tr th:only-of-type {\n",
       "        vertical-align: middle;\n",
       "    }\n",
       "\n",
       "    .dataframe tbody tr th {\n",
       "        vertical-align: top;\n",
       "    }\n",
       "\n",
       "    .dataframe thead th {\n",
       "        text-align: right;\n",
       "    }\n",
       "</style>\n",
       "<table border=\"1\" class=\"dataframe\">\n",
       "  <thead>\n",
       "    <tr style=\"text-align: right;\">\n",
       "      <th></th>\n",
       "      <th>_STATE</th>\n",
       "      <th>_RFDRHV7</th>\n",
       "    </tr>\n",
       "  </thead>\n",
       "  <tbody>\n",
       "    <tr>\n",
       "      <th>0</th>\n",
       "      <td>CA</td>\n",
       "      <td>1</td>\n",
       "    </tr>\n",
       "    <tr>\n",
       "      <th>1</th>\n",
       "      <td>CA</td>\n",
       "      <td>1</td>\n",
       "    </tr>\n",
       "    <tr>\n",
       "      <th>2</th>\n",
       "      <td>CA</td>\n",
       "      <td>1</td>\n",
       "    </tr>\n",
       "    <tr>\n",
       "      <th>3</th>\n",
       "      <td>CA</td>\n",
       "      <td>2</td>\n",
       "    </tr>\n",
       "    <tr>\n",
       "      <th>4</th>\n",
       "      <td>CA</td>\n",
       "      <td>1</td>\n",
       "    </tr>\n",
       "    <tr>\n",
       "      <th>5</th>\n",
       "      <td>CA</td>\n",
       "      <td>1</td>\n",
       "    </tr>\n",
       "    <tr>\n",
       "      <th>6</th>\n",
       "      <td>CA</td>\n",
       "      <td>1</td>\n",
       "    </tr>\n",
       "    <tr>\n",
       "      <th>8</th>\n",
       "      <td>CA</td>\n",
       "      <td>1</td>\n",
       "    </tr>\n",
       "    <tr>\n",
       "      <th>9</th>\n",
       "      <td>CA</td>\n",
       "      <td>1</td>\n",
       "    </tr>\n",
       "    <tr>\n",
       "      <th>10</th>\n",
       "      <td>CA</td>\n",
       "      <td>1</td>\n",
       "    </tr>\n",
       "    <tr>\n",
       "      <th>11</th>\n",
       "      <td>CA</td>\n",
       "      <td>1</td>\n",
       "    </tr>\n",
       "    <tr>\n",
       "      <th>12</th>\n",
       "      <td>CA</td>\n",
       "      <td>1</td>\n",
       "    </tr>\n",
       "    <tr>\n",
       "      <th>13</th>\n",
       "      <td>CA</td>\n",
       "      <td>1</td>\n",
       "    </tr>\n",
       "    <tr>\n",
       "      <th>14</th>\n",
       "      <td>CA</td>\n",
       "      <td>1</td>\n",
       "    </tr>\n",
       "    <tr>\n",
       "      <th>15</th>\n",
       "      <td>CA</td>\n",
       "      <td>1</td>\n",
       "    </tr>\n",
       "    <tr>\n",
       "      <th>16</th>\n",
       "      <td>CA</td>\n",
       "      <td>1</td>\n",
       "    </tr>\n",
       "    <tr>\n",
       "      <th>18</th>\n",
       "      <td>CA</td>\n",
       "      <td>1</td>\n",
       "    </tr>\n",
       "    <tr>\n",
       "      <th>19</th>\n",
       "      <td>CA</td>\n",
       "      <td>1</td>\n",
       "    </tr>\n",
       "    <tr>\n",
       "      <th>20</th>\n",
       "      <td>CA</td>\n",
       "      <td>1</td>\n",
       "    </tr>\n",
       "    <tr>\n",
       "      <th>21</th>\n",
       "      <td>CA</td>\n",
       "      <td>1</td>\n",
       "    </tr>\n",
       "  </tbody>\n",
       "</table>\n",
       "</div>"
      ],
      "text/plain": [
       "   _STATE  _RFDRHV7\n",
       "0      CA         1\n",
       "1      CA         1\n",
       "2      CA         1\n",
       "3      CA         2\n",
       "4      CA         1\n",
       "5      CA         1\n",
       "6      CA         1\n",
       "8      CA         1\n",
       "9      CA         1\n",
       "10     CA         1\n",
       "11     CA         1\n",
       "12     CA         1\n",
       "13     CA         1\n",
       "14     CA         1\n",
       "15     CA         1\n",
       "16     CA         1\n",
       "18     CA         1\n",
       "19     CA         1\n",
       "20     CA         1\n",
       "21     CA         1"
      ]
     },
     "execution_count": 56,
     "metadata": {},
     "output_type": "execute_result"
    }
   ],
   "source": [
    "### % of state that is heavy drinkers\n",
    "#TODO: group by state, find % of '2': heavy drinker\n",
    "state_drink_heavy_df = recoded_health_behaviour_df[['_STATE', '_RFDRHV7']].dropna()\n",
    "state_drink_heavy_df._RFDRHV7 = pd.to_numeric(state_drink_heavy_df._RFDRHV7).astype('Int32')\n",
    "state_drink_heavy_df.head(20)"
   ]
  },
  {
   "cell_type": "code",
   "execution_count": 57,
   "id": "3c205184",
   "metadata": {},
   "outputs": [
    {
     "data": {
      "text/html": [
       "<div>\n",
       "<style scoped>\n",
       "    .dataframe tbody tr th:only-of-type {\n",
       "        vertical-align: middle;\n",
       "    }\n",
       "\n",
       "    .dataframe tbody tr th {\n",
       "        vertical-align: top;\n",
       "    }\n",
       "\n",
       "    .dataframe thead th {\n",
       "        text-align: right;\n",
       "    }\n",
       "</style>\n",
       "<table border=\"1\" class=\"dataframe\">\n",
       "  <thead>\n",
       "    <tr style=\"text-align: right;\">\n",
       "      <th></th>\n",
       "      <th>_RFDRHV7</th>\n",
       "      <th>_STATE</th>\n",
       "    </tr>\n",
       "  </thead>\n",
       "  <tbody>\n",
       "    <tr>\n",
       "      <th>0</th>\n",
       "      <td>83.685601</td>\n",
       "      <td>AK</td>\n",
       "    </tr>\n",
       "    <tr>\n",
       "      <th>1</th>\n",
       "      <td>16.314399</td>\n",
       "      <td>AK</td>\n",
       "    </tr>\n",
       "    <tr>\n",
       "      <th>2</th>\n",
       "      <td>90.583804</td>\n",
       "      <td>AL</td>\n",
       "    </tr>\n",
       "    <tr>\n",
       "      <th>3</th>\n",
       "      <td>9.416196</td>\n",
       "      <td>AL</td>\n",
       "    </tr>\n",
       "    <tr>\n",
       "      <th>4</th>\n",
       "      <td>91.579348</td>\n",
       "      <td>AR</td>\n",
       "    </tr>\n",
       "  </tbody>\n",
       "</table>\n",
       "</div>"
      ],
      "text/plain": [
       "    _RFDRHV7 _STATE\n",
       "0  83.685601     AK\n",
       "1  16.314399     AK\n",
       "2  90.583804     AL\n",
       "3   9.416196     AL\n",
       "4  91.579348     AR"
      ]
     },
     "execution_count": 57,
     "metadata": {},
     "output_type": "execute_result"
    }
   ],
   "source": [
    "#group by _RFDRHV7 and calculate sum of '2' within each state\n",
    "\n",
    "def calc_perc(x): \n",
    "    return 100 * x / float(x.sum())\n",
    "\n",
    "state_drink = state_drink_heavy_df.groupby(['_STATE', '_RFDRHV7' ], as_index=False).agg({'_RFDRHV7': 'sum'})\n",
    "drink_perc_df = state_drink.groupby('_STATE').apply(calc_perc)\n",
    "#add back in _STATE column fore reference\n",
    "drink_perc_df['_STATE'] = state_drink['_STATE']\n",
    "drink_perc_df.head()"
   ]
  },
  {
   "cell_type": "code",
   "execution_count": 58,
   "id": "3c33b8a3",
   "metadata": {},
   "outputs": [
    {
     "data": {
      "text/plain": [
       "1     16.314399\n",
       "3      9.416196\n",
       "5      8.420652\n",
       "7     11.080711\n",
       "9     11.477863\n",
       "11    11.503643\n",
       "13    11.354294\n",
       "15    13.768404\n",
       "17    11.552535\n",
       "19    13.031058\n",
       "21    10.236109\n",
       "23    12.940213\n",
       "25    15.982884\n",
       "27    11.350254\n",
       "29    11.539875\n",
       "31    12.788632\n",
       "33     9.467593\n",
       "35    10.241667\n",
       "37     8.886108\n",
       "39    13.744076\n",
       "Name: _RFDRHV7, dtype: Float64"
      ]
     },
     "execution_count": 58,
     "metadata": {},
     "output_type": "execute_result"
    }
   ],
   "source": [
    "#Groupy organized states by _RFDRHV7 1 sum then 2 sum so remove odd numbers dataframe rows to keep only value representing percentage of state that did meet reccomended physical activity\n",
    "drink_perc_df = drink_perc_df[np.arange(len(drink_perc_df)) % 2 != 0]\n",
    "drink_perc_df['_RFDRHV7'].head(20)"
   ]
  },
  {
   "cell_type": "markdown",
   "id": "2ac2a40a",
   "metadata": {},
   "source": [
    "## _RFSMOK3\n",
    "Question:  Adults who are current smokers\n",
    "    \n",
    "Coded as:\n",
    "- 1: No\n",
    "- 2: Yes\n",
    "- 9: Don't know\n",
    "\n",
    "Recode to:\n",
    "- 1: No\n",
    "- 2: Yes\n",
    "- Nan: Don't know\n",
    "        "
   ]
  },
  {
   "cell_type": "code",
   "execution_count": 59,
   "id": "a9809597",
   "metadata": {},
   "outputs": [
    {
     "data": {
      "text/plain": [
       "array([Decimal('1.0'), nan, Decimal('2.0')], dtype=object)"
      ]
     },
     "execution_count": 59,
     "metadata": {},
     "output_type": "execute_result"
    }
   ],
   "source": [
    "#recode to new scheme\n",
    "recoded_health_behaviour_df.loc[health_behaviour_df._RFSMOK3 == 9, \"_RFSMOK3\"] = np.NaN\n",
    "recoded_health_behaviour_df['_RFSMOK3'].unique()"
   ]
  },
  {
   "cell_type": "code",
   "execution_count": 60,
   "id": "dd25f410",
   "metadata": {},
   "outputs": [
    {
     "data": {
      "text/html": [
       "<div>\n",
       "<style scoped>\n",
       "    .dataframe tbody tr th:only-of-type {\n",
       "        vertical-align: middle;\n",
       "    }\n",
       "\n",
       "    .dataframe tbody tr th {\n",
       "        vertical-align: top;\n",
       "    }\n",
       "\n",
       "    .dataframe thead th {\n",
       "        text-align: right;\n",
       "    }\n",
       "</style>\n",
       "<table border=\"1\" class=\"dataframe\">\n",
       "  <thead>\n",
       "    <tr style=\"text-align: right;\">\n",
       "      <th></th>\n",
       "      <th>_STATE</th>\n",
       "      <th>_RFSMOK3</th>\n",
       "    </tr>\n",
       "  </thead>\n",
       "  <tbody>\n",
       "    <tr>\n",
       "      <th>0</th>\n",
       "      <td>CA</td>\n",
       "      <td>1</td>\n",
       "    </tr>\n",
       "    <tr>\n",
       "      <th>1</th>\n",
       "      <td>CA</td>\n",
       "      <td>1</td>\n",
       "    </tr>\n",
       "    <tr>\n",
       "      <th>2</th>\n",
       "      <td>CA</td>\n",
       "      <td>1</td>\n",
       "    </tr>\n",
       "    <tr>\n",
       "      <th>3</th>\n",
       "      <td>CA</td>\n",
       "      <td>1</td>\n",
       "    </tr>\n",
       "    <tr>\n",
       "      <th>4</th>\n",
       "      <td>CA</td>\n",
       "      <td>1</td>\n",
       "    </tr>\n",
       "    <tr>\n",
       "      <th>5</th>\n",
       "      <td>CA</td>\n",
       "      <td>1</td>\n",
       "    </tr>\n",
       "    <tr>\n",
       "      <th>6</th>\n",
       "      <td>CA</td>\n",
       "      <td>1</td>\n",
       "    </tr>\n",
       "    <tr>\n",
       "      <th>8</th>\n",
       "      <td>CA</td>\n",
       "      <td>1</td>\n",
       "    </tr>\n",
       "    <tr>\n",
       "      <th>9</th>\n",
       "      <td>CA</td>\n",
       "      <td>1</td>\n",
       "    </tr>\n",
       "    <tr>\n",
       "      <th>10</th>\n",
       "      <td>CA</td>\n",
       "      <td>1</td>\n",
       "    </tr>\n",
       "    <tr>\n",
       "      <th>11</th>\n",
       "      <td>CA</td>\n",
       "      <td>1</td>\n",
       "    </tr>\n",
       "    <tr>\n",
       "      <th>12</th>\n",
       "      <td>CA</td>\n",
       "      <td>1</td>\n",
       "    </tr>\n",
       "    <tr>\n",
       "      <th>13</th>\n",
       "      <td>CA</td>\n",
       "      <td>1</td>\n",
       "    </tr>\n",
       "    <tr>\n",
       "      <th>14</th>\n",
       "      <td>CA</td>\n",
       "      <td>1</td>\n",
       "    </tr>\n",
       "    <tr>\n",
       "      <th>15</th>\n",
       "      <td>CA</td>\n",
       "      <td>2</td>\n",
       "    </tr>\n",
       "    <tr>\n",
       "      <th>16</th>\n",
       "      <td>CA</td>\n",
       "      <td>1</td>\n",
       "    </tr>\n",
       "    <tr>\n",
       "      <th>17</th>\n",
       "      <td>CA</td>\n",
       "      <td>1</td>\n",
       "    </tr>\n",
       "    <tr>\n",
       "      <th>18</th>\n",
       "      <td>CA</td>\n",
       "      <td>1</td>\n",
       "    </tr>\n",
       "    <tr>\n",
       "      <th>19</th>\n",
       "      <td>CA</td>\n",
       "      <td>1</td>\n",
       "    </tr>\n",
       "    <tr>\n",
       "      <th>20</th>\n",
       "      <td>CA</td>\n",
       "      <td>1</td>\n",
       "    </tr>\n",
       "  </tbody>\n",
       "</table>\n",
       "</div>"
      ],
      "text/plain": [
       "   _STATE  _RFSMOK3\n",
       "0      CA         1\n",
       "1      CA         1\n",
       "2      CA         1\n",
       "3      CA         1\n",
       "4      CA         1\n",
       "5      CA         1\n",
       "6      CA         1\n",
       "8      CA         1\n",
       "9      CA         1\n",
       "10     CA         1\n",
       "11     CA         1\n",
       "12     CA         1\n",
       "13     CA         1\n",
       "14     CA         1\n",
       "15     CA         2\n",
       "16     CA         1\n",
       "17     CA         1\n",
       "18     CA         1\n",
       "19     CA         1\n",
       "20     CA         1"
      ]
     },
     "execution_count": 60,
     "metadata": {},
     "output_type": "execute_result"
    }
   ],
   "source": [
    "### % of state that is heavy drinkers\n",
    "#TODO: group by state, find % of '2': heavy drinker\n",
    "state_smoke_df = recoded_health_behaviour_df[['_STATE', '_RFSMOK3']].dropna()\n",
    "state_smoke_df._RFSMOK3 = pd.to_numeric(state_smoke_df._RFSMOK3).astype('Int32')\n",
    "state_smoke_df.head(20)"
   ]
  },
  {
   "cell_type": "code",
   "execution_count": 61,
   "id": "ed25ba15",
   "metadata": {},
   "outputs": [
    {
     "data": {
      "text/html": [
       "<div>\n",
       "<style scoped>\n",
       "    .dataframe tbody tr th:only-of-type {\n",
       "        vertical-align: middle;\n",
       "    }\n",
       "\n",
       "    .dataframe tbody tr th {\n",
       "        vertical-align: top;\n",
       "    }\n",
       "\n",
       "    .dataframe thead th {\n",
       "        text-align: right;\n",
       "    }\n",
       "</style>\n",
       "<table border=\"1\" class=\"dataframe\">\n",
       "  <thead>\n",
       "    <tr style=\"text-align: right;\">\n",
       "      <th></th>\n",
       "      <th>_RFSMOK3</th>\n",
       "      <th>_STATE</th>\n",
       "    </tr>\n",
       "  </thead>\n",
       "  <tbody>\n",
       "    <tr>\n",
       "      <th>0</th>\n",
       "      <td>71.989134</td>\n",
       "      <td>AK</td>\n",
       "    </tr>\n",
       "    <tr>\n",
       "      <th>1</th>\n",
       "      <td>28.010866</td>\n",
       "      <td>AK</td>\n",
       "    </tr>\n",
       "    <tr>\n",
       "      <th>2</th>\n",
       "      <td>70.690964</td>\n",
       "      <td>AL</td>\n",
       "    </tr>\n",
       "    <tr>\n",
       "      <th>3</th>\n",
       "      <td>29.309036</td>\n",
       "      <td>AL</td>\n",
       "    </tr>\n",
       "    <tr>\n",
       "      <th>4</th>\n",
       "      <td>72.226898</td>\n",
       "      <td>AR</td>\n",
       "    </tr>\n",
       "  </tbody>\n",
       "</table>\n",
       "</div>"
      ],
      "text/plain": [
       "    _RFSMOK3 _STATE\n",
       "0  71.989134     AK\n",
       "1  28.010866     AK\n",
       "2  70.690964     AL\n",
       "3  29.309036     AL\n",
       "4  72.226898     AR"
      ]
     },
     "execution_count": 61,
     "metadata": {},
     "output_type": "execute_result"
    }
   ],
   "source": [
    "#group by _RFDRHV7 and calculate sum of '2' within each state\n",
    "state_smoke = state_smoke_df.groupby(['_STATE', '_RFSMOK3' ], as_index=False).agg({'_RFSMOK3': 'sum'})\n",
    "smoke_perc_df = state_smoke.groupby('_STATE').apply(calc_perc)\n",
    "#add back in _STATE column fore reference\n",
    "smoke_perc_df['_STATE'] = state_smoke['_STATE']\n",
    "smoke_perc_df.head()"
   ]
  },
  {
   "cell_type": "code",
   "execution_count": 62,
   "id": "d75acbcd",
   "metadata": {},
   "outputs": [
    {
     "data": {
      "text/plain": [
       "1     28.010866\n",
       "3     29.309036\n",
       "5     27.773102\n",
       "7     23.307251\n",
       "9     18.423472\n",
       "11    21.139554\n",
       "13    18.666946\n",
       "15    21.138211\n",
       "17    24.946846\n",
       "19    28.586904\n",
       "21    28.029637\n",
       "23    31.666667\n",
       "25    21.847525\n",
       "27    25.653775\n",
       "29    24.079602\n",
       "31    22.775564\n",
       "33    27.897478\n",
       "35    24.547741\n",
       "37    33.870275\n",
       "39    32.228916\n",
       "Name: _RFSMOK3, dtype: Float64"
      ]
     },
     "execution_count": 62,
     "metadata": {},
     "output_type": "execute_result"
    }
   ],
   "source": [
    "#Groupy organized states by _RFDRHV7 1 sum then 2 sum so remove odd numbers dataframe rows to keep only value representing percentage of state that did meet reccomended physical activity\n",
    "smoke_perc_df = smoke_perc_df[np.arange(len(smoke_perc_df)) % 2 != 0]\n",
    "smoke_perc_df['_RFSMOK3'].head(20)"
   ]
  },
  {
   "cell_type": "markdown",
   "id": "71b4be4e",
   "metadata": {},
   "source": []
  },
  {
   "cell_type": "code",
   "execution_count": 63,
   "id": "3aec23b8",
   "metadata": {},
   "outputs": [
    {
     "data": {
      "text/html": [
       "<div>\n",
       "<style scoped>\n",
       "    .dataframe tbody tr th:only-of-type {\n",
       "        vertical-align: middle;\n",
       "    }\n",
       "\n",
       "    .dataframe tbody tr th {\n",
       "        vertical-align: top;\n",
       "    }\n",
       "\n",
       "    .dataframe thead th {\n",
       "        text-align: right;\n",
       "    }\n",
       "</style>\n",
       "<table border=\"1\" class=\"dataframe\">\n",
       "  <thead>\n",
       "    <tr style=\"text-align: right;\">\n",
       "      <th></th>\n",
       "      <th>_STATE</th>\n",
       "      <th>_VEGESU1</th>\n",
       "      <th>_FRUTSU1</th>\n",
       "      <th>FRNCHDA_</th>\n",
       "      <th>_RFDRHV7</th>\n",
       "      <th>_RFSMOK3</th>\n",
       "      <th>_PAINDX2</th>\n",
       "      <th>_PASTRNG</th>\n",
       "    </tr>\n",
       "  </thead>\n",
       "  <tbody>\n",
       "    <tr>\n",
       "      <th>0</th>\n",
       "      <td>AK</td>\n",
       "      <td>2.332528</td>\n",
       "      <td>1.540369</td>\n",
       "      <td>1.702429</td>\n",
       "      <td>16.314399</td>\n",
       "      <td>28.010866</td>\n",
       "      <td>44.139785</td>\n",
       "      <td>23.255814</td>\n",
       "    </tr>\n",
       "    <tr>\n",
       "      <th>1</th>\n",
       "      <td>AL</td>\n",
       "      <td>1.744130</td>\n",
       "      <td>1.232993</td>\n",
       "      <td>1.630749</td>\n",
       "      <td>9.416196</td>\n",
       "      <td>29.309036</td>\n",
       "      <td>29.598851</td>\n",
       "      <td>15.819768</td>\n",
       "    </tr>\n",
       "    <tr>\n",
       "      <th>2</th>\n",
       "      <td>AR</td>\n",
       "      <td>2.422322</td>\n",
       "      <td>1.569661</td>\n",
       "      <td>2.198288</td>\n",
       "      <td>8.420652</td>\n",
       "      <td>27.773102</td>\n",
       "      <td>31.196054</td>\n",
       "      <td>18.920258</td>\n",
       "    </tr>\n",
       "    <tr>\n",
       "      <th>3</th>\n",
       "      <td>AZ</td>\n",
       "      <td>2.650538</td>\n",
       "      <td>1.748288</td>\n",
       "      <td>1.924467</td>\n",
       "      <td>11.080711</td>\n",
       "      <td>23.307251</td>\n",
       "      <td>40.685358</td>\n",
       "      <td>23.537583</td>\n",
       "    </tr>\n",
       "    <tr>\n",
       "      <th>4</th>\n",
       "      <td>CA</td>\n",
       "      <td>1.825288</td>\n",
       "      <td>1.435239</td>\n",
       "      <td>1.202959</td>\n",
       "      <td>11.477863</td>\n",
       "      <td>18.423472</td>\n",
       "      <td>38.18882</td>\n",
       "      <td>19.958599</td>\n",
       "    </tr>\n",
       "    <tr>\n",
       "      <th>5</th>\n",
       "      <td>CO</td>\n",
       "      <td>1.876607</td>\n",
       "      <td>1.396317</td>\n",
       "      <td>1.322021</td>\n",
       "      <td>11.503643</td>\n",
       "      <td>21.139554</td>\n",
       "      <td>43.527172</td>\n",
       "      <td>24.385717</td>\n",
       "    </tr>\n",
       "    <tr>\n",
       "      <th>6</th>\n",
       "      <td>CT</td>\n",
       "      <td>2.916833</td>\n",
       "      <td>1.946547</td>\n",
       "      <td>1.484880</td>\n",
       "      <td>11.354294</td>\n",
       "      <td>18.666946</td>\n",
       "      <td>40.344201</td>\n",
       "      <td>24.486094</td>\n",
       "    </tr>\n",
       "    <tr>\n",
       "      <th>7</th>\n",
       "      <td>DC</td>\n",
       "      <td>2.085319</td>\n",
       "      <td>1.532979</td>\n",
       "      <td>1.289638</td>\n",
       "      <td>13.768404</td>\n",
       "      <td>21.138211</td>\n",
       "      <td>40.514776</td>\n",
       "      <td>25.591635</td>\n",
       "    </tr>\n",
       "    <tr>\n",
       "      <th>8</th>\n",
       "      <td>DE</td>\n",
       "      <td>1.864820</td>\n",
       "      <td>1.426221</td>\n",
       "      <td>1.397133</td>\n",
       "      <td>11.552535</td>\n",
       "      <td>24.946846</td>\n",
       "      <td>34.872798</td>\n",
       "      <td>22.521246</td>\n",
       "    </tr>\n",
       "    <tr>\n",
       "      <th>9</th>\n",
       "      <td>FL</td>\n",
       "      <td>1.984152</td>\n",
       "      <td>1.394397</td>\n",
       "      <td>1.480661</td>\n",
       "      <td>13.031058</td>\n",
       "      <td>28.586904</td>\n",
       "      <td>36.988839</td>\n",
       "      <td>22.662702</td>\n",
       "    </tr>\n",
       "    <tr>\n",
       "      <th>10</th>\n",
       "      <td>GA</td>\n",
       "      <td>1.894525</td>\n",
       "      <td>1.316258</td>\n",
       "      <td>1.592221</td>\n",
       "      <td>10.236109</td>\n",
       "      <td>28.029637</td>\n",
       "      <td>32.31663</td>\n",
       "      <td>22.296141</td>\n",
       "    </tr>\n",
       "    <tr>\n",
       "      <th>11</th>\n",
       "      <td>GU</td>\n",
       "      <td>1.925822</td>\n",
       "      <td>1.327064</td>\n",
       "      <td>1.388016</td>\n",
       "      <td>12.940213</td>\n",
       "      <td>31.666667</td>\n",
       "      <td>32.911392</td>\n",
       "      <td>21.691974</td>\n",
       "    </tr>\n",
       "    <tr>\n",
       "      <th>12</th>\n",
       "      <td>HI</td>\n",
       "      <td>1.951915</td>\n",
       "      <td>1.372681</td>\n",
       "      <td>1.284075</td>\n",
       "      <td>15.982884</td>\n",
       "      <td>21.847525</td>\n",
       "      <td>41.303487</td>\n",
       "      <td>23.130941</td>\n",
       "    </tr>\n",
       "    <tr>\n",
       "      <th>13</th>\n",
       "      <td>IA</td>\n",
       "      <td>1.753999</td>\n",
       "      <td>1.334835</td>\n",
       "      <td>1.556287</td>\n",
       "      <td>11.350254</td>\n",
       "      <td>25.653775</td>\n",
       "      <td>32.387672</td>\n",
       "      <td>19.123165</td>\n",
       "    </tr>\n",
       "    <tr>\n",
       "      <th>14</th>\n",
       "      <td>ID</td>\n",
       "      <td>2.010705</td>\n",
       "      <td>1.370627</td>\n",
       "      <td>1.839421</td>\n",
       "      <td>11.539875</td>\n",
       "      <td>24.079602</td>\n",
       "      <td>41.307534</td>\n",
       "      <td>16.857573</td>\n",
       "    </tr>\n",
       "    <tr>\n",
       "      <th>15</th>\n",
       "      <td>IL</td>\n",
       "      <td>1.857671</td>\n",
       "      <td>1.434555</td>\n",
       "      <td>1.536948</td>\n",
       "      <td>12.788632</td>\n",
       "      <td>22.775564</td>\n",
       "      <td>34.861184</td>\n",
       "      <td>23.225345</td>\n",
       "    </tr>\n",
       "    <tr>\n",
       "      <th>16</th>\n",
       "      <td>IN</td>\n",
       "      <td>2.676945</td>\n",
       "      <td>1.837262</td>\n",
       "      <td>2.083008</td>\n",
       "      <td>9.467593</td>\n",
       "      <td>27.897478</td>\n",
       "      <td>31.325403</td>\n",
       "      <td>20.815828</td>\n",
       "    </tr>\n",
       "    <tr>\n",
       "      <th>17</th>\n",
       "      <td>KS</td>\n",
       "      <td>2.040008</td>\n",
       "      <td>1.355549</td>\n",
       "      <td>1.892494</td>\n",
       "      <td>10.241667</td>\n",
       "      <td>24.547741</td>\n",
       "      <td>33.315751</td>\n",
       "      <td>19.38288</td>\n",
       "    </tr>\n",
       "    <tr>\n",
       "      <th>18</th>\n",
       "      <td>KY</td>\n",
       "      <td>1.739231</td>\n",
       "      <td>1.135081</td>\n",
       "      <td>1.772551</td>\n",
       "      <td>8.886108</td>\n",
       "      <td>33.870275</td>\n",
       "      <td>20.521476</td>\n",
       "      <td>13.749243</td>\n",
       "    </tr>\n",
       "    <tr>\n",
       "      <th>19</th>\n",
       "      <td>LA</td>\n",
       "      <td>1.805531</td>\n",
       "      <td>1.254212</td>\n",
       "      <td>1.600956</td>\n",
       "      <td>13.744076</td>\n",
       "      <td>32.228916</td>\n",
       "      <td>29.90374</td>\n",
       "      <td>19.896492</td>\n",
       "    </tr>\n",
       "  </tbody>\n",
       "</table>\n",
       "</div>"
      ],
      "text/plain": [
       "   _STATE  _VEGESU1  _FRUTSU1  FRNCHDA_   _RFDRHV7   _RFSMOK3   _PAINDX2  \\\n",
       "0      AK  2.332528  1.540369  1.702429  16.314399  28.010866  44.139785   \n",
       "1      AL  1.744130  1.232993  1.630749   9.416196  29.309036  29.598851   \n",
       "2      AR  2.422322  1.569661  2.198288   8.420652  27.773102  31.196054   \n",
       "3      AZ  2.650538  1.748288  1.924467  11.080711  23.307251  40.685358   \n",
       "4      CA  1.825288  1.435239  1.202959  11.477863  18.423472   38.18882   \n",
       "5      CO  1.876607  1.396317  1.322021  11.503643  21.139554  43.527172   \n",
       "6      CT  2.916833  1.946547  1.484880  11.354294  18.666946  40.344201   \n",
       "7      DC  2.085319  1.532979  1.289638  13.768404  21.138211  40.514776   \n",
       "8      DE  1.864820  1.426221  1.397133  11.552535  24.946846  34.872798   \n",
       "9      FL  1.984152  1.394397  1.480661  13.031058  28.586904  36.988839   \n",
       "10     GA  1.894525  1.316258  1.592221  10.236109  28.029637   32.31663   \n",
       "11     GU  1.925822  1.327064  1.388016  12.940213  31.666667  32.911392   \n",
       "12     HI  1.951915  1.372681  1.284075  15.982884  21.847525  41.303487   \n",
       "13     IA  1.753999  1.334835  1.556287  11.350254  25.653775  32.387672   \n",
       "14     ID  2.010705  1.370627  1.839421  11.539875  24.079602  41.307534   \n",
       "15     IL  1.857671  1.434555  1.536948  12.788632  22.775564  34.861184   \n",
       "16     IN  2.676945  1.837262  2.083008   9.467593  27.897478  31.325403   \n",
       "17     KS  2.040008  1.355549  1.892494  10.241667  24.547741  33.315751   \n",
       "18     KY  1.739231  1.135081  1.772551   8.886108  33.870275  20.521476   \n",
       "19     LA  1.805531  1.254212  1.600956  13.744076  32.228916   29.90374   \n",
       "\n",
       "     _PASTRNG  \n",
       "0   23.255814  \n",
       "1   15.819768  \n",
       "2   18.920258  \n",
       "3   23.537583  \n",
       "4   19.958599  \n",
       "5   24.385717  \n",
       "6   24.486094  \n",
       "7   25.591635  \n",
       "8   22.521246  \n",
       "9   22.662702  \n",
       "10  22.296141  \n",
       "11  21.691974  \n",
       "12  23.130941  \n",
       "13  19.123165  \n",
       "14  16.857573  \n",
       "15  23.225345  \n",
       "16  20.815828  \n",
       "17   19.38288  \n",
       "18  13.749243  \n",
       "19  19.896492  "
      ]
     },
     "execution_count": 63,
     "metadata": {},
     "output_type": "execute_result"
    }
   ],
   "source": [
    "##Make health behaviours df with columns for each\n",
    "#Including, daily veg, daily fruit, daily fries, smoking, smoking, alcohol, phys activity, strength\n",
    "hb_df = state_veg_mean.copy() #Daily Veg\n",
    "hb_df['_FRUTSU1'] = state_fruit_mean['_FRUTSU1'].values # Daily Fruits\n",
    "hb_df['FRNCHDA_'] = state_fry_mean['FRNCHDA_'].values#daily fries\n",
    "hb_df['_RFDRHV7'] = drink_perc_df['_RFDRHV7'].values #Alcohol\n",
    "hb_df['_RFSMOK3'] = smoke_perc_df['_RFSMOK3'].values #smoking\n",
    "hb_df['_PAINDX2'] = pass_state_phys_act['_PAINDX2'].values #Aerobic\n",
    "hb_df['_PASTRNG'] = pass_state_strength['_PASTRNG'].values#Strength\n",
    "\n",
    "hb_df.head(20)"
   ]
  },
  {
   "cell_type": "code",
   "execution_count": 152,
   "id": "c644ea2a",
   "metadata": {},
   "outputs": [
    {
     "data": {
      "application/vnd.plotly.v1+json": {
       "config": {
        "plotlyServerURL": "https://plotly.com"
       },
       "data": [
        {
         "autocolorscale": false,
         "colorscale": [
          [
           0,
           "rgb(209, 238, 234)"
          ],
          [
           0.16666666666666666,
           "rgb(168, 219, 217)"
          ],
          [
           0.3333333333333333,
           "rgb(133, 196, 201)"
          ],
          [
           0.5,
           "rgb(104, 171, 184)"
          ],
          [
           0.6666666666666666,
           "rgb(79, 144, 166)"
          ],
          [
           0.8333333333333334,
           "rgb(59, 115, 143)"
          ],
          [
           1,
           "rgb(42, 86, 116)"
          ]
         ],
         "locationmode": "USA-states",
         "locations": [
          "AK",
          "AL",
          "AR",
          "AZ",
          "CA",
          "CO",
          "CT",
          "DC",
          "DE",
          "FL",
          "GA",
          "GU",
          "HI",
          "IA",
          "ID",
          "IL",
          "IN",
          "KS",
          "KY",
          "LA",
          "MA",
          "MD",
          "ME",
          "MI",
          "MN",
          "MO",
          "MS",
          "MT",
          "NC",
          "ND",
          "NE",
          "NH",
          "NM",
          "NV",
          "NY",
          "OH",
          "OK",
          "OR",
          "PA",
          "PR",
          "RI",
          "SC",
          "SD",
          "TN",
          "TX",
          "UT",
          "VA",
          "VT",
          "WA",
          "WI",
          "WV",
          "WY"
         ],
         "marker": {
          "line": {
           "color": "white"
          }
         },
         "text": [
          "AK",
          "AL",
          "AR",
          "AZ",
          "CA",
          "CO",
          "CT",
          "DC",
          "DE",
          "FL",
          "GA",
          "GU",
          "HI",
          "IA",
          "ID",
          "IL",
          "IN",
          "KS",
          "KY",
          "LA",
          "MA",
          "MD",
          "ME",
          "MI",
          "MN",
          "MO",
          "MS",
          "MT",
          "NC",
          "ND",
          "NE",
          "NH",
          "NM",
          "NV",
          "NY",
          "OH",
          "OK",
          "OR",
          "PA",
          "PR",
          "RI",
          "SC",
          "SD",
          "TN",
          "TX",
          "UT",
          "VA",
          "VT",
          "WA",
          "WI",
          "WV",
          "WY"
         ],
         "type": "choropleth",
         "z": [
          2.3325279814743376,
          1.744130363576816,
          2.422322326700201,
          2.6505384310093665,
          1.8252883655956837,
          1.8766068535825604,
          2.916832654100842,
          2.085319444444446,
          1.8648199697428185,
          1.9841522712731674,
          1.8945253576072794,
          1.9258224907063217,
          1.9519154087154673,
          1.7539988564894264,
          2.0107049282595155,
          1.857670825906124,
          2.6769453719781002,
          2.040008107834188,
          1.739231415371691,
          1.8055306276783591,
          2.057149492017422,
          2.038000924580604,
          2.1073943867145735,
          1.7814858392336503,
          1.8523538842734086,
          1.8140245938970763,
          1.8487217219415821,
          1.9533554534626576,
          1.974628405183819,
          1.781760673717194,
          1.8260097375105657,
          2.3716227018385307,
          1.8232984684348168,
          1.7827817460317474,
          2.667969368439132,
          1.8118226221079619,
          1.7666848854320016,
          2.132664384795539,
          1.8269708640321525,
          1.2368742194469284,
          2.7930318622600474,
          2.0675667367739843,
          1.870031332453827,
          1.9915174418604717,
          2.533878722990034,
          1.8327070688206073,
          1.9268002756402896,
          3.2516780698595467,
          2.2216046122700135,
          1.769906669701802,
          1.8306866234038153,
          1.8745895343254961
         ]
        }
       ],
       "layout": {
        "font": {
         "color": "Black"
        },
        "geo": {
         "lakecolor": "rgb(255, 255, 255)",
         "projection": {
          "type": "albers usa"
         },
         "scope": "usa",
         "showlakes": true
        },
        "template": {
         "data": {
          "bar": [
           {
            "error_x": {
             "color": "#2a3f5f"
            },
            "error_y": {
             "color": "#2a3f5f"
            },
            "marker": {
             "line": {
              "color": "#E5ECF6",
              "width": 0.5
             },
             "pattern": {
              "fillmode": "overlay",
              "size": 10,
              "solidity": 0.2
             }
            },
            "type": "bar"
           }
          ],
          "barpolar": [
           {
            "marker": {
             "line": {
              "color": "#E5ECF6",
              "width": 0.5
             },
             "pattern": {
              "fillmode": "overlay",
              "size": 10,
              "solidity": 0.2
             }
            },
            "type": "barpolar"
           }
          ],
          "carpet": [
           {
            "aaxis": {
             "endlinecolor": "#2a3f5f",
             "gridcolor": "white",
             "linecolor": "white",
             "minorgridcolor": "white",
             "startlinecolor": "#2a3f5f"
            },
            "baxis": {
             "endlinecolor": "#2a3f5f",
             "gridcolor": "white",
             "linecolor": "white",
             "minorgridcolor": "white",
             "startlinecolor": "#2a3f5f"
            },
            "type": "carpet"
           }
          ],
          "choropleth": [
           {
            "colorbar": {
             "outlinewidth": 0,
             "ticks": ""
            },
            "type": "choropleth"
           }
          ],
          "contour": [
           {
            "colorbar": {
             "outlinewidth": 0,
             "ticks": ""
            },
            "colorscale": [
             [
              0,
              "#0d0887"
             ],
             [
              0.1111111111111111,
              "#46039f"
             ],
             [
              0.2222222222222222,
              "#7201a8"
             ],
             [
              0.3333333333333333,
              "#9c179e"
             ],
             [
              0.4444444444444444,
              "#bd3786"
             ],
             [
              0.5555555555555556,
              "#d8576b"
             ],
             [
              0.6666666666666666,
              "#ed7953"
             ],
             [
              0.7777777777777778,
              "#fb9f3a"
             ],
             [
              0.8888888888888888,
              "#fdca26"
             ],
             [
              1,
              "#f0f921"
             ]
            ],
            "type": "contour"
           }
          ],
          "contourcarpet": [
           {
            "colorbar": {
             "outlinewidth": 0,
             "ticks": ""
            },
            "type": "contourcarpet"
           }
          ],
          "heatmap": [
           {
            "colorbar": {
             "outlinewidth": 0,
             "ticks": ""
            },
            "colorscale": [
             [
              0,
              "#0d0887"
             ],
             [
              0.1111111111111111,
              "#46039f"
             ],
             [
              0.2222222222222222,
              "#7201a8"
             ],
             [
              0.3333333333333333,
              "#9c179e"
             ],
             [
              0.4444444444444444,
              "#bd3786"
             ],
             [
              0.5555555555555556,
              "#d8576b"
             ],
             [
              0.6666666666666666,
              "#ed7953"
             ],
             [
              0.7777777777777778,
              "#fb9f3a"
             ],
             [
              0.8888888888888888,
              "#fdca26"
             ],
             [
              1,
              "#f0f921"
             ]
            ],
            "type": "heatmap"
           }
          ],
          "heatmapgl": [
           {
            "colorbar": {
             "outlinewidth": 0,
             "ticks": ""
            },
            "colorscale": [
             [
              0,
              "#0d0887"
             ],
             [
              0.1111111111111111,
              "#46039f"
             ],
             [
              0.2222222222222222,
              "#7201a8"
             ],
             [
              0.3333333333333333,
              "#9c179e"
             ],
             [
              0.4444444444444444,
              "#bd3786"
             ],
             [
              0.5555555555555556,
              "#d8576b"
             ],
             [
              0.6666666666666666,
              "#ed7953"
             ],
             [
              0.7777777777777778,
              "#fb9f3a"
             ],
             [
              0.8888888888888888,
              "#fdca26"
             ],
             [
              1,
              "#f0f921"
             ]
            ],
            "type": "heatmapgl"
           }
          ],
          "histogram": [
           {
            "marker": {
             "pattern": {
              "fillmode": "overlay",
              "size": 10,
              "solidity": 0.2
             }
            },
            "type": "histogram"
           }
          ],
          "histogram2d": [
           {
            "colorbar": {
             "outlinewidth": 0,
             "ticks": ""
            },
            "colorscale": [
             [
              0,
              "#0d0887"
             ],
             [
              0.1111111111111111,
              "#46039f"
             ],
             [
              0.2222222222222222,
              "#7201a8"
             ],
             [
              0.3333333333333333,
              "#9c179e"
             ],
             [
              0.4444444444444444,
              "#bd3786"
             ],
             [
              0.5555555555555556,
              "#d8576b"
             ],
             [
              0.6666666666666666,
              "#ed7953"
             ],
             [
              0.7777777777777778,
              "#fb9f3a"
             ],
             [
              0.8888888888888888,
              "#fdca26"
             ],
             [
              1,
              "#f0f921"
             ]
            ],
            "type": "histogram2d"
           }
          ],
          "histogram2dcontour": [
           {
            "colorbar": {
             "outlinewidth": 0,
             "ticks": ""
            },
            "colorscale": [
             [
              0,
              "#0d0887"
             ],
             [
              0.1111111111111111,
              "#46039f"
             ],
             [
              0.2222222222222222,
              "#7201a8"
             ],
             [
              0.3333333333333333,
              "#9c179e"
             ],
             [
              0.4444444444444444,
              "#bd3786"
             ],
             [
              0.5555555555555556,
              "#d8576b"
             ],
             [
              0.6666666666666666,
              "#ed7953"
             ],
             [
              0.7777777777777778,
              "#fb9f3a"
             ],
             [
              0.8888888888888888,
              "#fdca26"
             ],
             [
              1,
              "#f0f921"
             ]
            ],
            "type": "histogram2dcontour"
           }
          ],
          "mesh3d": [
           {
            "colorbar": {
             "outlinewidth": 0,
             "ticks": ""
            },
            "type": "mesh3d"
           }
          ],
          "parcoords": [
           {
            "line": {
             "colorbar": {
              "outlinewidth": 0,
              "ticks": ""
             }
            },
            "type": "parcoords"
           }
          ],
          "pie": [
           {
            "automargin": true,
            "type": "pie"
           }
          ],
          "scatter": [
           {
            "marker": {
             "colorbar": {
              "outlinewidth": 0,
              "ticks": ""
             }
            },
            "type": "scatter"
           }
          ],
          "scatter3d": [
           {
            "line": {
             "colorbar": {
              "outlinewidth": 0,
              "ticks": ""
             }
            },
            "marker": {
             "colorbar": {
              "outlinewidth": 0,
              "ticks": ""
             }
            },
            "type": "scatter3d"
           }
          ],
          "scattercarpet": [
           {
            "marker": {
             "colorbar": {
              "outlinewidth": 0,
              "ticks": ""
             }
            },
            "type": "scattercarpet"
           }
          ],
          "scattergeo": [
           {
            "marker": {
             "colorbar": {
              "outlinewidth": 0,
              "ticks": ""
             }
            },
            "type": "scattergeo"
           }
          ],
          "scattergl": [
           {
            "marker": {
             "colorbar": {
              "outlinewidth": 0,
              "ticks": ""
             }
            },
            "type": "scattergl"
           }
          ],
          "scattermapbox": [
           {
            "marker": {
             "colorbar": {
              "outlinewidth": 0,
              "ticks": ""
             }
            },
            "type": "scattermapbox"
           }
          ],
          "scatterpolar": [
           {
            "marker": {
             "colorbar": {
              "outlinewidth": 0,
              "ticks": ""
             }
            },
            "type": "scatterpolar"
           }
          ],
          "scatterpolargl": [
           {
            "marker": {
             "colorbar": {
              "outlinewidth": 0,
              "ticks": ""
             }
            },
            "type": "scatterpolargl"
           }
          ],
          "scatterternary": [
           {
            "marker": {
             "colorbar": {
              "outlinewidth": 0,
              "ticks": ""
             }
            },
            "type": "scatterternary"
           }
          ],
          "surface": [
           {
            "colorbar": {
             "outlinewidth": 0,
             "ticks": ""
            },
            "colorscale": [
             [
              0,
              "#0d0887"
             ],
             [
              0.1111111111111111,
              "#46039f"
             ],
             [
              0.2222222222222222,
              "#7201a8"
             ],
             [
              0.3333333333333333,
              "#9c179e"
             ],
             [
              0.4444444444444444,
              "#bd3786"
             ],
             [
              0.5555555555555556,
              "#d8576b"
             ],
             [
              0.6666666666666666,
              "#ed7953"
             ],
             [
              0.7777777777777778,
              "#fb9f3a"
             ],
             [
              0.8888888888888888,
              "#fdca26"
             ],
             [
              1,
              "#f0f921"
             ]
            ],
            "type": "surface"
           }
          ],
          "table": [
           {
            "cells": {
             "fill": {
              "color": "#EBF0F8"
             },
             "line": {
              "color": "white"
             }
            },
            "header": {
             "fill": {
              "color": "#C8D4E3"
             },
             "line": {
              "color": "white"
             }
            },
            "type": "table"
           }
          ]
         },
         "layout": {
          "annotationdefaults": {
           "arrowcolor": "#2a3f5f",
           "arrowhead": 0,
           "arrowwidth": 1
          },
          "autotypenumbers": "strict",
          "coloraxis": {
           "colorbar": {
            "outlinewidth": 0,
            "ticks": ""
           }
          },
          "colorscale": {
           "diverging": [
            [
             0,
             "#8e0152"
            ],
            [
             0.1,
             "#c51b7d"
            ],
            [
             0.2,
             "#de77ae"
            ],
            [
             0.3,
             "#f1b6da"
            ],
            [
             0.4,
             "#fde0ef"
            ],
            [
             0.5,
             "#f7f7f7"
            ],
            [
             0.6,
             "#e6f5d0"
            ],
            [
             0.7,
             "#b8e186"
            ],
            [
             0.8,
             "#7fbc41"
            ],
            [
             0.9,
             "#4d9221"
            ],
            [
             1,
             "#276419"
            ]
           ],
           "sequential": [
            [
             0,
             "#0d0887"
            ],
            [
             0.1111111111111111,
             "#46039f"
            ],
            [
             0.2222222222222222,
             "#7201a8"
            ],
            [
             0.3333333333333333,
             "#9c179e"
            ],
            [
             0.4444444444444444,
             "#bd3786"
            ],
            [
             0.5555555555555556,
             "#d8576b"
            ],
            [
             0.6666666666666666,
             "#ed7953"
            ],
            [
             0.7777777777777778,
             "#fb9f3a"
            ],
            [
             0.8888888888888888,
             "#fdca26"
            ],
            [
             1,
             "#f0f921"
            ]
           ],
           "sequentialminus": [
            [
             0,
             "#0d0887"
            ],
            [
             0.1111111111111111,
             "#46039f"
            ],
            [
             0.2222222222222222,
             "#7201a8"
            ],
            [
             0.3333333333333333,
             "#9c179e"
            ],
            [
             0.4444444444444444,
             "#bd3786"
            ],
            [
             0.5555555555555556,
             "#d8576b"
            ],
            [
             0.6666666666666666,
             "#ed7953"
            ],
            [
             0.7777777777777778,
             "#fb9f3a"
            ],
            [
             0.8888888888888888,
             "#fdca26"
            ],
            [
             1,
             "#f0f921"
            ]
           ]
          },
          "colorway": [
           "#636efa",
           "#EF553B",
           "#00cc96",
           "#ab63fa",
           "#FFA15A",
           "#19d3f3",
           "#FF6692",
           "#B6E880",
           "#FF97FF",
           "#FECB52"
          ],
          "font": {
           "color": "#2a3f5f"
          },
          "geo": {
           "bgcolor": "white",
           "lakecolor": "white",
           "landcolor": "#E5ECF6",
           "showlakes": true,
           "showland": true,
           "subunitcolor": "white"
          },
          "hoverlabel": {
           "align": "left"
          },
          "hovermode": "closest",
          "mapbox": {
           "style": "light"
          },
          "paper_bgcolor": "white",
          "plot_bgcolor": "#E5ECF6",
          "polar": {
           "angularaxis": {
            "gridcolor": "white",
            "linecolor": "white",
            "ticks": ""
           },
           "bgcolor": "#E5ECF6",
           "radialaxis": {
            "gridcolor": "white",
            "linecolor": "white",
            "ticks": ""
           }
          },
          "scene": {
           "xaxis": {
            "backgroundcolor": "#E5ECF6",
            "gridcolor": "white",
            "gridwidth": 2,
            "linecolor": "white",
            "showbackground": true,
            "ticks": "",
            "zerolinecolor": "white"
           },
           "yaxis": {
            "backgroundcolor": "#E5ECF6",
            "gridcolor": "white",
            "gridwidth": 2,
            "linecolor": "white",
            "showbackground": true,
            "ticks": "",
            "zerolinecolor": "white"
           },
           "zaxis": {
            "backgroundcolor": "#E5ECF6",
            "gridcolor": "white",
            "gridwidth": 2,
            "linecolor": "white",
            "showbackground": true,
            "ticks": "",
            "zerolinecolor": "white"
           }
          },
          "shapedefaults": {
           "line": {
            "color": "#2a3f5f"
           }
          },
          "ternary": {
           "aaxis": {
            "gridcolor": "white",
            "linecolor": "white",
            "ticks": ""
           },
           "baxis": {
            "gridcolor": "white",
            "linecolor": "white",
            "ticks": ""
           },
           "bgcolor": "#E5ECF6",
           "caxis": {
            "gridcolor": "white",
            "linecolor": "white",
            "ticks": ""
           }
          },
          "title": {
           "x": 0.05
          },
          "xaxis": {
           "automargin": true,
           "gridcolor": "white",
           "linecolor": "white",
           "ticks": "",
           "title": {
            "standoff": 15
           },
           "zerolinecolor": "white",
           "zerolinewidth": 2
          },
          "yaxis": {
           "automargin": true,
           "gridcolor": "white",
           "linecolor": "white",
           "ticks": "",
           "title": {
            "standoff": 15
           },
           "zerolinecolor": "white",
           "zerolinewidth": 2
          }
         }
        },
        "title": {
         "font": {
          "size": 20
         },
         "text": "Average Number of Vegetables Eaten a Day",
         "x": 0.5,
         "xanchor": "center",
         "y": 0.9,
         "yanchor": "top"
        }
       }
      },
      "text/html": [
       "<div>                            <div id=\"214e9f8a-2c8f-44e2-b39c-5c3732651d3f\" class=\"plotly-graph-div\" style=\"height:525px; width:100%;\"></div>            <script type=\"text/javascript\">                require([\"plotly\"], function(Plotly) {                    window.PLOTLYENV=window.PLOTLYENV || {};                                    if (document.getElementById(\"214e9f8a-2c8f-44e2-b39c-5c3732651d3f\")) {                    Plotly.newPlot(                        \"214e9f8a-2c8f-44e2-b39c-5c3732651d3f\",                        [{\"autocolorscale\":false,\"colorscale\":[[0.0,\"rgb(209, 238, 234)\"],[0.16666666666666666,\"rgb(168, 219, 217)\"],[0.3333333333333333,\"rgb(133, 196, 201)\"],[0.5,\"rgb(104, 171, 184)\"],[0.6666666666666666,\"rgb(79, 144, 166)\"],[0.8333333333333334,\"rgb(59, 115, 143)\"],[1.0,\"rgb(42, 86, 116)\"]],\"locationmode\":\"USA-states\",\"locations\":[\"AK\",\"AL\",\"AR\",\"AZ\",\"CA\",\"CO\",\"CT\",\"DC\",\"DE\",\"FL\",\"GA\",\"GU\",\"HI\",\"IA\",\"ID\",\"IL\",\"IN\",\"KS\",\"KY\",\"LA\",\"MA\",\"MD\",\"ME\",\"MI\",\"MN\",\"MO\",\"MS\",\"MT\",\"NC\",\"ND\",\"NE\",\"NH\",\"NM\",\"NV\",\"NY\",\"OH\",\"OK\",\"OR\",\"PA\",\"PR\",\"RI\",\"SC\",\"SD\",\"TN\",\"TX\",\"UT\",\"VA\",\"VT\",\"WA\",\"WI\",\"WV\",\"WY\"],\"marker\":{\"line\":{\"color\":\"white\"}},\"text\":[\"AK\",\"AL\",\"AR\",\"AZ\",\"CA\",\"CO\",\"CT\",\"DC\",\"DE\",\"FL\",\"GA\",\"GU\",\"HI\",\"IA\",\"ID\",\"IL\",\"IN\",\"KS\",\"KY\",\"LA\",\"MA\",\"MD\",\"ME\",\"MI\",\"MN\",\"MO\",\"MS\",\"MT\",\"NC\",\"ND\",\"NE\",\"NH\",\"NM\",\"NV\",\"NY\",\"OH\",\"OK\",\"OR\",\"PA\",\"PR\",\"RI\",\"SC\",\"SD\",\"TN\",\"TX\",\"UT\",\"VA\",\"VT\",\"WA\",\"WI\",\"WV\",\"WY\"],\"type\":\"choropleth\",\"z\":[2.3325279814743376,1.744130363576816,2.422322326700201,2.6505384310093665,1.8252883655956837,1.8766068535825604,2.916832654100842,2.085319444444446,1.8648199697428185,1.9841522712731674,1.8945253576072794,1.9258224907063217,1.9519154087154673,1.7539988564894264,2.0107049282595155,1.857670825906124,2.6769453719781002,2.040008107834188,1.739231415371691,1.8055306276783591,2.057149492017422,2.038000924580604,2.1073943867145735,1.7814858392336503,1.8523538842734086,1.8140245938970763,1.8487217219415821,1.9533554534626576,1.974628405183819,1.781760673717194,1.8260097375105657,2.3716227018385307,1.8232984684348168,1.7827817460317474,2.667969368439132,1.8118226221079619,1.7666848854320016,2.132664384795539,1.8269708640321525,1.2368742194469284,2.7930318622600474,2.0675667367739843,1.870031332453827,1.9915174418604717,2.533878722990034,1.8327070688206073,1.9268002756402896,3.2516780698595467,2.2216046122700135,1.769906669701802,1.8306866234038153,1.8745895343254961]}],                        {\"font\":{\"color\":\"Black\"},\"geo\":{\"lakecolor\":\"rgb(255, 255, 255)\",\"projection\":{\"type\":\"albers usa\"},\"scope\":\"usa\",\"showlakes\":true},\"template\":{\"data\":{\"bar\":[{\"error_x\":{\"color\":\"#2a3f5f\"},\"error_y\":{\"color\":\"#2a3f5f\"},\"marker\":{\"line\":{\"color\":\"#E5ECF6\",\"width\":0.5},\"pattern\":{\"fillmode\":\"overlay\",\"size\":10,\"solidity\":0.2}},\"type\":\"bar\"}],\"barpolar\":[{\"marker\":{\"line\":{\"color\":\"#E5ECF6\",\"width\":0.5},\"pattern\":{\"fillmode\":\"overlay\",\"size\":10,\"solidity\":0.2}},\"type\":\"barpolar\"}],\"carpet\":[{\"aaxis\":{\"endlinecolor\":\"#2a3f5f\",\"gridcolor\":\"white\",\"linecolor\":\"white\",\"minorgridcolor\":\"white\",\"startlinecolor\":\"#2a3f5f\"},\"baxis\":{\"endlinecolor\":\"#2a3f5f\",\"gridcolor\":\"white\",\"linecolor\":\"white\",\"minorgridcolor\":\"white\",\"startlinecolor\":\"#2a3f5f\"},\"type\":\"carpet\"}],\"choropleth\":[{\"colorbar\":{\"outlinewidth\":0,\"ticks\":\"\"},\"type\":\"choropleth\"}],\"contour\":[{\"colorbar\":{\"outlinewidth\":0,\"ticks\":\"\"},\"colorscale\":[[0.0,\"#0d0887\"],[0.1111111111111111,\"#46039f\"],[0.2222222222222222,\"#7201a8\"],[0.3333333333333333,\"#9c179e\"],[0.4444444444444444,\"#bd3786\"],[0.5555555555555556,\"#d8576b\"],[0.6666666666666666,\"#ed7953\"],[0.7777777777777778,\"#fb9f3a\"],[0.8888888888888888,\"#fdca26\"],[1.0,\"#f0f921\"]],\"type\":\"contour\"}],\"contourcarpet\":[{\"colorbar\":{\"outlinewidth\":0,\"ticks\":\"\"},\"type\":\"contourcarpet\"}],\"heatmap\":[{\"colorbar\":{\"outlinewidth\":0,\"ticks\":\"\"},\"colorscale\":[[0.0,\"#0d0887\"],[0.1111111111111111,\"#46039f\"],[0.2222222222222222,\"#7201a8\"],[0.3333333333333333,\"#9c179e\"],[0.4444444444444444,\"#bd3786\"],[0.5555555555555556,\"#d8576b\"],[0.6666666666666666,\"#ed7953\"],[0.7777777777777778,\"#fb9f3a\"],[0.8888888888888888,\"#fdca26\"],[1.0,\"#f0f921\"]],\"type\":\"heatmap\"}],\"heatmapgl\":[{\"colorbar\":{\"outlinewidth\":0,\"ticks\":\"\"},\"colorscale\":[[0.0,\"#0d0887\"],[0.1111111111111111,\"#46039f\"],[0.2222222222222222,\"#7201a8\"],[0.3333333333333333,\"#9c179e\"],[0.4444444444444444,\"#bd3786\"],[0.5555555555555556,\"#d8576b\"],[0.6666666666666666,\"#ed7953\"],[0.7777777777777778,\"#fb9f3a\"],[0.8888888888888888,\"#fdca26\"],[1.0,\"#f0f921\"]],\"type\":\"heatmapgl\"}],\"histogram\":[{\"marker\":{\"pattern\":{\"fillmode\":\"overlay\",\"size\":10,\"solidity\":0.2}},\"type\":\"histogram\"}],\"histogram2d\":[{\"colorbar\":{\"outlinewidth\":0,\"ticks\":\"\"},\"colorscale\":[[0.0,\"#0d0887\"],[0.1111111111111111,\"#46039f\"],[0.2222222222222222,\"#7201a8\"],[0.3333333333333333,\"#9c179e\"],[0.4444444444444444,\"#bd3786\"],[0.5555555555555556,\"#d8576b\"],[0.6666666666666666,\"#ed7953\"],[0.7777777777777778,\"#fb9f3a\"],[0.8888888888888888,\"#fdca26\"],[1.0,\"#f0f921\"]],\"type\":\"histogram2d\"}],\"histogram2dcontour\":[{\"colorbar\":{\"outlinewidth\":0,\"ticks\":\"\"},\"colorscale\":[[0.0,\"#0d0887\"],[0.1111111111111111,\"#46039f\"],[0.2222222222222222,\"#7201a8\"],[0.3333333333333333,\"#9c179e\"],[0.4444444444444444,\"#bd3786\"],[0.5555555555555556,\"#d8576b\"],[0.6666666666666666,\"#ed7953\"],[0.7777777777777778,\"#fb9f3a\"],[0.8888888888888888,\"#fdca26\"],[1.0,\"#f0f921\"]],\"type\":\"histogram2dcontour\"}],\"mesh3d\":[{\"colorbar\":{\"outlinewidth\":0,\"ticks\":\"\"},\"type\":\"mesh3d\"}],\"parcoords\":[{\"line\":{\"colorbar\":{\"outlinewidth\":0,\"ticks\":\"\"}},\"type\":\"parcoords\"}],\"pie\":[{\"automargin\":true,\"type\":\"pie\"}],\"scatter\":[{\"marker\":{\"colorbar\":{\"outlinewidth\":0,\"ticks\":\"\"}},\"type\":\"scatter\"}],\"scatter3d\":[{\"line\":{\"colorbar\":{\"outlinewidth\":0,\"ticks\":\"\"}},\"marker\":{\"colorbar\":{\"outlinewidth\":0,\"ticks\":\"\"}},\"type\":\"scatter3d\"}],\"scattercarpet\":[{\"marker\":{\"colorbar\":{\"outlinewidth\":0,\"ticks\":\"\"}},\"type\":\"scattercarpet\"}],\"scattergeo\":[{\"marker\":{\"colorbar\":{\"outlinewidth\":0,\"ticks\":\"\"}},\"type\":\"scattergeo\"}],\"scattergl\":[{\"marker\":{\"colorbar\":{\"outlinewidth\":0,\"ticks\":\"\"}},\"type\":\"scattergl\"}],\"scattermapbox\":[{\"marker\":{\"colorbar\":{\"outlinewidth\":0,\"ticks\":\"\"}},\"type\":\"scattermapbox\"}],\"scatterpolar\":[{\"marker\":{\"colorbar\":{\"outlinewidth\":0,\"ticks\":\"\"}},\"type\":\"scatterpolar\"}],\"scatterpolargl\":[{\"marker\":{\"colorbar\":{\"outlinewidth\":0,\"ticks\":\"\"}},\"type\":\"scatterpolargl\"}],\"scatterternary\":[{\"marker\":{\"colorbar\":{\"outlinewidth\":0,\"ticks\":\"\"}},\"type\":\"scatterternary\"}],\"surface\":[{\"colorbar\":{\"outlinewidth\":0,\"ticks\":\"\"},\"colorscale\":[[0.0,\"#0d0887\"],[0.1111111111111111,\"#46039f\"],[0.2222222222222222,\"#7201a8\"],[0.3333333333333333,\"#9c179e\"],[0.4444444444444444,\"#bd3786\"],[0.5555555555555556,\"#d8576b\"],[0.6666666666666666,\"#ed7953\"],[0.7777777777777778,\"#fb9f3a\"],[0.8888888888888888,\"#fdca26\"],[1.0,\"#f0f921\"]],\"type\":\"surface\"}],\"table\":[{\"cells\":{\"fill\":{\"color\":\"#EBF0F8\"},\"line\":{\"color\":\"white\"}},\"header\":{\"fill\":{\"color\":\"#C8D4E3\"},\"line\":{\"color\":\"white\"}},\"type\":\"table\"}]},\"layout\":{\"annotationdefaults\":{\"arrowcolor\":\"#2a3f5f\",\"arrowhead\":0,\"arrowwidth\":1},\"autotypenumbers\":\"strict\",\"coloraxis\":{\"colorbar\":{\"outlinewidth\":0,\"ticks\":\"\"}},\"colorscale\":{\"diverging\":[[0,\"#8e0152\"],[0.1,\"#c51b7d\"],[0.2,\"#de77ae\"],[0.3,\"#f1b6da\"],[0.4,\"#fde0ef\"],[0.5,\"#f7f7f7\"],[0.6,\"#e6f5d0\"],[0.7,\"#b8e186\"],[0.8,\"#7fbc41\"],[0.9,\"#4d9221\"],[1,\"#276419\"]],\"sequential\":[[0.0,\"#0d0887\"],[0.1111111111111111,\"#46039f\"],[0.2222222222222222,\"#7201a8\"],[0.3333333333333333,\"#9c179e\"],[0.4444444444444444,\"#bd3786\"],[0.5555555555555556,\"#d8576b\"],[0.6666666666666666,\"#ed7953\"],[0.7777777777777778,\"#fb9f3a\"],[0.8888888888888888,\"#fdca26\"],[1.0,\"#f0f921\"]],\"sequentialminus\":[[0.0,\"#0d0887\"],[0.1111111111111111,\"#46039f\"],[0.2222222222222222,\"#7201a8\"],[0.3333333333333333,\"#9c179e\"],[0.4444444444444444,\"#bd3786\"],[0.5555555555555556,\"#d8576b\"],[0.6666666666666666,\"#ed7953\"],[0.7777777777777778,\"#fb9f3a\"],[0.8888888888888888,\"#fdca26\"],[1.0,\"#f0f921\"]]},\"colorway\":[\"#636efa\",\"#EF553B\",\"#00cc96\",\"#ab63fa\",\"#FFA15A\",\"#19d3f3\",\"#FF6692\",\"#B6E880\",\"#FF97FF\",\"#FECB52\"],\"font\":{\"color\":\"#2a3f5f\"},\"geo\":{\"bgcolor\":\"white\",\"lakecolor\":\"white\",\"landcolor\":\"#E5ECF6\",\"showlakes\":true,\"showland\":true,\"subunitcolor\":\"white\"},\"hoverlabel\":{\"align\":\"left\"},\"hovermode\":\"closest\",\"mapbox\":{\"style\":\"light\"},\"paper_bgcolor\":\"white\",\"plot_bgcolor\":\"#E5ECF6\",\"polar\":{\"angularaxis\":{\"gridcolor\":\"white\",\"linecolor\":\"white\",\"ticks\":\"\"},\"bgcolor\":\"#E5ECF6\",\"radialaxis\":{\"gridcolor\":\"white\",\"linecolor\":\"white\",\"ticks\":\"\"}},\"scene\":{\"xaxis\":{\"backgroundcolor\":\"#E5ECF6\",\"gridcolor\":\"white\",\"gridwidth\":2,\"linecolor\":\"white\",\"showbackground\":true,\"ticks\":\"\",\"zerolinecolor\":\"white\"},\"yaxis\":{\"backgroundcolor\":\"#E5ECF6\",\"gridcolor\":\"white\",\"gridwidth\":2,\"linecolor\":\"white\",\"showbackground\":true,\"ticks\":\"\",\"zerolinecolor\":\"white\"},\"zaxis\":{\"backgroundcolor\":\"#E5ECF6\",\"gridcolor\":\"white\",\"gridwidth\":2,\"linecolor\":\"white\",\"showbackground\":true,\"ticks\":\"\",\"zerolinecolor\":\"white\"}},\"shapedefaults\":{\"line\":{\"color\":\"#2a3f5f\"}},\"ternary\":{\"aaxis\":{\"gridcolor\":\"white\",\"linecolor\":\"white\",\"ticks\":\"\"},\"baxis\":{\"gridcolor\":\"white\",\"linecolor\":\"white\",\"ticks\":\"\"},\"bgcolor\":\"#E5ECF6\",\"caxis\":{\"gridcolor\":\"white\",\"linecolor\":\"white\",\"ticks\":\"\"}},\"title\":{\"x\":0.05},\"xaxis\":{\"automargin\":true,\"gridcolor\":\"white\",\"linecolor\":\"white\",\"ticks\":\"\",\"title\":{\"standoff\":15},\"zerolinecolor\":\"white\",\"zerolinewidth\":2},\"yaxis\":{\"automargin\":true,\"gridcolor\":\"white\",\"linecolor\":\"white\",\"ticks\":\"\",\"title\":{\"standoff\":15},\"zerolinecolor\":\"white\",\"zerolinewidth\":2}}},\"title\":{\"font\":{\"size\":20},\"text\":\"Average Number of Vegetables Eaten a Day\",\"x\":0.5,\"xanchor\":\"center\",\"y\":0.9,\"yanchor\":\"top\"}},                        {\"responsive\": true}                    ).then(function(){\n",
       "                            \n",
       "var gd = document.getElementById('214e9f8a-2c8f-44e2-b39c-5c3732651d3f');\n",
       "var x = new MutationObserver(function (mutations, observer) {{\n",
       "        var display = window.getComputedStyle(gd).display;\n",
       "        if (!display || display === 'none') {{\n",
       "            console.log([gd, 'removed!']);\n",
       "            Plotly.purge(gd);\n",
       "            observer.disconnect();\n",
       "        }}\n",
       "}});\n",
       "\n",
       "// Listen for the removal of the full notebook cells\n",
       "var notebookContainer = gd.closest('#notebook-container');\n",
       "if (notebookContainer) {{\n",
       "    x.observe(notebookContainer, {childList: true});\n",
       "}}\n",
       "\n",
       "// Listen for the clearing of the current output cell\n",
       "var outputEl = gd.closest('.output');\n",
       "if (outputEl) {{\n",
       "    x.observe(outputEl, {childList: true});\n",
       "}}\n",
       "\n",
       "                        })                };                });            </script>        </div>"
      ]
     },
     "metadata": {},
     "output_type": "display_data"
    }
   ],
   "source": [
    "behaviour_fig = go.Figure(data=go.Choropleth(\n",
    "    locations=hb_df['_STATE'],\n",
    "    z=hb_df['_VEGESU1'].astype(float),\n",
    "    locationmode='USA-states',\n",
    "    colorscale='Teal',\n",
    "    autocolorscale=False,\n",
    "    text=hb_df['_STATE'], # hover text\n",
    "    marker_line_color='white', # line markers between states\n",
    "    #colorbar_title=\"Vegetables Eaten per Day\"\n",
    "))\n",
    "\n",
    "behaviour_fig.update_layout(\n",
    "    #font_family=\"Bookman Antiqua\",\n",
    "    font_color=\"Black\",\n",
    "    title ={'text':'Average Number of Vegetables Eaten a Day',\n",
    "           'font_size':20,\n",
    "           'y':0.9,\n",
    "            'x':0.5,\n",
    "            'xanchor': 'center',\n",
    "            'yanchor': 'top'},\n",
    "    geo = dict(\n",
    "        scope='usa',\n",
    "        projection=go.layout.geo.Projection(type = 'albers usa'),\n",
    "        showlakes=True, # lakes\n",
    "        lakecolor='rgb(255, 255, 255)'),\n",
    ")\n",
    "\n",
    "behaviour_fig.show()"
   ]
  },
  {
   "cell_type": "code",
   "execution_count": 153,
   "id": "5464b05f",
   "metadata": {},
   "outputs": [],
   "source": [
    "##HEALTH BEHAVIOUR DROP DOWN CHOROPLETH\n",
    "#Including, daily veg, daily fruit, daily fries, alcohol, smoking, phys activity, strength\n",
    "button1 = dict(method= 'update',\n",
    "               label='Daily Veg',\n",
    "               args=[\n",
    "                    {\"locations\":[hb_df['_STATE']],\n",
    "                     \"z\": [hb_df['_VEGESU1']],\n",
    "                    \"text\":[hb_df['_STATE']], # hover text\n",
    "                    \"marker_line_color\":['white'], # line markers between states\n",
    "                    \"colorbar_title\": [\"Vegetables per Day\"]\n",
    "                                    }, {'title.text' : 'Average Number of Vegetables Eaten per Day'}\n",
    "                                 ])\n",
    "\n",
    "button2 = dict(method= 'update',\n",
    "               label='Daily Fruit',\n",
    "               args=[\n",
    "                    {\"locations\":[hb_df['_STATE']],\n",
    "                     \"z\": [hb_df['_FRUTSU1']],\n",
    "                    \"text\":[hb_df['_STATE']], # hover text\n",
    "                    \"marker_line_color\":['white'], # line markers between states\n",
    "                    \"colorbar_title\": [\"Fruits per Day\"]\n",
    "                                    },  {'title.text' : 'Average Number of Fruits Eaten per Day'}\n",
    "                                 ])\n",
    "button3 = dict(method= 'update',\n",
    "               label='Weekly Fries',\n",
    "               args=[\n",
    "                    {\"locations\":[hb_df['_STATE']],\n",
    "                     \"z\": [hb_df['FRNCHDA_']],\n",
    "                    \"text\":[hb_df['_STATE']], # hover text\n",
    "                    \"marker_line_color\":['white'], # line markers between states\n",
    "                    \"colorbar_title\": [\"Servings of Fries per Week\"]\n",
    "                                    },  {'title.text' : 'Average Number of Times French Fries are Eaten per Week'}\n",
    "                                 ])\n",
    "\n",
    "button4 = dict(method= 'update',\n",
    "               label='Alcohol',\n",
    "               args=[\n",
    "                    {\"locations\":[hb_df['_STATE']],\n",
    "                     \"z\": [hb_df['_RFDRHV7']],\n",
    "                    \"text\":[hb_df['_STATE']], # hover text\n",
    "                    \"marker_line_color\":['white'], # line markers between states\n",
    "                    \"colorbar_title\": [\"% of Heavy Drinkers\"]\n",
    "                                    },  {'title.text' : 'Percentage of State Population Considered Heavy Drinkers<br>adult men having more than 14 drinks per week and adult women having more than 7 drinks per week<br>(Hover for breakdown)'}\n",
    "                                 ])\n",
    "\n",
    "button5 = dict(method= 'update',\n",
    "               label='Smoking',\n",
    "               args=[\n",
    "                    {\"locations\":[hb_df['_STATE']],\n",
    "                     \"z\": [hb_df['_RFSMOK3']],\n",
    "                    \"text\":[hb_df['_STATE']], # hover text\n",
    "                    \"marker_line_color\":['white'], # line markers between states\n",
    "                    \"colorbar_title\": [\"% of Current Smokers\"]\n",
    "                                   },  {'title.text' : 'Percentage of State Population Currently Smoking Cigarettes<br> Includes Daily and Occasional Smokers <br>(Hover for breakdown)'}\n",
    "                                 ])\n",
    "\n",
    "button6 = dict(method= 'update',\n",
    "               label='Aerobic Exc',\n",
    "               args=[\n",
    "                    {\"locations\":[hb_df['_STATE']],\n",
    "                     \"z\": [hb_df['_PAINDX2']],\n",
    "                    \"text\":[hb_df['_STATE']], # hover text\n",
    "                    \"marker_line_color\":['white'], # line markers between states\n",
    "                    \"colorbar_title\": [\"% Meeting Recommendations\"]\n",
    "                                    },  {'title.text' : 'Percentage of State Population Meeting Weeekly Aerobic Exercise Recommendations<br>(Hover for breakdown)'}\n",
    "                                 ])\n",
    "\n",
    "button7 = dict(method= 'update',\n",
    "               label='Strength Exc',\n",
    "               args=[\n",
    "                    {\"locations\":[hb_df['_STATE']],\n",
    "                     \"z\": [hb_df['_PASTRNG']],\n",
    "                    \"text\":[hb_df['_STATE']], # hover text\n",
    "                    \"marker_line_color\":['white'], # line markers between states\n",
    "                    \"colorbar_title\": [\"% Meeting Recommendations\"]\n",
    "                                    },  {'title.text' : 'Percentage of State Population Meeting Weeekly Strength Exercise Recommendationsk<br>(Hover for breakdown)'}\n",
    "                                 ])\n"
   ]
  },
  {
   "cell_type": "code",
   "execution_count": 154,
   "id": "db28d1ba",
   "metadata": {},
   "outputs": [
    {
     "data": {
      "application/vnd.plotly.v1+json": {
       "config": {
        "plotlyServerURL": "https://plotly.com"
       },
       "data": [
        {
         "autocolorscale": false,
         "colorscale": [
          [
           0,
           "rgb(209, 238, 234)"
          ],
          [
           0.16666666666666666,
           "rgb(168, 219, 217)"
          ],
          [
           0.3333333333333333,
           "rgb(133, 196, 201)"
          ],
          [
           0.5,
           "rgb(104, 171, 184)"
          ],
          [
           0.6666666666666666,
           "rgb(79, 144, 166)"
          ],
          [
           0.8333333333333334,
           "rgb(59, 115, 143)"
          ],
          [
           1,
           "rgb(42, 86, 116)"
          ]
         ],
         "locationmode": "USA-states",
         "locations": [
          "AK",
          "AL",
          "AR",
          "AZ",
          "CA",
          "CO",
          "CT",
          "DC",
          "DE",
          "FL",
          "GA",
          "GU",
          "HI",
          "IA",
          "ID",
          "IL",
          "IN",
          "KS",
          "KY",
          "LA",
          "MA",
          "MD",
          "ME",
          "MI",
          "MN",
          "MO",
          "MS",
          "MT",
          "NC",
          "ND",
          "NE",
          "NH",
          "NM",
          "NV",
          "NY",
          "OH",
          "OK",
          "OR",
          "PA",
          "PR",
          "RI",
          "SC",
          "SD",
          "TN",
          "TX",
          "UT",
          "VA",
          "VT",
          "WA",
          "WI",
          "WV",
          "WY"
         ],
         "marker": {
          "line": {
           "color": "white"
          }
         },
         "text": [
          "AK",
          "AL",
          "AR",
          "AZ",
          "CA",
          "CO",
          "CT",
          "DC",
          "DE",
          "FL",
          "GA",
          "GU",
          "HI",
          "IA",
          "ID",
          "IL",
          "IN",
          "KS",
          "KY",
          "LA",
          "MA",
          "MD",
          "ME",
          "MI",
          "MN",
          "MO",
          "MS",
          "MT",
          "NC",
          "ND",
          "NE",
          "NH",
          "NM",
          "NV",
          "NY",
          "OH",
          "OK",
          "OR",
          "PA",
          "PR",
          "RI",
          "SC",
          "SD",
          "TN",
          "TX",
          "UT",
          "VA",
          "VT",
          "WA",
          "WI",
          "WV",
          "WY"
         ],
         "type": "choropleth",
         "z": [
          2.3325279814743376,
          1.744130363576816,
          2.422322326700201,
          2.6505384310093665,
          1.8252883655956837,
          1.8766068535825604,
          2.916832654100842,
          2.085319444444446,
          1.8648199697428185,
          1.9841522712731674,
          1.8945253576072794,
          1.9258224907063217,
          1.9519154087154673,
          1.7539988564894264,
          2.0107049282595155,
          1.857670825906124,
          2.6769453719781002,
          2.040008107834188,
          1.739231415371691,
          1.8055306276783591,
          2.057149492017422,
          2.038000924580604,
          2.1073943867145735,
          1.7814858392336503,
          1.8523538842734086,
          1.8140245938970763,
          1.8487217219415821,
          1.9533554534626576,
          1.974628405183819,
          1.781760673717194,
          1.8260097375105657,
          2.3716227018385307,
          1.8232984684348168,
          1.7827817460317474,
          2.667969368439132,
          1.8118226221079619,
          1.7666848854320016,
          2.132664384795539,
          1.8269708640321525,
          1.2368742194469284,
          2.7930318622600474,
          2.0675667367739843,
          1.870031332453827,
          1.9915174418604717,
          2.533878722990034,
          1.8327070688206073,
          1.9268002756402896,
          3.2516780698595467,
          2.2216046122700135,
          1.769906669701802,
          1.8306866234038153,
          1.8745895343254961
         ]
        }
       ],
       "layout": {
        "font": {
         "color": "Black"
        },
        "geo": {
         "lakecolor": "rgb(255, 255, 255)",
         "projection": {
          "type": "albers usa"
         },
         "scope": "usa",
         "showlakes": true
        },
        "template": {
         "data": {
          "bar": [
           {
            "error_x": {
             "color": "#2a3f5f"
            },
            "error_y": {
             "color": "#2a3f5f"
            },
            "marker": {
             "line": {
              "color": "#E5ECF6",
              "width": 0.5
             },
             "pattern": {
              "fillmode": "overlay",
              "size": 10,
              "solidity": 0.2
             }
            },
            "type": "bar"
           }
          ],
          "barpolar": [
           {
            "marker": {
             "line": {
              "color": "#E5ECF6",
              "width": 0.5
             },
             "pattern": {
              "fillmode": "overlay",
              "size": 10,
              "solidity": 0.2
             }
            },
            "type": "barpolar"
           }
          ],
          "carpet": [
           {
            "aaxis": {
             "endlinecolor": "#2a3f5f",
             "gridcolor": "white",
             "linecolor": "white",
             "minorgridcolor": "white",
             "startlinecolor": "#2a3f5f"
            },
            "baxis": {
             "endlinecolor": "#2a3f5f",
             "gridcolor": "white",
             "linecolor": "white",
             "minorgridcolor": "white",
             "startlinecolor": "#2a3f5f"
            },
            "type": "carpet"
           }
          ],
          "choropleth": [
           {
            "colorbar": {
             "outlinewidth": 0,
             "ticks": ""
            },
            "type": "choropleth"
           }
          ],
          "contour": [
           {
            "colorbar": {
             "outlinewidth": 0,
             "ticks": ""
            },
            "colorscale": [
             [
              0,
              "#0d0887"
             ],
             [
              0.1111111111111111,
              "#46039f"
             ],
             [
              0.2222222222222222,
              "#7201a8"
             ],
             [
              0.3333333333333333,
              "#9c179e"
             ],
             [
              0.4444444444444444,
              "#bd3786"
             ],
             [
              0.5555555555555556,
              "#d8576b"
             ],
             [
              0.6666666666666666,
              "#ed7953"
             ],
             [
              0.7777777777777778,
              "#fb9f3a"
             ],
             [
              0.8888888888888888,
              "#fdca26"
             ],
             [
              1,
              "#f0f921"
             ]
            ],
            "type": "contour"
           }
          ],
          "contourcarpet": [
           {
            "colorbar": {
             "outlinewidth": 0,
             "ticks": ""
            },
            "type": "contourcarpet"
           }
          ],
          "heatmap": [
           {
            "colorbar": {
             "outlinewidth": 0,
             "ticks": ""
            },
            "colorscale": [
             [
              0,
              "#0d0887"
             ],
             [
              0.1111111111111111,
              "#46039f"
             ],
             [
              0.2222222222222222,
              "#7201a8"
             ],
             [
              0.3333333333333333,
              "#9c179e"
             ],
             [
              0.4444444444444444,
              "#bd3786"
             ],
             [
              0.5555555555555556,
              "#d8576b"
             ],
             [
              0.6666666666666666,
              "#ed7953"
             ],
             [
              0.7777777777777778,
              "#fb9f3a"
             ],
             [
              0.8888888888888888,
              "#fdca26"
             ],
             [
              1,
              "#f0f921"
             ]
            ],
            "type": "heatmap"
           }
          ],
          "heatmapgl": [
           {
            "colorbar": {
             "outlinewidth": 0,
             "ticks": ""
            },
            "colorscale": [
             [
              0,
              "#0d0887"
             ],
             [
              0.1111111111111111,
              "#46039f"
             ],
             [
              0.2222222222222222,
              "#7201a8"
             ],
             [
              0.3333333333333333,
              "#9c179e"
             ],
             [
              0.4444444444444444,
              "#bd3786"
             ],
             [
              0.5555555555555556,
              "#d8576b"
             ],
             [
              0.6666666666666666,
              "#ed7953"
             ],
             [
              0.7777777777777778,
              "#fb9f3a"
             ],
             [
              0.8888888888888888,
              "#fdca26"
             ],
             [
              1,
              "#f0f921"
             ]
            ],
            "type": "heatmapgl"
           }
          ],
          "histogram": [
           {
            "marker": {
             "pattern": {
              "fillmode": "overlay",
              "size": 10,
              "solidity": 0.2
             }
            },
            "type": "histogram"
           }
          ],
          "histogram2d": [
           {
            "colorbar": {
             "outlinewidth": 0,
             "ticks": ""
            },
            "colorscale": [
             [
              0,
              "#0d0887"
             ],
             [
              0.1111111111111111,
              "#46039f"
             ],
             [
              0.2222222222222222,
              "#7201a8"
             ],
             [
              0.3333333333333333,
              "#9c179e"
             ],
             [
              0.4444444444444444,
              "#bd3786"
             ],
             [
              0.5555555555555556,
              "#d8576b"
             ],
             [
              0.6666666666666666,
              "#ed7953"
             ],
             [
              0.7777777777777778,
              "#fb9f3a"
             ],
             [
              0.8888888888888888,
              "#fdca26"
             ],
             [
              1,
              "#f0f921"
             ]
            ],
            "type": "histogram2d"
           }
          ],
          "histogram2dcontour": [
           {
            "colorbar": {
             "outlinewidth": 0,
             "ticks": ""
            },
            "colorscale": [
             [
              0,
              "#0d0887"
             ],
             [
              0.1111111111111111,
              "#46039f"
             ],
             [
              0.2222222222222222,
              "#7201a8"
             ],
             [
              0.3333333333333333,
              "#9c179e"
             ],
             [
              0.4444444444444444,
              "#bd3786"
             ],
             [
              0.5555555555555556,
              "#d8576b"
             ],
             [
              0.6666666666666666,
              "#ed7953"
             ],
             [
              0.7777777777777778,
              "#fb9f3a"
             ],
             [
              0.8888888888888888,
              "#fdca26"
             ],
             [
              1,
              "#f0f921"
             ]
            ],
            "type": "histogram2dcontour"
           }
          ],
          "mesh3d": [
           {
            "colorbar": {
             "outlinewidth": 0,
             "ticks": ""
            },
            "type": "mesh3d"
           }
          ],
          "parcoords": [
           {
            "line": {
             "colorbar": {
              "outlinewidth": 0,
              "ticks": ""
             }
            },
            "type": "parcoords"
           }
          ],
          "pie": [
           {
            "automargin": true,
            "type": "pie"
           }
          ],
          "scatter": [
           {
            "marker": {
             "colorbar": {
              "outlinewidth": 0,
              "ticks": ""
             }
            },
            "type": "scatter"
           }
          ],
          "scatter3d": [
           {
            "line": {
             "colorbar": {
              "outlinewidth": 0,
              "ticks": ""
             }
            },
            "marker": {
             "colorbar": {
              "outlinewidth": 0,
              "ticks": ""
             }
            },
            "type": "scatter3d"
           }
          ],
          "scattercarpet": [
           {
            "marker": {
             "colorbar": {
              "outlinewidth": 0,
              "ticks": ""
             }
            },
            "type": "scattercarpet"
           }
          ],
          "scattergeo": [
           {
            "marker": {
             "colorbar": {
              "outlinewidth": 0,
              "ticks": ""
             }
            },
            "type": "scattergeo"
           }
          ],
          "scattergl": [
           {
            "marker": {
             "colorbar": {
              "outlinewidth": 0,
              "ticks": ""
             }
            },
            "type": "scattergl"
           }
          ],
          "scattermapbox": [
           {
            "marker": {
             "colorbar": {
              "outlinewidth": 0,
              "ticks": ""
             }
            },
            "type": "scattermapbox"
           }
          ],
          "scatterpolar": [
           {
            "marker": {
             "colorbar": {
              "outlinewidth": 0,
              "ticks": ""
             }
            },
            "type": "scatterpolar"
           }
          ],
          "scatterpolargl": [
           {
            "marker": {
             "colorbar": {
              "outlinewidth": 0,
              "ticks": ""
             }
            },
            "type": "scatterpolargl"
           }
          ],
          "scatterternary": [
           {
            "marker": {
             "colorbar": {
              "outlinewidth": 0,
              "ticks": ""
             }
            },
            "type": "scatterternary"
           }
          ],
          "surface": [
           {
            "colorbar": {
             "outlinewidth": 0,
             "ticks": ""
            },
            "colorscale": [
             [
              0,
              "#0d0887"
             ],
             [
              0.1111111111111111,
              "#46039f"
             ],
             [
              0.2222222222222222,
              "#7201a8"
             ],
             [
              0.3333333333333333,
              "#9c179e"
             ],
             [
              0.4444444444444444,
              "#bd3786"
             ],
             [
              0.5555555555555556,
              "#d8576b"
             ],
             [
              0.6666666666666666,
              "#ed7953"
             ],
             [
              0.7777777777777778,
              "#fb9f3a"
             ],
             [
              0.8888888888888888,
              "#fdca26"
             ],
             [
              1,
              "#f0f921"
             ]
            ],
            "type": "surface"
           }
          ],
          "table": [
           {
            "cells": {
             "fill": {
              "color": "#EBF0F8"
             },
             "line": {
              "color": "white"
             }
            },
            "header": {
             "fill": {
              "color": "#C8D4E3"
             },
             "line": {
              "color": "white"
             }
            },
            "type": "table"
           }
          ]
         },
         "layout": {
          "annotationdefaults": {
           "arrowcolor": "#2a3f5f",
           "arrowhead": 0,
           "arrowwidth": 1
          },
          "autotypenumbers": "strict",
          "coloraxis": {
           "colorbar": {
            "outlinewidth": 0,
            "ticks": ""
           }
          },
          "colorscale": {
           "diverging": [
            [
             0,
             "#8e0152"
            ],
            [
             0.1,
             "#c51b7d"
            ],
            [
             0.2,
             "#de77ae"
            ],
            [
             0.3,
             "#f1b6da"
            ],
            [
             0.4,
             "#fde0ef"
            ],
            [
             0.5,
             "#f7f7f7"
            ],
            [
             0.6,
             "#e6f5d0"
            ],
            [
             0.7,
             "#b8e186"
            ],
            [
             0.8,
             "#7fbc41"
            ],
            [
             0.9,
             "#4d9221"
            ],
            [
             1,
             "#276419"
            ]
           ],
           "sequential": [
            [
             0,
             "#0d0887"
            ],
            [
             0.1111111111111111,
             "#46039f"
            ],
            [
             0.2222222222222222,
             "#7201a8"
            ],
            [
             0.3333333333333333,
             "#9c179e"
            ],
            [
             0.4444444444444444,
             "#bd3786"
            ],
            [
             0.5555555555555556,
             "#d8576b"
            ],
            [
             0.6666666666666666,
             "#ed7953"
            ],
            [
             0.7777777777777778,
             "#fb9f3a"
            ],
            [
             0.8888888888888888,
             "#fdca26"
            ],
            [
             1,
             "#f0f921"
            ]
           ],
           "sequentialminus": [
            [
             0,
             "#0d0887"
            ],
            [
             0.1111111111111111,
             "#46039f"
            ],
            [
             0.2222222222222222,
             "#7201a8"
            ],
            [
             0.3333333333333333,
             "#9c179e"
            ],
            [
             0.4444444444444444,
             "#bd3786"
            ],
            [
             0.5555555555555556,
             "#d8576b"
            ],
            [
             0.6666666666666666,
             "#ed7953"
            ],
            [
             0.7777777777777778,
             "#fb9f3a"
            ],
            [
             0.8888888888888888,
             "#fdca26"
            ],
            [
             1,
             "#f0f921"
            ]
           ]
          },
          "colorway": [
           "#636efa",
           "#EF553B",
           "#00cc96",
           "#ab63fa",
           "#FFA15A",
           "#19d3f3",
           "#FF6692",
           "#B6E880",
           "#FF97FF",
           "#FECB52"
          ],
          "font": {
           "color": "#2a3f5f"
          },
          "geo": {
           "bgcolor": "white",
           "lakecolor": "white",
           "landcolor": "#E5ECF6",
           "showlakes": true,
           "showland": true,
           "subunitcolor": "white"
          },
          "hoverlabel": {
           "align": "left"
          },
          "hovermode": "closest",
          "mapbox": {
           "style": "light"
          },
          "paper_bgcolor": "white",
          "plot_bgcolor": "#E5ECF6",
          "polar": {
           "angularaxis": {
            "gridcolor": "white",
            "linecolor": "white",
            "ticks": ""
           },
           "bgcolor": "#E5ECF6",
           "radialaxis": {
            "gridcolor": "white",
            "linecolor": "white",
            "ticks": ""
           }
          },
          "scene": {
           "xaxis": {
            "backgroundcolor": "#E5ECF6",
            "gridcolor": "white",
            "gridwidth": 2,
            "linecolor": "white",
            "showbackground": true,
            "ticks": "",
            "zerolinecolor": "white"
           },
           "yaxis": {
            "backgroundcolor": "#E5ECF6",
            "gridcolor": "white",
            "gridwidth": 2,
            "linecolor": "white",
            "showbackground": true,
            "ticks": "",
            "zerolinecolor": "white"
           },
           "zaxis": {
            "backgroundcolor": "#E5ECF6",
            "gridcolor": "white",
            "gridwidth": 2,
            "linecolor": "white",
            "showbackground": true,
            "ticks": "",
            "zerolinecolor": "white"
           }
          },
          "shapedefaults": {
           "line": {
            "color": "#2a3f5f"
           }
          },
          "ternary": {
           "aaxis": {
            "gridcolor": "white",
            "linecolor": "white",
            "ticks": ""
           },
           "baxis": {
            "gridcolor": "white",
            "linecolor": "white",
            "ticks": ""
           },
           "bgcolor": "#E5ECF6",
           "caxis": {
            "gridcolor": "white",
            "linecolor": "white",
            "ticks": ""
           }
          },
          "title": {
           "x": 0.05
          },
          "xaxis": {
           "automargin": true,
           "gridcolor": "white",
           "linecolor": "white",
           "ticks": "",
           "title": {
            "standoff": 15
           },
           "zerolinecolor": "white",
           "zerolinewidth": 2
          },
          "yaxis": {
           "automargin": true,
           "gridcolor": "white",
           "linecolor": "white",
           "ticks": "",
           "title": {
            "standoff": 15
           },
           "zerolinecolor": "white",
           "zerolinewidth": 2
          }
         }
        },
        "title": {
         "font": {
          "size": 20
         },
         "text": "Average Number of Vegetables Eaten a Day",
         "x": 0.5,
         "xanchor": "center",
         "y": 0.9,
         "yanchor": "top"
        },
        "updatemenus": [
         {
          "active": 0,
          "bgcolor": "rgb(204,234,231)",
          "bordercolor": "white",
          "buttons": [
           {
            "args": [
             {
              "colorbar_title": [
               "Vegetables per Day"
              ],
              "locations": [
               [
                "AK",
                "AL",
                "AR",
                "AZ",
                "CA",
                "CO",
                "CT",
                "DC",
                "DE",
                "FL",
                "GA",
                "GU",
                "HI",
                "IA",
                "ID",
                "IL",
                "IN",
                "KS",
                "KY",
                "LA",
                "MA",
                "MD",
                "ME",
                "MI",
                "MN",
                "MO",
                "MS",
                "MT",
                "NC",
                "ND",
                "NE",
                "NH",
                "NM",
                "NV",
                "NY",
                "OH",
                "OK",
                "OR",
                "PA",
                "PR",
                "RI",
                "SC",
                "SD",
                "TN",
                "TX",
                "UT",
                "VA",
                "VT",
                "WA",
                "WI",
                "WV",
                "WY"
               ]
              ],
              "marker_line_color": [
               "white"
              ],
              "text": [
               [
                "AK",
                "AL",
                "AR",
                "AZ",
                "CA",
                "CO",
                "CT",
                "DC",
                "DE",
                "FL",
                "GA",
                "GU",
                "HI",
                "IA",
                "ID",
                "IL",
                "IN",
                "KS",
                "KY",
                "LA",
                "MA",
                "MD",
                "ME",
                "MI",
                "MN",
                "MO",
                "MS",
                "MT",
                "NC",
                "ND",
                "NE",
                "NH",
                "NM",
                "NV",
                "NY",
                "OH",
                "OK",
                "OR",
                "PA",
                "PR",
                "RI",
                "SC",
                "SD",
                "TN",
                "TX",
                "UT",
                "VA",
                "VT",
                "WA",
                "WI",
                "WV",
                "WY"
               ]
              ],
              "z": [
               [
                2.3325279814743376,
                1.744130363576816,
                2.422322326700201,
                2.6505384310093665,
                1.8252883655956837,
                1.8766068535825604,
                2.916832654100842,
                2.085319444444446,
                1.8648199697428185,
                1.9841522712731674,
                1.8945253576072794,
                1.9258224907063217,
                1.9519154087154673,
                1.7539988564894264,
                2.0107049282595155,
                1.857670825906124,
                2.6769453719781002,
                2.040008107834188,
                1.739231415371691,
                1.8055306276783591,
                2.057149492017422,
                2.038000924580604,
                2.1073943867145735,
                1.7814858392336503,
                1.8523538842734086,
                1.8140245938970763,
                1.8487217219415821,
                1.9533554534626576,
                1.974628405183819,
                1.781760673717194,
                1.8260097375105657,
                2.3716227018385307,
                1.8232984684348168,
                1.7827817460317474,
                2.667969368439132,
                1.8118226221079619,
                1.7666848854320016,
                2.132664384795539,
                1.8269708640321525,
                1.2368742194469284,
                2.7930318622600474,
                2.0675667367739843,
                1.870031332453827,
                1.9915174418604717,
                2.533878722990034,
                1.8327070688206073,
                1.9268002756402896,
                3.2516780698595467,
                2.2216046122700135,
                1.769906669701802,
                1.8306866234038153,
                1.8745895343254961
               ]
              ]
             },
             {
              "title.text": "Average Number of Vegetables Eaten per Day"
             }
            ],
            "label": "Daily Veg",
            "method": "update"
           },
           {
            "args": [
             {
              "colorbar_title": [
               "Fruits per Day"
              ],
              "locations": [
               [
                "AK",
                "AL",
                "AR",
                "AZ",
                "CA",
                "CO",
                "CT",
                "DC",
                "DE",
                "FL",
                "GA",
                "GU",
                "HI",
                "IA",
                "ID",
                "IL",
                "IN",
                "KS",
                "KY",
                "LA",
                "MA",
                "MD",
                "ME",
                "MI",
                "MN",
                "MO",
                "MS",
                "MT",
                "NC",
                "ND",
                "NE",
                "NH",
                "NM",
                "NV",
                "NY",
                "OH",
                "OK",
                "OR",
                "PA",
                "PR",
                "RI",
                "SC",
                "SD",
                "TN",
                "TX",
                "UT",
                "VA",
                "VT",
                "WA",
                "WI",
                "WV",
                "WY"
               ]
              ],
              "marker_line_color": [
               "white"
              ],
              "text": [
               [
                "AK",
                "AL",
                "AR",
                "AZ",
                "CA",
                "CO",
                "CT",
                "DC",
                "DE",
                "FL",
                "GA",
                "GU",
                "HI",
                "IA",
                "ID",
                "IL",
                "IN",
                "KS",
                "KY",
                "LA",
                "MA",
                "MD",
                "ME",
                "MI",
                "MN",
                "MO",
                "MS",
                "MT",
                "NC",
                "ND",
                "NE",
                "NH",
                "NM",
                "NV",
                "NY",
                "OH",
                "OK",
                "OR",
                "PA",
                "PR",
                "RI",
                "SC",
                "SD",
                "TN",
                "TX",
                "UT",
                "VA",
                "VT",
                "WA",
                "WI",
                "WV",
                "WY"
               ]
              ],
              "z": [
               [
                1.5403692539562899,
                1.2329929913985465,
                1.5696610526315906,
                1.748287688763772,
                1.435238934586779,
                1.3963174642026779,
                1.946547190871897,
                1.5329793906810028,
                1.4262212389380564,
                1.3943969676085533,
                1.3162584712372107,
                1.3270641784251236,
                1.3726809764309895,
                1.3348348818986098,
                1.37062691443742,
                1.434555424990218,
                1.8372617518623393,
                1.3555485336230053,
                1.135081473367123,
                1.2542122107336313,
                1.5926126255380353,
                1.5391138588356426,
                1.4599664526023362,
                1.3631247439574092,
                1.4371591153102916,
                1.2325503852993647,
                1.223682512368257,
                1.293786343246393,
                1.3065190525231747,
                1.3314938319198226,
                1.3351008525681212,
                1.6942688447156187,
                1.308825681360907,
                1.2535622817229322,
                1.9047305936073045,
                1.2687751873438988,
                1.142454212454219,
                1.5129953670705742,
                1.3327232435981708,
                0.9804423521051767,
                2.007484662576703,
                1.3709085222830515,
                1.4077114508783437,
                1.3023282514586987,
                1.698799774075139,
                1.392437206734766,
                1.3515788883908806,
                2.049635507499138,
                1.539326756663214,
                1.4304448915716597,
                1.1773406638159298,
                1.3169346144832494
               ]
              ]
             },
             {
              "title.text": "Average Number of Fruits Eaten per Day"
             }
            ],
            "label": "Daily Fruit",
            "method": "update"
           },
           {
            "args": [
             {
              "colorbar_title": [
               "Servings of Fries per Week"
              ],
              "locations": [
               [
                "AK",
                "AL",
                "AR",
                "AZ",
                "CA",
                "CO",
                "CT",
                "DC",
                "DE",
                "FL",
                "GA",
                "GU",
                "HI",
                "IA",
                "ID",
                "IL",
                "IN",
                "KS",
                "KY",
                "LA",
                "MA",
                "MD",
                "ME",
                "MI",
                "MN",
                "MO",
                "MS",
                "MT",
                "NC",
                "ND",
                "NE",
                "NH",
                "NM",
                "NV",
                "NY",
                "OH",
                "OK",
                "OR",
                "PA",
                "PR",
                "RI",
                "SC",
                "SD",
                "TN",
                "TX",
                "UT",
                "VA",
                "VT",
                "WA",
                "WI",
                "WV",
                "WY"
               ]
              ],
              "marker_line_color": [
               "white"
              ],
              "text": [
               [
                "AK",
                "AL",
                "AR",
                "AZ",
                "CA",
                "CO",
                "CT",
                "DC",
                "DE",
                "FL",
                "GA",
                "GU",
                "HI",
                "IA",
                "ID",
                "IL",
                "IN",
                "KS",
                "KY",
                "LA",
                "MA",
                "MD",
                "ME",
                "MI",
                "MN",
                "MO",
                "MS",
                "MT",
                "NC",
                "ND",
                "NE",
                "NH",
                "NM",
                "NV",
                "NY",
                "OH",
                "OK",
                "OR",
                "PA",
                "PR",
                "RI",
                "SC",
                "SD",
                "TN",
                "TX",
                "UT",
                "VA",
                "VT",
                "WA",
                "WI",
                "WV",
                "WY"
               ]
              ],
              "z": [
               [
                1.7024289405684618,
                1.6307485361607374,
                2.1982883625128298,
                1.924467496542129,
                1.2029594132028512,
                1.322020506634437,
                1.484880341880273,
                1.2896379690949236,
                1.397132826214147,
                1.4806613702722076,
                1.5922213549796598,
                1.3880163043478262,
                1.284075371252392,
                1.5562873588664365,
                1.839420605101784,
                1.5369476348062496,
                2.083008078767936,
                1.8924939326278396,
                1.7725514735566779,
                1.600955722235624,
                1.2240849993009355,
                1.259723531660004,
                1.2246044643690366,
                1.373821714054376,
                1.4220436761985258,
                1.580604691825677,
                1.8713480083857004,
                1.6872326423164887,
                1.611616341030164,
                1.5011272658609682,
                1.6194104683194641,
                1.1332223727501045,
                1.6731753812635648,
                1.38410069177556,
                1.5270997150996335,
                1.5299720876774623,
                1.5273665546845367,
                1.7277565549573919,
                1.3579795686719012,
                0.9161473429951469,
                1.6497485456933172,
                1.751756694720686,
                1.6383093922651286,
                1.8971533787515664,
                1.9039509360877271,
                1.4511846972840647,
                1.3346558031259779,
                1.4150283846550273,
                1.4313838522065585,
                1.3199576082105784,
                1.6016559999999527,
                1.4556766743648573
               ]
              ]
             },
             {
              "title.text": "Average Number of Times French Fries are Eaten per Week"
             }
            ],
            "label": "Weekly Fries",
            "method": "update"
           },
           {
            "args": [
             {
              "colorbar_title": [
               "% of Heavy Drinkers"
              ],
              "locations": [
               [
                "AK",
                "AL",
                "AR",
                "AZ",
                "CA",
                "CO",
                "CT",
                "DC",
                "DE",
                "FL",
                "GA",
                "GU",
                "HI",
                "IA",
                "ID",
                "IL",
                "IN",
                "KS",
                "KY",
                "LA",
                "MA",
                "MD",
                "ME",
                "MI",
                "MN",
                "MO",
                "MS",
                "MT",
                "NC",
                "ND",
                "NE",
                "NH",
                "NM",
                "NV",
                "NY",
                "OH",
                "OK",
                "OR",
                "PA",
                "PR",
                "RI",
                "SC",
                "SD",
                "TN",
                "TX",
                "UT",
                "VA",
                "VT",
                "WA",
                "WI",
                "WV",
                "WY"
               ]
              ],
              "marker_line_color": [
               "white"
              ],
              "text": [
               [
                "AK",
                "AL",
                "AR",
                "AZ",
                "CA",
                "CO",
                "CT",
                "DC",
                "DE",
                "FL",
                "GA",
                "GU",
                "HI",
                "IA",
                "ID",
                "IL",
                "IN",
                "KS",
                "KY",
                "LA",
                "MA",
                "MD",
                "ME",
                "MI",
                "MN",
                "MO",
                "MS",
                "MT",
                "NC",
                "ND",
                "NE",
                "NH",
                "NM",
                "NV",
                "NY",
                "OH",
                "OK",
                "OR",
                "PA",
                "PR",
                "RI",
                "SC",
                "SD",
                "TN",
                "TX",
                "UT",
                "VA",
                "VT",
                "WA",
                "WI",
                "WV",
                "WY"
               ]
              ],
              "z": [
               [
                16.314398943196828,
                9.416195856873824,
                8.4206515526767,
                11.080711354309166,
                11.477862864184491,
                11.503643188341798,
                11.354293967336963,
                13.768404297652209,
                11.552535284892839,
                13.031058165684069,
                10.23610914746218,
                12.94021294021294,
                15.982884470173673,
                11.350253807106599,
                11.539875045938993,
                12.788632326820604,
                9.467592592592593,
                10.241667415326566,
                8.88610763454318,
                13.744075829383887,
                13.572077332295317,
                9.817458460098292,
                14.295652173913043,
                11.491671345685944,
                12.867670618391541,
                9.400769653655855,
                7.827476038338658,
                15.020116227089853,
                11.005240590757504,
                10.697839178179242,
                10.282614181175877,
                12.132867132867133,
                10.187667560321715,
                12.583951926475786,
                11.681966242226828,
                9.805389221556887,
                7.059618307718291,
                15.713819013394316,
                10.76044484520589,
                7.392540558621843,
                11.778642748349975,
                15.108410440546885,
                9.4956367401272,
                9.324009324009324,
                11.374407582938389,
                6.679764243614931,
                10.630758327427356,
                15.793493202993737,
                11.153059619317288,
                14.089004190780283,
                8.19764177428411,
                9.419354838709678
               ]
              ]
             },
             {
              "title.text": "Percentage of State Population Considered Heavy Drinkers<br>adult men having more than 14 drinks per week and adult women having more than 7 drinks per week<br>(Hover for breakdown)"
             }
            ],
            "label": "Alcohol",
            "method": "update"
           },
           {
            "args": [
             {
              "colorbar_title": [
               "% of Current Smokers"
              ],
              "locations": [
               [
                "AK",
                "AL",
                "AR",
                "AZ",
                "CA",
                "CO",
                "CT",
                "DC",
                "DE",
                "FL",
                "GA",
                "GU",
                "HI",
                "IA",
                "ID",
                "IL",
                "IN",
                "KS",
                "KY",
                "LA",
                "MA",
                "MD",
                "ME",
                "MI",
                "MN",
                "MO",
                "MS",
                "MT",
                "NC",
                "ND",
                "NE",
                "NH",
                "NM",
                "NV",
                "NY",
                "OH",
                "OK",
                "OR",
                "PA",
                "PR",
                "RI",
                "SC",
                "SD",
                "TN",
                "TX",
                "UT",
                "VA",
                "VT",
                "WA",
                "WI",
                "WV",
                "WY"
               ]
              ],
              "marker_line_color": [
               "white"
              ],
              "text": [
               [
                "AK",
                "AL",
                "AR",
                "AZ",
                "CA",
                "CO",
                "CT",
                "DC",
                "DE",
                "FL",
                "GA",
                "GU",
                "HI",
                "IA",
                "ID",
                "IL",
                "IN",
                "KS",
                "KY",
                "LA",
                "MA",
                "MD",
                "ME",
                "MI",
                "MN",
                "MO",
                "MS",
                "MT",
                "NC",
                "ND",
                "NE",
                "NH",
                "NM",
                "NV",
                "NY",
                "OH",
                "OK",
                "OR",
                "PA",
                "PR",
                "RI",
                "SC",
                "SD",
                "TN",
                "TX",
                "UT",
                "VA",
                "VT",
                "WA",
                "WI",
                "WV",
                "WY"
               ]
              ],
              "z": [
               [
                28.01086628433444,
                29.309035687167807,
                27.773102171351624,
                23.307250912884715,
                18.42347237315055,
                21.139554087530968,
                18.66694569425552,
                21.13821138211382,
                24.946846208362864,
                28.586903536803337,
                28.029637071455483,
                31.666666666666668,
                21.84752499096712,
                25.65377532228361,
                24.079601990049753,
                22.775564409030544,
                27.897477790258346,
                24.547740731727103,
                33.87027491408935,
                32.2289156626506,
                20.141084894186328,
                20.813254642915155,
                24.871205516366807,
                26.455297025483677,
                23.97256223759683,
                29.348742024798362,
                29.247237569060772,
                26.330300523848912,
                28.30423940149626,
                23.62690932726682,
                23.812539582013933,
                22.160934458144062,
                25.13694461351187,
                26.628168110362527,
                22.974509935104034,
                30.7913857432742,
                27.66595289079229,
                24.50321231137009,
                28.17545748116254,
                15.504116824607737,
                22.698338767272162,
                26.140973630831642,
                27.257013694987368,
                32.2405929304447,
                24.107142857142858,
                13.406914461937998,
                24.01038286826736,
                22.051133062173154,
                20.826010544815464,
                23.20462600261145,
                33.42421812349639,
                23.846755277560593
               ]
              ]
             },
             {
              "title.text": "Percentage of State Population Currently Smoking Cigarettes<br> Includes Daily and Occasional Smokers <br>(Hover for breakdown)"
             }
            ],
            "label": "Smoking",
            "method": "update"
           },
           {
            "args": [
             {
              "colorbar_title": [
               "% Meeting Recommendations"
              ],
              "locations": [
               [
                "AK",
                "AL",
                "AR",
                "AZ",
                "CA",
                "CO",
                "CT",
                "DC",
                "DE",
                "FL",
                "GA",
                "GU",
                "HI",
                "IA",
                "ID",
                "IL",
                "IN",
                "KS",
                "KY",
                "LA",
                "MA",
                "MD",
                "ME",
                "MI",
                "MN",
                "MO",
                "MS",
                "MT",
                "NC",
                "ND",
                "NE",
                "NH",
                "NM",
                "NV",
                "NY",
                "OH",
                "OK",
                "OR",
                "PA",
                "PR",
                "RI",
                "SC",
                "SD",
                "TN",
                "TX",
                "UT",
                "VA",
                "VT",
                "WA",
                "WI",
                "WV",
                "WY"
               ]
              ],
              "marker_line_color": [
               "white"
              ],
              "text": [
               [
                "AK",
                "AL",
                "AR",
                "AZ",
                "CA",
                "CO",
                "CT",
                "DC",
                "DE",
                "FL",
                "GA",
                "GU",
                "HI",
                "IA",
                "ID",
                "IL",
                "IN",
                "KS",
                "KY",
                "LA",
                "MA",
                "MD",
                "ME",
                "MI",
                "MN",
                "MO",
                "MS",
                "MT",
                "NC",
                "ND",
                "NE",
                "NH",
                "NM",
                "NV",
                "NY",
                "OH",
                "OK",
                "OR",
                "PA",
                "PR",
                "RI",
                "SC",
                "SD",
                "TN",
                "TX",
                "UT",
                "VA",
                "VT",
                "WA",
                "WI",
                "WV",
                "WY"
               ]
              ],
              "z": [
               [
                44.13978494623656,
                29.59885092849082,
                31.196054254007397,
                40.68535825545171,
                38.18881954587704,
                43.52717203184493,
                40.3442013318343,
                40.51477597712107,
                34.87279843444227,
                36.98883897559394,
                32.316630355846044,
                32.91139240506329,
                41.30348652931854,
                32.387671741552175,
                41.307534447376135,
                34.861183865898376,
                31.325402851598753,
                33.31575130216918,
                20.52147596321732,
                29.90373994003472,
                37.15030582572947,
                37.262036831595296,
                35.10496943927717,
                36.082039755566484,
                42.10473109583502,
                28.004600345025878,
                22.703549060542798,
                44.70190683079894,
                33.73205741626794,
                31.698017285205896,
                32.38592508513053,
                42.853150761492245,
                38.48450914520343,
                37.21734503857409,
                35.73279261011603,
                31.809981960312687,
                23.766399628468594,
                39.954105048444674,
                34.33462175593595,
                17.567156614292955,
                37.96667097274254,
                32.5275880189175,
                29.88788040576615,
                30.30743161462116,
                32.74467428218586,
                39.87341772151899,
                33.95985264265845,
                46.40820980615735,
                44.63376296762024,
                40.55335968379447,
                29.922194382170645,
                38.66146848602989
               ]
              ]
             },
             {
              "title.text": "Percentage of State Population Meeting Weeekly Aerobic Exercise Recommendations<br>(Hover for breakdown)"
             }
            ],
            "label": "Aerobic Exc",
            "method": "update"
           },
           {
            "args": [
             {
              "colorbar_title": [
               "% Meeting Recommendations"
              ],
              "locations": [
               [
                "AK",
                "AL",
                "AR",
                "AZ",
                "CA",
                "CO",
                "CT",
                "DC",
                "DE",
                "FL",
                "GA",
                "GU",
                "HI",
                "IA",
                "ID",
                "IL",
                "IN",
                "KS",
                "KY",
                "LA",
                "MA",
                "MD",
                "ME",
                "MI",
                "MN",
                "MO",
                "MS",
                "MT",
                "NC",
                "ND",
                "NE",
                "NH",
                "NM",
                "NV",
                "NY",
                "OH",
                "OK",
                "OR",
                "PA",
                "PR",
                "RI",
                "SC",
                "SD",
                "TN",
                "TX",
                "UT",
                "VA",
                "VT",
                "WA",
                "WI",
                "WV",
                "WY"
               ]
              ],
              "marker_line_color": [
               "white"
              ],
              "text": [
               [
                "AK",
                "AL",
                "AR",
                "AZ",
                "CA",
                "CO",
                "CT",
                "DC",
                "DE",
                "FL",
                "GA",
                "GU",
                "HI",
                "IA",
                "ID",
                "IL",
                "IN",
                "KS",
                "KY",
                "LA",
                "MA",
                "MD",
                "ME",
                "MI",
                "MN",
                "MO",
                "MS",
                "MT",
                "NC",
                "ND",
                "NE",
                "NH",
                "NM",
                "NV",
                "NY",
                "OH",
                "OK",
                "OR",
                "PA",
                "PR",
                "RI",
                "SC",
                "SD",
                "TN",
                "TX",
                "UT",
                "VA",
                "VT",
                "WA",
                "WI",
                "WV",
                "WY"
               ]
              ],
              "z": [
               [
                23.25581395348837,
                15.819767964745031,
                18.92025755324418,
                23.537582960333385,
                19.95859927548732,
                24.385717467151657,
                24.48609431680774,
                25.591634562465604,
                22.521246458923514,
                22.662702345556657,
                22.29614141798137,
                21.691973969631235,
                23.130941166395477,
                19.1231650319268,
                16.85757260210575,
                23.225345402572653,
                20.815827667863417,
                19.382879511830062,
                13.74924288310115,
                19.89649223691777,
                19.806763285024154,
                21.865821610759003,
                17.042230011684193,
                21.70743760810477,
                22.136416583976875,
                14.39900867410161,
                15.130476418482164,
                23.79003376649954,
                18.674163953832494,
                17.780244173140954,
                19.395199087092962,
                22.736418511066397,
                23.45186662235516,
                21.575898030127462,
                23.29014763482977,
                18.876982010376764,
                16.06165078077469,
                20.985243055555557,
                20.32251797163396,
                5.4097482592394215,
                22.69826800364631,
                22.96212335883631,
                19.132337551136903,
                19.851252324182436,
                22.085820475278748,
                22.770850651149903,
                20.827494160827495,
                24.914163090128756,
                22.54134943554739,
                23.165231652316525,
                14.223990903922683,
                21.91492348729468
               ]
              ]
             },
             {
              "title.text": "Percentage of State Population Meeting Weeekly Strength Exercise Recommendationsk<br>(Hover for breakdown)"
             }
            ],
            "label": "Strength Exc",
            "method": "update"
           }
          ]
         }
        ]
       }
      },
      "text/html": [
       "<div>                            <div id=\"6db1058b-4974-43be-8db5-9b75f3b09be2\" class=\"plotly-graph-div\" style=\"height:525px; width:100%;\"></div>            <script type=\"text/javascript\">                require([\"plotly\"], function(Plotly) {                    window.PLOTLYENV=window.PLOTLYENV || {};                                    if (document.getElementById(\"6db1058b-4974-43be-8db5-9b75f3b09be2\")) {                    Plotly.newPlot(                        \"6db1058b-4974-43be-8db5-9b75f3b09be2\",                        [{\"autocolorscale\":false,\"colorscale\":[[0.0,\"rgb(209, 238, 234)\"],[0.16666666666666666,\"rgb(168, 219, 217)\"],[0.3333333333333333,\"rgb(133, 196, 201)\"],[0.5,\"rgb(104, 171, 184)\"],[0.6666666666666666,\"rgb(79, 144, 166)\"],[0.8333333333333334,\"rgb(59, 115, 143)\"],[1.0,\"rgb(42, 86, 116)\"]],\"locationmode\":\"USA-states\",\"locations\":[\"AK\",\"AL\",\"AR\",\"AZ\",\"CA\",\"CO\",\"CT\",\"DC\",\"DE\",\"FL\",\"GA\",\"GU\",\"HI\",\"IA\",\"ID\",\"IL\",\"IN\",\"KS\",\"KY\",\"LA\",\"MA\",\"MD\",\"ME\",\"MI\",\"MN\",\"MO\",\"MS\",\"MT\",\"NC\",\"ND\",\"NE\",\"NH\",\"NM\",\"NV\",\"NY\",\"OH\",\"OK\",\"OR\",\"PA\",\"PR\",\"RI\",\"SC\",\"SD\",\"TN\",\"TX\",\"UT\",\"VA\",\"VT\",\"WA\",\"WI\",\"WV\",\"WY\"],\"marker\":{\"line\":{\"color\":\"white\"}},\"text\":[\"AK\",\"AL\",\"AR\",\"AZ\",\"CA\",\"CO\",\"CT\",\"DC\",\"DE\",\"FL\",\"GA\",\"GU\",\"HI\",\"IA\",\"ID\",\"IL\",\"IN\",\"KS\",\"KY\",\"LA\",\"MA\",\"MD\",\"ME\",\"MI\",\"MN\",\"MO\",\"MS\",\"MT\",\"NC\",\"ND\",\"NE\",\"NH\",\"NM\",\"NV\",\"NY\",\"OH\",\"OK\",\"OR\",\"PA\",\"PR\",\"RI\",\"SC\",\"SD\",\"TN\",\"TX\",\"UT\",\"VA\",\"VT\",\"WA\",\"WI\",\"WV\",\"WY\"],\"type\":\"choropleth\",\"z\":[2.3325279814743376,1.744130363576816,2.422322326700201,2.6505384310093665,1.8252883655956837,1.8766068535825604,2.916832654100842,2.085319444444446,1.8648199697428185,1.9841522712731674,1.8945253576072794,1.9258224907063217,1.9519154087154673,1.7539988564894264,2.0107049282595155,1.857670825906124,2.6769453719781002,2.040008107834188,1.739231415371691,1.8055306276783591,2.057149492017422,2.038000924580604,2.1073943867145735,1.7814858392336503,1.8523538842734086,1.8140245938970763,1.8487217219415821,1.9533554534626576,1.974628405183819,1.781760673717194,1.8260097375105657,2.3716227018385307,1.8232984684348168,1.7827817460317474,2.667969368439132,1.8118226221079619,1.7666848854320016,2.132664384795539,1.8269708640321525,1.2368742194469284,2.7930318622600474,2.0675667367739843,1.870031332453827,1.9915174418604717,2.533878722990034,1.8327070688206073,1.9268002756402896,3.2516780698595467,2.2216046122700135,1.769906669701802,1.8306866234038153,1.8745895343254961]}],                        {\"font\":{\"color\":\"Black\"},\"geo\":{\"lakecolor\":\"rgb(255, 255, 255)\",\"projection\":{\"type\":\"albers usa\"},\"scope\":\"usa\",\"showlakes\":true},\"template\":{\"data\":{\"bar\":[{\"error_x\":{\"color\":\"#2a3f5f\"},\"error_y\":{\"color\":\"#2a3f5f\"},\"marker\":{\"line\":{\"color\":\"#E5ECF6\",\"width\":0.5},\"pattern\":{\"fillmode\":\"overlay\",\"size\":10,\"solidity\":0.2}},\"type\":\"bar\"}],\"barpolar\":[{\"marker\":{\"line\":{\"color\":\"#E5ECF6\",\"width\":0.5},\"pattern\":{\"fillmode\":\"overlay\",\"size\":10,\"solidity\":0.2}},\"type\":\"barpolar\"}],\"carpet\":[{\"aaxis\":{\"endlinecolor\":\"#2a3f5f\",\"gridcolor\":\"white\",\"linecolor\":\"white\",\"minorgridcolor\":\"white\",\"startlinecolor\":\"#2a3f5f\"},\"baxis\":{\"endlinecolor\":\"#2a3f5f\",\"gridcolor\":\"white\",\"linecolor\":\"white\",\"minorgridcolor\":\"white\",\"startlinecolor\":\"#2a3f5f\"},\"type\":\"carpet\"}],\"choropleth\":[{\"colorbar\":{\"outlinewidth\":0,\"ticks\":\"\"},\"type\":\"choropleth\"}],\"contour\":[{\"colorbar\":{\"outlinewidth\":0,\"ticks\":\"\"},\"colorscale\":[[0.0,\"#0d0887\"],[0.1111111111111111,\"#46039f\"],[0.2222222222222222,\"#7201a8\"],[0.3333333333333333,\"#9c179e\"],[0.4444444444444444,\"#bd3786\"],[0.5555555555555556,\"#d8576b\"],[0.6666666666666666,\"#ed7953\"],[0.7777777777777778,\"#fb9f3a\"],[0.8888888888888888,\"#fdca26\"],[1.0,\"#f0f921\"]],\"type\":\"contour\"}],\"contourcarpet\":[{\"colorbar\":{\"outlinewidth\":0,\"ticks\":\"\"},\"type\":\"contourcarpet\"}],\"heatmap\":[{\"colorbar\":{\"outlinewidth\":0,\"ticks\":\"\"},\"colorscale\":[[0.0,\"#0d0887\"],[0.1111111111111111,\"#46039f\"],[0.2222222222222222,\"#7201a8\"],[0.3333333333333333,\"#9c179e\"],[0.4444444444444444,\"#bd3786\"],[0.5555555555555556,\"#d8576b\"],[0.6666666666666666,\"#ed7953\"],[0.7777777777777778,\"#fb9f3a\"],[0.8888888888888888,\"#fdca26\"],[1.0,\"#f0f921\"]],\"type\":\"heatmap\"}],\"heatmapgl\":[{\"colorbar\":{\"outlinewidth\":0,\"ticks\":\"\"},\"colorscale\":[[0.0,\"#0d0887\"],[0.1111111111111111,\"#46039f\"],[0.2222222222222222,\"#7201a8\"],[0.3333333333333333,\"#9c179e\"],[0.4444444444444444,\"#bd3786\"],[0.5555555555555556,\"#d8576b\"],[0.6666666666666666,\"#ed7953\"],[0.7777777777777778,\"#fb9f3a\"],[0.8888888888888888,\"#fdca26\"],[1.0,\"#f0f921\"]],\"type\":\"heatmapgl\"}],\"histogram\":[{\"marker\":{\"pattern\":{\"fillmode\":\"overlay\",\"size\":10,\"solidity\":0.2}},\"type\":\"histogram\"}],\"histogram2d\":[{\"colorbar\":{\"outlinewidth\":0,\"ticks\":\"\"},\"colorscale\":[[0.0,\"#0d0887\"],[0.1111111111111111,\"#46039f\"],[0.2222222222222222,\"#7201a8\"],[0.3333333333333333,\"#9c179e\"],[0.4444444444444444,\"#bd3786\"],[0.5555555555555556,\"#d8576b\"],[0.6666666666666666,\"#ed7953\"],[0.7777777777777778,\"#fb9f3a\"],[0.8888888888888888,\"#fdca26\"],[1.0,\"#f0f921\"]],\"type\":\"histogram2d\"}],\"histogram2dcontour\":[{\"colorbar\":{\"outlinewidth\":0,\"ticks\":\"\"},\"colorscale\":[[0.0,\"#0d0887\"],[0.1111111111111111,\"#46039f\"],[0.2222222222222222,\"#7201a8\"],[0.3333333333333333,\"#9c179e\"],[0.4444444444444444,\"#bd3786\"],[0.5555555555555556,\"#d8576b\"],[0.6666666666666666,\"#ed7953\"],[0.7777777777777778,\"#fb9f3a\"],[0.8888888888888888,\"#fdca26\"],[1.0,\"#f0f921\"]],\"type\":\"histogram2dcontour\"}],\"mesh3d\":[{\"colorbar\":{\"outlinewidth\":0,\"ticks\":\"\"},\"type\":\"mesh3d\"}],\"parcoords\":[{\"line\":{\"colorbar\":{\"outlinewidth\":0,\"ticks\":\"\"}},\"type\":\"parcoords\"}],\"pie\":[{\"automargin\":true,\"type\":\"pie\"}],\"scatter\":[{\"marker\":{\"colorbar\":{\"outlinewidth\":0,\"ticks\":\"\"}},\"type\":\"scatter\"}],\"scatter3d\":[{\"line\":{\"colorbar\":{\"outlinewidth\":0,\"ticks\":\"\"}},\"marker\":{\"colorbar\":{\"outlinewidth\":0,\"ticks\":\"\"}},\"type\":\"scatter3d\"}],\"scattercarpet\":[{\"marker\":{\"colorbar\":{\"outlinewidth\":0,\"ticks\":\"\"}},\"type\":\"scattercarpet\"}],\"scattergeo\":[{\"marker\":{\"colorbar\":{\"outlinewidth\":0,\"ticks\":\"\"}},\"type\":\"scattergeo\"}],\"scattergl\":[{\"marker\":{\"colorbar\":{\"outlinewidth\":0,\"ticks\":\"\"}},\"type\":\"scattergl\"}],\"scattermapbox\":[{\"marker\":{\"colorbar\":{\"outlinewidth\":0,\"ticks\":\"\"}},\"type\":\"scattermapbox\"}],\"scatterpolar\":[{\"marker\":{\"colorbar\":{\"outlinewidth\":0,\"ticks\":\"\"}},\"type\":\"scatterpolar\"}],\"scatterpolargl\":[{\"marker\":{\"colorbar\":{\"outlinewidth\":0,\"ticks\":\"\"}},\"type\":\"scatterpolargl\"}],\"scatterternary\":[{\"marker\":{\"colorbar\":{\"outlinewidth\":0,\"ticks\":\"\"}},\"type\":\"scatterternary\"}],\"surface\":[{\"colorbar\":{\"outlinewidth\":0,\"ticks\":\"\"},\"colorscale\":[[0.0,\"#0d0887\"],[0.1111111111111111,\"#46039f\"],[0.2222222222222222,\"#7201a8\"],[0.3333333333333333,\"#9c179e\"],[0.4444444444444444,\"#bd3786\"],[0.5555555555555556,\"#d8576b\"],[0.6666666666666666,\"#ed7953\"],[0.7777777777777778,\"#fb9f3a\"],[0.8888888888888888,\"#fdca26\"],[1.0,\"#f0f921\"]],\"type\":\"surface\"}],\"table\":[{\"cells\":{\"fill\":{\"color\":\"#EBF0F8\"},\"line\":{\"color\":\"white\"}},\"header\":{\"fill\":{\"color\":\"#C8D4E3\"},\"line\":{\"color\":\"white\"}},\"type\":\"table\"}]},\"layout\":{\"annotationdefaults\":{\"arrowcolor\":\"#2a3f5f\",\"arrowhead\":0,\"arrowwidth\":1},\"autotypenumbers\":\"strict\",\"coloraxis\":{\"colorbar\":{\"outlinewidth\":0,\"ticks\":\"\"}},\"colorscale\":{\"diverging\":[[0,\"#8e0152\"],[0.1,\"#c51b7d\"],[0.2,\"#de77ae\"],[0.3,\"#f1b6da\"],[0.4,\"#fde0ef\"],[0.5,\"#f7f7f7\"],[0.6,\"#e6f5d0\"],[0.7,\"#b8e186\"],[0.8,\"#7fbc41\"],[0.9,\"#4d9221\"],[1,\"#276419\"]],\"sequential\":[[0.0,\"#0d0887\"],[0.1111111111111111,\"#46039f\"],[0.2222222222222222,\"#7201a8\"],[0.3333333333333333,\"#9c179e\"],[0.4444444444444444,\"#bd3786\"],[0.5555555555555556,\"#d8576b\"],[0.6666666666666666,\"#ed7953\"],[0.7777777777777778,\"#fb9f3a\"],[0.8888888888888888,\"#fdca26\"],[1.0,\"#f0f921\"]],\"sequentialminus\":[[0.0,\"#0d0887\"],[0.1111111111111111,\"#46039f\"],[0.2222222222222222,\"#7201a8\"],[0.3333333333333333,\"#9c179e\"],[0.4444444444444444,\"#bd3786\"],[0.5555555555555556,\"#d8576b\"],[0.6666666666666666,\"#ed7953\"],[0.7777777777777778,\"#fb9f3a\"],[0.8888888888888888,\"#fdca26\"],[1.0,\"#f0f921\"]]},\"colorway\":[\"#636efa\",\"#EF553B\",\"#00cc96\",\"#ab63fa\",\"#FFA15A\",\"#19d3f3\",\"#FF6692\",\"#B6E880\",\"#FF97FF\",\"#FECB52\"],\"font\":{\"color\":\"#2a3f5f\"},\"geo\":{\"bgcolor\":\"white\",\"lakecolor\":\"white\",\"landcolor\":\"#E5ECF6\",\"showlakes\":true,\"showland\":true,\"subunitcolor\":\"white\"},\"hoverlabel\":{\"align\":\"left\"},\"hovermode\":\"closest\",\"mapbox\":{\"style\":\"light\"},\"paper_bgcolor\":\"white\",\"plot_bgcolor\":\"#E5ECF6\",\"polar\":{\"angularaxis\":{\"gridcolor\":\"white\",\"linecolor\":\"white\",\"ticks\":\"\"},\"bgcolor\":\"#E5ECF6\",\"radialaxis\":{\"gridcolor\":\"white\",\"linecolor\":\"white\",\"ticks\":\"\"}},\"scene\":{\"xaxis\":{\"backgroundcolor\":\"#E5ECF6\",\"gridcolor\":\"white\",\"gridwidth\":2,\"linecolor\":\"white\",\"showbackground\":true,\"ticks\":\"\",\"zerolinecolor\":\"white\"},\"yaxis\":{\"backgroundcolor\":\"#E5ECF6\",\"gridcolor\":\"white\",\"gridwidth\":2,\"linecolor\":\"white\",\"showbackground\":true,\"ticks\":\"\",\"zerolinecolor\":\"white\"},\"zaxis\":{\"backgroundcolor\":\"#E5ECF6\",\"gridcolor\":\"white\",\"gridwidth\":2,\"linecolor\":\"white\",\"showbackground\":true,\"ticks\":\"\",\"zerolinecolor\":\"white\"}},\"shapedefaults\":{\"line\":{\"color\":\"#2a3f5f\"}},\"ternary\":{\"aaxis\":{\"gridcolor\":\"white\",\"linecolor\":\"white\",\"ticks\":\"\"},\"baxis\":{\"gridcolor\":\"white\",\"linecolor\":\"white\",\"ticks\":\"\"},\"bgcolor\":\"#E5ECF6\",\"caxis\":{\"gridcolor\":\"white\",\"linecolor\":\"white\",\"ticks\":\"\"}},\"title\":{\"x\":0.05},\"xaxis\":{\"automargin\":true,\"gridcolor\":\"white\",\"linecolor\":\"white\",\"ticks\":\"\",\"title\":{\"standoff\":15},\"zerolinecolor\":\"white\",\"zerolinewidth\":2},\"yaxis\":{\"automargin\":true,\"gridcolor\":\"white\",\"linecolor\":\"white\",\"ticks\":\"\",\"title\":{\"standoff\":15},\"zerolinecolor\":\"white\",\"zerolinewidth\":2}}},\"title\":{\"font\":{\"size\":20},\"text\":\"Average Number of Vegetables Eaten a Day\",\"x\":0.5,\"xanchor\":\"center\",\"y\":0.9,\"yanchor\":\"top\"},\"updatemenus\":[{\"active\":0,\"bgcolor\":\"rgb(204,234,231)\",\"bordercolor\":\"white\",\"buttons\":[{\"args\":[{\"colorbar_title\":[\"Vegetables per Day\"],\"locations\":[[\"AK\",\"AL\",\"AR\",\"AZ\",\"CA\",\"CO\",\"CT\",\"DC\",\"DE\",\"FL\",\"GA\",\"GU\",\"HI\",\"IA\",\"ID\",\"IL\",\"IN\",\"KS\",\"KY\",\"LA\",\"MA\",\"MD\",\"ME\",\"MI\",\"MN\",\"MO\",\"MS\",\"MT\",\"NC\",\"ND\",\"NE\",\"NH\",\"NM\",\"NV\",\"NY\",\"OH\",\"OK\",\"OR\",\"PA\",\"PR\",\"RI\",\"SC\",\"SD\",\"TN\",\"TX\",\"UT\",\"VA\",\"VT\",\"WA\",\"WI\",\"WV\",\"WY\"]],\"marker_line_color\":[\"white\"],\"text\":[[\"AK\",\"AL\",\"AR\",\"AZ\",\"CA\",\"CO\",\"CT\",\"DC\",\"DE\",\"FL\",\"GA\",\"GU\",\"HI\",\"IA\",\"ID\",\"IL\",\"IN\",\"KS\",\"KY\",\"LA\",\"MA\",\"MD\",\"ME\",\"MI\",\"MN\",\"MO\",\"MS\",\"MT\",\"NC\",\"ND\",\"NE\",\"NH\",\"NM\",\"NV\",\"NY\",\"OH\",\"OK\",\"OR\",\"PA\",\"PR\",\"RI\",\"SC\",\"SD\",\"TN\",\"TX\",\"UT\",\"VA\",\"VT\",\"WA\",\"WI\",\"WV\",\"WY\"]],\"z\":[[2.3325279814743376,1.744130363576816,2.422322326700201,2.6505384310093665,1.8252883655956837,1.8766068535825604,2.916832654100842,2.085319444444446,1.8648199697428185,1.9841522712731674,1.8945253576072794,1.9258224907063217,1.9519154087154673,1.7539988564894264,2.0107049282595155,1.857670825906124,2.6769453719781002,2.040008107834188,1.739231415371691,1.8055306276783591,2.057149492017422,2.038000924580604,2.1073943867145735,1.7814858392336503,1.8523538842734086,1.8140245938970763,1.8487217219415821,1.9533554534626576,1.974628405183819,1.781760673717194,1.8260097375105657,2.3716227018385307,1.8232984684348168,1.7827817460317474,2.667969368439132,1.8118226221079619,1.7666848854320016,2.132664384795539,1.8269708640321525,1.2368742194469284,2.7930318622600474,2.0675667367739843,1.870031332453827,1.9915174418604717,2.533878722990034,1.8327070688206073,1.9268002756402896,3.2516780698595467,2.2216046122700135,1.769906669701802,1.8306866234038153,1.8745895343254961]]},{\"title.text\":\"Average Number of Vegetables Eaten per Day\"}],\"label\":\"Daily Veg\",\"method\":\"update\"},{\"args\":[{\"colorbar_title\":[\"Fruits per Day\"],\"locations\":[[\"AK\",\"AL\",\"AR\",\"AZ\",\"CA\",\"CO\",\"CT\",\"DC\",\"DE\",\"FL\",\"GA\",\"GU\",\"HI\",\"IA\",\"ID\",\"IL\",\"IN\",\"KS\",\"KY\",\"LA\",\"MA\",\"MD\",\"ME\",\"MI\",\"MN\",\"MO\",\"MS\",\"MT\",\"NC\",\"ND\",\"NE\",\"NH\",\"NM\",\"NV\",\"NY\",\"OH\",\"OK\",\"OR\",\"PA\",\"PR\",\"RI\",\"SC\",\"SD\",\"TN\",\"TX\",\"UT\",\"VA\",\"VT\",\"WA\",\"WI\",\"WV\",\"WY\"]],\"marker_line_color\":[\"white\"],\"text\":[[\"AK\",\"AL\",\"AR\",\"AZ\",\"CA\",\"CO\",\"CT\",\"DC\",\"DE\",\"FL\",\"GA\",\"GU\",\"HI\",\"IA\",\"ID\",\"IL\",\"IN\",\"KS\",\"KY\",\"LA\",\"MA\",\"MD\",\"ME\",\"MI\",\"MN\",\"MO\",\"MS\",\"MT\",\"NC\",\"ND\",\"NE\",\"NH\",\"NM\",\"NV\",\"NY\",\"OH\",\"OK\",\"OR\",\"PA\",\"PR\",\"RI\",\"SC\",\"SD\",\"TN\",\"TX\",\"UT\",\"VA\",\"VT\",\"WA\",\"WI\",\"WV\",\"WY\"]],\"z\":[[1.5403692539562899,1.2329929913985465,1.5696610526315906,1.748287688763772,1.435238934586779,1.3963174642026779,1.946547190871897,1.5329793906810028,1.4262212389380564,1.3943969676085533,1.3162584712372107,1.3270641784251236,1.3726809764309895,1.3348348818986098,1.37062691443742,1.434555424990218,1.8372617518623393,1.3555485336230053,1.135081473367123,1.2542122107336313,1.5926126255380353,1.5391138588356426,1.4599664526023362,1.3631247439574092,1.4371591153102916,1.2325503852993647,1.223682512368257,1.293786343246393,1.3065190525231747,1.3314938319198226,1.3351008525681212,1.6942688447156187,1.308825681360907,1.2535622817229322,1.9047305936073045,1.2687751873438988,1.142454212454219,1.5129953670705742,1.3327232435981708,0.9804423521051767,2.007484662576703,1.3709085222830515,1.4077114508783437,1.3023282514586987,1.698799774075139,1.392437206734766,1.3515788883908806,2.049635507499138,1.539326756663214,1.4304448915716597,1.1773406638159298,1.3169346144832494]]},{\"title.text\":\"Average Number of Fruits Eaten per Day\"}],\"label\":\"Daily Fruit\",\"method\":\"update\"},{\"args\":[{\"colorbar_title\":[\"Servings of Fries per Week\"],\"locations\":[[\"AK\",\"AL\",\"AR\",\"AZ\",\"CA\",\"CO\",\"CT\",\"DC\",\"DE\",\"FL\",\"GA\",\"GU\",\"HI\",\"IA\",\"ID\",\"IL\",\"IN\",\"KS\",\"KY\",\"LA\",\"MA\",\"MD\",\"ME\",\"MI\",\"MN\",\"MO\",\"MS\",\"MT\",\"NC\",\"ND\",\"NE\",\"NH\",\"NM\",\"NV\",\"NY\",\"OH\",\"OK\",\"OR\",\"PA\",\"PR\",\"RI\",\"SC\",\"SD\",\"TN\",\"TX\",\"UT\",\"VA\",\"VT\",\"WA\",\"WI\",\"WV\",\"WY\"]],\"marker_line_color\":[\"white\"],\"text\":[[\"AK\",\"AL\",\"AR\",\"AZ\",\"CA\",\"CO\",\"CT\",\"DC\",\"DE\",\"FL\",\"GA\",\"GU\",\"HI\",\"IA\",\"ID\",\"IL\",\"IN\",\"KS\",\"KY\",\"LA\",\"MA\",\"MD\",\"ME\",\"MI\",\"MN\",\"MO\",\"MS\",\"MT\",\"NC\",\"ND\",\"NE\",\"NH\",\"NM\",\"NV\",\"NY\",\"OH\",\"OK\",\"OR\",\"PA\",\"PR\",\"RI\",\"SC\",\"SD\",\"TN\",\"TX\",\"UT\",\"VA\",\"VT\",\"WA\",\"WI\",\"WV\",\"WY\"]],\"z\":[[1.7024289405684618,1.6307485361607374,2.1982883625128298,1.924467496542129,1.2029594132028512,1.322020506634437,1.484880341880273,1.2896379690949236,1.397132826214147,1.4806613702722076,1.5922213549796598,1.3880163043478262,1.284075371252392,1.5562873588664365,1.839420605101784,1.5369476348062496,2.083008078767936,1.8924939326278396,1.7725514735566779,1.600955722235624,1.2240849993009355,1.259723531660004,1.2246044643690366,1.373821714054376,1.4220436761985258,1.580604691825677,1.8713480083857004,1.6872326423164887,1.611616341030164,1.5011272658609682,1.6194104683194641,1.1332223727501045,1.6731753812635648,1.38410069177556,1.5270997150996335,1.5299720876774623,1.5273665546845367,1.7277565549573919,1.3579795686719012,0.9161473429951469,1.6497485456933172,1.751756694720686,1.6383093922651286,1.8971533787515664,1.9039509360877271,1.4511846972840647,1.3346558031259779,1.4150283846550273,1.4313838522065585,1.3199576082105784,1.6016559999999527,1.4556766743648573]]},{\"title.text\":\"Average Number of Times French Fries are Eaten per Week\"}],\"label\":\"Weekly Fries\",\"method\":\"update\"},{\"args\":[{\"colorbar_title\":[\"% of Heavy Drinkers\"],\"locations\":[[\"AK\",\"AL\",\"AR\",\"AZ\",\"CA\",\"CO\",\"CT\",\"DC\",\"DE\",\"FL\",\"GA\",\"GU\",\"HI\",\"IA\",\"ID\",\"IL\",\"IN\",\"KS\",\"KY\",\"LA\",\"MA\",\"MD\",\"ME\",\"MI\",\"MN\",\"MO\",\"MS\",\"MT\",\"NC\",\"ND\",\"NE\",\"NH\",\"NM\",\"NV\",\"NY\",\"OH\",\"OK\",\"OR\",\"PA\",\"PR\",\"RI\",\"SC\",\"SD\",\"TN\",\"TX\",\"UT\",\"VA\",\"VT\",\"WA\",\"WI\",\"WV\",\"WY\"]],\"marker_line_color\":[\"white\"],\"text\":[[\"AK\",\"AL\",\"AR\",\"AZ\",\"CA\",\"CO\",\"CT\",\"DC\",\"DE\",\"FL\",\"GA\",\"GU\",\"HI\",\"IA\",\"ID\",\"IL\",\"IN\",\"KS\",\"KY\",\"LA\",\"MA\",\"MD\",\"ME\",\"MI\",\"MN\",\"MO\",\"MS\",\"MT\",\"NC\",\"ND\",\"NE\",\"NH\",\"NM\",\"NV\",\"NY\",\"OH\",\"OK\",\"OR\",\"PA\",\"PR\",\"RI\",\"SC\",\"SD\",\"TN\",\"TX\",\"UT\",\"VA\",\"VT\",\"WA\",\"WI\",\"WV\",\"WY\"]],\"z\":[[16.314398943196828,9.416195856873824,8.4206515526767,11.080711354309166,11.477862864184491,11.503643188341798,11.354293967336963,13.768404297652209,11.552535284892839,13.031058165684069,10.23610914746218,12.94021294021294,15.982884470173673,11.350253807106599,11.539875045938993,12.788632326820604,9.467592592592593,10.241667415326566,8.88610763454318,13.744075829383887,13.572077332295317,9.817458460098292,14.295652173913043,11.491671345685944,12.867670618391541,9.400769653655855,7.827476038338658,15.020116227089853,11.005240590757504,10.697839178179242,10.282614181175877,12.132867132867133,10.187667560321715,12.583951926475786,11.681966242226828,9.805389221556887,7.059618307718291,15.713819013394316,10.76044484520589,7.392540558621843,11.778642748349975,15.108410440546885,9.4956367401272,9.324009324009324,11.374407582938389,6.679764243614931,10.630758327427356,15.793493202993737,11.153059619317288,14.089004190780283,8.19764177428411,9.419354838709678]]},{\"title.text\":\"Percentage of State Population Considered Heavy Drinkers<br>adult men having more than 14 drinks per week and adult women having more than 7 drinks per week<br>(Hover for breakdown)\"}],\"label\":\"Alcohol\",\"method\":\"update\"},{\"args\":[{\"colorbar_title\":[\"% of Current Smokers\"],\"locations\":[[\"AK\",\"AL\",\"AR\",\"AZ\",\"CA\",\"CO\",\"CT\",\"DC\",\"DE\",\"FL\",\"GA\",\"GU\",\"HI\",\"IA\",\"ID\",\"IL\",\"IN\",\"KS\",\"KY\",\"LA\",\"MA\",\"MD\",\"ME\",\"MI\",\"MN\",\"MO\",\"MS\",\"MT\",\"NC\",\"ND\",\"NE\",\"NH\",\"NM\",\"NV\",\"NY\",\"OH\",\"OK\",\"OR\",\"PA\",\"PR\",\"RI\",\"SC\",\"SD\",\"TN\",\"TX\",\"UT\",\"VA\",\"VT\",\"WA\",\"WI\",\"WV\",\"WY\"]],\"marker_line_color\":[\"white\"],\"text\":[[\"AK\",\"AL\",\"AR\",\"AZ\",\"CA\",\"CO\",\"CT\",\"DC\",\"DE\",\"FL\",\"GA\",\"GU\",\"HI\",\"IA\",\"ID\",\"IL\",\"IN\",\"KS\",\"KY\",\"LA\",\"MA\",\"MD\",\"ME\",\"MI\",\"MN\",\"MO\",\"MS\",\"MT\",\"NC\",\"ND\",\"NE\",\"NH\",\"NM\",\"NV\",\"NY\",\"OH\",\"OK\",\"OR\",\"PA\",\"PR\",\"RI\",\"SC\",\"SD\",\"TN\",\"TX\",\"UT\",\"VA\",\"VT\",\"WA\",\"WI\",\"WV\",\"WY\"]],\"z\":[[28.01086628433444,29.309035687167807,27.773102171351624,23.307250912884715,18.42347237315055,21.139554087530968,18.66694569425552,21.13821138211382,24.946846208362864,28.586903536803337,28.029637071455483,31.666666666666668,21.84752499096712,25.65377532228361,24.079601990049753,22.775564409030544,27.897477790258346,24.547740731727103,33.87027491408935,32.2289156626506,20.141084894186328,20.813254642915155,24.871205516366807,26.455297025483677,23.97256223759683,29.348742024798362,29.247237569060772,26.330300523848912,28.30423940149626,23.62690932726682,23.812539582013933,22.160934458144062,25.13694461351187,26.628168110362527,22.974509935104034,30.7913857432742,27.66595289079229,24.50321231137009,28.17545748116254,15.504116824607737,22.698338767272162,26.140973630831642,27.257013694987368,32.2405929304447,24.107142857142858,13.406914461937998,24.01038286826736,22.051133062173154,20.826010544815464,23.20462600261145,33.42421812349639,23.846755277560593]]},{\"title.text\":\"Percentage of State Population Currently Smoking Cigarettes<br> Includes Daily and Occasional Smokers <br>(Hover for breakdown)\"}],\"label\":\"Smoking\",\"method\":\"update\"},{\"args\":[{\"colorbar_title\":[\"% Meeting Recommendations\"],\"locations\":[[\"AK\",\"AL\",\"AR\",\"AZ\",\"CA\",\"CO\",\"CT\",\"DC\",\"DE\",\"FL\",\"GA\",\"GU\",\"HI\",\"IA\",\"ID\",\"IL\",\"IN\",\"KS\",\"KY\",\"LA\",\"MA\",\"MD\",\"ME\",\"MI\",\"MN\",\"MO\",\"MS\",\"MT\",\"NC\",\"ND\",\"NE\",\"NH\",\"NM\",\"NV\",\"NY\",\"OH\",\"OK\",\"OR\",\"PA\",\"PR\",\"RI\",\"SC\",\"SD\",\"TN\",\"TX\",\"UT\",\"VA\",\"VT\",\"WA\",\"WI\",\"WV\",\"WY\"]],\"marker_line_color\":[\"white\"],\"text\":[[\"AK\",\"AL\",\"AR\",\"AZ\",\"CA\",\"CO\",\"CT\",\"DC\",\"DE\",\"FL\",\"GA\",\"GU\",\"HI\",\"IA\",\"ID\",\"IL\",\"IN\",\"KS\",\"KY\",\"LA\",\"MA\",\"MD\",\"ME\",\"MI\",\"MN\",\"MO\",\"MS\",\"MT\",\"NC\",\"ND\",\"NE\",\"NH\",\"NM\",\"NV\",\"NY\",\"OH\",\"OK\",\"OR\",\"PA\",\"PR\",\"RI\",\"SC\",\"SD\",\"TN\",\"TX\",\"UT\",\"VA\",\"VT\",\"WA\",\"WI\",\"WV\",\"WY\"]],\"z\":[[44.13978494623656,29.59885092849082,31.196054254007397,40.68535825545171,38.18881954587704,43.52717203184493,40.3442013318343,40.51477597712107,34.87279843444227,36.98883897559394,32.316630355846044,32.91139240506329,41.30348652931854,32.387671741552175,41.307534447376135,34.861183865898376,31.325402851598753,33.31575130216918,20.52147596321732,29.90373994003472,37.15030582572947,37.262036831595296,35.10496943927717,36.082039755566484,42.10473109583502,28.004600345025878,22.703549060542798,44.70190683079894,33.73205741626794,31.698017285205896,32.38592508513053,42.853150761492245,38.48450914520343,37.21734503857409,35.73279261011603,31.809981960312687,23.766399628468594,39.954105048444674,34.33462175593595,17.567156614292955,37.96667097274254,32.5275880189175,29.88788040576615,30.30743161462116,32.74467428218586,39.87341772151899,33.95985264265845,46.40820980615735,44.63376296762024,40.55335968379447,29.922194382170645,38.66146848602989]]},{\"title.text\":\"Percentage of State Population Meeting Weeekly Aerobic Exercise Recommendations<br>(Hover for breakdown)\"}],\"label\":\"Aerobic Exc\",\"method\":\"update\"},{\"args\":[{\"colorbar_title\":[\"% Meeting Recommendations\"],\"locations\":[[\"AK\",\"AL\",\"AR\",\"AZ\",\"CA\",\"CO\",\"CT\",\"DC\",\"DE\",\"FL\",\"GA\",\"GU\",\"HI\",\"IA\",\"ID\",\"IL\",\"IN\",\"KS\",\"KY\",\"LA\",\"MA\",\"MD\",\"ME\",\"MI\",\"MN\",\"MO\",\"MS\",\"MT\",\"NC\",\"ND\",\"NE\",\"NH\",\"NM\",\"NV\",\"NY\",\"OH\",\"OK\",\"OR\",\"PA\",\"PR\",\"RI\",\"SC\",\"SD\",\"TN\",\"TX\",\"UT\",\"VA\",\"VT\",\"WA\",\"WI\",\"WV\",\"WY\"]],\"marker_line_color\":[\"white\"],\"text\":[[\"AK\",\"AL\",\"AR\",\"AZ\",\"CA\",\"CO\",\"CT\",\"DC\",\"DE\",\"FL\",\"GA\",\"GU\",\"HI\",\"IA\",\"ID\",\"IL\",\"IN\",\"KS\",\"KY\",\"LA\",\"MA\",\"MD\",\"ME\",\"MI\",\"MN\",\"MO\",\"MS\",\"MT\",\"NC\",\"ND\",\"NE\",\"NH\",\"NM\",\"NV\",\"NY\",\"OH\",\"OK\",\"OR\",\"PA\",\"PR\",\"RI\",\"SC\",\"SD\",\"TN\",\"TX\",\"UT\",\"VA\",\"VT\",\"WA\",\"WI\",\"WV\",\"WY\"]],\"z\":[[23.25581395348837,15.819767964745031,18.92025755324418,23.537582960333385,19.95859927548732,24.385717467151657,24.48609431680774,25.591634562465604,22.521246458923514,22.662702345556657,22.29614141798137,21.691973969631235,23.130941166395477,19.1231650319268,16.85757260210575,23.225345402572653,20.815827667863417,19.382879511830062,13.74924288310115,19.89649223691777,19.806763285024154,21.865821610759003,17.042230011684193,21.70743760810477,22.136416583976875,14.39900867410161,15.130476418482164,23.79003376649954,18.674163953832494,17.780244173140954,19.395199087092962,22.736418511066397,23.45186662235516,21.575898030127462,23.29014763482977,18.876982010376764,16.06165078077469,20.985243055555557,20.32251797163396,5.4097482592394215,22.69826800364631,22.96212335883631,19.132337551136903,19.851252324182436,22.085820475278748,22.770850651149903,20.827494160827495,24.914163090128756,22.54134943554739,23.165231652316525,14.223990903922683,21.91492348729468]]},{\"title.text\":\"Percentage of State Population Meeting Weeekly Strength Exercise Recommendationsk<br>(Hover for breakdown)\"}],\"label\":\"Strength Exc\",\"method\":\"update\"}]}]},                        {\"responsive\": true}                    ).then(function(){\n",
       "                            \n",
       "var gd = document.getElementById('6db1058b-4974-43be-8db5-9b75f3b09be2');\n",
       "var x = new MutationObserver(function (mutations, observer) {{\n",
       "        var display = window.getComputedStyle(gd).display;\n",
       "        if (!display || display === 'none') {{\n",
       "            console.log([gd, 'removed!']);\n",
       "            Plotly.purge(gd);\n",
       "            observer.disconnect();\n",
       "        }}\n",
       "}});\n",
       "\n",
       "// Listen for the removal of the full notebook cells\n",
       "var notebookContainer = gd.closest('#notebook-container');\n",
       "if (notebookContainer) {{\n",
       "    x.observe(notebookContainer, {childList: true});\n",
       "}}\n",
       "\n",
       "// Listen for the clearing of the current output cell\n",
       "var outputEl = gd.closest('.output');\n",
       "if (outputEl) {{\n",
       "    x.observe(outputEl, {childList: true});\n",
       "}}\n",
       "\n",
       "                        })                };                });            </script>        </div>"
      ]
     },
     "metadata": {},
     "output_type": "display_data"
    }
   ],
   "source": [
    "behaviour_fig.update_layout(updatemenus=[dict(active=0,  bordercolor = 'white', bgcolor = 'rgb(204,234,231)',\n",
    "                                    buttons= [button1, button2, button3, button4, button5, button6, button7])]\n",
    "                                     ); \n",
    "behaviour_fig.show()"
   ]
  },
  {
   "cell_type": "markdown",
   "id": "41d3d73f",
   "metadata": {},
   "source": [
    "# Health Outcomes"
   ]
  },
  {
   "cell_type": "markdown",
   "id": "86dfcb09",
   "metadata": {},
   "source": [
    "### PHYSHLTH\n",
    "#### Question:  Now thinking about your physical health, which includes physical illness and injury, for how many days during the past 30 days was your physical health not good?\n",
    "Answers originally coded as: \n",
    "- 1-30: Number of Days, numeric\n",
    "- 88: None\n",
    "- 77: Don't know/Not sure\n",
    "- 99: Refused\n",
    "- Blank: Not asked or missing\n",
    "\n",
    "Recode to:\n",
    "\n",
    "- 1-30: Number of Days, int\n",
    "- 0: None\n",
    "- Nan: Don't know/Not sure\n",
    "- Nan: Refused\n",
    "- Blank: Not asked or missing\n"
   ]
  },
  {
   "cell_type": "code",
   "execution_count": 67,
   "id": "0abca426",
   "metadata": {},
   "outputs": [
    {
     "data": {
      "text/plain": [
       "0     88.0\n",
       "1      2.0\n",
       "2      3.0\n",
       "3     88.0\n",
       "4     88.0\n",
       "5     88.0\n",
       "6     88.0\n",
       "7      2.0\n",
       "8     20.0\n",
       "9     88.0\n",
       "10     1.0\n",
       "11    88.0\n",
       "12    88.0\n",
       "13    88.0\n",
       "14    88.0\n",
       "15    88.0\n",
       "16    88.0\n",
       "17    88.0\n",
       "18     7.0\n",
       "19    30.0\n",
       "Name: PHYSHLTH, dtype: object"
      ]
     },
     "execution_count": 67,
     "metadata": {},
     "output_type": "execute_result"
    }
   ],
   "source": [
    "#print column values for reference and check data type\n",
    "recoded_health_behaviour_df['PHYSHLTH'].head(20)"
   ]
  },
  {
   "cell_type": "code",
   "execution_count": 68,
   "id": "1e83e7b2",
   "metadata": {},
   "outputs": [],
   "source": [
    "# recode PHYSHLTH values to new coding scheme described above\n",
    "recoded_health_behaviour_df.loc[health_behaviour_df.PHYSHLTH == 88, \"PHYSHLTH\"] = 0\n",
    "recoded_health_behaviour_df.loc[health_behaviour_df.PHYSHLTH == 77, \"PHYSHLTH\"] = np.NaN\n",
    "recoded_health_behaviour_df.loc[health_behaviour_df.PHYSHLTH == 99, \"PHYSHLTH\"] = np.NaN"
   ]
  },
  {
   "cell_type": "code",
   "execution_count": 69,
   "id": "2569ceb4",
   "metadata": {},
   "outputs": [],
   "source": [
    "#convert column from object to int\n",
    "recoded_health_behaviour_df.PHYSHLTH = pd.to_numeric(recoded_health_behaviour_df.PHYSHLTH).astype('Int32')"
   ]
  },
  {
   "cell_type": "code",
   "execution_count": 70,
   "id": "4f9de8e5",
   "metadata": {},
   "outputs": [
    {
     "data": {
      "text/plain": [
       "0      0\n",
       "1      2\n",
       "2      3\n",
       "3      0\n",
       "4      0\n",
       "5      0\n",
       "6      0\n",
       "7      2\n",
       "8     20\n",
       "9      0\n",
       "10     1\n",
       "11     0\n",
       "12     0\n",
       "13     0\n",
       "14     0\n",
       "15     0\n",
       "16     0\n",
       "17     0\n",
       "18     7\n",
       "19    30\n",
       "Name: PHYSHLTH, dtype: Int32"
      ]
     },
     "execution_count": 70,
     "metadata": {},
     "output_type": "execute_result"
    }
   ],
   "source": [
    "#reprint values to confirm they were correctly recoded\n",
    "recoded_health_behaviour_df['PHYSHLTH'].head(20)"
   ]
  },
  {
   "cell_type": "code",
   "execution_count": 71,
   "id": "2d84e4f7",
   "metadata": {},
   "outputs": [
    {
     "data": {
      "text/plain": [
       "0     4.10784\n",
       "1    5.436203\n",
       "2    6.019457\n",
       "3    4.907323\n",
       "4    4.073792\n",
       "Name: PHYSHLTH, dtype: Float64"
      ]
     },
     "execution_count": 71,
     "metadata": {},
     "output_type": "execute_result"
    }
   ],
   "source": [
    "state_phys_mean = recoded_health_behaviour_df.groupby('_STATE')['PHYSHLTH'].mean().reset_index()\n",
    "state_phys_mean['PHYSHLTH'].head()"
   ]
  },
  {
   "cell_type": "markdown",
   "id": "0d90779f",
   "metadata": {},
   "source": [
    "### MENTHLTH\n",
    "#### Question:  Now thinking about your mental health, which includes stress, depression, and problems with emotions, for how many days during the past 30 days was your mental health not good?\n",
    "Answers originally coded as: \n",
    "- 1-30: Number of Days, numeric\n",
    "- 88: None\n",
    "- 77: Don't know/Not sure\n",
    "- 99: Refused\n",
    "- Blank: Not asked or missing\n",
    "\n",
    "Recode to:\n",
    "\n",
    "- 1-30: Number of Days, int\n",
    "- 0: None\n",
    "- Nan: Don't know/Not sure\n",
    "- Nan: Refused\n",
    "- Blank: Not asked or missing\n"
   ]
  },
  {
   "cell_type": "code",
   "execution_count": 72,
   "id": "21926ff1",
   "metadata": {},
   "outputs": [
    {
     "data": {
      "text/plain": [
       "0     88.0\n",
       "1      5.0\n",
       "2     10.0\n",
       "3      5.0\n",
       "4     30.0\n",
       "5     88.0\n",
       "6     88.0\n",
       "7     88.0\n",
       "8      5.0\n",
       "9     29.0\n",
       "10     1.0\n",
       "11    88.0\n",
       "12    88.0\n",
       "13    21.0\n",
       "14    88.0\n",
       "15    88.0\n",
       "16    88.0\n",
       "17     3.0\n",
       "18    10.0\n",
       "19     5.0\n",
       "Name: MENTHLTH, dtype: object"
      ]
     },
     "execution_count": 72,
     "metadata": {},
     "output_type": "execute_result"
    }
   ],
   "source": [
    "#print column values for reference and check data type\n",
    "recoded_health_behaviour_df['MENTHLTH'].head(20)"
   ]
  },
  {
   "cell_type": "code",
   "execution_count": 73,
   "id": "c5ef18ad",
   "metadata": {},
   "outputs": [],
   "source": [
    "# recode PHYSHLTH values to new coding scheme described above\n",
    "recoded_health_behaviour_df.loc[health_behaviour_df.MENTHLTH == 88, \"MENTHLTH\"] = 0\n",
    "recoded_health_behaviour_df.loc[health_behaviour_df.MENTHLTH == 77, \"MENTHLTH\"] = np.NaN\n",
    "recoded_health_behaviour_df.loc[health_behaviour_df.MENTHLTH == 99, \"MENTHLTH\"] = np.NaN"
   ]
  },
  {
   "cell_type": "code",
   "execution_count": 74,
   "id": "a7ae2392",
   "metadata": {},
   "outputs": [],
   "source": [
    "#convert column from object to int\n",
    "recoded_health_behaviour_df.MENTHLTH = pd.to_numeric(recoded_health_behaviour_df.MENTHLTH).astype('Int32')"
   ]
  },
  {
   "cell_type": "code",
   "execution_count": 75,
   "id": "0ab9f78c",
   "metadata": {},
   "outputs": [
    {
     "data": {
      "text/plain": [
       "Int32Dtype()"
      ]
     },
     "execution_count": 75,
     "metadata": {},
     "output_type": "execute_result"
    }
   ],
   "source": [
    "recoded_health_behaviour_df['MENTHLTH'].dtypes"
   ]
  },
  {
   "cell_type": "code",
   "execution_count": 76,
   "id": "27a75a81",
   "metadata": {},
   "outputs": [
    {
     "data": {
      "text/plain": [
       "0      0\n",
       "1      5\n",
       "2     10\n",
       "3      5\n",
       "4     30\n",
       "5      0\n",
       "6      0\n",
       "7      0\n",
       "8      5\n",
       "9     29\n",
       "10     1\n",
       "11     0\n",
       "12     0\n",
       "13    21\n",
       "14     0\n",
       "15     0\n",
       "16     0\n",
       "17     3\n",
       "18    10\n",
       "19     5\n",
       "Name: MENTHLTH, dtype: Int32"
      ]
     },
     "execution_count": 76,
     "metadata": {},
     "output_type": "execute_result"
    }
   ],
   "source": [
    "#reprint values to confirm they were correctly recoded\n",
    "recoded_health_behaviour_df['MENTHLTH'].head(20)"
   ]
  },
  {
   "cell_type": "code",
   "execution_count": 77,
   "id": "efb307fa",
   "metadata": {},
   "outputs": [
    {
     "data": {
      "text/html": [
       "<div>\n",
       "<style scoped>\n",
       "    .dataframe tbody tr th:only-of-type {\n",
       "        vertical-align: middle;\n",
       "    }\n",
       "\n",
       "    .dataframe tbody tr th {\n",
       "        vertical-align: top;\n",
       "    }\n",
       "\n",
       "    .dataframe thead th {\n",
       "        text-align: right;\n",
       "    }\n",
       "</style>\n",
       "<table border=\"1\" class=\"dataframe\">\n",
       "  <thead>\n",
       "    <tr style=\"text-align: right;\">\n",
       "      <th></th>\n",
       "      <th>_STATE</th>\n",
       "      <th>MENTHLTH</th>\n",
       "    </tr>\n",
       "  </thead>\n",
       "  <tbody>\n",
       "    <tr>\n",
       "      <th>0</th>\n",
       "      <td>AK</td>\n",
       "      <td>3.50342</td>\n",
       "    </tr>\n",
       "    <tr>\n",
       "      <th>1</th>\n",
       "      <td>AL</td>\n",
       "      <td>4.745738</td>\n",
       "    </tr>\n",
       "    <tr>\n",
       "      <th>2</th>\n",
       "      <td>AR</td>\n",
       "      <td>4.413209</td>\n",
       "    </tr>\n",
       "    <tr>\n",
       "      <th>3</th>\n",
       "      <td>AZ</td>\n",
       "      <td>3.951758</td>\n",
       "    </tr>\n",
       "    <tr>\n",
       "      <th>4</th>\n",
       "      <td>CA</td>\n",
       "      <td>3.752125</td>\n",
       "    </tr>\n",
       "  </tbody>\n",
       "</table>\n",
       "</div>"
      ],
      "text/plain": [
       "  _STATE  MENTHLTH\n",
       "0     AK   3.50342\n",
       "1     AL  4.745738\n",
       "2     AR  4.413209\n",
       "3     AZ  3.951758\n",
       "4     CA  3.752125"
      ]
     },
     "execution_count": 77,
     "metadata": {},
     "output_type": "execute_result"
    }
   ],
   "source": [
    "state_ment_mean = recoded_health_behaviour_df.groupby('_STATE')['MENTHLTH'].mean().reset_index()\n",
    "state_ment_mean.head()"
   ]
  },
  {
   "cell_type": "markdown",
   "id": "d1770cd6",
   "metadata": {},
   "source": [
    "## _RFBMI5\n",
    "Question:  Adults who have a body mass index greater than 25.00 (Overweight or Obese)\n",
    "Coded as:\n",
    "- 1: No\n",
    "- 2: Yes\n",
    "- 9: Don't Know\n",
    "\n",
    "Recoded as:\n",
    "- 1: No\n",
    "- 2: Yes\n",
    "- Nan: Don't Know"
   ]
  },
  {
   "cell_type": "code",
   "execution_count": 78,
   "id": "e3d675e6",
   "metadata": {},
   "outputs": [
    {
     "data": {
      "text/plain": [
       "array([Decimal('2.0'), Decimal('1.0'), nan], dtype=object)"
      ]
     },
     "execution_count": 78,
     "metadata": {},
     "output_type": "execute_result"
    }
   ],
   "source": [
    "#recode to new scheme\n",
    "recoded_health_behaviour_df.loc[health_behaviour_df._RFBMI5 == 9, \"_RFBMI5\"] = np.NaN\n",
    "recoded_health_behaviour_df['_RFBMI5'].unique()"
   ]
  },
  {
   "cell_type": "code",
   "execution_count": 79,
   "id": "1bec15a1",
   "metadata": {},
   "outputs": [
    {
     "data": {
      "text/html": [
       "<div>\n",
       "<style scoped>\n",
       "    .dataframe tbody tr th:only-of-type {\n",
       "        vertical-align: middle;\n",
       "    }\n",
       "\n",
       "    .dataframe tbody tr th {\n",
       "        vertical-align: top;\n",
       "    }\n",
       "\n",
       "    .dataframe thead th {\n",
       "        text-align: right;\n",
       "    }\n",
       "</style>\n",
       "<table border=\"1\" class=\"dataframe\">\n",
       "  <thead>\n",
       "    <tr style=\"text-align: right;\">\n",
       "      <th></th>\n",
       "      <th>_STATE</th>\n",
       "      <th>_RFBMI5</th>\n",
       "    </tr>\n",
       "  </thead>\n",
       "  <tbody>\n",
       "    <tr>\n",
       "      <th>0</th>\n",
       "      <td>CA</td>\n",
       "      <td>2</td>\n",
       "    </tr>\n",
       "    <tr>\n",
       "      <th>1</th>\n",
       "      <td>CA</td>\n",
       "      <td>2</td>\n",
       "    </tr>\n",
       "    <tr>\n",
       "      <th>2</th>\n",
       "      <td>CA</td>\n",
       "      <td>2</td>\n",
       "    </tr>\n",
       "    <tr>\n",
       "      <th>3</th>\n",
       "      <td>CA</td>\n",
       "      <td>2</td>\n",
       "    </tr>\n",
       "    <tr>\n",
       "      <th>4</th>\n",
       "      <td>CA</td>\n",
       "      <td>2</td>\n",
       "    </tr>\n",
       "    <tr>\n",
       "      <th>5</th>\n",
       "      <td>CA</td>\n",
       "      <td>2</td>\n",
       "    </tr>\n",
       "    <tr>\n",
       "      <th>6</th>\n",
       "      <td>CA</td>\n",
       "      <td>1</td>\n",
       "    </tr>\n",
       "    <tr>\n",
       "      <th>8</th>\n",
       "      <td>CA</td>\n",
       "      <td>2</td>\n",
       "    </tr>\n",
       "    <tr>\n",
       "      <th>9</th>\n",
       "      <td>CA</td>\n",
       "      <td>1</td>\n",
       "    </tr>\n",
       "    <tr>\n",
       "      <th>10</th>\n",
       "      <td>CA</td>\n",
       "      <td>2</td>\n",
       "    </tr>\n",
       "    <tr>\n",
       "      <th>11</th>\n",
       "      <td>CA</td>\n",
       "      <td>2</td>\n",
       "    </tr>\n",
       "    <tr>\n",
       "      <th>12</th>\n",
       "      <td>CA</td>\n",
       "      <td>2</td>\n",
       "    </tr>\n",
       "    <tr>\n",
       "      <th>13</th>\n",
       "      <td>CA</td>\n",
       "      <td>1</td>\n",
       "    </tr>\n",
       "    <tr>\n",
       "      <th>14</th>\n",
       "      <td>CA</td>\n",
       "      <td>2</td>\n",
       "    </tr>\n",
       "    <tr>\n",
       "      <th>15</th>\n",
       "      <td>CA</td>\n",
       "      <td>2</td>\n",
       "    </tr>\n",
       "    <tr>\n",
       "      <th>16</th>\n",
       "      <td>CA</td>\n",
       "      <td>1</td>\n",
       "    </tr>\n",
       "    <tr>\n",
       "      <th>17</th>\n",
       "      <td>CA</td>\n",
       "      <td>2</td>\n",
       "    </tr>\n",
       "    <tr>\n",
       "      <th>18</th>\n",
       "      <td>CA</td>\n",
       "      <td>2</td>\n",
       "    </tr>\n",
       "    <tr>\n",
       "      <th>19</th>\n",
       "      <td>CA</td>\n",
       "      <td>2</td>\n",
       "    </tr>\n",
       "    <tr>\n",
       "      <th>20</th>\n",
       "      <td>CA</td>\n",
       "      <td>2</td>\n",
       "    </tr>\n",
       "  </tbody>\n",
       "</table>\n",
       "</div>"
      ],
      "text/plain": [
       "   _STATE  _RFBMI5\n",
       "0      CA        2\n",
       "1      CA        2\n",
       "2      CA        2\n",
       "3      CA        2\n",
       "4      CA        2\n",
       "5      CA        2\n",
       "6      CA        1\n",
       "8      CA        2\n",
       "9      CA        1\n",
       "10     CA        2\n",
       "11     CA        2\n",
       "12     CA        2\n",
       "13     CA        1\n",
       "14     CA        2\n",
       "15     CA        2\n",
       "16     CA        1\n",
       "17     CA        2\n",
       "18     CA        2\n",
       "19     CA        2\n",
       "20     CA        2"
      ]
     },
     "execution_count": 79,
     "metadata": {},
     "output_type": "execute_result"
    }
   ],
   "source": [
    "### % of state that is overwheight or obese\n",
    "#TODO: group by state, find % of '2': heavy drinker\n",
    "state_heavy_df = recoded_health_behaviour_df[['_STATE', '_RFBMI5']].dropna()\n",
    "state_heavy_df._RFBMI5 = pd.to_numeric(state_heavy_df._RFBMI5).astype('Int32')\n",
    "state_heavy_df.head(20)"
   ]
  },
  {
   "cell_type": "code",
   "execution_count": 80,
   "id": "c10cdc07",
   "metadata": {},
   "outputs": [
    {
     "data": {
      "text/html": [
       "<div>\n",
       "<style scoped>\n",
       "    .dataframe tbody tr th:only-of-type {\n",
       "        vertical-align: middle;\n",
       "    }\n",
       "\n",
       "    .dataframe tbody tr th {\n",
       "        vertical-align: top;\n",
       "    }\n",
       "\n",
       "    .dataframe thead th {\n",
       "        text-align: right;\n",
       "    }\n",
       "</style>\n",
       "<table border=\"1\" class=\"dataframe\">\n",
       "  <thead>\n",
       "    <tr style=\"text-align: right;\">\n",
       "      <th></th>\n",
       "      <th>_RFBMI5</th>\n",
       "      <th>_STATE</th>\n",
       "    </tr>\n",
       "  </thead>\n",
       "  <tbody>\n",
       "    <tr>\n",
       "      <th>0</th>\n",
       "      <td>19.824369</td>\n",
       "      <td>AK</td>\n",
       "    </tr>\n",
       "    <tr>\n",
       "      <th>1</th>\n",
       "      <td>80.175631</td>\n",
       "      <td>AK</td>\n",
       "    </tr>\n",
       "    <tr>\n",
       "      <th>2</th>\n",
       "      <td>16.926663</td>\n",
       "      <td>AL</td>\n",
       "    </tr>\n",
       "    <tr>\n",
       "      <th>3</th>\n",
       "      <td>83.073337</td>\n",
       "      <td>AL</td>\n",
       "    </tr>\n",
       "    <tr>\n",
       "      <th>4</th>\n",
       "      <td>17.99113</td>\n",
       "      <td>AR</td>\n",
       "    </tr>\n",
       "    <tr>\n",
       "      <th>5</th>\n",
       "      <td>82.00887</td>\n",
       "      <td>AR</td>\n",
       "    </tr>\n",
       "    <tr>\n",
       "      <th>6</th>\n",
       "      <td>20.568734</td>\n",
       "      <td>AZ</td>\n",
       "    </tr>\n",
       "    <tr>\n",
       "      <th>7</th>\n",
       "      <td>79.431266</td>\n",
       "      <td>AZ</td>\n",
       "    </tr>\n",
       "    <tr>\n",
       "      <th>8</th>\n",
       "      <td>21.855682</td>\n",
       "      <td>CA</td>\n",
       "    </tr>\n",
       "    <tr>\n",
       "      <th>9</th>\n",
       "      <td>78.144318</td>\n",
       "      <td>CA</td>\n",
       "    </tr>\n",
       "    <tr>\n",
       "      <th>10</th>\n",
       "      <td>24.634129</td>\n",
       "      <td>CO</td>\n",
       "    </tr>\n",
       "    <tr>\n",
       "      <th>11</th>\n",
       "      <td>75.365871</td>\n",
       "      <td>CO</td>\n",
       "    </tr>\n",
       "    <tr>\n",
       "      <th>12</th>\n",
       "      <td>20.542947</td>\n",
       "      <td>CT</td>\n",
       "    </tr>\n",
       "    <tr>\n",
       "      <th>13</th>\n",
       "      <td>79.457053</td>\n",
       "      <td>CT</td>\n",
       "    </tr>\n",
       "    <tr>\n",
       "      <th>14</th>\n",
       "      <td>24.024103</td>\n",
       "      <td>DC</td>\n",
       "    </tr>\n",
       "    <tr>\n",
       "      <th>15</th>\n",
       "      <td>75.975897</td>\n",
       "      <td>DC</td>\n",
       "    </tr>\n",
       "    <tr>\n",
       "      <th>16</th>\n",
       "      <td>17.174849</td>\n",
       "      <td>DE</td>\n",
       "    </tr>\n",
       "    <tr>\n",
       "      <th>17</th>\n",
       "      <td>82.825151</td>\n",
       "      <td>DE</td>\n",
       "    </tr>\n",
       "    <tr>\n",
       "      <th>18</th>\n",
       "      <td>19.93642</td>\n",
       "      <td>FL</td>\n",
       "    </tr>\n",
       "    <tr>\n",
       "      <th>19</th>\n",
       "      <td>80.06358</td>\n",
       "      <td>FL</td>\n",
       "    </tr>\n",
       "    <tr>\n",
       "      <th>20</th>\n",
       "      <td>19.043238</td>\n",
       "      <td>GA</td>\n",
       "    </tr>\n",
       "    <tr>\n",
       "      <th>21</th>\n",
       "      <td>80.956762</td>\n",
       "      <td>GA</td>\n",
       "    </tr>\n",
       "    <tr>\n",
       "      <th>22</th>\n",
       "      <td>19.884119</td>\n",
       "      <td>GU</td>\n",
       "    </tr>\n",
       "    <tr>\n",
       "      <th>23</th>\n",
       "      <td>80.115881</td>\n",
       "      <td>GU</td>\n",
       "    </tr>\n",
       "    <tr>\n",
       "      <th>24</th>\n",
       "      <td>26.842333</td>\n",
       "      <td>HI</td>\n",
       "    </tr>\n",
       "    <tr>\n",
       "      <th>25</th>\n",
       "      <td>73.157667</td>\n",
       "      <td>HI</td>\n",
       "    </tr>\n",
       "    <tr>\n",
       "      <th>26</th>\n",
       "      <td>17.51249</td>\n",
       "      <td>IA</td>\n",
       "    </tr>\n",
       "    <tr>\n",
       "      <th>27</th>\n",
       "      <td>82.48751</td>\n",
       "      <td>IA</td>\n",
       "    </tr>\n",
       "    <tr>\n",
       "      <th>28</th>\n",
       "      <td>20.799608</td>\n",
       "      <td>ID</td>\n",
       "    </tr>\n",
       "    <tr>\n",
       "      <th>29</th>\n",
       "      <td>79.200392</td>\n",
       "      <td>ID</td>\n",
       "    </tr>\n",
       "  </tbody>\n",
       "</table>\n",
       "</div>"
      ],
      "text/plain": [
       "      _RFBMI5 _STATE\n",
       "0   19.824369     AK\n",
       "1   80.175631     AK\n",
       "2   16.926663     AL\n",
       "3   83.073337     AL\n",
       "4    17.99113     AR\n",
       "5    82.00887     AR\n",
       "6   20.568734     AZ\n",
       "7   79.431266     AZ\n",
       "8   21.855682     CA\n",
       "9   78.144318     CA\n",
       "10  24.634129     CO\n",
       "11  75.365871     CO\n",
       "12  20.542947     CT\n",
       "13  79.457053     CT\n",
       "14  24.024103     DC\n",
       "15  75.975897     DC\n",
       "16  17.174849     DE\n",
       "17  82.825151     DE\n",
       "18   19.93642     FL\n",
       "19   80.06358     FL\n",
       "20  19.043238     GA\n",
       "21  80.956762     GA\n",
       "22  19.884119     GU\n",
       "23  80.115881     GU\n",
       "24  26.842333     HI\n",
       "25  73.157667     HI\n",
       "26   17.51249     IA\n",
       "27   82.48751     IA\n",
       "28  20.799608     ID\n",
       "29  79.200392     ID"
      ]
     },
     "execution_count": 80,
     "metadata": {},
     "output_type": "execute_result"
    }
   ],
   "source": [
    "#group by _RFBMI5 and calculate sum of '2' within each state\n",
    "\n",
    "def calc_perc(x): \n",
    "    return 100 * x / float(x.sum())\n",
    "\n",
    "state_bmi = state_heavy_df.groupby(['_STATE', '_RFBMI5' ], as_index=False).agg({'_RFBMI5': 'sum'})\n",
    "bmi_perc_df = state_bmi.groupby('_STATE').apply(calc_perc)\n",
    "#add back in _STATE column for reference\n",
    "bmi_perc_df['_STATE'] = state_bmi['_STATE']\n",
    "bmi_perc_df.head(30)"
   ]
  },
  {
   "cell_type": "code",
   "execution_count": 81,
   "id": "051682c6",
   "metadata": {},
   "outputs": [
    {
     "data": {
      "text/html": [
       "<div>\n",
       "<style scoped>\n",
       "    .dataframe tbody tr th:only-of-type {\n",
       "        vertical-align: middle;\n",
       "    }\n",
       "\n",
       "    .dataframe tbody tr th {\n",
       "        vertical-align: top;\n",
       "    }\n",
       "\n",
       "    .dataframe thead th {\n",
       "        text-align: right;\n",
       "    }\n",
       "</style>\n",
       "<table border=\"1\" class=\"dataframe\">\n",
       "  <thead>\n",
       "    <tr style=\"text-align: right;\">\n",
       "      <th></th>\n",
       "      <th>_RFBMI5</th>\n",
       "      <th>_STATE</th>\n",
       "    </tr>\n",
       "  </thead>\n",
       "  <tbody>\n",
       "    <tr>\n",
       "      <th>1</th>\n",
       "      <td>80.175631</td>\n",
       "      <td>AK</td>\n",
       "    </tr>\n",
       "    <tr>\n",
       "      <th>3</th>\n",
       "      <td>83.073337</td>\n",
       "      <td>AL</td>\n",
       "    </tr>\n",
       "    <tr>\n",
       "      <th>5</th>\n",
       "      <td>82.00887</td>\n",
       "      <td>AR</td>\n",
       "    </tr>\n",
       "    <tr>\n",
       "      <th>7</th>\n",
       "      <td>79.431266</td>\n",
       "      <td>AZ</td>\n",
       "    </tr>\n",
       "    <tr>\n",
       "      <th>9</th>\n",
       "      <td>78.144318</td>\n",
       "      <td>CA</td>\n",
       "    </tr>\n",
       "    <tr>\n",
       "      <th>11</th>\n",
       "      <td>75.365871</td>\n",
       "      <td>CO</td>\n",
       "    </tr>\n",
       "    <tr>\n",
       "      <th>13</th>\n",
       "      <td>79.457053</td>\n",
       "      <td>CT</td>\n",
       "    </tr>\n",
       "    <tr>\n",
       "      <th>15</th>\n",
       "      <td>75.975897</td>\n",
       "      <td>DC</td>\n",
       "    </tr>\n",
       "    <tr>\n",
       "      <th>17</th>\n",
       "      <td>82.825151</td>\n",
       "      <td>DE</td>\n",
       "    </tr>\n",
       "    <tr>\n",
       "      <th>19</th>\n",
       "      <td>80.06358</td>\n",
       "      <td>FL</td>\n",
       "    </tr>\n",
       "    <tr>\n",
       "      <th>21</th>\n",
       "      <td>80.956762</td>\n",
       "      <td>GA</td>\n",
       "    </tr>\n",
       "    <tr>\n",
       "      <th>23</th>\n",
       "      <td>80.115881</td>\n",
       "      <td>GU</td>\n",
       "    </tr>\n",
       "    <tr>\n",
       "      <th>25</th>\n",
       "      <td>73.157667</td>\n",
       "      <td>HI</td>\n",
       "    </tr>\n",
       "    <tr>\n",
       "      <th>27</th>\n",
       "      <td>82.48751</td>\n",
       "      <td>IA</td>\n",
       "    </tr>\n",
       "    <tr>\n",
       "      <th>29</th>\n",
       "      <td>79.200392</td>\n",
       "      <td>ID</td>\n",
       "    </tr>\n",
       "    <tr>\n",
       "      <th>31</th>\n",
       "      <td>79.796108</td>\n",
       "      <td>IL</td>\n",
       "    </tr>\n",
       "    <tr>\n",
       "      <th>33</th>\n",
       "      <td>82.457298</td>\n",
       "      <td>IN</td>\n",
       "    </tr>\n",
       "    <tr>\n",
       "      <th>35</th>\n",
       "      <td>82.642649</td>\n",
       "      <td>KS</td>\n",
       "    </tr>\n",
       "    <tr>\n",
       "      <th>37</th>\n",
       "      <td>84.992685</td>\n",
       "      <td>KY</td>\n",
       "    </tr>\n",
       "    <tr>\n",
       "      <th>39</th>\n",
       "      <td>83.45987</td>\n",
       "      <td>LA</td>\n",
       "    </tr>\n",
       "  </tbody>\n",
       "</table>\n",
       "</div>"
      ],
      "text/plain": [
       "      _RFBMI5 _STATE\n",
       "1   80.175631     AK\n",
       "3   83.073337     AL\n",
       "5    82.00887     AR\n",
       "7   79.431266     AZ\n",
       "9   78.144318     CA\n",
       "11  75.365871     CO\n",
       "13  79.457053     CT\n",
       "15  75.975897     DC\n",
       "17  82.825151     DE\n",
       "19   80.06358     FL\n",
       "21  80.956762     GA\n",
       "23  80.115881     GU\n",
       "25  73.157667     HI\n",
       "27   82.48751     IA\n",
       "29  79.200392     ID\n",
       "31  79.796108     IL\n",
       "33  82.457298     IN\n",
       "35  82.642649     KS\n",
       "37  84.992685     KY\n",
       "39   83.45987     LA"
      ]
     },
     "execution_count": 81,
     "metadata": {},
     "output_type": "execute_result"
    }
   ],
   "source": [
    "bmi_perc_df = bmi_perc_df[np.arange(len(bmi_perc_df)) % 2 != 0]\n",
    "bmi_perc_df.head(20)"
   ]
  },
  {
   "cell_type": "markdown",
   "id": "32807182",
   "metadata": {},
   "source": [
    "## CVDINFR4\n",
    "Question:  (Ever told) you had a heart attack, also called a myocardial infarction?\n",
    "coded as: \n",
    "- 1: Yes\n",
    "- 2: No\n",
    "- 7: Don't know/Not Sure\n",
    "- 9: Refused\n",
    "- Blank: Not asked or missing\n",
    "\n",
    "recoded as: \n",
    "- 1: Yes\n",
    "- 2: No\n",
    "- 2: Not Yes\n",
    "- Nan: Refused\n",
    "- Nan: Not asked or missing\n"
   ]
  },
  {
   "cell_type": "code",
   "execution_count": 82,
   "id": "fc52ca5e",
   "metadata": {},
   "outputs": [
    {
     "data": {
      "text/plain": [
       "0    2.0\n",
       "1    1.0\n",
       "2    2.0\n",
       "3    2.0\n",
       "4    2.0\n",
       "Name: CVDINFR4, dtype: object"
      ]
     },
     "execution_count": 82,
     "metadata": {},
     "output_type": "execute_result"
    }
   ],
   "source": [
    "recoded_health_behaviour_df['CVDINFR4'].head()"
   ]
  },
  {
   "cell_type": "code",
   "execution_count": 83,
   "id": "da08e48b",
   "metadata": {},
   "outputs": [
    {
     "data": {
      "text/plain": [
       "array([Decimal('2.0'), Decimal('1.0'), nan], dtype=object)"
      ]
     },
     "execution_count": 83,
     "metadata": {},
     "output_type": "execute_result"
    }
   ],
   "source": [
    "#recode to new scheme\n",
    "recoded_health_behaviour_df.loc[recoded_health_behaviour_df.CVDINFR4 == 7, \"CVDINFR4\"] = 2\n",
    "recoded_health_behaviour_df.loc[recoded_health_behaviour_df.CVDINFR4 == 9, \"CVDINFR4\"] = np.NaN\n",
    "recoded_health_behaviour_df['CVDINFR4'].unique()"
   ]
  },
  {
   "cell_type": "markdown",
   "id": "50953bb4",
   "metadata": {},
   "source": [
    "## CVDCRHD4\n",
    "Question:  (Ever told) you had angina or coronary heart disease?\n",
    "coded as: \n",
    "- 1: Yes\n",
    "- 2: No\n",
    "- 7: Don't know/Not Sure\n",
    "- 9: Refused\n",
    "- Blank: Not asked or missing\n",
    "\n",
    "recoded as: \n",
    "- 1: Yes\n",
    "- 2: No\n",
    "- 2: Not Yes\n",
    "- Nan: Refused\n",
    "- Nan: Not asked or missing"
   ]
  },
  {
   "cell_type": "code",
   "execution_count": 84,
   "id": "11ac3bef",
   "metadata": {},
   "outputs": [
    {
     "data": {
      "text/plain": [
       "array([Decimal('2.0'), Decimal('1.0'), nan], dtype=object)"
      ]
     },
     "execution_count": 84,
     "metadata": {},
     "output_type": "execute_result"
    }
   ],
   "source": [
    "#recode to new scheme\n",
    "recoded_health_behaviour_df.loc[recoded_health_behaviour_df.CVDCRHD4 == 7, \"CVDCRHD4\"] = 2\n",
    "recoded_health_behaviour_df.loc[recoded_health_behaviour_df.CVDCRHD4 == 9, \"CVDCRHD4\"] = np.NaN\n",
    "recoded_health_behaviour_df['CVDCRHD4'].unique()"
   ]
  },
  {
   "cell_type": "markdown",
   "id": "1a07b529",
   "metadata": {},
   "source": [
    "## CVDSTRK3\n",
    "Question:  (Ever told) you had a stroke.\n",
    "\n",
    "coded as: \n",
    "- 1: Yes\n",
    "- 2: No\n",
    "- 7: Don't know/Not Sure\n",
    "- 9: Refused\n",
    "- Blank: Not asked or missing\n",
    "\n",
    "recoded as: \n",
    "- 1: Yes\n",
    "- 2: No\n",
    "- 2: Not Yes\n",
    "- Nan: Refused\n",
    "- Nan: Not asked or missing"
   ]
  },
  {
   "cell_type": "code",
   "execution_count": 85,
   "id": "ba779663",
   "metadata": {},
   "outputs": [],
   "source": [
    "#recode to new scheme\n",
    "recoded_health_behaviour_df.loc[recoded_health_behaviour_df.CVDSTRK3 == 7, \"CVDSTRK3\"] = 2\n",
    "recoded_health_behaviour_df.loc[recoded_health_behaviour_df.CVDSTRK3 == 9, \"CVDSTRK3\"] = np.NaN\n",
    "\n"
   ]
  },
  {
   "cell_type": "markdown",
   "id": "657e2c8b",
   "metadata": {},
   "source": [
    "## ASTHMA3\n",
    "Question:  (Ever told) you had asthma?\n",
    "\n",
    "coded as: \n",
    "- 1: Yes\n",
    "- 2: No\n",
    "- 7: Don't know/Not Sure\n",
    "- 9: Refused\n",
    "- Blank: Not asked or missing\n",
    "\n",
    "recoded as: \n",
    "- 1: Yes\n",
    "- 2: No\n",
    "- 2: Not Yes\n",
    "- Nan: Refused\n",
    "- Nan: Not asked or missing"
   ]
  },
  {
   "cell_type": "code",
   "execution_count": 86,
   "id": "3b998192",
   "metadata": {},
   "outputs": [
    {
     "data": {
      "text/html": [
       "<div>\n",
       "<style scoped>\n",
       "    .dataframe tbody tr th:only-of-type {\n",
       "        vertical-align: middle;\n",
       "    }\n",
       "\n",
       "    .dataframe tbody tr th {\n",
       "        vertical-align: top;\n",
       "    }\n",
       "\n",
       "    .dataframe thead th {\n",
       "        text-align: right;\n",
       "    }\n",
       "</style>\n",
       "<table border=\"1\" class=\"dataframe\">\n",
       "  <thead>\n",
       "    <tr style=\"text-align: right;\">\n",
       "      <th></th>\n",
       "      <th>ASTHMA3</th>\n",
       "      <th>_STATE</th>\n",
       "    </tr>\n",
       "  </thead>\n",
       "  <tbody>\n",
       "    <tr>\n",
       "      <th>0</th>\n",
       "      <td>7.422792</td>\n",
       "      <td>AK</td>\n",
       "    </tr>\n",
       "    <tr>\n",
       "      <th>2</th>\n",
       "      <td>7.628866</td>\n",
       "      <td>AL</td>\n",
       "    </tr>\n",
       "    <tr>\n",
       "      <th>4</th>\n",
       "      <td>7.260891</td>\n",
       "      <td>AR</td>\n",
       "    </tr>\n",
       "    <tr>\n",
       "      <th>6</th>\n",
       "      <td>8.194142</td>\n",
       "      <td>AZ</td>\n",
       "    </tr>\n",
       "    <tr>\n",
       "      <th>8</th>\n",
       "      <td>8.29059</td>\n",
       "      <td>CA</td>\n",
       "    </tr>\n",
       "    <tr>\n",
       "      <th>10</th>\n",
       "      <td>7.72078</td>\n",
       "      <td>CO</td>\n",
       "    </tr>\n",
       "    <tr>\n",
       "      <th>12</th>\n",
       "      <td>7.89086</td>\n",
       "      <td>CT</td>\n",
       "    </tr>\n",
       "    <tr>\n",
       "      <th>14</th>\n",
       "      <td>8.860233</td>\n",
       "      <td>DC</td>\n",
       "    </tr>\n",
       "    <tr>\n",
       "      <th>16</th>\n",
       "      <td>7.802988</td>\n",
       "      <td>DE</td>\n",
       "    </tr>\n",
       "    <tr>\n",
       "      <th>18</th>\n",
       "      <td>7.079898</td>\n",
       "      <td>FL</td>\n",
       "    </tr>\n",
       "    <tr>\n",
       "      <th>20</th>\n",
       "      <td>7.233484</td>\n",
       "      <td>GA</td>\n",
       "    </tr>\n",
       "    <tr>\n",
       "      <th>22</th>\n",
       "      <td>5.685036</td>\n",
       "      <td>GU</td>\n",
       "    </tr>\n",
       "    <tr>\n",
       "      <th>24</th>\n",
       "      <td>8.287526</td>\n",
       "      <td>HI</td>\n",
       "    </tr>\n",
       "    <tr>\n",
       "      <th>26</th>\n",
       "      <td>5.896341</td>\n",
       "      <td>IA</td>\n",
       "    </tr>\n",
       "    <tr>\n",
       "      <th>28</th>\n",
       "      <td>7.485265</td>\n",
       "      <td>ID</td>\n",
       "    </tr>\n",
       "    <tr>\n",
       "      <th>30</th>\n",
       "      <td>7.049913</td>\n",
       "      <td>IL</td>\n",
       "    </tr>\n",
       "    <tr>\n",
       "      <th>32</th>\n",
       "      <td>7.29764</td>\n",
       "      <td>IN</td>\n",
       "    </tr>\n",
       "    <tr>\n",
       "      <th>34</th>\n",
       "      <td>7.295651</td>\n",
       "      <td>KS</td>\n",
       "    </tr>\n",
       "    <tr>\n",
       "      <th>36</th>\n",
       "      <td>7.562572</td>\n",
       "      <td>KY</td>\n",
       "    </tr>\n",
       "    <tr>\n",
       "      <th>38</th>\n",
       "      <td>8.00229</td>\n",
       "      <td>LA</td>\n",
       "    </tr>\n",
       "  </tbody>\n",
       "</table>\n",
       "</div>"
      ],
      "text/plain": [
       "     ASTHMA3 _STATE\n",
       "0   7.422792     AK\n",
       "2   7.628866     AL\n",
       "4   7.260891     AR\n",
       "6   8.194142     AZ\n",
       "8    8.29059     CA\n",
       "10   7.72078     CO\n",
       "12   7.89086     CT\n",
       "14  8.860233     DC\n",
       "16  7.802988     DE\n",
       "18  7.079898     FL\n",
       "20  7.233484     GA\n",
       "22  5.685036     GU\n",
       "24  8.287526     HI\n",
       "26  5.896341     IA\n",
       "28  7.485265     ID\n",
       "30  7.049913     IL\n",
       "32   7.29764     IN\n",
       "34  7.295651     KS\n",
       "36  7.562572     KY\n",
       "38   8.00229     LA"
      ]
     },
     "execution_count": 86,
     "metadata": {},
     "output_type": "execute_result"
    }
   ],
   "source": [
    "\n",
    "#recode to new scheme\n",
    "recoded_health_behaviour_df.loc[recoded_health_behaviour_df.ASTHMA3 == 7, \"ASTHMA3\"] = 2\n",
    "recoded_health_behaviour_df.loc[recoded_health_behaviour_df.ASTHMA3 == 9, \"ASTHMA3\"] = np.NaN\n",
    "\n",
    "### % of state that has had a heart attack\n",
    "#TODO: group by state, find % of '1': yes\n",
    "state_as_df = recoded_health_behaviour_df[['_STATE', 'ASTHMA3']].dropna()\n",
    "state_as_df.ASTHMA3 = pd.to_numeric(state_as_df.ASTHMA3).astype('Int32')\n",
    "\n",
    "state_as = state_as_df.groupby(['_STATE', 'ASTHMA3' ], as_index=False).agg({'ASTHMA3': 'sum'})\n",
    "as_perc_df = state_as.groupby('_STATE').apply(calc_perc)\n",
    "\n",
    "#add back in _STATE column for reference\n",
    "as_perc_df['_STATE'] = state_as['_STATE']\n",
    "\n",
    "as_perc_df = as_perc_df[np.arange(len(as_perc_df)) % 2 == 0]\n",
    "as_perc_df.head(20)\n",
    "\n"
   ]
  },
  {
   "cell_type": "markdown",
   "id": "e5f76ba6",
   "metadata": {},
   "source": [
    "## CHCOCNCR\n",
    "Question:  (Ever told) you had any other types of cancer?\n",
    "\n",
    "coded as: \n",
    "- 1: Yes\n",
    "- 2: No\n",
    "- 7: Don't know/Not Sure\n",
    "- 9: Refused\n",
    "- Blank: Not asked or missing\n",
    "\n",
    "recoded as: \n",
    "- 1: Yes\n",
    "- 2: No\n",
    "- 2: Not Yes\n",
    "- Nan: Refused\n",
    "- Nan: Not asked or missing"
   ]
  },
  {
   "cell_type": "code",
   "execution_count": 87,
   "id": "657939d8",
   "metadata": {},
   "outputs": [],
   "source": [
    "#recode to new scheme\n",
    "recoded_health_behaviour_df.loc[recoded_health_behaviour_df.CHCOCNCR == 7, \"CHCOCNCR\"] = 2\n",
    "recoded_health_behaviour_df.loc[recoded_health_behaviour_df.CHCOCNCR == 9, \"CHCOCNCR\"] = np.NaN\n"
   ]
  },
  {
   "cell_type": "markdown",
   "id": "9e447a35",
   "metadata": {},
   "source": [
    "## CHCSCNCR\n",
    "Question:  (Ever told) you had skin cancer?\n",
    "\n",
    "coded as: \n",
    "- 1: Yes\n",
    "- 2: No\n",
    "- 7: Don't know/Not Sure\n",
    "- 9: Refused\n",
    "- Blank: Not asked or missing\n",
    "\n",
    "recoded as: \n",
    "- 1: Yes\n",
    "- 2: No\n",
    "- 2: Not Yes\n",
    "- Nan: Refused\n",
    "- Nan: Not asked or missing"
   ]
  },
  {
   "cell_type": "code",
   "execution_count": 88,
   "id": "bf26b61f",
   "metadata": {},
   "outputs": [],
   "source": [
    "#recode to new scheme\n",
    "recoded_health_behaviour_df.loc[recoded_health_behaviour_df.CHCSCNCR == 7, \"CHCSCNCR\"] = 2\n",
    "recoded_health_behaviour_df.loc[recoded_health_behaviour_df.CHCSCNCR == 9, \"CHCSCNCR\"] = np.NaN\n"
   ]
  },
  {
   "cell_type": "code",
   "execution_count": null,
   "id": "45a18cf9",
   "metadata": {},
   "outputs": [],
   "source": []
  },
  {
   "cell_type": "code",
   "execution_count": 89,
   "id": "d082ab2e",
   "metadata": {},
   "outputs": [],
   "source": [
    "## Any Cardiovascular Disease (heart disease, heart attack or stroke)\n",
    "def can_condition(s):\n",
    "    if(s['CHCOCNCR'] == 1) or (s['CHCSCNCR'] == 1):\n",
    "        return 1\n",
    "    else: \n",
    "        return 2\n"
   ]
  },
  {
   "cell_type": "code",
   "execution_count": 90,
   "id": "dd74dae5",
   "metadata": {},
   "outputs": [],
   "source": [
    "recoded_health_behaviour_df['ANYCANCER'] =  recoded_health_behaviour_df.apply(can_condition, axis=1)  "
   ]
  },
  {
   "cell_type": "code",
   "execution_count": 91,
   "id": "85d5dc20",
   "metadata": {},
   "outputs": [
    {
     "data": {
      "text/html": [
       "<div>\n",
       "<style scoped>\n",
       "    .dataframe tbody tr th:only-of-type {\n",
       "        vertical-align: middle;\n",
       "    }\n",
       "\n",
       "    .dataframe tbody tr th {\n",
       "        vertical-align: top;\n",
       "    }\n",
       "\n",
       "    .dataframe thead th {\n",
       "        text-align: right;\n",
       "    }\n",
       "</style>\n",
       "<table border=\"1\" class=\"dataframe\">\n",
       "  <thead>\n",
       "    <tr style=\"text-align: right;\">\n",
       "      <th></th>\n",
       "      <th>id</th>\n",
       "      <th>_STATE</th>\n",
       "      <th>GENHLTH</th>\n",
       "      <th>PHYSHLTH</th>\n",
       "      <th>MENTHLTH</th>\n",
       "      <th>POORHLTH</th>\n",
       "      <th>EXRACT11</th>\n",
       "      <th>PAFREQ1_</th>\n",
       "      <th>_MINAC11</th>\n",
       "      <th>ACTIN12_</th>\n",
       "      <th>...</th>\n",
       "      <th>DIABETE4</th>\n",
       "      <th>ADDEPEV3</th>\n",
       "      <th>CHCKDNY2</th>\n",
       "      <th>HAVARTH4</th>\n",
       "      <th>HLTHCVR1</th>\n",
       "      <th>HLTHPLN1</th>\n",
       "      <th>_IMPRACE</th>\n",
       "      <th>_EDUCAG</th>\n",
       "      <th>INCOME2</th>\n",
       "      <th>ANYCANCER</th>\n",
       "    </tr>\n",
       "  </thead>\n",
       "  <tbody>\n",
       "    <tr>\n",
       "      <th>418248</th>\n",
       "      <td>31560</td>\n",
       "      <td>CA</td>\n",
       "      <td>2</td>\n",
       "      <td>3</td>\n",
       "      <td>20</td>\n",
       "      <td>30.0</td>\n",
       "      <td>NaN</td>\n",
       "      <td>NaN</td>\n",
       "      <td>NaN</td>\n",
       "      <td>NaN</td>\n",
       "      <td>...</td>\n",
       "      <td>3.0</td>\n",
       "      <td>1.0</td>\n",
       "      <td>2.0</td>\n",
       "      <td>1.0</td>\n",
       "      <td>4.0</td>\n",
       "      <td>1.0</td>\n",
       "      <td>6.0</td>\n",
       "      <td>2.0</td>\n",
       "      <td>99.0</td>\n",
       "      <td>2</td>\n",
       "    </tr>\n",
       "    <tr>\n",
       "      <th>418249</th>\n",
       "      <td>31561</td>\n",
       "      <td>CA</td>\n",
       "      <td>5</td>\n",
       "      <td>0</td>\n",
       "      <td>15</td>\n",
       "      <td>88.0</td>\n",
       "      <td>64.0</td>\n",
       "      <td>3000.0</td>\n",
       "      <td>180.0</td>\n",
       "      <td>1.0</td>\n",
       "      <td>...</td>\n",
       "      <td>3.0</td>\n",
       "      <td>2.0</td>\n",
       "      <td>2.0</td>\n",
       "      <td>2.0</td>\n",
       "      <td>1.0</td>\n",
       "      <td>1.0</td>\n",
       "      <td>1.0</td>\n",
       "      <td>4.0</td>\n",
       "      <td>8.0</td>\n",
       "      <td>2</td>\n",
       "    </tr>\n",
       "    <tr>\n",
       "      <th>418250</th>\n",
       "      <td>31562</td>\n",
       "      <td>CA</td>\n",
       "      <td>3</td>\n",
       "      <td>0</td>\n",
       "      <td>0</td>\n",
       "      <td>NaN</td>\n",
       "      <td>NaN</td>\n",
       "      <td>NaN</td>\n",
       "      <td>NaN</td>\n",
       "      <td>NaN</td>\n",
       "      <td>...</td>\n",
       "      <td>4.0</td>\n",
       "      <td>2.0</td>\n",
       "      <td>2.0</td>\n",
       "      <td>2.0</td>\n",
       "      <td>8.0</td>\n",
       "      <td>1.0</td>\n",
       "      <td>5.0</td>\n",
       "      <td>1.0</td>\n",
       "      <td>5.0</td>\n",
       "      <td>2</td>\n",
       "    </tr>\n",
       "    <tr>\n",
       "      <th>418251</th>\n",
       "      <td>31563</td>\n",
       "      <td>CA</td>\n",
       "      <td>3</td>\n",
       "      <td>30</td>\n",
       "      <td>25</td>\n",
       "      <td>5.0</td>\n",
       "      <td>NaN</td>\n",
       "      <td>NaN</td>\n",
       "      <td>NaN</td>\n",
       "      <td>NaN</td>\n",
       "      <td>...</td>\n",
       "      <td>3.0</td>\n",
       "      <td>2.0</td>\n",
       "      <td>2.0</td>\n",
       "      <td>2.0</td>\n",
       "      <td>1.0</td>\n",
       "      <td>1.0</td>\n",
       "      <td>5.0</td>\n",
       "      <td>3.0</td>\n",
       "      <td>7.0</td>\n",
       "      <td>2</td>\n",
       "    </tr>\n",
       "    <tr>\n",
       "      <th>418252</th>\n",
       "      <td>31564</td>\n",
       "      <td>CA</td>\n",
       "      <td>2</td>\n",
       "      <td>30</td>\n",
       "      <td>5</td>\n",
       "      <td>30.0</td>\n",
       "      <td>NaN</td>\n",
       "      <td>NaN</td>\n",
       "      <td>NaN</td>\n",
       "      <td>NaN</td>\n",
       "      <td>...</td>\n",
       "      <td>3.0</td>\n",
       "      <td>2.0</td>\n",
       "      <td>2.0</td>\n",
       "      <td>1.0</td>\n",
       "      <td>1.0</td>\n",
       "      <td>1.0</td>\n",
       "      <td>1.0</td>\n",
       "      <td>4.0</td>\n",
       "      <td>8.0</td>\n",
       "      <td>1</td>\n",
       "    </tr>\n",
       "    <tr>\n",
       "      <th>418253</th>\n",
       "      <td>31565</td>\n",
       "      <td>CA</td>\n",
       "      <td>2</td>\n",
       "      <td>0</td>\n",
       "      <td>0</td>\n",
       "      <td>NaN</td>\n",
       "      <td>NaN</td>\n",
       "      <td>NaN</td>\n",
       "      <td>NaN</td>\n",
       "      <td>NaN</td>\n",
       "      <td>...</td>\n",
       "      <td>3.0</td>\n",
       "      <td>2.0</td>\n",
       "      <td>2.0</td>\n",
       "      <td>2.0</td>\n",
       "      <td>8.0</td>\n",
       "      <td>2.0</td>\n",
       "      <td>5.0</td>\n",
       "      <td>1.0</td>\n",
       "      <td>8.0</td>\n",
       "      <td>2</td>\n",
       "    </tr>\n",
       "    <tr>\n",
       "      <th>418254</th>\n",
       "      <td>31566</td>\n",
       "      <td>CA</td>\n",
       "      <td>3</td>\n",
       "      <td>0</td>\n",
       "      <td>0</td>\n",
       "      <td>NaN</td>\n",
       "      <td>NaN</td>\n",
       "      <td>NaN</td>\n",
       "      <td>NaN</td>\n",
       "      <td>NaN</td>\n",
       "      <td>...</td>\n",
       "      <td>3.0</td>\n",
       "      <td>2.0</td>\n",
       "      <td>2.0</td>\n",
       "      <td>2.0</td>\n",
       "      <td>4.0</td>\n",
       "      <td>1.0</td>\n",
       "      <td>5.0</td>\n",
       "      <td>1.0</td>\n",
       "      <td>4.0</td>\n",
       "      <td>2</td>\n",
       "    </tr>\n",
       "    <tr>\n",
       "      <th>418255</th>\n",
       "      <td>31567</td>\n",
       "      <td>CA</td>\n",
       "      <td>3</td>\n",
       "      <td>0</td>\n",
       "      <td>5</td>\n",
       "      <td>88.0</td>\n",
       "      <td>64.0</td>\n",
       "      <td>7000.0</td>\n",
       "      <td>105.0</td>\n",
       "      <td>1.0</td>\n",
       "      <td>...</td>\n",
       "      <td>3.0</td>\n",
       "      <td>1.0</td>\n",
       "      <td>2.0</td>\n",
       "      <td>2.0</td>\n",
       "      <td>4.0</td>\n",
       "      <td>1.0</td>\n",
       "      <td>1.0</td>\n",
       "      <td>3.0</td>\n",
       "      <td>2.0</td>\n",
       "      <td>1</td>\n",
       "    </tr>\n",
       "    <tr>\n",
       "      <th>418256</th>\n",
       "      <td>31568</td>\n",
       "      <td>CA</td>\n",
       "      <td>4</td>\n",
       "      <td>0</td>\n",
       "      <td>0</td>\n",
       "      <td>NaN</td>\n",
       "      <td>NaN</td>\n",
       "      <td>NaN</td>\n",
       "      <td>NaN</td>\n",
       "      <td>NaN</td>\n",
       "      <td>...</td>\n",
       "      <td>3.0</td>\n",
       "      <td>2.0</td>\n",
       "      <td>2.0</td>\n",
       "      <td>2.0</td>\n",
       "      <td>1.0</td>\n",
       "      <td>1.0</td>\n",
       "      <td>5.0</td>\n",
       "      <td>4.0</td>\n",
       "      <td>NaN</td>\n",
       "      <td>2</td>\n",
       "    </tr>\n",
       "    <tr>\n",
       "      <th>418257</th>\n",
       "      <td>31569</td>\n",
       "      <td>CA</td>\n",
       "      <td>4</td>\n",
       "      <td>0</td>\n",
       "      <td>5</td>\n",
       "      <td>88.0</td>\n",
       "      <td>64.0</td>\n",
       "      <td>6000.0</td>\n",
       "      <td>720.0</td>\n",
       "      <td>1.0</td>\n",
       "      <td>...</td>\n",
       "      <td>3.0</td>\n",
       "      <td>2.0</td>\n",
       "      <td>2.0</td>\n",
       "      <td>1.0</td>\n",
       "      <td>1.0</td>\n",
       "      <td>1.0</td>\n",
       "      <td>1.0</td>\n",
       "      <td>4.0</td>\n",
       "      <td>6.0</td>\n",
       "      <td>2</td>\n",
       "    </tr>\n",
       "    <tr>\n",
       "      <th>418258</th>\n",
       "      <td>31570</td>\n",
       "      <td>CA</td>\n",
       "      <td>3</td>\n",
       "      <td>0</td>\n",
       "      <td>0</td>\n",
       "      <td>NaN</td>\n",
       "      <td>64.0</td>\n",
       "      <td>1633.0</td>\n",
       "      <td>73.0</td>\n",
       "      <td>1.0</td>\n",
       "      <td>...</td>\n",
       "      <td>3.0</td>\n",
       "      <td>2.0</td>\n",
       "      <td>2.0</td>\n",
       "      <td>1.0</td>\n",
       "      <td>3.0</td>\n",
       "      <td>1.0</td>\n",
       "      <td>2.0</td>\n",
       "      <td>3.0</td>\n",
       "      <td>7.0</td>\n",
       "      <td>2</td>\n",
       "    </tr>\n",
       "    <tr>\n",
       "      <th>418259</th>\n",
       "      <td>31571</td>\n",
       "      <td>CA</td>\n",
       "      <td>3</td>\n",
       "      <td>6</td>\n",
       "      <td>3</td>\n",
       "      <td>8.0</td>\n",
       "      <td>64.0</td>\n",
       "      <td>5000.0</td>\n",
       "      <td>150.0</td>\n",
       "      <td>1.0</td>\n",
       "      <td>...</td>\n",
       "      <td>3.0</td>\n",
       "      <td>2.0</td>\n",
       "      <td>2.0</td>\n",
       "      <td>2.0</td>\n",
       "      <td>8.0</td>\n",
       "      <td>2.0</td>\n",
       "      <td>5.0</td>\n",
       "      <td>2.0</td>\n",
       "      <td>3.0</td>\n",
       "      <td>2</td>\n",
       "    </tr>\n",
       "    <tr>\n",
       "      <th>418260</th>\n",
       "      <td>31572</td>\n",
       "      <td>CA</td>\n",
       "      <td>4</td>\n",
       "      <td>2</td>\n",
       "      <td>20</td>\n",
       "      <td>20.0</td>\n",
       "      <td>37.0</td>\n",
       "      <td>1000.0</td>\n",
       "      <td>30.0</td>\n",
       "      <td>1.0</td>\n",
       "      <td>...</td>\n",
       "      <td>3.0</td>\n",
       "      <td>2.0</td>\n",
       "      <td>2.0</td>\n",
       "      <td>2.0</td>\n",
       "      <td>4.0</td>\n",
       "      <td>1.0</td>\n",
       "      <td>5.0</td>\n",
       "      <td>4.0</td>\n",
       "      <td>1.0</td>\n",
       "      <td>2</td>\n",
       "    </tr>\n",
       "    <tr>\n",
       "      <th>418261</th>\n",
       "      <td>31573</td>\n",
       "      <td>CA</td>\n",
       "      <td>4</td>\n",
       "      <td>0</td>\n",
       "      <td>0</td>\n",
       "      <td>NaN</td>\n",
       "      <td>64.0</td>\n",
       "      <td>4000.0</td>\n",
       "      <td>240.0</td>\n",
       "      <td>1.0</td>\n",
       "      <td>...</td>\n",
       "      <td>3.0</td>\n",
       "      <td>2.0</td>\n",
       "      <td>2.0</td>\n",
       "      <td>2.0</td>\n",
       "      <td>4.0</td>\n",
       "      <td>1.0</td>\n",
       "      <td>1.0</td>\n",
       "      <td>3.0</td>\n",
       "      <td>6.0</td>\n",
       "      <td>2</td>\n",
       "    </tr>\n",
       "    <tr>\n",
       "      <th>418262</th>\n",
       "      <td>31574</td>\n",
       "      <td>CA</td>\n",
       "      <td>4</td>\n",
       "      <td>0</td>\n",
       "      <td>5</td>\n",
       "      <td>88.0</td>\n",
       "      <td>64.0</td>\n",
       "      <td>2000.0</td>\n",
       "      <td>80.0</td>\n",
       "      <td>1.0</td>\n",
       "      <td>...</td>\n",
       "      <td>3.0</td>\n",
       "      <td>2.0</td>\n",
       "      <td>2.0</td>\n",
       "      <td>2.0</td>\n",
       "      <td>2.0</td>\n",
       "      <td>1.0</td>\n",
       "      <td>5.0</td>\n",
       "      <td>3.0</td>\n",
       "      <td>8.0</td>\n",
       "      <td>2</td>\n",
       "    </tr>\n",
       "    <tr>\n",
       "      <th>418263</th>\n",
       "      <td>31575</td>\n",
       "      <td>CA</td>\n",
       "      <td>5</td>\n",
       "      <td>0</td>\n",
       "      <td>0</td>\n",
       "      <td>NaN</td>\n",
       "      <td>NaN</td>\n",
       "      <td>NaN</td>\n",
       "      <td>NaN</td>\n",
       "      <td>NaN</td>\n",
       "      <td>...</td>\n",
       "      <td>3.0</td>\n",
       "      <td>2.0</td>\n",
       "      <td>2.0</td>\n",
       "      <td>2.0</td>\n",
       "      <td>8.0</td>\n",
       "      <td>2.0</td>\n",
       "      <td>1.0</td>\n",
       "      <td>2.0</td>\n",
       "      <td>8.0</td>\n",
       "      <td>2</td>\n",
       "    </tr>\n",
       "    <tr>\n",
       "      <th>418264</th>\n",
       "      <td>31576</td>\n",
       "      <td>CA</td>\n",
       "      <td>1</td>\n",
       "      <td>30</td>\n",
       "      <td>30</td>\n",
       "      <td>88.0</td>\n",
       "      <td>64.0</td>\n",
       "      <td>933.0</td>\n",
       "      <td>56.0</td>\n",
       "      <td>1.0</td>\n",
       "      <td>...</td>\n",
       "      <td>3.0</td>\n",
       "      <td>1.0</td>\n",
       "      <td>2.0</td>\n",
       "      <td>1.0</td>\n",
       "      <td>1.0</td>\n",
       "      <td>1.0</td>\n",
       "      <td>1.0</td>\n",
       "      <td>4.0</td>\n",
       "      <td>7.0</td>\n",
       "      <td>2</td>\n",
       "    </tr>\n",
       "    <tr>\n",
       "      <th>418265</th>\n",
       "      <td>31577</td>\n",
       "      <td>CA</td>\n",
       "      <td>1</td>\n",
       "      <td>30</td>\n",
       "      <td>0</td>\n",
       "      <td>88.0</td>\n",
       "      <td>NaN</td>\n",
       "      <td>NaN</td>\n",
       "      <td>NaN</td>\n",
       "      <td>NaN</td>\n",
       "      <td>...</td>\n",
       "      <td>1.0</td>\n",
       "      <td>2.0</td>\n",
       "      <td>2.0</td>\n",
       "      <td>2.0</td>\n",
       "      <td>4.0</td>\n",
       "      <td>2.0</td>\n",
       "      <td>5.0</td>\n",
       "      <td>2.0</td>\n",
       "      <td>4.0</td>\n",
       "      <td>2</td>\n",
       "    </tr>\n",
       "    <tr>\n",
       "      <th>418266</th>\n",
       "      <td>31578</td>\n",
       "      <td>CA</td>\n",
       "      <td>3</td>\n",
       "      <td>0</td>\n",
       "      <td>0</td>\n",
       "      <td>NaN</td>\n",
       "      <td>NaN</td>\n",
       "      <td>NaN</td>\n",
       "      <td>NaN</td>\n",
       "      <td>NaN</td>\n",
       "      <td>...</td>\n",
       "      <td>3.0</td>\n",
       "      <td>2.0</td>\n",
       "      <td>2.0</td>\n",
       "      <td>2.0</td>\n",
       "      <td>8.0</td>\n",
       "      <td>2.0</td>\n",
       "      <td>5.0</td>\n",
       "      <td>2.0</td>\n",
       "      <td>3.0</td>\n",
       "      <td>2</td>\n",
       "    </tr>\n",
       "    <tr>\n",
       "      <th>418267</th>\n",
       "      <td>31579</td>\n",
       "      <td>CA</td>\n",
       "      <td>5</td>\n",
       "      <td>0</td>\n",
       "      <td>0</td>\n",
       "      <td>NaN</td>\n",
       "      <td>NaN</td>\n",
       "      <td>NaN</td>\n",
       "      <td>NaN</td>\n",
       "      <td>NaN</td>\n",
       "      <td>...</td>\n",
       "      <td>3.0</td>\n",
       "      <td>2.0</td>\n",
       "      <td>2.0</td>\n",
       "      <td>2.0</td>\n",
       "      <td>5.0</td>\n",
       "      <td>1.0</td>\n",
       "      <td>2.0</td>\n",
       "      <td>4.0</td>\n",
       "      <td>7.0</td>\n",
       "      <td>2</td>\n",
       "    </tr>\n",
       "  </tbody>\n",
       "</table>\n",
       "<p>20 rows × 50 columns</p>\n",
       "</div>"
      ],
      "text/plain": [
       "           id _STATE  GENHLTH  PHYSHLTH  MENTHLTH POORHLTH EXRACT11 PAFREQ1_  \\\n",
       "418248  31560     CA        2         3        20     30.0      NaN      NaN   \n",
       "418249  31561     CA        5         0        15     88.0     64.0   3000.0   \n",
       "418250  31562     CA        3         0         0      NaN      NaN      NaN   \n",
       "418251  31563     CA        3        30        25      5.0      NaN      NaN   \n",
       "418252  31564     CA        2        30         5     30.0      NaN      NaN   \n",
       "418253  31565     CA        2         0         0      NaN      NaN      NaN   \n",
       "418254  31566     CA        3         0         0      NaN      NaN      NaN   \n",
       "418255  31567     CA        3         0         5     88.0     64.0   7000.0   \n",
       "418256  31568     CA        4         0         0      NaN      NaN      NaN   \n",
       "418257  31569     CA        4         0         5     88.0     64.0   6000.0   \n",
       "418258  31570     CA        3         0         0      NaN     64.0   1633.0   \n",
       "418259  31571     CA        3         6         3      8.0     64.0   5000.0   \n",
       "418260  31572     CA        4         2        20     20.0     37.0   1000.0   \n",
       "418261  31573     CA        4         0         0      NaN     64.0   4000.0   \n",
       "418262  31574     CA        4         0         5     88.0     64.0   2000.0   \n",
       "418263  31575     CA        5         0         0      NaN      NaN      NaN   \n",
       "418264  31576     CA        1        30        30     88.0     64.0    933.0   \n",
       "418265  31577     CA        1        30         0     88.0      NaN      NaN   \n",
       "418266  31578     CA        3         0         0      NaN      NaN      NaN   \n",
       "418267  31579     CA        5         0         0      NaN      NaN      NaN   \n",
       "\n",
       "       _MINAC11 ACTIN12_  ... DIABETE4 ADDEPEV3 CHCKDNY2 HAVARTH4 HLTHCVR1  \\\n",
       "418248      NaN      NaN  ...      3.0      1.0      2.0      1.0      4.0   \n",
       "418249    180.0      1.0  ...      3.0      2.0      2.0      2.0      1.0   \n",
       "418250      NaN      NaN  ...      4.0      2.0      2.0      2.0      8.0   \n",
       "418251      NaN      NaN  ...      3.0      2.0      2.0      2.0      1.0   \n",
       "418252      NaN      NaN  ...      3.0      2.0      2.0      1.0      1.0   \n",
       "418253      NaN      NaN  ...      3.0      2.0      2.0      2.0      8.0   \n",
       "418254      NaN      NaN  ...      3.0      2.0      2.0      2.0      4.0   \n",
       "418255    105.0      1.0  ...      3.0      1.0      2.0      2.0      4.0   \n",
       "418256      NaN      NaN  ...      3.0      2.0      2.0      2.0      1.0   \n",
       "418257    720.0      1.0  ...      3.0      2.0      2.0      1.0      1.0   \n",
       "418258     73.0      1.0  ...      3.0      2.0      2.0      1.0      3.0   \n",
       "418259    150.0      1.0  ...      3.0      2.0      2.0      2.0      8.0   \n",
       "418260     30.0      1.0  ...      3.0      2.0      2.0      2.0      4.0   \n",
       "418261    240.0      1.0  ...      3.0      2.0      2.0      2.0      4.0   \n",
       "418262     80.0      1.0  ...      3.0      2.0      2.0      2.0      2.0   \n",
       "418263      NaN      NaN  ...      3.0      2.0      2.0      2.0      8.0   \n",
       "418264     56.0      1.0  ...      3.0      1.0      2.0      1.0      1.0   \n",
       "418265      NaN      NaN  ...      1.0      2.0      2.0      2.0      4.0   \n",
       "418266      NaN      NaN  ...      3.0      2.0      2.0      2.0      8.0   \n",
       "418267      NaN      NaN  ...      3.0      2.0      2.0      2.0      5.0   \n",
       "\n",
       "       HLTHPLN1 _IMPRACE _EDUCAG INCOME2 ANYCANCER  \n",
       "418248      1.0      6.0     2.0    99.0         2  \n",
       "418249      1.0      1.0     4.0     8.0         2  \n",
       "418250      1.0      5.0     1.0     5.0         2  \n",
       "418251      1.0      5.0     3.0     7.0         2  \n",
       "418252      1.0      1.0     4.0     8.0         1  \n",
       "418253      2.0      5.0     1.0     8.0         2  \n",
       "418254      1.0      5.0     1.0     4.0         2  \n",
       "418255      1.0      1.0     3.0     2.0         1  \n",
       "418256      1.0      5.0     4.0     NaN         2  \n",
       "418257      1.0      1.0     4.0     6.0         2  \n",
       "418258      1.0      2.0     3.0     7.0         2  \n",
       "418259      2.0      5.0     2.0     3.0         2  \n",
       "418260      1.0      5.0     4.0     1.0         2  \n",
       "418261      1.0      1.0     3.0     6.0         2  \n",
       "418262      1.0      5.0     3.0     8.0         2  \n",
       "418263      2.0      1.0     2.0     8.0         2  \n",
       "418264      1.0      1.0     4.0     7.0         2  \n",
       "418265      2.0      5.0     2.0     4.0         2  \n",
       "418266      2.0      5.0     2.0     3.0         2  \n",
       "418267      1.0      2.0     4.0     7.0         2  \n",
       "\n",
       "[20 rows x 50 columns]"
      ]
     },
     "execution_count": 91,
     "metadata": {},
     "output_type": "execute_result"
    }
   ],
   "source": [
    "recoded_health_behaviour_df.tail(20)"
   ]
  },
  {
   "cell_type": "code",
   "execution_count": 92,
   "id": "7834cb47",
   "metadata": {},
   "outputs": [
    {
     "data": {
      "text/html": [
       "<div>\n",
       "<style scoped>\n",
       "    .dataframe tbody tr th:only-of-type {\n",
       "        vertical-align: middle;\n",
       "    }\n",
       "\n",
       "    .dataframe tbody tr th {\n",
       "        vertical-align: top;\n",
       "    }\n",
       "\n",
       "    .dataframe thead th {\n",
       "        text-align: right;\n",
       "    }\n",
       "</style>\n",
       "<table border=\"1\" class=\"dataframe\">\n",
       "  <thead>\n",
       "    <tr style=\"text-align: right;\">\n",
       "      <th></th>\n",
       "      <th>ANYCANCER</th>\n",
       "      <th>_STATE</th>\n",
       "    </tr>\n",
       "  </thead>\n",
       "  <tbody>\n",
       "    <tr>\n",
       "      <th>0</th>\n",
       "      <td>6.836533</td>\n",
       "      <td>AK</td>\n",
       "    </tr>\n",
       "    <tr>\n",
       "      <th>2</th>\n",
       "      <td>11.116363</td>\n",
       "      <td>AL</td>\n",
       "    </tr>\n",
       "    <tr>\n",
       "      <th>4</th>\n",
       "      <td>12.32446</td>\n",
       "      <td>AR</td>\n",
       "    </tr>\n",
       "    <tr>\n",
       "      <th>6</th>\n",
       "      <td>12.479557</td>\n",
       "      <td>AZ</td>\n",
       "    </tr>\n",
       "    <tr>\n",
       "      <th>8</th>\n",
       "      <td>7.249723</td>\n",
       "      <td>CA</td>\n",
       "    </tr>\n",
       "    <tr>\n",
       "      <th>10</th>\n",
       "      <td>10.077977</td>\n",
       "      <td>CO</td>\n",
       "    </tr>\n",
       "    <tr>\n",
       "      <th>12</th>\n",
       "      <td>10.317843</td>\n",
       "      <td>CT</td>\n",
       "    </tr>\n",
       "    <tr>\n",
       "      <th>14</th>\n",
       "      <td>7.828231</td>\n",
       "      <td>DC</td>\n",
       "    </tr>\n",
       "    <tr>\n",
       "      <th>16</th>\n",
       "      <td>9.976012</td>\n",
       "      <td>DE</td>\n",
       "    </tr>\n",
       "    <tr>\n",
       "      <th>18</th>\n",
       "      <td>12.954576</td>\n",
       "      <td>FL</td>\n",
       "    </tr>\n",
       "    <tr>\n",
       "      <th>20</th>\n",
       "      <td>9.142179</td>\n",
       "      <td>GA</td>\n",
       "    </tr>\n",
       "    <tr>\n",
       "      <th>22</th>\n",
       "      <td>3.41006</td>\n",
       "      <td>GU</td>\n",
       "    </tr>\n",
       "    <tr>\n",
       "      <th>24</th>\n",
       "      <td>7.807787</td>\n",
       "      <td>HI</td>\n",
       "    </tr>\n",
       "    <tr>\n",
       "      <th>26</th>\n",
       "      <td>9.019128</td>\n",
       "      <td>IA</td>\n",
       "    </tr>\n",
       "    <tr>\n",
       "      <th>28</th>\n",
       "      <td>9.688408</td>\n",
       "      <td>ID</td>\n",
       "    </tr>\n",
       "    <tr>\n",
       "      <th>30</th>\n",
       "      <td>7.279097</td>\n",
       "      <td>IL</td>\n",
       "    </tr>\n",
       "    <tr>\n",
       "      <th>32</th>\n",
       "      <td>9.897442</td>\n",
       "      <td>IN</td>\n",
       "    </tr>\n",
       "    <tr>\n",
       "      <th>34</th>\n",
       "      <td>9.465575</td>\n",
       "      <td>KS</td>\n",
       "    </tr>\n",
       "    <tr>\n",
       "      <th>36</th>\n",
       "      <td>10.351508</td>\n",
       "      <td>KY</td>\n",
       "    </tr>\n",
       "    <tr>\n",
       "      <th>38</th>\n",
       "      <td>8.235834</td>\n",
       "      <td>LA</td>\n",
       "    </tr>\n",
       "  </tbody>\n",
       "</table>\n",
       "</div>"
      ],
      "text/plain": [
       "    ANYCANCER _STATE\n",
       "0    6.836533     AK\n",
       "2   11.116363     AL\n",
       "4    12.32446     AR\n",
       "6   12.479557     AZ\n",
       "8    7.249723     CA\n",
       "10  10.077977     CO\n",
       "12  10.317843     CT\n",
       "14   7.828231     DC\n",
       "16   9.976012     DE\n",
       "18  12.954576     FL\n",
       "20   9.142179     GA\n",
       "22    3.41006     GU\n",
       "24   7.807787     HI\n",
       "26   9.019128     IA\n",
       "28   9.688408     ID\n",
       "30   7.279097     IL\n",
       "32   9.897442     IN\n",
       "34   9.465575     KS\n",
       "36  10.351508     KY\n",
       "38   8.235834     LA"
      ]
     },
     "execution_count": 92,
     "metadata": {},
     "output_type": "execute_result"
    }
   ],
   "source": [
    "\n",
    "### % of state that has had any cancer\n",
    "#TODO: group by state, find % of '1': yes\n",
    "state_ac_df = recoded_health_behaviour_df[['_STATE', 'ANYCANCER']].dropna()\n",
    "state_ac_df.ANYCANCER = pd.to_numeric(state_ac_df.ANYCANCER).astype('Int32')\n",
    "\n",
    "state_ac = state_ac_df.groupby(['_STATE', 'ANYCANCER' ], as_index=False).agg({'ANYCANCER': 'sum'})\n",
    "ac_perc_df = state_ac.groupby('_STATE').apply(calc_perc)\n",
    "\n",
    "#add back in _STATE column for reference\n",
    "ac_perc_df['_STATE'] = state_ac['_STATE']\n",
    "\n",
    "ac_perc_df = ac_perc_df[np.arange(len(ac_perc_df)) % 2 == 0]\n",
    "ac_perc_df.head(20)\n"
   ]
  },
  {
   "cell_type": "markdown",
   "id": "222b358b",
   "metadata": {},
   "source": [
    "## DIABETE4\n",
    "Question:  (Ever told) (you had) diabetes? \n",
    "\n",
    "coded as: \n",
    "- 1: Yes\n",
    "- 2: Yes, but female told only during pregnancy \n",
    "- 3: No\n",
    "- 4: No, pre-diabetes or borderline diabetes\n",
    "- 7: Don't know/Not Sure\n",
    "- 9: Refused\n",
    "- Blank: Not asked or missing\n",
    "\n",
    "recoded as: \n",
    "- 1: Yes\n",
    "- 1: Yes, but female told only during pregnancy \n",
    "- 2: No\n",
    "- 1: No, pre-diabetes or borderline diabetes\n",
    "- 2: Don't know/Not Sure\n",
    "- Nan: Refused\n",
    "- Blank: Not asked or missing"
   ]
  },
  {
   "cell_type": "code",
   "execution_count": 93,
   "id": "039171ad",
   "metadata": {},
   "outputs": [
    {
     "data": {
      "text/plain": [
       "array([2, Decimal('1.0'), nan], dtype=object)"
      ]
     },
     "execution_count": 93,
     "metadata": {},
     "output_type": "execute_result"
    }
   ],
   "source": [
    "#recode to new scheme\n",
    "recoded_health_behaviour_df.loc[recoded_health_behaviour_df.DIABETE4 == 2, \"DIABETE4\"] = 1\n",
    "recoded_health_behaviour_df.loc[recoded_health_behaviour_df.DIABETE4 == 3, \"DIABETE4\"] = 2\n",
    "recoded_health_behaviour_df.loc[recoded_health_behaviour_df.DIABETE4 == 4, \"DIABETE4\"] = 1\n",
    "recoded_health_behaviour_df.loc[recoded_health_behaviour_df.DIABETE4 == 7, \"DIABETE4\"] = 2\n",
    "recoded_health_behaviour_df.loc[recoded_health_behaviour_df.DIABETE4 == 9, \"DIABETE4\"] = np.NaN\n",
    "recoded_health_behaviour_df['DIABETE4'].unique()"
   ]
  },
  {
   "cell_type": "code",
   "execution_count": 94,
   "id": "ae91c4cc",
   "metadata": {},
   "outputs": [
    {
     "data": {
      "text/html": [
       "<div>\n",
       "<style scoped>\n",
       "    .dataframe tbody tr th:only-of-type {\n",
       "        vertical-align: middle;\n",
       "    }\n",
       "\n",
       "    .dataframe tbody tr th {\n",
       "        vertical-align: top;\n",
       "    }\n",
       "\n",
       "    .dataframe thead th {\n",
       "        text-align: right;\n",
       "    }\n",
       "</style>\n",
       "<table border=\"1\" class=\"dataframe\">\n",
       "  <thead>\n",
       "    <tr style=\"text-align: right;\">\n",
       "      <th></th>\n",
       "      <th>DIABETE4</th>\n",
       "      <th>_STATE</th>\n",
       "    </tr>\n",
       "  </thead>\n",
       "  <tbody>\n",
       "    <tr>\n",
       "      <th>0</th>\n",
       "      <td>6.767187</td>\n",
       "      <td>AK</td>\n",
       "    </tr>\n",
       "    <tr>\n",
       "      <th>2</th>\n",
       "      <td>11.320009</td>\n",
       "      <td>AL</td>\n",
       "    </tr>\n",
       "    <tr>\n",
       "      <th>4</th>\n",
       "      <td>11.923921</td>\n",
       "      <td>AR</td>\n",
       "    </tr>\n",
       "    <tr>\n",
       "      <th>6</th>\n",
       "      <td>9.409244</td>\n",
       "      <td>AZ</td>\n",
       "    </tr>\n",
       "    <tr>\n",
       "      <th>8</th>\n",
       "      <td>8.808921</td>\n",
       "      <td>CA</td>\n",
       "    </tr>\n",
       "    <tr>\n",
       "      <th>10</th>\n",
       "      <td>6.508808</td>\n",
       "      <td>CO</td>\n",
       "    </tr>\n",
       "    <tr>\n",
       "      <th>12</th>\n",
       "      <td>7.850875</td>\n",
       "      <td>CT</td>\n",
       "    </tr>\n",
       "    <tr>\n",
       "      <th>14</th>\n",
       "      <td>8.544173</td>\n",
       "      <td>DC</td>\n",
       "    </tr>\n",
       "    <tr>\n",
       "      <th>16</th>\n",
       "      <td>9.705592</td>\n",
       "      <td>DE</td>\n",
       "    </tr>\n",
       "    <tr>\n",
       "      <th>18</th>\n",
       "      <td>10.278184</td>\n",
       "      <td>FL</td>\n",
       "    </tr>\n",
       "    <tr>\n",
       "      <th>20</th>\n",
       "      <td>10.602754</td>\n",
       "      <td>GA</td>\n",
       "    </tr>\n",
       "    <tr>\n",
       "      <th>22</th>\n",
       "      <td>11.009384</td>\n",
       "      <td>GU</td>\n",
       "    </tr>\n",
       "    <tr>\n",
       "      <th>24</th>\n",
       "      <td>9.088327</td>\n",
       "      <td>HI</td>\n",
       "    </tr>\n",
       "    <tr>\n",
       "      <th>26</th>\n",
       "      <td>8.02316</td>\n",
       "      <td>IA</td>\n",
       "    </tr>\n",
       "    <tr>\n",
       "      <th>28</th>\n",
       "      <td>8.496084</td>\n",
       "      <td>ID</td>\n",
       "    </tr>\n",
       "    <tr>\n",
       "      <th>30</th>\n",
       "      <td>8.067836</td>\n",
       "      <td>IL</td>\n",
       "    </tr>\n",
       "    <tr>\n",
       "      <th>32</th>\n",
       "      <td>10.269935</td>\n",
       "      <td>IN</td>\n",
       "    </tr>\n",
       "    <tr>\n",
       "      <th>34</th>\n",
       "      <td>8.643274</td>\n",
       "      <td>KS</td>\n",
       "    </tr>\n",
       "    <tr>\n",
       "      <th>36</th>\n",
       "      <td>11.28019</td>\n",
       "      <td>KY</td>\n",
       "    </tr>\n",
       "    <tr>\n",
       "      <th>38</th>\n",
       "      <td>9.878844</td>\n",
       "      <td>LA</td>\n",
       "    </tr>\n",
       "  </tbody>\n",
       "</table>\n",
       "</div>"
      ],
      "text/plain": [
       "     DIABETE4 _STATE\n",
       "0    6.767187     AK\n",
       "2   11.320009     AL\n",
       "4   11.923921     AR\n",
       "6    9.409244     AZ\n",
       "8    8.808921     CA\n",
       "10   6.508808     CO\n",
       "12   7.850875     CT\n",
       "14   8.544173     DC\n",
       "16   9.705592     DE\n",
       "18  10.278184     FL\n",
       "20  10.602754     GA\n",
       "22  11.009384     GU\n",
       "24   9.088327     HI\n",
       "26    8.02316     IA\n",
       "28   8.496084     ID\n",
       "30   8.067836     IL\n",
       "32  10.269935     IN\n",
       "34   8.643274     KS\n",
       "36   11.28019     KY\n",
       "38   9.878844     LA"
      ]
     },
     "execution_count": 94,
     "metadata": {},
     "output_type": "execute_result"
    }
   ],
   "source": [
    "\n",
    "### % of state that has had a heart attack\n",
    "#TODO: group by state, find % of '1': yes\n",
    "state_de_df = recoded_health_behaviour_df[['_STATE', 'DIABETE4']].dropna()\n",
    "state_de_df.DIABETE4 = pd.to_numeric(state_de_df.DIABETE4).astype('Int32')\n",
    "\n",
    "state_de = state_de_df.groupby(['_STATE', 'DIABETE4' ], as_index=False).agg({'DIABETE4': 'sum'})\n",
    "de_perc_df = state_de.groupby('_STATE').apply(calc_perc)\n",
    "\n",
    "#add back in _STATE column for reference\n",
    "de_perc_df['_STATE'] = state_de['_STATE']\n",
    "\n",
    "de_perc_df = de_perc_df[np.arange(len(de_perc_df)) % 2 == 0]\n",
    "de_perc_df.head(20)\n"
   ]
  },
  {
   "cell_type": "markdown",
   "id": "29e4d36c",
   "metadata": {},
   "source": [
    "## ADDEPEV3\n",
    "Question:  (Ever told) (you had) a depressive disorder (including depression, major depression, dysthymia, or minor depression)?\n",
    "\n",
    "coded as: \n",
    "- 1: Yes\n",
    "- 2: No\n",
    "- 7: Don't know/Not Sure\n",
    "- 9: Refused\n",
    "- Blank: Not asked or missing\n",
    "\n",
    "recoded as: \n",
    "- 1: Yes\n",
    "- 2: No\n",
    "- 2: Not Yes\n",
    "- Nan: Refused\n",
    "- Nan: Not asked or missing"
   ]
  },
  {
   "cell_type": "code",
   "execution_count": 95,
   "id": "f3c09852",
   "metadata": {},
   "outputs": [
    {
     "data": {
      "text/html": [
       "<div>\n",
       "<style scoped>\n",
       "    .dataframe tbody tr th:only-of-type {\n",
       "        vertical-align: middle;\n",
       "    }\n",
       "\n",
       "    .dataframe tbody tr th {\n",
       "        vertical-align: top;\n",
       "    }\n",
       "\n",
       "    .dataframe thead th {\n",
       "        text-align: right;\n",
       "    }\n",
       "</style>\n",
       "<table border=\"1\" class=\"dataframe\">\n",
       "  <thead>\n",
       "    <tr style=\"text-align: right;\">\n",
       "      <th></th>\n",
       "      <th>ADDEPEV3</th>\n",
       "      <th>_STATE</th>\n",
       "    </tr>\n",
       "  </thead>\n",
       "  <tbody>\n",
       "    <tr>\n",
       "      <th>0</th>\n",
       "      <td>9.22455</td>\n",
       "      <td>AK</td>\n",
       "    </tr>\n",
       "    <tr>\n",
       "      <th>2</th>\n",
       "      <td>12.927025</td>\n",
       "      <td>AL</td>\n",
       "    </tr>\n",
       "    <tr>\n",
       "      <th>4</th>\n",
       "      <td>12.531539</td>\n",
       "      <td>AR</td>\n",
       "    </tr>\n",
       "    <tr>\n",
       "      <th>6</th>\n",
       "      <td>9.27444</td>\n",
       "      <td>AZ</td>\n",
       "    </tr>\n",
       "    <tr>\n",
       "      <th>8</th>\n",
       "      <td>8.587465</td>\n",
       "      <td>CA</td>\n",
       "    </tr>\n",
       "    <tr>\n",
       "      <th>10</th>\n",
       "      <td>8.932436</td>\n",
       "      <td>CO</td>\n",
       "    </tr>\n",
       "    <tr>\n",
       "      <th>12</th>\n",
       "      <td>7.972853</td>\n",
       "      <td>CT</td>\n",
       "    </tr>\n",
       "    <tr>\n",
       "      <th>14</th>\n",
       "      <td>10.21097</td>\n",
       "      <td>DC</td>\n",
       "    </tr>\n",
       "    <tr>\n",
       "      <th>16</th>\n",
       "      <td>9.95341</td>\n",
       "      <td>DE</td>\n",
       "    </tr>\n",
       "    <tr>\n",
       "      <th>18</th>\n",
       "      <td>10.288897</td>\n",
       "      <td>FL</td>\n",
       "    </tr>\n",
       "    <tr>\n",
       "      <th>20</th>\n",
       "      <td>10.262566</td>\n",
       "      <td>GA</td>\n",
       "    </tr>\n",
       "    <tr>\n",
       "      <th>22</th>\n",
       "      <td>5.938865</td>\n",
       "      <td>GU</td>\n",
       "    </tr>\n",
       "    <tr>\n",
       "      <th>24</th>\n",
       "      <td>7.524323</td>\n",
       "      <td>HI</td>\n",
       "    </tr>\n",
       "    <tr>\n",
       "      <th>26</th>\n",
       "      <td>8.271591</td>\n",
       "      <td>IA</td>\n",
       "    </tr>\n",
       "    <tr>\n",
       "      <th>28</th>\n",
       "      <td>11.827297</td>\n",
       "      <td>ID</td>\n",
       "    </tr>\n",
       "    <tr>\n",
       "      <th>30</th>\n",
       "      <td>9.892302</td>\n",
       "      <td>IL</td>\n",
       "    </tr>\n",
       "    <tr>\n",
       "      <th>32</th>\n",
       "      <td>10.882188</td>\n",
       "      <td>IN</td>\n",
       "    </tr>\n",
       "    <tr>\n",
       "      <th>34</th>\n",
       "      <td>9.994671</td>\n",
       "      <td>KS</td>\n",
       "    </tr>\n",
       "    <tr>\n",
       "      <th>36</th>\n",
       "      <td>13.706743</td>\n",
       "      <td>KY</td>\n",
       "    </tr>\n",
       "    <tr>\n",
       "      <th>38</th>\n",
       "      <td>13.378248</td>\n",
       "      <td>LA</td>\n",
       "    </tr>\n",
       "  </tbody>\n",
       "</table>\n",
       "</div>"
      ],
      "text/plain": [
       "     ADDEPEV3 _STATE\n",
       "0     9.22455     AK\n",
       "2   12.927025     AL\n",
       "4   12.531539     AR\n",
       "6     9.27444     AZ\n",
       "8    8.587465     CA\n",
       "10   8.932436     CO\n",
       "12   7.972853     CT\n",
       "14   10.21097     DC\n",
       "16    9.95341     DE\n",
       "18  10.288897     FL\n",
       "20  10.262566     GA\n",
       "22   5.938865     GU\n",
       "24   7.524323     HI\n",
       "26   8.271591     IA\n",
       "28  11.827297     ID\n",
       "30   9.892302     IL\n",
       "32  10.882188     IN\n",
       "34   9.994671     KS\n",
       "36  13.706743     KY\n",
       "38  13.378248     LA"
      ]
     },
     "execution_count": 95,
     "metadata": {},
     "output_type": "execute_result"
    }
   ],
   "source": [
    "#recode to new scheme\n",
    "recoded_health_behaviour_df.loc[recoded_health_behaviour_df.ADDEPEV3 == 7, \"ADDEPEV3\"] = 2\n",
    "recoded_health_behaviour_df.loc[recoded_health_behaviour_df.ADDEPEV3 == 9, \"ADDEPEV3\"] = np.NaN\n",
    "\n",
    "### % of state that has had a heart attack\n",
    "#TODO: group by state, find % of '1': yes\n",
    "state_dep_df = recoded_health_behaviour_df[['_STATE', 'ADDEPEV3']].dropna()\n",
    "state_dep_df.ADDEPEV3 = pd.to_numeric(state_dep_df.ADDEPEV3).astype('Int32')\n",
    "\n",
    "state_dep = state_dep_df.groupby(['_STATE', 'ADDEPEV3' ], as_index=False).agg({'ADDEPEV3': 'sum'})\n",
    "dep_perc_df = state_dep.groupby('_STATE').apply(calc_perc)\n",
    "\n",
    "#add back in _STATE column for reference\n",
    "dep_perc_df['_STATE'] = state_dep['_STATE']\n",
    "\n",
    "dep_perc_df = dep_perc_df[np.arange(len(dep_perc_df)) % 2 == 0]\n",
    "dep_perc_df.head(20)\n",
    "\n"
   ]
  },
  {
   "cell_type": "markdown",
   "id": "ceaf95df",
   "metadata": {},
   "source": [
    "## CHCKDNY2\n",
    "Question:  Not including kidney stones, bladder infection or incontinence, were you ever told you had kidney disease?\n",
    "\n",
    "coded as: \n",
    "- 1: Yes\n",
    "- 2: No\n",
    "- 7: Don't know/Not Sure\n",
    "- 9: Refused\n",
    "- Blank: Not asked or missing\n",
    "\n",
    "recoded as: \n",
    "- 1: Yes\n",
    "- 2: No\n",
    "- 2: Not Yes\n",
    "- Nan: Refused\n",
    "- Nan: Not asked or missing"
   ]
  },
  {
   "cell_type": "code",
   "execution_count": 96,
   "id": "afbfd1f2",
   "metadata": {},
   "outputs": [
    {
     "data": {
      "text/html": [
       "<div>\n",
       "<style scoped>\n",
       "    .dataframe tbody tr th:only-of-type {\n",
       "        vertical-align: middle;\n",
       "    }\n",
       "\n",
       "    .dataframe tbody tr th {\n",
       "        vertical-align: top;\n",
       "    }\n",
       "\n",
       "    .dataframe thead th {\n",
       "        text-align: right;\n",
       "    }\n",
       "</style>\n",
       "<table border=\"1\" class=\"dataframe\">\n",
       "  <thead>\n",
       "    <tr style=\"text-align: right;\">\n",
       "      <th></th>\n",
       "      <th>CHCKDNY2</th>\n",
       "      <th>_STATE</th>\n",
       "    </tr>\n",
       "  </thead>\n",
       "  <tbody>\n",
       "    <tr>\n",
       "      <th>0</th>\n",
       "      <td>1.484895</td>\n",
       "      <td>AK</td>\n",
       "    </tr>\n",
       "    <tr>\n",
       "      <th>2</th>\n",
       "      <td>2.219965</td>\n",
       "      <td>AL</td>\n",
       "    </tr>\n",
       "    <tr>\n",
       "      <th>4</th>\n",
       "      <td>2.92083</td>\n",
       "      <td>AR</td>\n",
       "    </tr>\n",
       "    <tr>\n",
       "      <th>6</th>\n",
       "      <td>2.676623</td>\n",
       "      <td>AZ</td>\n",
       "    </tr>\n",
       "    <tr>\n",
       "      <th>8</th>\n",
       "      <td>1.78407</td>\n",
       "      <td>CA</td>\n",
       "    </tr>\n",
       "    <tr>\n",
       "      <th>10</th>\n",
       "      <td>1.272154</td>\n",
       "      <td>CO</td>\n",
       "    </tr>\n",
       "    <tr>\n",
       "      <th>12</th>\n",
       "      <td>1.693974</td>\n",
       "      <td>CT</td>\n",
       "    </tr>\n",
       "    <tr>\n",
       "      <th>14</th>\n",
       "      <td>1.5719</td>\n",
       "      <td>DC</td>\n",
       "    </tr>\n",
       "    <tr>\n",
       "      <th>16</th>\n",
       "      <td>2.554648</td>\n",
       "      <td>DE</td>\n",
       "    </tr>\n",
       "    <tr>\n",
       "      <th>18</th>\n",
       "      <td>2.479289</td>\n",
       "      <td>FL</td>\n",
       "    </tr>\n",
       "    <tr>\n",
       "      <th>20</th>\n",
       "      <td>2.595953</td>\n",
       "      <td>GA</td>\n",
       "    </tr>\n",
       "    <tr>\n",
       "      <th>22</th>\n",
       "      <td>1.955014</td>\n",
       "      <td>GU</td>\n",
       "    </tr>\n",
       "    <tr>\n",
       "      <th>24</th>\n",
       "      <td>1.700973</td>\n",
       "      <td>HI</td>\n",
       "    </tr>\n",
       "    <tr>\n",
       "      <th>26</th>\n",
       "      <td>1.480944</td>\n",
       "      <td>IA</td>\n",
       "    </tr>\n",
       "    <tr>\n",
       "      <th>28</th>\n",
       "      <td>1.88117</td>\n",
       "      <td>ID</td>\n",
       "    </tr>\n",
       "    <tr>\n",
       "      <th>30</th>\n",
       "      <td>1.66928</td>\n",
       "      <td>IL</td>\n",
       "    </tr>\n",
       "    <tr>\n",
       "      <th>32</th>\n",
       "      <td>2.461521</td>\n",
       "      <td>IN</td>\n",
       "    </tr>\n",
       "    <tr>\n",
       "      <th>34</th>\n",
       "      <td>1.700833</td>\n",
       "      <td>KS</td>\n",
       "    </tr>\n",
       "    <tr>\n",
       "      <th>36</th>\n",
       "      <td>2.619891</td>\n",
       "      <td>KY</td>\n",
       "    </tr>\n",
       "    <tr>\n",
       "      <th>38</th>\n",
       "      <td>2.466051</td>\n",
       "      <td>LA</td>\n",
       "    </tr>\n",
       "  </tbody>\n",
       "</table>\n",
       "</div>"
      ],
      "text/plain": [
       "    CHCKDNY2 _STATE\n",
       "0   1.484895     AK\n",
       "2   2.219965     AL\n",
       "4    2.92083     AR\n",
       "6   2.676623     AZ\n",
       "8    1.78407     CA\n",
       "10  1.272154     CO\n",
       "12  1.693974     CT\n",
       "14    1.5719     DC\n",
       "16  2.554648     DE\n",
       "18  2.479289     FL\n",
       "20  2.595953     GA\n",
       "22  1.955014     GU\n",
       "24  1.700973     HI\n",
       "26  1.480944     IA\n",
       "28   1.88117     ID\n",
       "30   1.66928     IL\n",
       "32  2.461521     IN\n",
       "34  1.700833     KS\n",
       "36  2.619891     KY\n",
       "38  2.466051     LA"
      ]
     },
     "execution_count": 96,
     "metadata": {},
     "output_type": "execute_result"
    }
   ],
   "source": [
    "#recode to new scheme\n",
    "recoded_health_behaviour_df.loc[recoded_health_behaviour_df.CHCKDNY2 == 7, \"CHCKDNY2\"] = 2\n",
    "recoded_health_behaviour_df.loc[recoded_health_behaviour_df.CHCKDNY2 == 9, \"CHCKDNY2\"] = np.NaN\n",
    "\n",
    "### % of state that has had a heart attack\n",
    "#TODO: group by state, find % of '1': yes\n",
    "state_ki_df = recoded_health_behaviour_df[['_STATE', 'CHCKDNY2']].dropna()\n",
    "state_ki_df.CHCKDNY2 = pd.to_numeric(state_ki_df.CHCKDNY2).astype('Int32')\n",
    "\n",
    "state_ki = state_ki_df.groupby(['_STATE', 'CHCKDNY2' ], as_index=False).agg({'CHCKDNY2': 'sum'})\n",
    "ki_perc_df = state_ki.groupby('_STATE').apply(calc_perc)\n",
    "\n",
    "#add back in _STATE column for reference\n",
    "ki_perc_df['_STATE'] = state_ki['_STATE']\n",
    "\n",
    "ki_perc_df = ki_perc_df[np.arange(len(ki_perc_df)) % 2 == 0]\n",
    "ki_perc_df.head(20)\n",
    "\n"
   ]
  },
  {
   "cell_type": "markdown",
   "id": "4fc3030d",
   "metadata": {},
   "source": [
    "## HAVARTH4\n",
    "Question:  (Ever told) (you had) some form of arthritis, rheumatoid arthritis, gout, lupus, or fibromyalgia?  (Arthritis diagnoses include: rheumatism, polymyalgia rheumatica; osteoarthritis (not osteporosis); tendonitis, bursitis, bunion, tennis elbow; carpal tunnel syndrome, tarsal tunnel syndrome; joint infection, etc.)\n",
    "coded as: \n",
    "- 1: Yes\n",
    "- 2: No\n",
    "- 7: Don't know/Not Sure\n",
    "- 9: Refused\n",
    "- Blank: Not asked or missing\n",
    "\n",
    "recoded as: \n",
    "- 1: Yes\n",
    "- 2: No\n",
    "- 2: Not Yes\n",
    "- Nan: Refused\n",
    "- Nan: Not asked or missing"
   ]
  },
  {
   "cell_type": "code",
   "execution_count": 97,
   "id": "ede16c4b",
   "metadata": {},
   "outputs": [
    {
     "data": {
      "text/html": [
       "<div>\n",
       "<style scoped>\n",
       "    .dataframe tbody tr th:only-of-type {\n",
       "        vertical-align: middle;\n",
       "    }\n",
       "\n",
       "    .dataframe tbody tr th {\n",
       "        vertical-align: top;\n",
       "    }\n",
       "\n",
       "    .dataframe thead th {\n",
       "        text-align: right;\n",
       "    }\n",
       "</style>\n",
       "<table border=\"1\" class=\"dataframe\">\n",
       "  <thead>\n",
       "    <tr style=\"text-align: right;\">\n",
       "      <th></th>\n",
       "      <th>HAVARTH4</th>\n",
       "      <th>_STATE</th>\n",
       "    </tr>\n",
       "  </thead>\n",
       "  <tbody>\n",
       "    <tr>\n",
       "      <th>0</th>\n",
       "      <td>17.875545</td>\n",
       "      <td>AK</td>\n",
       "    </tr>\n",
       "    <tr>\n",
       "      <th>2</th>\n",
       "      <td>27.103815</td>\n",
       "      <td>AL</td>\n",
       "    </tr>\n",
       "    <tr>\n",
       "      <th>4</th>\n",
       "      <td>26.872038</td>\n",
       "      <td>AR</td>\n",
       "    </tr>\n",
       "    <tr>\n",
       "      <th>6</th>\n",
       "      <td>20.25836</td>\n",
       "      <td>AZ</td>\n",
       "    </tr>\n",
       "    <tr>\n",
       "      <th>8</th>\n",
       "      <td>13.124817</td>\n",
       "      <td>CA</td>\n",
       "    </tr>\n",
       "    <tr>\n",
       "      <th>10</th>\n",
       "      <td>17.383083</td>\n",
       "      <td>CO</td>\n",
       "    </tr>\n",
       "    <tr>\n",
       "      <th>12</th>\n",
       "      <td>19.389552</td>\n",
       "      <td>CT</td>\n",
       "    </tr>\n",
       "    <tr>\n",
       "      <th>14</th>\n",
       "      <td>16.053215</td>\n",
       "      <td>DC</td>\n",
       "    </tr>\n",
       "    <tr>\n",
       "      <th>16</th>\n",
       "      <td>20.092521</td>\n",
       "      <td>DE</td>\n",
       "    </tr>\n",
       "    <tr>\n",
       "      <th>18</th>\n",
       "      <td>20.899037</td>\n",
       "      <td>FL</td>\n",
       "    </tr>\n",
       "    <tr>\n",
       "      <th>20</th>\n",
       "      <td>19.957572</td>\n",
       "      <td>GA</td>\n",
       "    </tr>\n",
       "    <tr>\n",
       "      <th>22</th>\n",
       "      <td>11.514594</td>\n",
       "      <td>GU</td>\n",
       "    </tr>\n",
       "    <tr>\n",
       "      <th>24</th>\n",
       "      <td>14.989149</td>\n",
       "      <td>HI</td>\n",
       "    </tr>\n",
       "    <tr>\n",
       "      <th>26</th>\n",
       "      <td>18.799272</td>\n",
       "      <td>IA</td>\n",
       "    </tr>\n",
       "    <tr>\n",
       "      <th>28</th>\n",
       "      <td>19.384414</td>\n",
       "      <td>ID</td>\n",
       "    </tr>\n",
       "    <tr>\n",
       "      <th>30</th>\n",
       "      <td>16.953108</td>\n",
       "      <td>IL</td>\n",
       "    </tr>\n",
       "    <tr>\n",
       "      <th>32</th>\n",
       "      <td>20.964118</td>\n",
       "      <td>IN</td>\n",
       "    </tr>\n",
       "    <tr>\n",
       "      <th>34</th>\n",
       "      <td>18.774828</td>\n",
       "      <td>KS</td>\n",
       "    </tr>\n",
       "    <tr>\n",
       "      <th>36</th>\n",
       "      <td>26.690505</td>\n",
       "      <td>KY</td>\n",
       "    </tr>\n",
       "    <tr>\n",
       "      <th>38</th>\n",
       "      <td>19.427558</td>\n",
       "      <td>LA</td>\n",
       "    </tr>\n",
       "  </tbody>\n",
       "</table>\n",
       "</div>"
      ],
      "text/plain": [
       "     HAVARTH4 _STATE\n",
       "0   17.875545     AK\n",
       "2   27.103815     AL\n",
       "4   26.872038     AR\n",
       "6    20.25836     AZ\n",
       "8   13.124817     CA\n",
       "10  17.383083     CO\n",
       "12  19.389552     CT\n",
       "14  16.053215     DC\n",
       "16  20.092521     DE\n",
       "18  20.899037     FL\n",
       "20  19.957572     GA\n",
       "22  11.514594     GU\n",
       "24  14.989149     HI\n",
       "26  18.799272     IA\n",
       "28  19.384414     ID\n",
       "30  16.953108     IL\n",
       "32  20.964118     IN\n",
       "34  18.774828     KS\n",
       "36  26.690505     KY\n",
       "38  19.427558     LA"
      ]
     },
     "execution_count": 97,
     "metadata": {},
     "output_type": "execute_result"
    }
   ],
   "source": [
    "#recode to new scheme\n",
    "recoded_health_behaviour_df.loc[recoded_health_behaviour_df.HAVARTH4 == 7, \"HAVARTH4\"] = 2\n",
    "recoded_health_behaviour_df.loc[recoded_health_behaviour_df.HAVARTH4 == 9, \"HAVARTH4\"] = np.NaN\n",
    "\n",
    "### % of state that has had a heart attack\n",
    "#TODO: group by state, find % of '1': yes\n",
    "state_ar_df = recoded_health_behaviour_df[['_STATE', 'HAVARTH4']].dropna()\n",
    "state_ar_df.HAVARTH4 = pd.to_numeric(state_ar_df.HAVARTH4).astype('Int32')\n",
    "\n",
    "state_ar = state_ar_df.groupby(['_STATE', 'HAVARTH4' ], as_index=False).agg({'HAVARTH4': 'sum'})\n",
    "ar_perc_df = state_ar.groupby('_STATE').apply(calc_perc)\n",
    "\n",
    "#add back in _STATE column for reference\n",
    "ar_perc_df['_STATE'] = state_ar['_STATE']\n",
    "\n",
    "ar_perc_df = ar_perc_df[np.arange(len(ar_perc_df)) % 2 == 0]\n",
    "ar_perc_df.head(20)\n"
   ]
  },
  {
   "cell_type": "markdown",
   "id": "efcb34f1",
   "metadata": {},
   "source": [
    "## ANYHEART\n",
    "aggregate of heart disease, heart attack and stroke victims\n",
    "coding as:\n",
    "- 1: Experience at least one\n",
    "- 2: Experienced None"
   ]
  },
  {
   "cell_type": "code",
   "execution_count": 98,
   "id": "81ecda18",
   "metadata": {},
   "outputs": [],
   "source": [
    "## Any Cardiovascular Disease (heart disease, heart attack or stroke)\n",
    "def condition(s):\n",
    "    if(s['CVDINFR4'] == 1) or (s['CVDCRHD4'] == 1) or (s['CVDSTRK3'] == 1):\n",
    "        return 1\n",
    "    else: \n",
    "        return 2\n",
    "  "
   ]
  },
  {
   "cell_type": "code",
   "execution_count": 99,
   "id": "d4c09bb6",
   "metadata": {},
   "outputs": [],
   "source": [
    "recoded_health_behaviour_df['ANYHEART'] =  recoded_health_behaviour_df.apply(condition, axis=1)\n"
   ]
  },
  {
   "cell_type": "code",
   "execution_count": 100,
   "id": "85ac5ae8",
   "metadata": {},
   "outputs": [
    {
     "data": {
      "text/html": [
       "<div>\n",
       "<style scoped>\n",
       "    .dataframe tbody tr th:only-of-type {\n",
       "        vertical-align: middle;\n",
       "    }\n",
       "\n",
       "    .dataframe tbody tr th {\n",
       "        vertical-align: top;\n",
       "    }\n",
       "\n",
       "    .dataframe thead th {\n",
       "        text-align: right;\n",
       "    }\n",
       "</style>\n",
       "<table border=\"1\" class=\"dataframe\">\n",
       "  <thead>\n",
       "    <tr style=\"text-align: right;\">\n",
       "      <th></th>\n",
       "      <th>id</th>\n",
       "      <th>_STATE</th>\n",
       "      <th>GENHLTH</th>\n",
       "      <th>PHYSHLTH</th>\n",
       "      <th>MENTHLTH</th>\n",
       "      <th>POORHLTH</th>\n",
       "      <th>EXRACT11</th>\n",
       "      <th>PAFREQ1_</th>\n",
       "      <th>_MINAC11</th>\n",
       "      <th>ACTIN12_</th>\n",
       "      <th>...</th>\n",
       "      <th>ADDEPEV3</th>\n",
       "      <th>CHCKDNY2</th>\n",
       "      <th>HAVARTH4</th>\n",
       "      <th>HLTHCVR1</th>\n",
       "      <th>HLTHPLN1</th>\n",
       "      <th>_IMPRACE</th>\n",
       "      <th>_EDUCAG</th>\n",
       "      <th>INCOME2</th>\n",
       "      <th>ANYCANCER</th>\n",
       "      <th>ANYHEART</th>\n",
       "    </tr>\n",
       "  </thead>\n",
       "  <tbody>\n",
       "    <tr>\n",
       "      <th>0</th>\n",
       "      <td>31580</td>\n",
       "      <td>CA</td>\n",
       "      <td>3</td>\n",
       "      <td>0</td>\n",
       "      <td>0</td>\n",
       "      <td>NaN</td>\n",
       "      <td>64.0</td>\n",
       "      <td>7000.0</td>\n",
       "      <td>1260.0</td>\n",
       "      <td>1.0</td>\n",
       "      <td>...</td>\n",
       "      <td>2.0</td>\n",
       "      <td>2.0</td>\n",
       "      <td>2.0</td>\n",
       "      <td>8.0</td>\n",
       "      <td>2.0</td>\n",
       "      <td>5.0</td>\n",
       "      <td>1.0</td>\n",
       "      <td>6.0</td>\n",
       "      <td>2</td>\n",
       "      <td>2</td>\n",
       "    </tr>\n",
       "    <tr>\n",
       "      <th>1</th>\n",
       "      <td>31581</td>\n",
       "      <td>CA</td>\n",
       "      <td>2</td>\n",
       "      <td>2</td>\n",
       "      <td>5</td>\n",
       "      <td>88.0</td>\n",
       "      <td>18.0</td>\n",
       "      <td>467.0</td>\n",
       "      <td>28.0</td>\n",
       "      <td>2.0</td>\n",
       "      <td>...</td>\n",
       "      <td>2.0</td>\n",
       "      <td>2.0</td>\n",
       "      <td>2.0</td>\n",
       "      <td>4.0</td>\n",
       "      <td>1.0</td>\n",
       "      <td>5.0</td>\n",
       "      <td>1.0</td>\n",
       "      <td>5.0</td>\n",
       "      <td>2</td>\n",
       "      <td>1</td>\n",
       "    </tr>\n",
       "    <tr>\n",
       "      <th>2</th>\n",
       "      <td>31582</td>\n",
       "      <td>CA</td>\n",
       "      <td>4</td>\n",
       "      <td>3</td>\n",
       "      <td>10</td>\n",
       "      <td>10.0</td>\n",
       "      <td>64.0</td>\n",
       "      <td>6000.0</td>\n",
       "      <td>210.0</td>\n",
       "      <td>1.0</td>\n",
       "      <td>...</td>\n",
       "      <td>1.0</td>\n",
       "      <td>2.0</td>\n",
       "      <td>1.0</td>\n",
       "      <td>1.0</td>\n",
       "      <td>1.0</td>\n",
       "      <td>1.0</td>\n",
       "      <td>2.0</td>\n",
       "      <td>8.0</td>\n",
       "      <td>2</td>\n",
       "      <td>2</td>\n",
       "    </tr>\n",
       "    <tr>\n",
       "      <th>3</th>\n",
       "      <td>31583</td>\n",
       "      <td>CA</td>\n",
       "      <td>3</td>\n",
       "      <td>0</td>\n",
       "      <td>5</td>\n",
       "      <td>88.0</td>\n",
       "      <td>64.0</td>\n",
       "      <td>5000.0</td>\n",
       "      <td>200.0</td>\n",
       "      <td>1.0</td>\n",
       "      <td>...</td>\n",
       "      <td>2.0</td>\n",
       "      <td>2.0</td>\n",
       "      <td>2.0</td>\n",
       "      <td>1.0</td>\n",
       "      <td>1.0</td>\n",
       "      <td>5.0</td>\n",
       "      <td>2.0</td>\n",
       "      <td>6.0</td>\n",
       "      <td>2</td>\n",
       "      <td>2</td>\n",
       "    </tr>\n",
       "    <tr>\n",
       "      <th>4</th>\n",
       "      <td>31584</td>\n",
       "      <td>CA</td>\n",
       "      <td>3</td>\n",
       "      <td>0</td>\n",
       "      <td>30</td>\n",
       "      <td>15.0</td>\n",
       "      <td>64.0</td>\n",
       "      <td>4000.0</td>\n",
       "      <td>120.0</td>\n",
       "      <td>1.0</td>\n",
       "      <td>...</td>\n",
       "      <td>1.0</td>\n",
       "      <td>2.0</td>\n",
       "      <td>2.0</td>\n",
       "      <td>4.0</td>\n",
       "      <td>1.0</td>\n",
       "      <td>5.0</td>\n",
       "      <td>4.0</td>\n",
       "      <td>6.0</td>\n",
       "      <td>2</td>\n",
       "      <td>2</td>\n",
       "    </tr>\n",
       "    <tr>\n",
       "      <th>5</th>\n",
       "      <td>31585</td>\n",
       "      <td>CA</td>\n",
       "      <td>3</td>\n",
       "      <td>0</td>\n",
       "      <td>0</td>\n",
       "      <td>NaN</td>\n",
       "      <td>5.0</td>\n",
       "      <td>1000.0</td>\n",
       "      <td>90.0</td>\n",
       "      <td>2.0</td>\n",
       "      <td>...</td>\n",
       "      <td>2.0</td>\n",
       "      <td>2.0</td>\n",
       "      <td>2.0</td>\n",
       "      <td>2.0</td>\n",
       "      <td>2.0</td>\n",
       "      <td>5.0</td>\n",
       "      <td>4.0</td>\n",
       "      <td>8.0</td>\n",
       "      <td>2</td>\n",
       "      <td>2</td>\n",
       "    </tr>\n",
       "    <tr>\n",
       "      <th>6</th>\n",
       "      <td>31586</td>\n",
       "      <td>CA</td>\n",
       "      <td>5</td>\n",
       "      <td>0</td>\n",
       "      <td>0</td>\n",
       "      <td>NaN</td>\n",
       "      <td>67.0</td>\n",
       "      <td>4000.0</td>\n",
       "      <td>0.0</td>\n",
       "      <td>0.0</td>\n",
       "      <td>...</td>\n",
       "      <td>2.0</td>\n",
       "      <td>2.0</td>\n",
       "      <td>2.0</td>\n",
       "      <td>1.0</td>\n",
       "      <td>1.0</td>\n",
       "      <td>5.0</td>\n",
       "      <td>3.0</td>\n",
       "      <td>8.0</td>\n",
       "      <td>2</td>\n",
       "      <td>2</td>\n",
       "    </tr>\n",
       "    <tr>\n",
       "      <th>7</th>\n",
       "      <td>31658</td>\n",
       "      <td>CA</td>\n",
       "      <td>3</td>\n",
       "      <td>2</td>\n",
       "      <td>0</td>\n",
       "      <td>99.0</td>\n",
       "      <td>NaN</td>\n",
       "      <td>NaN</td>\n",
       "      <td>NaN</td>\n",
       "      <td>NaN</td>\n",
       "      <td>...</td>\n",
       "      <td>2.0</td>\n",
       "      <td>2.0</td>\n",
       "      <td>2.0</td>\n",
       "      <td>99.0</td>\n",
       "      <td>1.0</td>\n",
       "      <td>1.0</td>\n",
       "      <td>4.0</td>\n",
       "      <td>99.0</td>\n",
       "      <td>2</td>\n",
       "      <td>2</td>\n",
       "    </tr>\n",
       "    <tr>\n",
       "      <th>8</th>\n",
       "      <td>31587</td>\n",
       "      <td>CA</td>\n",
       "      <td>2</td>\n",
       "      <td>20</td>\n",
       "      <td>5</td>\n",
       "      <td>88.0</td>\n",
       "      <td>64.0</td>\n",
       "      <td>3000.0</td>\n",
       "      <td>270.0</td>\n",
       "      <td>1.0</td>\n",
       "      <td>...</td>\n",
       "      <td>2.0</td>\n",
       "      <td>2.0</td>\n",
       "      <td>2.0</td>\n",
       "      <td>4.0</td>\n",
       "      <td>1.0</td>\n",
       "      <td>5.0</td>\n",
       "      <td>3.0</td>\n",
       "      <td>5.0</td>\n",
       "      <td>2</td>\n",
       "      <td>2</td>\n",
       "    </tr>\n",
       "    <tr>\n",
       "      <th>9</th>\n",
       "      <td>31588</td>\n",
       "      <td>CA</td>\n",
       "      <td>4</td>\n",
       "      <td>0</td>\n",
       "      <td>29</td>\n",
       "      <td>2.0</td>\n",
       "      <td>37.0</td>\n",
       "      <td>3000.0</td>\n",
       "      <td>90.0</td>\n",
       "      <td>1.0</td>\n",
       "      <td>...</td>\n",
       "      <td>1.0</td>\n",
       "      <td>2.0</td>\n",
       "      <td>2.0</td>\n",
       "      <td>77.0</td>\n",
       "      <td>1.0</td>\n",
       "      <td>5.0</td>\n",
       "      <td>3.0</td>\n",
       "      <td>8.0</td>\n",
       "      <td>2</td>\n",
       "      <td>2</td>\n",
       "    </tr>\n",
       "    <tr>\n",
       "      <th>10</th>\n",
       "      <td>31589</td>\n",
       "      <td>CA</td>\n",
       "      <td>3</td>\n",
       "      <td>1</td>\n",
       "      <td>1</td>\n",
       "      <td>88.0</td>\n",
       "      <td>64.0</td>\n",
       "      <td>2000.0</td>\n",
       "      <td>60.0</td>\n",
       "      <td>1.0</td>\n",
       "      <td>...</td>\n",
       "      <td>2.0</td>\n",
       "      <td>2.0</td>\n",
       "      <td>2.0</td>\n",
       "      <td>4.0</td>\n",
       "      <td>1.0</td>\n",
       "      <td>2.0</td>\n",
       "      <td>3.0</td>\n",
       "      <td>1.0</td>\n",
       "      <td>2</td>\n",
       "      <td>2</td>\n",
       "    </tr>\n",
       "    <tr>\n",
       "      <th>11</th>\n",
       "      <td>31590</td>\n",
       "      <td>CA</td>\n",
       "      <td>4</td>\n",
       "      <td>0</td>\n",
       "      <td>0</td>\n",
       "      <td>NaN</td>\n",
       "      <td>NaN</td>\n",
       "      <td>NaN</td>\n",
       "      <td>NaN</td>\n",
       "      <td>NaN</td>\n",
       "      <td>...</td>\n",
       "      <td>2.0</td>\n",
       "      <td>2.0</td>\n",
       "      <td>2.0</td>\n",
       "      <td>4.0</td>\n",
       "      <td>1.0</td>\n",
       "      <td>5.0</td>\n",
       "      <td>2.0</td>\n",
       "      <td>99.0</td>\n",
       "      <td>2</td>\n",
       "      <td>2</td>\n",
       "    </tr>\n",
       "    <tr>\n",
       "      <th>12</th>\n",
       "      <td>31591</td>\n",
       "      <td>CA</td>\n",
       "      <td>3</td>\n",
       "      <td>0</td>\n",
       "      <td>0</td>\n",
       "      <td>NaN</td>\n",
       "      <td>64.0</td>\n",
       "      <td>7000.0</td>\n",
       "      <td>140.0</td>\n",
       "      <td>1.0</td>\n",
       "      <td>...</td>\n",
       "      <td>1.0</td>\n",
       "      <td>2.0</td>\n",
       "      <td>1.0</td>\n",
       "      <td>3.0</td>\n",
       "      <td>1.0</td>\n",
       "      <td>1.0</td>\n",
       "      <td>2.0</td>\n",
       "      <td>2.0</td>\n",
       "      <td>2</td>\n",
       "      <td>2</td>\n",
       "    </tr>\n",
       "    <tr>\n",
       "      <th>13</th>\n",
       "      <td>31592</td>\n",
       "      <td>CA</td>\n",
       "      <td>3</td>\n",
       "      <td>0</td>\n",
       "      <td>21</td>\n",
       "      <td>14.0</td>\n",
       "      <td>67.0</td>\n",
       "      <td>4000.0</td>\n",
       "      <td>0.0</td>\n",
       "      <td>0.0</td>\n",
       "      <td>...</td>\n",
       "      <td>2.0</td>\n",
       "      <td>2.0</td>\n",
       "      <td>2.0</td>\n",
       "      <td>4.0</td>\n",
       "      <td>1.0</td>\n",
       "      <td>3.0</td>\n",
       "      <td>4.0</td>\n",
       "      <td>99.0</td>\n",
       "      <td>2</td>\n",
       "      <td>2</td>\n",
       "    </tr>\n",
       "    <tr>\n",
       "      <th>14</th>\n",
       "      <td>31593</td>\n",
       "      <td>CA</td>\n",
       "      <td>3</td>\n",
       "      <td>0</td>\n",
       "      <td>0</td>\n",
       "      <td>NaN</td>\n",
       "      <td>6.0</td>\n",
       "      <td>7000.0</td>\n",
       "      <td>210.0</td>\n",
       "      <td>2.0</td>\n",
       "      <td>...</td>\n",
       "      <td>2.0</td>\n",
       "      <td>2.0</td>\n",
       "      <td>2.0</td>\n",
       "      <td>3.0</td>\n",
       "      <td>1.0</td>\n",
       "      <td>5.0</td>\n",
       "      <td>3.0</td>\n",
       "      <td>7.0</td>\n",
       "      <td>2</td>\n",
       "      <td>1</td>\n",
       "    </tr>\n",
       "    <tr>\n",
       "      <th>15</th>\n",
       "      <td>31626</td>\n",
       "      <td>CA</td>\n",
       "      <td>3</td>\n",
       "      <td>0</td>\n",
       "      <td>0</td>\n",
       "      <td>NaN</td>\n",
       "      <td>67.0</td>\n",
       "      <td>3000.0</td>\n",
       "      <td>0.0</td>\n",
       "      <td>0.0</td>\n",
       "      <td>...</td>\n",
       "      <td>2.0</td>\n",
       "      <td>2.0</td>\n",
       "      <td>2.0</td>\n",
       "      <td>1.0</td>\n",
       "      <td>1.0</td>\n",
       "      <td>2.0</td>\n",
       "      <td>4.0</td>\n",
       "      <td>8.0</td>\n",
       "      <td>2</td>\n",
       "      <td>2</td>\n",
       "    </tr>\n",
       "    <tr>\n",
       "      <th>16</th>\n",
       "      <td>31594</td>\n",
       "      <td>CA</td>\n",
       "      <td>5</td>\n",
       "      <td>0</td>\n",
       "      <td>0</td>\n",
       "      <td>NaN</td>\n",
       "      <td>64.0</td>\n",
       "      <td>7000.0</td>\n",
       "      <td>840.0</td>\n",
       "      <td>1.0</td>\n",
       "      <td>...</td>\n",
       "      <td>2.0</td>\n",
       "      <td>2.0</td>\n",
       "      <td>2.0</td>\n",
       "      <td>4.0</td>\n",
       "      <td>1.0</td>\n",
       "      <td>5.0</td>\n",
       "      <td>2.0</td>\n",
       "      <td>1.0</td>\n",
       "      <td>2</td>\n",
       "      <td>2</td>\n",
       "    </tr>\n",
       "    <tr>\n",
       "      <th>17</th>\n",
       "      <td>31595</td>\n",
       "      <td>CA</td>\n",
       "      <td>5</td>\n",
       "      <td>0</td>\n",
       "      <td>3</td>\n",
       "      <td>88.0</td>\n",
       "      <td>NaN</td>\n",
       "      <td>NaN</td>\n",
       "      <td>NaN</td>\n",
       "      <td>NaN</td>\n",
       "      <td>...</td>\n",
       "      <td>2.0</td>\n",
       "      <td>2.0</td>\n",
       "      <td>2.0</td>\n",
       "      <td>8.0</td>\n",
       "      <td>2.0</td>\n",
       "      <td>5.0</td>\n",
       "      <td>3.0</td>\n",
       "      <td>6.0</td>\n",
       "      <td>2</td>\n",
       "      <td>2</td>\n",
       "    </tr>\n",
       "    <tr>\n",
       "      <th>18</th>\n",
       "      <td>31596</td>\n",
       "      <td>CA</td>\n",
       "      <td>2</td>\n",
       "      <td>7</td>\n",
       "      <td>10</td>\n",
       "      <td>7.0</td>\n",
       "      <td>64.0</td>\n",
       "      <td>1000.0</td>\n",
       "      <td>45.0</td>\n",
       "      <td>1.0</td>\n",
       "      <td>...</td>\n",
       "      <td>1.0</td>\n",
       "      <td>2.0</td>\n",
       "      <td>2.0</td>\n",
       "      <td>4.0</td>\n",
       "      <td>1.0</td>\n",
       "      <td>5.0</td>\n",
       "      <td>4.0</td>\n",
       "      <td>3.0</td>\n",
       "      <td>2</td>\n",
       "      <td>2</td>\n",
       "    </tr>\n",
       "    <tr>\n",
       "      <th>19</th>\n",
       "      <td>31597</td>\n",
       "      <td>CA</td>\n",
       "      <td>1</td>\n",
       "      <td>30</td>\n",
       "      <td>5</td>\n",
       "      <td>30.0</td>\n",
       "      <td>NaN</td>\n",
       "      <td>NaN</td>\n",
       "      <td>NaN</td>\n",
       "      <td>NaN</td>\n",
       "      <td>...</td>\n",
       "      <td>1.0</td>\n",
       "      <td>2.0</td>\n",
       "      <td>1.0</td>\n",
       "      <td>3.0</td>\n",
       "      <td>1.0</td>\n",
       "      <td>2.0</td>\n",
       "      <td>4.0</td>\n",
       "      <td>4.0</td>\n",
       "      <td>2</td>\n",
       "      <td>2</td>\n",
       "    </tr>\n",
       "  </tbody>\n",
       "</table>\n",
       "<p>20 rows × 51 columns</p>\n",
       "</div>"
      ],
      "text/plain": [
       "       id _STATE  GENHLTH  PHYSHLTH  MENTHLTH POORHLTH EXRACT11 PAFREQ1_  \\\n",
       "0   31580     CA        3         0         0      NaN     64.0   7000.0   \n",
       "1   31581     CA        2         2         5     88.0     18.0    467.0   \n",
       "2   31582     CA        4         3        10     10.0     64.0   6000.0   \n",
       "3   31583     CA        3         0         5     88.0     64.0   5000.0   \n",
       "4   31584     CA        3         0        30     15.0     64.0   4000.0   \n",
       "5   31585     CA        3         0         0      NaN      5.0   1000.0   \n",
       "6   31586     CA        5         0         0      NaN     67.0   4000.0   \n",
       "7   31658     CA        3         2         0     99.0      NaN      NaN   \n",
       "8   31587     CA        2        20         5     88.0     64.0   3000.0   \n",
       "9   31588     CA        4         0        29      2.0     37.0   3000.0   \n",
       "10  31589     CA        3         1         1     88.0     64.0   2000.0   \n",
       "11  31590     CA        4         0         0      NaN      NaN      NaN   \n",
       "12  31591     CA        3         0         0      NaN     64.0   7000.0   \n",
       "13  31592     CA        3         0        21     14.0     67.0   4000.0   \n",
       "14  31593     CA        3         0         0      NaN      6.0   7000.0   \n",
       "15  31626     CA        3         0         0      NaN     67.0   3000.0   \n",
       "16  31594     CA        5         0         0      NaN     64.0   7000.0   \n",
       "17  31595     CA        5         0         3     88.0      NaN      NaN   \n",
       "18  31596     CA        2         7        10      7.0     64.0   1000.0   \n",
       "19  31597     CA        1        30         5     30.0      NaN      NaN   \n",
       "\n",
       "   _MINAC11 ACTIN12_  ... ADDEPEV3 CHCKDNY2 HAVARTH4 HLTHCVR1 HLTHPLN1  \\\n",
       "0    1260.0      1.0  ...      2.0      2.0      2.0      8.0      2.0   \n",
       "1      28.0      2.0  ...      2.0      2.0      2.0      4.0      1.0   \n",
       "2     210.0      1.0  ...      1.0      2.0      1.0      1.0      1.0   \n",
       "3     200.0      1.0  ...      2.0      2.0      2.0      1.0      1.0   \n",
       "4     120.0      1.0  ...      1.0      2.0      2.0      4.0      1.0   \n",
       "5      90.0      2.0  ...      2.0      2.0      2.0      2.0      2.0   \n",
       "6       0.0      0.0  ...      2.0      2.0      2.0      1.0      1.0   \n",
       "7       NaN      NaN  ...      2.0      2.0      2.0     99.0      1.0   \n",
       "8     270.0      1.0  ...      2.0      2.0      2.0      4.0      1.0   \n",
       "9      90.0      1.0  ...      1.0      2.0      2.0     77.0      1.0   \n",
       "10     60.0      1.0  ...      2.0      2.0      2.0      4.0      1.0   \n",
       "11      NaN      NaN  ...      2.0      2.0      2.0      4.0      1.0   \n",
       "12    140.0      1.0  ...      1.0      2.0      1.0      3.0      1.0   \n",
       "13      0.0      0.0  ...      2.0      2.0      2.0      4.0      1.0   \n",
       "14    210.0      2.0  ...      2.0      2.0      2.0      3.0      1.0   \n",
       "15      0.0      0.0  ...      2.0      2.0      2.0      1.0      1.0   \n",
       "16    840.0      1.0  ...      2.0      2.0      2.0      4.0      1.0   \n",
       "17      NaN      NaN  ...      2.0      2.0      2.0      8.0      2.0   \n",
       "18     45.0      1.0  ...      1.0      2.0      2.0      4.0      1.0   \n",
       "19      NaN      NaN  ...      1.0      2.0      1.0      3.0      1.0   \n",
       "\n",
       "   _IMPRACE _EDUCAG INCOME2 ANYCANCER ANYHEART  \n",
       "0       5.0     1.0     6.0         2        2  \n",
       "1       5.0     1.0     5.0         2        1  \n",
       "2       1.0     2.0     8.0         2        2  \n",
       "3       5.0     2.0     6.0         2        2  \n",
       "4       5.0     4.0     6.0         2        2  \n",
       "5       5.0     4.0     8.0         2        2  \n",
       "6       5.0     3.0     8.0         2        2  \n",
       "7       1.0     4.0    99.0         2        2  \n",
       "8       5.0     3.0     5.0         2        2  \n",
       "9       5.0     3.0     8.0         2        2  \n",
       "10      2.0     3.0     1.0         2        2  \n",
       "11      5.0     2.0    99.0         2        2  \n",
       "12      1.0     2.0     2.0         2        2  \n",
       "13      3.0     4.0    99.0         2        2  \n",
       "14      5.0     3.0     7.0         2        1  \n",
       "15      2.0     4.0     8.0         2        2  \n",
       "16      5.0     2.0     1.0         2        2  \n",
       "17      5.0     3.0     6.0         2        2  \n",
       "18      5.0     4.0     3.0         2        2  \n",
       "19      2.0     4.0     4.0         2        2  \n",
       "\n",
       "[20 rows x 51 columns]"
      ]
     },
     "execution_count": 100,
     "metadata": {},
     "output_type": "execute_result"
    }
   ],
   "source": [
    "recoded_health_behaviour_df.head(20)"
   ]
  },
  {
   "cell_type": "code",
   "execution_count": 101,
   "id": "c8e8b4d3",
   "metadata": {},
   "outputs": [
    {
     "data": {
      "text/plain": [
       "0       4.547849\n",
       "2       8.242517\n",
       "4       9.793075\n",
       "6       6.503871\n",
       "8       4.161808\n",
       "10      4.135464\n",
       "12       4.98396\n",
       "14      5.381526\n",
       "16      6.214227\n",
       "18      7.765139\n",
       "20       6.92839\n",
       "22      4.614058\n",
       "24      4.665259\n",
       "26      5.613014\n",
       "28      5.767559\n",
       "30      4.900561\n",
       "32      7.311776\n",
       "34      5.420318\n",
       "36      8.563649\n",
       "38      6.693804\n",
       "40      4.948076\n",
       "42      6.200463\n",
       "44      7.673373\n",
       "46      6.349848\n",
       "48      4.840941\n",
       "50      7.744505\n",
       "52      7.881722\n",
       "54      5.962966\n",
       "56      6.126996\n",
       "58      6.290214\n",
       "60      5.870972\n",
       "62      5.799458\n",
       "64      5.434974\n",
       "66      5.404893\n",
       "68      5.657016\n",
       "70      8.153889\n",
       "72      7.921635\n",
       "74      5.008161\n",
       "76      5.400878\n",
       "78      6.187836\n",
       "80      5.938448\n",
       "82      7.790934\n",
       "84      6.088487\n",
       "86      7.602138\n",
       "88      6.569027\n",
       "90      4.169611\n",
       "92      6.013316\n",
       "94      5.913229\n",
       "96      5.591223\n",
       "98      5.318017\n",
       "100    10.345545\n",
       "102     6.253586\n",
       "Name: ANYHEART, dtype: Float64"
      ]
     },
     "execution_count": 101,
     "metadata": {},
     "output_type": "execute_result"
    }
   ],
   "source": [
    "### % of state that has had a heart attack\n",
    "#TODO: group by state, find % of '1': yes\n",
    "state_ah_df = recoded_health_behaviour_df[['_STATE', 'ANYHEART']].dropna()\n",
    "state_ah_df.ANYHEART = pd.to_numeric(state_ah_df.ANYHEART).astype('Int32')\n",
    "\n",
    "state_ah = state_ah_df.groupby(['_STATE', 'ANYHEART' ], as_index=False).agg({'ANYHEART': 'sum'})\n",
    "ah_perc_df = state_ah.groupby('_STATE').apply(calc_perc)\n",
    "\n",
    "#add back in _STATE column for reference\n",
    "ah_perc_df['_STATE'] = state_ah['_STATE']\n",
    "\n",
    "ah_perc_df = ah_perc_df[np.arange(len(ah_perc_df)) % 2 == 0]\n",
    "ah_perc_df.head(20)\n",
    "ah_perc_df['ANYHEART']"
   ]
  },
  {
   "cell_type": "code",
   "execution_count": 102,
   "id": "41f80bbc",
   "metadata": {},
   "outputs": [
    {
     "data": {
      "text/html": [
       "<div>\n",
       "<style scoped>\n",
       "    .dataframe tbody tr th:only-of-type {\n",
       "        vertical-align: middle;\n",
       "    }\n",
       "\n",
       "    .dataframe tbody tr th {\n",
       "        vertical-align: top;\n",
       "    }\n",
       "\n",
       "    .dataframe thead th {\n",
       "        text-align: right;\n",
       "    }\n",
       "</style>\n",
       "<table border=\"1\" class=\"dataframe\">\n",
       "  <thead>\n",
       "    <tr style=\"text-align: right;\">\n",
       "      <th></th>\n",
       "      <th>_STATE</th>\n",
       "    </tr>\n",
       "  </thead>\n",
       "  <tbody>\n",
       "    <tr>\n",
       "      <th>0</th>\n",
       "      <td>AK</td>\n",
       "    </tr>\n",
       "    <tr>\n",
       "      <th>1</th>\n",
       "      <td>AL</td>\n",
       "    </tr>\n",
       "    <tr>\n",
       "      <th>2</th>\n",
       "      <td>AR</td>\n",
       "    </tr>\n",
       "    <tr>\n",
       "      <th>3</th>\n",
       "      <td>AZ</td>\n",
       "    </tr>\n",
       "    <tr>\n",
       "      <th>4</th>\n",
       "      <td>CA</td>\n",
       "    </tr>\n",
       "  </tbody>\n",
       "</table>\n",
       "</div>"
      ],
      "text/plain": [
       "  _STATE\n",
       "0     AK\n",
       "1     AL\n",
       "2     AR\n",
       "3     AZ\n",
       "4     CA"
      ]
     },
     "execution_count": 102,
     "metadata": {},
     "output_type": "execute_result"
    }
   ],
   "source": [
    "#get a base health outcome df with the states and index\n",
    "ho_df = state_veg_mean['_STATE'].reset_index() #BMI\n",
    "ho_df = ho_df.drop(['index'], axis =1)\n",
    "ho_df.head()"
   ]
  },
  {
   "cell_type": "code",
   "execution_count": 103,
   "id": "88d3cf35",
   "metadata": {},
   "outputs": [
    {
     "data": {
      "text/html": [
       "<div>\n",
       "<style scoped>\n",
       "    .dataframe tbody tr th:only-of-type {\n",
       "        vertical-align: middle;\n",
       "    }\n",
       "\n",
       "    .dataframe tbody tr th {\n",
       "        vertical-align: top;\n",
       "    }\n",
       "\n",
       "    .dataframe thead th {\n",
       "        text-align: right;\n",
       "    }\n",
       "</style>\n",
       "<table border=\"1\" class=\"dataframe\">\n",
       "  <thead>\n",
       "    <tr style=\"text-align: right;\">\n",
       "      <th></th>\n",
       "      <th>_STATE</th>\n",
       "      <th>MENTHLTH</th>\n",
       "      <th>PHYSHLTH</th>\n",
       "      <th>_RFBMI5</th>\n",
       "      <th>ASTHMA3</th>\n",
       "      <th>DIABETE4</th>\n",
       "      <th>ADDEPEV3</th>\n",
       "      <th>CHCKDNY2</th>\n",
       "      <th>HAVARTH4</th>\n",
       "      <th>ANYHEART</th>\n",
       "      <th>ANYCANCER</th>\n",
       "    </tr>\n",
       "  </thead>\n",
       "  <tbody>\n",
       "    <tr>\n",
       "      <th>0</th>\n",
       "      <td>AK</td>\n",
       "      <td>3.50342</td>\n",
       "      <td>4.10784</td>\n",
       "      <td>80.175631</td>\n",
       "      <td>7.422792</td>\n",
       "      <td>6.767187</td>\n",
       "      <td>9.22455</td>\n",
       "      <td>1.484895</td>\n",
       "      <td>17.875545</td>\n",
       "      <td>4.547849</td>\n",
       "      <td>6.836533</td>\n",
       "    </tr>\n",
       "    <tr>\n",
       "      <th>1</th>\n",
       "      <td>AL</td>\n",
       "      <td>4.745738</td>\n",
       "      <td>5.436203</td>\n",
       "      <td>83.073337</td>\n",
       "      <td>7.628866</td>\n",
       "      <td>11.320009</td>\n",
       "      <td>12.927025</td>\n",
       "      <td>2.219965</td>\n",
       "      <td>27.103815</td>\n",
       "      <td>8.242517</td>\n",
       "      <td>11.116363</td>\n",
       "    </tr>\n",
       "    <tr>\n",
       "      <th>2</th>\n",
       "      <td>AR</td>\n",
       "      <td>4.413209</td>\n",
       "      <td>6.019457</td>\n",
       "      <td>82.00887</td>\n",
       "      <td>7.260891</td>\n",
       "      <td>11.923921</td>\n",
       "      <td>12.531539</td>\n",
       "      <td>2.92083</td>\n",
       "      <td>26.872038</td>\n",
       "      <td>9.793075</td>\n",
       "      <td>12.32446</td>\n",
       "    </tr>\n",
       "    <tr>\n",
       "      <th>3</th>\n",
       "      <td>AZ</td>\n",
       "      <td>3.951758</td>\n",
       "      <td>4.907323</td>\n",
       "      <td>79.431266</td>\n",
       "      <td>8.194142</td>\n",
       "      <td>9.409244</td>\n",
       "      <td>9.27444</td>\n",
       "      <td>2.676623</td>\n",
       "      <td>20.25836</td>\n",
       "      <td>6.503871</td>\n",
       "      <td>12.479557</td>\n",
       "    </tr>\n",
       "    <tr>\n",
       "      <th>4</th>\n",
       "      <td>CA</td>\n",
       "      <td>3.752125</td>\n",
       "      <td>4.073792</td>\n",
       "      <td>78.144318</td>\n",
       "      <td>8.29059</td>\n",
       "      <td>8.808921</td>\n",
       "      <td>8.587465</td>\n",
       "      <td>1.78407</td>\n",
       "      <td>13.124817</td>\n",
       "      <td>4.161808</td>\n",
       "      <td>7.249723</td>\n",
       "    </tr>\n",
       "    <tr>\n",
       "      <th>5</th>\n",
       "      <td>CO</td>\n",
       "      <td>3.475978</td>\n",
       "      <td>3.798559</td>\n",
       "      <td>75.365871</td>\n",
       "      <td>7.72078</td>\n",
       "      <td>6.508808</td>\n",
       "      <td>8.932436</td>\n",
       "      <td>1.272154</td>\n",
       "      <td>17.383083</td>\n",
       "      <td>4.135464</td>\n",
       "      <td>10.077977</td>\n",
       "    </tr>\n",
       "    <tr>\n",
       "      <th>6</th>\n",
       "      <td>CT</td>\n",
       "      <td>3.331485</td>\n",
       "      <td>3.894954</td>\n",
       "      <td>79.457053</td>\n",
       "      <td>7.89086</td>\n",
       "      <td>7.850875</td>\n",
       "      <td>7.972853</td>\n",
       "      <td>1.693974</td>\n",
       "      <td>19.389552</td>\n",
       "      <td>4.98396</td>\n",
       "      <td>10.317843</td>\n",
       "    </tr>\n",
       "    <tr>\n",
       "      <th>7</th>\n",
       "      <td>DC</td>\n",
       "      <td>3.655564</td>\n",
       "      <td>3.871744</td>\n",
       "      <td>75.975897</td>\n",
       "      <td>8.860233</td>\n",
       "      <td>8.544173</td>\n",
       "      <td>10.21097</td>\n",
       "      <td>1.5719</td>\n",
       "      <td>16.053215</td>\n",
       "      <td>5.381526</td>\n",
       "      <td>7.828231</td>\n",
       "    </tr>\n",
       "    <tr>\n",
       "      <th>8</th>\n",
       "      <td>DE</td>\n",
       "      <td>3.954893</td>\n",
       "      <td>4.644203</td>\n",
       "      <td>82.825151</td>\n",
       "      <td>7.802988</td>\n",
       "      <td>9.705592</td>\n",
       "      <td>9.95341</td>\n",
       "      <td>2.554648</td>\n",
       "      <td>20.092521</td>\n",
       "      <td>6.214227</td>\n",
       "      <td>9.976012</td>\n",
       "    </tr>\n",
       "    <tr>\n",
       "      <th>9</th>\n",
       "      <td>FL</td>\n",
       "      <td>4.3676</td>\n",
       "      <td>5.393578</td>\n",
       "      <td>80.06358</td>\n",
       "      <td>7.079898</td>\n",
       "      <td>10.278184</td>\n",
       "      <td>10.288897</td>\n",
       "      <td>2.479289</td>\n",
       "      <td>20.899037</td>\n",
       "      <td>7.765139</td>\n",
       "      <td>12.954576</td>\n",
       "    </tr>\n",
       "    <tr>\n",
       "      <th>10</th>\n",
       "      <td>GA</td>\n",
       "      <td>4.573025</td>\n",
       "      <td>5.204793</td>\n",
       "      <td>80.956762</td>\n",
       "      <td>7.233484</td>\n",
       "      <td>10.602754</td>\n",
       "      <td>10.262566</td>\n",
       "      <td>2.595953</td>\n",
       "      <td>19.957572</td>\n",
       "      <td>6.92839</td>\n",
       "      <td>9.142179</td>\n",
       "    </tr>\n",
       "    <tr>\n",
       "      <th>11</th>\n",
       "      <td>GU</td>\n",
       "      <td>3.800753</td>\n",
       "      <td>3.959158</td>\n",
       "      <td>80.115881</td>\n",
       "      <td>5.685036</td>\n",
       "      <td>11.009384</td>\n",
       "      <td>5.938865</td>\n",
       "      <td>1.955014</td>\n",
       "      <td>11.514594</td>\n",
       "      <td>4.614058</td>\n",
       "      <td>3.41006</td>\n",
       "    </tr>\n",
       "    <tr>\n",
       "      <th>12</th>\n",
       "      <td>HI</td>\n",
       "      <td>3.452509</td>\n",
       "      <td>3.911406</td>\n",
       "      <td>73.157667</td>\n",
       "      <td>8.287526</td>\n",
       "      <td>9.088327</td>\n",
       "      <td>7.524323</td>\n",
       "      <td>1.700973</td>\n",
       "      <td>14.989149</td>\n",
       "      <td>4.665259</td>\n",
       "      <td>7.807787</td>\n",
       "    </tr>\n",
       "    <tr>\n",
       "      <th>13</th>\n",
       "      <td>IA</td>\n",
       "      <td>3.46346</td>\n",
       "      <td>3.64506</td>\n",
       "      <td>82.48751</td>\n",
       "      <td>5.896341</td>\n",
       "      <td>8.02316</td>\n",
       "      <td>8.271591</td>\n",
       "      <td>1.480944</td>\n",
       "      <td>18.799272</td>\n",
       "      <td>5.613014</td>\n",
       "      <td>9.019128</td>\n",
       "    </tr>\n",
       "    <tr>\n",
       "      <th>14</th>\n",
       "      <td>ID</td>\n",
       "      <td>3.946072</td>\n",
       "      <td>4.768451</td>\n",
       "      <td>79.200392</td>\n",
       "      <td>7.485265</td>\n",
       "      <td>8.496084</td>\n",
       "      <td>11.827297</td>\n",
       "      <td>1.88117</td>\n",
       "      <td>19.384414</td>\n",
       "      <td>5.767559</td>\n",
       "      <td>9.688408</td>\n",
       "    </tr>\n",
       "    <tr>\n",
       "      <th>15</th>\n",
       "      <td>IL</td>\n",
       "      <td>3.774565</td>\n",
       "      <td>3.947561</td>\n",
       "      <td>79.796108</td>\n",
       "      <td>7.049913</td>\n",
       "      <td>8.067836</td>\n",
       "      <td>9.892302</td>\n",
       "      <td>1.66928</td>\n",
       "      <td>16.953108</td>\n",
       "      <td>4.900561</td>\n",
       "      <td>7.279097</td>\n",
       "    </tr>\n",
       "    <tr>\n",
       "      <th>16</th>\n",
       "      <td>IN</td>\n",
       "      <td>4.048439</td>\n",
       "      <td>4.81494</td>\n",
       "      <td>82.457298</td>\n",
       "      <td>7.29764</td>\n",
       "      <td>10.269935</td>\n",
       "      <td>10.882188</td>\n",
       "      <td>2.461521</td>\n",
       "      <td>20.964118</td>\n",
       "      <td>7.311776</td>\n",
       "      <td>9.897442</td>\n",
       "    </tr>\n",
       "    <tr>\n",
       "      <th>17</th>\n",
       "      <td>KS</td>\n",
       "      <td>3.733202</td>\n",
       "      <td>3.961448</td>\n",
       "      <td>82.642649</td>\n",
       "      <td>7.295651</td>\n",
       "      <td>8.643274</td>\n",
       "      <td>9.994671</td>\n",
       "      <td>1.700833</td>\n",
       "      <td>18.774828</td>\n",
       "      <td>5.420318</td>\n",
       "      <td>9.465575</td>\n",
       "    </tr>\n",
       "    <tr>\n",
       "      <th>18</th>\n",
       "      <td>KY</td>\n",
       "      <td>4.607398</td>\n",
       "      <td>5.687064</td>\n",
       "      <td>84.992685</td>\n",
       "      <td>7.562572</td>\n",
       "      <td>11.28019</td>\n",
       "      <td>13.706743</td>\n",
       "      <td>2.619891</td>\n",
       "      <td>26.690505</td>\n",
       "      <td>8.563649</td>\n",
       "      <td>10.351508</td>\n",
       "    </tr>\n",
       "    <tr>\n",
       "      <th>19</th>\n",
       "      <td>LA</td>\n",
       "      <td>5.004562</td>\n",
       "      <td>5.000653</td>\n",
       "      <td>83.45987</td>\n",
       "      <td>8.00229</td>\n",
       "      <td>9.878844</td>\n",
       "      <td>13.378248</td>\n",
       "      <td>2.466051</td>\n",
       "      <td>19.427558</td>\n",
       "      <td>6.693804</td>\n",
       "      <td>8.235834</td>\n",
       "    </tr>\n",
       "  </tbody>\n",
       "</table>\n",
       "</div>"
      ],
      "text/plain": [
       "   _STATE  MENTHLTH  PHYSHLTH    _RFBMI5   ASTHMA3   DIABETE4   ADDEPEV3  \\\n",
       "0      AK   3.50342   4.10784  80.175631  7.422792   6.767187    9.22455   \n",
       "1      AL  4.745738  5.436203  83.073337  7.628866  11.320009  12.927025   \n",
       "2      AR  4.413209  6.019457   82.00887  7.260891  11.923921  12.531539   \n",
       "3      AZ  3.951758  4.907323  79.431266  8.194142   9.409244    9.27444   \n",
       "4      CA  3.752125  4.073792  78.144318   8.29059   8.808921   8.587465   \n",
       "5      CO  3.475978  3.798559  75.365871   7.72078   6.508808   8.932436   \n",
       "6      CT  3.331485  3.894954  79.457053   7.89086   7.850875   7.972853   \n",
       "7      DC  3.655564  3.871744  75.975897  8.860233   8.544173   10.21097   \n",
       "8      DE  3.954893  4.644203  82.825151  7.802988   9.705592    9.95341   \n",
       "9      FL    4.3676  5.393578   80.06358  7.079898  10.278184  10.288897   \n",
       "10     GA  4.573025  5.204793  80.956762  7.233484  10.602754  10.262566   \n",
       "11     GU  3.800753  3.959158  80.115881  5.685036  11.009384   5.938865   \n",
       "12     HI  3.452509  3.911406  73.157667  8.287526   9.088327   7.524323   \n",
       "13     IA   3.46346   3.64506   82.48751  5.896341    8.02316   8.271591   \n",
       "14     ID  3.946072  4.768451  79.200392  7.485265   8.496084  11.827297   \n",
       "15     IL  3.774565  3.947561  79.796108  7.049913   8.067836   9.892302   \n",
       "16     IN  4.048439   4.81494  82.457298   7.29764  10.269935  10.882188   \n",
       "17     KS  3.733202  3.961448  82.642649  7.295651   8.643274   9.994671   \n",
       "18     KY  4.607398  5.687064  84.992685  7.562572   11.28019  13.706743   \n",
       "19     LA  5.004562  5.000653   83.45987   8.00229   9.878844  13.378248   \n",
       "\n",
       "    CHCKDNY2   HAVARTH4  ANYHEART  ANYCANCER  \n",
       "0   1.484895  17.875545  4.547849   6.836533  \n",
       "1   2.219965  27.103815  8.242517  11.116363  \n",
       "2    2.92083  26.872038  9.793075   12.32446  \n",
       "3   2.676623   20.25836  6.503871  12.479557  \n",
       "4    1.78407  13.124817  4.161808   7.249723  \n",
       "5   1.272154  17.383083  4.135464  10.077977  \n",
       "6   1.693974  19.389552   4.98396  10.317843  \n",
       "7     1.5719  16.053215  5.381526   7.828231  \n",
       "8   2.554648  20.092521  6.214227   9.976012  \n",
       "9   2.479289  20.899037  7.765139  12.954576  \n",
       "10  2.595953  19.957572   6.92839   9.142179  \n",
       "11  1.955014  11.514594  4.614058    3.41006  \n",
       "12  1.700973  14.989149  4.665259   7.807787  \n",
       "13  1.480944  18.799272  5.613014   9.019128  \n",
       "14   1.88117  19.384414  5.767559   9.688408  \n",
       "15   1.66928  16.953108  4.900561   7.279097  \n",
       "16  2.461521  20.964118  7.311776   9.897442  \n",
       "17  1.700833  18.774828  5.420318   9.465575  \n",
       "18  2.619891  26.690505  8.563649  10.351508  \n",
       "19  2.466051  19.427558  6.693804   8.235834  "
      ]
     },
     "execution_count": 103,
     "metadata": {},
     "output_type": "execute_result"
    }
   ],
   "source": [
    "##Make health outcomes df with columns for each\n",
    "#Including, Reported Mental Health (PHYSHLTH), Self-reported Physical Health (PHYSHLTH), BMI(_RFBMI5), \n",
    "#Any heart disease (ANYHEART), asthma (ASTHMA3), \n",
    "#cancer (ANYCANCER), Diabetes(DIABETE4), Depressive Disorder (ADDEPEV3), kidney Disease (CHCKDNY2), \n",
    "#arthritis (HAVARTH4)\n",
    "\n",
    "ho_df['MENTHLTH'] = state_ment_mean['MENTHLTH'].values # Mental Health\n",
    "ho_df['PHYSHLTH'] = state_phys_mean['PHYSHLTH'].values # Physical Health\n",
    "ho_df['_RFBMI5'] = bmi_perc_df['_RFBMI5'].values # BMI\n",
    "#ho_df['CVDINFR4'] = ha_perc_df['CVDINFR4'].values # heart attack\n",
    "#ho_df['CVDCRHD4'] = hd_perc_df['CVDCRHD4'].values # coronary heart disease\n",
    "#ho_df['CVDSTRK3'] = st_perc_df['CVDSTRK3'].values # stroke\n",
    "ho_df['ASTHMA3'] = as_perc_df['ASTHMA3'].values # asthma\n",
    "#ho_df['CHCOCNCR'] = ca_perc_df['CHCOCNCR'].values # cancer (-skin)\n",
    "ho_df['DIABETE4'] = de_perc_df['DIABETE4'].values # Diabetes\n",
    "ho_df['ADDEPEV3'] = dep_perc_df['ADDEPEV3'].values # Depressive Disorder\n",
    "ho_df['CHCKDNY2'] = ki_perc_df['CHCKDNY2'].values # kidney Disease\n",
    "ho_df['HAVARTH4'] = ar_perc_df['HAVARTH4'].values # arthritis\n",
    "ho_df['ANYHEART'] = ah_perc_df['ANYHEART'].values # Any cardiovascular disease (heart attack, stroke or heart disease)\n",
    "ho_df['ANYCANCER'] = ac_perc_df['ANYCANCER'].values #Any type of cancer\n",
    "\n",
    "\n",
    "\n",
    "ho_df.head(20)"
   ]
  },
  {
   "cell_type": "code",
   "execution_count": 155,
   "id": "3e592a6d",
   "metadata": {},
   "outputs": [
    {
     "data": {
      "application/vnd.plotly.v1+json": {
       "config": {
        "plotlyServerURL": "https://plotly.com"
       },
       "data": [
        {
         "autocolorscale": false,
         "colorscale": [
          [
           0,
           "rgb(209, 238, 234)"
          ],
          [
           0.16666666666666666,
           "rgb(168, 219, 217)"
          ],
          [
           0.3333333333333333,
           "rgb(133, 196, 201)"
          ],
          [
           0.5,
           "rgb(104, 171, 184)"
          ],
          [
           0.6666666666666666,
           "rgb(79, 144, 166)"
          ],
          [
           0.8333333333333334,
           "rgb(59, 115, 143)"
          ],
          [
           1,
           "rgb(42, 86, 116)"
          ]
         ],
         "locationmode": "USA-states",
         "locations": [
          "AK",
          "AL",
          "AR",
          "AZ",
          "CA",
          "CO",
          "CT",
          "DC",
          "DE",
          "FL",
          "GA",
          "GU",
          "HI",
          "IA",
          "ID",
          "IL",
          "IN",
          "KS",
          "KY",
          "LA",
          "MA",
          "MD",
          "ME",
          "MI",
          "MN",
          "MO",
          "MS",
          "MT",
          "NC",
          "ND",
          "NE",
          "NH",
          "NM",
          "NV",
          "NY",
          "OH",
          "OK",
          "OR",
          "PA",
          "PR",
          "RI",
          "SC",
          "SD",
          "TN",
          "TX",
          "UT",
          "VA",
          "VT",
          "WA",
          "WI",
          "WV",
          "WY"
         ],
         "marker": {
          "line": {
           "color": "white"
          }
         },
         "text": [
          "AK",
          "AL",
          "AR",
          "AZ",
          "CA",
          "CO",
          "CT",
          "DC",
          "DE",
          "FL",
          "GA",
          "GU",
          "HI",
          "IA",
          "ID",
          "IL",
          "IN",
          "KS",
          "KY",
          "LA",
          "MA",
          "MD",
          "ME",
          "MI",
          "MN",
          "MO",
          "MS",
          "MT",
          "NC",
          "ND",
          "NE",
          "NH",
          "NM",
          "NV",
          "NY",
          "OH",
          "OK",
          "OR",
          "PA",
          "PR",
          "RI",
          "SC",
          "SD",
          "TN",
          "TX",
          "UT",
          "VA",
          "VT",
          "WA",
          "WI",
          "WV",
          "WY"
         ],
         "type": "choropleth",
         "z": [
          3.503419972640219,
          4.745738225946258,
          4.4132089836315185,
          3.9517578791671406,
          3.752124891587164,
          3.475977775356793,
          3.3314849728291005,
          3.655564263322884,
          3.954893168029544,
          4.367600472079011,
          4.57302544491837,
          3.800753453327752,
          3.452508843180925,
          3.4634601430496526,
          3.9460720283635005,
          3.7745654162854527,
          4.0484393063583815,
          3.7332017583206243,
          4.607397959183674,
          5.0045622420160765,
          3.736988478347239,
          3.4497027625597387,
          3.579211919935374,
          4.3587756683456025,
          3.4442904290429044,
          4.070862859524802,
          4.587965730225145,
          3.910625,
          3.9738965353583295,
          2.543942992874109,
          3.2154277342505893,
          3.642077922077922,
          4.150194948296321,
          4.24,
          3.7620421113354485,
          4.328142889855736,
          4.17456154728733,
          4.241609617632326,
          4.197141979102643,
          3.583305340947262,
          4.026964047936085,
          3.8475329890992542,
          2.967250922509225,
          4.8390748031496065,
          3.8735622603767292,
          3.9979313911394585,
          3.7162134322208487,
          3.5845425867507887,
          3.7487496092528914,
          3.5359116022099446,
          5.301679212507238,
          3.0434207626184704
         ]
        }
       ],
       "layout": {
        "font": {
         "color": "Black"
        },
        "geo": {
         "lakecolor": "rgb(255, 255, 255)",
         "projection": {
          "type": "albers usa"
         },
         "scope": "usa",
         "showlakes": true
        },
        "template": {
         "data": {
          "bar": [
           {
            "error_x": {
             "color": "#2a3f5f"
            },
            "error_y": {
             "color": "#2a3f5f"
            },
            "marker": {
             "line": {
              "color": "#E5ECF6",
              "width": 0.5
             },
             "pattern": {
              "fillmode": "overlay",
              "size": 10,
              "solidity": 0.2
             }
            },
            "type": "bar"
           }
          ],
          "barpolar": [
           {
            "marker": {
             "line": {
              "color": "#E5ECF6",
              "width": 0.5
             },
             "pattern": {
              "fillmode": "overlay",
              "size": 10,
              "solidity": 0.2
             }
            },
            "type": "barpolar"
           }
          ],
          "carpet": [
           {
            "aaxis": {
             "endlinecolor": "#2a3f5f",
             "gridcolor": "white",
             "linecolor": "white",
             "minorgridcolor": "white",
             "startlinecolor": "#2a3f5f"
            },
            "baxis": {
             "endlinecolor": "#2a3f5f",
             "gridcolor": "white",
             "linecolor": "white",
             "minorgridcolor": "white",
             "startlinecolor": "#2a3f5f"
            },
            "type": "carpet"
           }
          ],
          "choropleth": [
           {
            "colorbar": {
             "outlinewidth": 0,
             "ticks": ""
            },
            "type": "choropleth"
           }
          ],
          "contour": [
           {
            "colorbar": {
             "outlinewidth": 0,
             "ticks": ""
            },
            "colorscale": [
             [
              0,
              "#0d0887"
             ],
             [
              0.1111111111111111,
              "#46039f"
             ],
             [
              0.2222222222222222,
              "#7201a8"
             ],
             [
              0.3333333333333333,
              "#9c179e"
             ],
             [
              0.4444444444444444,
              "#bd3786"
             ],
             [
              0.5555555555555556,
              "#d8576b"
             ],
             [
              0.6666666666666666,
              "#ed7953"
             ],
             [
              0.7777777777777778,
              "#fb9f3a"
             ],
             [
              0.8888888888888888,
              "#fdca26"
             ],
             [
              1,
              "#f0f921"
             ]
            ],
            "type": "contour"
           }
          ],
          "contourcarpet": [
           {
            "colorbar": {
             "outlinewidth": 0,
             "ticks": ""
            },
            "type": "contourcarpet"
           }
          ],
          "heatmap": [
           {
            "colorbar": {
             "outlinewidth": 0,
             "ticks": ""
            },
            "colorscale": [
             [
              0,
              "#0d0887"
             ],
             [
              0.1111111111111111,
              "#46039f"
             ],
             [
              0.2222222222222222,
              "#7201a8"
             ],
             [
              0.3333333333333333,
              "#9c179e"
             ],
             [
              0.4444444444444444,
              "#bd3786"
             ],
             [
              0.5555555555555556,
              "#d8576b"
             ],
             [
              0.6666666666666666,
              "#ed7953"
             ],
             [
              0.7777777777777778,
              "#fb9f3a"
             ],
             [
              0.8888888888888888,
              "#fdca26"
             ],
             [
              1,
              "#f0f921"
             ]
            ],
            "type": "heatmap"
           }
          ],
          "heatmapgl": [
           {
            "colorbar": {
             "outlinewidth": 0,
             "ticks": ""
            },
            "colorscale": [
             [
              0,
              "#0d0887"
             ],
             [
              0.1111111111111111,
              "#46039f"
             ],
             [
              0.2222222222222222,
              "#7201a8"
             ],
             [
              0.3333333333333333,
              "#9c179e"
             ],
             [
              0.4444444444444444,
              "#bd3786"
             ],
             [
              0.5555555555555556,
              "#d8576b"
             ],
             [
              0.6666666666666666,
              "#ed7953"
             ],
             [
              0.7777777777777778,
              "#fb9f3a"
             ],
             [
              0.8888888888888888,
              "#fdca26"
             ],
             [
              1,
              "#f0f921"
             ]
            ],
            "type": "heatmapgl"
           }
          ],
          "histogram": [
           {
            "marker": {
             "pattern": {
              "fillmode": "overlay",
              "size": 10,
              "solidity": 0.2
             }
            },
            "type": "histogram"
           }
          ],
          "histogram2d": [
           {
            "colorbar": {
             "outlinewidth": 0,
             "ticks": ""
            },
            "colorscale": [
             [
              0,
              "#0d0887"
             ],
             [
              0.1111111111111111,
              "#46039f"
             ],
             [
              0.2222222222222222,
              "#7201a8"
             ],
             [
              0.3333333333333333,
              "#9c179e"
             ],
             [
              0.4444444444444444,
              "#bd3786"
             ],
             [
              0.5555555555555556,
              "#d8576b"
             ],
             [
              0.6666666666666666,
              "#ed7953"
             ],
             [
              0.7777777777777778,
              "#fb9f3a"
             ],
             [
              0.8888888888888888,
              "#fdca26"
             ],
             [
              1,
              "#f0f921"
             ]
            ],
            "type": "histogram2d"
           }
          ],
          "histogram2dcontour": [
           {
            "colorbar": {
             "outlinewidth": 0,
             "ticks": ""
            },
            "colorscale": [
             [
              0,
              "#0d0887"
             ],
             [
              0.1111111111111111,
              "#46039f"
             ],
             [
              0.2222222222222222,
              "#7201a8"
             ],
             [
              0.3333333333333333,
              "#9c179e"
             ],
             [
              0.4444444444444444,
              "#bd3786"
             ],
             [
              0.5555555555555556,
              "#d8576b"
             ],
             [
              0.6666666666666666,
              "#ed7953"
             ],
             [
              0.7777777777777778,
              "#fb9f3a"
             ],
             [
              0.8888888888888888,
              "#fdca26"
             ],
             [
              1,
              "#f0f921"
             ]
            ],
            "type": "histogram2dcontour"
           }
          ],
          "mesh3d": [
           {
            "colorbar": {
             "outlinewidth": 0,
             "ticks": ""
            },
            "type": "mesh3d"
           }
          ],
          "parcoords": [
           {
            "line": {
             "colorbar": {
              "outlinewidth": 0,
              "ticks": ""
             }
            },
            "type": "parcoords"
           }
          ],
          "pie": [
           {
            "automargin": true,
            "type": "pie"
           }
          ],
          "scatter": [
           {
            "marker": {
             "colorbar": {
              "outlinewidth": 0,
              "ticks": ""
             }
            },
            "type": "scatter"
           }
          ],
          "scatter3d": [
           {
            "line": {
             "colorbar": {
              "outlinewidth": 0,
              "ticks": ""
             }
            },
            "marker": {
             "colorbar": {
              "outlinewidth": 0,
              "ticks": ""
             }
            },
            "type": "scatter3d"
           }
          ],
          "scattercarpet": [
           {
            "marker": {
             "colorbar": {
              "outlinewidth": 0,
              "ticks": ""
             }
            },
            "type": "scattercarpet"
           }
          ],
          "scattergeo": [
           {
            "marker": {
             "colorbar": {
              "outlinewidth": 0,
              "ticks": ""
             }
            },
            "type": "scattergeo"
           }
          ],
          "scattergl": [
           {
            "marker": {
             "colorbar": {
              "outlinewidth": 0,
              "ticks": ""
             }
            },
            "type": "scattergl"
           }
          ],
          "scattermapbox": [
           {
            "marker": {
             "colorbar": {
              "outlinewidth": 0,
              "ticks": ""
             }
            },
            "type": "scattermapbox"
           }
          ],
          "scatterpolar": [
           {
            "marker": {
             "colorbar": {
              "outlinewidth": 0,
              "ticks": ""
             }
            },
            "type": "scatterpolar"
           }
          ],
          "scatterpolargl": [
           {
            "marker": {
             "colorbar": {
              "outlinewidth": 0,
              "ticks": ""
             }
            },
            "type": "scatterpolargl"
           }
          ],
          "scatterternary": [
           {
            "marker": {
             "colorbar": {
              "outlinewidth": 0,
              "ticks": ""
             }
            },
            "type": "scatterternary"
           }
          ],
          "surface": [
           {
            "colorbar": {
             "outlinewidth": 0,
             "ticks": ""
            },
            "colorscale": [
             [
              0,
              "#0d0887"
             ],
             [
              0.1111111111111111,
              "#46039f"
             ],
             [
              0.2222222222222222,
              "#7201a8"
             ],
             [
              0.3333333333333333,
              "#9c179e"
             ],
             [
              0.4444444444444444,
              "#bd3786"
             ],
             [
              0.5555555555555556,
              "#d8576b"
             ],
             [
              0.6666666666666666,
              "#ed7953"
             ],
             [
              0.7777777777777778,
              "#fb9f3a"
             ],
             [
              0.8888888888888888,
              "#fdca26"
             ],
             [
              1,
              "#f0f921"
             ]
            ],
            "type": "surface"
           }
          ],
          "table": [
           {
            "cells": {
             "fill": {
              "color": "#EBF0F8"
             },
             "line": {
              "color": "white"
             }
            },
            "header": {
             "fill": {
              "color": "#C8D4E3"
             },
             "line": {
              "color": "white"
             }
            },
            "type": "table"
           }
          ]
         },
         "layout": {
          "annotationdefaults": {
           "arrowcolor": "#2a3f5f",
           "arrowhead": 0,
           "arrowwidth": 1
          },
          "autotypenumbers": "strict",
          "coloraxis": {
           "colorbar": {
            "outlinewidth": 0,
            "ticks": ""
           }
          },
          "colorscale": {
           "diverging": [
            [
             0,
             "#8e0152"
            ],
            [
             0.1,
             "#c51b7d"
            ],
            [
             0.2,
             "#de77ae"
            ],
            [
             0.3,
             "#f1b6da"
            ],
            [
             0.4,
             "#fde0ef"
            ],
            [
             0.5,
             "#f7f7f7"
            ],
            [
             0.6,
             "#e6f5d0"
            ],
            [
             0.7,
             "#b8e186"
            ],
            [
             0.8,
             "#7fbc41"
            ],
            [
             0.9,
             "#4d9221"
            ],
            [
             1,
             "#276419"
            ]
           ],
           "sequential": [
            [
             0,
             "#0d0887"
            ],
            [
             0.1111111111111111,
             "#46039f"
            ],
            [
             0.2222222222222222,
             "#7201a8"
            ],
            [
             0.3333333333333333,
             "#9c179e"
            ],
            [
             0.4444444444444444,
             "#bd3786"
            ],
            [
             0.5555555555555556,
             "#d8576b"
            ],
            [
             0.6666666666666666,
             "#ed7953"
            ],
            [
             0.7777777777777778,
             "#fb9f3a"
            ],
            [
             0.8888888888888888,
             "#fdca26"
            ],
            [
             1,
             "#f0f921"
            ]
           ],
           "sequentialminus": [
            [
             0,
             "#0d0887"
            ],
            [
             0.1111111111111111,
             "#46039f"
            ],
            [
             0.2222222222222222,
             "#7201a8"
            ],
            [
             0.3333333333333333,
             "#9c179e"
            ],
            [
             0.4444444444444444,
             "#bd3786"
            ],
            [
             0.5555555555555556,
             "#d8576b"
            ],
            [
             0.6666666666666666,
             "#ed7953"
            ],
            [
             0.7777777777777778,
             "#fb9f3a"
            ],
            [
             0.8888888888888888,
             "#fdca26"
            ],
            [
             1,
             "#f0f921"
            ]
           ]
          },
          "colorway": [
           "#636efa",
           "#EF553B",
           "#00cc96",
           "#ab63fa",
           "#FFA15A",
           "#19d3f3",
           "#FF6692",
           "#B6E880",
           "#FF97FF",
           "#FECB52"
          ],
          "font": {
           "color": "#2a3f5f"
          },
          "geo": {
           "bgcolor": "white",
           "lakecolor": "white",
           "landcolor": "#E5ECF6",
           "showlakes": true,
           "showland": true,
           "subunitcolor": "white"
          },
          "hoverlabel": {
           "align": "left"
          },
          "hovermode": "closest",
          "mapbox": {
           "style": "light"
          },
          "paper_bgcolor": "white",
          "plot_bgcolor": "#E5ECF6",
          "polar": {
           "angularaxis": {
            "gridcolor": "white",
            "linecolor": "white",
            "ticks": ""
           },
           "bgcolor": "#E5ECF6",
           "radialaxis": {
            "gridcolor": "white",
            "linecolor": "white",
            "ticks": ""
           }
          },
          "scene": {
           "xaxis": {
            "backgroundcolor": "#E5ECF6",
            "gridcolor": "white",
            "gridwidth": 2,
            "linecolor": "white",
            "showbackground": true,
            "ticks": "",
            "zerolinecolor": "white"
           },
           "yaxis": {
            "backgroundcolor": "#E5ECF6",
            "gridcolor": "white",
            "gridwidth": 2,
            "linecolor": "white",
            "showbackground": true,
            "ticks": "",
            "zerolinecolor": "white"
           },
           "zaxis": {
            "backgroundcolor": "#E5ECF6",
            "gridcolor": "white",
            "gridwidth": 2,
            "linecolor": "white",
            "showbackground": true,
            "ticks": "",
            "zerolinecolor": "white"
           }
          },
          "shapedefaults": {
           "line": {
            "color": "#2a3f5f"
           }
          },
          "ternary": {
           "aaxis": {
            "gridcolor": "white",
            "linecolor": "white",
            "ticks": ""
           },
           "baxis": {
            "gridcolor": "white",
            "linecolor": "white",
            "ticks": ""
           },
           "bgcolor": "#E5ECF6",
           "caxis": {
            "gridcolor": "white",
            "linecolor": "white",
            "ticks": ""
           }
          },
          "title": {
           "x": 0.05
          },
          "xaxis": {
           "automargin": true,
           "gridcolor": "white",
           "linecolor": "white",
           "ticks": "",
           "title": {
            "standoff": 15
           },
           "zerolinecolor": "white",
           "zerolinewidth": 2
          },
          "yaxis": {
           "automargin": true,
           "gridcolor": "white",
           "linecolor": "white",
           "ticks": "",
           "title": {
            "standoff": 15
           },
           "zerolinecolor": "white",
           "zerolinewidth": 2
          }
         }
        },
        "title": {
         "font": {
          "size": 20
         },
         "text": "Average Number of Bad Mental Health Days per Month",
         "x": 0.5,
         "xanchor": "center",
         "y": 0.9,
         "yanchor": "top"
        }
       }
      },
      "text/html": [
       "<div>                            <div id=\"34a7e99d-c1ff-4afe-b12f-f531abc36c34\" class=\"plotly-graph-div\" style=\"height:525px; width:100%;\"></div>            <script type=\"text/javascript\">                require([\"plotly\"], function(Plotly) {                    window.PLOTLYENV=window.PLOTLYENV || {};                                    if (document.getElementById(\"34a7e99d-c1ff-4afe-b12f-f531abc36c34\")) {                    Plotly.newPlot(                        \"34a7e99d-c1ff-4afe-b12f-f531abc36c34\",                        [{\"autocolorscale\":false,\"colorscale\":[[0.0,\"rgb(209, 238, 234)\"],[0.16666666666666666,\"rgb(168, 219, 217)\"],[0.3333333333333333,\"rgb(133, 196, 201)\"],[0.5,\"rgb(104, 171, 184)\"],[0.6666666666666666,\"rgb(79, 144, 166)\"],[0.8333333333333334,\"rgb(59, 115, 143)\"],[1.0,\"rgb(42, 86, 116)\"]],\"locationmode\":\"USA-states\",\"locations\":[\"AK\",\"AL\",\"AR\",\"AZ\",\"CA\",\"CO\",\"CT\",\"DC\",\"DE\",\"FL\",\"GA\",\"GU\",\"HI\",\"IA\",\"ID\",\"IL\",\"IN\",\"KS\",\"KY\",\"LA\",\"MA\",\"MD\",\"ME\",\"MI\",\"MN\",\"MO\",\"MS\",\"MT\",\"NC\",\"ND\",\"NE\",\"NH\",\"NM\",\"NV\",\"NY\",\"OH\",\"OK\",\"OR\",\"PA\",\"PR\",\"RI\",\"SC\",\"SD\",\"TN\",\"TX\",\"UT\",\"VA\",\"VT\",\"WA\",\"WI\",\"WV\",\"WY\"],\"marker\":{\"line\":{\"color\":\"white\"}},\"text\":[\"AK\",\"AL\",\"AR\",\"AZ\",\"CA\",\"CO\",\"CT\",\"DC\",\"DE\",\"FL\",\"GA\",\"GU\",\"HI\",\"IA\",\"ID\",\"IL\",\"IN\",\"KS\",\"KY\",\"LA\",\"MA\",\"MD\",\"ME\",\"MI\",\"MN\",\"MO\",\"MS\",\"MT\",\"NC\",\"ND\",\"NE\",\"NH\",\"NM\",\"NV\",\"NY\",\"OH\",\"OK\",\"OR\",\"PA\",\"PR\",\"RI\",\"SC\",\"SD\",\"TN\",\"TX\",\"UT\",\"VA\",\"VT\",\"WA\",\"WI\",\"WV\",\"WY\"],\"type\":\"choropleth\",\"z\":[3.503419972640219,4.745738225946258,4.4132089836315185,3.9517578791671406,3.752124891587164,3.475977775356793,3.3314849728291005,3.655564263322884,3.954893168029544,4.367600472079011,4.57302544491837,3.800753453327752,3.452508843180925,3.4634601430496526,3.9460720283635005,3.7745654162854527,4.0484393063583815,3.7332017583206243,4.607397959183674,5.0045622420160765,3.736988478347239,3.4497027625597387,3.579211919935374,4.3587756683456025,3.4442904290429044,4.070862859524802,4.587965730225145,3.910625,3.9738965353583295,2.543942992874109,3.2154277342505893,3.642077922077922,4.150194948296321,4.24,3.7620421113354485,4.328142889855736,4.17456154728733,4.241609617632326,4.197141979102643,3.583305340947262,4.026964047936085,3.8475329890992542,2.967250922509225,4.8390748031496065,3.8735622603767292,3.9979313911394585,3.7162134322208487,3.5845425867507887,3.7487496092528914,3.5359116022099446,5.301679212507238,3.0434207626184704]}],                        {\"font\":{\"color\":\"Black\"},\"geo\":{\"lakecolor\":\"rgb(255, 255, 255)\",\"projection\":{\"type\":\"albers usa\"},\"scope\":\"usa\",\"showlakes\":true},\"template\":{\"data\":{\"bar\":[{\"error_x\":{\"color\":\"#2a3f5f\"},\"error_y\":{\"color\":\"#2a3f5f\"},\"marker\":{\"line\":{\"color\":\"#E5ECF6\",\"width\":0.5},\"pattern\":{\"fillmode\":\"overlay\",\"size\":10,\"solidity\":0.2}},\"type\":\"bar\"}],\"barpolar\":[{\"marker\":{\"line\":{\"color\":\"#E5ECF6\",\"width\":0.5},\"pattern\":{\"fillmode\":\"overlay\",\"size\":10,\"solidity\":0.2}},\"type\":\"barpolar\"}],\"carpet\":[{\"aaxis\":{\"endlinecolor\":\"#2a3f5f\",\"gridcolor\":\"white\",\"linecolor\":\"white\",\"minorgridcolor\":\"white\",\"startlinecolor\":\"#2a3f5f\"},\"baxis\":{\"endlinecolor\":\"#2a3f5f\",\"gridcolor\":\"white\",\"linecolor\":\"white\",\"minorgridcolor\":\"white\",\"startlinecolor\":\"#2a3f5f\"},\"type\":\"carpet\"}],\"choropleth\":[{\"colorbar\":{\"outlinewidth\":0,\"ticks\":\"\"},\"type\":\"choropleth\"}],\"contour\":[{\"colorbar\":{\"outlinewidth\":0,\"ticks\":\"\"},\"colorscale\":[[0.0,\"#0d0887\"],[0.1111111111111111,\"#46039f\"],[0.2222222222222222,\"#7201a8\"],[0.3333333333333333,\"#9c179e\"],[0.4444444444444444,\"#bd3786\"],[0.5555555555555556,\"#d8576b\"],[0.6666666666666666,\"#ed7953\"],[0.7777777777777778,\"#fb9f3a\"],[0.8888888888888888,\"#fdca26\"],[1.0,\"#f0f921\"]],\"type\":\"contour\"}],\"contourcarpet\":[{\"colorbar\":{\"outlinewidth\":0,\"ticks\":\"\"},\"type\":\"contourcarpet\"}],\"heatmap\":[{\"colorbar\":{\"outlinewidth\":0,\"ticks\":\"\"},\"colorscale\":[[0.0,\"#0d0887\"],[0.1111111111111111,\"#46039f\"],[0.2222222222222222,\"#7201a8\"],[0.3333333333333333,\"#9c179e\"],[0.4444444444444444,\"#bd3786\"],[0.5555555555555556,\"#d8576b\"],[0.6666666666666666,\"#ed7953\"],[0.7777777777777778,\"#fb9f3a\"],[0.8888888888888888,\"#fdca26\"],[1.0,\"#f0f921\"]],\"type\":\"heatmap\"}],\"heatmapgl\":[{\"colorbar\":{\"outlinewidth\":0,\"ticks\":\"\"},\"colorscale\":[[0.0,\"#0d0887\"],[0.1111111111111111,\"#46039f\"],[0.2222222222222222,\"#7201a8\"],[0.3333333333333333,\"#9c179e\"],[0.4444444444444444,\"#bd3786\"],[0.5555555555555556,\"#d8576b\"],[0.6666666666666666,\"#ed7953\"],[0.7777777777777778,\"#fb9f3a\"],[0.8888888888888888,\"#fdca26\"],[1.0,\"#f0f921\"]],\"type\":\"heatmapgl\"}],\"histogram\":[{\"marker\":{\"pattern\":{\"fillmode\":\"overlay\",\"size\":10,\"solidity\":0.2}},\"type\":\"histogram\"}],\"histogram2d\":[{\"colorbar\":{\"outlinewidth\":0,\"ticks\":\"\"},\"colorscale\":[[0.0,\"#0d0887\"],[0.1111111111111111,\"#46039f\"],[0.2222222222222222,\"#7201a8\"],[0.3333333333333333,\"#9c179e\"],[0.4444444444444444,\"#bd3786\"],[0.5555555555555556,\"#d8576b\"],[0.6666666666666666,\"#ed7953\"],[0.7777777777777778,\"#fb9f3a\"],[0.8888888888888888,\"#fdca26\"],[1.0,\"#f0f921\"]],\"type\":\"histogram2d\"}],\"histogram2dcontour\":[{\"colorbar\":{\"outlinewidth\":0,\"ticks\":\"\"},\"colorscale\":[[0.0,\"#0d0887\"],[0.1111111111111111,\"#46039f\"],[0.2222222222222222,\"#7201a8\"],[0.3333333333333333,\"#9c179e\"],[0.4444444444444444,\"#bd3786\"],[0.5555555555555556,\"#d8576b\"],[0.6666666666666666,\"#ed7953\"],[0.7777777777777778,\"#fb9f3a\"],[0.8888888888888888,\"#fdca26\"],[1.0,\"#f0f921\"]],\"type\":\"histogram2dcontour\"}],\"mesh3d\":[{\"colorbar\":{\"outlinewidth\":0,\"ticks\":\"\"},\"type\":\"mesh3d\"}],\"parcoords\":[{\"line\":{\"colorbar\":{\"outlinewidth\":0,\"ticks\":\"\"}},\"type\":\"parcoords\"}],\"pie\":[{\"automargin\":true,\"type\":\"pie\"}],\"scatter\":[{\"marker\":{\"colorbar\":{\"outlinewidth\":0,\"ticks\":\"\"}},\"type\":\"scatter\"}],\"scatter3d\":[{\"line\":{\"colorbar\":{\"outlinewidth\":0,\"ticks\":\"\"}},\"marker\":{\"colorbar\":{\"outlinewidth\":0,\"ticks\":\"\"}},\"type\":\"scatter3d\"}],\"scattercarpet\":[{\"marker\":{\"colorbar\":{\"outlinewidth\":0,\"ticks\":\"\"}},\"type\":\"scattercarpet\"}],\"scattergeo\":[{\"marker\":{\"colorbar\":{\"outlinewidth\":0,\"ticks\":\"\"}},\"type\":\"scattergeo\"}],\"scattergl\":[{\"marker\":{\"colorbar\":{\"outlinewidth\":0,\"ticks\":\"\"}},\"type\":\"scattergl\"}],\"scattermapbox\":[{\"marker\":{\"colorbar\":{\"outlinewidth\":0,\"ticks\":\"\"}},\"type\":\"scattermapbox\"}],\"scatterpolar\":[{\"marker\":{\"colorbar\":{\"outlinewidth\":0,\"ticks\":\"\"}},\"type\":\"scatterpolar\"}],\"scatterpolargl\":[{\"marker\":{\"colorbar\":{\"outlinewidth\":0,\"ticks\":\"\"}},\"type\":\"scatterpolargl\"}],\"scatterternary\":[{\"marker\":{\"colorbar\":{\"outlinewidth\":0,\"ticks\":\"\"}},\"type\":\"scatterternary\"}],\"surface\":[{\"colorbar\":{\"outlinewidth\":0,\"ticks\":\"\"},\"colorscale\":[[0.0,\"#0d0887\"],[0.1111111111111111,\"#46039f\"],[0.2222222222222222,\"#7201a8\"],[0.3333333333333333,\"#9c179e\"],[0.4444444444444444,\"#bd3786\"],[0.5555555555555556,\"#d8576b\"],[0.6666666666666666,\"#ed7953\"],[0.7777777777777778,\"#fb9f3a\"],[0.8888888888888888,\"#fdca26\"],[1.0,\"#f0f921\"]],\"type\":\"surface\"}],\"table\":[{\"cells\":{\"fill\":{\"color\":\"#EBF0F8\"},\"line\":{\"color\":\"white\"}},\"header\":{\"fill\":{\"color\":\"#C8D4E3\"},\"line\":{\"color\":\"white\"}},\"type\":\"table\"}]},\"layout\":{\"annotationdefaults\":{\"arrowcolor\":\"#2a3f5f\",\"arrowhead\":0,\"arrowwidth\":1},\"autotypenumbers\":\"strict\",\"coloraxis\":{\"colorbar\":{\"outlinewidth\":0,\"ticks\":\"\"}},\"colorscale\":{\"diverging\":[[0,\"#8e0152\"],[0.1,\"#c51b7d\"],[0.2,\"#de77ae\"],[0.3,\"#f1b6da\"],[0.4,\"#fde0ef\"],[0.5,\"#f7f7f7\"],[0.6,\"#e6f5d0\"],[0.7,\"#b8e186\"],[0.8,\"#7fbc41\"],[0.9,\"#4d9221\"],[1,\"#276419\"]],\"sequential\":[[0.0,\"#0d0887\"],[0.1111111111111111,\"#46039f\"],[0.2222222222222222,\"#7201a8\"],[0.3333333333333333,\"#9c179e\"],[0.4444444444444444,\"#bd3786\"],[0.5555555555555556,\"#d8576b\"],[0.6666666666666666,\"#ed7953\"],[0.7777777777777778,\"#fb9f3a\"],[0.8888888888888888,\"#fdca26\"],[1.0,\"#f0f921\"]],\"sequentialminus\":[[0.0,\"#0d0887\"],[0.1111111111111111,\"#46039f\"],[0.2222222222222222,\"#7201a8\"],[0.3333333333333333,\"#9c179e\"],[0.4444444444444444,\"#bd3786\"],[0.5555555555555556,\"#d8576b\"],[0.6666666666666666,\"#ed7953\"],[0.7777777777777778,\"#fb9f3a\"],[0.8888888888888888,\"#fdca26\"],[1.0,\"#f0f921\"]]},\"colorway\":[\"#636efa\",\"#EF553B\",\"#00cc96\",\"#ab63fa\",\"#FFA15A\",\"#19d3f3\",\"#FF6692\",\"#B6E880\",\"#FF97FF\",\"#FECB52\"],\"font\":{\"color\":\"#2a3f5f\"},\"geo\":{\"bgcolor\":\"white\",\"lakecolor\":\"white\",\"landcolor\":\"#E5ECF6\",\"showlakes\":true,\"showland\":true,\"subunitcolor\":\"white\"},\"hoverlabel\":{\"align\":\"left\"},\"hovermode\":\"closest\",\"mapbox\":{\"style\":\"light\"},\"paper_bgcolor\":\"white\",\"plot_bgcolor\":\"#E5ECF6\",\"polar\":{\"angularaxis\":{\"gridcolor\":\"white\",\"linecolor\":\"white\",\"ticks\":\"\"},\"bgcolor\":\"#E5ECF6\",\"radialaxis\":{\"gridcolor\":\"white\",\"linecolor\":\"white\",\"ticks\":\"\"}},\"scene\":{\"xaxis\":{\"backgroundcolor\":\"#E5ECF6\",\"gridcolor\":\"white\",\"gridwidth\":2,\"linecolor\":\"white\",\"showbackground\":true,\"ticks\":\"\",\"zerolinecolor\":\"white\"},\"yaxis\":{\"backgroundcolor\":\"#E5ECF6\",\"gridcolor\":\"white\",\"gridwidth\":2,\"linecolor\":\"white\",\"showbackground\":true,\"ticks\":\"\",\"zerolinecolor\":\"white\"},\"zaxis\":{\"backgroundcolor\":\"#E5ECF6\",\"gridcolor\":\"white\",\"gridwidth\":2,\"linecolor\":\"white\",\"showbackground\":true,\"ticks\":\"\",\"zerolinecolor\":\"white\"}},\"shapedefaults\":{\"line\":{\"color\":\"#2a3f5f\"}},\"ternary\":{\"aaxis\":{\"gridcolor\":\"white\",\"linecolor\":\"white\",\"ticks\":\"\"},\"baxis\":{\"gridcolor\":\"white\",\"linecolor\":\"white\",\"ticks\":\"\"},\"bgcolor\":\"#E5ECF6\",\"caxis\":{\"gridcolor\":\"white\",\"linecolor\":\"white\",\"ticks\":\"\"}},\"title\":{\"x\":0.05},\"xaxis\":{\"automargin\":true,\"gridcolor\":\"white\",\"linecolor\":\"white\",\"ticks\":\"\",\"title\":{\"standoff\":15},\"zerolinecolor\":\"white\",\"zerolinewidth\":2},\"yaxis\":{\"automargin\":true,\"gridcolor\":\"white\",\"linecolor\":\"white\",\"ticks\":\"\",\"title\":{\"standoff\":15},\"zerolinecolor\":\"white\",\"zerolinewidth\":2}}},\"title\":{\"font\":{\"size\":20},\"text\":\"Average Number of Bad Mental Health Days per Month\",\"x\":0.5,\"xanchor\":\"center\",\"y\":0.9,\"yanchor\":\"top\"}},                        {\"responsive\": true}                    ).then(function(){\n",
       "                            \n",
       "var gd = document.getElementById('34a7e99d-c1ff-4afe-b12f-f531abc36c34');\n",
       "var x = new MutationObserver(function (mutations, observer) {{\n",
       "        var display = window.getComputedStyle(gd).display;\n",
       "        if (!display || display === 'none') {{\n",
       "            console.log([gd, 'removed!']);\n",
       "            Plotly.purge(gd);\n",
       "            observer.disconnect();\n",
       "        }}\n",
       "}});\n",
       "\n",
       "// Listen for the removal of the full notebook cells\n",
       "var notebookContainer = gd.closest('#notebook-container');\n",
       "if (notebookContainer) {{\n",
       "    x.observe(notebookContainer, {childList: true});\n",
       "}}\n",
       "\n",
       "// Listen for the clearing of the current output cell\n",
       "var outputEl = gd.closest('.output');\n",
       "if (outputEl) {{\n",
       "    x.observe(outputEl, {childList: true});\n",
       "}}\n",
       "\n",
       "                        })                };                });            </script>        </div>"
      ]
     },
     "metadata": {},
     "output_type": "display_data"
    }
   ],
   "source": [
    "\n",
    "outcome_fig = go.Figure(data=go.Choropleth(\n",
    "    locations=ho_df['_STATE'],\n",
    "    z=ho_df['MENTHLTH'].astype(float),\n",
    "    locationmode='USA-states',\n",
    "    colorscale='Teal',\n",
    "    autocolorscale=False,\n",
    "    text=state_fruit_mean['_STATE'], # hover text\n",
    "    marker_line_color='white', # line markers between states\n",
    "    #colorbar_title=\"Poor Mental Health Days\"\n",
    "))\n",
    "\n",
    "outcome_fig.update_layout(\n",
    "    #font_family=\"Bookman Antiqua\",\n",
    "    font_color=\"Black\",\n",
    "    title= {'text':'Average Number of Bad Mental Health Days per Month',\n",
    "            'font_size':20,\n",
    "           'y':0.9,\n",
    "            'x':0.5,\n",
    "            'xanchor': 'center',\n",
    "            'yanchor': 'top'},\n",
    "    geo = dict(\n",
    "        scope='usa',\n",
    "        projection=go.layout.geo.Projection(type = 'albers usa'),\n",
    "        showlakes=True, # lakes\n",
    "        lakecolor='rgb(255, 255, 255)'),\n",
    ")\n"
   ]
  },
  {
   "cell_type": "code",
   "execution_count": 156,
   "id": "419bf2cd",
   "metadata": {},
   "outputs": [],
   "source": [
    "##HEALTH OUTCOME DROP DOWN CHOROPLETH\n",
    "#Including, Reported Mental Health (PHYSHLTH), Self-reported Physical Health (PHYSHLTH), BMI(_RFBMI5), \n",
    "#Any heart disease (ANYHEART), asthma (ASTHMA3), \n",
    "#cancer (ANYCANCER), Diabetes(DIABETE4), Depressive Disorder (ADDEPEV3), kidney Disease (CHCKDNY2), \n",
    "#arthritis (HAVARTH4)\n",
    "\n",
    "button1 = dict(method= 'update',\n",
    "               label='Mental Health',\n",
    "               args=[\n",
    "                    {\"locations\":[ho_df['_STATE']],\n",
    "                     \"z\": [ho_df['MENTHLTH']],\n",
    "                    \"text\":[ho_df['_STATE']], # hover text\n",
    "                    \"marker_line_color\":['white'], # line markers between states\n",
    "                    #\"colorbar_title\": [\"Bad Mental Health Days\"]\n",
    "                                    }, {'title.text' : 'Days of Reported Bad Mental Health per Month on Average',\n",
    "                                       'coloraxis_colorbar': 'Bad Mental Health Days'}\n",
    "                                 ])\n",
    "\n",
    "button2 = dict(method= 'update',\n",
    "               label='Physical Health',\n",
    "               args=[\n",
    "                    {\"locations\":[ho_df['_STATE']],\n",
    "                     \"z\": [ho_df['PHYSHLTH']],\n",
    "                    \"text\":[ho_df['_STATE']], # hover text\n",
    "                    \"marker_line_color\":['white'], # line markers between states\n",
    "                    #\"colorbar_title\": [\"Bad Physical Health Days\"]\n",
    "                                    }, {'title.text' : 'Days of Reported Bad Physical Health per Month on Average',\n",
    "                                       'coloraxis_colorbar': 'Bad Physical Health Days'}\n",
    "                                 ])\n",
    "\n",
    "button3 = dict(method= 'update',\n",
    "               label='BMI',\n",
    "               args=[\n",
    "                    {\"locations\":[ho_df['_STATE']],\n",
    "                     \"z\": [ho_df['_RFBMI5']],\n",
    "                    \"text\":[ho_df['_STATE']], # hover text\n",
    "                    \"marker_line_color\":['white'], # line markers between states\n",
    "                    \"colorbar_title\": [\"% Overweight or Obese\"]\n",
    "                                    }, {'title.text' : 'Percentage of Population Obese or Overweight<br> Adults Who Have A Body Mass Index Greater than 25.00'}\n",
    "                                 ])\n",
    "\n",
    "\n",
    "button4 = dict(method= 'update',\n",
    "               label='Cardiovasc Disease',\n",
    "               args=[\n",
    "                    {\"locations\":[ho_df['_STATE']],\n",
    "                     \"z\": [ho_df['ANYHEART']],\n",
    "                    \"text\":[ho_df['_STATE']], # hover text\n",
    "                    \"marker_line_color\":['white'], # line markers between states\n",
    "                    \"colorbar_title\": [\"% Experienced Cardiovascular Attack\"]\n",
    "                                    }, {'title.text' : 'Percentage of Population who have been Diagnosed with Cardiovascular Disease <br> This includes those who have experienced at least one of the following:<br> Heart Attack, Heart Disease, Stroke'}\n",
    "                                 ])\n",
    "\n",
    "button5 = dict(method= 'update',\n",
    "               label='Asthma',\n",
    "               args=[\n",
    "                    {\"locations\":[ho_df['_STATE']],\n",
    "                     \"z\": [ho_df['ASTHMA3']],\n",
    "                    \"text\":[ho_df['_STATE']], # hover text\n",
    "                    \"marker_line_color\":['white'], # line markers between states\n",
    "                    \"colorbar_title\": [\"% with Asthma\"]\n",
    "                                    }, {'title.text' : 'Percentage of Population who been Diagnosed with have Asthma'}\n",
    "                                 ])\n",
    "\n",
    "button6 = dict(method= 'update',\n",
    "               label='Cancer',\n",
    "               args=[\n",
    "                    {\"locations\":[ho_df['_STATE']],\n",
    "                     \"z\": [ho_df['ANYCANCER']],\n",
    "                    \"text\":[ho_df['_STATE']], # hover text\n",
    "                    \"marker_line_color\":['white'], # line markers between states\n",
    "                    \"colorbar_title\": [\"% Experienced Cancer\"]\n",
    "                                    }, {'title.text' : 'Percentage of Population who have Ever been Diagnosed with Cancer'}\n",
    "                                 ])\n",
    "\n",
    "button7 = dict(method= 'update',\n",
    "               label='Diabetes',\n",
    "               args=[\n",
    "                    {\"locations\":[ho_df['_STATE']],\n",
    "                     \"z\": [ho_df['DIABETE4']],\n",
    "                    \"text\":[ho_df['_STATE']], # hover text\n",
    "                    \"marker_line_color\":['white'], # line markers between states\n",
    "                    \"colorbar_title\": [\"% With Diabetes\"]\n",
    "                                    }, {'title.text' : 'Percentage of Population Diagnosed with Diabetes, Pre-Diabetes or Borderline Diabetes'}\n",
    "                                 ])\n",
    "\n",
    "button8 = dict(method= 'update',\n",
    "               label='Depressive',\n",
    "               args=[\n",
    "                    {\"locations\":[ho_df['_STATE']],\n",
    "                     \"z\": [ho_df['ADDEPEV3']],\n",
    "                    \"text\":[ho_df['_STATE']], # hover text\n",
    "                    \"marker_line_color\":['white'], # line markers between states\n",
    "                    \"colorbar_title\": [\"% with Depressive Disorder\"]\n",
    "                                    }, {'title.text' : 'Percentage of Population Ever Diagnosed with Depressive Disorder <br> Including Depression, Major Depression, Dysthymia, or Minor Depression)'}\n",
    "                                 ])\n",
    "\n",
    "button9 = dict(method= 'update',\n",
    "               label='Kidney Disease',\n",
    "               args=[\n",
    "                    {\"locations\":[ho_df['_STATE']],\n",
    "                     \"z\": [ho_df['CHCKDNY2']],\n",
    "                    \"text\":[ho_df['_STATE']], # hover text\n",
    "                    \"marker_line_color\":['white'], # line markers between states\n",
    "                    \"colorbar_title\": [\"% with Kidney Disease\"]\n",
    "                                    }, {'title.text' : 'Percentage of Population Diagnosed with Kidney Disease <br> Not Including Kidney Stones, Bladder Infection or Incontinence'}\n",
    "                                 ])\n",
    "\n",
    "\n",
    "button10 = dict(method= 'update',\n",
    "               label='Arthritis',\n",
    "               args=[\n",
    "                    {\"locations\":[ho_df['_STATE']],\n",
    "                     \"z\": [ho_df['HAVARTH4']],\n",
    "                    \"text\":[ho_df['_STATE']], # hover text\n",
    "                    \"marker_line_color\":['white'], # line markers between states\n",
    "                    \"colorbar_title\": [\"% with Arthritis\"]\n",
    "                                    }, {'title.text' : 'Percentage of Population Diagnosed with Arthritis, Rheumatoid Arthritis, Gout, Lupus, or Fibromyalgia'}\n",
    "                                 ])\n",
    "\n"
   ]
  },
  {
   "cell_type": "code",
   "execution_count": 157,
   "id": "aeee91af",
   "metadata": {
    "scrolled": false
   },
   "outputs": [
    {
     "data": {
      "application/vnd.plotly.v1+json": {
       "config": {
        "plotlyServerURL": "https://plotly.com"
       },
       "data": [
        {
         "autocolorscale": false,
         "colorscale": [
          [
           0,
           "rgb(209, 238, 234)"
          ],
          [
           0.16666666666666666,
           "rgb(168, 219, 217)"
          ],
          [
           0.3333333333333333,
           "rgb(133, 196, 201)"
          ],
          [
           0.5,
           "rgb(104, 171, 184)"
          ],
          [
           0.6666666666666666,
           "rgb(79, 144, 166)"
          ],
          [
           0.8333333333333334,
           "rgb(59, 115, 143)"
          ],
          [
           1,
           "rgb(42, 86, 116)"
          ]
         ],
         "locationmode": "USA-states",
         "locations": [
          "AK",
          "AL",
          "AR",
          "AZ",
          "CA",
          "CO",
          "CT",
          "DC",
          "DE",
          "FL",
          "GA",
          "GU",
          "HI",
          "IA",
          "ID",
          "IL",
          "IN",
          "KS",
          "KY",
          "LA",
          "MA",
          "MD",
          "ME",
          "MI",
          "MN",
          "MO",
          "MS",
          "MT",
          "NC",
          "ND",
          "NE",
          "NH",
          "NM",
          "NV",
          "NY",
          "OH",
          "OK",
          "OR",
          "PA",
          "PR",
          "RI",
          "SC",
          "SD",
          "TN",
          "TX",
          "UT",
          "VA",
          "VT",
          "WA",
          "WI",
          "WV",
          "WY"
         ],
         "marker": {
          "line": {
           "color": "white"
          }
         },
         "text": [
          "AK",
          "AL",
          "AR",
          "AZ",
          "CA",
          "CO",
          "CT",
          "DC",
          "DE",
          "FL",
          "GA",
          "GU",
          "HI",
          "IA",
          "ID",
          "IL",
          "IN",
          "KS",
          "KY",
          "LA",
          "MA",
          "MD",
          "ME",
          "MI",
          "MN",
          "MO",
          "MS",
          "MT",
          "NC",
          "ND",
          "NE",
          "NH",
          "NM",
          "NV",
          "NY",
          "OH",
          "OK",
          "OR",
          "PA",
          "PR",
          "RI",
          "SC",
          "SD",
          "TN",
          "TX",
          "UT",
          "VA",
          "VT",
          "WA",
          "WI",
          "WV",
          "WY"
         ],
         "type": "choropleth",
         "z": [
          3.503419972640219,
          4.745738225946258,
          4.4132089836315185,
          3.9517578791671406,
          3.752124891587164,
          3.475977775356793,
          3.3314849728291005,
          3.655564263322884,
          3.954893168029544,
          4.367600472079011,
          4.57302544491837,
          3.800753453327752,
          3.452508843180925,
          3.4634601430496526,
          3.9460720283635005,
          3.7745654162854527,
          4.0484393063583815,
          3.7332017583206243,
          4.607397959183674,
          5.0045622420160765,
          3.736988478347239,
          3.4497027625597387,
          3.579211919935374,
          4.3587756683456025,
          3.4442904290429044,
          4.070862859524802,
          4.587965730225145,
          3.910625,
          3.9738965353583295,
          2.543942992874109,
          3.2154277342505893,
          3.642077922077922,
          4.150194948296321,
          4.24,
          3.7620421113354485,
          4.328142889855736,
          4.17456154728733,
          4.241609617632326,
          4.197141979102643,
          3.583305340947262,
          4.026964047936085,
          3.8475329890992542,
          2.967250922509225,
          4.8390748031496065,
          3.8735622603767292,
          3.9979313911394585,
          3.7162134322208487,
          3.5845425867507887,
          3.7487496092528914,
          3.5359116022099446,
          5.301679212507238,
          3.0434207626184704
         ]
        }
       ],
       "layout": {
        "font": {
         "color": "Black"
        },
        "geo": {
         "lakecolor": "rgb(255, 255, 255)",
         "projection": {
          "type": "albers usa"
         },
         "scope": "usa",
         "showlakes": true
        },
        "template": {
         "data": {
          "bar": [
           {
            "error_x": {
             "color": "#2a3f5f"
            },
            "error_y": {
             "color": "#2a3f5f"
            },
            "marker": {
             "line": {
              "color": "#E5ECF6",
              "width": 0.5
             },
             "pattern": {
              "fillmode": "overlay",
              "size": 10,
              "solidity": 0.2
             }
            },
            "type": "bar"
           }
          ],
          "barpolar": [
           {
            "marker": {
             "line": {
              "color": "#E5ECF6",
              "width": 0.5
             },
             "pattern": {
              "fillmode": "overlay",
              "size": 10,
              "solidity": 0.2
             }
            },
            "type": "barpolar"
           }
          ],
          "carpet": [
           {
            "aaxis": {
             "endlinecolor": "#2a3f5f",
             "gridcolor": "white",
             "linecolor": "white",
             "minorgridcolor": "white",
             "startlinecolor": "#2a3f5f"
            },
            "baxis": {
             "endlinecolor": "#2a3f5f",
             "gridcolor": "white",
             "linecolor": "white",
             "minorgridcolor": "white",
             "startlinecolor": "#2a3f5f"
            },
            "type": "carpet"
           }
          ],
          "choropleth": [
           {
            "colorbar": {
             "outlinewidth": 0,
             "ticks": ""
            },
            "type": "choropleth"
           }
          ],
          "contour": [
           {
            "colorbar": {
             "outlinewidth": 0,
             "ticks": ""
            },
            "colorscale": [
             [
              0,
              "#0d0887"
             ],
             [
              0.1111111111111111,
              "#46039f"
             ],
             [
              0.2222222222222222,
              "#7201a8"
             ],
             [
              0.3333333333333333,
              "#9c179e"
             ],
             [
              0.4444444444444444,
              "#bd3786"
             ],
             [
              0.5555555555555556,
              "#d8576b"
             ],
             [
              0.6666666666666666,
              "#ed7953"
             ],
             [
              0.7777777777777778,
              "#fb9f3a"
             ],
             [
              0.8888888888888888,
              "#fdca26"
             ],
             [
              1,
              "#f0f921"
             ]
            ],
            "type": "contour"
           }
          ],
          "contourcarpet": [
           {
            "colorbar": {
             "outlinewidth": 0,
             "ticks": ""
            },
            "type": "contourcarpet"
           }
          ],
          "heatmap": [
           {
            "colorbar": {
             "outlinewidth": 0,
             "ticks": ""
            },
            "colorscale": [
             [
              0,
              "#0d0887"
             ],
             [
              0.1111111111111111,
              "#46039f"
             ],
             [
              0.2222222222222222,
              "#7201a8"
             ],
             [
              0.3333333333333333,
              "#9c179e"
             ],
             [
              0.4444444444444444,
              "#bd3786"
             ],
             [
              0.5555555555555556,
              "#d8576b"
             ],
             [
              0.6666666666666666,
              "#ed7953"
             ],
             [
              0.7777777777777778,
              "#fb9f3a"
             ],
             [
              0.8888888888888888,
              "#fdca26"
             ],
             [
              1,
              "#f0f921"
             ]
            ],
            "type": "heatmap"
           }
          ],
          "heatmapgl": [
           {
            "colorbar": {
             "outlinewidth": 0,
             "ticks": ""
            },
            "colorscale": [
             [
              0,
              "#0d0887"
             ],
             [
              0.1111111111111111,
              "#46039f"
             ],
             [
              0.2222222222222222,
              "#7201a8"
             ],
             [
              0.3333333333333333,
              "#9c179e"
             ],
             [
              0.4444444444444444,
              "#bd3786"
             ],
             [
              0.5555555555555556,
              "#d8576b"
             ],
             [
              0.6666666666666666,
              "#ed7953"
             ],
             [
              0.7777777777777778,
              "#fb9f3a"
             ],
             [
              0.8888888888888888,
              "#fdca26"
             ],
             [
              1,
              "#f0f921"
             ]
            ],
            "type": "heatmapgl"
           }
          ],
          "histogram": [
           {
            "marker": {
             "pattern": {
              "fillmode": "overlay",
              "size": 10,
              "solidity": 0.2
             }
            },
            "type": "histogram"
           }
          ],
          "histogram2d": [
           {
            "colorbar": {
             "outlinewidth": 0,
             "ticks": ""
            },
            "colorscale": [
             [
              0,
              "#0d0887"
             ],
             [
              0.1111111111111111,
              "#46039f"
             ],
             [
              0.2222222222222222,
              "#7201a8"
             ],
             [
              0.3333333333333333,
              "#9c179e"
             ],
             [
              0.4444444444444444,
              "#bd3786"
             ],
             [
              0.5555555555555556,
              "#d8576b"
             ],
             [
              0.6666666666666666,
              "#ed7953"
             ],
             [
              0.7777777777777778,
              "#fb9f3a"
             ],
             [
              0.8888888888888888,
              "#fdca26"
             ],
             [
              1,
              "#f0f921"
             ]
            ],
            "type": "histogram2d"
           }
          ],
          "histogram2dcontour": [
           {
            "colorbar": {
             "outlinewidth": 0,
             "ticks": ""
            },
            "colorscale": [
             [
              0,
              "#0d0887"
             ],
             [
              0.1111111111111111,
              "#46039f"
             ],
             [
              0.2222222222222222,
              "#7201a8"
             ],
             [
              0.3333333333333333,
              "#9c179e"
             ],
             [
              0.4444444444444444,
              "#bd3786"
             ],
             [
              0.5555555555555556,
              "#d8576b"
             ],
             [
              0.6666666666666666,
              "#ed7953"
             ],
             [
              0.7777777777777778,
              "#fb9f3a"
             ],
             [
              0.8888888888888888,
              "#fdca26"
             ],
             [
              1,
              "#f0f921"
             ]
            ],
            "type": "histogram2dcontour"
           }
          ],
          "mesh3d": [
           {
            "colorbar": {
             "outlinewidth": 0,
             "ticks": ""
            },
            "type": "mesh3d"
           }
          ],
          "parcoords": [
           {
            "line": {
             "colorbar": {
              "outlinewidth": 0,
              "ticks": ""
             }
            },
            "type": "parcoords"
           }
          ],
          "pie": [
           {
            "automargin": true,
            "type": "pie"
           }
          ],
          "scatter": [
           {
            "marker": {
             "colorbar": {
              "outlinewidth": 0,
              "ticks": ""
             }
            },
            "type": "scatter"
           }
          ],
          "scatter3d": [
           {
            "line": {
             "colorbar": {
              "outlinewidth": 0,
              "ticks": ""
             }
            },
            "marker": {
             "colorbar": {
              "outlinewidth": 0,
              "ticks": ""
             }
            },
            "type": "scatter3d"
           }
          ],
          "scattercarpet": [
           {
            "marker": {
             "colorbar": {
              "outlinewidth": 0,
              "ticks": ""
             }
            },
            "type": "scattercarpet"
           }
          ],
          "scattergeo": [
           {
            "marker": {
             "colorbar": {
              "outlinewidth": 0,
              "ticks": ""
             }
            },
            "type": "scattergeo"
           }
          ],
          "scattergl": [
           {
            "marker": {
             "colorbar": {
              "outlinewidth": 0,
              "ticks": ""
             }
            },
            "type": "scattergl"
           }
          ],
          "scattermapbox": [
           {
            "marker": {
             "colorbar": {
              "outlinewidth": 0,
              "ticks": ""
             }
            },
            "type": "scattermapbox"
           }
          ],
          "scatterpolar": [
           {
            "marker": {
             "colorbar": {
              "outlinewidth": 0,
              "ticks": ""
             }
            },
            "type": "scatterpolar"
           }
          ],
          "scatterpolargl": [
           {
            "marker": {
             "colorbar": {
              "outlinewidth": 0,
              "ticks": ""
             }
            },
            "type": "scatterpolargl"
           }
          ],
          "scatterternary": [
           {
            "marker": {
             "colorbar": {
              "outlinewidth": 0,
              "ticks": ""
             }
            },
            "type": "scatterternary"
           }
          ],
          "surface": [
           {
            "colorbar": {
             "outlinewidth": 0,
             "ticks": ""
            },
            "colorscale": [
             [
              0,
              "#0d0887"
             ],
             [
              0.1111111111111111,
              "#46039f"
             ],
             [
              0.2222222222222222,
              "#7201a8"
             ],
             [
              0.3333333333333333,
              "#9c179e"
             ],
             [
              0.4444444444444444,
              "#bd3786"
             ],
             [
              0.5555555555555556,
              "#d8576b"
             ],
             [
              0.6666666666666666,
              "#ed7953"
             ],
             [
              0.7777777777777778,
              "#fb9f3a"
             ],
             [
              0.8888888888888888,
              "#fdca26"
             ],
             [
              1,
              "#f0f921"
             ]
            ],
            "type": "surface"
           }
          ],
          "table": [
           {
            "cells": {
             "fill": {
              "color": "#EBF0F8"
             },
             "line": {
              "color": "white"
             }
            },
            "header": {
             "fill": {
              "color": "#C8D4E3"
             },
             "line": {
              "color": "white"
             }
            },
            "type": "table"
           }
          ]
         },
         "layout": {
          "annotationdefaults": {
           "arrowcolor": "#2a3f5f",
           "arrowhead": 0,
           "arrowwidth": 1
          },
          "autotypenumbers": "strict",
          "coloraxis": {
           "colorbar": {
            "outlinewidth": 0,
            "ticks": ""
           }
          },
          "colorscale": {
           "diverging": [
            [
             0,
             "#8e0152"
            ],
            [
             0.1,
             "#c51b7d"
            ],
            [
             0.2,
             "#de77ae"
            ],
            [
             0.3,
             "#f1b6da"
            ],
            [
             0.4,
             "#fde0ef"
            ],
            [
             0.5,
             "#f7f7f7"
            ],
            [
             0.6,
             "#e6f5d0"
            ],
            [
             0.7,
             "#b8e186"
            ],
            [
             0.8,
             "#7fbc41"
            ],
            [
             0.9,
             "#4d9221"
            ],
            [
             1,
             "#276419"
            ]
           ],
           "sequential": [
            [
             0,
             "#0d0887"
            ],
            [
             0.1111111111111111,
             "#46039f"
            ],
            [
             0.2222222222222222,
             "#7201a8"
            ],
            [
             0.3333333333333333,
             "#9c179e"
            ],
            [
             0.4444444444444444,
             "#bd3786"
            ],
            [
             0.5555555555555556,
             "#d8576b"
            ],
            [
             0.6666666666666666,
             "#ed7953"
            ],
            [
             0.7777777777777778,
             "#fb9f3a"
            ],
            [
             0.8888888888888888,
             "#fdca26"
            ],
            [
             1,
             "#f0f921"
            ]
           ],
           "sequentialminus": [
            [
             0,
             "#0d0887"
            ],
            [
             0.1111111111111111,
             "#46039f"
            ],
            [
             0.2222222222222222,
             "#7201a8"
            ],
            [
             0.3333333333333333,
             "#9c179e"
            ],
            [
             0.4444444444444444,
             "#bd3786"
            ],
            [
             0.5555555555555556,
             "#d8576b"
            ],
            [
             0.6666666666666666,
             "#ed7953"
            ],
            [
             0.7777777777777778,
             "#fb9f3a"
            ],
            [
             0.8888888888888888,
             "#fdca26"
            ],
            [
             1,
             "#f0f921"
            ]
           ]
          },
          "colorway": [
           "#636efa",
           "#EF553B",
           "#00cc96",
           "#ab63fa",
           "#FFA15A",
           "#19d3f3",
           "#FF6692",
           "#B6E880",
           "#FF97FF",
           "#FECB52"
          ],
          "font": {
           "color": "#2a3f5f"
          },
          "geo": {
           "bgcolor": "white",
           "lakecolor": "white",
           "landcolor": "#E5ECF6",
           "showlakes": true,
           "showland": true,
           "subunitcolor": "white"
          },
          "hoverlabel": {
           "align": "left"
          },
          "hovermode": "closest",
          "mapbox": {
           "style": "light"
          },
          "paper_bgcolor": "white",
          "plot_bgcolor": "#E5ECF6",
          "polar": {
           "angularaxis": {
            "gridcolor": "white",
            "linecolor": "white",
            "ticks": ""
           },
           "bgcolor": "#E5ECF6",
           "radialaxis": {
            "gridcolor": "white",
            "linecolor": "white",
            "ticks": ""
           }
          },
          "scene": {
           "xaxis": {
            "backgroundcolor": "#E5ECF6",
            "gridcolor": "white",
            "gridwidth": 2,
            "linecolor": "white",
            "showbackground": true,
            "ticks": "",
            "zerolinecolor": "white"
           },
           "yaxis": {
            "backgroundcolor": "#E5ECF6",
            "gridcolor": "white",
            "gridwidth": 2,
            "linecolor": "white",
            "showbackground": true,
            "ticks": "",
            "zerolinecolor": "white"
           },
           "zaxis": {
            "backgroundcolor": "#E5ECF6",
            "gridcolor": "white",
            "gridwidth": 2,
            "linecolor": "white",
            "showbackground": true,
            "ticks": "",
            "zerolinecolor": "white"
           }
          },
          "shapedefaults": {
           "line": {
            "color": "#2a3f5f"
           }
          },
          "ternary": {
           "aaxis": {
            "gridcolor": "white",
            "linecolor": "white",
            "ticks": ""
           },
           "baxis": {
            "gridcolor": "white",
            "linecolor": "white",
            "ticks": ""
           },
           "bgcolor": "#E5ECF6",
           "caxis": {
            "gridcolor": "white",
            "linecolor": "white",
            "ticks": ""
           }
          },
          "title": {
           "x": 0.05
          },
          "xaxis": {
           "automargin": true,
           "gridcolor": "white",
           "linecolor": "white",
           "ticks": "",
           "title": {
            "standoff": 15
           },
           "zerolinecolor": "white",
           "zerolinewidth": 2
          },
          "yaxis": {
           "automargin": true,
           "gridcolor": "white",
           "linecolor": "white",
           "ticks": "",
           "title": {
            "standoff": 15
           },
           "zerolinecolor": "white",
           "zerolinewidth": 2
          }
         }
        },
        "title": {
         "font": {
          "size": 20
         },
         "text": "Average Number of Bad Mental Health Days per Month",
         "x": 0.5,
         "xanchor": "center",
         "y": 0.9,
         "yanchor": "top"
        },
        "updatemenus": [
         {
          "active": 0,
          "bgcolor": "rgb(204,234,231)",
          "bordercolor": "white",
          "buttons": [
           {
            "args": [
             {
              "locations": [
               [
                "AK",
                "AL",
                "AR",
                "AZ",
                "CA",
                "CO",
                "CT",
                "DC",
                "DE",
                "FL",
                "GA",
                "GU",
                "HI",
                "IA",
                "ID",
                "IL",
                "IN",
                "KS",
                "KY",
                "LA",
                "MA",
                "MD",
                "ME",
                "MI",
                "MN",
                "MO",
                "MS",
                "MT",
                "NC",
                "ND",
                "NE",
                "NH",
                "NM",
                "NV",
                "NY",
                "OH",
                "OK",
                "OR",
                "PA",
                "PR",
                "RI",
                "SC",
                "SD",
                "TN",
                "TX",
                "UT",
                "VA",
                "VT",
                "WA",
                "WI",
                "WV",
                "WY"
               ]
              ],
              "marker_line_color": [
               "white"
              ],
              "text": [
               [
                "AK",
                "AL",
                "AR",
                "AZ",
                "CA",
                "CO",
                "CT",
                "DC",
                "DE",
                "FL",
                "GA",
                "GU",
                "HI",
                "IA",
                "ID",
                "IL",
                "IN",
                "KS",
                "KY",
                "LA",
                "MA",
                "MD",
                "ME",
                "MI",
                "MN",
                "MO",
                "MS",
                "MT",
                "NC",
                "ND",
                "NE",
                "NH",
                "NM",
                "NV",
                "NY",
                "OH",
                "OK",
                "OR",
                "PA",
                "PR",
                "RI",
                "SC",
                "SD",
                "TN",
                "TX",
                "UT",
                "VA",
                "VT",
                "WA",
                "WI",
                "WV",
                "WY"
               ]
              ],
              "z": [
               [
                3.503419972640219,
                4.745738225946258,
                4.4132089836315185,
                3.9517578791671406,
                3.752124891587164,
                3.475977775356793,
                3.3314849728291005,
                3.655564263322884,
                3.954893168029544,
                4.367600472079011,
                4.57302544491837,
                3.800753453327752,
                3.452508843180925,
                3.4634601430496526,
                3.9460720283635005,
                3.7745654162854527,
                4.0484393063583815,
                3.7332017583206243,
                4.607397959183674,
                5.0045622420160765,
                3.736988478347239,
                3.4497027625597387,
                3.579211919935374,
                4.3587756683456025,
                3.4442904290429044,
                4.070862859524802,
                4.587965730225145,
                3.910625,
                3.9738965353583295,
                2.543942992874109,
                3.2154277342505893,
                3.642077922077922,
                4.150194948296321,
                4.24,
                3.7620421113354485,
                4.328142889855736,
                4.17456154728733,
                4.241609617632326,
                4.197141979102643,
                3.583305340947262,
                4.026964047936085,
                3.8475329890992542,
                2.967250922509225,
                4.8390748031496065,
                3.8735622603767292,
                3.9979313911394585,
                3.7162134322208487,
                3.5845425867507887,
                3.7487496092528914,
                3.5359116022099446,
                5.301679212507238,
                3.0434207626184704
               ]
              ]
             },
             {
              "coloraxis_colorbar": "Bad Mental Health Days",
              "title.text": "Days of Reported Bad Mental Health per Month on Average"
             }
            ],
            "label": "Mental Health",
            "method": "update"
           },
           {
            "args": [
             {
              "locations": [
               [
                "AK",
                "AL",
                "AR",
                "AZ",
                "CA",
                "CO",
                "CT",
                "DC",
                "DE",
                "FL",
                "GA",
                "GU",
                "HI",
                "IA",
                "ID",
                "IL",
                "IN",
                "KS",
                "KY",
                "LA",
                "MA",
                "MD",
                "ME",
                "MI",
                "MN",
                "MO",
                "MS",
                "MT",
                "NC",
                "ND",
                "NE",
                "NH",
                "NM",
                "NV",
                "NY",
                "OH",
                "OK",
                "OR",
                "PA",
                "PR",
                "RI",
                "SC",
                "SD",
                "TN",
                "TX",
                "UT",
                "VA",
                "VT",
                "WA",
                "WI",
                "WV",
                "WY"
               ]
              ],
              "marker_line_color": [
               "white"
              ],
              "text": [
               [
                "AK",
                "AL",
                "AR",
                "AZ",
                "CA",
                "CO",
                "CT",
                "DC",
                "DE",
                "FL",
                "GA",
                "GU",
                "HI",
                "IA",
                "ID",
                "IL",
                "IN",
                "KS",
                "KY",
                "LA",
                "MA",
                "MD",
                "ME",
                "MI",
                "MN",
                "MO",
                "MS",
                "MT",
                "NC",
                "ND",
                "NE",
                "NH",
                "NM",
                "NV",
                "NY",
                "OH",
                "OK",
                "OR",
                "PA",
                "PR",
                "RI",
                "SC",
                "SD",
                "TN",
                "TX",
                "UT",
                "VA",
                "VT",
                "WA",
                "WI",
                "WV",
                "WY"
               ]
              ],
              "z": [
               [
                4.107839780896953,
                5.436202641892873,
                6.019456752070892,
                4.907322654462242,
                4.073791789364282,
                3.7985587946282346,
                3.894953770747466,
                3.871744277821626,
                4.64420270628814,
                5.393578038631141,
                5.204792708027051,
                3.959157894736842,
                3.911405696285602,
                3.645060441850771,
                4.768450704225352,
                3.9475614228089477,
                4.814939591078067,
                3.961448387677896,
                5.687064291247095,
                5.000653452406883,
                3.842817349781138,
                4.119578577699737,
                4.861751152073733,
                4.639352211016292,
                3.493147964250248,
                4.949418523189015,
                5.11231884057971,
                4.565715181932246,
                4.19536661093862,
                3.803080308030803,
                3.8375446656457375,
                4.227138129245776,
                4.942356742050672,
                4.544428259286234,
                4.317682971146159,
                5.186644228562686,
                5.032719500164419,
                4.40050209205021,
                4.438269704433497,
                6.351661325687299,
                4.7359184355674415,
                4.9114749348015065,
                3.8976377952755907,
                5.557602921646747,
                4.593194770365404,
                3.9788391777509067,
                4.302032813951088,
                4.2008843967150975,
                4.40125441003528,
                4.100102564102564,
                6.392753342375508,
                4.050663716814159
               ]
              ]
             },
             {
              "coloraxis_colorbar": "Bad Physical Health Days",
              "title.text": "Days of Reported Bad Physical Health per Month on Average"
             }
            ],
            "label": "Physical Health",
            "method": "update"
           },
           {
            "args": [
             {
              "colorbar_title": [
               "% Overweight or Obese"
              ],
              "locations": [
               [
                "AK",
                "AL",
                "AR",
                "AZ",
                "CA",
                "CO",
                "CT",
                "DC",
                "DE",
                "FL",
                "GA",
                "GU",
                "HI",
                "IA",
                "ID",
                "IL",
                "IN",
                "KS",
                "KY",
                "LA",
                "MA",
                "MD",
                "ME",
                "MI",
                "MN",
                "MO",
                "MS",
                "MT",
                "NC",
                "ND",
                "NE",
                "NH",
                "NM",
                "NV",
                "NY",
                "OH",
                "OK",
                "OR",
                "PA",
                "PR",
                "RI",
                "SC",
                "SD",
                "TN",
                "TX",
                "UT",
                "VA",
                "VT",
                "WA",
                "WI",
                "WV",
                "WY"
               ]
              ],
              "marker_line_color": [
               "white"
              ],
              "text": [
               [
                "AK",
                "AL",
                "AR",
                "AZ",
                "CA",
                "CO",
                "CT",
                "DC",
                "DE",
                "FL",
                "GA",
                "GU",
                "HI",
                "IA",
                "ID",
                "IL",
                "IN",
                "KS",
                "KY",
                "LA",
                "MA",
                "MD",
                "ME",
                "MI",
                "MN",
                "MO",
                "MS",
                "MT",
                "NC",
                "ND",
                "NE",
                "NH",
                "NM",
                "NV",
                "NY",
                "OH",
                "OK",
                "OR",
                "PA",
                "PR",
                "RI",
                "SC",
                "SD",
                "TN",
                "TX",
                "UT",
                "VA",
                "VT",
                "WA",
                "WI",
                "WV",
                "WY"
               ]
              ],
              "z": [
               [
                80.17563117453348,
                83.07333691949077,
                82.00886971113508,
                79.43126565492854,
                78.14431798486336,
                75.3658712421599,
                79.4570532000292,
                75.97589730154571,
                82.82515073212748,
                80.0635803695609,
                80.95676172953083,
                80.11588095865157,
                73.15766738660908,
                82.48750986063634,
                79.20039244542556,
                79.79610750695088,
                82.45729785206363,
                82.642649489825,
                84.992684992685,
                83.45986984815619,
                76.2963638020596,
                81.43054673194065,
                79.87591198942954,
                82.85697308217956,
                80.69864574104544,
                81.62618796198521,
                85.0661167050831,
                80.20616513033997,
                82.53679259596419,
                83.97802444220204,
                83.55432416386306,
                80.41237113402062,
                79.52747371843503,
                79.57992998833139,
                79.03658303007087,
                83.38590461842662,
                83.83185125303153,
                79.2206378578426,
                81.24213988584695,
                82.92882744495648,
                78.99457424426974,
                82.20760753643796,
                83.1090047393365,
                82.74080198429102,
                82.07501995211493,
                79.39508506616257,
                81.14721747138535,
                76.4172813487882,
                79.20546244568591,
                82.85311819695224,
                84.84358767170725,
                78.9939581284249
               ]
              ]
             },
             {
              "title.text": "Percentage of Population Obese or Overweight<br> Adults Who Have A Body Mass Index Greater than 25.00"
             }
            ],
            "label": "BMI",
            "method": "update"
           },
           {
            "args": [
             {
              "colorbar_title": [
               "% Experienced Cardiovascular Attack"
              ],
              "locations": [
               [
                "AK",
                "AL",
                "AR",
                "AZ",
                "CA",
                "CO",
                "CT",
                "DC",
                "DE",
                "FL",
                "GA",
                "GU",
                "HI",
                "IA",
                "ID",
                "IL",
                "IN",
                "KS",
                "KY",
                "LA",
                "MA",
                "MD",
                "ME",
                "MI",
                "MN",
                "MO",
                "MS",
                "MT",
                "NC",
                "ND",
                "NE",
                "NH",
                "NM",
                "NV",
                "NY",
                "OH",
                "OK",
                "OR",
                "PA",
                "PR",
                "RI",
                "SC",
                "SD",
                "TN",
                "TX",
                "UT",
                "VA",
                "VT",
                "WA",
                "WI",
                "WV",
                "WY"
               ]
              ],
              "marker_line_color": [
               "white"
              ],
              "text": [
               [
                "AK",
                "AL",
                "AR",
                "AZ",
                "CA",
                "CO",
                "CT",
                "DC",
                "DE",
                "FL",
                "GA",
                "GU",
                "HI",
                "IA",
                "ID",
                "IL",
                "IN",
                "KS",
                "KY",
                "LA",
                "MA",
                "MD",
                "ME",
                "MI",
                "MN",
                "MO",
                "MS",
                "MT",
                "NC",
                "ND",
                "NE",
                "NH",
                "NM",
                "NV",
                "NY",
                "OH",
                "OK",
                "OR",
                "PA",
                "PR",
                "RI",
                "SC",
                "SD",
                "TN",
                "TX",
                "UT",
                "VA",
                "VT",
                "WA",
                "WI",
                "WV",
                "WY"
               ]
              ],
              "z": [
               [
                4.5478489903424055,
                8.242517267843438,
                9.793075189510347,
                6.503871351995235,
                4.161808233922325,
                4.135464401475355,
                4.983959670027498,
                5.381526104417671,
                6.214227309893704,
                7.765139480205884,
                6.928389676481279,
                4.614057783527382,
                4.665259143226861,
                5.613014436543848,
                5.7675586899816444,
                4.900561423541726,
                7.311776061776062,
                5.420318078545927,
                8.563648740639891,
                6.693803708729082,
                4.948075748320098,
                6.200463358127058,
                7.673372781065089,
                6.349848331648129,
                4.840940525587828,
                7.744505089246202,
                7.881721561612123,
                5.962965984174892,
                6.126995915336057,
                6.290214155382695,
                5.870972046167189,
                5.799457994579946,
                5.434974413269807,
                5.404892850369809,
                5.657015590200445,
                8.15388917742,
                7.9216354344122655,
                5.0081608109268965,
                5.400877542879936,
                6.187835577854062,
                5.938448201127005,
                7.790934459612338,
                6.088487078966318,
                7.602137562489226,
                6.569026778750325,
                4.169611307420495,
                6.013315579227696,
                5.913228901828918,
                5.591223080048761,
                5.318017443097213,
                10.345545378850957,
                6.253585771658061
               ]
              ]
             },
             {
              "title.text": "Percentage of Population who have been Diagnosed with Cardiovascular Disease <br> This includes those who have experienced at least one of the following:<br> Heart Attack, Heart Disease, Stroke"
             }
            ],
            "label": "Cardiovasc Disease",
            "method": "update"
           },
           {
            "args": [
             {
              "colorbar_title": [
               "% with Asthma"
              ],
              "locations": [
               [
                "AK",
                "AL",
                "AR",
                "AZ",
                "CA",
                "CO",
                "CT",
                "DC",
                "DE",
                "FL",
                "GA",
                "GU",
                "HI",
                "IA",
                "ID",
                "IL",
                "IN",
                "KS",
                "KY",
                "LA",
                "MA",
                "MD",
                "ME",
                "MI",
                "MN",
                "MO",
                "MS",
                "MT",
                "NC",
                "ND",
                "NE",
                "NH",
                "NM",
                "NV",
                "NY",
                "OH",
                "OK",
                "OR",
                "PA",
                "PR",
                "RI",
                "SC",
                "SD",
                "TN",
                "TX",
                "UT",
                "VA",
                "VT",
                "WA",
                "WI",
                "WV",
                "WY"
               ]
              ],
              "marker_line_color": [
               "white"
              ],
              "text": [
               [
                "AK",
                "AL",
                "AR",
                "AZ",
                "CA",
                "CO",
                "CT",
                "DC",
                "DE",
                "FL",
                "GA",
                "GU",
                "HI",
                "IA",
                "ID",
                "IL",
                "IN",
                "KS",
                "KY",
                "LA",
                "MA",
                "MD",
                "ME",
                "MI",
                "MN",
                "MO",
                "MS",
                "MT",
                "NC",
                "ND",
                "NE",
                "NH",
                "NM",
                "NV",
                "NY",
                "OH",
                "OK",
                "OR",
                "PA",
                "PR",
                "RI",
                "SC",
                "SD",
                "TN",
                "TX",
                "UT",
                "VA",
                "VT",
                "WA",
                "WI",
                "WV",
                "WY"
               ]
              ],
              "z": [
               [
                7.4227921256998375,
                7.628865979381444,
                7.260891337005508,
                8.194141854272573,
                8.29059031987317,
                7.720779596321786,
                7.890859803170487,
                8.860232945091514,
                7.802988378527947,
                7.07989764003412,
                7.233484030917311,
                5.685035939882378,
                8.28752642706131,
                5.896341133870183,
                7.485265225933202,
                7.049912604389202,
                7.297639886521398,
                7.2956509420597815,
                7.562571679147271,
                8.002289639381797,
                8.032465715085362,
                7.4392915548150205,
                7.99809795530195,
                8.399071925754061,
                6.839046865866657,
                7.477185752134236,
                7.365112624410687,
                7.660421157353673,
                7.12143928035982,
                5.6016795495753415,
                5.9039482027834325,
                7.927728613569322,
                7.1018651362984215,
                7.671445176288261,
                7.905918057663126,
                7.656797198344476,
                7.867847411444142,
                8.802848242100579,
                8.316929133858268,
                10.104974897307166,
                8.83505521909512,
                7.475932611311673,
                5.803464516644049,
                8.494913485783846,
                7.156555090655509,
                8.226221079691516,
                7.5750202757502025,
                8.408231835363292,
                8.791623036649215,
                6.982274102896671,
                8.449263502454992,
                6.338998621956821
               ]
              ]
             },
             {
              "title.text": "Percentage of Population who been Diagnosed with have Asthma"
             }
            ],
            "label": "Asthma",
            "method": "update"
           },
           {
            "args": [
             {
              "colorbar_title": [
               "% Experienced Cancer"
              ],
              "locations": [
               [
                "AK",
                "AL",
                "AR",
                "AZ",
                "CA",
                "CO",
                "CT",
                "DC",
                "DE",
                "FL",
                "GA",
                "GU",
                "HI",
                "IA",
                "ID",
                "IL",
                "IN",
                "KS",
                "KY",
                "LA",
                "MA",
                "MD",
                "ME",
                "MI",
                "MN",
                "MO",
                "MS",
                "MT",
                "NC",
                "ND",
                "NE",
                "NH",
                "NM",
                "NV",
                "NY",
                "OH",
                "OK",
                "OR",
                "PA",
                "PR",
                "RI",
                "SC",
                "SD",
                "TN",
                "TX",
                "UT",
                "VA",
                "VT",
                "WA",
                "WI",
                "WV",
                "WY"
               ]
              ],
              "marker_line_color": [
               "white"
              ],
              "text": [
               [
                "AK",
                "AL",
                "AR",
                "AZ",
                "CA",
                "CO",
                "CT",
                "DC",
                "DE",
                "FL",
                "GA",
                "GU",
                "HI",
                "IA",
                "ID",
                "IL",
                "IN",
                "KS",
                "KY",
                "LA",
                "MA",
                "MD",
                "ME",
                "MI",
                "MN",
                "MO",
                "MS",
                "MT",
                "NC",
                "ND",
                "NE",
                "NH",
                "NM",
                "NV",
                "NY",
                "OH",
                "OK",
                "OR",
                "PA",
                "PR",
                "RI",
                "SC",
                "SD",
                "TN",
                "TX",
                "UT",
                "VA",
                "VT",
                "WA",
                "WI",
                "WV",
                "WY"
               ]
              ],
              "z": [
               [
                6.836533285483582,
                11.116363349877885,
                12.324460280863551,
                12.479557177003397,
                7.249722940524566,
                10.077977315689981,
                10.317842523477005,
                7.82823094308609,
                9.976012417101735,
                12.954575729319302,
                9.142178688037994,
                3.4100596760443307,
                7.807786741494213,
                9.019128113879004,
                9.68840797515279,
                7.279096924873492,
                9.897442234029407,
                9.465575349061146,
                10.351508441738167,
                8.235833906859371,
                9.419007855070413,
                11.267965506228043,
                12.420303464636978,
                10.40780979373327,
                8.078595026951835,
                10.725384673690593,
                8.440871588745505,
                10.010162601626016,
                9.02848423194303,
                10.392978256533015,
                9.823869338039378,
                11.457936810049485,
                9.52250022912657,
                8.512299882858258,
                8.331113225499525,
                10.987208920957691,
                9.687472946065276,
                8.958017648631785,
                8.170951367283445,
                3.955191727703576,
                10.979929161747343,
                11.839737068628217,
                9.840954274353876,
                9.846018477782666,
                9.31152495666474,
                9.053916581892167,
                9.754618141714916,
                10.84027122135439,
                10.29243240949026,
                9.317730183263414,
                11.92989864864865,
                11.889801836636057
               ]
              ]
             },
             {
              "title.text": "Percentage of Population who have Ever been Diagnosed with Cancer"
             }
            ],
            "label": "Cancer",
            "method": "update"
           },
           {
            "args": [
             {
              "colorbar_title": [
               "% With Diabetes"
              ],
              "locations": [
               [
                "AK",
                "AL",
                "AR",
                "AZ",
                "CA",
                "CO",
                "CT",
                "DC",
                "DE",
                "FL",
                "GA",
                "GU",
                "HI",
                "IA",
                "ID",
                "IL",
                "IN",
                "KS",
                "KY",
                "LA",
                "MA",
                "MD",
                "ME",
                "MI",
                "MN",
                "MO",
                "MS",
                "MT",
                "NC",
                "ND",
                "NE",
                "NH",
                "NM",
                "NV",
                "NY",
                "OH",
                "OK",
                "OR",
                "PA",
                "PR",
                "RI",
                "SC",
                "SD",
                "TN",
                "TX",
                "UT",
                "VA",
                "VT",
                "WA",
                "WI",
                "WV",
                "WY"
               ]
              ],
              "marker_line_color": [
               "white"
              ],
              "text": [
               [
                "AK",
                "AL",
                "AR",
                "AZ",
                "CA",
                "CO",
                "CT",
                "DC",
                "DE",
                "FL",
                "GA",
                "GU",
                "HI",
                "IA",
                "ID",
                "IL",
                "IN",
                "KS",
                "KY",
                "LA",
                "MA",
                "MD",
                "ME",
                "MI",
                "MN",
                "MO",
                "MS",
                "MT",
                "NC",
                "ND",
                "NE",
                "NH",
                "NM",
                "NV",
                "NY",
                "OH",
                "OK",
                "OR",
                "PA",
                "PR",
                "RI",
                "SC",
                "SD",
                "TN",
                "TX",
                "UT",
                "VA",
                "VT",
                "WA",
                "WI",
                "WV",
                "WY"
               ]
              ],
              "z": [
               [
                6.767187219529707,
                11.320009479421755,
                11.923920994879298,
                9.4092439546985,
                8.808921375691126,
                6.508808053077099,
                7.850874609812121,
                8.54417254251348,
                9.705592336948866,
                10.27818448023426,
                10.602754157573933,
                11.009384298466468,
                9.088327179778473,
                8.023159636062863,
                8.496084068603153,
                8.067836486618958,
                10.269934843313683,
                8.64327373553877,
                11.28018986458188,
                9.878844361602983,
                7.294706127553147,
                10.02370791844476,
                9.678354100260794,
                8.832056326361565,
                7.1098544927936,
                10.022607385079127,
                12.349199385830225,
                7.111037782544135,
                9.588340577857325,
                8.747788480440338,
                8.552271483305965,
                7.829771554900516,
                9.616443384107175,
                7.883495145631068,
                8.48401617456321,
                11.187805579522577,
                10.361655773420479,
                7.643536456498767,
                8.093952041901955,
                13.685202639019792,
                8.96921017402945,
                11.379579111457522,
                8.737386167856263,
                11.18638024779392,
                10.557553956834532,
                7.623482151008856,
                9.604893370805092,
                7.013762228486155,
                7.839229363893041,
                7.063277447268794,
                12.870232260813978,
                7.674418604651163
               ]
              ]
             },
             {
              "title.text": "Percentage of Population Diagnosed with Diabetes, Pre-Diabetes or Borderline Diabetes"
             }
            ],
            "label": "Diabetes",
            "method": "update"
           },
           {
            "args": [
             {
              "colorbar_title": [
               "% with Depressive Disorder"
              ],
              "locations": [
               [
                "AK",
                "AL",
                "AR",
                "AZ",
                "CA",
                "CO",
                "CT",
                "DC",
                "DE",
                "FL",
                "GA",
                "GU",
                "HI",
                "IA",
                "ID",
                "IL",
                "IN",
                "KS",
                "KY",
                "LA",
                "MA",
                "MD",
                "ME",
                "MI",
                "MN",
                "MO",
                "MS",
                "MT",
                "NC",
                "ND",
                "NE",
                "NH",
                "NM",
                "NV",
                "NY",
                "OH",
                "OK",
                "OR",
                "PA",
                "PR",
                "RI",
                "SC",
                "SD",
                "TN",
                "TX",
                "UT",
                "VA",
                "VT",
                "WA",
                "WI",
                "WV",
                "WY"
               ]
              ],
              "marker_line_color": [
               "white"
              ],
              "text": [
               [
                "AK",
                "AL",
                "AR",
                "AZ",
                "CA",
                "CO",
                "CT",
                "DC",
                "DE",
                "FL",
                "GA",
                "GU",
                "HI",
                "IA",
                "ID",
                "IL",
                "IN",
                "KS",
                "KY",
                "LA",
                "MA",
                "MD",
                "ME",
                "MI",
                "MN",
                "MO",
                "MS",
                "MT",
                "NC",
                "ND",
                "NE",
                "NH",
                "NM",
                "NV",
                "NY",
                "OH",
                "OK",
                "OR",
                "PA",
                "PR",
                "RI",
                "SC",
                "SD",
                "TN",
                "TX",
                "UT",
                "VA",
                "VT",
                "WA",
                "WI",
                "WV",
                "WY"
               ]
              ],
              "z": [
               [
                9.22454979786843,
                12.927024859663192,
                12.531539108494533,
                9.274440230025695,
                8.587464920486436,
                8.932436384907868,
                7.9728533490705225,
                10.210970464135022,
                9.953409572215163,
                10.288896850470637,
                10.262565641410353,
                5.93886462882096,
                7.524322810947015,
                8.27159128607763,
                11.827296910169839,
                9.892301555644197,
                10.88218767559468,
                9.994670800833292,
                13.706742775597574,
                13.378248315688161,
                9.985734664764623,
                8.51939628289884,
                11.837499383720356,
                11.804151144225653,
                11.117474407616866,
                11.957022256331543,
                11.263169327685457,
                12.553136115207773,
                12.071222833202409,
                8.078538634365536,
                7.942127659574468,
                10.398188337422155,
                9.303814838532613,
                9.564188522973772,
                9.195755805013071,
                11.189702677139449,
                12.359151805518588,
                13.984513480735144,
                10.849848841115216,
                10.23765996343693,
                11.119205901101903,
                10.149622088539257,
                7.95176796480365,
                14.613970588235293,
                10.297154143100817,
                12.227885485638069,
                9.886709035645206,
                10.910497807583182,
                13.186813186813186,
                10.155902004454344,
                15.181194906953968,
                8.744710860366714
               ]
              ]
             },
             {
              "title.text": "Percentage of Population Ever Diagnosed with Depressive Disorder <br> Including Depression, Major Depression, Dysthymia, or Minor Depression)"
             }
            ],
            "label": "Depressive",
            "method": "update"
           },
           {
            "args": [
             {
              "colorbar_title": [
               "% with Kidney Disease"
              ],
              "locations": [
               [
                "AK",
                "AL",
                "AR",
                "AZ",
                "CA",
                "CO",
                "CT",
                "DC",
                "DE",
                "FL",
                "GA",
                "GU",
                "HI",
                "IA",
                "ID",
                "IL",
                "IN",
                "KS",
                "KY",
                "LA",
                "MA",
                "MD",
                "ME",
                "MI",
                "MN",
                "MO",
                "MS",
                "MT",
                "NC",
                "ND",
                "NE",
                "NH",
                "NM",
                "NV",
                "NY",
                "OH",
                "OK",
                "OR",
                "PA",
                "PR",
                "RI",
                "SC",
                "SD",
                "TN",
                "TX",
                "UT",
                "VA",
                "VT",
                "WA",
                "WI",
                "WV",
                "WY"
               ]
              ],
              "marker_line_color": [
               "white"
              ],
              "text": [
               [
                "AK",
                "AL",
                "AR",
                "AZ",
                "CA",
                "CO",
                "CT",
                "DC",
                "DE",
                "FL",
                "GA",
                "GU",
                "HI",
                "IA",
                "ID",
                "IL",
                "IN",
                "KS",
                "KY",
                "LA",
                "MA",
                "MD",
                "ME",
                "MI",
                "MN",
                "MO",
                "MS",
                "MT",
                "NC",
                "ND",
                "NE",
                "NH",
                "NM",
                "NV",
                "NY",
                "OH",
                "OK",
                "OR",
                "PA",
                "PR",
                "RI",
                "SC",
                "SD",
                "TN",
                "TX",
                "UT",
                "VA",
                "VT",
                "WA",
                "WI",
                "WV",
                "WY"
               ]
              ],
              "z": [
               [
                1.48489503328213,
                2.219965177016831,
                2.9208301306687163,
                2.6766226306720275,
                1.7840704861263315,
                1.2721539632488854,
                1.693973896139961,
                1.5718998641568018,
                2.5546484066368187,
                2.4792888673882807,
                2.5959525471039777,
                1.9550136640739961,
                1.700972930041697,
                1.4809444904722453,
                1.8811696777798472,
                1.6692797196347875,
                2.461520724044503,
                1.7008325127562438,
                2.6198905696813646,
                2.466051059206953,
                1.445466491458607,
                2.1176746641637827,
                2.099348168127669,
                2.335766423357664,
                1.5788957536530352,
                2.0556565515312544,
                1.960003979703512,
                1.6041943814069959,
                2.011186481018684,
                2.009957588050894,
                1.474397927527425,
                1.6498784300104203,
                2.2070145423438836,
                2.056555269922879,
                1.7309205350118018,
                2.5001894082885068,
                2.4832160478848175,
                1.798800799467022,
                1.764660553286584,
                1.8319966230476994,
                1.749708381936344,
                2.035568887936576,
                2.032332563510393,
                2.4386238607439035,
                2.2371922821024617,
                1.6339728389739168,
                1.9215987701767872,
                1.4618044640050298,
                1.879242025971988,
                1.9466474405191059,
                2.9920341946765108,
                1.5462221734839345
               ]
              ]
             },
             {
              "title.text": "Percentage of Population Diagnosed with Kidney Disease <br> Not Including Kidney Stones, Bladder Infection or Incontinence"
             }
            ],
            "label": "Kidney Disease",
            "method": "update"
           },
           {
            "args": [
             {
              "colorbar_title": [
               "% with Arthritis"
              ],
              "locations": [
               [
                "AK",
                "AL",
                "AR",
                "AZ",
                "CA",
                "CO",
                "CT",
                "DC",
                "DE",
                "FL",
                "GA",
                "GU",
                "HI",
                "IA",
                "ID",
                "IL",
                "IN",
                "KS",
                "KY",
                "LA",
                "MA",
                "MD",
                "ME",
                "MI",
                "MN",
                "MO",
                "MS",
                "MT",
                "NC",
                "ND",
                "NE",
                "NH",
                "NM",
                "NV",
                "NY",
                "OH",
                "OK",
                "OR",
                "PA",
                "PR",
                "RI",
                "SC",
                "SD",
                "TN",
                "TX",
                "UT",
                "VA",
                "VT",
                "WA",
                "WI",
                "WV",
                "WY"
               ]
              ],
              "marker_line_color": [
               "white"
              ],
              "text": [
               [
                "AK",
                "AL",
                "AR",
                "AZ",
                "CA",
                "CO",
                "CT",
                "DC",
                "DE",
                "FL",
                "GA",
                "GU",
                "HI",
                "IA",
                "ID",
                "IL",
                "IN",
                "KS",
                "KY",
                "LA",
                "MA",
                "MD",
                "ME",
                "MI",
                "MN",
                "MO",
                "MS",
                "MT",
                "NC",
                "ND",
                "NE",
                "NH",
                "NM",
                "NV",
                "NY",
                "OH",
                "OK",
                "OR",
                "PA",
                "PR",
                "RI",
                "SC",
                "SD",
                "TN",
                "TX",
                "UT",
                "VA",
                "VT",
                "WA",
                "WI",
                "WV",
                "WY"
               ]
              ],
              "z": [
               [
                17.875544986127625,
                27.103815279155768,
                26.872037914691944,
                20.258359685124134,
                13.124817304881613,
                17.38308332282869,
                19.389551946781452,
                16.053215077605323,
                20.092521202775636,
                20.899036746343203,
                19.95757180156658,
                11.514594346127327,
                14.989149143156476,
                18.799272286234082,
                19.384413883431566,
                16.95310842350944,
                20.964117927418805,
                18.77482751411248,
                26.690504568931267,
                19.427558257345492,
                17.534246575342465,
                22.110358859227556,
                24.900968309859156,
                23.10665963802495,
                14.738358137301969,
                22.647849462365592,
                23.21750631237225,
                21.274409044193217,
                18.050392399834777,
                21.895316804407713,
                18.537059175134488,
                21.786197564276048,
                20.07236908231983,
                15.653621981681932,
                18.14367028127467,
                25.62221396731055,
                20.816248688852866,
                17.60515930310906,
                19.44645441389291,
                14.226179200606175,
                22.524330289956858,
                22.639890147614143,
                20.32682705401725,
                23.127035830618894,
                17.84669958295384,
                17.815201639098497,
                20.280565969282865,
                21.407072987208426,
                19.4242619332291,
                22.293623331685616,
                32.24398153922914,
                20.877399138268704
               ]
              ]
             },
             {
              "title.text": "Percentage of Population Diagnosed with Arthritis, Rheumatoid Arthritis, Gout, Lupus, or Fibromyalgia"
             }
            ],
            "label": "Arthritis",
            "method": "update"
           }
          ]
         }
        ]
       }
      },
      "text/html": [
       "<div>                            <div id=\"e02b07ce-d976-43d0-ba25-fcd831dd4a3a\" class=\"plotly-graph-div\" style=\"height:525px; width:100%;\"></div>            <script type=\"text/javascript\">                require([\"plotly\"], function(Plotly) {                    window.PLOTLYENV=window.PLOTLYENV || {};                                    if (document.getElementById(\"e02b07ce-d976-43d0-ba25-fcd831dd4a3a\")) {                    Plotly.newPlot(                        \"e02b07ce-d976-43d0-ba25-fcd831dd4a3a\",                        [{\"autocolorscale\":false,\"colorscale\":[[0.0,\"rgb(209, 238, 234)\"],[0.16666666666666666,\"rgb(168, 219, 217)\"],[0.3333333333333333,\"rgb(133, 196, 201)\"],[0.5,\"rgb(104, 171, 184)\"],[0.6666666666666666,\"rgb(79, 144, 166)\"],[0.8333333333333334,\"rgb(59, 115, 143)\"],[1.0,\"rgb(42, 86, 116)\"]],\"locationmode\":\"USA-states\",\"locations\":[\"AK\",\"AL\",\"AR\",\"AZ\",\"CA\",\"CO\",\"CT\",\"DC\",\"DE\",\"FL\",\"GA\",\"GU\",\"HI\",\"IA\",\"ID\",\"IL\",\"IN\",\"KS\",\"KY\",\"LA\",\"MA\",\"MD\",\"ME\",\"MI\",\"MN\",\"MO\",\"MS\",\"MT\",\"NC\",\"ND\",\"NE\",\"NH\",\"NM\",\"NV\",\"NY\",\"OH\",\"OK\",\"OR\",\"PA\",\"PR\",\"RI\",\"SC\",\"SD\",\"TN\",\"TX\",\"UT\",\"VA\",\"VT\",\"WA\",\"WI\",\"WV\",\"WY\"],\"marker\":{\"line\":{\"color\":\"white\"}},\"text\":[\"AK\",\"AL\",\"AR\",\"AZ\",\"CA\",\"CO\",\"CT\",\"DC\",\"DE\",\"FL\",\"GA\",\"GU\",\"HI\",\"IA\",\"ID\",\"IL\",\"IN\",\"KS\",\"KY\",\"LA\",\"MA\",\"MD\",\"ME\",\"MI\",\"MN\",\"MO\",\"MS\",\"MT\",\"NC\",\"ND\",\"NE\",\"NH\",\"NM\",\"NV\",\"NY\",\"OH\",\"OK\",\"OR\",\"PA\",\"PR\",\"RI\",\"SC\",\"SD\",\"TN\",\"TX\",\"UT\",\"VA\",\"VT\",\"WA\",\"WI\",\"WV\",\"WY\"],\"type\":\"choropleth\",\"z\":[3.503419972640219,4.745738225946258,4.4132089836315185,3.9517578791671406,3.752124891587164,3.475977775356793,3.3314849728291005,3.655564263322884,3.954893168029544,4.367600472079011,4.57302544491837,3.800753453327752,3.452508843180925,3.4634601430496526,3.9460720283635005,3.7745654162854527,4.0484393063583815,3.7332017583206243,4.607397959183674,5.0045622420160765,3.736988478347239,3.4497027625597387,3.579211919935374,4.3587756683456025,3.4442904290429044,4.070862859524802,4.587965730225145,3.910625,3.9738965353583295,2.543942992874109,3.2154277342505893,3.642077922077922,4.150194948296321,4.24,3.7620421113354485,4.328142889855736,4.17456154728733,4.241609617632326,4.197141979102643,3.583305340947262,4.026964047936085,3.8475329890992542,2.967250922509225,4.8390748031496065,3.8735622603767292,3.9979313911394585,3.7162134322208487,3.5845425867507887,3.7487496092528914,3.5359116022099446,5.301679212507238,3.0434207626184704]}],                        {\"font\":{\"color\":\"Black\"},\"geo\":{\"lakecolor\":\"rgb(255, 255, 255)\",\"projection\":{\"type\":\"albers usa\"},\"scope\":\"usa\",\"showlakes\":true},\"template\":{\"data\":{\"bar\":[{\"error_x\":{\"color\":\"#2a3f5f\"},\"error_y\":{\"color\":\"#2a3f5f\"},\"marker\":{\"line\":{\"color\":\"#E5ECF6\",\"width\":0.5},\"pattern\":{\"fillmode\":\"overlay\",\"size\":10,\"solidity\":0.2}},\"type\":\"bar\"}],\"barpolar\":[{\"marker\":{\"line\":{\"color\":\"#E5ECF6\",\"width\":0.5},\"pattern\":{\"fillmode\":\"overlay\",\"size\":10,\"solidity\":0.2}},\"type\":\"barpolar\"}],\"carpet\":[{\"aaxis\":{\"endlinecolor\":\"#2a3f5f\",\"gridcolor\":\"white\",\"linecolor\":\"white\",\"minorgridcolor\":\"white\",\"startlinecolor\":\"#2a3f5f\"},\"baxis\":{\"endlinecolor\":\"#2a3f5f\",\"gridcolor\":\"white\",\"linecolor\":\"white\",\"minorgridcolor\":\"white\",\"startlinecolor\":\"#2a3f5f\"},\"type\":\"carpet\"}],\"choropleth\":[{\"colorbar\":{\"outlinewidth\":0,\"ticks\":\"\"},\"type\":\"choropleth\"}],\"contour\":[{\"colorbar\":{\"outlinewidth\":0,\"ticks\":\"\"},\"colorscale\":[[0.0,\"#0d0887\"],[0.1111111111111111,\"#46039f\"],[0.2222222222222222,\"#7201a8\"],[0.3333333333333333,\"#9c179e\"],[0.4444444444444444,\"#bd3786\"],[0.5555555555555556,\"#d8576b\"],[0.6666666666666666,\"#ed7953\"],[0.7777777777777778,\"#fb9f3a\"],[0.8888888888888888,\"#fdca26\"],[1.0,\"#f0f921\"]],\"type\":\"contour\"}],\"contourcarpet\":[{\"colorbar\":{\"outlinewidth\":0,\"ticks\":\"\"},\"type\":\"contourcarpet\"}],\"heatmap\":[{\"colorbar\":{\"outlinewidth\":0,\"ticks\":\"\"},\"colorscale\":[[0.0,\"#0d0887\"],[0.1111111111111111,\"#46039f\"],[0.2222222222222222,\"#7201a8\"],[0.3333333333333333,\"#9c179e\"],[0.4444444444444444,\"#bd3786\"],[0.5555555555555556,\"#d8576b\"],[0.6666666666666666,\"#ed7953\"],[0.7777777777777778,\"#fb9f3a\"],[0.8888888888888888,\"#fdca26\"],[1.0,\"#f0f921\"]],\"type\":\"heatmap\"}],\"heatmapgl\":[{\"colorbar\":{\"outlinewidth\":0,\"ticks\":\"\"},\"colorscale\":[[0.0,\"#0d0887\"],[0.1111111111111111,\"#46039f\"],[0.2222222222222222,\"#7201a8\"],[0.3333333333333333,\"#9c179e\"],[0.4444444444444444,\"#bd3786\"],[0.5555555555555556,\"#d8576b\"],[0.6666666666666666,\"#ed7953\"],[0.7777777777777778,\"#fb9f3a\"],[0.8888888888888888,\"#fdca26\"],[1.0,\"#f0f921\"]],\"type\":\"heatmapgl\"}],\"histogram\":[{\"marker\":{\"pattern\":{\"fillmode\":\"overlay\",\"size\":10,\"solidity\":0.2}},\"type\":\"histogram\"}],\"histogram2d\":[{\"colorbar\":{\"outlinewidth\":0,\"ticks\":\"\"},\"colorscale\":[[0.0,\"#0d0887\"],[0.1111111111111111,\"#46039f\"],[0.2222222222222222,\"#7201a8\"],[0.3333333333333333,\"#9c179e\"],[0.4444444444444444,\"#bd3786\"],[0.5555555555555556,\"#d8576b\"],[0.6666666666666666,\"#ed7953\"],[0.7777777777777778,\"#fb9f3a\"],[0.8888888888888888,\"#fdca26\"],[1.0,\"#f0f921\"]],\"type\":\"histogram2d\"}],\"histogram2dcontour\":[{\"colorbar\":{\"outlinewidth\":0,\"ticks\":\"\"},\"colorscale\":[[0.0,\"#0d0887\"],[0.1111111111111111,\"#46039f\"],[0.2222222222222222,\"#7201a8\"],[0.3333333333333333,\"#9c179e\"],[0.4444444444444444,\"#bd3786\"],[0.5555555555555556,\"#d8576b\"],[0.6666666666666666,\"#ed7953\"],[0.7777777777777778,\"#fb9f3a\"],[0.8888888888888888,\"#fdca26\"],[1.0,\"#f0f921\"]],\"type\":\"histogram2dcontour\"}],\"mesh3d\":[{\"colorbar\":{\"outlinewidth\":0,\"ticks\":\"\"},\"type\":\"mesh3d\"}],\"parcoords\":[{\"line\":{\"colorbar\":{\"outlinewidth\":0,\"ticks\":\"\"}},\"type\":\"parcoords\"}],\"pie\":[{\"automargin\":true,\"type\":\"pie\"}],\"scatter\":[{\"marker\":{\"colorbar\":{\"outlinewidth\":0,\"ticks\":\"\"}},\"type\":\"scatter\"}],\"scatter3d\":[{\"line\":{\"colorbar\":{\"outlinewidth\":0,\"ticks\":\"\"}},\"marker\":{\"colorbar\":{\"outlinewidth\":0,\"ticks\":\"\"}},\"type\":\"scatter3d\"}],\"scattercarpet\":[{\"marker\":{\"colorbar\":{\"outlinewidth\":0,\"ticks\":\"\"}},\"type\":\"scattercarpet\"}],\"scattergeo\":[{\"marker\":{\"colorbar\":{\"outlinewidth\":0,\"ticks\":\"\"}},\"type\":\"scattergeo\"}],\"scattergl\":[{\"marker\":{\"colorbar\":{\"outlinewidth\":0,\"ticks\":\"\"}},\"type\":\"scattergl\"}],\"scattermapbox\":[{\"marker\":{\"colorbar\":{\"outlinewidth\":0,\"ticks\":\"\"}},\"type\":\"scattermapbox\"}],\"scatterpolar\":[{\"marker\":{\"colorbar\":{\"outlinewidth\":0,\"ticks\":\"\"}},\"type\":\"scatterpolar\"}],\"scatterpolargl\":[{\"marker\":{\"colorbar\":{\"outlinewidth\":0,\"ticks\":\"\"}},\"type\":\"scatterpolargl\"}],\"scatterternary\":[{\"marker\":{\"colorbar\":{\"outlinewidth\":0,\"ticks\":\"\"}},\"type\":\"scatterternary\"}],\"surface\":[{\"colorbar\":{\"outlinewidth\":0,\"ticks\":\"\"},\"colorscale\":[[0.0,\"#0d0887\"],[0.1111111111111111,\"#46039f\"],[0.2222222222222222,\"#7201a8\"],[0.3333333333333333,\"#9c179e\"],[0.4444444444444444,\"#bd3786\"],[0.5555555555555556,\"#d8576b\"],[0.6666666666666666,\"#ed7953\"],[0.7777777777777778,\"#fb9f3a\"],[0.8888888888888888,\"#fdca26\"],[1.0,\"#f0f921\"]],\"type\":\"surface\"}],\"table\":[{\"cells\":{\"fill\":{\"color\":\"#EBF0F8\"},\"line\":{\"color\":\"white\"}},\"header\":{\"fill\":{\"color\":\"#C8D4E3\"},\"line\":{\"color\":\"white\"}},\"type\":\"table\"}]},\"layout\":{\"annotationdefaults\":{\"arrowcolor\":\"#2a3f5f\",\"arrowhead\":0,\"arrowwidth\":1},\"autotypenumbers\":\"strict\",\"coloraxis\":{\"colorbar\":{\"outlinewidth\":0,\"ticks\":\"\"}},\"colorscale\":{\"diverging\":[[0,\"#8e0152\"],[0.1,\"#c51b7d\"],[0.2,\"#de77ae\"],[0.3,\"#f1b6da\"],[0.4,\"#fde0ef\"],[0.5,\"#f7f7f7\"],[0.6,\"#e6f5d0\"],[0.7,\"#b8e186\"],[0.8,\"#7fbc41\"],[0.9,\"#4d9221\"],[1,\"#276419\"]],\"sequential\":[[0.0,\"#0d0887\"],[0.1111111111111111,\"#46039f\"],[0.2222222222222222,\"#7201a8\"],[0.3333333333333333,\"#9c179e\"],[0.4444444444444444,\"#bd3786\"],[0.5555555555555556,\"#d8576b\"],[0.6666666666666666,\"#ed7953\"],[0.7777777777777778,\"#fb9f3a\"],[0.8888888888888888,\"#fdca26\"],[1.0,\"#f0f921\"]],\"sequentialminus\":[[0.0,\"#0d0887\"],[0.1111111111111111,\"#46039f\"],[0.2222222222222222,\"#7201a8\"],[0.3333333333333333,\"#9c179e\"],[0.4444444444444444,\"#bd3786\"],[0.5555555555555556,\"#d8576b\"],[0.6666666666666666,\"#ed7953\"],[0.7777777777777778,\"#fb9f3a\"],[0.8888888888888888,\"#fdca26\"],[1.0,\"#f0f921\"]]},\"colorway\":[\"#636efa\",\"#EF553B\",\"#00cc96\",\"#ab63fa\",\"#FFA15A\",\"#19d3f3\",\"#FF6692\",\"#B6E880\",\"#FF97FF\",\"#FECB52\"],\"font\":{\"color\":\"#2a3f5f\"},\"geo\":{\"bgcolor\":\"white\",\"lakecolor\":\"white\",\"landcolor\":\"#E5ECF6\",\"showlakes\":true,\"showland\":true,\"subunitcolor\":\"white\"},\"hoverlabel\":{\"align\":\"left\"},\"hovermode\":\"closest\",\"mapbox\":{\"style\":\"light\"},\"paper_bgcolor\":\"white\",\"plot_bgcolor\":\"#E5ECF6\",\"polar\":{\"angularaxis\":{\"gridcolor\":\"white\",\"linecolor\":\"white\",\"ticks\":\"\"},\"bgcolor\":\"#E5ECF6\",\"radialaxis\":{\"gridcolor\":\"white\",\"linecolor\":\"white\",\"ticks\":\"\"}},\"scene\":{\"xaxis\":{\"backgroundcolor\":\"#E5ECF6\",\"gridcolor\":\"white\",\"gridwidth\":2,\"linecolor\":\"white\",\"showbackground\":true,\"ticks\":\"\",\"zerolinecolor\":\"white\"},\"yaxis\":{\"backgroundcolor\":\"#E5ECF6\",\"gridcolor\":\"white\",\"gridwidth\":2,\"linecolor\":\"white\",\"showbackground\":true,\"ticks\":\"\",\"zerolinecolor\":\"white\"},\"zaxis\":{\"backgroundcolor\":\"#E5ECF6\",\"gridcolor\":\"white\",\"gridwidth\":2,\"linecolor\":\"white\",\"showbackground\":true,\"ticks\":\"\",\"zerolinecolor\":\"white\"}},\"shapedefaults\":{\"line\":{\"color\":\"#2a3f5f\"}},\"ternary\":{\"aaxis\":{\"gridcolor\":\"white\",\"linecolor\":\"white\",\"ticks\":\"\"},\"baxis\":{\"gridcolor\":\"white\",\"linecolor\":\"white\",\"ticks\":\"\"},\"bgcolor\":\"#E5ECF6\",\"caxis\":{\"gridcolor\":\"white\",\"linecolor\":\"white\",\"ticks\":\"\"}},\"title\":{\"x\":0.05},\"xaxis\":{\"automargin\":true,\"gridcolor\":\"white\",\"linecolor\":\"white\",\"ticks\":\"\",\"title\":{\"standoff\":15},\"zerolinecolor\":\"white\",\"zerolinewidth\":2},\"yaxis\":{\"automargin\":true,\"gridcolor\":\"white\",\"linecolor\":\"white\",\"ticks\":\"\",\"title\":{\"standoff\":15},\"zerolinecolor\":\"white\",\"zerolinewidth\":2}}},\"title\":{\"font\":{\"size\":20},\"text\":\"Average Number of Bad Mental Health Days per Month\",\"x\":0.5,\"xanchor\":\"center\",\"y\":0.9,\"yanchor\":\"top\"},\"updatemenus\":[{\"active\":0,\"bgcolor\":\"rgb(204,234,231)\",\"bordercolor\":\"white\",\"buttons\":[{\"args\":[{\"locations\":[[\"AK\",\"AL\",\"AR\",\"AZ\",\"CA\",\"CO\",\"CT\",\"DC\",\"DE\",\"FL\",\"GA\",\"GU\",\"HI\",\"IA\",\"ID\",\"IL\",\"IN\",\"KS\",\"KY\",\"LA\",\"MA\",\"MD\",\"ME\",\"MI\",\"MN\",\"MO\",\"MS\",\"MT\",\"NC\",\"ND\",\"NE\",\"NH\",\"NM\",\"NV\",\"NY\",\"OH\",\"OK\",\"OR\",\"PA\",\"PR\",\"RI\",\"SC\",\"SD\",\"TN\",\"TX\",\"UT\",\"VA\",\"VT\",\"WA\",\"WI\",\"WV\",\"WY\"]],\"marker_line_color\":[\"white\"],\"text\":[[\"AK\",\"AL\",\"AR\",\"AZ\",\"CA\",\"CO\",\"CT\",\"DC\",\"DE\",\"FL\",\"GA\",\"GU\",\"HI\",\"IA\",\"ID\",\"IL\",\"IN\",\"KS\",\"KY\",\"LA\",\"MA\",\"MD\",\"ME\",\"MI\",\"MN\",\"MO\",\"MS\",\"MT\",\"NC\",\"ND\",\"NE\",\"NH\",\"NM\",\"NV\",\"NY\",\"OH\",\"OK\",\"OR\",\"PA\",\"PR\",\"RI\",\"SC\",\"SD\",\"TN\",\"TX\",\"UT\",\"VA\",\"VT\",\"WA\",\"WI\",\"WV\",\"WY\"]],\"z\":[[3.503419972640219,4.745738225946258,4.4132089836315185,3.9517578791671406,3.752124891587164,3.475977775356793,3.3314849728291005,3.655564263322884,3.954893168029544,4.367600472079011,4.57302544491837,3.800753453327752,3.452508843180925,3.4634601430496526,3.9460720283635005,3.7745654162854527,4.0484393063583815,3.7332017583206243,4.607397959183674,5.0045622420160765,3.736988478347239,3.4497027625597387,3.579211919935374,4.3587756683456025,3.4442904290429044,4.070862859524802,4.587965730225145,3.910625,3.9738965353583295,2.543942992874109,3.2154277342505893,3.642077922077922,4.150194948296321,4.24,3.7620421113354485,4.328142889855736,4.17456154728733,4.241609617632326,4.197141979102643,3.583305340947262,4.026964047936085,3.8475329890992542,2.967250922509225,4.8390748031496065,3.8735622603767292,3.9979313911394585,3.7162134322208487,3.5845425867507887,3.7487496092528914,3.5359116022099446,5.301679212507238,3.0434207626184704]]},{\"coloraxis_colorbar\":\"Bad Mental Health Days\",\"title.text\":\"Days of Reported Bad Mental Health per Month on Average\"}],\"label\":\"Mental Health\",\"method\":\"update\"},{\"args\":[{\"locations\":[[\"AK\",\"AL\",\"AR\",\"AZ\",\"CA\",\"CO\",\"CT\",\"DC\",\"DE\",\"FL\",\"GA\",\"GU\",\"HI\",\"IA\",\"ID\",\"IL\",\"IN\",\"KS\",\"KY\",\"LA\",\"MA\",\"MD\",\"ME\",\"MI\",\"MN\",\"MO\",\"MS\",\"MT\",\"NC\",\"ND\",\"NE\",\"NH\",\"NM\",\"NV\",\"NY\",\"OH\",\"OK\",\"OR\",\"PA\",\"PR\",\"RI\",\"SC\",\"SD\",\"TN\",\"TX\",\"UT\",\"VA\",\"VT\",\"WA\",\"WI\",\"WV\",\"WY\"]],\"marker_line_color\":[\"white\"],\"text\":[[\"AK\",\"AL\",\"AR\",\"AZ\",\"CA\",\"CO\",\"CT\",\"DC\",\"DE\",\"FL\",\"GA\",\"GU\",\"HI\",\"IA\",\"ID\",\"IL\",\"IN\",\"KS\",\"KY\",\"LA\",\"MA\",\"MD\",\"ME\",\"MI\",\"MN\",\"MO\",\"MS\",\"MT\",\"NC\",\"ND\",\"NE\",\"NH\",\"NM\",\"NV\",\"NY\",\"OH\",\"OK\",\"OR\",\"PA\",\"PR\",\"RI\",\"SC\",\"SD\",\"TN\",\"TX\",\"UT\",\"VA\",\"VT\",\"WA\",\"WI\",\"WV\",\"WY\"]],\"z\":[[4.107839780896953,5.436202641892873,6.019456752070892,4.907322654462242,4.073791789364282,3.7985587946282346,3.894953770747466,3.871744277821626,4.64420270628814,5.393578038631141,5.204792708027051,3.959157894736842,3.911405696285602,3.645060441850771,4.768450704225352,3.9475614228089477,4.814939591078067,3.961448387677896,5.687064291247095,5.000653452406883,3.842817349781138,4.119578577699737,4.861751152073733,4.639352211016292,3.493147964250248,4.949418523189015,5.11231884057971,4.565715181932246,4.19536661093862,3.803080308030803,3.8375446656457375,4.227138129245776,4.942356742050672,4.544428259286234,4.317682971146159,5.186644228562686,5.032719500164419,4.40050209205021,4.438269704433497,6.351661325687299,4.7359184355674415,4.9114749348015065,3.8976377952755907,5.557602921646747,4.593194770365404,3.9788391777509067,4.302032813951088,4.2008843967150975,4.40125441003528,4.100102564102564,6.392753342375508,4.050663716814159]]},{\"coloraxis_colorbar\":\"Bad Physical Health Days\",\"title.text\":\"Days of Reported Bad Physical Health per Month on Average\"}],\"label\":\"Physical Health\",\"method\":\"update\"},{\"args\":[{\"colorbar_title\":[\"% Overweight or Obese\"],\"locations\":[[\"AK\",\"AL\",\"AR\",\"AZ\",\"CA\",\"CO\",\"CT\",\"DC\",\"DE\",\"FL\",\"GA\",\"GU\",\"HI\",\"IA\",\"ID\",\"IL\",\"IN\",\"KS\",\"KY\",\"LA\",\"MA\",\"MD\",\"ME\",\"MI\",\"MN\",\"MO\",\"MS\",\"MT\",\"NC\",\"ND\",\"NE\",\"NH\",\"NM\",\"NV\",\"NY\",\"OH\",\"OK\",\"OR\",\"PA\",\"PR\",\"RI\",\"SC\",\"SD\",\"TN\",\"TX\",\"UT\",\"VA\",\"VT\",\"WA\",\"WI\",\"WV\",\"WY\"]],\"marker_line_color\":[\"white\"],\"text\":[[\"AK\",\"AL\",\"AR\",\"AZ\",\"CA\",\"CO\",\"CT\",\"DC\",\"DE\",\"FL\",\"GA\",\"GU\",\"HI\",\"IA\",\"ID\",\"IL\",\"IN\",\"KS\",\"KY\",\"LA\",\"MA\",\"MD\",\"ME\",\"MI\",\"MN\",\"MO\",\"MS\",\"MT\",\"NC\",\"ND\",\"NE\",\"NH\",\"NM\",\"NV\",\"NY\",\"OH\",\"OK\",\"OR\",\"PA\",\"PR\",\"RI\",\"SC\",\"SD\",\"TN\",\"TX\",\"UT\",\"VA\",\"VT\",\"WA\",\"WI\",\"WV\",\"WY\"]],\"z\":[[80.17563117453348,83.07333691949077,82.00886971113508,79.43126565492854,78.14431798486336,75.3658712421599,79.4570532000292,75.97589730154571,82.82515073212748,80.0635803695609,80.95676172953083,80.11588095865157,73.15766738660908,82.48750986063634,79.20039244542556,79.79610750695088,82.45729785206363,82.642649489825,84.992684992685,83.45986984815619,76.2963638020596,81.43054673194065,79.87591198942954,82.85697308217956,80.69864574104544,81.62618796198521,85.0661167050831,80.20616513033997,82.53679259596419,83.97802444220204,83.55432416386306,80.41237113402062,79.52747371843503,79.57992998833139,79.03658303007087,83.38590461842662,83.83185125303153,79.2206378578426,81.24213988584695,82.92882744495648,78.99457424426974,82.20760753643796,83.1090047393365,82.74080198429102,82.07501995211493,79.39508506616257,81.14721747138535,76.4172813487882,79.20546244568591,82.85311819695224,84.84358767170725,78.9939581284249]]},{\"title.text\":\"Percentage of Population Obese or Overweight<br> Adults Who Have A Body Mass Index Greater than 25.00\"}],\"label\":\"BMI\",\"method\":\"update\"},{\"args\":[{\"colorbar_title\":[\"% Experienced Cardiovascular Attack\"],\"locations\":[[\"AK\",\"AL\",\"AR\",\"AZ\",\"CA\",\"CO\",\"CT\",\"DC\",\"DE\",\"FL\",\"GA\",\"GU\",\"HI\",\"IA\",\"ID\",\"IL\",\"IN\",\"KS\",\"KY\",\"LA\",\"MA\",\"MD\",\"ME\",\"MI\",\"MN\",\"MO\",\"MS\",\"MT\",\"NC\",\"ND\",\"NE\",\"NH\",\"NM\",\"NV\",\"NY\",\"OH\",\"OK\",\"OR\",\"PA\",\"PR\",\"RI\",\"SC\",\"SD\",\"TN\",\"TX\",\"UT\",\"VA\",\"VT\",\"WA\",\"WI\",\"WV\",\"WY\"]],\"marker_line_color\":[\"white\"],\"text\":[[\"AK\",\"AL\",\"AR\",\"AZ\",\"CA\",\"CO\",\"CT\",\"DC\",\"DE\",\"FL\",\"GA\",\"GU\",\"HI\",\"IA\",\"ID\",\"IL\",\"IN\",\"KS\",\"KY\",\"LA\",\"MA\",\"MD\",\"ME\",\"MI\",\"MN\",\"MO\",\"MS\",\"MT\",\"NC\",\"ND\",\"NE\",\"NH\",\"NM\",\"NV\",\"NY\",\"OH\",\"OK\",\"OR\",\"PA\",\"PR\",\"RI\",\"SC\",\"SD\",\"TN\",\"TX\",\"UT\",\"VA\",\"VT\",\"WA\",\"WI\",\"WV\",\"WY\"]],\"z\":[[4.5478489903424055,8.242517267843438,9.793075189510347,6.503871351995235,4.161808233922325,4.135464401475355,4.983959670027498,5.381526104417671,6.214227309893704,7.765139480205884,6.928389676481279,4.614057783527382,4.665259143226861,5.613014436543848,5.7675586899816444,4.900561423541726,7.311776061776062,5.420318078545927,8.563648740639891,6.693803708729082,4.948075748320098,6.200463358127058,7.673372781065089,6.349848331648129,4.840940525587828,7.744505089246202,7.881721561612123,5.962965984174892,6.126995915336057,6.290214155382695,5.870972046167189,5.799457994579946,5.434974413269807,5.404892850369809,5.657015590200445,8.15388917742,7.9216354344122655,5.0081608109268965,5.400877542879936,6.187835577854062,5.938448201127005,7.790934459612338,6.088487078966318,7.602137562489226,6.569026778750325,4.169611307420495,6.013315579227696,5.913228901828918,5.591223080048761,5.318017443097213,10.345545378850957,6.253585771658061]]},{\"title.text\":\"Percentage of Population who have been Diagnosed with Cardiovascular Disease <br> This includes those who have experienced at least one of the following:<br> Heart Attack, Heart Disease, Stroke\"}],\"label\":\"Cardiovasc Disease\",\"method\":\"update\"},{\"args\":[{\"colorbar_title\":[\"% with Asthma\"],\"locations\":[[\"AK\",\"AL\",\"AR\",\"AZ\",\"CA\",\"CO\",\"CT\",\"DC\",\"DE\",\"FL\",\"GA\",\"GU\",\"HI\",\"IA\",\"ID\",\"IL\",\"IN\",\"KS\",\"KY\",\"LA\",\"MA\",\"MD\",\"ME\",\"MI\",\"MN\",\"MO\",\"MS\",\"MT\",\"NC\",\"ND\",\"NE\",\"NH\",\"NM\",\"NV\",\"NY\",\"OH\",\"OK\",\"OR\",\"PA\",\"PR\",\"RI\",\"SC\",\"SD\",\"TN\",\"TX\",\"UT\",\"VA\",\"VT\",\"WA\",\"WI\",\"WV\",\"WY\"]],\"marker_line_color\":[\"white\"],\"text\":[[\"AK\",\"AL\",\"AR\",\"AZ\",\"CA\",\"CO\",\"CT\",\"DC\",\"DE\",\"FL\",\"GA\",\"GU\",\"HI\",\"IA\",\"ID\",\"IL\",\"IN\",\"KS\",\"KY\",\"LA\",\"MA\",\"MD\",\"ME\",\"MI\",\"MN\",\"MO\",\"MS\",\"MT\",\"NC\",\"ND\",\"NE\",\"NH\",\"NM\",\"NV\",\"NY\",\"OH\",\"OK\",\"OR\",\"PA\",\"PR\",\"RI\",\"SC\",\"SD\",\"TN\",\"TX\",\"UT\",\"VA\",\"VT\",\"WA\",\"WI\",\"WV\",\"WY\"]],\"z\":[[7.4227921256998375,7.628865979381444,7.260891337005508,8.194141854272573,8.29059031987317,7.720779596321786,7.890859803170487,8.860232945091514,7.802988378527947,7.07989764003412,7.233484030917311,5.685035939882378,8.28752642706131,5.896341133870183,7.485265225933202,7.049912604389202,7.297639886521398,7.2956509420597815,7.562571679147271,8.002289639381797,8.032465715085362,7.4392915548150205,7.99809795530195,8.399071925754061,6.839046865866657,7.477185752134236,7.365112624410687,7.660421157353673,7.12143928035982,5.6016795495753415,5.9039482027834325,7.927728613569322,7.1018651362984215,7.671445176288261,7.905918057663126,7.656797198344476,7.867847411444142,8.802848242100579,8.316929133858268,10.104974897307166,8.83505521909512,7.475932611311673,5.803464516644049,8.494913485783846,7.156555090655509,8.226221079691516,7.5750202757502025,8.408231835363292,8.791623036649215,6.982274102896671,8.449263502454992,6.338998621956821]]},{\"title.text\":\"Percentage of Population who been Diagnosed with have Asthma\"}],\"label\":\"Asthma\",\"method\":\"update\"},{\"args\":[{\"colorbar_title\":[\"% Experienced Cancer\"],\"locations\":[[\"AK\",\"AL\",\"AR\",\"AZ\",\"CA\",\"CO\",\"CT\",\"DC\",\"DE\",\"FL\",\"GA\",\"GU\",\"HI\",\"IA\",\"ID\",\"IL\",\"IN\",\"KS\",\"KY\",\"LA\",\"MA\",\"MD\",\"ME\",\"MI\",\"MN\",\"MO\",\"MS\",\"MT\",\"NC\",\"ND\",\"NE\",\"NH\",\"NM\",\"NV\",\"NY\",\"OH\",\"OK\",\"OR\",\"PA\",\"PR\",\"RI\",\"SC\",\"SD\",\"TN\",\"TX\",\"UT\",\"VA\",\"VT\",\"WA\",\"WI\",\"WV\",\"WY\"]],\"marker_line_color\":[\"white\"],\"text\":[[\"AK\",\"AL\",\"AR\",\"AZ\",\"CA\",\"CO\",\"CT\",\"DC\",\"DE\",\"FL\",\"GA\",\"GU\",\"HI\",\"IA\",\"ID\",\"IL\",\"IN\",\"KS\",\"KY\",\"LA\",\"MA\",\"MD\",\"ME\",\"MI\",\"MN\",\"MO\",\"MS\",\"MT\",\"NC\",\"ND\",\"NE\",\"NH\",\"NM\",\"NV\",\"NY\",\"OH\",\"OK\",\"OR\",\"PA\",\"PR\",\"RI\",\"SC\",\"SD\",\"TN\",\"TX\",\"UT\",\"VA\",\"VT\",\"WA\",\"WI\",\"WV\",\"WY\"]],\"z\":[[6.836533285483582,11.116363349877885,12.324460280863551,12.479557177003397,7.249722940524566,10.077977315689981,10.317842523477005,7.82823094308609,9.976012417101735,12.954575729319302,9.142178688037994,3.4100596760443307,7.807786741494213,9.019128113879004,9.68840797515279,7.279096924873492,9.897442234029407,9.465575349061146,10.351508441738167,8.235833906859371,9.419007855070413,11.267965506228043,12.420303464636978,10.40780979373327,8.078595026951835,10.725384673690593,8.440871588745505,10.010162601626016,9.02848423194303,10.392978256533015,9.823869338039378,11.457936810049485,9.52250022912657,8.512299882858258,8.331113225499525,10.987208920957691,9.687472946065276,8.958017648631785,8.170951367283445,3.955191727703576,10.979929161747343,11.839737068628217,9.840954274353876,9.846018477782666,9.31152495666474,9.053916581892167,9.754618141714916,10.84027122135439,10.29243240949026,9.317730183263414,11.92989864864865,11.889801836636057]]},{\"title.text\":\"Percentage of Population who have Ever been Diagnosed with Cancer\"}],\"label\":\"Cancer\",\"method\":\"update\"},{\"args\":[{\"colorbar_title\":[\"% With Diabetes\"],\"locations\":[[\"AK\",\"AL\",\"AR\",\"AZ\",\"CA\",\"CO\",\"CT\",\"DC\",\"DE\",\"FL\",\"GA\",\"GU\",\"HI\",\"IA\",\"ID\",\"IL\",\"IN\",\"KS\",\"KY\",\"LA\",\"MA\",\"MD\",\"ME\",\"MI\",\"MN\",\"MO\",\"MS\",\"MT\",\"NC\",\"ND\",\"NE\",\"NH\",\"NM\",\"NV\",\"NY\",\"OH\",\"OK\",\"OR\",\"PA\",\"PR\",\"RI\",\"SC\",\"SD\",\"TN\",\"TX\",\"UT\",\"VA\",\"VT\",\"WA\",\"WI\",\"WV\",\"WY\"]],\"marker_line_color\":[\"white\"],\"text\":[[\"AK\",\"AL\",\"AR\",\"AZ\",\"CA\",\"CO\",\"CT\",\"DC\",\"DE\",\"FL\",\"GA\",\"GU\",\"HI\",\"IA\",\"ID\",\"IL\",\"IN\",\"KS\",\"KY\",\"LA\",\"MA\",\"MD\",\"ME\",\"MI\",\"MN\",\"MO\",\"MS\",\"MT\",\"NC\",\"ND\",\"NE\",\"NH\",\"NM\",\"NV\",\"NY\",\"OH\",\"OK\",\"OR\",\"PA\",\"PR\",\"RI\",\"SC\",\"SD\",\"TN\",\"TX\",\"UT\",\"VA\",\"VT\",\"WA\",\"WI\",\"WV\",\"WY\"]],\"z\":[[6.767187219529707,11.320009479421755,11.923920994879298,9.4092439546985,8.808921375691126,6.508808053077099,7.850874609812121,8.54417254251348,9.705592336948866,10.27818448023426,10.602754157573933,11.009384298466468,9.088327179778473,8.023159636062863,8.496084068603153,8.067836486618958,10.269934843313683,8.64327373553877,11.28018986458188,9.878844361602983,7.294706127553147,10.02370791844476,9.678354100260794,8.832056326361565,7.1098544927936,10.022607385079127,12.349199385830225,7.111037782544135,9.588340577857325,8.747788480440338,8.552271483305965,7.829771554900516,9.616443384107175,7.883495145631068,8.48401617456321,11.187805579522577,10.361655773420479,7.643536456498767,8.093952041901955,13.685202639019792,8.96921017402945,11.379579111457522,8.737386167856263,11.18638024779392,10.557553956834532,7.623482151008856,9.604893370805092,7.013762228486155,7.839229363893041,7.063277447268794,12.870232260813978,7.674418604651163]]},{\"title.text\":\"Percentage of Population Diagnosed with Diabetes, Pre-Diabetes or Borderline Diabetes\"}],\"label\":\"Diabetes\",\"method\":\"update\"},{\"args\":[{\"colorbar_title\":[\"% with Depressive Disorder\"],\"locations\":[[\"AK\",\"AL\",\"AR\",\"AZ\",\"CA\",\"CO\",\"CT\",\"DC\",\"DE\",\"FL\",\"GA\",\"GU\",\"HI\",\"IA\",\"ID\",\"IL\",\"IN\",\"KS\",\"KY\",\"LA\",\"MA\",\"MD\",\"ME\",\"MI\",\"MN\",\"MO\",\"MS\",\"MT\",\"NC\",\"ND\",\"NE\",\"NH\",\"NM\",\"NV\",\"NY\",\"OH\",\"OK\",\"OR\",\"PA\",\"PR\",\"RI\",\"SC\",\"SD\",\"TN\",\"TX\",\"UT\",\"VA\",\"VT\",\"WA\",\"WI\",\"WV\",\"WY\"]],\"marker_line_color\":[\"white\"],\"text\":[[\"AK\",\"AL\",\"AR\",\"AZ\",\"CA\",\"CO\",\"CT\",\"DC\",\"DE\",\"FL\",\"GA\",\"GU\",\"HI\",\"IA\",\"ID\",\"IL\",\"IN\",\"KS\",\"KY\",\"LA\",\"MA\",\"MD\",\"ME\",\"MI\",\"MN\",\"MO\",\"MS\",\"MT\",\"NC\",\"ND\",\"NE\",\"NH\",\"NM\",\"NV\",\"NY\",\"OH\",\"OK\",\"OR\",\"PA\",\"PR\",\"RI\",\"SC\",\"SD\",\"TN\",\"TX\",\"UT\",\"VA\",\"VT\",\"WA\",\"WI\",\"WV\",\"WY\"]],\"z\":[[9.22454979786843,12.927024859663192,12.531539108494533,9.274440230025695,8.587464920486436,8.932436384907868,7.9728533490705225,10.210970464135022,9.953409572215163,10.288896850470637,10.262565641410353,5.93886462882096,7.524322810947015,8.27159128607763,11.827296910169839,9.892301555644197,10.88218767559468,9.994670800833292,13.706742775597574,13.378248315688161,9.985734664764623,8.51939628289884,11.837499383720356,11.804151144225653,11.117474407616866,11.957022256331543,11.263169327685457,12.553136115207773,12.071222833202409,8.078538634365536,7.942127659574468,10.398188337422155,9.303814838532613,9.564188522973772,9.195755805013071,11.189702677139449,12.359151805518588,13.984513480735144,10.849848841115216,10.23765996343693,11.119205901101903,10.149622088539257,7.95176796480365,14.613970588235293,10.297154143100817,12.227885485638069,9.886709035645206,10.910497807583182,13.186813186813186,10.155902004454344,15.181194906953968,8.744710860366714]]},{\"title.text\":\"Percentage of Population Ever Diagnosed with Depressive Disorder <br> Including Depression, Major Depression, Dysthymia, or Minor Depression)\"}],\"label\":\"Depressive\",\"method\":\"update\"},{\"args\":[{\"colorbar_title\":[\"% with Kidney Disease\"],\"locations\":[[\"AK\",\"AL\",\"AR\",\"AZ\",\"CA\",\"CO\",\"CT\",\"DC\",\"DE\",\"FL\",\"GA\",\"GU\",\"HI\",\"IA\",\"ID\",\"IL\",\"IN\",\"KS\",\"KY\",\"LA\",\"MA\",\"MD\",\"ME\",\"MI\",\"MN\",\"MO\",\"MS\",\"MT\",\"NC\",\"ND\",\"NE\",\"NH\",\"NM\",\"NV\",\"NY\",\"OH\",\"OK\",\"OR\",\"PA\",\"PR\",\"RI\",\"SC\",\"SD\",\"TN\",\"TX\",\"UT\",\"VA\",\"VT\",\"WA\",\"WI\",\"WV\",\"WY\"]],\"marker_line_color\":[\"white\"],\"text\":[[\"AK\",\"AL\",\"AR\",\"AZ\",\"CA\",\"CO\",\"CT\",\"DC\",\"DE\",\"FL\",\"GA\",\"GU\",\"HI\",\"IA\",\"ID\",\"IL\",\"IN\",\"KS\",\"KY\",\"LA\",\"MA\",\"MD\",\"ME\",\"MI\",\"MN\",\"MO\",\"MS\",\"MT\",\"NC\",\"ND\",\"NE\",\"NH\",\"NM\",\"NV\",\"NY\",\"OH\",\"OK\",\"OR\",\"PA\",\"PR\",\"RI\",\"SC\",\"SD\",\"TN\",\"TX\",\"UT\",\"VA\",\"VT\",\"WA\",\"WI\",\"WV\",\"WY\"]],\"z\":[[1.48489503328213,2.219965177016831,2.9208301306687163,2.6766226306720275,1.7840704861263315,1.2721539632488854,1.693973896139961,1.5718998641568018,2.5546484066368187,2.4792888673882807,2.5959525471039777,1.9550136640739961,1.700972930041697,1.4809444904722453,1.8811696777798472,1.6692797196347875,2.461520724044503,1.7008325127562438,2.6198905696813646,2.466051059206953,1.445466491458607,2.1176746641637827,2.099348168127669,2.335766423357664,1.5788957536530352,2.0556565515312544,1.960003979703512,1.6041943814069959,2.011186481018684,2.009957588050894,1.474397927527425,1.6498784300104203,2.2070145423438836,2.056555269922879,1.7309205350118018,2.5001894082885068,2.4832160478848175,1.798800799467022,1.764660553286584,1.8319966230476994,1.749708381936344,2.035568887936576,2.032332563510393,2.4386238607439035,2.2371922821024617,1.6339728389739168,1.9215987701767872,1.4618044640050298,1.879242025971988,1.9466474405191059,2.9920341946765108,1.5462221734839345]]},{\"title.text\":\"Percentage of Population Diagnosed with Kidney Disease <br> Not Including Kidney Stones, Bladder Infection or Incontinence\"}],\"label\":\"Kidney Disease\",\"method\":\"update\"},{\"args\":[{\"colorbar_title\":[\"% with Arthritis\"],\"locations\":[[\"AK\",\"AL\",\"AR\",\"AZ\",\"CA\",\"CO\",\"CT\",\"DC\",\"DE\",\"FL\",\"GA\",\"GU\",\"HI\",\"IA\",\"ID\",\"IL\",\"IN\",\"KS\",\"KY\",\"LA\",\"MA\",\"MD\",\"ME\",\"MI\",\"MN\",\"MO\",\"MS\",\"MT\",\"NC\",\"ND\",\"NE\",\"NH\",\"NM\",\"NV\",\"NY\",\"OH\",\"OK\",\"OR\",\"PA\",\"PR\",\"RI\",\"SC\",\"SD\",\"TN\",\"TX\",\"UT\",\"VA\",\"VT\",\"WA\",\"WI\",\"WV\",\"WY\"]],\"marker_line_color\":[\"white\"],\"text\":[[\"AK\",\"AL\",\"AR\",\"AZ\",\"CA\",\"CO\",\"CT\",\"DC\",\"DE\",\"FL\",\"GA\",\"GU\",\"HI\",\"IA\",\"ID\",\"IL\",\"IN\",\"KS\",\"KY\",\"LA\",\"MA\",\"MD\",\"ME\",\"MI\",\"MN\",\"MO\",\"MS\",\"MT\",\"NC\",\"ND\",\"NE\",\"NH\",\"NM\",\"NV\",\"NY\",\"OH\",\"OK\",\"OR\",\"PA\",\"PR\",\"RI\",\"SC\",\"SD\",\"TN\",\"TX\",\"UT\",\"VA\",\"VT\",\"WA\",\"WI\",\"WV\",\"WY\"]],\"z\":[[17.875544986127625,27.103815279155768,26.872037914691944,20.258359685124134,13.124817304881613,17.38308332282869,19.389551946781452,16.053215077605323,20.092521202775636,20.899036746343203,19.95757180156658,11.514594346127327,14.989149143156476,18.799272286234082,19.384413883431566,16.95310842350944,20.964117927418805,18.77482751411248,26.690504568931267,19.427558257345492,17.534246575342465,22.110358859227556,24.900968309859156,23.10665963802495,14.738358137301969,22.647849462365592,23.21750631237225,21.274409044193217,18.050392399834777,21.895316804407713,18.537059175134488,21.786197564276048,20.07236908231983,15.653621981681932,18.14367028127467,25.62221396731055,20.816248688852866,17.60515930310906,19.44645441389291,14.226179200606175,22.524330289956858,22.639890147614143,20.32682705401725,23.127035830618894,17.84669958295384,17.815201639098497,20.280565969282865,21.407072987208426,19.4242619332291,22.293623331685616,32.24398153922914,20.877399138268704]]},{\"title.text\":\"Percentage of Population Diagnosed with Arthritis, Rheumatoid Arthritis, Gout, Lupus, or Fibromyalgia\"}],\"label\":\"Arthritis\",\"method\":\"update\"}]}]},                        {\"responsive\": true}                    ).then(function(){\n",
       "                            \n",
       "var gd = document.getElementById('e02b07ce-d976-43d0-ba25-fcd831dd4a3a');\n",
       "var x = new MutationObserver(function (mutations, observer) {{\n",
       "        var display = window.getComputedStyle(gd).display;\n",
       "        if (!display || display === 'none') {{\n",
       "            console.log([gd, 'removed!']);\n",
       "            Plotly.purge(gd);\n",
       "            observer.disconnect();\n",
       "        }}\n",
       "}});\n",
       "\n",
       "// Listen for the removal of the full notebook cells\n",
       "var notebookContainer = gd.closest('#notebook-container');\n",
       "if (notebookContainer) {{\n",
       "    x.observe(notebookContainer, {childList: true});\n",
       "}}\n",
       "\n",
       "// Listen for the clearing of the current output cell\n",
       "var outputEl = gd.closest('.output');\n",
       "if (outputEl) {{\n",
       "    x.observe(outputEl, {childList: true});\n",
       "}}\n",
       "\n",
       "                        })                };                });            </script>        </div>"
      ]
     },
     "metadata": {},
     "output_type": "display_data"
    }
   ],
   "source": [
    "outcome_fig.update_layout(updatemenus=[dict(active=0, bordercolor = 'white', bgcolor = 'rgb(204,234,231)',\n",
    "                                    buttons= [button1, button2, button3, button4, button5, button6, button7, button8, button9, button10])]\n",
    "                                     ); \n",
    "outcome_fig.show()"
   ]
  },
  {
   "cell_type": "code",
   "execution_count": 107,
   "id": "8b026363",
   "metadata": {},
   "outputs": [],
   "source": [
    "#TODO: figure out how to update the colorbar titles"
   ]
  },
  {
   "cell_type": "code",
   "execution_count": 108,
   "id": "9965e5bd",
   "metadata": {},
   "outputs": [],
   "source": [
    "recoded_health_behaviour_df.to_csv('Data/recoded_health_behaviour.csv', index=False)"
   ]
  },
  {
   "cell_type": "code",
   "execution_count": 109,
   "id": "129230a7",
   "metadata": {},
   "outputs": [],
   "source": [
    "import plotly.express as px"
   ]
  },
  {
   "cell_type": "code",
   "execution_count": 110,
   "id": "fe4eef12",
   "metadata": {},
   "outputs": [
    {
     "ename": "KeyError",
     "evalue": "' _AGEG5YR'",
     "output_type": "error",
     "traceback": [
      "\u001b[1;31m---------------------------------------------------------------------------\u001b[0m",
      "\u001b[1;31mKeyError\u001b[0m                                  Traceback (most recent call last)",
      "\u001b[1;32m<ipython-input-110-158b7b5f7122>\u001b[0m in \u001b[0;36m<module>\u001b[1;34m\u001b[0m\n\u001b[1;32m----> 1\u001b[1;33m \u001b[0mstate_bmi\u001b[0m \u001b[1;33m=\u001b[0m \u001b[0mstate_heavy_df\u001b[0m\u001b[1;33m.\u001b[0m\u001b[0mgroupby\u001b[0m\u001b[1;33m(\u001b[0m\u001b[1;33m[\u001b[0m\u001b[1;34m' _AGEG5YR'\u001b[0m\u001b[1;33m,\u001b[0m \u001b[1;34m'_RFBMI5'\u001b[0m \u001b[1;33m]\u001b[0m\u001b[1;33m,\u001b[0m \u001b[0mas_index\u001b[0m\u001b[1;33m=\u001b[0m\u001b[1;32mFalse\u001b[0m\u001b[1;33m)\u001b[0m\u001b[1;33m.\u001b[0m\u001b[0magg\u001b[0m\u001b[1;33m(\u001b[0m\u001b[1;33m{\u001b[0m\u001b[1;34m'_RFBMI5'\u001b[0m\u001b[1;33m:\u001b[0m \u001b[1;34m'sum'\u001b[0m\u001b[1;33m}\u001b[0m\u001b[1;33m)\u001b[0m\u001b[1;33m\u001b[0m\u001b[1;33m\u001b[0m\u001b[0m\n\u001b[0m",
      "\u001b[1;32m~\\anaconda3\\envs\\mlenv\\lib\\site-packages\\pandas\\core\\frame.py\u001b[0m in \u001b[0;36mgroupby\u001b[1;34m(self, by, axis, level, as_index, sort, group_keys, squeeze, observed, dropna)\u001b[0m\n\u001b[0;32m   6725\u001b[0m             \u001b[0msqueeze\u001b[0m\u001b[1;33m=\u001b[0m\u001b[0msqueeze\u001b[0m\u001b[1;33m,\u001b[0m\u001b[1;33m\u001b[0m\u001b[1;33m\u001b[0m\u001b[0m\n\u001b[0;32m   6726\u001b[0m             \u001b[0mobserved\u001b[0m\u001b[1;33m=\u001b[0m\u001b[0mobserved\u001b[0m\u001b[1;33m,\u001b[0m\u001b[1;33m\u001b[0m\u001b[1;33m\u001b[0m\u001b[0m\n\u001b[1;32m-> 6727\u001b[1;33m             \u001b[0mdropna\u001b[0m\u001b[1;33m=\u001b[0m\u001b[0mdropna\u001b[0m\u001b[1;33m,\u001b[0m\u001b[1;33m\u001b[0m\u001b[1;33m\u001b[0m\u001b[0m\n\u001b[0m\u001b[0;32m   6728\u001b[0m         )\n\u001b[0;32m   6729\u001b[0m \u001b[1;33m\u001b[0m\u001b[0m\n",
      "\u001b[1;32m~\\anaconda3\\envs\\mlenv\\lib\\site-packages\\pandas\\core\\groupby\\groupby.py\u001b[0m in \u001b[0;36m__init__\u001b[1;34m(self, obj, keys, axis, level, grouper, exclusions, selection, as_index, sort, group_keys, squeeze, observed, mutated, dropna)\u001b[0m\n\u001b[0;32m    566\u001b[0m                 \u001b[0mobserved\u001b[0m\u001b[1;33m=\u001b[0m\u001b[0mobserved\u001b[0m\u001b[1;33m,\u001b[0m\u001b[1;33m\u001b[0m\u001b[1;33m\u001b[0m\u001b[0m\n\u001b[0;32m    567\u001b[0m                 \u001b[0mmutated\u001b[0m\u001b[1;33m=\u001b[0m\u001b[0mself\u001b[0m\u001b[1;33m.\u001b[0m\u001b[0mmutated\u001b[0m\u001b[1;33m,\u001b[0m\u001b[1;33m\u001b[0m\u001b[1;33m\u001b[0m\u001b[0m\n\u001b[1;32m--> 568\u001b[1;33m                 \u001b[0mdropna\u001b[0m\u001b[1;33m=\u001b[0m\u001b[0mself\u001b[0m\u001b[1;33m.\u001b[0m\u001b[0mdropna\u001b[0m\u001b[1;33m,\u001b[0m\u001b[1;33m\u001b[0m\u001b[1;33m\u001b[0m\u001b[0m\n\u001b[0m\u001b[0;32m    569\u001b[0m             )\n\u001b[0;32m    570\u001b[0m \u001b[1;33m\u001b[0m\u001b[0m\n",
      "\u001b[1;32m~\\anaconda3\\envs\\mlenv\\lib\\site-packages\\pandas\\core\\groupby\\grouper.py\u001b[0m in \u001b[0;36mget_grouper\u001b[1;34m(obj, key, axis, level, sort, observed, mutated, validate, dropna)\u001b[0m\n\u001b[0;32m    809\u001b[0m                 \u001b[0min_axis\u001b[0m\u001b[1;33m,\u001b[0m \u001b[0mname\u001b[0m\u001b[1;33m,\u001b[0m \u001b[0mlevel\u001b[0m\u001b[1;33m,\u001b[0m \u001b[0mgpr\u001b[0m \u001b[1;33m=\u001b[0m \u001b[1;32mFalse\u001b[0m\u001b[1;33m,\u001b[0m \u001b[1;32mNone\u001b[0m\u001b[1;33m,\u001b[0m \u001b[0mgpr\u001b[0m\u001b[1;33m,\u001b[0m \u001b[1;32mNone\u001b[0m\u001b[1;33m\u001b[0m\u001b[1;33m\u001b[0m\u001b[0m\n\u001b[0;32m    810\u001b[0m             \u001b[1;32melse\u001b[0m\u001b[1;33m:\u001b[0m\u001b[1;33m\u001b[0m\u001b[1;33m\u001b[0m\u001b[0m\n\u001b[1;32m--> 811\u001b[1;33m                 \u001b[1;32mraise\u001b[0m \u001b[0mKeyError\u001b[0m\u001b[1;33m(\u001b[0m\u001b[0mgpr\u001b[0m\u001b[1;33m)\u001b[0m\u001b[1;33m\u001b[0m\u001b[1;33m\u001b[0m\u001b[0m\n\u001b[0m\u001b[0;32m    812\u001b[0m         \u001b[1;32melif\u001b[0m \u001b[0misinstance\u001b[0m\u001b[1;33m(\u001b[0m\u001b[0mgpr\u001b[0m\u001b[1;33m,\u001b[0m \u001b[0mGrouper\u001b[0m\u001b[1;33m)\u001b[0m \u001b[1;32mand\u001b[0m \u001b[0mgpr\u001b[0m\u001b[1;33m.\u001b[0m\u001b[0mkey\u001b[0m \u001b[1;32mis\u001b[0m \u001b[1;32mnot\u001b[0m \u001b[1;32mNone\u001b[0m\u001b[1;33m:\u001b[0m\u001b[1;33m\u001b[0m\u001b[1;33m\u001b[0m\u001b[0m\n\u001b[0;32m    813\u001b[0m             \u001b[1;31m# Add key to exclusions\u001b[0m\u001b[1;33m\u001b[0m\u001b[1;33m\u001b[0m\u001b[1;33m\u001b[0m\u001b[0m\n",
      "\u001b[1;31mKeyError\u001b[0m: ' _AGEG5YR'"
     ]
    }
   ],
   "source": [
    "state_bmi = state_heavy_df.groupby([' _AGEG5YR', '_RFBMI5' ], as_index=False).agg({'_RFBMI5': 'sum'})"
   ]
  },
  {
   "cell_type": "code",
   "execution_count": null,
   "id": "e81eb73e",
   "metadata": {},
   "outputs": [],
   "source": [
    "#df_sample = df.sample(1000)"
   ]
  },
  {
   "cell_type": "code",
   "execution_count": null,
   "id": "d52e096f",
   "metadata": {},
   "outputs": [],
   "source": [
    "fig = go.Figure()\n",
    "fig.add_trace(go.Scatter(x=df['_AGE80'], y= df['REV_MENTHLTH'], name = 'Mental Health',\n",
    "                    mode = 'lines',\n",
    "     line=dict(width=0.5, color='orange'),\n",
    "     stackgroup = 'one'\n",
    "                    ))\n",
    "fig.add_trace(go.Scatter(x=df['_AGE80'], y=df['REV_PHYSHLTH'], name = 'Physical Health',\n",
    "                    mode = 'lines',\n",
    "     line=dict(width=0.5,color='lightgreen'),\n",
    "     stackgroup = 'one'))\n",
    "\n",
    "fig.show()"
   ]
  },
  {
   "cell_type": "code",
   "execution_count": null,
   "id": "a12ff76e",
   "metadata": {},
   "outputs": [],
   "source": [
    "df = df.dropna(axis=0, how = 'any')"
   ]
  },
  {
   "cell_type": "code",
   "execution_count": null,
   "id": "7a239b7c",
   "metadata": {
    "scrolled": true
   },
   "outputs": [],
   "source": [
    "##TODO: remove outliers of PA2MIN_\n",
    "df = df[((df.PA2MIN_ - df.PA2MIN_.mean()) / df.PA2MIN_.std()).abs() < 3]"
   ]
  },
  {
   "cell_type": "code",
   "execution_count": null,
   "id": "133f52e4",
   "metadata": {},
   "outputs": [],
   "source": [
    "fig = px.scatter(df, x='_AGE80', y='PA2MIN_')\n",
    "fig.show()"
   ]
  },
  {
   "cell_type": "code",
   "execution_count": null,
   "id": "a7b8a65b",
   "metadata": {},
   "outputs": [],
   "source": [
    "#TODO: this is no good obviously^\n",
    "#new plan: make a stacked bar chart for age groupts with _PACAT2 showing % highly active, active, insufficient and inactive"
   ]
  },
  {
   "cell_type": "code",
   "execution_count": null,
   "id": "d7ccca91",
   "metadata": {},
   "outputs": [],
   "source": [
    "#TODO: make a dataframe that contains the demographic information of the sample and their health outcomes \n",
    "#Draw up summary of sample"
   ]
  },
  {
   "cell_type": "code",
   "execution_count": null,
   "id": "9baf47ad",
   "metadata": {},
   "outputs": [],
   "source": []
  },
  {
   "cell_type": "code",
   "execution_count": null,
   "id": "b5ab2ff1",
   "metadata": {},
   "outputs": [],
   "source": [
    "#map health outcomes accross states"
   ]
  },
  {
   "cell_type": "code",
   "execution_count": null,
   "id": "07077e13",
   "metadata": {},
   "outputs": [],
   "source": [
    "#create a large df with demographic and health behaviour info and create model that can predict health outcomes"
   ]
  },
  {
   "cell_type": "code",
   "execution_count": null,
   "id": "2c2b8bfe",
   "metadata": {},
   "outputs": [],
   "source": []
  }
 ],
 "metadata": {
  "kernelspec": {
   "display_name": "mlenv",
   "language": "python",
   "name": "mlenv"
  },
  "language_info": {
   "codemirror_mode": {
    "name": "ipython",
    "version": 3
   },
   "file_extension": ".py",
   "mimetype": "text/x-python",
   "name": "python",
   "nbconvert_exporter": "python",
   "pygments_lexer": "ipython3",
   "version": "3.7.10"
  }
 },
 "nbformat": 4,
 "nbformat_minor": 5
}

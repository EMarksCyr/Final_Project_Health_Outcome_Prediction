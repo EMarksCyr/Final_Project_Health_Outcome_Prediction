{
 "cells": [
  {
   "cell_type": "code",
   "execution_count": 91,
   "id": "aa9709db",
   "metadata": {},
   "outputs": [],
   "source": [
    "import pandas as pd\n",
    "import numpy as np\n",
    "import seaborn as sns\n",
    "import matplotlib.pyplot as plt\n",
    "from sklearn.linear_model import LinearRegression\n",
    "from sklearn.preprocessing import StandardScaler\n",
    "from sklearn.model_selection import train_test_split\n",
    "from sklearn.metrics import confusion_matrix, accuracy_score, classification_report\n",
    "# choose models  \n",
    "from sklearn.linear_model import LinearRegression, LogisticRegression  \n",
    "from mord import LogisticAT, LogisticIT  \n",
    "from sklearn.pipeline import Pipeline\n",
    "from sklearn import metrics\n",
    "from sklearn.model_selection import train_test_split, GridSearchCV"
   ]
  },
  {
   "cell_type": "code",
   "execution_count": 112,
   "id": "9ed89df8",
   "metadata": {},
   "outputs": [],
   "source": [
    "#using uncleaned csv before any values were changed to string, looking back it would have been good to save a cleaned numerical version for ml\n",
    "\n",
    "health_behaviour_df = pd.read_csv('Data/uncleaned_health_behaviour.csv')"
   ]
  },
  {
   "cell_type": "code",
   "execution_count": 113,
   "id": "ccc9c474",
   "metadata": {},
   "outputs": [],
   "source": [
    "#Select features that looked like they influenced health in exploration\n",
    "#General health was ordinal but mental health and physical health are days/month of good health\n",
    "#Scikit learn doesn't have an ordinal logistic regression module so I'm going to try multiple linear regression\n",
    "#on these two factors\n",
    "#BMI, Education, income, vegetable consumption, alchohol, race, physical activity, strength training, age, state"
   ]
  },
  {
   "cell_type": "code",
   "execution_count": 114,
   "id": "42572565",
   "metadata": {},
   "outputs": [
    {
     "data": {
      "text/plain": [
       "Index(['id', '_STATE', 'GENHLTH', 'PHYSHLTH', 'MENTHLTH', 'POORHLTH',\n",
       "       'EXRACT11', 'PAFREQ1_', '_MINAC11', 'ACTIN12_', 'EXRACT21', 'PAFREQ2_',\n",
       "       '_MINAC21', 'ACTIN22_', 'STRFREQ_', 'PA2MIN_', '_METSTAT', '_URBSTAT',\n",
       "       'HTIN4', 'WTKG3', '_RFBMI5', '_BMI5', '_RFSMOK3', '_RFDRHV7', 'FC601_',\n",
       "       'FTJUDA2_', 'GRENDA1_', 'VEGEDA2_', 'POTADA1_', 'FRNCHDA_', '_FRUTSU1',\n",
       "       '_VEGESU1', '_PAINDX2', '_PASTRNG', '_AGEG5YR', '_AGE80', 'CVDINFR4',\n",
       "       'CVDCRHD4', 'CVDSTRK3', 'ASTHMA3', 'CHCSCNCR', 'CHCOCNCR', 'DIABETE4',\n",
       "       'ADDEPEV3', 'CHCKDNY2', 'HAVARTH4', 'HLTHCVR1', 'HLTHPLN1', '_IMPRACE',\n",
       "       '_EDUCAG', 'INCOME2'],\n",
       "      dtype='object')"
      ]
     },
     "execution_count": 114,
     "metadata": {},
     "output_type": "execute_result"
    }
   ],
   "source": [
    "## Predicting mental health\n",
    "health_behaviour_df.columns"
   ]
  },
  {
   "cell_type": "code",
   "execution_count": 115,
   "id": "b852818a",
   "metadata": {},
   "outputs": [],
   "source": [
    "#quick recleaning from old code\n",
    "#DON'T RERUN THIS UNLESS DAATA HAS BEEN REDOWNLOADED\n",
    "health_behaviour_df.loc[health_behaviour_df.MENTHLTH == 88, \"MENTHLTH\"] = 0\n",
    "health_behaviour_df.loc[health_behaviour_df.MENTHLTH == 77, \"MENTHLTH\"] = np.NaN\n",
    "health_behaviour_df.loc[health_behaviour_df.MENTHLTH == 99, \"MENTHLTH\"] = np.NaN\n",
    "health_behaviour_df.loc[health_behaviour_df.PHYSHLTH == 88, \"PHYSHLTH\"] = 0\n",
    "health_behaviour_df.loc[health_behaviour_df.PHYSHLTH == 77, \"PHYSHLTH\"] = np.NaN\n",
    "health_behaviour_df.loc[health_behaviour_df.PHYSHLTH == 99, \"PHYSHLTH\"] = np.NaN\n",
    "health_behaviour_df.loc[health_behaviour_df.INCOME2 == 77, \"INCOME2\"] = np.NaN\n",
    "health_behaviour_df.loc[health_behaviour_df.INCOME2 == 99, \"INCOME2\"] = np.NaN\n",
    "health_behaviour_df.loc[health_behaviour_df._EDUCAG == 9, \"_EDUCAG\"] = np.NaN\n",
    "health_behaviour_df['_VEGESU1'] = health_behaviour_df['_VEGESU1'].div(100).round(2)\n",
    "health_behaviour_df.loc[health_behaviour_df._RFBMI5 == 9, \"_RFBMI5\"] = np.NaN\n",
    "health_behaviour_df['PAFREQ1_'] = health_behaviour_df['PAFREQ1_'].div(1000).round(2)\n",
    "health_behaviour_df['STRFREQ_'] = health_behaviour_df['STRFREQ_'].div(1000).round(2)\n",
    "health_behaviour_df.loc[health_behaviour_df._AGEG5YR == 14, \"_AGEG5YR\"] = np.NaN\n",
    "health_behaviour_df['REV_MENTHLTH'] = 30 - health_behaviour_df['MENTHLTH']\n",
    "health_behaviour_df['REV_PHYSHLTH'] = 30 - health_behaviour_df['PHYSHLTH']\n",
    "health_behaviour_df.loc[health_behaviour_df.GENHLTH == 7, \"GENHLTH\"] = np.NaN\n",
    "health_behaviour_df.loc[health_behaviour_df.GENHLTH == 9, \"GENHLTH\"] = np.NaN\n"
   ]
  },
  {
   "cell_type": "code",
   "execution_count": 116,
   "id": "12e364fd",
   "metadata": {},
   "outputs": [],
   "source": [
    "health_behaviour_df.GENHLTH = pd.to_numeric(health_behaviour_df.GENHLTH).astype('Int32')\n",
    "health_behaviour_df._RFBMI5 = pd.to_numeric(health_behaviour_df._RFBMI5).astype('Int32')"
   ]
  },
  {
   "cell_type": "markdown",
   "id": "865a7ce6",
   "metadata": {},
   "source": [
    "## Feature Selection"
   ]
  },
  {
   "cell_type": "markdown",
   "id": "189ffd69",
   "metadata": {},
   "source": [
    "Calculating correlation for each potential feature...\n",
    "Data types:\n",
    "'_STATE': nominal\n",
    "'GENHLTH': nominal\n",
    "'PHYSHLTH': ratio/discrete\n",
    "'MENTHLTH': ratio/discrete\n",
    "'EXRACT11': nominal\n",
    "'PAFREQ1_': ratio/continuous\n",
    "'_MINAC11': ratio/continuous\n",
    "'ACTIN12_': nominal\n",
    "'STRFREQ_': ratio/continuous\n",
    "'_BMI5', ': ratio/continuous\n",
    "_RFSMOK3': nominal/binary\n",
    "'_RFDRHV7': nominal/binary\n",
    "'_FRUTSU1': ratio/continuous\n",
    "'_VEGESU1': ratio/continuous\n",
    "'_PAINDX2': ratio/continuous\n",
    "'_PASTRNG': ratio/continuous\n",
    "'_AGEG5YR': ordinal\n",
    "'_AGE80': ratio/continuous\n",
    "'_IMPRACE': ordinal\n",
    "'_EDUCAG': ordinal\n",
    "'INCOME2': ordinal"
   ]
  },
  {
   "cell_type": "code",
   "execution_count": 71,
   "id": "a9ab7e7c",
   "metadata": {},
   "outputs": [
    {
     "name": "stdout",
     "output_type": "stream",
     "text": [
      "mean=4.510 stdv=8.986\n"
     ]
    },
    {
     "data": {
      "image/png": "[encoded data removed]",
      "text/plain": [
       "<Figure size 432x288 with 1 Axes>"
      ]
     },
     "metadata": {
      "needs_background": "light"
     },
     "output_type": "display_data"
    }
   ],
   "source": [
    "from numpy import mean\n",
    "from numpy import std\n",
    "\n",
    "#test distribution of ratio variables\n",
    "phys_health = health_behaviour_df['PHYSHLTH'].dropna().values.tolist()\n",
    "print('mean=%.3f stdv=%.3f' % (mean(phys_health), std(phys_health)))\n",
    "\n",
    "from matplotlib import pyplot\n",
    "pyplot.hist(phys_health)\n",
    "pyplot.show()"
   ]
  },
  {
   "cell_type": "code",
   "execution_count": 72,
   "id": "41644ff7",
   "metadata": {},
   "outputs": [
    {
     "name": "stdout",
     "output_type": "stream",
     "text": [
      "mean=nan stdv=nan\n"
     ]
    },
    {
     "data": {
      "image/png": "[encoded data removed]",
      "text/plain": [
       "<Figure size 432x288 with 1 Axes>"
      ]
     },
     "metadata": {
      "needs_background": "light"
     },
     "output_type": "display_data"
    }
   ],
   "source": [
    "#test distribution of ratio variables\n",
    "bmi = health_behaviour_df['_BMI5'].values.tolist()\n",
    "print('mean=%.3f stdv=%.3f' % (mean(bmi), std(bmi)))\n",
    "\n",
    "from matplotlib import pyplot\n",
    "pyplot.hist(bmi)\n",
    "pyplot.show()"
   ]
  },
  {
   "cell_type": "code",
   "execution_count": 7,
   "id": "a9654e7c",
   "metadata": {},
   "outputs": [
    {
     "data": {
      "text/plain": [
       "array([2., 1., 4., 6., 5., 3.])"
      ]
     },
     "execution_count": 7,
     "metadata": {},
     "output_type": "execute_result"
    }
   ],
   "source": [
    "health_behaviour_df['_IMPRACE'].unique()"
   ]
  },
  {
   "cell_type": "code",
   "execution_count": 33,
   "id": "e8fea08c",
   "metadata": {},
   "outputs": [],
   "source": [
    "#try castings it all to int to see if mord works...\n",
    "\n"
   ]
  },
  {
   "cell_type": "code",
   "execution_count": 123,
   "id": "7f3ce95f",
   "metadata": {},
   "outputs": [],
   "source": [
    "##Isolate features from main dataframe\n",
    "# strength training, age, \n",
    "mental_ml_df = health_behaviour_df[['INCOME2', '_EDUCAG', '_VEGESU1', 'PAFREQ1_', 'STRFREQ_', '_RFBMI5', '_AGE80']] "
   ]
  },
  {
   "cell_type": "code",
   "execution_count": 124,
   "id": "8e6ff0ac",
   "metadata": {},
   "outputs": [
    {
     "data": {
      "text/html": [
       "<div>\n",
       "<style scoped>\n",
       "    .dataframe tbody tr th:only-of-type {\n",
       "        vertical-align: middle;\n",
       "    }\n",
       "\n",
       "    .dataframe tbody tr th {\n",
       "        vertical-align: top;\n",
       "    }\n",
       "\n",
       "    .dataframe thead th {\n",
       "        text-align: right;\n",
       "    }\n",
       "</style>\n",
       "<table border=\"1\" class=\"dataframe\">\n",
       "  <thead>\n",
       "    <tr style=\"text-align: right;\">\n",
       "      <th></th>\n",
       "      <th>INCOME2</th>\n",
       "      <th>_EDUCAG</th>\n",
       "      <th>_VEGESU1</th>\n",
       "      <th>PAFREQ1_</th>\n",
       "      <th>STRFREQ_</th>\n",
       "      <th>_RFBMI5</th>\n",
       "      <th>_AGE80</th>\n",
       "    </tr>\n",
       "  </thead>\n",
       "  <tbody>\n",
       "    <tr>\n",
       "      <th>0</th>\n",
       "      <td>3.0</td>\n",
       "      <td>1.0</td>\n",
       "      <td>1.14</td>\n",
       "      <td>NaN</td>\n",
       "      <td>2.33</td>\n",
       "      <td>2</td>\n",
       "      <td>80.0</td>\n",
       "    </tr>\n",
       "    <tr>\n",
       "      <th>1</th>\n",
       "      <td>5.0</td>\n",
       "      <td>3.0</td>\n",
       "      <td>1.21</td>\n",
       "      <td>0.47</td>\n",
       "      <td>0.00</td>\n",
       "      <td>1</td>\n",
       "      <td>70.0</td>\n",
       "    </tr>\n",
       "    <tr>\n",
       "      <th>2</th>\n",
       "      <td>7.0</td>\n",
       "      <td>4.0</td>\n",
       "      <td>1.64</td>\n",
       "      <td>1.00</td>\n",
       "      <td>2.00</td>\n",
       "      <td>2</td>\n",
       "      <td>67.0</td>\n",
       "    </tr>\n",
       "    <tr>\n",
       "      <th>3</th>\n",
       "      <td>6.0</td>\n",
       "      <td>3.0</td>\n",
       "      <td>NaN</td>\n",
       "      <td>NaN</td>\n",
       "      <td>NaN</td>\n",
       "      <td>1</td>\n",
       "      <td>80.0</td>\n",
       "    </tr>\n",
       "    <tr>\n",
       "      <th>4</th>\n",
       "      <td>NaN</td>\n",
       "      <td>3.0</td>\n",
       "      <td>1.78</td>\n",
       "      <td>NaN</td>\n",
       "      <td>0.00</td>\n",
       "      <td>1</td>\n",
       "      <td>80.0</td>\n",
       "    </tr>\n",
       "    <tr>\n",
       "      <th>5</th>\n",
       "      <td>NaN</td>\n",
       "      <td>2.0</td>\n",
       "      <td>NaN</td>\n",
       "      <td>NaN</td>\n",
       "      <td>NaN</td>\n",
       "      <td>&lt;NA&gt;</td>\n",
       "      <td>69.0</td>\n",
       "    </tr>\n",
       "    <tr>\n",
       "      <th>6</th>\n",
       "      <td>7.0</td>\n",
       "      <td>4.0</td>\n",
       "      <td>1.34</td>\n",
       "      <td>2.00</td>\n",
       "      <td>3.00</td>\n",
       "      <td>2</td>\n",
       "      <td>71.0</td>\n",
       "    </tr>\n",
       "    <tr>\n",
       "      <th>7</th>\n",
       "      <td>5.0</td>\n",
       "      <td>4.0</td>\n",
       "      <td>4.58</td>\n",
       "      <td>NaN</td>\n",
       "      <td>0.00</td>\n",
       "      <td>2</td>\n",
       "      <td>80.0</td>\n",
       "    </tr>\n",
       "    <tr>\n",
       "      <th>8</th>\n",
       "      <td>NaN</td>\n",
       "      <td>4.0</td>\n",
       "      <td>1.86</td>\n",
       "      <td>3.00</td>\n",
       "      <td>0.00</td>\n",
       "      <td>2</td>\n",
       "      <td>72.0</td>\n",
       "    </tr>\n",
       "    <tr>\n",
       "      <th>9</th>\n",
       "      <td>5.0</td>\n",
       "      <td>2.0</td>\n",
       "      <td>1.92</td>\n",
       "      <td>2.00</td>\n",
       "      <td>0.00</td>\n",
       "      <td>1</td>\n",
       "      <td>77.0</td>\n",
       "    </tr>\n",
       "    <tr>\n",
       "      <th>10</th>\n",
       "      <td>3.0</td>\n",
       "      <td>1.0</td>\n",
       "      <td>0.85</td>\n",
       "      <td>NaN</td>\n",
       "      <td>0.00</td>\n",
       "      <td>1</td>\n",
       "      <td>71.0</td>\n",
       "    </tr>\n",
       "    <tr>\n",
       "      <th>11</th>\n",
       "      <td>7.0</td>\n",
       "      <td>4.0</td>\n",
       "      <td>3.10</td>\n",
       "      <td>5.00</td>\n",
       "      <td>3.00</td>\n",
       "      <td>1</td>\n",
       "      <td>70.0</td>\n",
       "    </tr>\n",
       "    <tr>\n",
       "      <th>12</th>\n",
       "      <td>NaN</td>\n",
       "      <td>3.0</td>\n",
       "      <td>2.67</td>\n",
       "      <td>NaN</td>\n",
       "      <td>0.00</td>\n",
       "      <td>1</td>\n",
       "      <td>55.0</td>\n",
       "    </tr>\n",
       "    <tr>\n",
       "      <th>13</th>\n",
       "      <td>NaN</td>\n",
       "      <td>3.0</td>\n",
       "      <td>NaN</td>\n",
       "      <td>NaN</td>\n",
       "      <td>NaN</td>\n",
       "      <td>&lt;NA&gt;</td>\n",
       "      <td>80.0</td>\n",
       "    </tr>\n",
       "    <tr>\n",
       "      <th>14</th>\n",
       "      <td>8.0</td>\n",
       "      <td>4.0</td>\n",
       "      <td>1.79</td>\n",
       "      <td>4.00</td>\n",
       "      <td>0.00</td>\n",
       "      <td>2</td>\n",
       "      <td>76.0</td>\n",
       "    </tr>\n",
       "    <tr>\n",
       "      <th>15</th>\n",
       "      <td>NaN</td>\n",
       "      <td>2.0</td>\n",
       "      <td>NaN</td>\n",
       "      <td>NaN</td>\n",
       "      <td>NaN</td>\n",
       "      <td>&lt;NA&gt;</td>\n",
       "      <td>66.0</td>\n",
       "    </tr>\n",
       "    <tr>\n",
       "      <th>16</th>\n",
       "      <td>5.0</td>\n",
       "      <td>2.0</td>\n",
       "      <td>4.14</td>\n",
       "      <td>3.00</td>\n",
       "      <td>3.00</td>\n",
       "      <td>2</td>\n",
       "      <td>72.0</td>\n",
       "    </tr>\n",
       "    <tr>\n",
       "      <th>17</th>\n",
       "      <td>6.0</td>\n",
       "      <td>2.0</td>\n",
       "      <td>1.93</td>\n",
       "      <td>6.00</td>\n",
       "      <td>4.00</td>\n",
       "      <td>2</td>\n",
       "      <td>51.0</td>\n",
       "    </tr>\n",
       "    <tr>\n",
       "      <th>18</th>\n",
       "      <td>6.0</td>\n",
       "      <td>2.0</td>\n",
       "      <td>1.79</td>\n",
       "      <td>NaN</td>\n",
       "      <td>0.00</td>\n",
       "      <td>1</td>\n",
       "      <td>73.0</td>\n",
       "    </tr>\n",
       "    <tr>\n",
       "      <th>19</th>\n",
       "      <td>3.0</td>\n",
       "      <td>1.0</td>\n",
       "      <td>1.13</td>\n",
       "      <td>7.00</td>\n",
       "      <td>3.00</td>\n",
       "      <td>2</td>\n",
       "      <td>62.0</td>\n",
       "    </tr>\n",
       "  </tbody>\n",
       "</table>\n",
       "</div>"
      ],
      "text/plain": [
       "    INCOME2  _EDUCAG  _VEGESU1  PAFREQ1_  STRFREQ_  _RFBMI5  _AGE80\n",
       "0       3.0      1.0      1.14       NaN      2.33        2    80.0\n",
       "1       5.0      3.0      1.21      0.47      0.00        1    70.0\n",
       "2       7.0      4.0      1.64      1.00      2.00        2    67.0\n",
       "3       6.0      3.0       NaN       NaN       NaN        1    80.0\n",
       "4       NaN      3.0      1.78       NaN      0.00        1    80.0\n",
       "5       NaN      2.0       NaN       NaN       NaN     <NA>    69.0\n",
       "6       7.0      4.0      1.34      2.00      3.00        2    71.0\n",
       "7       5.0      4.0      4.58       NaN      0.00        2    80.0\n",
       "8       NaN      4.0      1.86      3.00      0.00        2    72.0\n",
       "9       5.0      2.0      1.92      2.00      0.00        1    77.0\n",
       "10      3.0      1.0      0.85       NaN      0.00        1    71.0\n",
       "11      7.0      4.0      3.10      5.00      3.00        1    70.0\n",
       "12      NaN      3.0      2.67       NaN      0.00        1    55.0\n",
       "13      NaN      3.0       NaN       NaN       NaN     <NA>    80.0\n",
       "14      8.0      4.0      1.79      4.00      0.00        2    76.0\n",
       "15      NaN      2.0       NaN       NaN       NaN     <NA>    66.0\n",
       "16      5.0      2.0      4.14      3.00      3.00        2    72.0\n",
       "17      6.0      2.0      1.93      6.00      4.00        2    51.0\n",
       "18      6.0      2.0      1.79       NaN      0.00        1    73.0\n",
       "19      3.0      1.0      1.13      7.00      3.00        2    62.0"
      ]
     },
     "execution_count": 124,
     "metadata": {},
     "output_type": "execute_result"
    }
   ],
   "source": [
    "mental_ml_df.head(20)"
   ]
  },
  {
   "cell_type": "code",
   "execution_count": 125,
   "id": "7fe5a279",
   "metadata": {},
   "outputs": [
    {
     "data": {
      "text/plain": [
       "(418268, 7)"
      ]
     },
     "execution_count": 125,
     "metadata": {},
     "output_type": "execute_result"
    }
   ],
   "source": [
    "mental_ml_df.shape"
   ]
  },
  {
   "cell_type": "code",
   "execution_count": 126,
   "id": "96025b82",
   "metadata": {},
   "outputs": [],
   "source": [
    "mental_ml_df = mental_ml_df.dropna(how=\"any\")"
   ]
  },
  {
   "cell_type": "code",
   "execution_count": 127,
   "id": "d7042f26",
   "metadata": {},
   "outputs": [
    {
     "data": {
      "text/plain": [
       "(210920, 7)"
      ]
     },
     "execution_count": 127,
     "metadata": {},
     "output_type": "execute_result"
    }
   ],
   "source": [
    "mental_ml_df.shape"
   ]
  },
  {
   "cell_type": "code",
   "execution_count": 128,
   "id": "74b3de72",
   "metadata": {},
   "outputs": [
    {
     "data": {
      "text/html": [
       "<div>\n",
       "<style scoped>\n",
       "    .dataframe tbody tr th:only-of-type {\n",
       "        vertical-align: middle;\n",
       "    }\n",
       "\n",
       "    .dataframe tbody tr th {\n",
       "        vertical-align: top;\n",
       "    }\n",
       "\n",
       "    .dataframe thead th {\n",
       "        text-align: right;\n",
       "    }\n",
       "</style>\n",
       "<table border=\"1\" class=\"dataframe\">\n",
       "  <thead>\n",
       "    <tr style=\"text-align: right;\">\n",
       "      <th></th>\n",
       "      <th>INCOME2</th>\n",
       "      <th>_EDUCAG</th>\n",
       "      <th>_VEGESU1</th>\n",
       "      <th>PAFREQ1_</th>\n",
       "      <th>STRFREQ_</th>\n",
       "      <th>_RFBMI5</th>\n",
       "      <th>_AGE80</th>\n",
       "    </tr>\n",
       "  </thead>\n",
       "  <tbody>\n",
       "    <tr>\n",
       "      <th>1</th>\n",
       "      <td>5.0</td>\n",
       "      <td>3.0</td>\n",
       "      <td>1.21</td>\n",
       "      <td>0.47</td>\n",
       "      <td>0.00</td>\n",
       "      <td>1</td>\n",
       "      <td>70.0</td>\n",
       "    </tr>\n",
       "    <tr>\n",
       "      <th>2</th>\n",
       "      <td>7.0</td>\n",
       "      <td>4.0</td>\n",
       "      <td>1.64</td>\n",
       "      <td>1.00</td>\n",
       "      <td>2.00</td>\n",
       "      <td>2</td>\n",
       "      <td>67.0</td>\n",
       "    </tr>\n",
       "    <tr>\n",
       "      <th>6</th>\n",
       "      <td>7.0</td>\n",
       "      <td>4.0</td>\n",
       "      <td>1.34</td>\n",
       "      <td>2.00</td>\n",
       "      <td>3.00</td>\n",
       "      <td>2</td>\n",
       "      <td>71.0</td>\n",
       "    </tr>\n",
       "    <tr>\n",
       "      <th>9</th>\n",
       "      <td>5.0</td>\n",
       "      <td>2.0</td>\n",
       "      <td>1.92</td>\n",
       "      <td>2.00</td>\n",
       "      <td>0.00</td>\n",
       "      <td>1</td>\n",
       "      <td>77.0</td>\n",
       "    </tr>\n",
       "    <tr>\n",
       "      <th>11</th>\n",
       "      <td>7.0</td>\n",
       "      <td>4.0</td>\n",
       "      <td>3.10</td>\n",
       "      <td>5.00</td>\n",
       "      <td>3.00</td>\n",
       "      <td>1</td>\n",
       "      <td>70.0</td>\n",
       "    </tr>\n",
       "    <tr>\n",
       "      <th>14</th>\n",
       "      <td>8.0</td>\n",
       "      <td>4.0</td>\n",
       "      <td>1.79</td>\n",
       "      <td>4.00</td>\n",
       "      <td>0.00</td>\n",
       "      <td>2</td>\n",
       "      <td>76.0</td>\n",
       "    </tr>\n",
       "    <tr>\n",
       "      <th>16</th>\n",
       "      <td>5.0</td>\n",
       "      <td>2.0</td>\n",
       "      <td>4.14</td>\n",
       "      <td>3.00</td>\n",
       "      <td>3.00</td>\n",
       "      <td>2</td>\n",
       "      <td>72.0</td>\n",
       "    </tr>\n",
       "    <tr>\n",
       "      <th>17</th>\n",
       "      <td>6.0</td>\n",
       "      <td>2.0</td>\n",
       "      <td>1.93</td>\n",
       "      <td>6.00</td>\n",
       "      <td>4.00</td>\n",
       "      <td>2</td>\n",
       "      <td>51.0</td>\n",
       "    </tr>\n",
       "    <tr>\n",
       "      <th>19</th>\n",
       "      <td>3.0</td>\n",
       "      <td>1.0</td>\n",
       "      <td>1.13</td>\n",
       "      <td>7.00</td>\n",
       "      <td>3.00</td>\n",
       "      <td>2</td>\n",
       "      <td>62.0</td>\n",
       "    </tr>\n",
       "    <tr>\n",
       "      <th>22</th>\n",
       "      <td>7.0</td>\n",
       "      <td>3.0</td>\n",
       "      <td>1.70</td>\n",
       "      <td>4.00</td>\n",
       "      <td>0.00</td>\n",
       "      <td>2</td>\n",
       "      <td>68.0</td>\n",
       "    </tr>\n",
       "    <tr>\n",
       "      <th>25</th>\n",
       "      <td>8.0</td>\n",
       "      <td>3.0</td>\n",
       "      <td>1.58</td>\n",
       "      <td>4.67</td>\n",
       "      <td>0.00</td>\n",
       "      <td>2</td>\n",
       "      <td>68.0</td>\n",
       "    </tr>\n",
       "    <tr>\n",
       "      <th>27</th>\n",
       "      <td>8.0</td>\n",
       "      <td>4.0</td>\n",
       "      <td>1.17</td>\n",
       "      <td>3.00</td>\n",
       "      <td>0.00</td>\n",
       "      <td>2</td>\n",
       "      <td>48.0</td>\n",
       "    </tr>\n",
       "    <tr>\n",
       "      <th>28</th>\n",
       "      <td>8.0</td>\n",
       "      <td>4.0</td>\n",
       "      <td>1.95</td>\n",
       "      <td>2.00</td>\n",
       "      <td>1.00</td>\n",
       "      <td>1</td>\n",
       "      <td>44.0</td>\n",
       "    </tr>\n",
       "    <tr>\n",
       "      <th>29</th>\n",
       "      <td>4.0</td>\n",
       "      <td>4.0</td>\n",
       "      <td>10.00</td>\n",
       "      <td>4.00</td>\n",
       "      <td>2.00</td>\n",
       "      <td>2</td>\n",
       "      <td>66.0</td>\n",
       "    </tr>\n",
       "    <tr>\n",
       "      <th>31</th>\n",
       "      <td>7.0</td>\n",
       "      <td>4.0</td>\n",
       "      <td>1.06</td>\n",
       "      <td>7.00</td>\n",
       "      <td>0.00</td>\n",
       "      <td>1</td>\n",
       "      <td>55.0</td>\n",
       "    </tr>\n",
       "    <tr>\n",
       "      <th>33</th>\n",
       "      <td>4.0</td>\n",
       "      <td>4.0</td>\n",
       "      <td>1.42</td>\n",
       "      <td>3.00</td>\n",
       "      <td>0.00</td>\n",
       "      <td>1</td>\n",
       "      <td>76.0</td>\n",
       "    </tr>\n",
       "    <tr>\n",
       "      <th>36</th>\n",
       "      <td>4.0</td>\n",
       "      <td>2.0</td>\n",
       "      <td>1.70</td>\n",
       "      <td>4.67</td>\n",
       "      <td>1.17</td>\n",
       "      <td>2</td>\n",
       "      <td>38.0</td>\n",
       "    </tr>\n",
       "    <tr>\n",
       "      <th>41</th>\n",
       "      <td>8.0</td>\n",
       "      <td>4.0</td>\n",
       "      <td>6.10</td>\n",
       "      <td>3.00</td>\n",
       "      <td>0.00</td>\n",
       "      <td>1</td>\n",
       "      <td>50.0</td>\n",
       "    </tr>\n",
       "    <tr>\n",
       "      <th>42</th>\n",
       "      <td>5.0</td>\n",
       "      <td>3.0</td>\n",
       "      <td>2.72</td>\n",
       "      <td>3.00</td>\n",
       "      <td>3.00</td>\n",
       "      <td>2</td>\n",
       "      <td>62.0</td>\n",
       "    </tr>\n",
       "    <tr>\n",
       "      <th>43</th>\n",
       "      <td>6.0</td>\n",
       "      <td>4.0</td>\n",
       "      <td>1.40</td>\n",
       "      <td>1.17</td>\n",
       "      <td>0.00</td>\n",
       "      <td>2</td>\n",
       "      <td>77.0</td>\n",
       "    </tr>\n",
       "  </tbody>\n",
       "</table>\n",
       "</div>"
      ],
      "text/plain": [
       "    INCOME2  _EDUCAG  _VEGESU1  PAFREQ1_  STRFREQ_  _RFBMI5  _AGE80\n",
       "1       5.0      3.0      1.21      0.47      0.00        1    70.0\n",
       "2       7.0      4.0      1.64      1.00      2.00        2    67.0\n",
       "6       7.0      4.0      1.34      2.00      3.00        2    71.0\n",
       "9       5.0      2.0      1.92      2.00      0.00        1    77.0\n",
       "11      7.0      4.0      3.10      5.00      3.00        1    70.0\n",
       "14      8.0      4.0      1.79      4.00      0.00        2    76.0\n",
       "16      5.0      2.0      4.14      3.00      3.00        2    72.0\n",
       "17      6.0      2.0      1.93      6.00      4.00        2    51.0\n",
       "19      3.0      1.0      1.13      7.00      3.00        2    62.0\n",
       "22      7.0      3.0      1.70      4.00      0.00        2    68.0\n",
       "25      8.0      3.0      1.58      4.67      0.00        2    68.0\n",
       "27      8.0      4.0      1.17      3.00      0.00        2    48.0\n",
       "28      8.0      4.0      1.95      2.00      1.00        1    44.0\n",
       "29      4.0      4.0     10.00      4.00      2.00        2    66.0\n",
       "31      7.0      4.0      1.06      7.00      0.00        1    55.0\n",
       "33      4.0      4.0      1.42      3.00      0.00        1    76.0\n",
       "36      4.0      2.0      1.70      4.67      1.17        2    38.0\n",
       "41      8.0      4.0      6.10      3.00      0.00        1    50.0\n",
       "42      5.0      3.0      2.72      3.00      3.00        2    62.0\n",
       "43      6.0      4.0      1.40      1.17      0.00        2    77.0"
      ]
     },
     "execution_count": 128,
     "metadata": {},
     "output_type": "execute_result"
    }
   ],
   "source": [
    "mental_ml_df.head(20)"
   ]
  },
  {
   "cell_type": "markdown",
   "id": "9de653b0",
   "metadata": {},
   "source": [
    "# Logistic Regression to predict obesity"
   ]
  },
  {
   "cell_type": "markdown",
   "id": "80932056",
   "metadata": {},
   "source": [
    "### Define the features and target"
   ]
  },
  {
   "cell_type": "code",
   "execution_count": 129,
   "id": "498a3067",
   "metadata": {},
   "outputs": [
    {
     "data": {
      "text/plain": [
       "<IntegerArray>\n",
       "[1, 2, 2, 1, 1]\n",
       "Length: 5, dtype: Int32"
      ]
     },
     "execution_count": 129,
     "metadata": {},
     "output_type": "execute_result"
    }
   ],
   "source": [
    "# Define the target set.\n",
    "y = mental_ml_df[\"_RFBMI5\"].values\n",
    "y[:5]"
   ]
  },
  {
   "cell_type": "code",
   "execution_count": 130,
   "id": "4a4f1645",
   "metadata": {},
   "outputs": [
    {
     "data": {
      "text/html": [
       "<div>\n",
       "<style scoped>\n",
       "    .dataframe tbody tr th:only-of-type {\n",
       "        vertical-align: middle;\n",
       "    }\n",
       "\n",
       "    .dataframe tbody tr th {\n",
       "        vertical-align: top;\n",
       "    }\n",
       "\n",
       "    .dataframe thead th {\n",
       "        text-align: right;\n",
       "    }\n",
       "</style>\n",
       "<table border=\"1\" class=\"dataframe\">\n",
       "  <thead>\n",
       "    <tr style=\"text-align: right;\">\n",
       "      <th></th>\n",
       "      <th>INCOME2</th>\n",
       "      <th>_EDUCAG</th>\n",
       "      <th>_VEGESU1</th>\n",
       "      <th>PAFREQ1_</th>\n",
       "      <th>STRFREQ_</th>\n",
       "      <th>_AGE80</th>\n",
       "    </tr>\n",
       "  </thead>\n",
       "  <tbody>\n",
       "    <tr>\n",
       "      <th>1</th>\n",
       "      <td>5.0</td>\n",
       "      <td>3.0</td>\n",
       "      <td>1.21</td>\n",
       "      <td>0.47</td>\n",
       "      <td>0.0</td>\n",
       "      <td>70.0</td>\n",
       "    </tr>\n",
       "    <tr>\n",
       "      <th>2</th>\n",
       "      <td>7.0</td>\n",
       "      <td>4.0</td>\n",
       "      <td>1.64</td>\n",
       "      <td>1.00</td>\n",
       "      <td>2.0</td>\n",
       "      <td>67.0</td>\n",
       "    </tr>\n",
       "    <tr>\n",
       "      <th>6</th>\n",
       "      <td>7.0</td>\n",
       "      <td>4.0</td>\n",
       "      <td>1.34</td>\n",
       "      <td>2.00</td>\n",
       "      <td>3.0</td>\n",
       "      <td>71.0</td>\n",
       "    </tr>\n",
       "    <tr>\n",
       "      <th>9</th>\n",
       "      <td>5.0</td>\n",
       "      <td>2.0</td>\n",
       "      <td>1.92</td>\n",
       "      <td>2.00</td>\n",
       "      <td>0.0</td>\n",
       "      <td>77.0</td>\n",
       "    </tr>\n",
       "    <tr>\n",
       "      <th>11</th>\n",
       "      <td>7.0</td>\n",
       "      <td>4.0</td>\n",
       "      <td>3.10</td>\n",
       "      <td>5.00</td>\n",
       "      <td>3.0</td>\n",
       "      <td>70.0</td>\n",
       "    </tr>\n",
       "    <tr>\n",
       "      <th>...</th>\n",
       "      <td>...</td>\n",
       "      <td>...</td>\n",
       "      <td>...</td>\n",
       "      <td>...</td>\n",
       "      <td>...</td>\n",
       "      <td>...</td>\n",
       "    </tr>\n",
       "    <tr>\n",
       "      <th>418256</th>\n",
       "      <td>3.0</td>\n",
       "      <td>3.0</td>\n",
       "      <td>1.53</td>\n",
       "      <td>0.70</td>\n",
       "      <td>0.0</td>\n",
       "      <td>33.0</td>\n",
       "    </tr>\n",
       "    <tr>\n",
       "      <th>418257</th>\n",
       "      <td>1.0</td>\n",
       "      <td>1.0</td>\n",
       "      <td>0.15</td>\n",
       "      <td>1.00</td>\n",
       "      <td>0.0</td>\n",
       "      <td>65.0</td>\n",
       "    </tr>\n",
       "    <tr>\n",
       "      <th>418264</th>\n",
       "      <td>1.0</td>\n",
       "      <td>1.0</td>\n",
       "      <td>1.42</td>\n",
       "      <td>5.00</td>\n",
       "      <td>0.0</td>\n",
       "      <td>53.0</td>\n",
       "    </tr>\n",
       "    <tr>\n",
       "      <th>418265</th>\n",
       "      <td>3.0</td>\n",
       "      <td>2.0</td>\n",
       "      <td>0.55</td>\n",
       "      <td>7.00</td>\n",
       "      <td>0.0</td>\n",
       "      <td>19.0</td>\n",
       "    </tr>\n",
       "    <tr>\n",
       "      <th>418267</th>\n",
       "      <td>8.0</td>\n",
       "      <td>4.0</td>\n",
       "      <td>2.29</td>\n",
       "      <td>2.00</td>\n",
       "      <td>0.0</td>\n",
       "      <td>42.0</td>\n",
       "    </tr>\n",
       "  </tbody>\n",
       "</table>\n",
       "<p>210920 rows × 6 columns</p>\n",
       "</div>"
      ],
      "text/plain": [
       "        INCOME2  _EDUCAG  _VEGESU1  PAFREQ1_  STRFREQ_  _AGE80\n",
       "1           5.0      3.0      1.21      0.47       0.0    70.0\n",
       "2           7.0      4.0      1.64      1.00       2.0    67.0\n",
       "6           7.0      4.0      1.34      2.00       3.0    71.0\n",
       "9           5.0      2.0      1.92      2.00       0.0    77.0\n",
       "11          7.0      4.0      3.10      5.00       3.0    70.0\n",
       "...         ...      ...       ...       ...       ...     ...\n",
       "418256      3.0      3.0      1.53      0.70       0.0    33.0\n",
       "418257      1.0      1.0      0.15      1.00       0.0    65.0\n",
       "418264      1.0      1.0      1.42      5.00       0.0    53.0\n",
       "418265      3.0      2.0      0.55      7.00       0.0    19.0\n",
       "418267      8.0      4.0      2.29      2.00       0.0    42.0\n",
       "\n",
       "[210920 rows x 6 columns]"
      ]
     },
     "execution_count": 130,
     "metadata": {},
     "output_type": "execute_result"
    }
   ],
   "source": [
    "#Define the features set\n",
    "X = mental_ml_df.drop(\"_RFBMI5\", axis=1)\n",
    "X"
   ]
  },
  {
   "cell_type": "markdown",
   "id": "83d285b1",
   "metadata": {},
   "source": [
    "### Split the Data into Training and Testing Sets"
   ]
  },
  {
   "cell_type": "code",
   "execution_count": 131,
   "id": "983a4d78",
   "metadata": {},
   "outputs": [],
   "source": [
    "# Splitting into Train and Test sets into an 70/30 split.\n",
    "X_train, X_test, y_train, y_test = train_test_split(X, y, random_state=78, train_size=0.70)"
   ]
  },
  {
   "cell_type": "code",
   "execution_count": 132,
   "id": "b9d19397",
   "metadata": {},
   "outputs": [
    {
     "name": "stdout",
     "output_type": "stream",
     "text": [
      "(147644, 6)\n",
      "(63276, 6)\n",
      "(147644,)\n",
      "(63276,)\n"
     ]
    }
   ],
   "source": [
    "# Determine the shape of our training and testing sets.\n",
    "print(X_train.shape)\n",
    "print(X_test.shape)\n",
    "print(y_train.shape)\n",
    "print(y_test.shape)\n",
    "\n",
    "##should the y be 1 col not 0? Could be error"
   ]
  },
  {
   "cell_type": "markdown",
   "id": "c66a3fc0",
   "metadata": {},
   "source": [
    "### Scale the Training and Testing Data"
   ]
  },
  {
   "cell_type": "code",
   "execution_count": 133,
   "id": "38342c2b",
   "metadata": {},
   "outputs": [],
   "source": [
    "#Rescale the data between 0 and 1 with a normal distribution\n",
    "# Creating a StandardScaler instance.\n",
    "scaler = StandardScaler()\n",
    "# Fitting the Standard Scaler with the training data.\n",
    "X_scaler = scaler.fit(X_train)\n",
    "\n",
    "# Scaling the data.\n",
    "X_train_scaled = X_scaler.transform(X_train)\n",
    "X_test_scaled = X_scaler.transform(X_test)"
   ]
  },
  {
   "cell_type": "code",
   "execution_count": 134,
   "id": "92164ea7",
   "metadata": {},
   "outputs": [
    {
     "name": "stdout",
     "output_type": "stream",
     "text": [
      "(147644, 6)\n"
     ]
    }
   ],
   "source": [
    "print(X_train_scaled.shape)"
   ]
  },
  {
   "cell_type": "code",
   "execution_count": 135,
   "id": "03e78ef3",
   "metadata": {},
   "outputs": [
    {
     "name": "stdout",
     "output_type": "stream",
     "text": [
      "-8.255913299534366e-17\n",
      "1.0000000000000004\n",
      "0.00878218675561741\n",
      "0.9960856151715868\n"
     ]
    }
   ],
   "source": [
    "#Print out the mean and standard deviation of the scaled data \n",
    "#to confirm a normal distribution, if so the mean should be very close to 0 and the SD close to 1\n",
    "print(np.mean(X_train_scaled[:,0]))\n",
    "print(np.std(X_train_scaled[:,0]))\n",
    "print(np.mean(X_test_scaled[:,0]))\n",
    "print(np.std(X_test_scaled[:,0]))"
   ]
  },
  {
   "cell_type": "code",
   "execution_count": 144,
   "id": "3c8ae108",
   "metadata": {},
   "outputs": [],
   "source": [
    "y_train=y_train.astype('int')\n",
    "y_test=y_test.astype('int')"
   ]
  },
  {
   "cell_type": "code",
   "execution_count": 139,
   "id": "0d56a936",
   "metadata": {},
   "outputs": [],
   "source": [
    "from sklearn.linear_model import LogisticRegression\n",
    "classifier = LogisticRegression(solver='lbfgs',\n",
    "   max_iter=200,\n",
    "   random_state=1)"
   ]
  },
  {
   "cell_type": "code",
   "execution_count": 140,
   "id": "51534fe3",
   "metadata": {},
   "outputs": [
    {
     "data": {
      "text/plain": [
       "LogisticRegression(max_iter=200, random_state=1)"
      ]
     },
     "execution_count": 140,
     "metadata": {},
     "output_type": "execute_result"
    }
   ],
   "source": [
    "classifier.fit(X_train_scaled, y_train)"
   ]
  },
  {
   "cell_type": "code",
   "execution_count": 141,
   "id": "a72b6f7c",
   "metadata": {},
   "outputs": [],
   "source": [
    "y_pred = classifier.predict(X_test)"
   ]
  },
  {
   "cell_type": "code",
   "execution_count": 145,
   "id": "1ec50c68",
   "metadata": {},
   "outputs": [
    {
     "name": "stdout",
     "output_type": "stream",
     "text": [
      "0.6707756495353688\n"
     ]
    }
   ],
   "source": [
    "from sklearn.metrics import accuracy_score\n",
    "print(accuracy_score(y_test, y_pred))"
   ]
  },
  {
   "cell_type": "markdown",
   "id": "52c5f70e",
   "metadata": {},
   "source": [
    "# Ordinal regression to predict general health"
   ]
  },
  {
   "cell_type": "code",
   "execution_count": 150,
   "id": "959da9cd",
   "metadata": {},
   "outputs": [
    {
     "data": {
      "text/html": [
       "<div>\n",
       "<style scoped>\n",
       "    .dataframe tbody tr th:only-of-type {\n",
       "        vertical-align: middle;\n",
       "    }\n",
       "\n",
       "    .dataframe tbody tr th {\n",
       "        vertical-align: top;\n",
       "    }\n",
       "\n",
       "    .dataframe thead th {\n",
       "        text-align: right;\n",
       "    }\n",
       "</style>\n",
       "<table border=\"1\" class=\"dataframe\">\n",
       "  <thead>\n",
       "    <tr style=\"text-align: right;\">\n",
       "      <th></th>\n",
       "      <th>INCOME2</th>\n",
       "      <th>_EDUCAG</th>\n",
       "      <th>_VEGESU1</th>\n",
       "      <th>PAFREQ1_</th>\n",
       "      <th>STRFREQ_</th>\n",
       "      <th>GENHLTH</th>\n",
       "      <th>_AGE80</th>\n",
       "    </tr>\n",
       "  </thead>\n",
       "  <tbody>\n",
       "    <tr>\n",
       "      <th>1</th>\n",
       "      <td>5.0</td>\n",
       "      <td>3.0</td>\n",
       "      <td>1.21</td>\n",
       "      <td>0.47</td>\n",
       "      <td>0.0</td>\n",
       "      <td>4</td>\n",
       "      <td>70.0</td>\n",
       "    </tr>\n",
       "    <tr>\n",
       "      <th>2</th>\n",
       "      <td>7.0</td>\n",
       "      <td>4.0</td>\n",
       "      <td>1.64</td>\n",
       "      <td>1.00</td>\n",
       "      <td>2.0</td>\n",
       "      <td>3</td>\n",
       "      <td>67.0</td>\n",
       "    </tr>\n",
       "    <tr>\n",
       "      <th>6</th>\n",
       "      <td>7.0</td>\n",
       "      <td>4.0</td>\n",
       "      <td>1.34</td>\n",
       "      <td>2.00</td>\n",
       "      <td>3.0</td>\n",
       "      <td>2</td>\n",
       "      <td>71.0</td>\n",
       "    </tr>\n",
       "    <tr>\n",
       "      <th>9</th>\n",
       "      <td>5.0</td>\n",
       "      <td>2.0</td>\n",
       "      <td>1.92</td>\n",
       "      <td>2.00</td>\n",
       "      <td>0.0</td>\n",
       "      <td>3</td>\n",
       "      <td>77.0</td>\n",
       "    </tr>\n",
       "    <tr>\n",
       "      <th>11</th>\n",
       "      <td>7.0</td>\n",
       "      <td>4.0</td>\n",
       "      <td>3.10</td>\n",
       "      <td>5.00</td>\n",
       "      <td>3.0</td>\n",
       "      <td>2</td>\n",
       "      <td>70.0</td>\n",
       "    </tr>\n",
       "  </tbody>\n",
       "</table>\n",
       "</div>"
      ],
      "text/plain": [
       "    INCOME2  _EDUCAG  _VEGESU1  PAFREQ1_  STRFREQ_  GENHLTH  _AGE80\n",
       "1       5.0      3.0      1.21      0.47       0.0        4    70.0\n",
       "2       7.0      4.0      1.64      1.00       2.0        3    67.0\n",
       "6       7.0      4.0      1.34      2.00       3.0        2    71.0\n",
       "9       5.0      2.0      1.92      2.00       0.0        3    77.0\n",
       "11      7.0      4.0      3.10      5.00       3.0        2    70.0"
      ]
     },
     "execution_count": 150,
     "metadata": {},
     "output_type": "execute_result"
    }
   ],
   "source": [
    "gen_health_df = health_behaviour_df[['INCOME2', '_EDUCAG', '_VEGESU1', 'PAFREQ1_', 'STRFREQ_', 'GENHLTH', '_AGE80']] \n",
    "gen_health_df = gen_health_df.dropna(how=\"any\")\n",
    "gen_health_df.head()"
   ]
  },
  {
   "cell_type": "code",
   "execution_count": null,
   "id": "5bc454b7",
   "metadata": {},
   "outputs": [],
   "source": []
  },
  {
   "cell_type": "code",
   "execution_count": 161,
   "id": "324a4cef",
   "metadata": {},
   "outputs": [
    {
     "data": {
      "text/plain": [
       "<IntegerArray>\n",
       "[4, 3, 2, 1, 5]\n",
       "Length: 5, dtype: Int32"
      ]
     },
     "execution_count": 161,
     "metadata": {},
     "output_type": "execute_result"
    }
   ],
   "source": [
    "gen_health_df['GENHLTH'].unique()"
   ]
  },
  {
   "cell_type": "markdown",
   "id": "ec8621f7",
   "metadata": {},
   "source": [
    "### Define the features and target"
   ]
  },
  {
   "cell_type": "code",
   "execution_count": 151,
   "id": "a30b83fa",
   "metadata": {},
   "outputs": [
    {
     "data": {
      "text/plain": [
       "<IntegerArray>\n",
       "[4, 3, 2, 3, 2]\n",
       "Length: 5, dtype: Int32"
      ]
     },
     "execution_count": 151,
     "metadata": {},
     "output_type": "execute_result"
    }
   ],
   "source": [
    "# Define the target set.\n",
    "y = gen_health_df[\"GENHLTH\"].values\n",
    "y[:5]"
   ]
  },
  {
   "cell_type": "code",
   "execution_count": 152,
   "id": "4d1950f6",
   "metadata": {},
   "outputs": [
    {
     "data": {
      "text/html": [
       "<div>\n",
       "<style scoped>\n",
       "    .dataframe tbody tr th:only-of-type {\n",
       "        vertical-align: middle;\n",
       "    }\n",
       "\n",
       "    .dataframe tbody tr th {\n",
       "        vertical-align: top;\n",
       "    }\n",
       "\n",
       "    .dataframe thead th {\n",
       "        text-align: right;\n",
       "    }\n",
       "</style>\n",
       "<table border=\"1\" class=\"dataframe\">\n",
       "  <thead>\n",
       "    <tr style=\"text-align: right;\">\n",
       "      <th></th>\n",
       "      <th>INCOME2</th>\n",
       "      <th>_EDUCAG</th>\n",
       "      <th>_VEGESU1</th>\n",
       "      <th>PAFREQ1_</th>\n",
       "      <th>STRFREQ_</th>\n",
       "      <th>_AGE80</th>\n",
       "    </tr>\n",
       "  </thead>\n",
       "  <tbody>\n",
       "    <tr>\n",
       "      <th>1</th>\n",
       "      <td>5.0</td>\n",
       "      <td>3.0</td>\n",
       "      <td>1.21</td>\n",
       "      <td>0.47</td>\n",
       "      <td>0.0</td>\n",
       "      <td>70.0</td>\n",
       "    </tr>\n",
       "    <tr>\n",
       "      <th>2</th>\n",
       "      <td>7.0</td>\n",
       "      <td>4.0</td>\n",
       "      <td>1.64</td>\n",
       "      <td>1.00</td>\n",
       "      <td>2.0</td>\n",
       "      <td>67.0</td>\n",
       "    </tr>\n",
       "    <tr>\n",
       "      <th>6</th>\n",
       "      <td>7.0</td>\n",
       "      <td>4.0</td>\n",
       "      <td>1.34</td>\n",
       "      <td>2.00</td>\n",
       "      <td>3.0</td>\n",
       "      <td>71.0</td>\n",
       "    </tr>\n",
       "    <tr>\n",
       "      <th>9</th>\n",
       "      <td>5.0</td>\n",
       "      <td>2.0</td>\n",
       "      <td>1.92</td>\n",
       "      <td>2.00</td>\n",
       "      <td>0.0</td>\n",
       "      <td>77.0</td>\n",
       "    </tr>\n",
       "    <tr>\n",
       "      <th>11</th>\n",
       "      <td>7.0</td>\n",
       "      <td>4.0</td>\n",
       "      <td>3.10</td>\n",
       "      <td>5.00</td>\n",
       "      <td>3.0</td>\n",
       "      <td>70.0</td>\n",
       "    </tr>\n",
       "    <tr>\n",
       "      <th>...</th>\n",
       "      <td>...</td>\n",
       "      <td>...</td>\n",
       "      <td>...</td>\n",
       "      <td>...</td>\n",
       "      <td>...</td>\n",
       "      <td>...</td>\n",
       "    </tr>\n",
       "    <tr>\n",
       "      <th>418256</th>\n",
       "      <td>3.0</td>\n",
       "      <td>3.0</td>\n",
       "      <td>1.53</td>\n",
       "      <td>0.70</td>\n",
       "      <td>0.0</td>\n",
       "      <td>33.0</td>\n",
       "    </tr>\n",
       "    <tr>\n",
       "      <th>418257</th>\n",
       "      <td>1.0</td>\n",
       "      <td>1.0</td>\n",
       "      <td>0.15</td>\n",
       "      <td>1.00</td>\n",
       "      <td>0.0</td>\n",
       "      <td>65.0</td>\n",
       "    </tr>\n",
       "    <tr>\n",
       "      <th>418264</th>\n",
       "      <td>1.0</td>\n",
       "      <td>1.0</td>\n",
       "      <td>1.42</td>\n",
       "      <td>5.00</td>\n",
       "      <td>0.0</td>\n",
       "      <td>53.0</td>\n",
       "    </tr>\n",
       "    <tr>\n",
       "      <th>418265</th>\n",
       "      <td>3.0</td>\n",
       "      <td>2.0</td>\n",
       "      <td>0.55</td>\n",
       "      <td>7.00</td>\n",
       "      <td>0.0</td>\n",
       "      <td>19.0</td>\n",
       "    </tr>\n",
       "    <tr>\n",
       "      <th>418267</th>\n",
       "      <td>8.0</td>\n",
       "      <td>4.0</td>\n",
       "      <td>2.29</td>\n",
       "      <td>2.00</td>\n",
       "      <td>0.0</td>\n",
       "      <td>42.0</td>\n",
       "    </tr>\n",
       "  </tbody>\n",
       "</table>\n",
       "<p>218415 rows × 6 columns</p>\n",
       "</div>"
      ],
      "text/plain": [
       "        INCOME2  _EDUCAG  _VEGESU1  PAFREQ1_  STRFREQ_  _AGE80\n",
       "1           5.0      3.0      1.21      0.47       0.0    70.0\n",
       "2           7.0      4.0      1.64      1.00       2.0    67.0\n",
       "6           7.0      4.0      1.34      2.00       3.0    71.0\n",
       "9           5.0      2.0      1.92      2.00       0.0    77.0\n",
       "11          7.0      4.0      3.10      5.00       3.0    70.0\n",
       "...         ...      ...       ...       ...       ...     ...\n",
       "418256      3.0      3.0      1.53      0.70       0.0    33.0\n",
       "418257      1.0      1.0      0.15      1.00       0.0    65.0\n",
       "418264      1.0      1.0      1.42      5.00       0.0    53.0\n",
       "418265      3.0      2.0      0.55      7.00       0.0    19.0\n",
       "418267      8.0      4.0      2.29      2.00       0.0    42.0\n",
       "\n",
       "[218415 rows x 6 columns]"
      ]
     },
     "execution_count": 152,
     "metadata": {},
     "output_type": "execute_result"
    }
   ],
   "source": [
    "#Define the features set\n",
    "X = gen_health_df.drop(\"GENHLTH\", axis=1)\n",
    "X"
   ]
  },
  {
   "cell_type": "code",
   "execution_count": 50,
   "id": "88a277da",
   "metadata": {},
   "outputs": [],
   "source": [
    "#Question: Do you ever scale the target alongside the features? Mixed input online : https://stats.stackexchange.com/questions/111467/is-it-necessary-to-scale-the-target-value-in-addition-to-scaling-features-for-re"
   ]
  },
  {
   "cell_type": "code",
   "execution_count": 156,
   "id": "fb115083",
   "metadata": {},
   "outputs": [],
   "source": [
    "def oraculo(X, y, model, params={}):\n",
    "      (X_train, X_test, y_train, y_test) = train_test_split(X, y,          \n",
    "                                           test_size=.3, stratify=y,        \n",
    "                                           random_state= 3001)\n",
    "      y_train=y_train.astype('int')\n",
    "      y_test=y_test.astype('int')  \n",
    "      pipeline = Pipeline([('column', StandardScaler()),\n",
    "                          ('model', model)])\n",
    "      print('Estimador: ', model)\n",
    "      grid = GridSearchCV(pipeline, params, \n",
    "                          scoring='neg_mean_absolute_error', \n",
    "                          n_jobs=-1, cv=3)\n",
    "      grid.fit(X_train, y_train)\n",
    "      pred = grid.best_estimator_.predict(X_test)\n",
    "      print('Mean Absolute Error: %1.4f' %    \n",
    "            (metrics.mean_absolute_error(y_test, pred)))\n",
    "      print('Accuracy: %1.4f\\n' % \n",
    "            (metrics.accuracy_score(y_test,   \n",
    "             np.round(pred).astype(int))))\n",
    "      print(metrics.classification_report(y_test,  \n",
    "             np.round(pred).astype(int)))\n",
    "      print('\\nDone!\\n\\n')"
   ]
  },
  {
   "cell_type": "code",
   "execution_count": 157,
   "id": "66894c7c",
   "metadata": {},
   "outputs": [],
   "source": [
    "models = [LinearRegression(), LogisticRegression(),\n",
    "          LogisticIT(), LogisticAT()]\n",
    "params = [{},{'model__max_iter': [100], 'model__C': [1.0]},   \n",
    "          {'model__max_iter': [100], 'model__alpha': [1.0]},\n",
    "          {'model__max_iter': [100], 'model__alpha': [1.0]}]"
   ]
  },
  {
   "cell_type": "code",
   "execution_count": 158,
   "id": "e8ead2a8",
   "metadata": {},
   "outputs": [
    {
     "name": "stdout",
     "output_type": "stream",
     "text": [
      "Estimador:  LinearRegression()\n",
      "Mean Absolute Error: 0.7411\n",
      "Accuracy: 0.4099\n",
      "\n",
      "              precision    recall  f1-score   support\n",
      "\n",
      "           0       0.00      0.00      0.00         0\n",
      "           1       0.26      0.00      0.00      8228\n",
      "           2       0.43      0.75      0.55     16474\n",
      "           3       0.37      0.42      0.39     13186\n",
      "           4       0.56      0.01      0.01      4607\n",
      "           5       0.00      0.00      0.00      1188\n",
      "\n",
      "    accuracy                           0.41     43683\n",
      "   macro avg       0.27      0.20      0.16     43683\n",
      "weighted avg       0.38      0.41      0.33     43683\n",
      "\n",
      "\n",
      "Done!\n",
      "\n",
      "\n"
     ]
    },
    {
     "name": "stderr",
     "output_type": "stream",
     "text": [
      "C:\\Users\\elizk\\anaconda3\\envs\\mlenv\\lib\\site-packages\\sklearn\\metrics\\_classification.py:1245: UndefinedMetricWarning: Precision and F-score are ill-defined and being set to 0.0 in labels with no predicted samples. Use `zero_division` parameter to control this behavior.\n",
      "  _warn_prf(average, modifier, msg_start, len(result))\n",
      "C:\\Users\\elizk\\anaconda3\\envs\\mlenv\\lib\\site-packages\\sklearn\\metrics\\_classification.py:1245: UndefinedMetricWarning: Recall and F-score are ill-defined and being set to 0.0 in labels with no true samples. Use `zero_division` parameter to control this behavior.\n",
      "  _warn_prf(average, modifier, msg_start, len(result))\n",
      "C:\\Users\\elizk\\anaconda3\\envs\\mlenv\\lib\\site-packages\\sklearn\\metrics\\_classification.py:1245: UndefinedMetricWarning: Precision and F-score are ill-defined and being set to 0.0 in labels with no predicted samples. Use `zero_division` parameter to control this behavior.\n",
      "  _warn_prf(average, modifier, msg_start, len(result))\n",
      "C:\\Users\\elizk\\anaconda3\\envs\\mlenv\\lib\\site-packages\\sklearn\\metrics\\_classification.py:1245: UndefinedMetricWarning: Recall and F-score are ill-defined and being set to 0.0 in labels with no true samples. Use `zero_division` parameter to control this behavior.\n",
      "  _warn_prf(average, modifier, msg_start, len(result))\n",
      "C:\\Users\\elizk\\anaconda3\\envs\\mlenv\\lib\\site-packages\\sklearn\\metrics\\_classification.py:1245: UndefinedMetricWarning: Precision and F-score are ill-defined and being set to 0.0 in labels with no predicted samples. Use `zero_division` parameter to control this behavior.\n",
      "  _warn_prf(average, modifier, msg_start, len(result))\n",
      "C:\\Users\\elizk\\anaconda3\\envs\\mlenv\\lib\\site-packages\\sklearn\\metrics\\_classification.py:1245: UndefinedMetricWarning: Recall and F-score are ill-defined and being set to 0.0 in labels with no true samples. Use `zero_division` parameter to control this behavior.\n",
      "  _warn_prf(average, modifier, msg_start, len(result))\n"
     ]
    },
    {
     "name": "stdout",
     "output_type": "stream",
     "text": [
      "Estimador:  LogisticRegression()\n",
      "Mean Absolute Error: 0.7053\n",
      "Accuracy: 0.4101\n",
      "\n",
      "              precision    recall  f1-score   support\n",
      "\n",
      "           1       0.29      0.01      0.01      8228\n",
      "           2       0.43      0.80      0.56     16474\n",
      "           3       0.37      0.34      0.36     13186\n",
      "           4       0.38      0.04      0.07      4607\n",
      "           5       0.50      0.00      0.00      1188\n",
      "\n",
      "    accuracy                           0.41     43683\n",
      "   macro avg       0.39      0.24      0.20     43683\n",
      "weighted avg       0.38      0.41      0.33     43683\n",
      "\n",
      "\n",
      "Done!\n",
      "\n",
      "\n",
      "Estimador:  LogisticIT()\n",
      "Mean Absolute Error: 0.7052\n",
      "Accuracy: 0.4083\n",
      "\n",
      "              precision    recall  f1-score   support\n",
      "\n",
      "           1       0.32      0.00      0.01      8228\n",
      "           2       0.42      0.82      0.56     16474\n",
      "           3       0.37      0.33      0.35     13186\n",
      "           4       0.57      0.01      0.01      4607\n",
      "           5       0.00      0.00      0.00      1188\n",
      "\n",
      "    accuracy                           0.41     43683\n",
      "   macro avg       0.33      0.23      0.18     43683\n",
      "weighted avg       0.39      0.41      0.32     43683\n",
      "\n",
      "\n",
      "Done!\n",
      "\n",
      "\n"
     ]
    },
    {
     "name": "stderr",
     "output_type": "stream",
     "text": [
      "C:\\Users\\elizk\\anaconda3\\envs\\mlenv\\lib\\site-packages\\sklearn\\metrics\\_classification.py:1245: UndefinedMetricWarning: Precision and F-score are ill-defined and being set to 0.0 in labels with no predicted samples. Use `zero_division` parameter to control this behavior.\n",
      "  _warn_prf(average, modifier, msg_start, len(result))\n",
      "C:\\Users\\elizk\\anaconda3\\envs\\mlenv\\lib\\site-packages\\sklearn\\metrics\\_classification.py:1245: UndefinedMetricWarning: Precision and F-score are ill-defined and being set to 0.0 in labels with no predicted samples. Use `zero_division` parameter to control this behavior.\n",
      "  _warn_prf(average, modifier, msg_start, len(result))\n",
      "C:\\Users\\elizk\\anaconda3\\envs\\mlenv\\lib\\site-packages\\sklearn\\metrics\\_classification.py:1245: UndefinedMetricWarning: Precision and F-score are ill-defined and being set to 0.0 in labels with no predicted samples. Use `zero_division` parameter to control this behavior.\n",
      "  _warn_prf(average, modifier, msg_start, len(result))\n"
     ]
    },
    {
     "name": "stdout",
     "output_type": "stream",
     "text": [
      "Estimador:  LogisticAT()\n",
      "Mean Absolute Error: 0.7021\n",
      "Accuracy: 0.4097\n",
      "\n",
      "              precision    recall  f1-score   support\n",
      "\n",
      "           1       0.27      0.00      0.00      8228\n",
      "           2       0.43      0.78      0.55     16474\n",
      "           3       0.37      0.37      0.37     13186\n",
      "           4       0.45      0.01      0.02      4607\n",
      "           5       0.00      0.00      0.00      1188\n",
      "\n",
      "    accuracy                           0.41     43683\n",
      "   macro avg       0.30      0.23      0.19     43683\n",
      "weighted avg       0.37      0.41      0.32     43683\n",
      "\n",
      "\n",
      "Done!\n",
      "\n",
      "\n"
     ]
    },
    {
     "name": "stderr",
     "output_type": "stream",
     "text": [
      "C:\\Users\\elizk\\anaconda3\\envs\\mlenv\\lib\\site-packages\\sklearn\\metrics\\_classification.py:1245: UndefinedMetricWarning: Precision and F-score are ill-defined and being set to 0.0 in labels with no predicted samples. Use `zero_division` parameter to control this behavior.\n",
      "  _warn_prf(average, modifier, msg_start, len(result))\n",
      "C:\\Users\\elizk\\anaconda3\\envs\\mlenv\\lib\\site-packages\\sklearn\\metrics\\_classification.py:1245: UndefinedMetricWarning: Precision and F-score are ill-defined and being set to 0.0 in labels with no predicted samples. Use `zero_division` parameter to control this behavior.\n",
      "  _warn_prf(average, modifier, msg_start, len(result))\n",
      "C:\\Users\\elizk\\anaconda3\\envs\\mlenv\\lib\\site-packages\\sklearn\\metrics\\_classification.py:1245: UndefinedMetricWarning: Precision and F-score are ill-defined and being set to 0.0 in labels with no predicted samples. Use `zero_division` parameter to control this behavior.\n",
      "  _warn_prf(average, modifier, msg_start, len(result))\n"
     ]
    }
   ],
   "source": [
    "for m,p in zip(models, params):\n",
    "         oraculo(gen_health_df.drop('GENHLTH',axis=1),\n",
    "                 gen_health_df['GENHLTH'], m, p)"
   ]
  },
  {
   "cell_type": "code",
   "execution_count": null,
   "id": "1b56fd7d",
   "metadata": {},
   "outputs": [],
   "source": [
    "# creating an object of LinearRegression class\n",
    "model = LinearRegression()\n",
    "# fitting the training data\n",
    "model = model.fit(X_train_scaled, y_train)"
   ]
  },
  {
   "cell_type": "markdown",
   "id": "5eb3d4b5",
   "metadata": {},
   "source": [
    "### Make Predictions"
   ]
  },
  {
   "cell_type": "code",
   "execution_count": null,
   "id": "3677c591",
   "metadata": {},
   "outputs": [],
   "source": [
    "# Making predictions using the testing data.\n",
    "predictions = model.predict(X_test_scaled)"
   ]
  },
  {
   "cell_type": "code",
   "execution_count": null,
   "id": "ac7d8ed7",
   "metadata": {},
   "outputs": [],
   "source": [
    "predictions.shape"
   ]
  },
  {
   "cell_type": "markdown",
   "id": "f6c427cf",
   "metadata": {},
   "source": [
    "### Evaluate Model"
   ]
  },
  {
   "cell_type": "code",
   "execution_count": null,
   "id": "7b9e53fe",
   "metadata": {},
   "outputs": [],
   "source": [
    "# print the coefficients\n",
    "print(model.intercept_)\n",
    "print(model.coef_)"
   ]
  },
  {
   "cell_type": "code",
   "execution_count": null,
   "id": "6345ae45",
   "metadata": {},
   "outputs": [],
   "source": [
    "y_pred = model.predict(X)\n",
    "print(y_pred.shape)"
   ]
  },
  {
   "cell_type": "code",
   "execution_count": null,
   "id": "7f411b53",
   "metadata": {},
   "outputs": [],
   "source": [
    "#Adjusted R Square\n"
   ]
  },
  {
   "cell_type": "code",
   "execution_count": null,
   "id": "389c5e1f",
   "metadata": {},
   "outputs": [],
   "source": [
    "from sklearn.metrics import mean_squared_error, r2_score\n",
    "# The mean squared error\n",
    "print('Mean squared error: %.2f'\n",
    "      % mean_squared_error(y_test, predictions))"
   ]
  },
  {
   "cell_type": "code",
   "execution_count": null,
   "id": "4c68f70b",
   "metadata": {},
   "outputs": [],
   "source": [
    "# The coefficient of determination: 1 is perfect prediction\n",
    "print('R squared: %.2f'\n",
    "      % r2_score(y_test, predictions))\n",
    "#print('Adj R squared: %.2f' % 1-(1-r2_score(y_test, predictions))*((len(X_test)-1)/(len(X_test)-len(X_test[0])-1)))"
   ]
  },
  {
   "cell_type": "code",
   "execution_count": null,
   "id": "4bf990fc",
   "metadata": {},
   "outputs": [],
   "source": [
    "#display adjusted R-squared\n",
    "1 - (1-model.score(X_train_scaled, y_train))*(len(y_train)-1)/(len(y_train)-X_train_scaled.shape[1]-1)"
   ]
  },
  {
   "cell_type": "code",
   "execution_count": null,
   "id": "83ce2f89",
   "metadata": {},
   "outputs": [],
   "source": [
    "from sklearn.metrics import mean_squared_error\n",
    "\n",
    "rms = mean_squared_error(y_test, predictions, squared=False)\n",
    "print(rms)"
   ]
  },
  {
   "cell_type": "code",
   "execution_count": null,
   "id": "2c1dbf50",
   "metadata": {},
   "outputs": [],
   "source": [
    "print(X_test_scaled.shape)\n",
    "print(y_test.shape)"
   ]
  },
  {
   "cell_type": "markdown",
   "id": "30b0216c",
   "metadata": {},
   "source": [
    "Use Root mean squared error. You may train several Linear Regression models, adding or removing features to your dataset, and see which one has the lowest RMSE - the best one in your case"
   ]
  },
  {
   "cell_type": "code",
   "execution_count": null,
   "id": "367863b7",
   "metadata": {},
   "outputs": [],
   "source": [
    "\n",
    "# Plot outputs\n",
    "plt.scatter(X_test_scaled, y_test,  color='black')\n",
    "plt.plot(X_test_scaled, predictions, color='blue', linewidth=3)\n",
    "\n",
    "plt.xticks(())\n",
    "plt.yticks(())\n",
    "\n",
    "plt.show()"
   ]
  },
  {
   "cell_type": "markdown",
   "id": "180ad699",
   "metadata": {},
   "source": [
    "#Scaling and using 'INCOME2', '_EDUCAG', '_VEGESU1', '_BMI5', 'PAFREQ1_', 'STRFREQ_', '_AGE80', _IMPRACE, _STATE\n",
    "- Mean squared error: 49.22 \n",
    "- R Squared: 0.07\n",
    "- Adjusted R squared: 0.06956\n",
    "- Root Means Squared Error: 7.0158\n",
    "#Scaling and using 'INCOME2', '_EDUCAG', '_VEGESU1', '_BMI5', 'PAFREQ1_', 'STRFREQ_', '_AGE80'\n",
    "- Mean squared error: 49.25\n",
    "- R Squared: 0.07\n",
    "- Adjusted R squared: 0.06871\n",
    "- Root Means Squared Error: 7.01799\n",
    "#Scaling and using 'INCOME2', '_EDUCAG', '_VEGESU1', '_BMI5', '_AGE80'\n",
    "- Mean squared error: 59.96\n",
    "- R Squared: 0.07\n",
    "- Adjusted R squared: 0.06966\n",
    "- Root Means Squared Error: 7.74336\n"
   ]
  }
 ],
 "metadata": {
  "kernelspec": {
   "display_name": "mlenv",
   "language": "python",
   "name": "mlenv"
  },
  "language_info": {
   "codemirror_mode": {
    "name": "ipython",
    "version": 3
   },
   "file_extension": ".py",
   "mimetype": "text/x-python",
   "name": "python",
   "nbconvert_exporter": "python",
   "pygments_lexer": "ipython3",
   "version": "3.7.10"
  }
 },
 "nbformat": 4,
 "nbformat_minor": 5
}

{
 "cells": [
  {
   "cell_type": "code",
   "execution_count": 2,
   "id": "7f621a81",
   "metadata": {},
   "outputs": [],
   "source": [
    "import pandas as pd"
   ]
  },
  {
   "cell_type": "code",
   "execution_count": 3,
   "id": "d03f972b",
   "metadata": {},
   "outputs": [
    {
     "data": {
      "text/html": [
       "<div>\n",
       "<style scoped>\n",
       "    .dataframe tbody tr th:only-of-type {\n",
       "        vertical-align: middle;\n",
       "    }\n",
       "\n",
       "    .dataframe tbody tr th {\n",
       "        vertical-align: top;\n",
       "    }\n",
       "\n",
       "    .dataframe thead th {\n",
       "        text-align: right;\n",
       "    }\n",
       "</style>\n",
       "<table border=\"1\" class=\"dataframe\">\n",
       "  <thead>\n",
       "    <tr style=\"text-align: right;\">\n",
       "      <th></th>\n",
       "      <th>_STATE</th>\n",
       "      <th>FMONTH</th>\n",
       "      <th>IDATE</th>\n",
       "      <th>IMONTH</th>\n",
       "      <th>IDAY</th>\n",
       "      <th>IYEAR</th>\n",
       "      <th>DISPCODE</th>\n",
       "      <th>SEQNO</th>\n",
       "      <th>_PSU</th>\n",
       "      <th>CTELENM1</th>\n",
       "      <th>...</th>\n",
       "      <th>_VEGESU1</th>\n",
       "      <th>_FRTLT1A</th>\n",
       "      <th>_VEGLT1A</th>\n",
       "      <th>_FRT16A</th>\n",
       "      <th>_VEG23A</th>\n",
       "      <th>_FRUITE1</th>\n",
       "      <th>_VEGETE1</th>\n",
       "      <th>_FLSHOT7</th>\n",
       "      <th>_PNEUMO3</th>\n",
       "      <th>_AIDTST4</th>\n",
       "    </tr>\n",
       "  </thead>\n",
       "  <tbody>\n",
       "    <tr>\n",
       "      <th>0</th>\n",
       "      <td>1.0</td>\n",
       "      <td>10.0</td>\n",
       "      <td>1182019.0</td>\n",
       "      <td>11.0</td>\n",
       "      <td>182.0</td>\n",
       "      <td>2019.0</td>\n",
       "      <td>11002.0</td>\n",
       "      <td>2.019000e+09</td>\n",
       "      <td>2.019000e+09</td>\n",
       "      <td>11.0</td>\n",
       "      <td>...</td>\n",
       "      <td>1141.0</td>\n",
       "      <td>11.0</td>\n",
       "      <td>11.0</td>\n",
       "      <td>11.0</td>\n",
       "      <td>10.0</td>\n",
       "      <td>0.0</td>\n",
       "      <td>2.0</td>\n",
       "      <td>21.0</td>\n",
       "      <td>12.0</td>\n",
       "      <td>21.0</td>\n",
       "    </tr>\n",
       "    <tr>\n",
       "      <th>1</th>\n",
       "      <td>1.0</td>\n",
       "      <td>10.0</td>\n",
       "      <td>1132019.0</td>\n",
       "      <td>11.0</td>\n",
       "      <td>132.0</td>\n",
       "      <td>2019.0</td>\n",
       "      <td>11002.0</td>\n",
       "      <td>2.019000e+09</td>\n",
       "      <td>2.019000e+09</td>\n",
       "      <td>11.0</td>\n",
       "      <td>...</td>\n",
       "      <td>1211.0</td>\n",
       "      <td>11.0</td>\n",
       "      <td>11.0</td>\n",
       "      <td>11.0</td>\n",
       "      <td>10.0</td>\n",
       "      <td>0.0</td>\n",
       "      <td>1.0</td>\n",
       "      <td>11.0</td>\n",
       "      <td>12.0</td>\n",
       "      <td>21.0</td>\n",
       "    </tr>\n",
       "    <tr>\n",
       "      <th>2</th>\n",
       "      <td>1.0</td>\n",
       "      <td>10.0</td>\n",
       "      <td>1182019.0</td>\n",
       "      <td>11.0</td>\n",
       "      <td>182.0</td>\n",
       "      <td>2019.0</td>\n",
       "      <td>11002.0</td>\n",
       "      <td>2.019000e+09</td>\n",
       "      <td>2.019000e+09</td>\n",
       "      <td>11.0</td>\n",
       "      <td>...</td>\n",
       "      <td>1641.0</td>\n",
       "      <td>11.0</td>\n",
       "      <td>11.0</td>\n",
       "      <td>11.0</td>\n",
       "      <td>10.0</td>\n",
       "      <td>0.0</td>\n",
       "      <td>1.0</td>\n",
       "      <td>12.0</td>\n",
       "      <td>22.0</td>\n",
       "      <td>21.0</td>\n",
       "    </tr>\n",
       "    <tr>\n",
       "      <th>3</th>\n",
       "      <td>1.0</td>\n",
       "      <td>10.0</td>\n",
       "      <td>1182019.0</td>\n",
       "      <td>11.0</td>\n",
       "      <td>182.0</td>\n",
       "      <td>2019.0</td>\n",
       "      <td>12002.0</td>\n",
       "      <td>2.019000e+09</td>\n",
       "      <td>2.019000e+09</td>\n",
       "      <td>11.0</td>\n",
       "      <td>...</td>\n",
       "      <td>9.0</td>\n",
       "      <td>99.0</td>\n",
       "      <td>91.0</td>\n",
       "      <td>11.0</td>\n",
       "      <td>11.0</td>\n",
       "      <td>11.0</td>\n",
       "      <td>19.0</td>\n",
       "      <td>99.0</td>\n",
       "      <td>9.0</td>\n",
       "      <td>1.0</td>\n",
       "    </tr>\n",
       "    <tr>\n",
       "      <th>4</th>\n",
       "      <td>1.0</td>\n",
       "      <td>10.0</td>\n",
       "      <td>1042019.0</td>\n",
       "      <td>10.0</td>\n",
       "      <td>42.0</td>\n",
       "      <td>2019.0</td>\n",
       "      <td>11002.0</td>\n",
       "      <td>2.019000e+09</td>\n",
       "      <td>2.019000e+09</td>\n",
       "      <td>11.0</td>\n",
       "      <td>...</td>\n",
       "      <td>1781.0</td>\n",
       "      <td>11.0</td>\n",
       "      <td>11.0</td>\n",
       "      <td>11.0</td>\n",
       "      <td>10.0</td>\n",
       "      <td>0.0</td>\n",
       "      <td>2.0</td>\n",
       "      <td>21.0</td>\n",
       "      <td>12.0</td>\n",
       "      <td>21.0</td>\n",
       "    </tr>\n",
       "  </tbody>\n",
       "</table>\n",
       "<p>5 rows × 342 columns</p>\n",
       "</div>"
      ],
      "text/plain": [
       "   _STATE  FMONTH      IDATE  IMONTH   IDAY   IYEAR  DISPCODE         SEQNO  \\\n",
       "0     1.0    10.0  1182019.0    11.0  182.0  2019.0   11002.0  2.019000e+09   \n",
       "1     1.0    10.0  1132019.0    11.0  132.0  2019.0   11002.0  2.019000e+09   \n",
       "2     1.0    10.0  1182019.0    11.0  182.0  2019.0   11002.0  2.019000e+09   \n",
       "3     1.0    10.0  1182019.0    11.0  182.0  2019.0   12002.0  2.019000e+09   \n",
       "4     1.0    10.0  1042019.0    10.0   42.0  2019.0   11002.0  2.019000e+09   \n",
       "\n",
       "           _PSU  CTELENM1  ...  _VEGESU1  _FRTLT1A  _VEGLT1A  _FRT16A  \\\n",
       "0  2.019000e+09      11.0  ...    1141.0      11.0      11.0     11.0   \n",
       "1  2.019000e+09      11.0  ...    1211.0      11.0      11.0     11.0   \n",
       "2  2.019000e+09      11.0  ...    1641.0      11.0      11.0     11.0   \n",
       "3  2.019000e+09      11.0  ...       9.0      99.0      91.0     11.0   \n",
       "4  2.019000e+09      11.0  ...    1781.0      11.0      11.0     11.0   \n",
       "\n",
       "   _VEG23A  _FRUITE1  _VEGETE1  _FLSHOT7  _PNEUMO3  _AIDTST4  \n",
       "0     10.0       0.0       2.0      21.0      12.0      21.0  \n",
       "1     10.0       0.0       1.0      11.0      12.0      21.0  \n",
       "2     10.0       0.0       1.0      12.0      22.0      21.0  \n",
       "3     11.0      11.0      19.0      99.0       9.0       1.0  \n",
       "4     10.0       0.0       2.0      21.0      12.0      21.0  \n",
       "\n",
       "[5 rows x 342 columns]"
      ]
     },
     "execution_count": 3,
     "metadata": {},
     "output_type": "execute_result"
    }
   ],
   "source": [
    "# Files to load\n",
    "file_to_load = \"data/data.csv\"\n",
    "\n",
    "# Read the CSV into a DataFrame\n",
    "df = pd.read_csv(file_to_load)\n",
    "df.head()"
   ]
  },
  {
   "cell_type": "code",
   "execution_count": 4,
   "id": "1bb10bc6",
   "metadata": {},
   "outputs": [
    {
     "data": {
      "text/plain": [
       "_STATE      418268\n",
       "FMONTH      418268\n",
       "IDATE       418268\n",
       "IMONTH      418268\n",
       "IDAY        418268\n",
       "             ...  \n",
       "_FRUITE1    418268\n",
       "_VEGETE1    418268\n",
       "_FLSHOT7    159112\n",
       "_PNEUMO3    391505\n",
       "_AIDTST4    418268\n",
       "Length: 342, dtype: int64"
      ]
     },
     "execution_count": 4,
     "metadata": {},
     "output_type": "execute_result"
    }
   ],
   "source": [
    "df.count()"
   ]
  },
  {
   "cell_type": "code",
   "execution_count": 5,
   "id": "e6f3094b",
   "metadata": {},
   "outputs": [],
   "source": [
    "## making a temp NaN-free version of df to use for testing machine learning models\n"
   ]
  },
  {
   "cell_type": "code",
   "execution_count": 6,
   "id": "747ced59",
   "metadata": {},
   "outputs": [
    {
     "data": {
      "text/plain": [
       "_STATE           0\n",
       "FMONTH           0\n",
       "IDATE            0\n",
       "IMONTH           0\n",
       "IDAY             0\n",
       "             ...  \n",
       "_FRUITE1         0\n",
       "_VEGETE1         0\n",
       "_FLSHOT7    259156\n",
       "_PNEUMO3     26763\n",
       "_AIDTST4         0\n",
       "Length: 342, dtype: int64"
      ]
     },
     "execution_count": 6,
     "metadata": {},
     "output_type": "execute_result"
    }
   ],
   "source": [
    "df.isnull().sum()"
   ]
  },
  {
   "cell_type": "code",
   "execution_count": 7,
   "id": "8503086e",
   "metadata": {},
   "outputs": [],
   "source": [
    "# making a df with columns dropped if all values are na\n",
    "df_drop_all_na = df.dropna(axis=1, how='all')"
   ]
  },
  {
   "cell_type": "code",
   "execution_count": 8,
   "id": "85e9440a",
   "metadata": {},
   "outputs": [
    {
     "data": {
      "text/plain": [
       "_STATE      418268\n",
       "FMONTH      418268\n",
       "IDATE       418268\n",
       "IMONTH      418268\n",
       "IDAY        418268\n",
       "             ...  \n",
       "_FRUITE1    418268\n",
       "_VEGETE1    418268\n",
       "_FLSHOT7    159112\n",
       "_PNEUMO3    391505\n",
       "_AIDTST4    418268\n",
       "Length: 333, dtype: int64"
      ]
     },
     "execution_count": 8,
     "metadata": {},
     "output_type": "execute_result"
    }
   ],
   "source": [
    "df_drop_all_na.count()"
   ]
  },
  {
   "cell_type": "code",
   "execution_count": 9,
   "id": "9f3082ac",
   "metadata": {},
   "outputs": [
    {
     "data": {
      "text/plain": [
       "_STATE           0\n",
       "FMONTH           0\n",
       "IDATE            0\n",
       "IMONTH           0\n",
       "IDAY             0\n",
       "             ...  \n",
       "_FRUITE1         0\n",
       "_VEGETE1         0\n",
       "_FLSHOT7    259156\n",
       "_PNEUMO3     26763\n",
       "_AIDTST4         0\n",
       "Length: 333, dtype: int64"
      ]
     },
     "execution_count": 9,
     "metadata": {},
     "output_type": "execute_result"
    }
   ],
   "source": [
    "df_drop_all_na.isna().sum()"
   ]
  },
  {
   "cell_type": "code",
   "execution_count": 10,
   "id": "ec3b16f4",
   "metadata": {},
   "outputs": [
    {
     "data": {
      "text/plain": [
       "Index(['_STATE', 'FMONTH', 'IDATE', 'IMONTH', 'IDAY', 'IYEAR', 'DISPCODE',\n",
       "       'SEQNO', '_PSU', 'CTELENM1',\n",
       "       ...\n",
       "       '_VEGESU1', '_FRTLT1A', '_VEGLT1A', '_FRT16A', '_VEG23A', '_FRUITE1',\n",
       "       '_VEGETE1', '_FLSHOT7', '_PNEUMO3', '_AIDTST4'],\n",
       "      dtype='object', length=333)"
      ]
     },
     "execution_count": 10,
     "metadata": {},
     "output_type": "execute_result"
    }
   ],
   "source": [
    "df_drop_all_na.columns"
   ]
  },
  {
   "cell_type": "code",
   "execution_count": 11,
   "id": "2eeb750d",
   "metadata": {},
   "outputs": [
    {
     "name": "stdout",
     "output_type": "stream",
     "text": [
      "['_STATE' 'FMONTH' 'IDATE' 'IMONTH' 'IDAY' 'IYEAR' 'DISPCODE' 'SEQNO'\n",
      " '_PSU' 'CTELENM1' 'PVTRESD1' 'COLGHOUS' 'STATERE1' 'CELPHONE' 'LADULT1'\n",
      " 'COLGSEX' 'NUMADULT' 'LANDSEX' 'NUMMEN' 'NUMWOMEN' 'RESPSLCT' 'SAFETIME'\n",
      " 'CTELNUM1' 'CELLFON5' 'CADULT1' 'CELLSEX' 'PVTRESD3' 'CCLGHOUS' 'CSTATE1'\n",
      " 'LANDLINE' 'HHADULT' 'SEXVAR' 'GENHLTH' 'PHYSHLTH' 'MENTHLTH' 'POORHLTH'\n",
      " 'HLTHPLN1' 'PERSDOC2' 'MEDCOST' 'CHECKUP1' 'BPHIGH4' 'BPMEDS' 'CHOLCHK2'\n",
      " 'TOLDHI2' 'CHOLMED2' 'CVDINFR4' 'CVDCRHD4' 'CVDSTRK3' 'ASTHMA3' 'ASTHNOW'\n",
      " 'CHCSCNCR' 'CHCOCNCR' 'CHCCOPD2' 'ADDEPEV3' 'CHCKDNY2' 'DIABETE4'\n",
      " 'DIABAGE3' 'HAVARTH4' 'ARTHEXER' 'ARTHEDU' 'LMTJOIN3' 'ARTHDIS2'\n",
      " 'JOINPAI2' 'MARITAL' 'EDUCA' 'RENTHOM1' 'NUMHHOL3' 'NUMPHON3' 'CPDEMO1B'\n",
      " 'VETERAN3' 'EMPLOY1' 'CHILDREN' 'INCOME2' 'WEIGHT2' 'HEIGHT3' 'PREGNANT'\n",
      " 'DEAF' 'BLIND' 'DECIDE' 'DIFFWALK' 'DIFFDRES' 'DIFFALON' 'SMOKE100'\n",
      " 'SMOKDAY2' 'STOPSMK2' 'LASTSMK2' 'USENOW3' 'ALCDAY5' 'AVEDRNK3'\n",
      " 'DRNK3GE5' 'MAXDRNKS' 'EXERANY2' 'EXRACT11' 'EXEROFT1' 'EXERHMM1'\n",
      " 'EXRACT21' 'EXEROFT2' 'EXERHMM2' 'STRENGTH' 'FRUIT2' 'FRUITJU2'\n",
      " 'FVGREEN1' 'FRENCHF1' 'POTATOE1' 'VEGETAB2' 'FLUSHOT7' 'FLSHTMY3'\n",
      " 'TETANUS1' 'PNEUVAC4' 'HIVTST7' 'HIVTSTD3' 'HIVRISK5' 'PDIABTST'\n",
      " 'PREDIAB1' 'INSULIN1' 'BLDSUGAR' 'FEETCHK3' 'DOCTDIAB' 'CHKHEMO3'\n",
      " 'FEETCHK' 'EYEEXAM1' 'DIABEYE' 'DIABEDU' 'WORKCFS' 'TOLDHEPC' 'TRETHEPC'\n",
      " 'PRIRHEPC' 'HAVEHEPC' 'HAVEHEPB' 'MEDSHEPB' 'HPVADVC3' 'HPVADSHT'\n",
      " 'IMFVPLA1' 'SHINGLE2' 'LCSFIRST' 'LCSLAST' 'LCSNUMCG' 'LCSCTSCN' 'HADMAM'\n",
      " 'HOWLONG' 'HADPAP2' 'LASTPAP2' 'HPVTEST' 'HPLSTTST' 'HADHYST2' 'PCDMDEC1'\n",
      " 'BLDSTOOL' 'LSTBLDS3' 'HADSIGM3' 'HADSGCO1' 'LASTSIG3' 'CNCRDIFF'\n",
      " 'CNCRAGE' 'CNCRTYP1' 'CSRVTRT3' 'CSRVDOC1' 'CSRVSUM' 'CSRVRTRN'\n",
      " 'CSRVINST' 'CSRVINSR' 'CSRVDEIN' 'CSRVCLIN' 'CSRVPAIN' 'CSRVCTL2'\n",
      " 'HLTHCVR1' 'ASPIRIN' 'HOMBPCHK' 'HOMRGCHK' 'WHEREBP' 'SHAREBP' 'WTCHSALT'\n",
      " 'DRADVISE' 'INDORTAN' 'NUMBURN3' 'SUNPRTCT' 'WKDAYOUT' 'WKENDOUT'\n",
      " 'CIMEMLOS' 'CDHOUSE' 'CDASSIST' 'CDHELP' 'CDSOCIAL' 'CDDISCUS' 'CAREGIV1'\n",
      " 'CRGVREL3' 'CRGVLNG1' 'CRGVHRS1' 'CRGVPRB3' 'CRGVALZD' 'CRGVPER1'\n",
      " 'CRGVHOU1' 'CRGVEXPT' 'ACEDEPRS' 'ACEDRINK' 'ACEDRUGS' 'ACEPRISN'\n",
      " 'ACEDIVRC' 'ACEPUNCH' 'ACEHURT1' 'ACESWEAR' 'ACETOUCH' 'ACETTHEM'\n",
      " 'ACEHVSEX' 'PFPPRVN3' 'TYPCNTR8' 'NOBCUSE7' 'ASBIALCH' 'ASBIDRNK'\n",
      " 'ASBIBING' 'ASBIADVC' 'ASBIRDUC' 'MARIJAN1' 'USEMRJN2' 'RSNMRJN1'\n",
      " 'FOODSTMP' 'BIRTHSEX' 'SOMALE' 'SOFEMALE' 'TRNSGNDR' 'RCSGENDR'\n",
      " 'RCSRLTN2' 'CASTHDX2' 'CASTHNO2' 'QSTVER' 'QSTLANG' '_METSTAT' '_URBSTAT'\n",
      " 'MSCODE' '_STSTR' '_STRWT' '_RAWRAKE' '_WT2RAKE' '_IMPRACE' '_CHISPNC'\n",
      " '_CRACE1' '_CPRACE' '_CLLCPWT' '_DUALUSE' '_DUALCOR' '_LLCPWT2' '_LLCPWT'\n",
      " '_RFHLTH' '_PHYS14D' '_MENT14D' '_HCVU651' '_RFHYPE5' '_CHOLCH2'\n",
      " '_RFCHOL2' '_MICHD' '_LTASTH1' '_CASTHM1' '_ASTHMS1' '_DRDXAR2'\n",
      " '_LMTACT2' '_LMTWRK2' '_PRACE1' '_MRACE1' '_HISPANC' '_RACE' '_RACEG21'\n",
      " '_RACEGR3' '_RACE_G1' '_SEX' '_AGEG5YR' '_AGE65YR' '_AGE80' '_AGE_G'\n",
      " 'HTIN4' 'HTM4' 'WTKG3' '_BMI5' '_BMI5CAT' '_RFBMI5' '_CHLDCNT' '_EDUCAG'\n",
      " '_INCOMG' '_SMOKER3' '_RFSMOK3' 'DRNKANY5' 'DROCDY3_' '_RFBING5'\n",
      " '_DRNKWK1' '_RFDRHV7' '_TOTINDA' 'METVL11_' 'METVL21_' 'MAXVO21_'\n",
      " 'FC601_' 'ACTIN12_' 'ACTIN22_' 'PADUR1_' 'PADUR2_' 'PAFREQ1_' 'PAFREQ2_'\n",
      " '_MINAC11' '_MINAC21' 'STRFREQ_' 'PAMISS2_' 'PAMIN12_' 'PAMIN22_'\n",
      " 'PA2MIN_' 'PAVIG12_' 'PAVIG22_' 'PA2VIGM_' '_PACAT2' '_PAINDX2'\n",
      " '_PA150R3' '_PA300R3' '_PA30022' '_PASTRNG' '_PAREC2' '_PASTAE2'\n",
      " 'FTJUDA2_' 'FRUTDA2_' 'GRENDA1_' 'FRNCHDA_' 'POTADA1_' 'VEGEDA2_'\n",
      " '_MISFRT1' '_MISVEG1' '_FRTRES1' '_VEGRES1' '_FRUTSU1' '_VEGESU1'\n",
      " '_FRTLT1A' '_VEGLT1A' '_FRT16A' '_VEG23A' '_FRUITE1' '_VEGETE1'\n",
      " '_FLSHOT7' '_PNEUMO3' '_AIDTST4']\n"
     ]
    }
   ],
   "source": [
    "print(df_drop_all_na.columns.values)"
   ]
  },
  {
   "cell_type": "code",
   "execution_count": 12,
   "id": "6f173b1f",
   "metadata": {},
   "outputs": [],
   "source": [
    "# making a provisional data source with from df_drop_all_na with rows dropped if all values any na in addition\n",
    "provisional_db = df.dropna(axis=0, how='all')"
   ]
  },
  {
   "cell_type": "code",
   "execution_count": 14,
   "id": "6a853b38",
   "metadata": {},
   "outputs": [],
   "source": [
    "provisional_db.to_csv(\"data/provisional_db.csv\")"
   ]
  },
  {
   "cell_type": "code",
   "execution_count": 11,
   "id": "d89149de",
   "metadata": {},
   "outputs": [],
   "source": [
    "# making a df with columns dropped if any values are na\n",
    "df_drop_any_na = df.dropna(axis=1, how='any')"
   ]
  },
  {
   "cell_type": "code",
   "execution_count": 25,
   "id": "9cebeba1",
   "metadata": {},
   "outputs": [
    {
     "data": {
      "text/html": [
       "<div>\n",
       "<style scoped>\n",
       "    .dataframe tbody tr th:only-of-type {\n",
       "        vertical-align: middle;\n",
       "    }\n",
       "\n",
       "    .dataframe tbody tr th {\n",
       "        vertical-align: top;\n",
       "    }\n",
       "\n",
       "    .dataframe thead th {\n",
       "        text-align: right;\n",
       "    }\n",
       "</style>\n",
       "<table border=\"1\" class=\"dataframe\">\n",
       "  <thead>\n",
       "    <tr style=\"text-align: right;\">\n",
       "      <th></th>\n",
       "      <th>Unnamed: 0</th>\n",
       "      <th>_STATE</th>\n",
       "      <th>FMONTH</th>\n",
       "      <th>IDATE</th>\n",
       "      <th>IMONTH</th>\n",
       "      <th>IDAY</th>\n",
       "      <th>IYEAR</th>\n",
       "      <th>DISPCODE</th>\n",
       "      <th>SEQNO</th>\n",
       "      <th>_PSU</th>\n",
       "      <th>...</th>\n",
       "      <th>_VEGESU1</th>\n",
       "      <th>_FRTLT1A</th>\n",
       "      <th>_VEGLT1A</th>\n",
       "      <th>_FRT16A</th>\n",
       "      <th>_VEG23A</th>\n",
       "      <th>_FRUITE1</th>\n",
       "      <th>_VEGETE1</th>\n",
       "      <th>_FLSHOT7</th>\n",
       "      <th>_PNEUMO3</th>\n",
       "      <th>_AIDTST4</th>\n",
       "    </tr>\n",
       "  </thead>\n",
       "  <tbody>\n",
       "    <tr>\n",
       "      <th>0</th>\n",
       "      <td>0</td>\n",
       "      <td>1</td>\n",
       "      <td>10</td>\n",
       "      <td>1182019</td>\n",
       "      <td>11</td>\n",
       "      <td>182</td>\n",
       "      <td>2019</td>\n",
       "      <td>11002</td>\n",
       "      <td>2019000001</td>\n",
       "      <td>2019000001</td>\n",
       "      <td>...</td>\n",
       "      <td>1141</td>\n",
       "      <td>11</td>\n",
       "      <td>11</td>\n",
       "      <td>11</td>\n",
       "      <td>10</td>\n",
       "      <td>0</td>\n",
       "      <td>2</td>\n",
       "      <td>21.0</td>\n",
       "      <td>12.0</td>\n",
       "      <td>21</td>\n",
       "    </tr>\n",
       "    <tr>\n",
       "      <th>1</th>\n",
       "      <td>1</td>\n",
       "      <td>1</td>\n",
       "      <td>10</td>\n",
       "      <td>1132019</td>\n",
       "      <td>11</td>\n",
       "      <td>132</td>\n",
       "      <td>2019</td>\n",
       "      <td>11002</td>\n",
       "      <td>2019000002</td>\n",
       "      <td>2019000002</td>\n",
       "      <td>...</td>\n",
       "      <td>1211</td>\n",
       "      <td>11</td>\n",
       "      <td>11</td>\n",
       "      <td>11</td>\n",
       "      <td>10</td>\n",
       "      <td>0</td>\n",
       "      <td>1</td>\n",
       "      <td>11.0</td>\n",
       "      <td>12.0</td>\n",
       "      <td>21</td>\n",
       "    </tr>\n",
       "    <tr>\n",
       "      <th>2</th>\n",
       "      <td>2</td>\n",
       "      <td>1</td>\n",
       "      <td>10</td>\n",
       "      <td>1182019</td>\n",
       "      <td>11</td>\n",
       "      <td>182</td>\n",
       "      <td>2019</td>\n",
       "      <td>11002</td>\n",
       "      <td>2019000003</td>\n",
       "      <td>2019000003</td>\n",
       "      <td>...</td>\n",
       "      <td>1641</td>\n",
       "      <td>11</td>\n",
       "      <td>11</td>\n",
       "      <td>11</td>\n",
       "      <td>10</td>\n",
       "      <td>0</td>\n",
       "      <td>1</td>\n",
       "      <td>12.0</td>\n",
       "      <td>22.0</td>\n",
       "      <td>21</td>\n",
       "    </tr>\n",
       "    <tr>\n",
       "      <th>3</th>\n",
       "      <td>3</td>\n",
       "      <td>1</td>\n",
       "      <td>10</td>\n",
       "      <td>1182019</td>\n",
       "      <td>11</td>\n",
       "      <td>182</td>\n",
       "      <td>2019</td>\n",
       "      <td>12002</td>\n",
       "      <td>2019000004</td>\n",
       "      <td>2019000004</td>\n",
       "      <td>...</td>\n",
       "      <td>9</td>\n",
       "      <td>99</td>\n",
       "      <td>91</td>\n",
       "      <td>11</td>\n",
       "      <td>11</td>\n",
       "      <td>11</td>\n",
       "      <td>19</td>\n",
       "      <td>99.0</td>\n",
       "      <td>9.0</td>\n",
       "      <td>1</td>\n",
       "    </tr>\n",
       "    <tr>\n",
       "      <th>4</th>\n",
       "      <td>4</td>\n",
       "      <td>1</td>\n",
       "      <td>10</td>\n",
       "      <td>1042019</td>\n",
       "      <td>10</td>\n",
       "      <td>42</td>\n",
       "      <td>2019</td>\n",
       "      <td>11002</td>\n",
       "      <td>2019000005</td>\n",
       "      <td>2019000005</td>\n",
       "      <td>...</td>\n",
       "      <td>1781</td>\n",
       "      <td>11</td>\n",
       "      <td>11</td>\n",
       "      <td>11</td>\n",
       "      <td>10</td>\n",
       "      <td>0</td>\n",
       "      <td>2</td>\n",
       "      <td>21.0</td>\n",
       "      <td>12.0</td>\n",
       "      <td>21</td>\n",
       "    </tr>\n",
       "  </tbody>\n",
       "</table>\n",
       "<p>5 rows × 182 columns</p>\n",
       "</div>"
      ],
      "text/plain": [
       "   Unnamed: 0  _STATE  FMONTH    IDATE  IMONTH  IDAY  IYEAR  DISPCODE  \\\n",
       "0           0       1      10  1182019      11   182   2019     11002   \n",
       "1           1       1      10  1132019      11   132   2019     11002   \n",
       "2           2       1      10  1182019      11   182   2019     11002   \n",
       "3           3       1      10  1182019      11   182   2019     12002   \n",
       "4           4       1      10  1042019      10    42   2019     11002   \n",
       "\n",
       "        SEQNO        _PSU  ...  _VEGESU1  _FRTLT1A  _VEGLT1A  _FRT16A  \\\n",
       "0  2019000001  2019000001  ...      1141        11        11       11   \n",
       "1  2019000002  2019000002  ...      1211        11        11       11   \n",
       "2  2019000003  2019000003  ...      1641        11        11       11   \n",
       "3  2019000004  2019000004  ...         9        99        91       11   \n",
       "4  2019000005  2019000005  ...      1781        11        11       11   \n",
       "\n",
       "   _VEG23A  _FRUITE1  _VEGETE1  _FLSHOT7  _PNEUMO3  _AIDTST4  \n",
       "0       10         0         2      21.0      12.0        21  \n",
       "1       10         0         1      11.0      12.0        21  \n",
       "2       10         0         1      12.0      22.0        21  \n",
       "3       11        11        19      99.0       9.0         1  \n",
       "4       10         0         2      21.0      12.0        21  \n",
       "\n",
       "[5 rows x 182 columns]"
      ]
     },
     "execution_count": 25,
     "metadata": {},
     "output_type": "execute_result"
    }
   ],
   "source": [
    "##removed irrelevent/sparse columns in excel to save time. Reloading cut provisional db\n",
    "# Files to load\n",
    "file_to_load = \"data/provisional_db_cut.csv\"\n",
    "\n",
    "# Read the CSV into a DataFrame\n",
    "df = pd.read_csv(file_to_load)\n",
    "df.head()"
   ]
  },
  {
   "cell_type": "code",
   "execution_count": 26,
   "id": "d278acae",
   "metadata": {},
   "outputs": [],
   "source": [
    "# making a df with rows dropped if all values are na\n",
    "prov_db = df.dropna(axis=0, how='all')"
   ]
  },
  {
   "cell_type": "code",
   "execution_count": 28,
   "id": "cc6df94f",
   "metadata": {},
   "outputs": [
    {
     "data": {
      "text/plain": [
       "Unnamed: 0    418268\n",
       "_STATE        418268\n",
       "FMONTH        418268\n",
       "IDATE         418268\n",
       "IMONTH        418268\n",
       "               ...  \n",
       "_FRUITE1      418268\n",
       "_VEGETE1      418268\n",
       "_FLSHOT7      159112\n",
       "_PNEUMO3      391505\n",
       "_AIDTST4      418268\n",
       "Length: 182, dtype: int64"
      ]
     },
     "execution_count": 28,
     "metadata": {},
     "output_type": "execute_result"
    }
   ],
   "source": [
    "prov_db.count()"
   ]
  },
  {
   "cell_type": "code",
   "execution_count": 29,
   "id": "593487c8",
   "metadata": {},
   "outputs": [],
   "source": [
    "# making a df with columns rows if all values are na\n",
    "prov_db = df.dropna(axis=0, how='any')"
   ]
  },
  {
   "cell_type": "code",
   "execution_count": 30,
   "id": "fb39939d",
   "metadata": {},
   "outputs": [
    {
     "data": {
      "text/plain": [
       "Unnamed: 0    11040\n",
       "_STATE        11040\n",
       "FMONTH        11040\n",
       "IDATE         11040\n",
       "IMONTH        11040\n",
       "              ...  \n",
       "_FRUITE1      11040\n",
       "_VEGETE1      11040\n",
       "_FLSHOT7      11040\n",
       "_PNEUMO3      11040\n",
       "_AIDTST4      11040\n",
       "Length: 182, dtype: int64"
      ]
     },
     "execution_count": 30,
     "metadata": {},
     "output_type": "execute_result"
    }
   ],
   "source": [
    "prov_db.count()"
   ]
  },
  {
   "cell_type": "code",
   "execution_count": 31,
   "id": "bf870bf1",
   "metadata": {},
   "outputs": [],
   "source": [
    "prov_db.to_csv(\"data/final_provisional_db.csv\")"
   ]
  },
  {
   "cell_type": "code",
   "execution_count": null,
   "id": "2ed50534",
   "metadata": {},
   "outputs": [],
   "source": []
  }
 ],
 "metadata": {
  "kernelspec": {
   "display_name": "mlenv",
   "language": "python",
   "name": "mlenv"
  },
  "language_info": {
   "codemirror_mode": {
    "name": "ipython",
    "version": 3
   },
   "file_extension": ".py",
   "mimetype": "text/x-python",
   "name": "python",
   "nbconvert_exporter": "python",
   "pygments_lexer": "ipython3",
   "version": "3.7.10"
  }
 },
 "nbformat": 4,
 "nbformat_minor": 5
}

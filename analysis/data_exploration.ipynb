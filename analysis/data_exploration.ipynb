{
 "cells": [
  {
   "cell_type": "code",
   "execution_count": 1,
   "id": "5d979754",
   "metadata": {},
   "outputs": [],
   "source": [
    "#import dependencies \n",
    "import psycopg2\n",
    "import pandas as pd\n",
    "import numpy as np"
   ]
  },
  {
   "cell_type": "code",
   "execution_count": 2,
   "id": "f4b41100",
   "metadata": {},
   "outputs": [
    {
     "name": "stdout",
     "output_type": "stream",
     "text": [
      "Enter database password········\n"
     ]
    }
   ],
   "source": [
    "from getpass import getpass\n",
    "password = getpass(\"Enter database password\")\n",
    "\n",
    "param_dic = {\n",
    "    \"host\" : \"localhost\",\n",
    "    \"database\" : \"BRFSSAnalysis\",\n",
    "    \"user\" : \"postgres\",\n",
    "    \"password\" : password\n",
    "}"
   ]
  },
  {
   "cell_type": "code",
   "execution_count": 3,
   "id": "9baae596",
   "metadata": {},
   "outputs": [],
   "source": [
    "def connect(params_dic):\n",
    "    \"\"\"\n",
    "    Tranform a SELECT query into a pandas dataframe\n",
    "    \"\"\"\n",
    "    conn = None\n",
    "    try:\n",
    "        # connect to the PostgreSQL server\n",
    "        print('Connecting to the PostgreSQL database...')\n",
    "        conn = psycopg2.connect(**params_dic)\n",
    "    except (Exception, psycopg2.DatabaseError) as error:\n",
    "        print(error)\n",
    "        sys.exit(1) \n",
    "    print(\"Connection successful\")\n",
    "    return conn"
   ]
  },
  {
   "cell_type": "code",
   "execution_count": 4,
   "id": "88443df6",
   "metadata": {},
   "outputs": [],
   "source": [
    "def postgresql_to_dataframe(conn, select_query, column_names):\n",
    "    \"\"\"\n",
    "    SELECT * from question_info\n",
    "    \"\"\"\n",
    "    cursor = conn.cursor()\n",
    "    try:\n",
    "        cursor.execute(select_query)\n",
    "    except (Exception, psycopg2.DatabaseError) as error:\n",
    "        print(\"Error: %s\" % error)\n",
    "        cursor.close()\n",
    "        return 1\n",
    "    \n",
    "    # Naturally we get a list of tupples\n",
    "    tupples = cursor.fetchall()\n",
    "    cursor.close()\n",
    "    \n",
    "    # We just need to turn it into a pandas dataframe\n",
    "    df = pd.DataFrame(tupples, columns=column_names)\n",
    "    return df"
   ]
  },
  {
   "cell_type": "code",
   "execution_count": 5,
   "id": "4e2d9515",
   "metadata": {},
   "outputs": [
    {
     "name": "stdout",
     "output_type": "stream",
     "text": [
      "Connecting to the PostgreSQL database...\n",
      "Connection successful\n"
     ]
    },
    {
     "data": {
      "text/html": [
       "<div>\n",
       "<style scoped>\n",
       "    .dataframe tbody tr th:only-of-type {\n",
       "        vertical-align: middle;\n",
       "    }\n",
       "\n",
       "    .dataframe tbody tr th {\n",
       "        vertical-align: top;\n",
       "    }\n",
       "\n",
       "    .dataframe thead th {\n",
       "        text-align: right;\n",
       "    }\n",
       "</style>\n",
       "<table border=\"1\" class=\"dataframe\">\n",
       "  <thead>\n",
       "    <tr style=\"text-align: right;\">\n",
       "      <th></th>\n",
       "      <th>id</th>\n",
       "      <th>var_name</th>\n",
       "      <th>label</th>\n",
       "      <th>text</th>\n",
       "    </tr>\n",
       "  </thead>\n",
       "  <tbody>\n",
       "    <tr>\n",
       "      <th>0</th>\n",
       "      <td>1</td>\n",
       "      <td>_STATE</td>\n",
       "      <td>State FIPS Code</td>\n",
       "      <td>State FIPS Code</td>\n",
       "    </tr>\n",
       "    <tr>\n",
       "      <th>1</th>\n",
       "      <td>2</td>\n",
       "      <td>FMONTH</td>\n",
       "      <td>File Month</td>\n",
       "      <td>File Month</td>\n",
       "    </tr>\n",
       "    <tr>\n",
       "      <th>2</th>\n",
       "      <td>3</td>\n",
       "      <td>IDATE</td>\n",
       "      <td>Interview Date</td>\n",
       "      <td>Interview Date</td>\n",
       "    </tr>\n",
       "    <tr>\n",
       "      <th>3</th>\n",
       "      <td>4</td>\n",
       "      <td>IMONTH</td>\n",
       "      <td>Interview Month</td>\n",
       "      <td>Interview Month</td>\n",
       "    </tr>\n",
       "    <tr>\n",
       "      <th>4</th>\n",
       "      <td>5</td>\n",
       "      <td>IDAY</td>\n",
       "      <td>Interview Day</td>\n",
       "      <td>Interview Day</td>\n",
       "    </tr>\n",
       "  </tbody>\n",
       "</table>\n",
       "</div>"
      ],
      "text/plain": [
       "   id var_name            label             text\n",
       "0   1   _STATE  State FIPS Code  State FIPS Code\n",
       "1   2   FMONTH       File Month       File Month\n",
       "2   3    IDATE   Interview Date   Interview Date\n",
       "3   4   IMONTH  Interview Month  Interview Month\n",
       "4   5     IDAY    Interview Day    Interview Day"
      ]
     },
     "execution_count": 5,
     "metadata": {},
     "output_type": "execute_result"
    }
   ],
   "source": [
    "# Connect to the database\n",
    "conn = connect(param_dic)\n",
    "column_names = [\"id\", \"var_name\", \"label\", \"text\"]\n",
    "# Execute the \"SELECT *\" query to save question_info as a datafram\n",
    "question_info_df = postgresql_to_dataframe(conn, \"select * from question_info\", column_names)\n",
    "question_info_df.head()"
   ]
  },
  {
   "cell_type": "code",
   "execution_count": 6,
   "id": "9d8827ec",
   "metadata": {},
   "outputs": [
    {
     "name": "stdout",
     "output_type": "stream",
     "text": [
      "Connecting to the PostgreSQL database...\n",
      "Connection successful\n"
     ]
    },
    {
     "data": {
      "text/html": [
       "<div>\n",
       "<style scoped>\n",
       "    .dataframe tbody tr th:only-of-type {\n",
       "        vertical-align: middle;\n",
       "    }\n",
       "\n",
       "    .dataframe tbody tr th {\n",
       "        vertical-align: top;\n",
       "    }\n",
       "\n",
       "    .dataframe thead th {\n",
       "        text-align: right;\n",
       "    }\n",
       "</style>\n",
       "<table border=\"1\" class=\"dataframe\">\n",
       "  <thead>\n",
       "    <tr style=\"text-align: right;\">\n",
       "      <th></th>\n",
       "      <th>id</th>\n",
       "      <th>question_id</th>\n",
       "      <th>label</th>\n",
       "      <th>value</th>\n",
       "      <th>value_end</th>\n",
       "    </tr>\n",
       "  </thead>\n",
       "  <tbody>\n",
       "    <tr>\n",
       "      <th>0</th>\n",
       "      <td>1</td>\n",
       "      <td>1</td>\n",
       "      <td>Alabama</td>\n",
       "      <td>1</td>\n",
       "      <td>None</td>\n",
       "    </tr>\n",
       "    <tr>\n",
       "      <th>1</th>\n",
       "      <td>2</td>\n",
       "      <td>1</td>\n",
       "      <td>Alaska</td>\n",
       "      <td>2</td>\n",
       "      <td>None</td>\n",
       "    </tr>\n",
       "    <tr>\n",
       "      <th>2</th>\n",
       "      <td>3</td>\n",
       "      <td>1</td>\n",
       "      <td>Arizona</td>\n",
       "      <td>4</td>\n",
       "      <td>None</td>\n",
       "    </tr>\n",
       "    <tr>\n",
       "      <th>3</th>\n",
       "      <td>4</td>\n",
       "      <td>1</td>\n",
       "      <td>Arkansas</td>\n",
       "      <td>5</td>\n",
       "      <td>None</td>\n",
       "    </tr>\n",
       "    <tr>\n",
       "      <th>4</th>\n",
       "      <td>5</td>\n",
       "      <td>1</td>\n",
       "      <td>California</td>\n",
       "      <td>6</td>\n",
       "      <td>None</td>\n",
       "    </tr>\n",
       "  </tbody>\n",
       "</table>\n",
       "</div>"
      ],
      "text/plain": [
       "   id  question_id       label value value_end\n",
       "0   1            1     Alabama     1      None\n",
       "1   2            1      Alaska     2      None\n",
       "2   3            1     Arizona     4      None\n",
       "3   4            1    Arkansas     5      None\n",
       "4   5            1  California     6      None"
      ]
     },
     "execution_count": 6,
     "metadata": {},
     "output_type": "execute_result"
    }
   ],
   "source": [
    "# Connect to the database and repeat process for question_values\n",
    "conn = connect(param_dic)\n",
    "column_names = [\"id\", \"question_id\", \"label\", \"value\", \"value_end\"]\n",
    "# Execute the \"SELECT *\" query to save question_info as a datafram\n",
    "answer_info_df = postgresql_to_dataframe(conn, \"select * from question_values\", column_names)\n",
    "answer_info_df.head()"
   ]
  },
  {
   "cell_type": "code",
   "execution_count": 7,
   "id": "af1478bd",
   "metadata": {},
   "outputs": [],
   "source": [
    "#determing which columns of user answers (aka relevant answers) to bring over\n",
    "a = question_info_df['label'].values.tolist()\n",
    "b = question_info_df['var_name'].values.tolist()"
   ]
  },
  {
   "cell_type": "code",
   "execution_count": 8,
   "id": "16b6d5df",
   "metadata": {},
   "outputs": [],
   "source": [
    "zip_iterator = zip(b, a)\n",
    "a_dictionary = dict(zip_iterator)"
   ]
  },
  {
   "cell_type": "code",
   "execution_count": 9,
   "id": "1c881e7f",
   "metadata": {},
   "outputs": [
    {
     "name": "stdout",
     "output_type": "stream",
     "text": [
      "_STATE  :  State FIPS Code\n",
      "FMONTH  :  File Month\n",
      "IDATE  :  Interview Date\n",
      "IMONTH  :  Interview Month\n",
      "IDAY  :  Interview Day\n",
      "IYEAR  :  Interview Year\n",
      "DISPCODE  :  Final Disposition\n",
      "SEQNO  :  Annual Sequence Number\n",
      "_PSU  :  Primary Sampling Unit\n",
      "CTELENM1  :  Correct telephone number?\n",
      "PVTRESD1  :  Private Residence?\n",
      "COLGHOUS  :  Do you live in college housing?\n",
      "STATERE1  :  Resident of State\n",
      "CELPHONE  :  Cellular Telephone\n",
      "LADULT1  :  Are you 18 years of age or older?\n",
      "COLGSEX  :  Are you male or female?\n",
      "NUMADULT  :  Number of Adults in Household\n",
      "LANDSEX  :  Are you male or female?\n",
      "NUMMEN  :  Number of Adult men in Household\n",
      "NUMWOMEN  :  Number of Adult women in Household\n",
      "RESPSLCT  :  Respondent selection\n",
      "SAFETIME  :  Safe time to talk\n",
      "CTELNUM1  :  Correct Phone Number?\n",
      "CELLFON5  :  Is this a cell phone?\n",
      "CADULT1  :  Are you 18 years of age or older?\n",
      "CELLSEX  :  Are you male or female?\n",
      "PVTRESD3  :  Do you live in a private residence?\n",
      "CCLGHOUS  :  Do you live in college housing?\n",
      "CSTATE1  :  Do you currently live in  ____(state)____?\n",
      "LANDLINE  :  Do you also have a landline telephone?\n",
      "HHADULT  :  Number of Adults in Household\n",
      "SEXVAR  :  Sex of Respondent\n",
      "GENHLTH  :  General Health\n",
      "PHYSHLTH  :  Number of Days Physical Health Not Good\n",
      "MENTHLTH  :  Number of Days Mental Health Not Good\n",
      "POORHLTH  :  Poor Physical or Mental Health\n",
      "HLTHPLN1  :  Have any health care coverage\n",
      "PERSDOC2  :  Multiple Health Care Professionals\n",
      "MEDCOST  :  Could Not See Doctor Because of Cost\n",
      "CHECKUP1  :  Length of time since last routine checkup\n",
      "BPHIGH4  :  Ever Told Blood Pressure High\n",
      "BPMEDS  :  Currently Taking Blood Pressure Medication\n",
      "CHOLCHK2  :  How Long since Cholesterol Checked\n",
      "TOLDHI2  :  Ever Told Blood Cholesterol High\n",
      "CHOLMED2  :  Currently taking medicine for high cholesterol\n",
      "CVDINFR4  :  Ever Diagnosed with Heart Attack\n",
      "CVDCRHD4  :  Ever Diagnosed with Angina or Coronary Heart Disease\n",
      "CVDSTRK3  :  Ever Diagnosed with a Stroke\n",
      "ASTHMA3  :  Ever Told Had Asthma\n",
      "ASTHNOW  :  Still Have Asthma\n",
      "CHCSCNCR  :  (Ever told) you had skin cancer?\n",
      "CHCOCNCR  :  (Ever told) you had any other types of cancer?\n",
      "CHCCOPD2  :  (Ever told) (you had) chronic obstructive pulmonary disease, C.O.P.D., emphysema or chronic bronchitis?\n",
      "ADDEPEV3  :  (Ever told) you had a depressive disorder\n",
      "CHCKDNY2  :  Ever told you have kidney disease?\n",
      "DIABAGE3  :  Age When Told Had Diabetes\n",
      "ARTHEXER  :  Dr. Suggest Use of Physical Activity or Exercise for Arthritis or Joint Symptoms\n",
      "LMTJOIN3  :  Limited Because of Joint Symptoms\n",
      "JOINPAI2  :  How Bad Was Joint Pain\n",
      "EDUCA  :  Education Level\n",
      "NUMHHOL3  :  Household Telephones\n",
      "CPDEMO1B  :  Do you have a cell phone for personal use?\n",
      "EMPLOY1  :  Employment Status\n",
      "INCOME2  :  Income Level\n",
      "HEIGHT3  :  Reported Height in Feet and Inches\n",
      "DEAF  :  Are you deaf or do you have serious difficulty hearing?\n",
      "DECIDE  :  Difficulty Concentrating or Remembering\n",
      "DIFFDRES  :  Difficulty Dressing or Bathing\n",
      "SMOKE100  :  Smoked at Least 100 Cigarettes\n",
      "STOPSMK2  :  Stopped Smoking in past 12 months\n",
      "USENOW3  :  Use of Smokeless Tobacco Products\n",
      "AVEDRNK3  :  Avg alcoholic drinks per day in past 30\n",
      "MAXDRNKS  :  Most drinks on single occasion past 30 days\n",
      "EXRACT11  :  Type of Physical Activity\n",
      "EXERHMM1  :  Minutes or Hours Walking, Running, Jogging, or Swimming\n",
      "EXEROFT2  :  How Many Times Walking, Running, Jogging, or Swimming\n",
      "STRENGTH  :  How many times did you do physical activities or exercises to STRENGTHEN your muscles?\n",
      "FRUITJU2  :  How many times did you drink 100 percent PURE fruit juices?\n",
      "FRENCHF1  :  How often do you eat french fries or fried potatoes?\n",
      "VEGETAB2  :  How many times did you eat OTHER vegetables?\n",
      "FLSHTMY3  :  When did you receive your most recent seasonal flu shot/spray?\n",
      "PNEUVAC4  :  Pneumonia shot ever\n",
      "HIVTSTD3  :  Month and Year of Last HIV Test\n",
      "PDIABTST  :  Had a test for high blood sugar or diabetes in the past three years?\n",
      "INSULIN1  :  Now Taking Insulin\n",
      "FEETCHK3  :  How Often Check Feet for Sores or Irritations\n",
      "CHKHEMO3  :  Times Checked for Glycosylated Hemoglobin\n",
      "EYEEXAM1  :  Last Eye Exam Where Pupils Were Dilated\n",
      "DIABEDU  :  Ever Taken Class in Managing Diabetes\n",
      "HAVECFS  :  Still have Chronic Fatigue Syndrome or Myalgic Encephalomyelitis\n",
      "TOLDHEPC  :  Told had Hepatitis C\n",
      "PRIRHEPC  :  Were you treated for Hepatitis C prior to 2015\n",
      "HAVEHEPB  :  Told  had hepatitis B\n",
      "HPVADVC3  :  Have you ever had the HPV vaccination?\n",
      "IMFVPLA1  :  Where did you get your last flu shot/vaccine?\n",
      "DIABETE4  :  (Ever told) you had diabetes\n",
      "HAVARTH4  :  Told Had Arthritis\n",
      "ARTHEDU  :  Ever Taken Class in Managing Arthritis or Joint Symptoms\n",
      "ARTHDIS2  :  Does Arthritis Affect Whether You Work\n",
      "MARITAL  :  Marital Status\n",
      "RENTHOM1  :  Own or Rent Home\n",
      "NUMPHON3  :  Residential Phones\n",
      "VETERAN3  :  Are You A Veteran\n",
      "CHILDREN  :  Number of Children in Household\n",
      "WEIGHT2  :  Reported Weight in Pounds\n",
      "PREGNANT  :  Pregnancy Status\n",
      "BLIND  :  Blind or Difficulty seeing\n",
      "DIFFWALK  :  Difficulty Walking or Climbing Stairs\n",
      "DIFFALON  :  Difficulty Doing Errands Alone\n",
      "SMOKDAY2  :  Frequency of Days Now Smoking\n",
      "LASTSMK2  :  Interval Since Last Smoked\n",
      "ALCDAY5  :  Days in past 30 had alcoholic beverage\n",
      "DRNK3GE5  :  Binge Drinking\n",
      "EXERANY2  :  Exercise in Past 30 Days\n",
      "EXEROFT1  :  How Many Times Walking, Running, Jogging, or Swimming\n",
      "EXRACT21  :  Other Type of Physical Activity Giving Most Exercise During Past Month\n",
      "EXERHMM2  :  Minutes or Hours Walking, Running, Jogging, or Swimming\n",
      "FRUIT2  :  How many times did you eat fruit?\n",
      "FVGREEN1  :  How many times did you eat dark green vegetables?\n",
      "POTATOE1  :  How Often Do You Eat Potatoes\n",
      "FLUSHOT7  :  Adult flu shot/spray past 12 mos\n",
      "TETANUS1  :  Received Tetanus Shot Since 2005?\n",
      "HIVTST7  :  Ever tested H.I.V.\n",
      "HIVRISK5  :  Do Any High Risk Situations Apply\n",
      "PREDIAB1  :  Ever been told by a doctor or other health professional that you have pre-diabetes or borderline diabetes?\n",
      "BLDSUGAR  :  How Often Check Blood for Glucose\n",
      "DOCTDIAB  :  Times Seen Health Professional for Diabetes\n",
      "FEETCHK  :  Times Feet Check for Sores/irritations\n",
      "DIABEYE  :  Ever Told Diabetes Has Affected Eyes\n",
      "TOLDCFS  :  Told had Chronic Fatigue Syndrome (CFS) or (Myalgic Encephalomyelitis) ME\n",
      "WORKCFS  :  How many hours a week are you been able to work\n",
      "TRETHEPC  :  Treated for Hepatitis C\n",
      "HAVEHEPC  :  Still have Hepatitis C\n",
      "MEDSHEPB  :  Currently taking medicine for hepatitis B\n",
      "HPVADSHT  :  How many HPV shots did you receive?\n",
      "_FRTRES1  :  Missing any fruit responses\n",
      "SHINGLE2  :  Have you ever had the shingles or zoster vaccine?\n",
      "LCSLAST  :  How old when you last smoked?\n",
      "LCSCTSCN  :  Did you have a CT or CAT scan?\n",
      "HOWLONG  :  How Long since Last Mammogram\n",
      "LASTPAP2  :  How Long Since Last Pap Test\n",
      "HPLSTTST  :  How long since your last HPV test?\n",
      "PCPSAAD3  :  Has a health professional EVER talked with you about the advantages of the PSA test?\n",
      "PCPSARE1  :  Has a doctor EVER recommended that you have a PSA test?\n",
      "PSATIME  :  Time Since Last PSA Test\n",
      "PCPSADE1  :  Why was PSA test done?\n",
      "BLDSTOOL  :  Ever Had Blood Stool Test Using Home Kit\n",
      "HADSIGM3  :  Ever Had Sigmoidoscopy/Colonoscopy\n",
      "LASTSIG3  :  Time Since Last Sigmoidoscopy/Colonoscopy\n",
      "CNCRAGE  :  Age Told Had Cancer\n",
      "CSRVTRT3  :  Currently Receiving Treatment for Cancer\n",
      "CSRVSUM  :  Did You Receive a Summary of Cancer Treatments Received\n",
      "CSRVINST  :  Instructions Written or Printed\n",
      "CSRVDEIN  :  Ever Denied Insurance Coverage Because Of Your Cancer?\n",
      "CSRVPAIN  :  Currently Have Physical Pain From Cancer Or Treatment?\n",
      "HLTHCVR1  :  Primary Health Insurance Coverage\n",
      "HOMBPCHK  :  Told check blood pressure at home\n",
      "WHEREBP  :  Where do you get blood pressure taken\n",
      "WTCHSALT  :  Watching Sodium or Salt Intake\n",
      "INDORTAN  :  Times used an indoor tanning device\n",
      "SUNPRTCT  :  How often protect yourself from the sun\n",
      "WKENDOUT  :  How often outside on weekends\n",
      "CDHOUSE  :  Given up day-to-day chores due to confusion or memory loss\n",
      "CDHELP  :  When you need help with day-to-day activities are you able to get it\n",
      "CDDISCUS  :  Have you discussed your confusion or memory loss with a health care professional?\n",
      "CRGVREL3  :  Relationship Of Person To Whom You Are Giving Care?\n",
      "CRGVHRS1  :  How Many Hours Do You Provide Care For Person?\n",
      "CRGVALZD  :  Does Person Being Cared For Have Alzheimer´s Disease?\n",
      "CRGVHOU1  :  Managed household tasks\n",
      "ACEDEPRS  :  Live With Anyone Depressed, Mentally Ill, Or Suicidal?\n",
      "ACEDRUGS  :  Live With Anyone Who Used Illegal Drugs or Abused Prescriptions?\n",
      "ACEDIVRC  :  Were Your Parents Divorced/Seperated?\n",
      "ACEHURT1  :  How Often Did A Parent Physically Hurt You In Any Way?\n",
      "ACETOUCH  :  How Often Did Anyone Ever Touch You Sexually?\n",
      "ACEHVSEX  :  How Often Did Anyone Ever Force You to Have Sex?\n",
      "TYPCNTR8  :  What did you do to keep you from getting pregnant?\n",
      "ASBIALCH  :  Asked during checkup if you drink alchohol\n",
      "ASBIBING  :  Asked whether you drank [5 FOR MEN /4 FOR WOMEN] or more alcoholic drinks on an occasion?\n",
      "ASBIRDUC  :  Were you advised to reduce or quit your drinking?\n",
      "LCSFIRST  :  How old when you first started smoking?\n",
      "LCSNUMCG  :  On average, how many cigarettes do you smoke each day?\n",
      "HADMAM  :  Have You Ever Had a Mammogram\n",
      "HADPAP2  :  Ever Had a Pap Test\n",
      "HPVTEST  :  Have you ever had an HPV test?\n",
      "HADHYST2  :  Had Hysterectomy\n",
      "PCPSADI1  :  Has a health professional EVER talked with you about the disadvantages of the PSA test?\n",
      "PSATEST1  :  Ever Had PSA Test\n",
      "PCPSARS1  :  What was the MAIN reason you had this PSA test?\n",
      "PCDMDEC1  :  Who made the decision with you to have PSA test?\n",
      "LSTBLDS3  :  Time Since Last Blood Stool Test\n",
      "HADSGCO1  :  Was your last test a sigmoidoscopy or colonoscopy?\n",
      "CNCRDIFF  :  How Many Types of Cancer?\n",
      "CNCRTYP1  :  Type of Cancer\n",
      "CSRVDOC1  :  What Type of Doctor Provides Majority of Your Care\n",
      "CSRVRTRN  :  Ever Receive Instructions From A Doctor For Follow-Up Check-Ups\n",
      "CSRVINSR  :  Did Health Insurance Pay For All Of Your Cancer Treatment\n",
      "CSRVCLIN  :  Participate In Clinical Trial As Part Of Cancer Treatment?\n",
      "CSRVCTL2  :  Is Pain Under Control?\n",
      "ASPIRIN  :  How often do you take an aspirin\n",
      "HOMRGCHK  :  Regularly check blood pressure at home\n",
      "SHAREBP  :  How do you share your blood pressure numbers\n",
      "DRADVISE  :  Doctor Advised Reduced Sodium/Salt Intake\n",
      "NUMBURN3  :  Number Of Sunburns In Past 12 Months\n",
      "WKDAYOUT  :  How often outside on weekdays\n",
      "CIMEMLOS  :  Have you experienced confusion or memory loss that is happening more often or is getting worse?\n",
      "CDASSIST  :  Need assistance with day-to_day activities due to confusion or memory loss\n",
      "CDSOCIAL  :  Does confusion or memory loss interfere with work or social activities\n",
      "CAREGIV1  :  Provided regular care for family or friend\n",
      "CRGVLNG1  :  How Long Provided Care For Person.\n",
      "CRGVPRB3  :  What Is The Major Health Problem, Illness, Disability For Care For Person?\n",
      "CRGVPER1  :  Managed personal care\n",
      "CRGVEXPT  :  Do you expect to have a relative you will need to provide care for?\n",
      "ACEDRINK  :  Live With a Problem Drinker/Alcoholic?\n",
      "ACEPRISN  :  Live With Anyone Who Served TIme in Prison or Jail?\n",
      "ACEPUNCH  :  How Often Did Your Parents Beat Each Other Up?\n",
      "ACESWEAR  :  How Often Did A Parent Swear At You?\n",
      "ACETTHEM  :  How Often Did Anyone Make You Touch Them Sexually?\n",
      "PFPPRVN3  :  Did you do anything to keep from getting pregnant?\n",
      "NOBCUSE7  :  What was main reason for not doing anything to keep you from getting pregnant?\n",
      "ASBIDRNK  :  Asked in person or by form how much you drink?\n",
      "ASBIADVC  :  Offered advice about what level of drinking is harmful or risky?\n",
      "MARIJAN1  :  During the past 30 days, on how many days did you use marijuana or hashish?\n",
      "RSNMRJN1  :  What was the reason you used marijuana?\n",
      "BIRTHSEX  :  Are you male or female?\n",
      "SOFEMALE  :  Sexual orientation\n",
      "RCSGENDR  :  Gender of child\n",
      "CASTHDX2  :  Hlth pro ever said child has asthma\n",
      "QSTVER  :  Questionnaire Version Identifier\n",
      "_METSTAT  :  Metropolitan Status\n",
      "MSCODE  :  Metropolitan Status Code\n",
      "_STRWT  :  Stratum weight\n",
      "_WT2RAKE  :  Design weight use in raking\n",
      "_CHISPNC  :  Child Hispanic, Latino/a, or Spanish origin calculated variable\n",
      "_CPRACE  :  Preferred Child Race Categories\n",
      "_DUALUSE  :  Dual Phone Use Categories\n",
      "_LLCPWT2  :  Truncated design weight used in adult combined land line and cell phone raking\n",
      "_RFHLTH  :  Adults with good or better health\n",
      "_MENT14D  :  Computed Mental Health Status\n",
      "_RFHYPE5  :  High Blood Pressure Calculated Variable\n",
      "_RFCHOL2  :  High Cholesterol Calculated Variable\n",
      "_LTASTH1  :  Lifetime Asthma Calculated Variable\n",
      "_ASTHMS1  :  Computed Asthma Status\n",
      "_LMTACT2  :  Limited usual activities\n",
      "_PRACE1  :  Computed Preferred Race\n",
      "_HISPANC  :  Hispanic, Latino/a, or Spanish origin calculated variable\n",
      "_RACEG21  :  Create Computed Non-Hispanic Whites/All Others Race Categories Race/Ethnic Group Codes Used In Post-Stratification Variable\n",
      "_RACE_G1  :  Computed race groups used for internet prevalence tables\n",
      "_AGEG5YR  :  Reported age in five-year age categories calculated variable\n",
      "_AGE80  :  Imputed Age value collapsed above 80\n",
      "HTIN4  :  Computed Height in Inches\n",
      "WTKG3  :  Computed Weight in Kilograms\n",
      "_BMI5CAT  :  Computed body mass index categories\n",
      "_CHLDCNT  :  Computed number of children in household\n",
      "_INCOMG  :  Computed income categories\n",
      "_RFSMOK3  :  Current Smoking Calculated Variable\n",
      "DROCDY3_  :  Computed drink-occasions-per-day\n",
      "_DRNKWK1  :  Computed number of drinks of alcohol beverages per week\n",
      "_TOTINDA  :  Leisure Time Physical Activity Calculated Variable\n",
      "METVL21_  :  Activity MET Value for Second Activity\n",
      "FC601_  :  Estimated Functional Capacity\n",
      "ACTIN22_  :  Estimated Activity Intensity for Second Activity\n",
      "PADUR2_  :  Minutes of Second Activity\n",
      "PAFREQ2_  :  Physical Activity Frequency per Week for Second Activity\n",
      "_MINAC21  :  Minutes of Physical Activity per week for Second Activity\n",
      "PAMISS2_  :  Missing Physical Activity Data\n",
      "PAMIN22_  :  Minutes of Physical Activity per week for Second Activity\n",
      "PAVIG12_  :  Minutes of Vigorous Physical Activity per week for First Activity\n",
      "PA2VIGM_  :  Minutes of total Vigorous Physical Activity per week\n",
      "_PAINDX2  :  Physical Activity Index\n",
      "_PA300R3  :  300 Minute Physical Activity Calculated Variable\n",
      "_PASTRNG  :  Muscle Strengthening Recommendation\n",
      "_PASTAE2  :  Aerobic and Strengthening (2-level)\n",
      "FRUTDA2_  :  Computed Fruit intake in times per day\n",
      "FRNCHDA_  :  Computed French Fry intake in times per day\n",
      "VEGEDA2_  :  Computed Other Vegetable intake in times per  day\n",
      "_MISVEG1  :  The number of missing vegetable responses\n",
      "_VEGRES1  :  Missing any vegetable responses\n",
      "_VEGESU1  :  Total vegetables consumed per day\n",
      "_VEGLT1A  :  Consume Vegetables 1 or more times per day\n",
      "_VEG23A  :  Reported consuming Vegetables >23 per day\n",
      "USEMRJN2  :  During the past 30 days, how did you primarily use marijuana?\n",
      "FOODSTMP  :  In the past 12 months have you received food stamps\n",
      "SOMALE  :  Sexual orientation\n",
      "TRNSGNDR  :  Do you consider yourself to be transgender?\n",
      "RCSRLTN2  :  Relationship to child\n",
      "CASTHNO2  :  Child still have asthma?\n",
      "QSTLANG  :  Language identifier\n",
      "_URBSTAT  :  Urban/Rural Status\n",
      "_STSTR  :  Sample Design Stratification Variable\n",
      "_RAWRAKE  :  Raw weighting factor used in raking\n",
      "_IMPRACE  :  Imputed race/ethnicity value\n",
      "_CRACE1  :  Child Non-Hispanic Race including Multiracial\n",
      "_CLLCPWT  :  Final child weight: Land-line and Cell-Phone data\n",
      "_DUALCOR  :  Dual Phone Use Correction Factor\n",
      "_LLCPWT  :  Final weight: Land-line and cell-phone data\n",
      "_PHYS14D  :  Computed Physical Health Status\n",
      "_HCVU651  :  Respondents aged 18-64 with health care coverage\n",
      "_CHOLCH2  :  Cholesterol Checked Calculated Variable\n",
      "_MICHD  :  Ever had CHD or MI\n",
      "_CASTHM1  :  Current Asthma Calculated Variable\n",
      "_DRDXAR2  :  Respondents diagnosed with arthritis\n",
      "_LMTWRK2  :  Limited work activities\n",
      "_MRACE1  :  Calculated non-Hispanic Race including multiracial\n",
      "_RACE  :  Computed Race-Ethnicity grouping\n",
      "_RACEGR3  :  Computed Five level race/ethnicity category.\n",
      "_SEX  :  Calculated sex variable\n",
      "_AGE65YR  :  Reported age in two age groups calculated variable\n",
      "_AGE_G  :  Imputed age in six groups\n",
      "HTM4  :  Computed Height in Meters\n",
      "_BMI5  :  Computed body mass index\n",
      "_RFBMI5  :  Overweight or obese calculated variable\n",
      "_EDUCAG  :  Computed level of education completed categories\n",
      "_SMOKER3  :  Computed Smoking Status\n",
      "DRNKANY5  :  Drink any alcoholic beverages in past 30 days\n",
      "_RFBING5  :  Binge Drinking Calculated Variable\n",
      "_RFDRHV7  :  Heavy Alcohol Consumption  Calculated Variable\n",
      "METVL11_  :  Activity MET Value for First Activity\n",
      "MAXVO21_  :  Estimated Age-Gender Specific Maximum Oxygen Consumption\n",
      "ACTIN12_  :  Estimated Activity Intensity for First Activity\n",
      "PADUR1_  :  Minutes of First Activity\n",
      "PAFREQ1_  :  Physical Activity Frequency per Week for First Activity\n",
      "_MINAC11  :  Minutes of Physical Activity per week for First Activity\n",
      "STRFREQ_  :  Strength Activity Frequency per Week\n",
      "PAMIN12_  :  Minutes of Physical Activity per week for First Activity\n",
      "PA2MIN_  :  Minutes of total Physical Activity per week\n",
      "PAVIG22_  :  Minutes of Vigorous Physical Activity per week for Second Activity\n",
      "_PACAT2  :  Physical Activity Categories\n",
      "_PA150R3  :  150 Minute Physical Activity Calculated Variable\n",
      "_PA30022  :  300 Minute Physical Activity 2-Level Calculated Variable\n",
      "_PAREC2  :  Aerobic and Strengthening Guideline\n",
      "FTJUDA2_  :  Computed Fruit Juice intake in times per day\n",
      "GRENDA1_  :  Computed Dark Green Vegetable intake in times per day\n",
      "POTADA1_  :  Computed Potato Servings per day\n",
      "_MISFRT1  :  The number of missing fruit responses\n",
      "_FRUTSU1  :  Total fruits consumed per day\n",
      "_FRTLT1A  :  Consume Fruit 1 or more times per day\n",
      "_FRT16A  :  Reported consuming Fruit >16 per day\n",
      "_FRUITE1  :  Fruit Exclusion from analyses\n",
      "_FLSHOT7  :  Flu Shot Calculated Variable\n",
      "_AIDTST4  :  Ever been tested for HIV calculated variable\n",
      "_VEGETE1  :  Vegetable Exclusion from analyses\n",
      "_PNEUMO3  :  Pneumonia Vaccination Calculated Variable\n"
     ]
    }
   ],
   "source": [
    "for key, value in a_dictionary.items():\n",
    "    print(key, ' : ', value)"
   ]
  },
  {
   "cell_type": "code",
   "execution_count": 60,
   "id": "682ae889",
   "metadata": {},
   "outputs": [],
   "source": [
    "#select columns to include from list above for health behaviour features predicting general, mental and physical health\n",
    "columns = [\"id\", \"_STATE\", \"GENHLTH\", \"PHYSHLTH\", \"MENTHLTH\", \"POORHLTH\", \"EXRACT11\", \"PAFREQ1_\", \"_MINAC11\", \"ACTIN12_\", \"EXRACT21\", \"PAFREQ2_\", \"_MINAC21\", \"ACTIN22_\",  \"STRFREQ_\", \"PA2MIN_\", \"_METSTAT\", \"_URBSTAT\", \"HTIN4\", \"WTKG3\", \"_BMI5\", \"_SMOKER3\", \"_DRNKWK1\", \"FC601_\", \"FTJUDA2_\",  \"GRENDA1_\", \"VEGEDA2_\", \"POTADA1_\", \"FRNCHDA_\", \"_FRUTSU1\", \"_VEGESU1\", \"_PAINDX2\", \"_PASTRNG\", \"_AGE80\"]                 "
   ]
  },
  {
   "cell_type": "code",
   "execution_count": 188,
   "id": "ddb8d7ae",
   "metadata": {},
   "outputs": [
    {
     "name": "stdout",
     "output_type": "stream",
     "text": [
      "Connecting to the PostgreSQL database...\n",
      "Connection successful\n"
     ]
    }
   ],
   "source": [
    "# Connect to the database and repeat process for user_answers: limit of 500\n",
    "conn = connect(param_dic)\n",
    "column_names = columns\n",
    "# Execute the \"SELECT *\" query to save question_info as a datafram\n",
    "health_behaviour_df = postgresql_to_dataframe(conn, f\"select id, _STATE, GENHLTH, PHYSHLTH, MENTHLTH, POORHLTH, EXRACT11, PAFREQ1_, _MINAC11, ACTIN12_, EXRACT21, PAFREQ2_, _MINAC21, ACTIN22_,  STRFREQ_, PA2MIN_, _METSTAT, _URBSTAT, HTIN4, WTKG3, _BMI5, _SMOKER3, _DRNKWK1, FC601_, FTJUDA2_,  GRENDA1_, VEGEDA2_, POTADA1_, FRNCHDA_, _FRUTSU1, _VEGESU1,  _PAINDX2, _PASTRNG, _AGE80 from user_answers\", column_names)\n"
   ]
  },
  {
   "cell_type": "code",
   "execution_count": 189,
   "id": "86d58daf",
   "metadata": {},
   "outputs": [
    {
     "data": {
      "text/html": [
       "<div>\n",
       "<style scoped>\n",
       "    .dataframe tbody tr th:only-of-type {\n",
       "        vertical-align: middle;\n",
       "    }\n",
       "\n",
       "    .dataframe tbody tr th {\n",
       "        vertical-align: top;\n",
       "    }\n",
       "\n",
       "    .dataframe thead th {\n",
       "        text-align: right;\n",
       "    }\n",
       "</style>\n",
       "<table border=\"1\" class=\"dataframe\">\n",
       "  <thead>\n",
       "    <tr style=\"text-align: right;\">\n",
       "      <th></th>\n",
       "      <th>id</th>\n",
       "      <th>_STATE</th>\n",
       "      <th>GENHLTH</th>\n",
       "      <th>PHYSHLTH</th>\n",
       "      <th>MENTHLTH</th>\n",
       "      <th>POORHLTH</th>\n",
       "      <th>EXRACT11</th>\n",
       "      <th>PAFREQ1_</th>\n",
       "      <th>_MINAC11</th>\n",
       "      <th>ACTIN12_</th>\n",
       "      <th>...</th>\n",
       "      <th>FTJUDA2_</th>\n",
       "      <th>GRENDA1_</th>\n",
       "      <th>VEGEDA2_</th>\n",
       "      <th>POTADA1_</th>\n",
       "      <th>FRNCHDA_</th>\n",
       "      <th>_FRUTSU1</th>\n",
       "      <th>_VEGESU1</th>\n",
       "      <th>_PAINDX2</th>\n",
       "      <th>_PASTRNG</th>\n",
       "      <th>_AGE80</th>\n",
       "    </tr>\n",
       "  </thead>\n",
       "  <tbody>\n",
       "    <tr>\n",
       "      <th>0</th>\n",
       "      <td>31580</td>\n",
       "      <td>6.0</td>\n",
       "      <td>3.0</td>\n",
       "      <td>88.0</td>\n",
       "      <td>88.0</td>\n",
       "      <td>None</td>\n",
       "      <td>64.0</td>\n",
       "      <td>7000.0</td>\n",
       "      <td>1260.0</td>\n",
       "      <td>1.0</td>\n",
       "      <td>...</td>\n",
       "      <td>None</td>\n",
       "      <td>None</td>\n",
       "      <td>None</td>\n",
       "      <td>None</td>\n",
       "      <td>None</td>\n",
       "      <td>None</td>\n",
       "      <td>None</td>\n",
       "      <td>1.0</td>\n",
       "      <td>2.0</td>\n",
       "      <td>46.0</td>\n",
       "    </tr>\n",
       "    <tr>\n",
       "      <th>1</th>\n",
       "      <td>31581</td>\n",
       "      <td>6.0</td>\n",
       "      <td>4.0</td>\n",
       "      <td>2.0</td>\n",
       "      <td>5.0</td>\n",
       "      <td>88.0</td>\n",
       "      <td>18.0</td>\n",
       "      <td>467.0</td>\n",
       "      <td>28.0</td>\n",
       "      <td>2.0</td>\n",
       "      <td>...</td>\n",
       "      <td>43.0</td>\n",
       "      <td>43.0</td>\n",
       "      <td>29.0</td>\n",
       "      <td>3.0</td>\n",
       "      <td>14.0</td>\n",
       "      <td>114.0</td>\n",
       "      <td>89.0</td>\n",
       "      <td>2.0</td>\n",
       "      <td>2.0</td>\n",
       "      <td>57.0</td>\n",
       "    </tr>\n",
       "    <tr>\n",
       "      <th>2</th>\n",
       "      <td>31582</td>\n",
       "      <td>6.0</td>\n",
       "      <td>2.0</td>\n",
       "      <td>3.0</td>\n",
       "      <td>10.0</td>\n",
       "      <td>10.0</td>\n",
       "      <td>64.0</td>\n",
       "      <td>6000.0</td>\n",
       "      <td>210.0</td>\n",
       "      <td>1.0</td>\n",
       "      <td>...</td>\n",
       "      <td>0.0</td>\n",
       "      <td>33.0</td>\n",
       "      <td>100.0</td>\n",
       "      <td>13.0</td>\n",
       "      <td>33.0</td>\n",
       "      <td>10.0</td>\n",
       "      <td>179.0</td>\n",
       "      <td>1.0</td>\n",
       "      <td>2.0</td>\n",
       "      <td>58.0</td>\n",
       "    </tr>\n",
       "    <tr>\n",
       "      <th>3</th>\n",
       "      <td>31583</td>\n",
       "      <td>6.0</td>\n",
       "      <td>3.0</td>\n",
       "      <td>88.0</td>\n",
       "      <td>5.0</td>\n",
       "      <td>88.0</td>\n",
       "      <td>64.0</td>\n",
       "      <td>5000.0</td>\n",
       "      <td>200.0</td>\n",
       "      <td>1.0</td>\n",
       "      <td>...</td>\n",
       "      <td>17.0</td>\n",
       "      <td>10.0</td>\n",
       "      <td>71.0</td>\n",
       "      <td>3.0</td>\n",
       "      <td>29.0</td>\n",
       "      <td>46.0</td>\n",
       "      <td>113.0</td>\n",
       "      <td>1.0</td>\n",
       "      <td>2.0</td>\n",
       "      <td>35.0</td>\n",
       "    </tr>\n",
       "    <tr>\n",
       "      <th>4</th>\n",
       "      <td>31584</td>\n",
       "      <td>6.0</td>\n",
       "      <td>3.0</td>\n",
       "      <td>88.0</td>\n",
       "      <td>30.0</td>\n",
       "      <td>15.0</td>\n",
       "      <td>64.0</td>\n",
       "      <td>4000.0</td>\n",
       "      <td>120.0</td>\n",
       "      <td>1.0</td>\n",
       "      <td>...</td>\n",
       "      <td>57.0</td>\n",
       "      <td>3.0</td>\n",
       "      <td>43.0</td>\n",
       "      <td>14.0</td>\n",
       "      <td>29.0</td>\n",
       "      <td>100.0</td>\n",
       "      <td>89.0</td>\n",
       "      <td>1.0</td>\n",
       "      <td>1.0</td>\n",
       "      <td>23.0</td>\n",
       "    </tr>\n",
       "  </tbody>\n",
       "</table>\n",
       "<p>5 rows × 34 columns</p>\n",
       "</div>"
      ],
      "text/plain": [
       "      id _STATE GENHLTH PHYSHLTH MENTHLTH POORHLTH EXRACT11 PAFREQ1_ _MINAC11  \\\n",
       "0  31580    6.0     3.0     88.0     88.0     None     64.0   7000.0   1260.0   \n",
       "1  31581    6.0     4.0      2.0      5.0     88.0     18.0    467.0     28.0   \n",
       "2  31582    6.0     2.0      3.0     10.0     10.0     64.0   6000.0    210.0   \n",
       "3  31583    6.0     3.0     88.0      5.0     88.0     64.0   5000.0    200.0   \n",
       "4  31584    6.0     3.0     88.0     30.0     15.0     64.0   4000.0    120.0   \n",
       "\n",
       "  ACTIN12_  ... FTJUDA2_ GRENDA1_ VEGEDA2_ POTADA1_ FRNCHDA_ _FRUTSU1  \\\n",
       "0      1.0  ...     None     None     None     None     None     None   \n",
       "1      2.0  ...     43.0     43.0     29.0      3.0     14.0    114.0   \n",
       "2      1.0  ...      0.0     33.0    100.0     13.0     33.0     10.0   \n",
       "3      1.0  ...     17.0     10.0     71.0      3.0     29.0     46.0   \n",
       "4      1.0  ...     57.0      3.0     43.0     14.0     29.0    100.0   \n",
       "\n",
       "  _VEGESU1 _PAINDX2 _PASTRNG _AGE80  \n",
       "0     None      1.0      2.0   46.0  \n",
       "1     89.0      2.0      2.0   57.0  \n",
       "2    179.0      1.0      2.0   58.0  \n",
       "3    113.0      1.0      2.0   35.0  \n",
       "4     89.0      1.0      1.0   23.0  \n",
       "\n",
       "[5 rows x 34 columns]"
      ]
     },
     "execution_count": 189,
     "metadata": {},
     "output_type": "execute_result"
    }
   ],
   "source": [
    "health_behaviour_df.head()"
   ]
  },
  {
   "cell_type": "code",
   "execution_count": 190,
   "id": "fe677feb",
   "metadata": {},
   "outputs": [],
   "source": [
    "#filling blank spaces with NaN\n",
    "health_behaviour_df = health_behaviour_df.fillna(value=np.nan)"
   ]
  },
  {
   "cell_type": "code",
   "execution_count": 191,
   "id": "984ffa6b",
   "metadata": {},
   "outputs": [],
   "source": [
    "#Make a copy of health_behaviour_df to perform value recoding on\n",
    "recoded_health_behaviour_df = health_behaviour_df.copy()"
   ]
  },
  {
   "cell_type": "code",
   "execution_count": 192,
   "id": "ffefc96d",
   "metadata": {},
   "outputs": [
    {
     "name": "stdout",
     "output_type": "stream",
     "text": [
      "id               0\n",
      "_STATE           0\n",
      "GENHLTH         26\n",
      "PHYSHLTH        32\n",
      "MENTHLTH        19\n",
      "POORHLTH    188931\n",
      "EXRACT11    130359\n",
      "PAFREQ1_    140516\n",
      "_MINAC11    146930\n",
      "ACTIN12_    135951\n",
      "EXRACT21    134658\n",
      "PAFREQ2_    237530\n",
      "_MINAC21    147892\n",
      "ACTIN22_    143575\n",
      "STRFREQ_     37082\n",
      "PA2MIN_     140384\n",
      "_METSTAT      8458\n",
      "_URBSTAT      8458\n",
      "HTIN4        20355\n",
      "WTKG3        29748\n",
      "_BMI5        36203\n",
      "_SMOKER3         0\n",
      "_DRNKWK1         0\n",
      "FC601_           0\n",
      "FTJUDA2_     38440\n",
      "GRENDA1_     38902\n",
      "VEGEDA2_     43369\n",
      "POTADA1_     42224\n",
      "FRNCHDA_     38866\n",
      "_FRUTSU1     44600\n",
      "_VEGESU1     53430\n",
      "_PAINDX2         0\n",
      "_PASTRNG         0\n",
      "_AGE80           0\n",
      "dtype: int64\n"
     ]
    }
   ],
   "source": [
    "print(health_behaviour_df.isnull().sum())"
   ]
  },
  {
   "cell_type": "markdown",
   "id": "224da165",
   "metadata": {},
   "source": [
    "## TODO: go through features and correct poorly coded values (e.g. 9999 = no answer)\n",
    "clean up DF for null values\n",
    "clean up poorly encoded variables"
   ]
  },
  {
   "cell_type": "markdown",
   "id": "37ac432c",
   "metadata": {},
   "source": [
    "### GENHLTH \n",
    "#### question: Would you say that in general your health is:\n",
    "\n",
    "Answers currently coded as : \n",
    "   - 1: Excellent\n",
    "   - 2: Very Good\n",
    "   - 3: Good\n",
    "   - 4: Fair\n",
    "   - 5: Poor\n",
    "   - 7: Don't know/Not Sure\n",
    "   - 9: Refused\n",
    "   - BLANK: Not asked or Missing\n",
    "   \n",
    "Recode to: \n",
    "   - Nan: Don't know/Not Sure\n",
    "   - Nan: Refused\n",
    "   - BLANK: Not asked or Missing \n",
    "   - 1: Poor\n",
    "   - 2: Fair\n",
    "   - 3: Good\n",
    "   - 4: Very Good\n",
    "   - 5: Excellent\n",
    "   "
   ]
  },
  {
   "cell_type": "code",
   "execution_count": 193,
   "id": "503e03d7",
   "metadata": {},
   "outputs": [
    {
     "data": {
      "text/plain": [
       "0     3.0\n",
       "1     4.0\n",
       "2     2.0\n",
       "3     3.0\n",
       "4     3.0\n",
       "5     3.0\n",
       "6     1.0\n",
       "7     3.0\n",
       "8     4.0\n",
       "9     2.0\n",
       "10    3.0\n",
       "11    2.0\n",
       "12    3.0\n",
       "13    3.0\n",
       "14    3.0\n",
       "15    3.0\n",
       "16    1.0\n",
       "17    1.0\n",
       "18    4.0\n",
       "19    5.0\n",
       "Name: GENHLTH, dtype: object"
      ]
     },
     "execution_count": 193,
     "metadata": {},
     "output_type": "execute_result"
    }
   ],
   "source": [
    "#print out original gen health values for reference and check data type\n",
    "health_behaviour_df['GENHLTH'].head(20)"
   ]
  },
  {
   "cell_type": "code",
   "execution_count": 195,
   "id": "2daa4dd3",
   "metadata": {},
   "outputs": [],
   "source": [
    "#recode GENHLTH values to new coding scheme described above\n",
    "recoded_health_behaviour_df.loc[health_behaviour_df.GENHLTH == 1., \"GENHLTH\"] = 5\n",
    "recoded_health_behaviour_df.loc[health_behaviour_df.GENHLTH == 2., \"GENHLTH\"] = 4\n",
    "recoded_health_behaviour_df.loc[health_behaviour_df.GENHLTH == 3., \"GENHLTH\"] = 3\n",
    "recoded_health_behaviour_df.loc[health_behaviour_df.GENHLTH == 4., \"GENHLTH\"] = 2\n",
    "recoded_health_behaviour_df.loc[health_behaviour_df.GENHLTH == 5., \"GENHLTH\"] = 1\n",
    "recoded_health_behaviour_df.loc[health_behaviour_df.GENHLTH == 7., \"GENHLTH\"] = np.NaN\n",
    "recoded_health_behaviour_df.loc[health_behaviour_df.GENHLTH == 9., \"GENHLTH\"] = np.NaN"
   ]
  },
  {
   "cell_type": "code",
   "execution_count": 196,
   "id": "5dfbe481",
   "metadata": {},
   "outputs": [],
   "source": [
    "recoded_health_behaviour_df.GENHLTH = pd.to_numeric(recoded_health_behaviour_df.GENHLTH).astype('Int32')"
   ]
  },
  {
   "cell_type": "code",
   "execution_count": 197,
   "id": "a84b5121",
   "metadata": {},
   "outputs": [
    {
     "data": {
      "text/plain": [
       "0     3\n",
       "1     2\n",
       "2     4\n",
       "3     3\n",
       "4     3\n",
       "5     3\n",
       "6     5\n",
       "7     3\n",
       "8     2\n",
       "9     4\n",
       "10    3\n",
       "11    4\n",
       "12    3\n",
       "13    3\n",
       "14    3\n",
       "15    3\n",
       "16    5\n",
       "17    5\n",
       "18    2\n",
       "19    1\n",
       "Name: GENHLTH, dtype: Int32"
      ]
     },
     "execution_count": 197,
     "metadata": {},
     "output_type": "execute_result"
    }
   ],
   "source": [
    "#print to confirm values were recoded correctly\n",
    "recoded_health_behaviour_df['GENHLTH'].head(20)"
   ]
  },
  {
   "cell_type": "code",
   "execution_count": 198,
   "id": "b0136e7f",
   "metadata": {},
   "outputs": [
    {
     "name": "stdout",
     "output_type": "stream",
     "text": [
      "id               0\n",
      "_STATE           0\n",
      "GENHLTH       1047\n",
      "PHYSHLTH        32\n",
      "MENTHLTH        19\n",
      "POORHLTH    188931\n",
      "EXRACT11    130359\n",
      "PAFREQ1_    140516\n",
      "_MINAC11    146930\n",
      "ACTIN12_    135951\n",
      "EXRACT21    134658\n",
      "PAFREQ2_    237530\n",
      "_MINAC21    147892\n",
      "ACTIN22_    143575\n",
      "STRFREQ_     37082\n",
      "PA2MIN_     140384\n",
      "_METSTAT      8458\n",
      "_URBSTAT      8458\n",
      "HTIN4        20355\n",
      "WTKG3        29748\n",
      "_BMI5        36203\n",
      "_SMOKER3         0\n",
      "_DRNKWK1         0\n",
      "FC601_           0\n",
      "FTJUDA2_     38440\n",
      "GRENDA1_     38902\n",
      "VEGEDA2_     43369\n",
      "POTADA1_     42224\n",
      "FRNCHDA_     38866\n",
      "_FRUTSU1     44600\n",
      "_VEGESU1     53430\n",
      "_PAINDX2         0\n",
      "_PASTRNG         0\n",
      "_AGE80           0\n",
      "dtype: int64\n"
     ]
    }
   ],
   "source": [
    "print(recoded_health_behaviour_df.isnull().sum())"
   ]
  },
  {
   "cell_type": "markdown",
   "id": "333e6ffd",
   "metadata": {},
   "source": [
    "### PA2MIN_\n",
    "#### Question:  Minutes of total Physical Activity per week\n",
    "Originally coded as: \n",
    "- 0-99999: Minutes of Activity per week\n",
    "- BLANK: not asked or missing\n",
    "    "
   ]
  },
  {
   "cell_type": "code",
   "execution_count": 199,
   "id": "c250a434",
   "metadata": {},
   "outputs": [
    {
     "data": {
      "text/plain": [
       "0     1260.0\n",
       "1       56.0\n",
       "2      210.0\n",
       "3      200.0\n",
       "4      360.0\n",
       "5      330.0\n",
       "6       68.0\n",
       "7        NaN\n",
       "8      270.0\n",
       "9       90.0\n",
       "10      60.0\n",
       "11       NaN\n",
       "12     140.0\n",
       "13     120.0\n",
       "14     420.0\n",
       "15     120.0\n",
       "16     840.0\n",
       "17       NaN\n",
       "18      45.0\n",
       "19       NaN\n",
       "Name: PA2MIN_, dtype: object"
      ]
     },
     "execution_count": 199,
     "metadata": {},
     "output_type": "execute_result"
    }
   ],
   "source": [
    "#checking column values and check data type\n",
    "recoded_health_behaviour_df['PA2MIN_'].head(20)"
   ]
  },
  {
   "cell_type": "code",
   "execution_count": 200,
   "id": "c4204b5c",
   "metadata": {},
   "outputs": [
    {
     "data": {
      "text/plain": [
       "Int32Dtype()"
      ]
     },
     "execution_count": 200,
     "metadata": {},
     "output_type": "execute_result"
    }
   ],
   "source": [
    "recoded_health_behaviour_df.PA2MIN_ = pd.to_numeric(recoded_health_behaviour_df.PA2MIN_).astype('Int32')\n",
    "recoded_health_behaviour_df['PA2MIN_'].dtypes"
   ]
  },
  {
   "cell_type": "code",
   "execution_count": 201,
   "id": "db0ce529",
   "metadata": {},
   "outputs": [
    {
     "data": {
      "text/plain": [
       "0     1260\n",
       "1       56\n",
       "2      210\n",
       "3      200\n",
       "4      360\n",
       "5      330\n",
       "6       68\n",
       "7     <NA>\n",
       "8      270\n",
       "9       90\n",
       "10      60\n",
       "11    <NA>\n",
       "12     140\n",
       "13     120\n",
       "14     420\n",
       "15     120\n",
       "16     840\n",
       "17    <NA>\n",
       "18      45\n",
       "19    <NA>\n",
       "Name: PA2MIN_, dtype: Int32"
      ]
     },
     "execution_count": 201,
     "metadata": {},
     "output_type": "execute_result"
    }
   ],
   "source": [
    "recoded_health_behaviour_df['PA2MIN_'].head(20)"
   ]
  },
  {
   "cell_type": "code",
   "execution_count": 202,
   "id": "fecf522b",
   "metadata": {},
   "outputs": [
    {
     "data": {
      "text/plain": [
       "<IntegerArray>\n",
       "[1260,   56,  210,  200,  360,  330,   68, <NA>,  270,   90,\n",
       " ...\n",
       " 5172, 8715, 7740, 6363, 3112, 4790, 2645, 5096, 5952, 2779]\n",
       "Length: 3460, dtype: Int32"
      ]
     },
     "execution_count": 202,
     "metadata": {},
     "output_type": "execute_result"
    }
   ],
   "source": [
    "recoded_health_behaviour_df['PA2MIN_'].unique()"
   ]
  },
  {
   "cell_type": "markdown",
   "id": "86dfcb09",
   "metadata": {},
   "source": [
    "### PHYSHLTH\n",
    "#### Question:  Now thinking about your physical health, which includes physical illness and injury, for how many days during the past 30 days was your physical health not good?\n",
    "Answers originally coded as: \n",
    "- 1-30: Number of Days, numeric\n",
    "- 88: None\n",
    "- 77: Don't know/Not sure\n",
    "- 99: Refused\n",
    "- Blank: Not asked or missing\n",
    "\n",
    "Recode to:\n",
    "\n",
    "- 1-30: Number of Days, int\n",
    "- 0: None\n",
    "- Nan: Don't know/Not sure\n",
    "- Nan: Refused\n",
    "- Blank: Not asked or missing\n"
   ]
  },
  {
   "cell_type": "code",
   "execution_count": 203,
   "id": "0abca426",
   "metadata": {},
   "outputs": [
    {
     "data": {
      "text/plain": [
       "0     88.0\n",
       "1      2.0\n",
       "2      3.0\n",
       "3     88.0\n",
       "4     88.0\n",
       "5     88.0\n",
       "6     88.0\n",
       "7      2.0\n",
       "8     20.0\n",
       "9     88.0\n",
       "10     1.0\n",
       "11    88.0\n",
       "12    88.0\n",
       "13    88.0\n",
       "14    88.0\n",
       "15    88.0\n",
       "16    88.0\n",
       "17    88.0\n",
       "18     7.0\n",
       "19    30.0\n",
       "Name: PHYSHLTH, dtype: object"
      ]
     },
     "execution_count": 203,
     "metadata": {},
     "output_type": "execute_result"
    }
   ],
   "source": [
    "#print column values for reference and check data type\n",
    "recoded_health_behaviour_df['PHYSHLTH'].head(20)"
   ]
  },
  {
   "cell_type": "code",
   "execution_count": 204,
   "id": "1e83e7b2",
   "metadata": {},
   "outputs": [],
   "source": [
    "# recode PHYSHLTH values to new coding scheme described above\n",
    "recoded_health_behaviour_df.loc[health_behaviour_df.PHYSHLTH == 88, \"PHYSHLTH\"] = 0\n",
    "recoded_health_behaviour_df.loc[health_behaviour_df.PHYSHLTH == 77, \"PHYSHLTH\"] = np.NaN\n",
    "recoded_health_behaviour_df.loc[health_behaviour_df.PHYSHLTH == 99, \"PHYSHLTH\"] = np.NaN"
   ]
  },
  {
   "cell_type": "code",
   "execution_count": 205,
   "id": "2569ceb4",
   "metadata": {},
   "outputs": [],
   "source": [
    "#convert column from object to int\n",
    "recoded_health_behaviour_df.PHYSHLTH = pd.to_numeric(recoded_health_behaviour_df.PHYSHLTH).astype('Int32')"
   ]
  },
  {
   "cell_type": "code",
   "execution_count": 206,
   "id": "4f9de8e5",
   "metadata": {},
   "outputs": [
    {
     "data": {
      "text/plain": [
       "0      0\n",
       "1      2\n",
       "2      3\n",
       "3      0\n",
       "4      0\n",
       "5      0\n",
       "6      0\n",
       "7      2\n",
       "8     20\n",
       "9      0\n",
       "10     1\n",
       "11     0\n",
       "12     0\n",
       "13     0\n",
       "14     0\n",
       "15     0\n",
       "16     0\n",
       "17     0\n",
       "18     7\n",
       "19    30\n",
       "Name: PHYSHLTH, dtype: Int32"
      ]
     },
     "execution_count": 206,
     "metadata": {},
     "output_type": "execute_result"
    }
   ],
   "source": [
    "#reprint values to confirm they were correctly recoded\n",
    "recoded_health_behaviour_df['PHYSHLTH'].head(20)"
   ]
  },
  {
   "cell_type": "markdown",
   "id": "0d90779f",
   "metadata": {},
   "source": [
    "### MENTHLTH\n",
    "#### Question:  Now thinking about your mental health, which includes stress, depression, and problems with emotions, for how many days during the past 30 days was your mental health not good?\n",
    "Answers originally coded as: \n",
    "- 1-30: Number of Days, numeric\n",
    "- 88: None\n",
    "- 77: Don't know/Not sure\n",
    "- 99: Refused\n",
    "- Blank: Not asked or missing\n",
    "\n",
    "Recode to:\n",
    "\n",
    "- 1-30: Number of Days, int\n",
    "- 0: None\n",
    "- Nan: Don't know/Not sure\n",
    "- Nan: Refused\n",
    "- Blank: Not asked or missing\n"
   ]
  },
  {
   "cell_type": "code",
   "execution_count": 207,
   "id": "21926ff1",
   "metadata": {},
   "outputs": [
    {
     "data": {
      "text/plain": [
       "0     88.0\n",
       "1      5.0\n",
       "2     10.0\n",
       "3      5.0\n",
       "4     30.0\n",
       "5     88.0\n",
       "6     88.0\n",
       "7     88.0\n",
       "8      5.0\n",
       "9     29.0\n",
       "10     1.0\n",
       "11    88.0\n",
       "12    88.0\n",
       "13    21.0\n",
       "14    88.0\n",
       "15    88.0\n",
       "16    88.0\n",
       "17     3.0\n",
       "18    10.0\n",
       "19     5.0\n",
       "Name: MENTHLTH, dtype: object"
      ]
     },
     "execution_count": 207,
     "metadata": {},
     "output_type": "execute_result"
    }
   ],
   "source": [
    "#print column values for reference and check data type\n",
    "recoded_health_behaviour_df['MENTHLTH'].head(20)"
   ]
  },
  {
   "cell_type": "code",
   "execution_count": 208,
   "id": "c5ef18ad",
   "metadata": {},
   "outputs": [],
   "source": [
    "# recode PHYSHLTH values to new coding scheme described above\n",
    "recoded_health_behaviour_df.loc[health_behaviour_df.MENTHLTH == 88, \"MENTHLTH\"] = 0\n",
    "recoded_health_behaviour_df.loc[health_behaviour_df.MENTHLTH == 77, \"MENTHLTH\"] = np.NaN\n",
    "recoded_health_behaviour_df.loc[health_behaviour_df.MENTHLTH == 99, \"MENTHLTH\"] = np.NaN"
   ]
  },
  {
   "cell_type": "code",
   "execution_count": 209,
   "id": "a7ae2392",
   "metadata": {},
   "outputs": [],
   "source": [
    "#convert column from object to int\n",
    "recoded_health_behaviour_df.MENTHLTH = pd.to_numeric(recoded_health_behaviour_df.MENTHLTH).astype('Int32')"
   ]
  },
  {
   "cell_type": "code",
   "execution_count": 210,
   "id": "0ab9f78c",
   "metadata": {},
   "outputs": [
    {
     "data": {
      "text/plain": [
       "Int32Dtype()"
      ]
     },
     "execution_count": 210,
     "metadata": {},
     "output_type": "execute_result"
    }
   ],
   "source": [
    "recoded_health_behaviour_df['MENTHLTH'].dtypes"
   ]
  },
  {
   "cell_type": "code",
   "execution_count": 211,
   "id": "27a75a81",
   "metadata": {},
   "outputs": [
    {
     "data": {
      "text/plain": [
       "0      0\n",
       "1      5\n",
       "2     10\n",
       "3      5\n",
       "4     30\n",
       "5      0\n",
       "6      0\n",
       "7      0\n",
       "8      5\n",
       "9     29\n",
       "10     1\n",
       "11     0\n",
       "12     0\n",
       "13    21\n",
       "14     0\n",
       "15     0\n",
       "16     0\n",
       "17     3\n",
       "18    10\n",
       "19     5\n",
       "Name: MENTHLTH, dtype: Int32"
      ]
     },
     "execution_count": 211,
     "metadata": {},
     "output_type": "execute_result"
    }
   ],
   "source": [
    "#reprint values to confirm they were correctly recoded\n",
    "recoded_health_behaviour_df['MENTHLTH'].head(20)"
   ]
  },
  {
   "cell_type": "code",
   "execution_count": 212,
   "id": "8dff3819",
   "metadata": {},
   "outputs": [
    {
     "data": {
      "text/plain": [
       "<IntegerArray>\n",
       "[   0,    5,   10,   30,   29,    1,   21,    3,    4,    2,    7,   15,   20,\n",
       "   12,   14,    6,   16, <NA>,   25,   28,    8,    9,   22,   18,   11,   27,\n",
       "   17,   24,   19,   26,   23,   13]\n",
       "Length: 32, dtype: Int32"
      ]
     },
     "execution_count": 212,
     "metadata": {},
     "output_type": "execute_result"
    }
   ],
   "source": [
    "recoded_health_behaviour_df['MENTHLTH'].unique()"
   ]
  },
  {
   "cell_type": "markdown",
   "id": "955aa04c",
   "metadata": {},
   "source": [
    "### _PAINDX2\n",
    "#### Question:  Physical Activity Index\n",
    "Values originally coded as:\n",
    "- 1: Meet Aerobic Recommendations\n",
    "- 2: Did Not Meet Aerobic Recommendations\n",
    "- 9: Don’t know/Not Sure/Refused/Missing\n",
    "\n",
    "Recode to:\n",
    "- 1: Meet Aerobic Recommendations\n",
    "- 2: Did Not Meet Aerobic Recommendations\n",
    "- Nan: Don’t know/Not Sure/Refused/Missing\n",
    "    "
   ]
  },
  {
   "cell_type": "code",
   "execution_count": 213,
   "id": "9ff14644",
   "metadata": {},
   "outputs": [
    {
     "data": {
      "text/plain": [
       "0     1.0\n",
       "1     2.0\n",
       "2     1.0\n",
       "3     1.0\n",
       "4     1.0\n",
       "5     1.0\n",
       "6     2.0\n",
       "7     9.0\n",
       "8     1.0\n",
       "9     2.0\n",
       "10    2.0\n",
       "11    2.0\n",
       "12    2.0\n",
       "13    2.0\n",
       "14    1.0\n",
       "15    2.0\n",
       "16    1.0\n",
       "17    9.0\n",
       "18    2.0\n",
       "19    2.0\n",
       "Name: _PAINDX2, dtype: object"
      ]
     },
     "execution_count": 213,
     "metadata": {},
     "output_type": "execute_result"
    }
   ],
   "source": [
    "recoded_health_behaviour_df['_PAINDX2'].head(20)"
   ]
  },
  {
   "cell_type": "code",
   "execution_count": 214,
   "id": "8b448a8f",
   "metadata": {},
   "outputs": [],
   "source": [
    "# recode values to new coding scheme described above\n",
    "recoded_health_behaviour_df.loc[health_behaviour_df._PAINDX2 == 9, \"_PAINDX2\"] = np.NaN\n",
    "recoded_health_behaviour_df._PAINDX2 = pd.to_numeric(recoded_health_behaviour_df._PAINDX2).astype('Int32')"
   ]
  },
  {
   "cell_type": "code",
   "execution_count": 215,
   "id": "d7687a11",
   "metadata": {},
   "outputs": [
    {
     "data": {
      "text/plain": [
       "<IntegerArray>\n",
       "[1, 2, <NA>]\n",
       "Length: 3, dtype: Int32"
      ]
     },
     "execution_count": 215,
     "metadata": {},
     "output_type": "execute_result"
    }
   ],
   "source": [
    "recoded_health_behaviour_df['_PAINDX2'].unique()"
   ]
  },
  {
   "cell_type": "markdown",
   "id": "fadc09f2",
   "metadata": {},
   "source": [
    "### _PASTRNG\n",
    "#### Question:  Muscle Strengthening Recommendation\n",
    "Originally coded as:\n",
    "- 1: Meet muscle strengthening recommendations\n",
    "- 2: Did not meet muscle strengthening recommendations\n",
    "- 9: Don’t know/Not Sure/Refused/Missing\n",
    "\n",
    "Recode to:\n",
    "- 1: Meet muscle strengthening recommendations\n",
    "- 2: Did not meet muscle strengthening recommendations\n",
    "- Nan: Don’t know/Not Sure/Refused/Missing"
   ]
  },
  {
   "cell_type": "code",
   "execution_count": 216,
   "id": "934cf069",
   "metadata": {},
   "outputs": [
    {
     "data": {
      "text/plain": [
       "array([Decimal('2.0'), Decimal('1.0'), Decimal('9.0')], dtype=object)"
      ]
     },
     "execution_count": 216,
     "metadata": {},
     "output_type": "execute_result"
    }
   ],
   "source": [
    "recoded_health_behaviour_df['_PASTRNG'].unique()"
   ]
  },
  {
   "cell_type": "code",
   "execution_count": 217,
   "id": "9899b7d5",
   "metadata": {},
   "outputs": [],
   "source": [
    "# recode values to new coding scheme described above\n",
    "recoded_health_behaviour_df.loc[health_behaviour_df._PASTRNG == 9, \"_PASTRNG\"] = np.NaN\n",
    "recoded_health_behaviour_df._PASTRNG = pd.to_numeric(recoded_health_behaviour_df._PASTRNG).astype('Int32')"
   ]
  },
  {
   "cell_type": "code",
   "execution_count": 218,
   "id": "6d159471",
   "metadata": {},
   "outputs": [
    {
     "data": {
      "text/plain": [
       "<IntegerArray>\n",
       "[2, 1, <NA>]\n",
       "Length: 3, dtype: Int32"
      ]
     },
     "execution_count": 218,
     "metadata": {},
     "output_type": "execute_result"
    }
   ],
   "source": [
    "recoded_health_behaviour_df['_PASTRNG'].unique()"
   ]
  },
  {
   "cell_type": "markdown",
   "id": "2c42fd18",
   "metadata": {},
   "source": [
    "### _FRUTSU1\n",
    "#### Question:  Total fruits consumed per day\n",
    "Originally coded as: \n",
    "- 0-99998: Number of Fruits consumed per day (two implied decimal places)\n",
    "- BLANK: Not asked or Missing\n",
    "\n",
    "Recode to:\n",
    "- 0.00-999.98: Number of Fruits consumed per day\n",
    "- Nan: Not asked or Missing"
   ]
  },
  {
   "cell_type": "code",
   "execution_count": 219,
   "id": "db388c40",
   "metadata": {},
   "outputs": [
    {
     "data": {
      "text/plain": [
       "0       NaN\n",
       "1     114.0\n",
       "2      10.0\n",
       "3      46.0\n",
       "4     100.0\n",
       "5     329.0\n",
       "6     114.0\n",
       "7       NaN\n",
       "8     100.0\n",
       "9     203.0\n",
       "10     86.0\n",
       "11      NaN\n",
       "12     43.0\n",
       "13      NaN\n",
       "14    200.0\n",
       "15     57.0\n",
       "16    214.0\n",
       "17      NaN\n",
       "18     45.0\n",
       "19     13.0\n",
       "Name: _FRUTSU1, dtype: object"
      ]
     },
     "execution_count": 219,
     "metadata": {},
     "output_type": "execute_result"
    }
   ],
   "source": [
    "recoded_health_behaviour_df['_FRUTSU1'].head(20)"
   ]
  },
  {
   "cell_type": "code",
   "execution_count": 154,
   "id": "1a3faebc",
   "metadata": {},
   "outputs": [],
   "source": [
    "#TODO: convert to int to remove decimal place, convert to string then interate through and insert decimal before last two digits, convert to float"
   ]
  },
  {
   "cell_type": "code",
   "execution_count": 220,
   "id": "faec9a5a",
   "metadata": {},
   "outputs": [],
   "source": [
    "recoded_health_behaviour_df['_FRUTSU1'] = recoded_health_behaviour_df['_FRUTSU1'].fillna(100000).astype(float)"
   ]
  },
  {
   "cell_type": "code",
   "execution_count": 221,
   "id": "d0119f51",
   "metadata": {},
   "outputs": [
    {
     "data": {
      "text/plain": [
       "0     100000.0\n",
       "1        114.0\n",
       "2         10.0\n",
       "3         46.0\n",
       "4        100.0\n",
       "5        329.0\n",
       "6        114.0\n",
       "7     100000.0\n",
       "8        100.0\n",
       "9        203.0\n",
       "10        86.0\n",
       "11    100000.0\n",
       "12        43.0\n",
       "13    100000.0\n",
       "14       200.0\n",
       "15        57.0\n",
       "16       214.0\n",
       "17    100000.0\n",
       "18        45.0\n",
       "19        13.0\n",
       "Name: _FRUTSU1, dtype: float64"
      ]
     },
     "execution_count": 221,
     "metadata": {},
     "output_type": "execute_result"
    }
   ],
   "source": [
    "recoded_health_behaviour_df['_FRUTSU1'].head(20)"
   ]
  },
  {
   "cell_type": "code",
   "execution_count": 222,
   "id": "8aca9318",
   "metadata": {},
   "outputs": [],
   "source": [
    "recoded_health_behaviour_df['_FRUTSU1'] = recoded_health_behaviour_df['_FRUTSU1'].div(100).round(2)"
   ]
  },
  {
   "cell_type": "code",
   "execution_count": 223,
   "id": "d7117432",
   "metadata": {},
   "outputs": [
    {
     "data": {
      "text/plain": [
       "0     1000.00\n",
       "1        1.14\n",
       "2        0.10\n",
       "3        0.46\n",
       "4        1.00\n",
       "5        3.29\n",
       "6        1.14\n",
       "7     1000.00\n",
       "8        1.00\n",
       "9        2.03\n",
       "10       0.86\n",
       "11    1000.00\n",
       "12       0.43\n",
       "13    1000.00\n",
       "14       2.00\n",
       "15       0.57\n",
       "16       2.14\n",
       "17    1000.00\n",
       "18       0.45\n",
       "19       0.13\n",
       "Name: _FRUTSU1, dtype: float64"
      ]
     },
     "execution_count": 223,
     "metadata": {},
     "output_type": "execute_result"
    }
   ],
   "source": [
    "recoded_health_behaviour_df['_FRUTSU1'].head(20)"
   ]
  },
  {
   "cell_type": "code",
   "execution_count": 224,
   "id": "ac0a3bee",
   "metadata": {},
   "outputs": [],
   "source": [
    "recoded_health_behaviour_df['_FRUTSU1'] = recoded_health_behaviour_df['_FRUTSU1'].mask(np.isclose(recoded_health_behaviour_df['_FRUTSU1'].values, 1000.00))"
   ]
  },
  {
   "cell_type": "code",
   "execution_count": 225,
   "id": "517e0a6d",
   "metadata": {},
   "outputs": [
    {
     "data": {
      "text/plain": [
       "0      NaN\n",
       "1     1.14\n",
       "2     0.10\n",
       "3     0.46\n",
       "4     1.00\n",
       "5     3.29\n",
       "6     1.14\n",
       "7      NaN\n",
       "8     1.00\n",
       "9     2.03\n",
       "10    0.86\n",
       "11     NaN\n",
       "12    0.43\n",
       "13     NaN\n",
       "14    2.00\n",
       "15    0.57\n",
       "16    2.14\n",
       "17     NaN\n",
       "18    0.45\n",
       "19    0.13\n",
       "Name: _FRUTSU1, dtype: float64"
      ]
     },
     "execution_count": 225,
     "metadata": {},
     "output_type": "execute_result"
    }
   ],
   "source": [
    "recoded_health_behaviour_df['_FRUTSU1'].head(20)"
   ]
  },
  {
   "cell_type": "markdown",
   "id": "803ba5e5",
   "metadata": {},
   "source": [
    "###  _VEGESU1\n",
    "#### Question:  Total vegetables consumed per day\n",
    "Originally coded as: \n",
    "- 0-99998: Number of Vegetables consumed per day (two implied decimal places)\n",
    "- BLANK: Not asked or Missing\n",
    "\n",
    "Recode to:\n",
    "- 0.00-999.98: Number of Vegetables consumed per day\n",
    "- Nan: Not asked or Missing"
   ]
  },
  {
   "cell_type": "code",
   "execution_count": 226,
   "id": "36aca10e",
   "metadata": {},
   "outputs": [
    {
     "data": {
      "text/plain": [
       "0       NaN\n",
       "1      89.0\n",
       "2     179.0\n",
       "3     113.0\n",
       "4      89.0\n",
       "5      82.0\n",
       "6     235.0\n",
       "7       NaN\n",
       "8      75.0\n",
       "9     135.0\n",
       "10    100.0\n",
       "11     61.0\n",
       "12    129.0\n",
       "13      NaN\n",
       "14    200.0\n",
       "15      NaN\n",
       "16    310.0\n",
       "17      NaN\n",
       "18     46.0\n",
       "19    414.0\n",
       "Name: _VEGESU1, dtype: object"
      ]
     },
     "execution_count": 226,
     "metadata": {},
     "output_type": "execute_result"
    }
   ],
   "source": [
    "recoded_health_behaviour_df['_VEGESU1'].head(20)"
   ]
  },
  {
   "cell_type": "code",
   "execution_count": 227,
   "id": "321db16b",
   "metadata": {},
   "outputs": [
    {
     "data": {
      "text/plain": [
       "0      NaN\n",
       "1     0.89\n",
       "2     1.79\n",
       "3     1.13\n",
       "4     0.89\n",
       "5     0.82\n",
       "6     2.35\n",
       "7      NaN\n",
       "8     0.75\n",
       "9     1.35\n",
       "10    1.00\n",
       "11    0.61\n",
       "12    1.29\n",
       "13     NaN\n",
       "14    2.00\n",
       "15     NaN\n",
       "16    3.10\n",
       "17     NaN\n",
       "18    0.46\n",
       "19    4.14\n",
       "Name: _VEGESU1, dtype: float64"
      ]
     },
     "execution_count": 227,
     "metadata": {},
     "output_type": "execute_result"
    }
   ],
   "source": [
    "recoded_health_behaviour_df['_VEGESU1'] = recoded_health_behaviour_df['_VEGESU1'].fillna(100000).astype(float)\n",
    "recoded_health_behaviour_df['_VEGESU1'] = recoded_health_behaviour_df['_VEGESU1'].div(100).round(2)\n",
    "recoded_health_behaviour_df['_VEGESU1'] = recoded_health_behaviour_df['_VEGESU1'].mask(np.isclose(recoded_health_behaviour_df['_VEGESU1'].values, 1000.00))\n",
    "recoded_health_behaviour_df['_VEGESU1'].head(20)"
   ]
  },
  {
   "cell_type": "code",
   "execution_count": 232,
   "id": "9f704579",
   "metadata": {},
   "outputs": [],
   "source": [
    "#recode states to two letter codes so they can work with go.choropleth\n",
    "\n",
    "recoded_health_behaviour_df.loc[recoded_health_behaviour_df._STATE == 1, \"_STATE\"] = 'AL'\n",
    "recoded_health_behaviour_df.loc[recoded_health_behaviour_df._STATE == 2, \"_STATE\"] = 'AK'\n",
    "recoded_health_behaviour_df.loc[recoded_health_behaviour_df._STATE == 4, \"_STATE\"] = 'AZ'\n",
    "recoded_health_behaviour_df.loc[recoded_health_behaviour_df._STATE == 5, \"_STATE\"] = 'AR'\n",
    "recoded_health_behaviour_df.loc[recoded_health_behaviour_df._STATE == 6, \"_STATE\"] = 'CA'\n",
    "recoded_health_behaviour_df.loc[recoded_health_behaviour_df._STATE == 8, \"_STATE\"] = 'CO'\n",
    "recoded_health_behaviour_df.loc[recoded_health_behaviour_df._STATE == 9, \"_STATE\"] = 'CT'\n",
    "recoded_health_behaviour_df.loc[recoded_health_behaviour_df._STATE == 10, \"_STATE\"] = 'DE'\n",
    "recoded_health_behaviour_df.loc[recoded_health_behaviour_df._STATE == 11, \"_STATE\"] = 'DC'\n",
    "recoded_health_behaviour_df.loc[recoded_health_behaviour_df._STATE == 12, \"_STATE\"] = 'FL'\n",
    "recoded_health_behaviour_df.loc[recoded_health_behaviour_df._STATE == 13, \"_STATE\"] = 'GA'\n",
    "recoded_health_behaviour_df.loc[recoded_health_behaviour_df._STATE == 15, \"_STATE\"] = 'HI'\n",
    "recoded_health_behaviour_df.loc[recoded_health_behaviour_df._STATE == 16, \"_STATE\"] = 'ID'\n",
    "recoded_health_behaviour_df.loc[recoded_health_behaviour_df._STATE == 17, \"_STATE\"] = 'IL'\n",
    "recoded_health_behaviour_df.loc[recoded_health_behaviour_df._STATE == 18, \"_STATE\"] = 'IN'\n",
    "recoded_health_behaviour_df.loc[recoded_health_behaviour_df._STATE == 19, \"_STATE\"] = 'IA'\n",
    "recoded_health_behaviour_df.loc[recoded_health_behaviour_df._STATE == 20, \"_STATE\"] = 'KS'\n",
    "recoded_health_behaviour_df.loc[recoded_health_behaviour_df._STATE == 21, \"_STATE\"] = 'KY'\n",
    "recoded_health_behaviour_df.loc[recoded_health_behaviour_df._STATE == 22, \"_STATE\"] = 'LA'\n",
    "recoded_health_behaviour_df.loc[recoded_health_behaviour_df._STATE == 23, \"_STATE\"] = 'ME'\n",
    "recoded_health_behaviour_df.loc[recoded_health_behaviour_df._STATE == 24, \"_STATE\"] = 'MD'\n",
    "recoded_health_behaviour_df.loc[recoded_health_behaviour_df._STATE == 25, \"_STATE\"] = 'MA'\n",
    "recoded_health_behaviour_df.loc[recoded_health_behaviour_df._STATE == 26, \"_STATE\"] = 'MI'\n",
    "recoded_health_behaviour_df.loc[recoded_health_behaviour_df._STATE == 27, \"_STATE\"] = 'MN'\n",
    "recoded_health_behaviour_df.loc[recoded_health_behaviour_df._STATE == 28, \"_STATE\"] = 'MS'\n",
    "recoded_health_behaviour_df.loc[recoded_health_behaviour_df._STATE == 29, \"_STATE\"] = 'MO'\n",
    "recoded_health_behaviour_df.loc[recoded_health_behaviour_df._STATE == 30, \"_STATE\"] = 'MT'\n",
    "recoded_health_behaviour_df.loc[recoded_health_behaviour_df._STATE == 31, \"_STATE\"] = 'NE'\n",
    "recoded_health_behaviour_df.loc[recoded_health_behaviour_df._STATE == 32, \"_STATE\"] = 'NV'\n",
    "recoded_health_behaviour_df.loc[recoded_health_behaviour_df._STATE == 33, \"_STATE\"] = 'NH'\n",
    "recoded_health_behaviour_df.loc[recoded_health_behaviour_df._STATE == 35, \"_STATE\"] = 'NM'\n",
    "recoded_health_behaviour_df.loc[recoded_health_behaviour_df._STATE == 36, \"_STATE\"] = 'NY'\n",
    "recoded_health_behaviour_df.loc[recoded_health_behaviour_df._STATE == 37, \"_STATE\"] = 'NC'\n",
    "recoded_health_behaviour_df.loc[recoded_health_behaviour_df._STATE == 38, \"_STATE\"] = 'ND'\n",
    "recoded_health_behaviour_df.loc[recoded_health_behaviour_df._STATE == 39, \"_STATE\"] = 'OH'\n",
    "recoded_health_behaviour_df.loc[recoded_health_behaviour_df._STATE == 40, \"_STATE\"] = 'OK'\n",
    "recoded_health_behaviour_df.loc[recoded_health_behaviour_df._STATE == 41, \"_STATE\"] = 'OR'\n",
    "recoded_health_behaviour_df.loc[recoded_health_behaviour_df._STATE == 42, \"_STATE\"] = 'PA'\n",
    "recoded_health_behaviour_df.loc[recoded_health_behaviour_df._STATE == 44, \"_STATE\"] = 'RI'\n",
    "recoded_health_behaviour_df.loc[recoded_health_behaviour_df._STATE == 45, \"_STATE\"] = 'SC'\n",
    "recoded_health_behaviour_df.loc[recoded_health_behaviour_df._STATE == 46, \"_STATE\"] = 'SD'\n",
    "recoded_health_behaviour_df.loc[recoded_health_behaviour_df._STATE == 47, \"_STATE\"] = 'TN'\n",
    "recoded_health_behaviour_df.loc[recoded_health_behaviour_df._STATE == 48, \"_STATE\"] = 'TX'\n",
    "recoded_health_behaviour_df.loc[recoded_health_behaviour_df._STATE == 49, \"_STATE\"] = 'UT'\n",
    "recoded_health_behaviour_df.loc[recoded_health_behaviour_df._STATE == 50, \"_STATE\"] = 'VT'\n",
    "recoded_health_behaviour_df.loc[recoded_health_behaviour_df._STATE == 51, \"_STATE\"] = 'VA'\n",
    "recoded_health_behaviour_df.loc[recoded_health_behaviour_df._STATE == 53, \"_STATE\"] = 'WA'\n",
    "recoded_health_behaviour_df.loc[recoded_health_behaviour_df._STATE == 54, \"_STATE\"] = 'WV'\n",
    "recoded_health_behaviour_df.loc[recoded_health_behaviour_df._STATE == 55, \"_STATE\"] = 'WI'\n",
    "recoded_health_behaviour_df.loc[recoded_health_behaviour_df._STATE == 56, \"_STATE\"] = 'WY'\n",
    "recoded_health_behaviour_df.loc[recoded_health_behaviour_df._STATE == 66, \"_STATE\"] = 'GU'\n",
    "recoded_health_behaviour_df.loc[recoded_health_behaviour_df._STATE == 72, \"_STATE\"] = 'PR'"
   ]
  },
  {
   "cell_type": "code",
   "execution_count": 234,
   "id": "70af39d8",
   "metadata": {},
   "outputs": [
    {
     "data": {
      "text/html": [
       "<div>\n",
       "<style scoped>\n",
       "    .dataframe tbody tr th:only-of-type {\n",
       "        vertical-align: middle;\n",
       "    }\n",
       "\n",
       "    .dataframe tbody tr th {\n",
       "        vertical-align: top;\n",
       "    }\n",
       "\n",
       "    .dataframe thead th {\n",
       "        text-align: right;\n",
       "    }\n",
       "</style>\n",
       "<table border=\"1\" class=\"dataframe\">\n",
       "  <thead>\n",
       "    <tr style=\"text-align: right;\">\n",
       "      <th></th>\n",
       "      <th>id</th>\n",
       "      <th>_STATE</th>\n",
       "      <th>GENHLTH</th>\n",
       "      <th>PHYSHLTH</th>\n",
       "      <th>MENTHLTH</th>\n",
       "      <th>POORHLTH</th>\n",
       "      <th>EXRACT11</th>\n",
       "      <th>PAFREQ1_</th>\n",
       "      <th>_MINAC11</th>\n",
       "      <th>ACTIN12_</th>\n",
       "      <th>...</th>\n",
       "      <th>FTJUDA2_</th>\n",
       "      <th>GRENDA1_</th>\n",
       "      <th>VEGEDA2_</th>\n",
       "      <th>POTADA1_</th>\n",
       "      <th>FRNCHDA_</th>\n",
       "      <th>_FRUTSU1</th>\n",
       "      <th>_VEGESU1</th>\n",
       "      <th>_PAINDX2</th>\n",
       "      <th>_PASTRNG</th>\n",
       "      <th>_AGE80</th>\n",
       "    </tr>\n",
       "  </thead>\n",
       "  <tbody>\n",
       "    <tr>\n",
       "      <th>0</th>\n",
       "      <td>31580</td>\n",
       "      <td>CA</td>\n",
       "      <td>3</td>\n",
       "      <td>0</td>\n",
       "      <td>0</td>\n",
       "      <td>NaN</td>\n",
       "      <td>64.0</td>\n",
       "      <td>7000.0</td>\n",
       "      <td>1260.0</td>\n",
       "      <td>1.0</td>\n",
       "      <td>...</td>\n",
       "      <td>NaN</td>\n",
       "      <td>NaN</td>\n",
       "      <td>NaN</td>\n",
       "      <td>NaN</td>\n",
       "      <td>NaN</td>\n",
       "      <td>NaN</td>\n",
       "      <td>NaN</td>\n",
       "      <td>1</td>\n",
       "      <td>2</td>\n",
       "      <td>46.0</td>\n",
       "    </tr>\n",
       "    <tr>\n",
       "      <th>1</th>\n",
       "      <td>31581</td>\n",
       "      <td>CA</td>\n",
       "      <td>2</td>\n",
       "      <td>2</td>\n",
       "      <td>5</td>\n",
       "      <td>88.0</td>\n",
       "      <td>18.0</td>\n",
       "      <td>467.0</td>\n",
       "      <td>28.0</td>\n",
       "      <td>2.0</td>\n",
       "      <td>...</td>\n",
       "      <td>43.0</td>\n",
       "      <td>43.0</td>\n",
       "      <td>29.0</td>\n",
       "      <td>3.0</td>\n",
       "      <td>14.0</td>\n",
       "      <td>1.14</td>\n",
       "      <td>0.89</td>\n",
       "      <td>2</td>\n",
       "      <td>2</td>\n",
       "      <td>57.0</td>\n",
       "    </tr>\n",
       "    <tr>\n",
       "      <th>2</th>\n",
       "      <td>31582</td>\n",
       "      <td>CA</td>\n",
       "      <td>4</td>\n",
       "      <td>3</td>\n",
       "      <td>10</td>\n",
       "      <td>10.0</td>\n",
       "      <td>64.0</td>\n",
       "      <td>6000.0</td>\n",
       "      <td>210.0</td>\n",
       "      <td>1.0</td>\n",
       "      <td>...</td>\n",
       "      <td>0.0</td>\n",
       "      <td>33.0</td>\n",
       "      <td>100.0</td>\n",
       "      <td>13.0</td>\n",
       "      <td>33.0</td>\n",
       "      <td>0.10</td>\n",
       "      <td>1.79</td>\n",
       "      <td>1</td>\n",
       "      <td>2</td>\n",
       "      <td>58.0</td>\n",
       "    </tr>\n",
       "    <tr>\n",
       "      <th>3</th>\n",
       "      <td>31583</td>\n",
       "      <td>CA</td>\n",
       "      <td>3</td>\n",
       "      <td>0</td>\n",
       "      <td>5</td>\n",
       "      <td>88.0</td>\n",
       "      <td>64.0</td>\n",
       "      <td>5000.0</td>\n",
       "      <td>200.0</td>\n",
       "      <td>1.0</td>\n",
       "      <td>...</td>\n",
       "      <td>17.0</td>\n",
       "      <td>10.0</td>\n",
       "      <td>71.0</td>\n",
       "      <td>3.0</td>\n",
       "      <td>29.0</td>\n",
       "      <td>0.46</td>\n",
       "      <td>1.13</td>\n",
       "      <td>1</td>\n",
       "      <td>2</td>\n",
       "      <td>35.0</td>\n",
       "    </tr>\n",
       "    <tr>\n",
       "      <th>4</th>\n",
       "      <td>31584</td>\n",
       "      <td>CA</td>\n",
       "      <td>3</td>\n",
       "      <td>0</td>\n",
       "      <td>30</td>\n",
       "      <td>15.0</td>\n",
       "      <td>64.0</td>\n",
       "      <td>4000.0</td>\n",
       "      <td>120.0</td>\n",
       "      <td>1.0</td>\n",
       "      <td>...</td>\n",
       "      <td>57.0</td>\n",
       "      <td>3.0</td>\n",
       "      <td>43.0</td>\n",
       "      <td>14.0</td>\n",
       "      <td>29.0</td>\n",
       "      <td>1.00</td>\n",
       "      <td>0.89</td>\n",
       "      <td>1</td>\n",
       "      <td>1</td>\n",
       "      <td>23.0</td>\n",
       "    </tr>\n",
       "    <tr>\n",
       "      <th>...</th>\n",
       "      <td>...</td>\n",
       "      <td>...</td>\n",
       "      <td>...</td>\n",
       "      <td>...</td>\n",
       "      <td>...</td>\n",
       "      <td>...</td>\n",
       "      <td>...</td>\n",
       "      <td>...</td>\n",
       "      <td>...</td>\n",
       "      <td>...</td>\n",
       "      <td>...</td>\n",
       "      <td>...</td>\n",
       "      <td>...</td>\n",
       "      <td>...</td>\n",
       "      <td>...</td>\n",
       "      <td>...</td>\n",
       "      <td>...</td>\n",
       "      <td>...</td>\n",
       "      <td>...</td>\n",
       "      <td>...</td>\n",
       "      <td>...</td>\n",
       "    </tr>\n",
       "    <tr>\n",
       "      <th>418263</th>\n",
       "      <td>31575</td>\n",
       "      <td>CA</td>\n",
       "      <td>5</td>\n",
       "      <td>0</td>\n",
       "      <td>0</td>\n",
       "      <td>NaN</td>\n",
       "      <td>NaN</td>\n",
       "      <td>NaN</td>\n",
       "      <td>NaN</td>\n",
       "      <td>NaN</td>\n",
       "      <td>...</td>\n",
       "      <td>100.0</td>\n",
       "      <td>NaN</td>\n",
       "      <td>NaN</td>\n",
       "      <td>NaN</td>\n",
       "      <td>NaN</td>\n",
       "      <td>4.00</td>\n",
       "      <td>NaN</td>\n",
       "      <td>2</td>\n",
       "      <td>2</td>\n",
       "      <td>27.0</td>\n",
       "    </tr>\n",
       "    <tr>\n",
       "      <th>418264</th>\n",
       "      <td>31576</td>\n",
       "      <td>CA</td>\n",
       "      <td>1</td>\n",
       "      <td>30</td>\n",
       "      <td>30</td>\n",
       "      <td>88.0</td>\n",
       "      <td>64.0</td>\n",
       "      <td>933.0</td>\n",
       "      <td>56.0</td>\n",
       "      <td>1.0</td>\n",
       "      <td>...</td>\n",
       "      <td>0.0</td>\n",
       "      <td>100.0</td>\n",
       "      <td>43.0</td>\n",
       "      <td>3.0</td>\n",
       "      <td>0.0</td>\n",
       "      <td>0.29</td>\n",
       "      <td>1.46</td>\n",
       "      <td>2</td>\n",
       "      <td>2</td>\n",
       "      <td>66.0</td>\n",
       "    </tr>\n",
       "    <tr>\n",
       "      <th>418265</th>\n",
       "      <td>31577</td>\n",
       "      <td>CA</td>\n",
       "      <td>1</td>\n",
       "      <td>30</td>\n",
       "      <td>0</td>\n",
       "      <td>88.0</td>\n",
       "      <td>NaN</td>\n",
       "      <td>NaN</td>\n",
       "      <td>NaN</td>\n",
       "      <td>NaN</td>\n",
       "      <td>...</td>\n",
       "      <td>29.0</td>\n",
       "      <td>43.0</td>\n",
       "      <td>43.0</td>\n",
       "      <td>3.0</td>\n",
       "      <td>3.0</td>\n",
       "      <td>1.29</td>\n",
       "      <td>0.92</td>\n",
       "      <td>2</td>\n",
       "      <td>2</td>\n",
       "      <td>54.0</td>\n",
       "    </tr>\n",
       "    <tr>\n",
       "      <th>418266</th>\n",
       "      <td>31578</td>\n",
       "      <td>CA</td>\n",
       "      <td>3</td>\n",
       "      <td>0</td>\n",
       "      <td>0</td>\n",
       "      <td>NaN</td>\n",
       "      <td>NaN</td>\n",
       "      <td>NaN</td>\n",
       "      <td>NaN</td>\n",
       "      <td>NaN</td>\n",
       "      <td>...</td>\n",
       "      <td>NaN</td>\n",
       "      <td>NaN</td>\n",
       "      <td>NaN</td>\n",
       "      <td>NaN</td>\n",
       "      <td>NaN</td>\n",
       "      <td>NaN</td>\n",
       "      <td>NaN</td>\n",
       "      <td>2</td>\n",
       "      <td>1</td>\n",
       "      <td>56.0</td>\n",
       "    </tr>\n",
       "    <tr>\n",
       "      <th>418267</th>\n",
       "      <td>31579</td>\n",
       "      <td>CA</td>\n",
       "      <td>5</td>\n",
       "      <td>0</td>\n",
       "      <td>0</td>\n",
       "      <td>NaN</td>\n",
       "      <td>NaN</td>\n",
       "      <td>NaN</td>\n",
       "      <td>NaN</td>\n",
       "      <td>NaN</td>\n",
       "      <td>...</td>\n",
       "      <td>NaN</td>\n",
       "      <td>NaN</td>\n",
       "      <td>NaN</td>\n",
       "      <td>NaN</td>\n",
       "      <td>NaN</td>\n",
       "      <td>NaN</td>\n",
       "      <td>NaN</td>\n",
       "      <td>&lt;NA&gt;</td>\n",
       "      <td>&lt;NA&gt;</td>\n",
       "      <td>40.0</td>\n",
       "    </tr>\n",
       "  </tbody>\n",
       "</table>\n",
       "<p>418268 rows × 34 columns</p>\n",
       "</div>"
      ],
      "text/plain": [
       "           id _STATE  GENHLTH  PHYSHLTH  MENTHLTH POORHLTH EXRACT11 PAFREQ1_  \\\n",
       "0       31580     CA        3         0         0      NaN     64.0   7000.0   \n",
       "1       31581     CA        2         2         5     88.0     18.0    467.0   \n",
       "2       31582     CA        4         3        10     10.0     64.0   6000.0   \n",
       "3       31583     CA        3         0         5     88.0     64.0   5000.0   \n",
       "4       31584     CA        3         0        30     15.0     64.0   4000.0   \n",
       "...       ...    ...      ...       ...       ...      ...      ...      ...   \n",
       "418263  31575     CA        5         0         0      NaN      NaN      NaN   \n",
       "418264  31576     CA        1        30        30     88.0     64.0    933.0   \n",
       "418265  31577     CA        1        30         0     88.0      NaN      NaN   \n",
       "418266  31578     CA        3         0         0      NaN      NaN      NaN   \n",
       "418267  31579     CA        5         0         0      NaN      NaN      NaN   \n",
       "\n",
       "       _MINAC11 ACTIN12_  ... FTJUDA2_ GRENDA1_ VEGEDA2_ POTADA1_ FRNCHDA_  \\\n",
       "0        1260.0      1.0  ...      NaN      NaN      NaN      NaN      NaN   \n",
       "1          28.0      2.0  ...     43.0     43.0     29.0      3.0     14.0   \n",
       "2         210.0      1.0  ...      0.0     33.0    100.0     13.0     33.0   \n",
       "3         200.0      1.0  ...     17.0     10.0     71.0      3.0     29.0   \n",
       "4         120.0      1.0  ...     57.0      3.0     43.0     14.0     29.0   \n",
       "...         ...      ...  ...      ...      ...      ...      ...      ...   \n",
       "418263      NaN      NaN  ...    100.0      NaN      NaN      NaN      NaN   \n",
       "418264     56.0      1.0  ...      0.0    100.0     43.0      3.0      0.0   \n",
       "418265      NaN      NaN  ...     29.0     43.0     43.0      3.0      3.0   \n",
       "418266      NaN      NaN  ...      NaN      NaN      NaN      NaN      NaN   \n",
       "418267      NaN      NaN  ...      NaN      NaN      NaN      NaN      NaN   \n",
       "\n",
       "        _FRUTSU1 _VEGESU1 _PAINDX2 _PASTRNG _AGE80  \n",
       "0            NaN      NaN        1        2   46.0  \n",
       "1           1.14     0.89        2        2   57.0  \n",
       "2           0.10     1.79        1        2   58.0  \n",
       "3           0.46     1.13        1        2   35.0  \n",
       "4           1.00     0.89        1        1   23.0  \n",
       "...          ...      ...      ...      ...    ...  \n",
       "418263      4.00      NaN        2        2   27.0  \n",
       "418264      0.29     1.46        2        2   66.0  \n",
       "418265      1.29     0.92        2        2   54.0  \n",
       "418266       NaN      NaN        2        1   56.0  \n",
       "418267       NaN      NaN     <NA>     <NA>   40.0  \n",
       "\n",
       "[418268 rows x 34 columns]"
      ]
     },
     "execution_count": 234,
     "metadata": {},
     "output_type": "execute_result"
    }
   ],
   "source": [
    "recoded_health_behaviour_df"
   ]
  },
  {
   "cell_type": "markdown",
   "id": "5abd6af8",
   "metadata": {},
   "source": [
    "## TODO: get mean values per state for chloropleth maps"
   ]
  },
  {
   "cell_type": "code",
   "execution_count": 228,
   "id": "af6294ac",
   "metadata": {},
   "outputs": [],
   "source": [
    "state_veg_mean = recoded_health_behaviour_df.groupby('_STATE')['_VEGESU1'].mean().reset_index()"
   ]
  },
  {
   "cell_type": "markdown",
   "id": "ac58089a",
   "metadata": {},
   "source": [
    "### State Codes\n",
    "original code: \n",
    "- 1: Alabama\n",
    "- 2\tAlaska\t\n",
    "- 4\tArizona\t\n",
    "- 5\tArkansas\t\n",
    "- 6\tCalifornia\t\n",
    "- 8\tColorado\t\n",
    "- 9\tConnecticut\t\n",
    "- 10\tDelaware\t\n",
    "- 11\tDistrict of Columbia\t\n",
    "- 12\tFlorida\t\n",
    "- 13\tGeorgia\t\n",
    "- 15\tHawaii\t\n",
    "- 16\tIdaho\t\n",
    "- 17\tIllinois\t\n",
    "- 18\tIndiana\t\n",
    "- 19\tIowa\t\n",
    "- 20\tKansas\t\n",
    "- 21\tKentucky\t\n",
    "- 22\tLouisiana\t\n",
    "- 23\tMaine\t\n",
    "- 24\tMaryland\t\n",
    "- 25\tMassachusetts\t\n",
    "- 26\tMichigan\t\n",
    "- 27\tMinnesota\t\n",
    "- 28\tMississippi\t\n",
    "- 29\tMissouri\t\n",
    "- 30\tMontana\t\n",
    "- 31\tNebraska\t\n",
    "- 32\tNevada\t\n",
    "- 33\tNew Hampshire\t\n",
    "- 35\tNew Mexico\t\n",
    "- 36\tNew York\t\n",
    "- 37\tNorth Carolina\t\n",
    "- 38\tNorth Dakota\t\n",
    "- 39\tOhio\t\n",
    "- 40\tOklahoma\t\n",
    "- 41\tOregon\t\n",
    "- 42\tPennsylvania\t\n",
    "- 44\tRhode Island\t\n",
    "- 45\tSouth Carolina\t\n",
    "- 46\tSouth Dakota\t\n",
    "- 47\tTennessee\t\n",
    "- 48\tTexas\t\n",
    "- 49\tUtah\t\n",
    "- 50\tVermont\t\n",
    "- 51\tVirginia\t\n",
    "- 53\tWashington\t\n",
    "- 54\tWest Virginia\t\n",
    "- 55\tWisconsin\t\n",
    "- 56\tWyoming\n",
    "- 66\tGuam\t\n",
    "- 72\tPuerto Rico\n",
    "    "
   ]
  },
  {
   "cell_type": "code",
   "execution_count": 229,
   "id": "faa513d6",
   "metadata": {},
   "outputs": [
    {
     "data": {
      "text/html": [
       "<div>\n",
       "<style scoped>\n",
       "    .dataframe tbody tr th:only-of-type {\n",
       "        vertical-align: middle;\n",
       "    }\n",
       "\n",
       "    .dataframe tbody tr th {\n",
       "        vertical-align: top;\n",
       "    }\n",
       "\n",
       "    .dataframe thead th {\n",
       "        text-align: right;\n",
       "    }\n",
       "</style>\n",
       "<table border=\"1\" class=\"dataframe\">\n",
       "  <thead>\n",
       "    <tr style=\"text-align: right;\">\n",
       "      <th></th>\n",
       "      <th>_STATE</th>\n",
       "      <th>_VEGESU1</th>\n",
       "    </tr>\n",
       "  </thead>\n",
       "  <tbody>\n",
       "    <tr>\n",
       "      <th>0</th>\n",
       "      <td>1.0</td>\n",
       "      <td>1.744130</td>\n",
       "    </tr>\n",
       "    <tr>\n",
       "      <th>1</th>\n",
       "      <td>2.0</td>\n",
       "      <td>2.332528</td>\n",
       "    </tr>\n",
       "    <tr>\n",
       "      <th>2</th>\n",
       "      <td>4.0</td>\n",
       "      <td>2.650538</td>\n",
       "    </tr>\n",
       "    <tr>\n",
       "      <th>3</th>\n",
       "      <td>5.0</td>\n",
       "      <td>2.422322</td>\n",
       "    </tr>\n",
       "    <tr>\n",
       "      <th>4</th>\n",
       "      <td>6.0</td>\n",
       "      <td>1.825288</td>\n",
       "    </tr>\n",
       "  </tbody>\n",
       "</table>\n",
       "</div>"
      ],
      "text/plain": [
       "  _STATE  _VEGESU1\n",
       "0    1.0  1.744130\n",
       "1    2.0  2.332528\n",
       "2    4.0  2.650538\n",
       "3    5.0  2.422322\n",
       "4    6.0  1.825288"
      ]
     },
     "execution_count": 229,
     "metadata": {},
     "output_type": "execute_result"
    }
   ],
   "source": [
    "state_veg_mean.head()"
   ]
  },
  {
   "cell_type": "code",
   "execution_count": 230,
   "id": "6b964731",
   "metadata": {},
   "outputs": [],
   "source": [
    "#recode states to two letter codes so they can work with go.choropleth\n",
    "\n",
    "state_veg_mean.loc[state_veg_mean._STATE == 1, \"_STATE\"] = 'AL'\n",
    "state_veg_mean.loc[state_veg_mean._STATE == 2, \"_STATE\"] = 'AK'\n",
    "state_veg_mean.loc[state_veg_mean._STATE == 4, \"_STATE\"] = 'AZ'\n",
    "state_veg_mean.loc[state_veg_mean._STATE == 5, \"_STATE\"] = 'AR'\n",
    "state_veg_mean.loc[state_veg_mean._STATE == 6, \"_STATE\"] = 'CA'\n",
    "state_veg_mean.loc[state_veg_mean._STATE == 8, \"_STATE\"] = 'CO'\n",
    "state_veg_mean.loc[state_veg_mean._STATE == 9, \"_STATE\"] = 'CT'\n",
    "state_veg_mean.loc[state_veg_mean._STATE == 10, \"_STATE\"] = 'DE'\n",
    "state_veg_mean.loc[state_veg_mean._STATE == 11, \"_STATE\"] = 'DC'\n",
    "state_veg_mean.loc[state_veg_mean._STATE == 12, \"_STATE\"] = 'FL'\n",
    "state_veg_mean.loc[state_veg_mean._STATE == 13, \"_STATE\"] = 'GA'\n",
    "state_veg_mean.loc[state_veg_mean._STATE == 15, \"_STATE\"] = 'HI'\n",
    "state_veg_mean.loc[state_veg_mean._STATE == 16, \"_STATE\"] = 'ID'\n",
    "state_veg_mean.loc[state_veg_mean._STATE == 17, \"_STATE\"] = 'IL'\n",
    "state_veg_mean.loc[state_veg_mean._STATE == 18, \"_STATE\"] = 'IN'\n",
    "state_veg_mean.loc[state_veg_mean._STATE == 19, \"_STATE\"] = 'IA'\n",
    "state_veg_mean.loc[state_veg_mean._STATE == 20, \"_STATE\"] = 'KS'\n",
    "state_veg_mean.loc[state_veg_mean._STATE == 21, \"_STATE\"] = 'KY'\n",
    "state_veg_mean.loc[state_veg_mean._STATE == 22, \"_STATE\"] = 'LA'\n",
    "state_veg_mean.loc[state_veg_mean._STATE == 23, \"_STATE\"] = 'ME'\n",
    "state_veg_mean.loc[state_veg_mean._STATE == 24, \"_STATE\"] = 'MD'\n",
    "state_veg_mean.loc[state_veg_mean._STATE == 25, \"_STATE\"] = 'MA'\n",
    "state_veg_mean.loc[state_veg_mean._STATE == 26, \"_STATE\"] = 'MI'\n",
    "state_veg_mean.loc[state_veg_mean._STATE == 27, \"_STATE\"] = 'MN'\n",
    "state_veg_mean.loc[state_veg_mean._STATE == 28, \"_STATE\"] = 'MS'\n",
    "state_veg_mean.loc[state_veg_mean._STATE == 29, \"_STATE\"] = 'MO'\n",
    "state_veg_mean.loc[state_veg_mean._STATE == 30, \"_STATE\"] = 'MT'\n",
    "state_veg_mean.loc[state_veg_mean._STATE == 31, \"_STATE\"] = 'NE'\n",
    "state_veg_mean.loc[state_veg_mean._STATE == 32, \"_STATE\"] = 'NV'\n",
    "state_veg_mean.loc[state_veg_mean._STATE == 33, \"_STATE\"] = 'NH'\n",
    "state_veg_mean.loc[state_veg_mean._STATE == 35, \"_STATE\"] = 'NM'\n",
    "state_veg_mean.loc[state_veg_mean._STATE == 36, \"_STATE\"] = 'NY'\n",
    "state_veg_mean.loc[state_veg_mean._STATE == 37, \"_STATE\"] = 'NC'\n",
    "state_veg_mean.loc[state_veg_mean._STATE == 38, \"_STATE\"] = 'ND'\n",
    "state_veg_mean.loc[state_veg_mean._STATE == 39, \"_STATE\"] = 'OH'\n",
    "state_veg_mean.loc[state_veg_mean._STATE == 40, \"_STATE\"] = 'OK'\n",
    "state_veg_mean.loc[state_veg_mean._STATE == 41, \"_STATE\"] = 'OR'\n",
    "state_veg_mean.loc[state_veg_mean._STATE == 42, \"_STATE\"] = 'PA'\n",
    "state_veg_mean.loc[state_veg_mean._STATE == 44, \"_STATE\"] = 'RI'\n",
    "state_veg_mean.loc[state_veg_mean._STATE == 45, \"_STATE\"] = 'SC'\n",
    "state_veg_mean.loc[state_veg_mean._STATE == 46, \"_STATE\"] = 'SD'\n",
    "state_veg_mean.loc[state_veg_mean._STATE == 47, \"_STATE\"] = 'TN'\n",
    "state_veg_mean.loc[state_veg_mean._STATE == 48, \"_STATE\"] = 'TX'\n",
    "state_veg_mean.loc[state_veg_mean._STATE == 49, \"_STATE\"] = 'UT'\n",
    "state_veg_mean.loc[state_veg_mean._STATE == 50, \"_STATE\"] = 'VT'\n",
    "state_veg_mean.loc[state_veg_mean._STATE == 51, \"_STATE\"] = 'VA'\n",
    "state_veg_mean.loc[state_veg_mean._STATE == 53, \"_STATE\"] = 'WA'\n",
    "state_veg_mean.loc[state_veg_mean._STATE == 54, \"_STATE\"] = 'WV'\n",
    "state_veg_mean.loc[state_veg_mean._STATE == 55, \"_STATE\"] = 'WI'\n",
    "state_veg_mean.loc[state_veg_mean._STATE == 56, \"_STATE\"] = 'WY'\n",
    "state_veg_mean.loc[state_veg_mean._STATE == 66, \"_STATE\"] = 'GU'\n",
    "state_veg_mean.loc[state_veg_mean._STATE == 72, \"_STATE\"] = 'PR'"
   ]
  },
  {
   "cell_type": "code",
   "execution_count": 235,
   "id": "e7d4c3c9",
   "metadata": {},
   "outputs": [
    {
     "data": {
      "text/html": [
       "<div>\n",
       "<style scoped>\n",
       "    .dataframe tbody tr th:only-of-type {\n",
       "        vertical-align: middle;\n",
       "    }\n",
       "\n",
       "    .dataframe tbody tr th {\n",
       "        vertical-align: top;\n",
       "    }\n",
       "\n",
       "    .dataframe thead th {\n",
       "        text-align: right;\n",
       "    }\n",
       "</style>\n",
       "<table border=\"1\" class=\"dataframe\">\n",
       "  <thead>\n",
       "    <tr style=\"text-align: right;\">\n",
       "      <th></th>\n",
       "      <th>_STATE</th>\n",
       "      <th>_VEGESU1</th>\n",
       "    </tr>\n",
       "  </thead>\n",
       "  <tbody>\n",
       "    <tr>\n",
       "      <th>0</th>\n",
       "      <td>AL</td>\n",
       "      <td>1.744130</td>\n",
       "    </tr>\n",
       "    <tr>\n",
       "      <th>1</th>\n",
       "      <td>AK</td>\n",
       "      <td>2.332528</td>\n",
       "    </tr>\n",
       "    <tr>\n",
       "      <th>2</th>\n",
       "      <td>AZ</td>\n",
       "      <td>2.650538</td>\n",
       "    </tr>\n",
       "    <tr>\n",
       "      <th>3</th>\n",
       "      <td>AR</td>\n",
       "      <td>2.422322</td>\n",
       "    </tr>\n",
       "    <tr>\n",
       "      <th>4</th>\n",
       "      <td>CA</td>\n",
       "      <td>1.825288</td>\n",
       "    </tr>\n",
       "    <tr>\n",
       "      <th>5</th>\n",
       "      <td>CO</td>\n",
       "      <td>1.876607</td>\n",
       "    </tr>\n",
       "    <tr>\n",
       "      <th>6</th>\n",
       "      <td>CT</td>\n",
       "      <td>2.916833</td>\n",
       "    </tr>\n",
       "    <tr>\n",
       "      <th>7</th>\n",
       "      <td>DE</td>\n",
       "      <td>1.864820</td>\n",
       "    </tr>\n",
       "    <tr>\n",
       "      <th>8</th>\n",
       "      <td>DC</td>\n",
       "      <td>2.085319</td>\n",
       "    </tr>\n",
       "    <tr>\n",
       "      <th>9</th>\n",
       "      <td>FL</td>\n",
       "      <td>1.984152</td>\n",
       "    </tr>\n",
       "    <tr>\n",
       "      <th>10</th>\n",
       "      <td>GA</td>\n",
       "      <td>1.894525</td>\n",
       "    </tr>\n",
       "    <tr>\n",
       "      <th>11</th>\n",
       "      <td>HI</td>\n",
       "      <td>1.951915</td>\n",
       "    </tr>\n",
       "    <tr>\n",
       "      <th>12</th>\n",
       "      <td>ID</td>\n",
       "      <td>2.010705</td>\n",
       "    </tr>\n",
       "    <tr>\n",
       "      <th>13</th>\n",
       "      <td>IL</td>\n",
       "      <td>1.857671</td>\n",
       "    </tr>\n",
       "    <tr>\n",
       "      <th>14</th>\n",
       "      <td>IN</td>\n",
       "      <td>2.676945</td>\n",
       "    </tr>\n",
       "    <tr>\n",
       "      <th>15</th>\n",
       "      <td>IA</td>\n",
       "      <td>1.753999</td>\n",
       "    </tr>\n",
       "    <tr>\n",
       "      <th>16</th>\n",
       "      <td>KS</td>\n",
       "      <td>2.040008</td>\n",
       "    </tr>\n",
       "    <tr>\n",
       "      <th>17</th>\n",
       "      <td>KY</td>\n",
       "      <td>1.739231</td>\n",
       "    </tr>\n",
       "    <tr>\n",
       "      <th>18</th>\n",
       "      <td>LA</td>\n",
       "      <td>1.805531</td>\n",
       "    </tr>\n",
       "    <tr>\n",
       "      <th>19</th>\n",
       "      <td>ME</td>\n",
       "      <td>2.107394</td>\n",
       "    </tr>\n",
       "    <tr>\n",
       "      <th>20</th>\n",
       "      <td>MD</td>\n",
       "      <td>2.038001</td>\n",
       "    </tr>\n",
       "    <tr>\n",
       "      <th>21</th>\n",
       "      <td>MA</td>\n",
       "      <td>2.057149</td>\n",
       "    </tr>\n",
       "    <tr>\n",
       "      <th>22</th>\n",
       "      <td>MI</td>\n",
       "      <td>1.781486</td>\n",
       "    </tr>\n",
       "    <tr>\n",
       "      <th>23</th>\n",
       "      <td>MN</td>\n",
       "      <td>1.852354</td>\n",
       "    </tr>\n",
       "    <tr>\n",
       "      <th>24</th>\n",
       "      <td>MS</td>\n",
       "      <td>1.848722</td>\n",
       "    </tr>\n",
       "    <tr>\n",
       "      <th>25</th>\n",
       "      <td>MO</td>\n",
       "      <td>1.814025</td>\n",
       "    </tr>\n",
       "    <tr>\n",
       "      <th>26</th>\n",
       "      <td>MT</td>\n",
       "      <td>1.953355</td>\n",
       "    </tr>\n",
       "    <tr>\n",
       "      <th>27</th>\n",
       "      <td>NE</td>\n",
       "      <td>1.826010</td>\n",
       "    </tr>\n",
       "    <tr>\n",
       "      <th>28</th>\n",
       "      <td>NV</td>\n",
       "      <td>1.782782</td>\n",
       "    </tr>\n",
       "    <tr>\n",
       "      <th>29</th>\n",
       "      <td>NH</td>\n",
       "      <td>2.371623</td>\n",
       "    </tr>\n",
       "    <tr>\n",
       "      <th>30</th>\n",
       "      <td>NM</td>\n",
       "      <td>1.823298</td>\n",
       "    </tr>\n",
       "    <tr>\n",
       "      <th>31</th>\n",
       "      <td>NY</td>\n",
       "      <td>2.667969</td>\n",
       "    </tr>\n",
       "    <tr>\n",
       "      <th>32</th>\n",
       "      <td>NC</td>\n",
       "      <td>1.974628</td>\n",
       "    </tr>\n",
       "    <tr>\n",
       "      <th>33</th>\n",
       "      <td>ND</td>\n",
       "      <td>1.781761</td>\n",
       "    </tr>\n",
       "    <tr>\n",
       "      <th>34</th>\n",
       "      <td>OH</td>\n",
       "      <td>1.811823</td>\n",
       "    </tr>\n",
       "    <tr>\n",
       "      <th>35</th>\n",
       "      <td>OK</td>\n",
       "      <td>1.766685</td>\n",
       "    </tr>\n",
       "    <tr>\n",
       "      <th>36</th>\n",
       "      <td>OR</td>\n",
       "      <td>2.132664</td>\n",
       "    </tr>\n",
       "    <tr>\n",
       "      <th>37</th>\n",
       "      <td>PA</td>\n",
       "      <td>1.826971</td>\n",
       "    </tr>\n",
       "    <tr>\n",
       "      <th>38</th>\n",
       "      <td>RI</td>\n",
       "      <td>2.793032</td>\n",
       "    </tr>\n",
       "    <tr>\n",
       "      <th>39</th>\n",
       "      <td>SC</td>\n",
       "      <td>2.067567</td>\n",
       "    </tr>\n",
       "    <tr>\n",
       "      <th>40</th>\n",
       "      <td>SD</td>\n",
       "      <td>1.870031</td>\n",
       "    </tr>\n",
       "    <tr>\n",
       "      <th>41</th>\n",
       "      <td>TN</td>\n",
       "      <td>1.991517</td>\n",
       "    </tr>\n",
       "    <tr>\n",
       "      <th>42</th>\n",
       "      <td>TX</td>\n",
       "      <td>2.533879</td>\n",
       "    </tr>\n",
       "    <tr>\n",
       "      <th>43</th>\n",
       "      <td>UT</td>\n",
       "      <td>1.832707</td>\n",
       "    </tr>\n",
       "    <tr>\n",
       "      <th>44</th>\n",
       "      <td>VT</td>\n",
       "      <td>3.251678</td>\n",
       "    </tr>\n",
       "    <tr>\n",
       "      <th>45</th>\n",
       "      <td>VA</td>\n",
       "      <td>1.926800</td>\n",
       "    </tr>\n",
       "    <tr>\n",
       "      <th>46</th>\n",
       "      <td>WA</td>\n",
       "      <td>2.221605</td>\n",
       "    </tr>\n",
       "    <tr>\n",
       "      <th>47</th>\n",
       "      <td>WV</td>\n",
       "      <td>1.830687</td>\n",
       "    </tr>\n",
       "    <tr>\n",
       "      <th>48</th>\n",
       "      <td>WI</td>\n",
       "      <td>1.769907</td>\n",
       "    </tr>\n",
       "    <tr>\n",
       "      <th>49</th>\n",
       "      <td>WY</td>\n",
       "      <td>1.874590</td>\n",
       "    </tr>\n",
       "    <tr>\n",
       "      <th>50</th>\n",
       "      <td>GU</td>\n",
       "      <td>1.925822</td>\n",
       "    </tr>\n",
       "    <tr>\n",
       "      <th>51</th>\n",
       "      <td>PR</td>\n",
       "      <td>1.236874</td>\n",
       "    </tr>\n",
       "  </tbody>\n",
       "</table>\n",
       "</div>"
      ],
      "text/plain": [
       "   _STATE  _VEGESU1\n",
       "0      AL  1.744130\n",
       "1      AK  2.332528\n",
       "2      AZ  2.650538\n",
       "3      AR  2.422322\n",
       "4      CA  1.825288\n",
       "5      CO  1.876607\n",
       "6      CT  2.916833\n",
       "7      DE  1.864820\n",
       "8      DC  2.085319\n",
       "9      FL  1.984152\n",
       "10     GA  1.894525\n",
       "11     HI  1.951915\n",
       "12     ID  2.010705\n",
       "13     IL  1.857671\n",
       "14     IN  2.676945\n",
       "15     IA  1.753999\n",
       "16     KS  2.040008\n",
       "17     KY  1.739231\n",
       "18     LA  1.805531\n",
       "19     ME  2.107394\n",
       "20     MD  2.038001\n",
       "21     MA  2.057149\n",
       "22     MI  1.781486\n",
       "23     MN  1.852354\n",
       "24     MS  1.848722\n",
       "25     MO  1.814025\n",
       "26     MT  1.953355\n",
       "27     NE  1.826010\n",
       "28     NV  1.782782\n",
       "29     NH  2.371623\n",
       "30     NM  1.823298\n",
       "31     NY  2.667969\n",
       "32     NC  1.974628\n",
       "33     ND  1.781761\n",
       "34     OH  1.811823\n",
       "35     OK  1.766685\n",
       "36     OR  2.132664\n",
       "37     PA  1.826971\n",
       "38     RI  2.793032\n",
       "39     SC  2.067567\n",
       "40     SD  1.870031\n",
       "41     TN  1.991517\n",
       "42     TX  2.533879\n",
       "43     UT  1.832707\n",
       "44     VT  3.251678\n",
       "45     VA  1.926800\n",
       "46     WA  2.221605\n",
       "47     WV  1.830687\n",
       "48     WI  1.769907\n",
       "49     WY  1.874590\n",
       "50     GU  1.925822\n",
       "51     PR  1.236874"
      ]
     },
     "execution_count": 235,
     "metadata": {},
     "output_type": "execute_result"
    }
   ],
   "source": [
    "state_veg_mean"
   ]
  },
  {
   "cell_type": "code",
   "execution_count": null,
   "id": "1fbdd8db",
   "metadata": {},
   "outputs": [],
   "source": [
    "##TODO: test on larger dataset"
   ]
  },
  {
   "cell_type": "markdown",
   "id": "4e26c74f",
   "metadata": {},
   "source": [
    "### Health Behaviours Chloropleth maps by state"
   ]
  },
  {
   "cell_type": "code",
   "execution_count": 231,
   "id": "cd8c1bd3",
   "metadata": {},
   "outputs": [
    {
     "data": {
      "application/vnd.plotly.v1+json": {
       "config": {
        "plotlyServerURL": "https://plot.ly"
       },
       "data": [
        {
         "autocolorscale": false,
         "colorbar": {
          "title": {
           "text": "Vegetables Eaten per Day"
          }
         },
         "colorscale": [
          [
           0,
           "rgb(247,252,245)"
          ],
          [
           0.125,
           "rgb(229,245,224)"
          ],
          [
           0.25,
           "rgb(199,233,192)"
          ],
          [
           0.375,
           "rgb(161,217,155)"
          ],
          [
           0.5,
           "rgb(116,196,118)"
          ],
          [
           0.625,
           "rgb(65,171,93)"
          ],
          [
           0.75,
           "rgb(35,139,69)"
          ],
          [
           0.875,
           "rgb(0,109,44)"
          ],
          [
           1,
           "rgb(0,68,27)"
          ]
         ],
         "locationmode": "USA-states",
         "locations": [
          "AL",
          "AK",
          "AZ",
          "AR",
          "CA",
          "CO",
          "CT",
          "DE",
          "DC",
          "FL",
          "GA",
          "HI",
          "ID",
          "IL",
          "IN",
          "IA",
          "KS",
          "KY",
          "LA",
          "ME",
          "MD",
          "MA",
          "MI",
          "MN",
          "MS",
          "MO",
          "MT",
          "NE",
          "NV",
          "NH",
          "NM",
          "NY",
          "NC",
          "ND",
          "OH",
          "OK",
          "OR",
          "PA",
          "RI",
          "SC",
          "SD",
          "TN",
          "TX",
          "UT",
          "VT",
          "VA",
          "WA",
          "WV",
          "WI",
          "WY",
          "GU",
          "PR"
         ],
         "marker": {
          "line": {
           "color": "white"
          }
         },
         "text": [
          "AL",
          "AK",
          "AZ",
          "AR",
          "CA",
          "CO",
          "CT",
          "DE",
          "DC",
          "FL",
          "GA",
          "HI",
          "ID",
          "IL",
          "IN",
          "IA",
          "KS",
          "KY",
          "LA",
          "ME",
          "MD",
          "MA",
          "MI",
          "MN",
          "MS",
          "MO",
          "MT",
          "NE",
          "NV",
          "NH",
          "NM",
          "NY",
          "NC",
          "ND",
          "OH",
          "OK",
          "OR",
          "PA",
          "RI",
          "SC",
          "SD",
          "TN",
          "TX",
          "UT",
          "VT",
          "VA",
          "WA",
          "WV",
          "WI",
          "WY",
          "GU",
          "PR"
         ],
         "type": "choropleth",
         "z": [
          1.744130363576816,
          2.3325279814743376,
          2.6505384310093665,
          2.422322326700201,
          1.8252883655956837,
          1.8766068535825604,
          2.916832654100842,
          1.8648199697428185,
          2.085319444444446,
          1.9841522712731674,
          1.8945253576072794,
          1.9519154087154673,
          2.0107049282595155,
          1.857670825906124,
          2.6769453719781002,
          1.7539988564894264,
          2.040008107834188,
          1.739231415371691,
          1.8055306276783591,
          2.1073943867145735,
          2.038000924580604,
          2.057149492017422,
          1.7814858392336503,
          1.8523538842734086,
          1.8487217219415821,
          1.8140245938970763,
          1.9533554534626576,
          1.8260097375105657,
          1.7827817460317474,
          2.3716227018385307,
          1.8232984684348168,
          2.667969368439132,
          1.974628405183819,
          1.781760673717194,
          1.8118226221079619,
          1.7666848854320016,
          2.132664384795539,
          1.8269708640321525,
          2.7930318622600474,
          2.0675667367739843,
          1.870031332453827,
          1.9915174418604717,
          2.533878722990034,
          1.8327070688206073,
          3.2516780698595467,
          1.9268002756402896,
          2.2216046122700135,
          1.8306866234038153,
          1.769906669701802,
          1.8745895343254961,
          1.9258224907063217,
          1.2368742194469284
         ]
        }
       ],
       "layout": {
        "geo": {
         "lakecolor": "rgb(255, 255, 255)",
         "projection": {
          "type": "albers usa"
         },
         "scope": "usa",
         "showlakes": true
        },
        "template": {
         "data": {
          "bar": [
           {
            "error_x": {
             "color": "#2a3f5f"
            },
            "error_y": {
             "color": "#2a3f5f"
            },
            "marker": {
             "line": {
              "color": "#E5ECF6",
              "width": 0.5
             },
             "pattern": {
              "fillmode": "overlay",
              "size": 10,
              "solidity": 0.2
             }
            },
            "type": "bar"
           }
          ],
          "barpolar": [
           {
            "marker": {
             "line": {
              "color": "#E5ECF6",
              "width": 0.5
             },
             "pattern": {
              "fillmode": "overlay",
              "size": 10,
              "solidity": 0.2
             }
            },
            "type": "barpolar"
           }
          ],
          "carpet": [
           {
            "aaxis": {
             "endlinecolor": "#2a3f5f",
             "gridcolor": "white",
             "linecolor": "white",
             "minorgridcolor": "white",
             "startlinecolor": "#2a3f5f"
            },
            "baxis": {
             "endlinecolor": "#2a3f5f",
             "gridcolor": "white",
             "linecolor": "white",
             "minorgridcolor": "white",
             "startlinecolor": "#2a3f5f"
            },
            "type": "carpet"
           }
          ],
          "choropleth": [
           {
            "colorbar": {
             "outlinewidth": 0,
             "ticks": ""
            },
            "type": "choropleth"
           }
          ],
          "contour": [
           {
            "colorbar": {
             "outlinewidth": 0,
             "ticks": ""
            },
            "colorscale": [
             [
              0,
              "#0d0887"
             ],
             [
              0.1111111111111111,
              "#46039f"
             ],
             [
              0.2222222222222222,
              "#7201a8"
             ],
             [
              0.3333333333333333,
              "#9c179e"
             ],
             [
              0.4444444444444444,
              "#bd3786"
             ],
             [
              0.5555555555555556,
              "#d8576b"
             ],
             [
              0.6666666666666666,
              "#ed7953"
             ],
             [
              0.7777777777777778,
              "#fb9f3a"
             ],
             [
              0.8888888888888888,
              "#fdca26"
             ],
             [
              1,
              "#f0f921"
             ]
            ],
            "type": "contour"
           }
          ],
          "contourcarpet": [
           {
            "colorbar": {
             "outlinewidth": 0,
             "ticks": ""
            },
            "type": "contourcarpet"
           }
          ],
          "heatmap": [
           {
            "colorbar": {
             "outlinewidth": 0,
             "ticks": ""
            },
            "colorscale": [
             [
              0,
              "#0d0887"
             ],
             [
              0.1111111111111111,
              "#46039f"
             ],
             [
              0.2222222222222222,
              "#7201a8"
             ],
             [
              0.3333333333333333,
              "#9c179e"
             ],
             [
              0.4444444444444444,
              "#bd3786"
             ],
             [
              0.5555555555555556,
              "#d8576b"
             ],
             [
              0.6666666666666666,
              "#ed7953"
             ],
             [
              0.7777777777777778,
              "#fb9f3a"
             ],
             [
              0.8888888888888888,
              "#fdca26"
             ],
             [
              1,
              "#f0f921"
             ]
            ],
            "type": "heatmap"
           }
          ],
          "heatmapgl": [
           {
            "colorbar": {
             "outlinewidth": 0,
             "ticks": ""
            },
            "colorscale": [
             [
              0,
              "#0d0887"
             ],
             [
              0.1111111111111111,
              "#46039f"
             ],
             [
              0.2222222222222222,
              "#7201a8"
             ],
             [
              0.3333333333333333,
              "#9c179e"
             ],
             [
              0.4444444444444444,
              "#bd3786"
             ],
             [
              0.5555555555555556,
              "#d8576b"
             ],
             [
              0.6666666666666666,
              "#ed7953"
             ],
             [
              0.7777777777777778,
              "#fb9f3a"
             ],
             [
              0.8888888888888888,
              "#fdca26"
             ],
             [
              1,
              "#f0f921"
             ]
            ],
            "type": "heatmapgl"
           }
          ],
          "histogram": [
           {
            "marker": {
             "pattern": {
              "fillmode": "overlay",
              "size": 10,
              "solidity": 0.2
             }
            },
            "type": "histogram"
           }
          ],
          "histogram2d": [
           {
            "colorbar": {
             "outlinewidth": 0,
             "ticks": ""
            },
            "colorscale": [
             [
              0,
              "#0d0887"
             ],
             [
              0.1111111111111111,
              "#46039f"
             ],
             [
              0.2222222222222222,
              "#7201a8"
             ],
             [
              0.3333333333333333,
              "#9c179e"
             ],
             [
              0.4444444444444444,
              "#bd3786"
             ],
             [
              0.5555555555555556,
              "#d8576b"
             ],
             [
              0.6666666666666666,
              "#ed7953"
             ],
             [
              0.7777777777777778,
              "#fb9f3a"
             ],
             [
              0.8888888888888888,
              "#fdca26"
             ],
             [
              1,
              "#f0f921"
             ]
            ],
            "type": "histogram2d"
           }
          ],
          "histogram2dcontour": [
           {
            "colorbar": {
             "outlinewidth": 0,
             "ticks": ""
            },
            "colorscale": [
             [
              0,
              "#0d0887"
             ],
             [
              0.1111111111111111,
              "#46039f"
             ],
             [
              0.2222222222222222,
              "#7201a8"
             ],
             [
              0.3333333333333333,
              "#9c179e"
             ],
             [
              0.4444444444444444,
              "#bd3786"
             ],
             [
              0.5555555555555556,
              "#d8576b"
             ],
             [
              0.6666666666666666,
              "#ed7953"
             ],
             [
              0.7777777777777778,
              "#fb9f3a"
             ],
             [
              0.8888888888888888,
              "#fdca26"
             ],
             [
              1,
              "#f0f921"
             ]
            ],
            "type": "histogram2dcontour"
           }
          ],
          "mesh3d": [
           {
            "colorbar": {
             "outlinewidth": 0,
             "ticks": ""
            },
            "type": "mesh3d"
           }
          ],
          "parcoords": [
           {
            "line": {
             "colorbar": {
              "outlinewidth": 0,
              "ticks": ""
             }
            },
            "type": "parcoords"
           }
          ],
          "pie": [
           {
            "automargin": true,
            "type": "pie"
           }
          ],
          "scatter": [
           {
            "marker": {
             "colorbar": {
              "outlinewidth": 0,
              "ticks": ""
             }
            },
            "type": "scatter"
           }
          ],
          "scatter3d": [
           {
            "line": {
             "colorbar": {
              "outlinewidth": 0,
              "ticks": ""
             }
            },
            "marker": {
             "colorbar": {
              "outlinewidth": 0,
              "ticks": ""
             }
            },
            "type": "scatter3d"
           }
          ],
          "scattercarpet": [
           {
            "marker": {
             "colorbar": {
              "outlinewidth": 0,
              "ticks": ""
             }
            },
            "type": "scattercarpet"
           }
          ],
          "scattergeo": [
           {
            "marker": {
             "colorbar": {
              "outlinewidth": 0,
              "ticks": ""
             }
            },
            "type": "scattergeo"
           }
          ],
          "scattergl": [
           {
            "marker": {
             "colorbar": {
              "outlinewidth": 0,
              "ticks": ""
             }
            },
            "type": "scattergl"
           }
          ],
          "scattermapbox": [
           {
            "marker": {
             "colorbar": {
              "outlinewidth": 0,
              "ticks": ""
             }
            },
            "type": "scattermapbox"
           }
          ],
          "scatterpolar": [
           {
            "marker": {
             "colorbar": {
              "outlinewidth": 0,
              "ticks": ""
             }
            },
            "type": "scatterpolar"
           }
          ],
          "scatterpolargl": [
           {
            "marker": {
             "colorbar": {
              "outlinewidth": 0,
              "ticks": ""
             }
            },
            "type": "scatterpolargl"
           }
          ],
          "scatterternary": [
           {
            "marker": {
             "colorbar": {
              "outlinewidth": 0,
              "ticks": ""
             }
            },
            "type": "scatterternary"
           }
          ],
          "surface": [
           {
            "colorbar": {
             "outlinewidth": 0,
             "ticks": ""
            },
            "colorscale": [
             [
              0,
              "#0d0887"
             ],
             [
              0.1111111111111111,
              "#46039f"
             ],
             [
              0.2222222222222222,
              "#7201a8"
             ],
             [
              0.3333333333333333,
              "#9c179e"
             ],
             [
              0.4444444444444444,
              "#bd3786"
             ],
             [
              0.5555555555555556,
              "#d8576b"
             ],
             [
              0.6666666666666666,
              "#ed7953"
             ],
             [
              0.7777777777777778,
              "#fb9f3a"
             ],
             [
              0.8888888888888888,
              "#fdca26"
             ],
             [
              1,
              "#f0f921"
             ]
            ],
            "type": "surface"
           }
          ],
          "table": [
           {
            "cells": {
             "fill": {
              "color": "#EBF0F8"
             },
             "line": {
              "color": "white"
             }
            },
            "header": {
             "fill": {
              "color": "#C8D4E3"
             },
             "line": {
              "color": "white"
             }
            },
            "type": "table"
           }
          ]
         },
         "layout": {
          "annotationdefaults": {
           "arrowcolor": "#2a3f5f",
           "arrowhead": 0,
           "arrowwidth": 1
          },
          "autotypenumbers": "strict",
          "coloraxis": {
           "colorbar": {
            "outlinewidth": 0,
            "ticks": ""
           }
          },
          "colorscale": {
           "diverging": [
            [
             0,
             "#8e0152"
            ],
            [
             0.1,
             "#c51b7d"
            ],
            [
             0.2,
             "#de77ae"
            ],
            [
             0.3,
             "#f1b6da"
            ],
            [
             0.4,
             "#fde0ef"
            ],
            [
             0.5,
             "#f7f7f7"
            ],
            [
             0.6,
             "#e6f5d0"
            ],
            [
             0.7,
             "#b8e186"
            ],
            [
             0.8,
             "#7fbc41"
            ],
            [
             0.9,
             "#4d9221"
            ],
            [
             1,
             "#276419"
            ]
           ],
           "sequential": [
            [
             0,
             "#0d0887"
            ],
            [
             0.1111111111111111,
             "#46039f"
            ],
            [
             0.2222222222222222,
             "#7201a8"
            ],
            [
             0.3333333333333333,
             "#9c179e"
            ],
            [
             0.4444444444444444,
             "#bd3786"
            ],
            [
             0.5555555555555556,
             "#d8576b"
            ],
            [
             0.6666666666666666,
             "#ed7953"
            ],
            [
             0.7777777777777778,
             "#fb9f3a"
            ],
            [
             0.8888888888888888,
             "#fdca26"
            ],
            [
             1,
             "#f0f921"
            ]
           ],
           "sequentialminus": [
            [
             0,
             "#0d0887"
            ],
            [
             0.1111111111111111,
             "#46039f"
            ],
            [
             0.2222222222222222,
             "#7201a8"
            ],
            [
             0.3333333333333333,
             "#9c179e"
            ],
            [
             0.4444444444444444,
             "#bd3786"
            ],
            [
             0.5555555555555556,
             "#d8576b"
            ],
            [
             0.6666666666666666,
             "#ed7953"
            ],
            [
             0.7777777777777778,
             "#fb9f3a"
            ],
            [
             0.8888888888888888,
             "#fdca26"
            ],
            [
             1,
             "#f0f921"
            ]
           ]
          },
          "colorway": [
           "#636efa",
           "#EF553B",
           "#00cc96",
           "#ab63fa",
           "#FFA15A",
           "#19d3f3",
           "#FF6692",
           "#B6E880",
           "#FF97FF",
           "#FECB52"
          ],
          "font": {
           "color": "#2a3f5f"
          },
          "geo": {
           "bgcolor": "white",
           "lakecolor": "white",
           "landcolor": "#E5ECF6",
           "showlakes": true,
           "showland": true,
           "subunitcolor": "white"
          },
          "hoverlabel": {
           "align": "left"
          },
          "hovermode": "closest",
          "mapbox": {
           "style": "light"
          },
          "paper_bgcolor": "white",
          "plot_bgcolor": "#E5ECF6",
          "polar": {
           "angularaxis": {
            "gridcolor": "white",
            "linecolor": "white",
            "ticks": ""
           },
           "bgcolor": "#E5ECF6",
           "radialaxis": {
            "gridcolor": "white",
            "linecolor": "white",
            "ticks": ""
           }
          },
          "scene": {
           "xaxis": {
            "backgroundcolor": "#E5ECF6",
            "gridcolor": "white",
            "gridwidth": 2,
            "linecolor": "white",
            "showbackground": true,
            "ticks": "",
            "zerolinecolor": "white"
           },
           "yaxis": {
            "backgroundcolor": "#E5ECF6",
            "gridcolor": "white",
            "gridwidth": 2,
            "linecolor": "white",
            "showbackground": true,
            "ticks": "",
            "zerolinecolor": "white"
           },
           "zaxis": {
            "backgroundcolor": "#E5ECF6",
            "gridcolor": "white",
            "gridwidth": 2,
            "linecolor": "white",
            "showbackground": true,
            "ticks": "",
            "zerolinecolor": "white"
           }
          },
          "shapedefaults": {
           "line": {
            "color": "#2a3f5f"
           }
          },
          "ternary": {
           "aaxis": {
            "gridcolor": "white",
            "linecolor": "white",
            "ticks": ""
           },
           "baxis": {
            "gridcolor": "white",
            "linecolor": "white",
            "ticks": ""
           },
           "bgcolor": "#E5ECF6",
           "caxis": {
            "gridcolor": "white",
            "linecolor": "white",
            "ticks": ""
           }
          },
          "title": {
           "x": 0.05
          },
          "xaxis": {
           "automargin": true,
           "gridcolor": "white",
           "linecolor": "white",
           "ticks": "",
           "title": {
            "standoff": 15
           },
           "zerolinecolor": "white",
           "zerolinewidth": 2
          },
          "yaxis": {
           "automargin": true,
           "gridcolor": "white",
           "linecolor": "white",
           "ticks": "",
           "title": {
            "standoff": 15
           },
           "zerolinecolor": "white",
           "zerolinewidth": 2
          }
         }
        },
        "title": {
         "text": "Average Number of Vegetables Eaten a Day<br>(Hover for breakdown)"
        }
       }
      },
      "text/html": [
       "<div>                            <div id=\"30979319-ccf3-471b-ac89-f0cf1cbc48d9\" class=\"plotly-graph-div\" style=\"height:525px; width:100%;\"></div>            <script type=\"text/javascript\">                require([\"plotly\"], function(Plotly) {                    window.PLOTLYENV=window.PLOTLYENV || {};                                    if (document.getElementById(\"30979319-ccf3-471b-ac89-f0cf1cbc48d9\")) {                    Plotly.newPlot(                        \"30979319-ccf3-471b-ac89-f0cf1cbc48d9\",                        [{\"autocolorscale\":false,\"colorbar\":{\"title\":{\"text\":\"Vegetables Eaten per Day\"}},\"colorscale\":[[0.0,\"rgb(247,252,245)\"],[0.125,\"rgb(229,245,224)\"],[0.25,\"rgb(199,233,192)\"],[0.375,\"rgb(161,217,155)\"],[0.5,\"rgb(116,196,118)\"],[0.625,\"rgb(65,171,93)\"],[0.75,\"rgb(35,139,69)\"],[0.875,\"rgb(0,109,44)\"],[1.0,\"rgb(0,68,27)\"]],\"locationmode\":\"USA-states\",\"locations\":[\"AL\",\"AK\",\"AZ\",\"AR\",\"CA\",\"CO\",\"CT\",\"DE\",\"DC\",\"FL\",\"GA\",\"HI\",\"ID\",\"IL\",\"IN\",\"IA\",\"KS\",\"KY\",\"LA\",\"ME\",\"MD\",\"MA\",\"MI\",\"MN\",\"MS\",\"MO\",\"MT\",\"NE\",\"NV\",\"NH\",\"NM\",\"NY\",\"NC\",\"ND\",\"OH\",\"OK\",\"OR\",\"PA\",\"RI\",\"SC\",\"SD\",\"TN\",\"TX\",\"UT\",\"VT\",\"VA\",\"WA\",\"WV\",\"WI\",\"WY\",\"GU\",\"PR\"],\"marker\":{\"line\":{\"color\":\"white\"}},\"text\":[\"AL\",\"AK\",\"AZ\",\"AR\",\"CA\",\"CO\",\"CT\",\"DE\",\"DC\",\"FL\",\"GA\",\"HI\",\"ID\",\"IL\",\"IN\",\"IA\",\"KS\",\"KY\",\"LA\",\"ME\",\"MD\",\"MA\",\"MI\",\"MN\",\"MS\",\"MO\",\"MT\",\"NE\",\"NV\",\"NH\",\"NM\",\"NY\",\"NC\",\"ND\",\"OH\",\"OK\",\"OR\",\"PA\",\"RI\",\"SC\",\"SD\",\"TN\",\"TX\",\"UT\",\"VT\",\"VA\",\"WA\",\"WV\",\"WI\",\"WY\",\"GU\",\"PR\"],\"type\":\"choropleth\",\"z\":[1.744130363576816,2.3325279814743376,2.6505384310093665,2.422322326700201,1.8252883655956837,1.8766068535825604,2.916832654100842,1.8648199697428185,2.085319444444446,1.9841522712731674,1.8945253576072794,1.9519154087154673,2.0107049282595155,1.857670825906124,2.6769453719781002,1.7539988564894264,2.040008107834188,1.739231415371691,1.8055306276783591,2.1073943867145735,2.038000924580604,2.057149492017422,1.7814858392336503,1.8523538842734086,1.8487217219415821,1.8140245938970763,1.9533554534626576,1.8260097375105657,1.7827817460317474,2.3716227018385307,1.8232984684348168,2.667969368439132,1.974628405183819,1.781760673717194,1.8118226221079619,1.7666848854320016,2.132664384795539,1.8269708640321525,2.7930318622600474,2.0675667367739843,1.870031332453827,1.9915174418604717,2.533878722990034,1.8327070688206073,3.2516780698595467,1.9268002756402896,2.2216046122700135,1.8306866234038153,1.769906669701802,1.8745895343254961,1.9258224907063217,1.2368742194469284]}],                        {\"geo\":{\"lakecolor\":\"rgb(255, 255, 255)\",\"projection\":{\"type\":\"albers usa\"},\"scope\":\"usa\",\"showlakes\":true},\"template\":{\"data\":{\"bar\":[{\"error_x\":{\"color\":\"#2a3f5f\"},\"error_y\":{\"color\":\"#2a3f5f\"},\"marker\":{\"line\":{\"color\":\"#E5ECF6\",\"width\":0.5},\"pattern\":{\"fillmode\":\"overlay\",\"size\":10,\"solidity\":0.2}},\"type\":\"bar\"}],\"barpolar\":[{\"marker\":{\"line\":{\"color\":\"#E5ECF6\",\"width\":0.5},\"pattern\":{\"fillmode\":\"overlay\",\"size\":10,\"solidity\":0.2}},\"type\":\"barpolar\"}],\"carpet\":[{\"aaxis\":{\"endlinecolor\":\"#2a3f5f\",\"gridcolor\":\"white\",\"linecolor\":\"white\",\"minorgridcolor\":\"white\",\"startlinecolor\":\"#2a3f5f\"},\"baxis\":{\"endlinecolor\":\"#2a3f5f\",\"gridcolor\":\"white\",\"linecolor\":\"white\",\"minorgridcolor\":\"white\",\"startlinecolor\":\"#2a3f5f\"},\"type\":\"carpet\"}],\"choropleth\":[{\"colorbar\":{\"outlinewidth\":0,\"ticks\":\"\"},\"type\":\"choropleth\"}],\"contour\":[{\"colorbar\":{\"outlinewidth\":0,\"ticks\":\"\"},\"colorscale\":[[0.0,\"#0d0887\"],[0.1111111111111111,\"#46039f\"],[0.2222222222222222,\"#7201a8\"],[0.3333333333333333,\"#9c179e\"],[0.4444444444444444,\"#bd3786\"],[0.5555555555555556,\"#d8576b\"],[0.6666666666666666,\"#ed7953\"],[0.7777777777777778,\"#fb9f3a\"],[0.8888888888888888,\"#fdca26\"],[1.0,\"#f0f921\"]],\"type\":\"contour\"}],\"contourcarpet\":[{\"colorbar\":{\"outlinewidth\":0,\"ticks\":\"\"},\"type\":\"contourcarpet\"}],\"heatmap\":[{\"colorbar\":{\"outlinewidth\":0,\"ticks\":\"\"},\"colorscale\":[[0.0,\"#0d0887\"],[0.1111111111111111,\"#46039f\"],[0.2222222222222222,\"#7201a8\"],[0.3333333333333333,\"#9c179e\"],[0.4444444444444444,\"#bd3786\"],[0.5555555555555556,\"#d8576b\"],[0.6666666666666666,\"#ed7953\"],[0.7777777777777778,\"#fb9f3a\"],[0.8888888888888888,\"#fdca26\"],[1.0,\"#f0f921\"]],\"type\":\"heatmap\"}],\"heatmapgl\":[{\"colorbar\":{\"outlinewidth\":0,\"ticks\":\"\"},\"colorscale\":[[0.0,\"#0d0887\"],[0.1111111111111111,\"#46039f\"],[0.2222222222222222,\"#7201a8\"],[0.3333333333333333,\"#9c179e\"],[0.4444444444444444,\"#bd3786\"],[0.5555555555555556,\"#d8576b\"],[0.6666666666666666,\"#ed7953\"],[0.7777777777777778,\"#fb9f3a\"],[0.8888888888888888,\"#fdca26\"],[1.0,\"#f0f921\"]],\"type\":\"heatmapgl\"}],\"histogram\":[{\"marker\":{\"pattern\":{\"fillmode\":\"overlay\",\"size\":10,\"solidity\":0.2}},\"type\":\"histogram\"}],\"histogram2d\":[{\"colorbar\":{\"outlinewidth\":0,\"ticks\":\"\"},\"colorscale\":[[0.0,\"#0d0887\"],[0.1111111111111111,\"#46039f\"],[0.2222222222222222,\"#7201a8\"],[0.3333333333333333,\"#9c179e\"],[0.4444444444444444,\"#bd3786\"],[0.5555555555555556,\"#d8576b\"],[0.6666666666666666,\"#ed7953\"],[0.7777777777777778,\"#fb9f3a\"],[0.8888888888888888,\"#fdca26\"],[1.0,\"#f0f921\"]],\"type\":\"histogram2d\"}],\"histogram2dcontour\":[{\"colorbar\":{\"outlinewidth\":0,\"ticks\":\"\"},\"colorscale\":[[0.0,\"#0d0887\"],[0.1111111111111111,\"#46039f\"],[0.2222222222222222,\"#7201a8\"],[0.3333333333333333,\"#9c179e\"],[0.4444444444444444,\"#bd3786\"],[0.5555555555555556,\"#d8576b\"],[0.6666666666666666,\"#ed7953\"],[0.7777777777777778,\"#fb9f3a\"],[0.8888888888888888,\"#fdca26\"],[1.0,\"#f0f921\"]],\"type\":\"histogram2dcontour\"}],\"mesh3d\":[{\"colorbar\":{\"outlinewidth\":0,\"ticks\":\"\"},\"type\":\"mesh3d\"}],\"parcoords\":[{\"line\":{\"colorbar\":{\"outlinewidth\":0,\"ticks\":\"\"}},\"type\":\"parcoords\"}],\"pie\":[{\"automargin\":true,\"type\":\"pie\"}],\"scatter\":[{\"marker\":{\"colorbar\":{\"outlinewidth\":0,\"ticks\":\"\"}},\"type\":\"scatter\"}],\"scatter3d\":[{\"line\":{\"colorbar\":{\"outlinewidth\":0,\"ticks\":\"\"}},\"marker\":{\"colorbar\":{\"outlinewidth\":0,\"ticks\":\"\"}},\"type\":\"scatter3d\"}],\"scattercarpet\":[{\"marker\":{\"colorbar\":{\"outlinewidth\":0,\"ticks\":\"\"}},\"type\":\"scattercarpet\"}],\"scattergeo\":[{\"marker\":{\"colorbar\":{\"outlinewidth\":0,\"ticks\":\"\"}},\"type\":\"scattergeo\"}],\"scattergl\":[{\"marker\":{\"colorbar\":{\"outlinewidth\":0,\"ticks\":\"\"}},\"type\":\"scattergl\"}],\"scattermapbox\":[{\"marker\":{\"colorbar\":{\"outlinewidth\":0,\"ticks\":\"\"}},\"type\":\"scattermapbox\"}],\"scatterpolar\":[{\"marker\":{\"colorbar\":{\"outlinewidth\":0,\"ticks\":\"\"}},\"type\":\"scatterpolar\"}],\"scatterpolargl\":[{\"marker\":{\"colorbar\":{\"outlinewidth\":0,\"ticks\":\"\"}},\"type\":\"scatterpolargl\"}],\"scatterternary\":[{\"marker\":{\"colorbar\":{\"outlinewidth\":0,\"ticks\":\"\"}},\"type\":\"scatterternary\"}],\"surface\":[{\"colorbar\":{\"outlinewidth\":0,\"ticks\":\"\"},\"colorscale\":[[0.0,\"#0d0887\"],[0.1111111111111111,\"#46039f\"],[0.2222222222222222,\"#7201a8\"],[0.3333333333333333,\"#9c179e\"],[0.4444444444444444,\"#bd3786\"],[0.5555555555555556,\"#d8576b\"],[0.6666666666666666,\"#ed7953\"],[0.7777777777777778,\"#fb9f3a\"],[0.8888888888888888,\"#fdca26\"],[1.0,\"#f0f921\"]],\"type\":\"surface\"}],\"table\":[{\"cells\":{\"fill\":{\"color\":\"#EBF0F8\"},\"line\":{\"color\":\"white\"}},\"header\":{\"fill\":{\"color\":\"#C8D4E3\"},\"line\":{\"color\":\"white\"}},\"type\":\"table\"}]},\"layout\":{\"annotationdefaults\":{\"arrowcolor\":\"#2a3f5f\",\"arrowhead\":0,\"arrowwidth\":1},\"autotypenumbers\":\"strict\",\"coloraxis\":{\"colorbar\":{\"outlinewidth\":0,\"ticks\":\"\"}},\"colorscale\":{\"diverging\":[[0,\"#8e0152\"],[0.1,\"#c51b7d\"],[0.2,\"#de77ae\"],[0.3,\"#f1b6da\"],[0.4,\"#fde0ef\"],[0.5,\"#f7f7f7\"],[0.6,\"#e6f5d0\"],[0.7,\"#b8e186\"],[0.8,\"#7fbc41\"],[0.9,\"#4d9221\"],[1,\"#276419\"]],\"sequential\":[[0.0,\"#0d0887\"],[0.1111111111111111,\"#46039f\"],[0.2222222222222222,\"#7201a8\"],[0.3333333333333333,\"#9c179e\"],[0.4444444444444444,\"#bd3786\"],[0.5555555555555556,\"#d8576b\"],[0.6666666666666666,\"#ed7953\"],[0.7777777777777778,\"#fb9f3a\"],[0.8888888888888888,\"#fdca26\"],[1.0,\"#f0f921\"]],\"sequentialminus\":[[0.0,\"#0d0887\"],[0.1111111111111111,\"#46039f\"],[0.2222222222222222,\"#7201a8\"],[0.3333333333333333,\"#9c179e\"],[0.4444444444444444,\"#bd3786\"],[0.5555555555555556,\"#d8576b\"],[0.6666666666666666,\"#ed7953\"],[0.7777777777777778,\"#fb9f3a\"],[0.8888888888888888,\"#fdca26\"],[1.0,\"#f0f921\"]]},\"colorway\":[\"#636efa\",\"#EF553B\",\"#00cc96\",\"#ab63fa\",\"#FFA15A\",\"#19d3f3\",\"#FF6692\",\"#B6E880\",\"#FF97FF\",\"#FECB52\"],\"font\":{\"color\":\"#2a3f5f\"},\"geo\":{\"bgcolor\":\"white\",\"lakecolor\":\"white\",\"landcolor\":\"#E5ECF6\",\"showlakes\":true,\"showland\":true,\"subunitcolor\":\"white\"},\"hoverlabel\":{\"align\":\"left\"},\"hovermode\":\"closest\",\"mapbox\":{\"style\":\"light\"},\"paper_bgcolor\":\"white\",\"plot_bgcolor\":\"#E5ECF6\",\"polar\":{\"angularaxis\":{\"gridcolor\":\"white\",\"linecolor\":\"white\",\"ticks\":\"\"},\"bgcolor\":\"#E5ECF6\",\"radialaxis\":{\"gridcolor\":\"white\",\"linecolor\":\"white\",\"ticks\":\"\"}},\"scene\":{\"xaxis\":{\"backgroundcolor\":\"#E5ECF6\",\"gridcolor\":\"white\",\"gridwidth\":2,\"linecolor\":\"white\",\"showbackground\":true,\"ticks\":\"\",\"zerolinecolor\":\"white\"},\"yaxis\":{\"backgroundcolor\":\"#E5ECF6\",\"gridcolor\":\"white\",\"gridwidth\":2,\"linecolor\":\"white\",\"showbackground\":true,\"ticks\":\"\",\"zerolinecolor\":\"white\"},\"zaxis\":{\"backgroundcolor\":\"#E5ECF6\",\"gridcolor\":\"white\",\"gridwidth\":2,\"linecolor\":\"white\",\"showbackground\":true,\"ticks\":\"\",\"zerolinecolor\":\"white\"}},\"shapedefaults\":{\"line\":{\"color\":\"#2a3f5f\"}},\"ternary\":{\"aaxis\":{\"gridcolor\":\"white\",\"linecolor\":\"white\",\"ticks\":\"\"},\"baxis\":{\"gridcolor\":\"white\",\"linecolor\":\"white\",\"ticks\":\"\"},\"bgcolor\":\"#E5ECF6\",\"caxis\":{\"gridcolor\":\"white\",\"linecolor\":\"white\",\"ticks\":\"\"}},\"title\":{\"x\":0.05},\"xaxis\":{\"automargin\":true,\"gridcolor\":\"white\",\"linecolor\":\"white\",\"ticks\":\"\",\"title\":{\"standoff\":15},\"zerolinecolor\":\"white\",\"zerolinewidth\":2},\"yaxis\":{\"automargin\":true,\"gridcolor\":\"white\",\"linecolor\":\"white\",\"ticks\":\"\",\"title\":{\"standoff\":15},\"zerolinecolor\":\"white\",\"zerolinewidth\":2}}},\"title\":{\"text\":\"Average Number of Vegetables Eaten a Day<br>(Hover for breakdown)\"}},                        {\"responsive\": true}                    ).then(function(){\n",
       "                            \n",
       "var gd = document.getElementById('30979319-ccf3-471b-ac89-f0cf1cbc48d9');\n",
       "var x = new MutationObserver(function (mutations, observer) {{\n",
       "        var display = window.getComputedStyle(gd).display;\n",
       "        if (!display || display === 'none') {{\n",
       "            console.log([gd, 'removed!']);\n",
       "            Plotly.purge(gd);\n",
       "            observer.disconnect();\n",
       "        }}\n",
       "}});\n",
       "\n",
       "// Listen for the removal of the full notebook cells\n",
       "var notebookContainer = gd.closest('#notebook-container');\n",
       "if (notebookContainer) {{\n",
       "    x.observe(notebookContainer, {childList: true});\n",
       "}}\n",
       "\n",
       "// Listen for the clearing of the current output cell\n",
       "var outputEl = gd.closest('.output');\n",
       "if (outputEl) {{\n",
       "    x.observe(outputEl, {childList: true});\n",
       "}}\n",
       "\n",
       "                        })                };                });            </script>        </div>"
      ]
     },
     "metadata": {},
     "output_type": "display_data"
    }
   ],
   "source": [
    "fig = go.Figure(data=go.Choropleth(\n",
    "    locations=state_veg_mean['_STATE'],\n",
    "    z=state_veg_mean['_VEGESU1'].astype(float),\n",
    "    locationmode='USA-states',\n",
    "    colorscale='greens',\n",
    "    autocolorscale=False,\n",
    "    text=state_veg_mean['_STATE'], # hover text\n",
    "    marker_line_color='white', # line markers between states\n",
    "    colorbar_title=\"Vegetables Eaten per Day\"\n",
    "))\n",
    "\n",
    "fig.update_layout(\n",
    "    title_text='Average Number of Vegetables Eaten a Day<br>(Hover for breakdown)',\n",
    "    geo = dict(\n",
    "        scope='usa',\n",
    "        projection=go.layout.geo.Projection(type = 'albers usa'),\n",
    "        showlakes=True, # lakes\n",
    "        lakecolor='rgb(255, 255, 255)'),\n",
    ")\n",
    "\n",
    "fig.show()"
   ]
  },
  {
   "cell_type": "code",
   "execution_count": null,
   "id": "5440c84d",
   "metadata": {},
   "outputs": [],
   "source": [
    "### Fruits per day by state"
   ]
  },
  {
   "cell_type": "code",
   "execution_count": 236,
   "id": "5de8d784",
   "metadata": {},
   "outputs": [],
   "source": [
    "state_fruit_mean = recoded_health_behaviour_df.groupby('_STATE')['_FRUTSU1'].mean().reset_index()"
   ]
  },
  {
   "cell_type": "code",
   "execution_count": 237,
   "id": "50f94ef4",
   "metadata": {},
   "outputs": [
    {
     "data": {
      "text/html": [
       "<div>\n",
       "<style scoped>\n",
       "    .dataframe tbody tr th:only-of-type {\n",
       "        vertical-align: middle;\n",
       "    }\n",
       "\n",
       "    .dataframe tbody tr th {\n",
       "        vertical-align: top;\n",
       "    }\n",
       "\n",
       "    .dataframe thead th {\n",
       "        text-align: right;\n",
       "    }\n",
       "</style>\n",
       "<table border=\"1\" class=\"dataframe\">\n",
       "  <thead>\n",
       "    <tr style=\"text-align: right;\">\n",
       "      <th></th>\n",
       "      <th>_STATE</th>\n",
       "      <th>_FRUTSU1</th>\n",
       "    </tr>\n",
       "  </thead>\n",
       "  <tbody>\n",
       "    <tr>\n",
       "      <th>0</th>\n",
       "      <td>AK</td>\n",
       "      <td>1.540369</td>\n",
       "    </tr>\n",
       "    <tr>\n",
       "      <th>1</th>\n",
       "      <td>AL</td>\n",
       "      <td>1.232993</td>\n",
       "    </tr>\n",
       "    <tr>\n",
       "      <th>2</th>\n",
       "      <td>AR</td>\n",
       "      <td>1.569661</td>\n",
       "    </tr>\n",
       "    <tr>\n",
       "      <th>3</th>\n",
       "      <td>AZ</td>\n",
       "      <td>1.748288</td>\n",
       "    </tr>\n",
       "    <tr>\n",
       "      <th>4</th>\n",
       "      <td>CA</td>\n",
       "      <td>1.435239</td>\n",
       "    </tr>\n",
       "    <tr>\n",
       "      <th>5</th>\n",
       "      <td>CO</td>\n",
       "      <td>1.396317</td>\n",
       "    </tr>\n",
       "    <tr>\n",
       "      <th>6</th>\n",
       "      <td>CT</td>\n",
       "      <td>1.946547</td>\n",
       "    </tr>\n",
       "    <tr>\n",
       "      <th>7</th>\n",
       "      <td>DC</td>\n",
       "      <td>1.532979</td>\n",
       "    </tr>\n",
       "    <tr>\n",
       "      <th>8</th>\n",
       "      <td>DE</td>\n",
       "      <td>1.426221</td>\n",
       "    </tr>\n",
       "    <tr>\n",
       "      <th>9</th>\n",
       "      <td>FL</td>\n",
       "      <td>1.394397</td>\n",
       "    </tr>\n",
       "    <tr>\n",
       "      <th>10</th>\n",
       "      <td>GA</td>\n",
       "      <td>1.316258</td>\n",
       "    </tr>\n",
       "    <tr>\n",
       "      <th>11</th>\n",
       "      <td>GU</td>\n",
       "      <td>1.327064</td>\n",
       "    </tr>\n",
       "    <tr>\n",
       "      <th>12</th>\n",
       "      <td>HI</td>\n",
       "      <td>1.372681</td>\n",
       "    </tr>\n",
       "    <tr>\n",
       "      <th>13</th>\n",
       "      <td>IA</td>\n",
       "      <td>1.334835</td>\n",
       "    </tr>\n",
       "    <tr>\n",
       "      <th>14</th>\n",
       "      <td>ID</td>\n",
       "      <td>1.370627</td>\n",
       "    </tr>\n",
       "    <tr>\n",
       "      <th>15</th>\n",
       "      <td>IL</td>\n",
       "      <td>1.434555</td>\n",
       "    </tr>\n",
       "    <tr>\n",
       "      <th>16</th>\n",
       "      <td>IN</td>\n",
       "      <td>1.837262</td>\n",
       "    </tr>\n",
       "    <tr>\n",
       "      <th>17</th>\n",
       "      <td>KS</td>\n",
       "      <td>1.355549</td>\n",
       "    </tr>\n",
       "    <tr>\n",
       "      <th>18</th>\n",
       "      <td>KY</td>\n",
       "      <td>1.135081</td>\n",
       "    </tr>\n",
       "    <tr>\n",
       "      <th>19</th>\n",
       "      <td>LA</td>\n",
       "      <td>1.254212</td>\n",
       "    </tr>\n",
       "  </tbody>\n",
       "</table>\n",
       "</div>"
      ],
      "text/plain": [
       "   _STATE  _FRUTSU1\n",
       "0      AK  1.540369\n",
       "1      AL  1.232993\n",
       "2      AR  1.569661\n",
       "3      AZ  1.748288\n",
       "4      CA  1.435239\n",
       "5      CO  1.396317\n",
       "6      CT  1.946547\n",
       "7      DC  1.532979\n",
       "8      DE  1.426221\n",
       "9      FL  1.394397\n",
       "10     GA  1.316258\n",
       "11     GU  1.327064\n",
       "12     HI  1.372681\n",
       "13     IA  1.334835\n",
       "14     ID  1.370627\n",
       "15     IL  1.434555\n",
       "16     IN  1.837262\n",
       "17     KS  1.355549\n",
       "18     KY  1.135081\n",
       "19     LA  1.254212"
      ]
     },
     "execution_count": 237,
     "metadata": {},
     "output_type": "execute_result"
    }
   ],
   "source": [
    "state_fruit_mean.head(20)"
   ]
  },
  {
   "cell_type": "code",
   "execution_count": 239,
   "id": "1ebc8ba4",
   "metadata": {},
   "outputs": [
    {
     "data": {
      "application/vnd.plotly.v1+json": {
       "config": {
        "plotlyServerURL": "https://plot.ly"
       },
       "data": [
        {
         "autocolorscale": false,
         "colorbar": {
          "title": {
           "text": "Fruits Eaten per Day"
          }
         },
         "colorscale": [
          [
           0,
           "rgb(255,245,240)"
          ],
          [
           0.125,
           "rgb(254,224,210)"
          ],
          [
           0.25,
           "rgb(252,187,161)"
          ],
          [
           0.375,
           "rgb(252,146,114)"
          ],
          [
           0.5,
           "rgb(251,106,74)"
          ],
          [
           0.625,
           "rgb(239,59,44)"
          ],
          [
           0.75,
           "rgb(203,24,29)"
          ],
          [
           0.875,
           "rgb(165,15,21)"
          ],
          [
           1,
           "rgb(103,0,13)"
          ]
         ],
         "locationmode": "USA-states",
         "locations": [
          "AK",
          "AL",
          "AR",
          "AZ",
          "CA",
          "CO",
          "CT",
          "DC",
          "DE",
          "FL",
          "GA",
          "GU",
          "HI",
          "IA",
          "ID",
          "IL",
          "IN",
          "KS",
          "KY",
          "LA",
          "MA",
          "MD",
          "ME",
          "MI",
          "MN",
          "MO",
          "MS",
          "MT",
          "NC",
          "ND",
          "NE",
          "NH",
          "NM",
          "NV",
          "NY",
          "OH",
          "OK",
          "OR",
          "PA",
          "PR",
          "RI",
          "SC",
          "SD",
          "TN",
          "TX",
          "UT",
          "VA",
          "VT",
          "WA",
          "WI",
          "WV",
          "WY"
         ],
         "marker": {
          "line": {
           "color": "white"
          }
         },
         "text": [
          "AK",
          "AL",
          "AR",
          "AZ",
          "CA",
          "CO",
          "CT",
          "DC",
          "DE",
          "FL",
          "GA",
          "GU",
          "HI",
          "IA",
          "ID",
          "IL",
          "IN",
          "KS",
          "KY",
          "LA",
          "MA",
          "MD",
          "ME",
          "MI",
          "MN",
          "MO",
          "MS",
          "MT",
          "NC",
          "ND",
          "NE",
          "NH",
          "NM",
          "NV",
          "NY",
          "OH",
          "OK",
          "OR",
          "PA",
          "PR",
          "RI",
          "SC",
          "SD",
          "TN",
          "TX",
          "UT",
          "VA",
          "VT",
          "WA",
          "WI",
          "WV",
          "WY"
         ],
         "type": "choropleth",
         "z": [
          1.5403692539562899,
          1.2329929913985465,
          1.5696610526315906,
          1.748287688763772,
          1.435238934586779,
          1.3963174642026779,
          1.946547190871897,
          1.5329793906810028,
          1.4262212389380564,
          1.3943969676085533,
          1.3162584712372107,
          1.3270641784251236,
          1.3726809764309895,
          1.3348348818986098,
          1.37062691443742,
          1.434555424990218,
          1.8372617518623393,
          1.3555485336230053,
          1.135081473367123,
          1.2542122107336313,
          1.5926126255380353,
          1.5391138588356426,
          1.4599664526023362,
          1.3631247439574092,
          1.4371591153102916,
          1.2325503852993647,
          1.223682512368257,
          1.293786343246393,
          1.3065190525231747,
          1.3314938319198226,
          1.3351008525681212,
          1.6942688447156187,
          1.308825681360907,
          1.2535622817229322,
          1.9047305936073045,
          1.2687751873438988,
          1.142454212454219,
          1.5129953670705742,
          1.3327232435981708,
          0.9804423521051767,
          2.007484662576703,
          1.3709085222830515,
          1.4077114508783437,
          1.3023282514586987,
          1.698799774075139,
          1.392437206734766,
          1.3515788883908806,
          2.049635507499138,
          1.539326756663214,
          1.4304448915716597,
          1.1773406638159298,
          1.3169346144832494
         ]
        }
       ],
       "layout": {
        "geo": {
         "lakecolor": "rgb(255, 255, 255)",
         "projection": {
          "type": "albers usa"
         },
         "scope": "usa",
         "showlakes": true
        },
        "template": {
         "data": {
          "bar": [
           {
            "error_x": {
             "color": "#2a3f5f"
            },
            "error_y": {
             "color": "#2a3f5f"
            },
            "marker": {
             "line": {
              "color": "#E5ECF6",
              "width": 0.5
             },
             "pattern": {
              "fillmode": "overlay",
              "size": 10,
              "solidity": 0.2
             }
            },
            "type": "bar"
           }
          ],
          "barpolar": [
           {
            "marker": {
             "line": {
              "color": "#E5ECF6",
              "width": 0.5
             },
             "pattern": {
              "fillmode": "overlay",
              "size": 10,
              "solidity": 0.2
             }
            },
            "type": "barpolar"
           }
          ],
          "carpet": [
           {
            "aaxis": {
             "endlinecolor": "#2a3f5f",
             "gridcolor": "white",
             "linecolor": "white",
             "minorgridcolor": "white",
             "startlinecolor": "#2a3f5f"
            },
            "baxis": {
             "endlinecolor": "#2a3f5f",
             "gridcolor": "white",
             "linecolor": "white",
             "minorgridcolor": "white",
             "startlinecolor": "#2a3f5f"
            },
            "type": "carpet"
           }
          ],
          "choropleth": [
           {
            "colorbar": {
             "outlinewidth": 0,
             "ticks": ""
            },
            "type": "choropleth"
           }
          ],
          "contour": [
           {
            "colorbar": {
             "outlinewidth": 0,
             "ticks": ""
            },
            "colorscale": [
             [
              0,
              "#0d0887"
             ],
             [
              0.1111111111111111,
              "#46039f"
             ],
             [
              0.2222222222222222,
              "#7201a8"
             ],
             [
              0.3333333333333333,
              "#9c179e"
             ],
             [
              0.4444444444444444,
              "#bd3786"
             ],
             [
              0.5555555555555556,
              "#d8576b"
             ],
             [
              0.6666666666666666,
              "#ed7953"
             ],
             [
              0.7777777777777778,
              "#fb9f3a"
             ],
             [
              0.8888888888888888,
              "#fdca26"
             ],
             [
              1,
              "#f0f921"
             ]
            ],
            "type": "contour"
           }
          ],
          "contourcarpet": [
           {
            "colorbar": {
             "outlinewidth": 0,
             "ticks": ""
            },
            "type": "contourcarpet"
           }
          ],
          "heatmap": [
           {
            "colorbar": {
             "outlinewidth": 0,
             "ticks": ""
            },
            "colorscale": [
             [
              0,
              "#0d0887"
             ],
             [
              0.1111111111111111,
              "#46039f"
             ],
             [
              0.2222222222222222,
              "#7201a8"
             ],
             [
              0.3333333333333333,
              "#9c179e"
             ],
             [
              0.4444444444444444,
              "#bd3786"
             ],
             [
              0.5555555555555556,
              "#d8576b"
             ],
             [
              0.6666666666666666,
              "#ed7953"
             ],
             [
              0.7777777777777778,
              "#fb9f3a"
             ],
             [
              0.8888888888888888,
              "#fdca26"
             ],
             [
              1,
              "#f0f921"
             ]
            ],
            "type": "heatmap"
           }
          ],
          "heatmapgl": [
           {
            "colorbar": {
             "outlinewidth": 0,
             "ticks": ""
            },
            "colorscale": [
             [
              0,
              "#0d0887"
             ],
             [
              0.1111111111111111,
              "#46039f"
             ],
             [
              0.2222222222222222,
              "#7201a8"
             ],
             [
              0.3333333333333333,
              "#9c179e"
             ],
             [
              0.4444444444444444,
              "#bd3786"
             ],
             [
              0.5555555555555556,
              "#d8576b"
             ],
             [
              0.6666666666666666,
              "#ed7953"
             ],
             [
              0.7777777777777778,
              "#fb9f3a"
             ],
             [
              0.8888888888888888,
              "#fdca26"
             ],
             [
              1,
              "#f0f921"
             ]
            ],
            "type": "heatmapgl"
           }
          ],
          "histogram": [
           {
            "marker": {
             "pattern": {
              "fillmode": "overlay",
              "size": 10,
              "solidity": 0.2
             }
            },
            "type": "histogram"
           }
          ],
          "histogram2d": [
           {
            "colorbar": {
             "outlinewidth": 0,
             "ticks": ""
            },
            "colorscale": [
             [
              0,
              "#0d0887"
             ],
             [
              0.1111111111111111,
              "#46039f"
             ],
             [
              0.2222222222222222,
              "#7201a8"
             ],
             [
              0.3333333333333333,
              "#9c179e"
             ],
             [
              0.4444444444444444,
              "#bd3786"
             ],
             [
              0.5555555555555556,
              "#d8576b"
             ],
             [
              0.6666666666666666,
              "#ed7953"
             ],
             [
              0.7777777777777778,
              "#fb9f3a"
             ],
             [
              0.8888888888888888,
              "#fdca26"
             ],
             [
              1,
              "#f0f921"
             ]
            ],
            "type": "histogram2d"
           }
          ],
          "histogram2dcontour": [
           {
            "colorbar": {
             "outlinewidth": 0,
             "ticks": ""
            },
            "colorscale": [
             [
              0,
              "#0d0887"
             ],
             [
              0.1111111111111111,
              "#46039f"
             ],
             [
              0.2222222222222222,
              "#7201a8"
             ],
             [
              0.3333333333333333,
              "#9c179e"
             ],
             [
              0.4444444444444444,
              "#bd3786"
             ],
             [
              0.5555555555555556,
              "#d8576b"
             ],
             [
              0.6666666666666666,
              "#ed7953"
             ],
             [
              0.7777777777777778,
              "#fb9f3a"
             ],
             [
              0.8888888888888888,
              "#fdca26"
             ],
             [
              1,
              "#f0f921"
             ]
            ],
            "type": "histogram2dcontour"
           }
          ],
          "mesh3d": [
           {
            "colorbar": {
             "outlinewidth": 0,
             "ticks": ""
            },
            "type": "mesh3d"
           }
          ],
          "parcoords": [
           {
            "line": {
             "colorbar": {
              "outlinewidth": 0,
              "ticks": ""
             }
            },
            "type": "parcoords"
           }
          ],
          "pie": [
           {
            "automargin": true,
            "type": "pie"
           }
          ],
          "scatter": [
           {
            "marker": {
             "colorbar": {
              "outlinewidth": 0,
              "ticks": ""
             }
            },
            "type": "scatter"
           }
          ],
          "scatter3d": [
           {
            "line": {
             "colorbar": {
              "outlinewidth": 0,
              "ticks": ""
             }
            },
            "marker": {
             "colorbar": {
              "outlinewidth": 0,
              "ticks": ""
             }
            },
            "type": "scatter3d"
           }
          ],
          "scattercarpet": [
           {
            "marker": {
             "colorbar": {
              "outlinewidth": 0,
              "ticks": ""
             }
            },
            "type": "scattercarpet"
           }
          ],
          "scattergeo": [
           {
            "marker": {
             "colorbar": {
              "outlinewidth": 0,
              "ticks": ""
             }
            },
            "type": "scattergeo"
           }
          ],
          "scattergl": [
           {
            "marker": {
             "colorbar": {
              "outlinewidth": 0,
              "ticks": ""
             }
            },
            "type": "scattergl"
           }
          ],
          "scattermapbox": [
           {
            "marker": {
             "colorbar": {
              "outlinewidth": 0,
              "ticks": ""
             }
            },
            "type": "scattermapbox"
           }
          ],
          "scatterpolar": [
           {
            "marker": {
             "colorbar": {
              "outlinewidth": 0,
              "ticks": ""
             }
            },
            "type": "scatterpolar"
           }
          ],
          "scatterpolargl": [
           {
            "marker": {
             "colorbar": {
              "outlinewidth": 0,
              "ticks": ""
             }
            },
            "type": "scatterpolargl"
           }
          ],
          "scatterternary": [
           {
            "marker": {
             "colorbar": {
              "outlinewidth": 0,
              "ticks": ""
             }
            },
            "type": "scatterternary"
           }
          ],
          "surface": [
           {
            "colorbar": {
             "outlinewidth": 0,
             "ticks": ""
            },
            "colorscale": [
             [
              0,
              "#0d0887"
             ],
             [
              0.1111111111111111,
              "#46039f"
             ],
             [
              0.2222222222222222,
              "#7201a8"
             ],
             [
              0.3333333333333333,
              "#9c179e"
             ],
             [
              0.4444444444444444,
              "#bd3786"
             ],
             [
              0.5555555555555556,
              "#d8576b"
             ],
             [
              0.6666666666666666,
              "#ed7953"
             ],
             [
              0.7777777777777778,
              "#fb9f3a"
             ],
             [
              0.8888888888888888,
              "#fdca26"
             ],
             [
              1,
              "#f0f921"
             ]
            ],
            "type": "surface"
           }
          ],
          "table": [
           {
            "cells": {
             "fill": {
              "color": "#EBF0F8"
             },
             "line": {
              "color": "white"
             }
            },
            "header": {
             "fill": {
              "color": "#C8D4E3"
             },
             "line": {
              "color": "white"
             }
            },
            "type": "table"
           }
          ]
         },
         "layout": {
          "annotationdefaults": {
           "arrowcolor": "#2a3f5f",
           "arrowhead": 0,
           "arrowwidth": 1
          },
          "autotypenumbers": "strict",
          "coloraxis": {
           "colorbar": {
            "outlinewidth": 0,
            "ticks": ""
           }
          },
          "colorscale": {
           "diverging": [
            [
             0,
             "#8e0152"
            ],
            [
             0.1,
             "#c51b7d"
            ],
            [
             0.2,
             "#de77ae"
            ],
            [
             0.3,
             "#f1b6da"
            ],
            [
             0.4,
             "#fde0ef"
            ],
            [
             0.5,
             "#f7f7f7"
            ],
            [
             0.6,
             "#e6f5d0"
            ],
            [
             0.7,
             "#b8e186"
            ],
            [
             0.8,
             "#7fbc41"
            ],
            [
             0.9,
             "#4d9221"
            ],
            [
             1,
             "#276419"
            ]
           ],
           "sequential": [
            [
             0,
             "#0d0887"
            ],
            [
             0.1111111111111111,
             "#46039f"
            ],
            [
             0.2222222222222222,
             "#7201a8"
            ],
            [
             0.3333333333333333,
             "#9c179e"
            ],
            [
             0.4444444444444444,
             "#bd3786"
            ],
            [
             0.5555555555555556,
             "#d8576b"
            ],
            [
             0.6666666666666666,
             "#ed7953"
            ],
            [
             0.7777777777777778,
             "#fb9f3a"
            ],
            [
             0.8888888888888888,
             "#fdca26"
            ],
            [
             1,
             "#f0f921"
            ]
           ],
           "sequentialminus": [
            [
             0,
             "#0d0887"
            ],
            [
             0.1111111111111111,
             "#46039f"
            ],
            [
             0.2222222222222222,
             "#7201a8"
            ],
            [
             0.3333333333333333,
             "#9c179e"
            ],
            [
             0.4444444444444444,
             "#bd3786"
            ],
            [
             0.5555555555555556,
             "#d8576b"
            ],
            [
             0.6666666666666666,
             "#ed7953"
            ],
            [
             0.7777777777777778,
             "#fb9f3a"
            ],
            [
             0.8888888888888888,
             "#fdca26"
            ],
            [
             1,
             "#f0f921"
            ]
           ]
          },
          "colorway": [
           "#636efa",
           "#EF553B",
           "#00cc96",
           "#ab63fa",
           "#FFA15A",
           "#19d3f3",
           "#FF6692",
           "#B6E880",
           "#FF97FF",
           "#FECB52"
          ],
          "font": {
           "color": "#2a3f5f"
          },
          "geo": {
           "bgcolor": "white",
           "lakecolor": "white",
           "landcolor": "#E5ECF6",
           "showlakes": true,
           "showland": true,
           "subunitcolor": "white"
          },
          "hoverlabel": {
           "align": "left"
          },
          "hovermode": "closest",
          "mapbox": {
           "style": "light"
          },
          "paper_bgcolor": "white",
          "plot_bgcolor": "#E5ECF6",
          "polar": {
           "angularaxis": {
            "gridcolor": "white",
            "linecolor": "white",
            "ticks": ""
           },
           "bgcolor": "#E5ECF6",
           "radialaxis": {
            "gridcolor": "white",
            "linecolor": "white",
            "ticks": ""
           }
          },
          "scene": {
           "xaxis": {
            "backgroundcolor": "#E5ECF6",
            "gridcolor": "white",
            "gridwidth": 2,
            "linecolor": "white",
            "showbackground": true,
            "ticks": "",
            "zerolinecolor": "white"
           },
           "yaxis": {
            "backgroundcolor": "#E5ECF6",
            "gridcolor": "white",
            "gridwidth": 2,
            "linecolor": "white",
            "showbackground": true,
            "ticks": "",
            "zerolinecolor": "white"
           },
           "zaxis": {
            "backgroundcolor": "#E5ECF6",
            "gridcolor": "white",
            "gridwidth": 2,
            "linecolor": "white",
            "showbackground": true,
            "ticks": "",
            "zerolinecolor": "white"
           }
          },
          "shapedefaults": {
           "line": {
            "color": "#2a3f5f"
           }
          },
          "ternary": {
           "aaxis": {
            "gridcolor": "white",
            "linecolor": "white",
            "ticks": ""
           },
           "baxis": {
            "gridcolor": "white",
            "linecolor": "white",
            "ticks": ""
           },
           "bgcolor": "#E5ECF6",
           "caxis": {
            "gridcolor": "white",
            "linecolor": "white",
            "ticks": ""
           }
          },
          "title": {
           "x": 0.05
          },
          "xaxis": {
           "automargin": true,
           "gridcolor": "white",
           "linecolor": "white",
           "ticks": "",
           "title": {
            "standoff": 15
           },
           "zerolinecolor": "white",
           "zerolinewidth": 2
          },
          "yaxis": {
           "automargin": true,
           "gridcolor": "white",
           "linecolor": "white",
           "ticks": "",
           "title": {
            "standoff": 15
           },
           "zerolinecolor": "white",
           "zerolinewidth": 2
          }
         }
        },
        "title": {
         "text": "Average Number of Fruits Eaten a Day<br>(Hover for breakdown)"
        }
       }
      },
      "text/html": [
       "<div>                            <div id=\"c2defa06-a596-4c14-b673-317167fa9ce0\" class=\"plotly-graph-div\" style=\"height:525px; width:100%;\"></div>            <script type=\"text/javascript\">                require([\"plotly\"], function(Plotly) {                    window.PLOTLYENV=window.PLOTLYENV || {};                                    if (document.getElementById(\"c2defa06-a596-4c14-b673-317167fa9ce0\")) {                    Plotly.newPlot(                        \"c2defa06-a596-4c14-b673-317167fa9ce0\",                        [{\"autocolorscale\":false,\"colorbar\":{\"title\":{\"text\":\"Fruits Eaten per Day\"}},\"colorscale\":[[0.0,\"rgb(255,245,240)\"],[0.125,\"rgb(254,224,210)\"],[0.25,\"rgb(252,187,161)\"],[0.375,\"rgb(252,146,114)\"],[0.5,\"rgb(251,106,74)\"],[0.625,\"rgb(239,59,44)\"],[0.75,\"rgb(203,24,29)\"],[0.875,\"rgb(165,15,21)\"],[1.0,\"rgb(103,0,13)\"]],\"locationmode\":\"USA-states\",\"locations\":[\"AK\",\"AL\",\"AR\",\"AZ\",\"CA\",\"CO\",\"CT\",\"DC\",\"DE\",\"FL\",\"GA\",\"GU\",\"HI\",\"IA\",\"ID\",\"IL\",\"IN\",\"KS\",\"KY\",\"LA\",\"MA\",\"MD\",\"ME\",\"MI\",\"MN\",\"MO\",\"MS\",\"MT\",\"NC\",\"ND\",\"NE\",\"NH\",\"NM\",\"NV\",\"NY\",\"OH\",\"OK\",\"OR\",\"PA\",\"PR\",\"RI\",\"SC\",\"SD\",\"TN\",\"TX\",\"UT\",\"VA\",\"VT\",\"WA\",\"WI\",\"WV\",\"WY\"],\"marker\":{\"line\":{\"color\":\"white\"}},\"text\":[\"AK\",\"AL\",\"AR\",\"AZ\",\"CA\",\"CO\",\"CT\",\"DC\",\"DE\",\"FL\",\"GA\",\"GU\",\"HI\",\"IA\",\"ID\",\"IL\",\"IN\",\"KS\",\"KY\",\"LA\",\"MA\",\"MD\",\"ME\",\"MI\",\"MN\",\"MO\",\"MS\",\"MT\",\"NC\",\"ND\",\"NE\",\"NH\",\"NM\",\"NV\",\"NY\",\"OH\",\"OK\",\"OR\",\"PA\",\"PR\",\"RI\",\"SC\",\"SD\",\"TN\",\"TX\",\"UT\",\"VA\",\"VT\",\"WA\",\"WI\",\"WV\",\"WY\"],\"type\":\"choropleth\",\"z\":[1.5403692539562899,1.2329929913985465,1.5696610526315906,1.748287688763772,1.435238934586779,1.3963174642026779,1.946547190871897,1.5329793906810028,1.4262212389380564,1.3943969676085533,1.3162584712372107,1.3270641784251236,1.3726809764309895,1.3348348818986098,1.37062691443742,1.434555424990218,1.8372617518623393,1.3555485336230053,1.135081473367123,1.2542122107336313,1.5926126255380353,1.5391138588356426,1.4599664526023362,1.3631247439574092,1.4371591153102916,1.2325503852993647,1.223682512368257,1.293786343246393,1.3065190525231747,1.3314938319198226,1.3351008525681212,1.6942688447156187,1.308825681360907,1.2535622817229322,1.9047305936073045,1.2687751873438988,1.142454212454219,1.5129953670705742,1.3327232435981708,0.9804423521051767,2.007484662576703,1.3709085222830515,1.4077114508783437,1.3023282514586987,1.698799774075139,1.392437206734766,1.3515788883908806,2.049635507499138,1.539326756663214,1.4304448915716597,1.1773406638159298,1.3169346144832494]}],                        {\"geo\":{\"lakecolor\":\"rgb(255, 255, 255)\",\"projection\":{\"type\":\"albers usa\"},\"scope\":\"usa\",\"showlakes\":true},\"template\":{\"data\":{\"bar\":[{\"error_x\":{\"color\":\"#2a3f5f\"},\"error_y\":{\"color\":\"#2a3f5f\"},\"marker\":{\"line\":{\"color\":\"#E5ECF6\",\"width\":0.5},\"pattern\":{\"fillmode\":\"overlay\",\"size\":10,\"solidity\":0.2}},\"type\":\"bar\"}],\"barpolar\":[{\"marker\":{\"line\":{\"color\":\"#E5ECF6\",\"width\":0.5},\"pattern\":{\"fillmode\":\"overlay\",\"size\":10,\"solidity\":0.2}},\"type\":\"barpolar\"}],\"carpet\":[{\"aaxis\":{\"endlinecolor\":\"#2a3f5f\",\"gridcolor\":\"white\",\"linecolor\":\"white\",\"minorgridcolor\":\"white\",\"startlinecolor\":\"#2a3f5f\"},\"baxis\":{\"endlinecolor\":\"#2a3f5f\",\"gridcolor\":\"white\",\"linecolor\":\"white\",\"minorgridcolor\":\"white\",\"startlinecolor\":\"#2a3f5f\"},\"type\":\"carpet\"}],\"choropleth\":[{\"colorbar\":{\"outlinewidth\":0,\"ticks\":\"\"},\"type\":\"choropleth\"}],\"contour\":[{\"colorbar\":{\"outlinewidth\":0,\"ticks\":\"\"},\"colorscale\":[[0.0,\"#0d0887\"],[0.1111111111111111,\"#46039f\"],[0.2222222222222222,\"#7201a8\"],[0.3333333333333333,\"#9c179e\"],[0.4444444444444444,\"#bd3786\"],[0.5555555555555556,\"#d8576b\"],[0.6666666666666666,\"#ed7953\"],[0.7777777777777778,\"#fb9f3a\"],[0.8888888888888888,\"#fdca26\"],[1.0,\"#f0f921\"]],\"type\":\"contour\"}],\"contourcarpet\":[{\"colorbar\":{\"outlinewidth\":0,\"ticks\":\"\"},\"type\":\"contourcarpet\"}],\"heatmap\":[{\"colorbar\":{\"outlinewidth\":0,\"ticks\":\"\"},\"colorscale\":[[0.0,\"#0d0887\"],[0.1111111111111111,\"#46039f\"],[0.2222222222222222,\"#7201a8\"],[0.3333333333333333,\"#9c179e\"],[0.4444444444444444,\"#bd3786\"],[0.5555555555555556,\"#d8576b\"],[0.6666666666666666,\"#ed7953\"],[0.7777777777777778,\"#fb9f3a\"],[0.8888888888888888,\"#fdca26\"],[1.0,\"#f0f921\"]],\"type\":\"heatmap\"}],\"heatmapgl\":[{\"colorbar\":{\"outlinewidth\":0,\"ticks\":\"\"},\"colorscale\":[[0.0,\"#0d0887\"],[0.1111111111111111,\"#46039f\"],[0.2222222222222222,\"#7201a8\"],[0.3333333333333333,\"#9c179e\"],[0.4444444444444444,\"#bd3786\"],[0.5555555555555556,\"#d8576b\"],[0.6666666666666666,\"#ed7953\"],[0.7777777777777778,\"#fb9f3a\"],[0.8888888888888888,\"#fdca26\"],[1.0,\"#f0f921\"]],\"type\":\"heatmapgl\"}],\"histogram\":[{\"marker\":{\"pattern\":{\"fillmode\":\"overlay\",\"size\":10,\"solidity\":0.2}},\"type\":\"histogram\"}],\"histogram2d\":[{\"colorbar\":{\"outlinewidth\":0,\"ticks\":\"\"},\"colorscale\":[[0.0,\"#0d0887\"],[0.1111111111111111,\"#46039f\"],[0.2222222222222222,\"#7201a8\"],[0.3333333333333333,\"#9c179e\"],[0.4444444444444444,\"#bd3786\"],[0.5555555555555556,\"#d8576b\"],[0.6666666666666666,\"#ed7953\"],[0.7777777777777778,\"#fb9f3a\"],[0.8888888888888888,\"#fdca26\"],[1.0,\"#f0f921\"]],\"type\":\"histogram2d\"}],\"histogram2dcontour\":[{\"colorbar\":{\"outlinewidth\":0,\"ticks\":\"\"},\"colorscale\":[[0.0,\"#0d0887\"],[0.1111111111111111,\"#46039f\"],[0.2222222222222222,\"#7201a8\"],[0.3333333333333333,\"#9c179e\"],[0.4444444444444444,\"#bd3786\"],[0.5555555555555556,\"#d8576b\"],[0.6666666666666666,\"#ed7953\"],[0.7777777777777778,\"#fb9f3a\"],[0.8888888888888888,\"#fdca26\"],[1.0,\"#f0f921\"]],\"type\":\"histogram2dcontour\"}],\"mesh3d\":[{\"colorbar\":{\"outlinewidth\":0,\"ticks\":\"\"},\"type\":\"mesh3d\"}],\"parcoords\":[{\"line\":{\"colorbar\":{\"outlinewidth\":0,\"ticks\":\"\"}},\"type\":\"parcoords\"}],\"pie\":[{\"automargin\":true,\"type\":\"pie\"}],\"scatter\":[{\"marker\":{\"colorbar\":{\"outlinewidth\":0,\"ticks\":\"\"}},\"type\":\"scatter\"}],\"scatter3d\":[{\"line\":{\"colorbar\":{\"outlinewidth\":0,\"ticks\":\"\"}},\"marker\":{\"colorbar\":{\"outlinewidth\":0,\"ticks\":\"\"}},\"type\":\"scatter3d\"}],\"scattercarpet\":[{\"marker\":{\"colorbar\":{\"outlinewidth\":0,\"ticks\":\"\"}},\"type\":\"scattercarpet\"}],\"scattergeo\":[{\"marker\":{\"colorbar\":{\"outlinewidth\":0,\"ticks\":\"\"}},\"type\":\"scattergeo\"}],\"scattergl\":[{\"marker\":{\"colorbar\":{\"outlinewidth\":0,\"ticks\":\"\"}},\"type\":\"scattergl\"}],\"scattermapbox\":[{\"marker\":{\"colorbar\":{\"outlinewidth\":0,\"ticks\":\"\"}},\"type\":\"scattermapbox\"}],\"scatterpolar\":[{\"marker\":{\"colorbar\":{\"outlinewidth\":0,\"ticks\":\"\"}},\"type\":\"scatterpolar\"}],\"scatterpolargl\":[{\"marker\":{\"colorbar\":{\"outlinewidth\":0,\"ticks\":\"\"}},\"type\":\"scatterpolargl\"}],\"scatterternary\":[{\"marker\":{\"colorbar\":{\"outlinewidth\":0,\"ticks\":\"\"}},\"type\":\"scatterternary\"}],\"surface\":[{\"colorbar\":{\"outlinewidth\":0,\"ticks\":\"\"},\"colorscale\":[[0.0,\"#0d0887\"],[0.1111111111111111,\"#46039f\"],[0.2222222222222222,\"#7201a8\"],[0.3333333333333333,\"#9c179e\"],[0.4444444444444444,\"#bd3786\"],[0.5555555555555556,\"#d8576b\"],[0.6666666666666666,\"#ed7953\"],[0.7777777777777778,\"#fb9f3a\"],[0.8888888888888888,\"#fdca26\"],[1.0,\"#f0f921\"]],\"type\":\"surface\"}],\"table\":[{\"cells\":{\"fill\":{\"color\":\"#EBF0F8\"},\"line\":{\"color\":\"white\"}},\"header\":{\"fill\":{\"color\":\"#C8D4E3\"},\"line\":{\"color\":\"white\"}},\"type\":\"table\"}]},\"layout\":{\"annotationdefaults\":{\"arrowcolor\":\"#2a3f5f\",\"arrowhead\":0,\"arrowwidth\":1},\"autotypenumbers\":\"strict\",\"coloraxis\":{\"colorbar\":{\"outlinewidth\":0,\"ticks\":\"\"}},\"colorscale\":{\"diverging\":[[0,\"#8e0152\"],[0.1,\"#c51b7d\"],[0.2,\"#de77ae\"],[0.3,\"#f1b6da\"],[0.4,\"#fde0ef\"],[0.5,\"#f7f7f7\"],[0.6,\"#e6f5d0\"],[0.7,\"#b8e186\"],[0.8,\"#7fbc41\"],[0.9,\"#4d9221\"],[1,\"#276419\"]],\"sequential\":[[0.0,\"#0d0887\"],[0.1111111111111111,\"#46039f\"],[0.2222222222222222,\"#7201a8\"],[0.3333333333333333,\"#9c179e\"],[0.4444444444444444,\"#bd3786\"],[0.5555555555555556,\"#d8576b\"],[0.6666666666666666,\"#ed7953\"],[0.7777777777777778,\"#fb9f3a\"],[0.8888888888888888,\"#fdca26\"],[1.0,\"#f0f921\"]],\"sequentialminus\":[[0.0,\"#0d0887\"],[0.1111111111111111,\"#46039f\"],[0.2222222222222222,\"#7201a8\"],[0.3333333333333333,\"#9c179e\"],[0.4444444444444444,\"#bd3786\"],[0.5555555555555556,\"#d8576b\"],[0.6666666666666666,\"#ed7953\"],[0.7777777777777778,\"#fb9f3a\"],[0.8888888888888888,\"#fdca26\"],[1.0,\"#f0f921\"]]},\"colorway\":[\"#636efa\",\"#EF553B\",\"#00cc96\",\"#ab63fa\",\"#FFA15A\",\"#19d3f3\",\"#FF6692\",\"#B6E880\",\"#FF97FF\",\"#FECB52\"],\"font\":{\"color\":\"#2a3f5f\"},\"geo\":{\"bgcolor\":\"white\",\"lakecolor\":\"white\",\"landcolor\":\"#E5ECF6\",\"showlakes\":true,\"showland\":true,\"subunitcolor\":\"white\"},\"hoverlabel\":{\"align\":\"left\"},\"hovermode\":\"closest\",\"mapbox\":{\"style\":\"light\"},\"paper_bgcolor\":\"white\",\"plot_bgcolor\":\"#E5ECF6\",\"polar\":{\"angularaxis\":{\"gridcolor\":\"white\",\"linecolor\":\"white\",\"ticks\":\"\"},\"bgcolor\":\"#E5ECF6\",\"radialaxis\":{\"gridcolor\":\"white\",\"linecolor\":\"white\",\"ticks\":\"\"}},\"scene\":{\"xaxis\":{\"backgroundcolor\":\"#E5ECF6\",\"gridcolor\":\"white\",\"gridwidth\":2,\"linecolor\":\"white\",\"showbackground\":true,\"ticks\":\"\",\"zerolinecolor\":\"white\"},\"yaxis\":{\"backgroundcolor\":\"#E5ECF6\",\"gridcolor\":\"white\",\"gridwidth\":2,\"linecolor\":\"white\",\"showbackground\":true,\"ticks\":\"\",\"zerolinecolor\":\"white\"},\"zaxis\":{\"backgroundcolor\":\"#E5ECF6\",\"gridcolor\":\"white\",\"gridwidth\":2,\"linecolor\":\"white\",\"showbackground\":true,\"ticks\":\"\",\"zerolinecolor\":\"white\"}},\"shapedefaults\":{\"line\":{\"color\":\"#2a3f5f\"}},\"ternary\":{\"aaxis\":{\"gridcolor\":\"white\",\"linecolor\":\"white\",\"ticks\":\"\"},\"baxis\":{\"gridcolor\":\"white\",\"linecolor\":\"white\",\"ticks\":\"\"},\"bgcolor\":\"#E5ECF6\",\"caxis\":{\"gridcolor\":\"white\",\"linecolor\":\"white\",\"ticks\":\"\"}},\"title\":{\"x\":0.05},\"xaxis\":{\"automargin\":true,\"gridcolor\":\"white\",\"linecolor\":\"white\",\"ticks\":\"\",\"title\":{\"standoff\":15},\"zerolinecolor\":\"white\",\"zerolinewidth\":2},\"yaxis\":{\"automargin\":true,\"gridcolor\":\"white\",\"linecolor\":\"white\",\"ticks\":\"\",\"title\":{\"standoff\":15},\"zerolinecolor\":\"white\",\"zerolinewidth\":2}}},\"title\":{\"text\":\"Average Number of Fruits Eaten a Day<br>(Hover for breakdown)\"}},                        {\"responsive\": true}                    ).then(function(){\n",
       "                            \n",
       "var gd = document.getElementById('c2defa06-a596-4c14-b673-317167fa9ce0');\n",
       "var x = new MutationObserver(function (mutations, observer) {{\n",
       "        var display = window.getComputedStyle(gd).display;\n",
       "        if (!display || display === 'none') {{\n",
       "            console.log([gd, 'removed!']);\n",
       "            Plotly.purge(gd);\n",
       "            observer.disconnect();\n",
       "        }}\n",
       "}});\n",
       "\n",
       "// Listen for the removal of the full notebook cells\n",
       "var notebookContainer = gd.closest('#notebook-container');\n",
       "if (notebookContainer) {{\n",
       "    x.observe(notebookContainer, {childList: true});\n",
       "}}\n",
       "\n",
       "// Listen for the clearing of the current output cell\n",
       "var outputEl = gd.closest('.output');\n",
       "if (outputEl) {{\n",
       "    x.observe(outputEl, {childList: true});\n",
       "}}\n",
       "\n",
       "                        })                };                });            </script>        </div>"
      ]
     },
     "metadata": {},
     "output_type": "display_data"
    }
   ],
   "source": [
    "fig = go.Figure(data=go.Choropleth(\n",
    "    locations=state_fruit_mean['_STATE'],\n",
    "    z=state_fruit_mean['_FRUTSU1'].astype(float),\n",
    "    locationmode='USA-states',\n",
    "    colorscale='reds',\n",
    "    autocolorscale=False,\n",
    "    text=state_fruit_mean['_STATE'], # hover text\n",
    "    marker_line_color='white', # line markers between states\n",
    "    colorbar_title=\"Fruits Eaten per Day\"\n",
    "))\n",
    "\n",
    "fig.update_layout(\n",
    "    title_text='Average Number of Fruits Eaten a Day<br>(Hover for breakdown)',\n",
    "    geo = dict(\n",
    "        scope='usa',\n",
    "        projection=go.layout.geo.Projection(type = 'albers usa'),\n",
    "        showlakes=True, # lakes\n",
    "        lakecolor='rgb(255, 255, 255)'),\n",
    ")\n",
    "\n",
    "fig.show()"
   ]
  },
  {
   "cell_type": "code",
   "execution_count": 299,
   "id": "d2d175dd",
   "metadata": {},
   "outputs": [
    {
     "data": {
      "text/html": [
       "<div>\n",
       "<style scoped>\n",
       "    .dataframe tbody tr th:only-of-type {\n",
       "        vertical-align: middle;\n",
       "    }\n",
       "\n",
       "    .dataframe tbody tr th {\n",
       "        vertical-align: top;\n",
       "    }\n",
       "\n",
       "    .dataframe thead th {\n",
       "        text-align: right;\n",
       "    }\n",
       "</style>\n",
       "<table border=\"1\" class=\"dataframe\">\n",
       "  <thead>\n",
       "    <tr style=\"text-align: right;\">\n",
       "      <th></th>\n",
       "      <th>_STATE</th>\n",
       "      <th>_PAINDX2</th>\n",
       "    </tr>\n",
       "  </thead>\n",
       "  <tbody>\n",
       "    <tr>\n",
       "      <th>0</th>\n",
       "      <td>CA</td>\n",
       "      <td>1</td>\n",
       "    </tr>\n",
       "    <tr>\n",
       "      <th>1</th>\n",
       "      <td>CA</td>\n",
       "      <td>2</td>\n",
       "    </tr>\n",
       "    <tr>\n",
       "      <th>2</th>\n",
       "      <td>CA</td>\n",
       "      <td>1</td>\n",
       "    </tr>\n",
       "    <tr>\n",
       "      <th>3</th>\n",
       "      <td>CA</td>\n",
       "      <td>1</td>\n",
       "    </tr>\n",
       "    <tr>\n",
       "      <th>4</th>\n",
       "      <td>CA</td>\n",
       "      <td>1</td>\n",
       "    </tr>\n",
       "    <tr>\n",
       "      <th>5</th>\n",
       "      <td>CA</td>\n",
       "      <td>1</td>\n",
       "    </tr>\n",
       "    <tr>\n",
       "      <th>6</th>\n",
       "      <td>CA</td>\n",
       "      <td>2</td>\n",
       "    </tr>\n",
       "    <tr>\n",
       "      <th>8</th>\n",
       "      <td>CA</td>\n",
       "      <td>1</td>\n",
       "    </tr>\n",
       "    <tr>\n",
       "      <th>9</th>\n",
       "      <td>CA</td>\n",
       "      <td>2</td>\n",
       "    </tr>\n",
       "    <tr>\n",
       "      <th>10</th>\n",
       "      <td>CA</td>\n",
       "      <td>2</td>\n",
       "    </tr>\n",
       "    <tr>\n",
       "      <th>11</th>\n",
       "      <td>CA</td>\n",
       "      <td>2</td>\n",
       "    </tr>\n",
       "    <tr>\n",
       "      <th>12</th>\n",
       "      <td>CA</td>\n",
       "      <td>2</td>\n",
       "    </tr>\n",
       "    <tr>\n",
       "      <th>13</th>\n",
       "      <td>CA</td>\n",
       "      <td>2</td>\n",
       "    </tr>\n",
       "    <tr>\n",
       "      <th>14</th>\n",
       "      <td>CA</td>\n",
       "      <td>1</td>\n",
       "    </tr>\n",
       "    <tr>\n",
       "      <th>15</th>\n",
       "      <td>CA</td>\n",
       "      <td>2</td>\n",
       "    </tr>\n",
       "    <tr>\n",
       "      <th>16</th>\n",
       "      <td>CA</td>\n",
       "      <td>1</td>\n",
       "    </tr>\n",
       "    <tr>\n",
       "      <th>18</th>\n",
       "      <td>CA</td>\n",
       "      <td>2</td>\n",
       "    </tr>\n",
       "    <tr>\n",
       "      <th>19</th>\n",
       "      <td>CA</td>\n",
       "      <td>2</td>\n",
       "    </tr>\n",
       "    <tr>\n",
       "      <th>20</th>\n",
       "      <td>CA</td>\n",
       "      <td>2</td>\n",
       "    </tr>\n",
       "    <tr>\n",
       "      <th>21</th>\n",
       "      <td>CA</td>\n",
       "      <td>2</td>\n",
       "    </tr>\n",
       "  </tbody>\n",
       "</table>\n",
       "</div>"
      ],
      "text/plain": [
       "   _STATE  _PAINDX2\n",
       "0      CA         1\n",
       "1      CA         2\n",
       "2      CA         1\n",
       "3      CA         1\n",
       "4      CA         1\n",
       "5      CA         1\n",
       "6      CA         2\n",
       "8      CA         1\n",
       "9      CA         2\n",
       "10     CA         2\n",
       "11     CA         2\n",
       "12     CA         2\n",
       "13     CA         2\n",
       "14     CA         1\n",
       "15     CA         2\n",
       "16     CA         1\n",
       "18     CA         2\n",
       "19     CA         2\n",
       "20     CA         2\n",
       "21     CA         2"
      ]
     },
     "execution_count": 299,
     "metadata": {},
     "output_type": "execute_result"
    }
   ],
   "source": [
    "### % of state that meets physical activity reccomendations\n",
    "#TODO: group by state, find % of '1': meets reccomendations\n",
    "state_act_mean = recoded_health_behaviour_df[['_STATE', '_PAINDX2']].dropna()\n",
    "state_act_mean.head(20)"
   ]
  },
  {
   "cell_type": "code",
   "execution_count": 300,
   "id": "ff1a4a63",
   "metadata": {},
   "outputs": [],
   "source": [
    "state_act_mean = state_act_mean.groupby(['_STATE', '_PAINDX2' ]).agg({'_PAINDX2': 'sum'})\n",
    "act_perc_df = state_act_mean.groupby(level=0).apply(lambda x: 100 * x / float(x.sum()))"
   ]
  },
  {
   "cell_type": "code",
   "execution_count": 301,
   "id": "2570228e",
   "metadata": {},
   "outputs": [
    {
     "data": {
      "text/html": [
       "<div>\n",
       "<style scoped>\n",
       "    .dataframe tbody tr th:only-of-type {\n",
       "        vertical-align: middle;\n",
       "    }\n",
       "\n",
       "    .dataframe tbody tr th {\n",
       "        vertical-align: top;\n",
       "    }\n",
       "\n",
       "    .dataframe thead th {\n",
       "        text-align: right;\n",
       "    }\n",
       "</style>\n",
       "<table border=\"1\" class=\"dataframe\">\n",
       "  <thead>\n",
       "    <tr style=\"text-align: right;\">\n",
       "      <th></th>\n",
       "      <th></th>\n",
       "      <th>_PAINDX2</th>\n",
       "    </tr>\n",
       "    <tr>\n",
       "      <th>_STATE</th>\n",
       "      <th>_PAINDX2</th>\n",
       "      <th></th>\n",
       "    </tr>\n",
       "  </thead>\n",
       "  <tbody>\n",
       "    <tr>\n",
       "      <th rowspan=\"2\" valign=\"top\">AK</th>\n",
       "      <th>1</th>\n",
       "      <td>44.139785</td>\n",
       "    </tr>\n",
       "    <tr>\n",
       "      <th>2</th>\n",
       "      <td>55.860215</td>\n",
       "    </tr>\n",
       "    <tr>\n",
       "      <th rowspan=\"2\" valign=\"top\">AL</th>\n",
       "      <th>1</th>\n",
       "      <td>29.598851</td>\n",
       "    </tr>\n",
       "    <tr>\n",
       "      <th>2</th>\n",
       "      <td>70.401149</td>\n",
       "    </tr>\n",
       "    <tr>\n",
       "      <th rowspan=\"2\" valign=\"top\">AR</th>\n",
       "      <th>1</th>\n",
       "      <td>31.196054</td>\n",
       "    </tr>\n",
       "    <tr>\n",
       "      <th>2</th>\n",
       "      <td>68.803946</td>\n",
       "    </tr>\n",
       "    <tr>\n",
       "      <th rowspan=\"2\" valign=\"top\">AZ</th>\n",
       "      <th>1</th>\n",
       "      <td>40.685358</td>\n",
       "    </tr>\n",
       "    <tr>\n",
       "      <th>2</th>\n",
       "      <td>59.314642</td>\n",
       "    </tr>\n",
       "    <tr>\n",
       "      <th rowspan=\"2\" valign=\"top\">CA</th>\n",
       "      <th>1</th>\n",
       "      <td>38.18882</td>\n",
       "    </tr>\n",
       "    <tr>\n",
       "      <th>2</th>\n",
       "      <td>61.81118</td>\n",
       "    </tr>\n",
       "    <tr>\n",
       "      <th rowspan=\"2\" valign=\"top\">CO</th>\n",
       "      <th>1</th>\n",
       "      <td>43.527172</td>\n",
       "    </tr>\n",
       "    <tr>\n",
       "      <th>2</th>\n",
       "      <td>56.472828</td>\n",
       "    </tr>\n",
       "    <tr>\n",
       "      <th rowspan=\"2\" valign=\"top\">CT</th>\n",
       "      <th>1</th>\n",
       "      <td>40.344201</td>\n",
       "    </tr>\n",
       "    <tr>\n",
       "      <th>2</th>\n",
       "      <td>59.655799</td>\n",
       "    </tr>\n",
       "    <tr>\n",
       "      <th rowspan=\"2\" valign=\"top\">DC</th>\n",
       "      <th>1</th>\n",
       "      <td>40.514776</td>\n",
       "    </tr>\n",
       "    <tr>\n",
       "      <th>2</th>\n",
       "      <td>59.485224</td>\n",
       "    </tr>\n",
       "    <tr>\n",
       "      <th rowspan=\"2\" valign=\"top\">DE</th>\n",
       "      <th>1</th>\n",
       "      <td>34.872798</td>\n",
       "    </tr>\n",
       "    <tr>\n",
       "      <th>2</th>\n",
       "      <td>65.127202</td>\n",
       "    </tr>\n",
       "    <tr>\n",
       "      <th rowspan=\"2\" valign=\"top\">FL</th>\n",
       "      <th>1</th>\n",
       "      <td>36.988839</td>\n",
       "    </tr>\n",
       "    <tr>\n",
       "      <th>2</th>\n",
       "      <td>63.011161</td>\n",
       "    </tr>\n",
       "  </tbody>\n",
       "</table>\n",
       "</div>"
      ],
      "text/plain": [
       "                  _PAINDX2\n",
       "_STATE _PAINDX2           \n",
       "AK     1         44.139785\n",
       "       2         55.860215\n",
       "AL     1         29.598851\n",
       "       2         70.401149\n",
       "AR     1         31.196054\n",
       "       2         68.803946\n",
       "AZ     1         40.685358\n",
       "       2         59.314642\n",
       "CA     1          38.18882\n",
       "       2          61.81118\n",
       "CO     1         43.527172\n",
       "       2         56.472828\n",
       "CT     1         40.344201\n",
       "       2         59.655799\n",
       "DC     1         40.514776\n",
       "       2         59.485224\n",
       "DE     1         34.872798\n",
       "       2         65.127202\n",
       "FL     1         36.988839\n",
       "       2         63.011161"
      ]
     },
     "execution_count": 301,
     "metadata": {},
     "output_type": "execute_result"
    }
   ],
   "source": [
    "act_perc_df.head(20)"
   ]
  },
  {
   "cell_type": "code",
   "execution_count": 283,
   "id": "76bc2534",
   "metadata": {},
   "outputs": [
    {
     "data": {
      "text/html": [
       "<div>\n",
       "<style scoped>\n",
       "    .dataframe tbody tr th:only-of-type {\n",
       "        vertical-align: middle;\n",
       "    }\n",
       "\n",
       "    .dataframe tbody tr th {\n",
       "        vertical-align: top;\n",
       "    }\n",
       "\n",
       "    .dataframe thead th {\n",
       "        text-align: right;\n",
       "    }\n",
       "</style>\n",
       "<table border=\"1\" class=\"dataframe\">\n",
       "  <thead>\n",
       "    <tr style=\"text-align: right;\">\n",
       "      <th></th>\n",
       "      <th></th>\n",
       "      <th>_PAINDX2</th>\n",
       "      <th>_PAINDX2 Percentage</th>\n",
       "    </tr>\n",
       "    <tr>\n",
       "      <th>_STATE</th>\n",
       "      <th>_PAINDX2</th>\n",
       "      <th></th>\n",
       "      <th></th>\n",
       "    </tr>\n",
       "  </thead>\n",
       "  <tbody>\n",
       "    <tr>\n",
       "      <th rowspan=\"2\" valign=\"top\">AK</th>\n",
       "      <th>1</th>\n",
       "      <td>44.139785</td>\n",
       "      <td>44.139785</td>\n",
       "    </tr>\n",
       "    <tr>\n",
       "      <th>2</th>\n",
       "      <td>55.860215</td>\n",
       "      <td>55.860215</td>\n",
       "    </tr>\n",
       "    <tr>\n",
       "      <th rowspan=\"2\" valign=\"top\">AL</th>\n",
       "      <th>1</th>\n",
       "      <td>29.598851</td>\n",
       "      <td>29.598851</td>\n",
       "    </tr>\n",
       "    <tr>\n",
       "      <th>2</th>\n",
       "      <td>70.401149</td>\n",
       "      <td>70.401149</td>\n",
       "    </tr>\n",
       "    <tr>\n",
       "      <th>AR</th>\n",
       "      <th>1</th>\n",
       "      <td>31.196054</td>\n",
       "      <td>31.196054</td>\n",
       "    </tr>\n",
       "    <tr>\n",
       "      <th>...</th>\n",
       "      <th>...</th>\n",
       "      <td>...</td>\n",
       "      <td>...</td>\n",
       "    </tr>\n",
       "    <tr>\n",
       "      <th>WI</th>\n",
       "      <th>2</th>\n",
       "      <td>59.44664</td>\n",
       "      <td>59.44664</td>\n",
       "    </tr>\n",
       "    <tr>\n",
       "      <th rowspan=\"2\" valign=\"top\">WV</th>\n",
       "      <th>1</th>\n",
       "      <td>29.922194</td>\n",
       "      <td>29.922194</td>\n",
       "    </tr>\n",
       "    <tr>\n",
       "      <th>2</th>\n",
       "      <td>70.077806</td>\n",
       "      <td>70.077806</td>\n",
       "    </tr>\n",
       "    <tr>\n",
       "      <th rowspan=\"2\" valign=\"top\">WY</th>\n",
       "      <th>1</th>\n",
       "      <td>38.661468</td>\n",
       "      <td>38.661468</td>\n",
       "    </tr>\n",
       "    <tr>\n",
       "      <th>2</th>\n",
       "      <td>61.338532</td>\n",
       "      <td>61.338532</td>\n",
       "    </tr>\n",
       "  </tbody>\n",
       "</table>\n",
       "<p>104 rows × 2 columns</p>\n",
       "</div>"
      ],
      "text/plain": [
       "                  _PAINDX2  _PAINDX2 Percentage\n",
       "_STATE _PAINDX2                                \n",
       "AK     1         44.139785            44.139785\n",
       "       2         55.860215            55.860215\n",
       "AL     1         29.598851            29.598851\n",
       "       2         70.401149            70.401149\n",
       "AR     1         31.196054            31.196054\n",
       "...                    ...                  ...\n",
       "WI     2          59.44664             59.44664\n",
       "WV     1         29.922194            29.922194\n",
       "       2         70.077806            70.077806\n",
       "WY     1         38.661468            38.661468\n",
       "       2         61.338532            61.338532\n",
       "\n",
       "[104 rows x 2 columns]"
      ]
     },
     "execution_count": 283,
     "metadata": {},
     "output_type": "execute_result"
    }
   ],
   "source": [
    "act_perc_df['_PAINDX2 Percentage'] = act_perc_df['_PAINDX2']\n",
    "act_perc_df"
   ]
  },
  {
   "cell_type": "code",
   "execution_count": 292,
   "id": "4819f70a",
   "metadata": {},
   "outputs": [
    {
     "ename": "KeyError",
     "evalue": "'_STATE'",
     "output_type": "error",
     "traceback": [
      "\u001b[1;31m---------------------------------------------------------------------------\u001b[0m",
      "\u001b[1;31mKeyError\u001b[0m                                  Traceback (most recent call last)",
      "\u001b[1;32m~\\anaconda3\\envs\\mlenv\\lib\\site-packages\\pandas\\core\\indexes\\base.py\u001b[0m in \u001b[0;36mget_loc\u001b[1;34m(self, key, method, tolerance)\u001b[0m\n\u001b[0;32m   3079\u001b[0m             \u001b[1;32mtry\u001b[0m\u001b[1;33m:\u001b[0m\u001b[1;33m\u001b[0m\u001b[1;33m\u001b[0m\u001b[0m\n\u001b[1;32m-> 3080\u001b[1;33m                 \u001b[1;32mreturn\u001b[0m \u001b[0mself\u001b[0m\u001b[1;33m.\u001b[0m\u001b[0m_engine\u001b[0m\u001b[1;33m.\u001b[0m\u001b[0mget_loc\u001b[0m\u001b[1;33m(\u001b[0m\u001b[0mcasted_key\u001b[0m\u001b[1;33m)\u001b[0m\u001b[1;33m\u001b[0m\u001b[1;33m\u001b[0m\u001b[0m\n\u001b[0m\u001b[0;32m   3081\u001b[0m             \u001b[1;32mexcept\u001b[0m \u001b[0mKeyError\u001b[0m \u001b[1;32mas\u001b[0m \u001b[0merr\u001b[0m\u001b[1;33m:\u001b[0m\u001b[1;33m\u001b[0m\u001b[1;33m\u001b[0m\u001b[0m\n",
      "\u001b[1;32mpandas\\_libs\\index.pyx\u001b[0m in \u001b[0;36mpandas._libs.index.IndexEngine.get_loc\u001b[1;34m()\u001b[0m\n",
      "\u001b[1;32mpandas\\_libs\\index.pyx\u001b[0m in \u001b[0;36mpandas._libs.index.IndexEngine.get_loc\u001b[1;34m()\u001b[0m\n",
      "\u001b[1;32mpandas\\_libs\\hashtable_class_helper.pxi\u001b[0m in \u001b[0;36mpandas._libs.hashtable.PyObjectHashTable.get_item\u001b[1;34m()\u001b[0m\n",
      "\u001b[1;32mpandas\\_libs\\hashtable_class_helper.pxi\u001b[0m in \u001b[0;36mpandas._libs.hashtable.PyObjectHashTable.get_item\u001b[1;34m()\u001b[0m\n",
      "\u001b[1;31mKeyError\u001b[0m: '_STATE'",
      "\nThe above exception was the direct cause of the following exception:\n",
      "\u001b[1;31mKeyError\u001b[0m                                  Traceback (most recent call last)",
      "\u001b[1;32m<ipython-input-292-dc99387f0ed5>\u001b[0m in \u001b[0;36m<module>\u001b[1;34m\u001b[0m\n\u001b[1;32m----> 1\u001b[1;33m \u001b[0mprint\u001b[0m\u001b[1;33m(\u001b[0m\u001b[0mact_perc_df\u001b[0m\u001b[1;33m[\u001b[0m\u001b[1;34m'_STATE'\u001b[0m\u001b[1;33m]\u001b[0m\u001b[1;33m[\u001b[0m\u001b[1;36m0\u001b[0m\u001b[1;33m]\u001b[0m\u001b[1;33m)\u001b[0m\u001b[1;33m\u001b[0m\u001b[1;33m\u001b[0m\u001b[0m\n\u001b[0m",
      "\u001b[1;32m~\\anaconda3\\envs\\mlenv\\lib\\site-packages\\pandas\\core\\frame.py\u001b[0m in \u001b[0;36m__getitem__\u001b[1;34m(self, key)\u001b[0m\n\u001b[0;32m   3022\u001b[0m             \u001b[1;32mif\u001b[0m \u001b[0mself\u001b[0m\u001b[1;33m.\u001b[0m\u001b[0mcolumns\u001b[0m\u001b[1;33m.\u001b[0m\u001b[0mnlevels\u001b[0m \u001b[1;33m>\u001b[0m \u001b[1;36m1\u001b[0m\u001b[1;33m:\u001b[0m\u001b[1;33m\u001b[0m\u001b[1;33m\u001b[0m\u001b[0m\n\u001b[0;32m   3023\u001b[0m                 \u001b[1;32mreturn\u001b[0m \u001b[0mself\u001b[0m\u001b[1;33m.\u001b[0m\u001b[0m_getitem_multilevel\u001b[0m\u001b[1;33m(\u001b[0m\u001b[0mkey\u001b[0m\u001b[1;33m)\u001b[0m\u001b[1;33m\u001b[0m\u001b[1;33m\u001b[0m\u001b[0m\n\u001b[1;32m-> 3024\u001b[1;33m             \u001b[0mindexer\u001b[0m \u001b[1;33m=\u001b[0m \u001b[0mself\u001b[0m\u001b[1;33m.\u001b[0m\u001b[0mcolumns\u001b[0m\u001b[1;33m.\u001b[0m\u001b[0mget_loc\u001b[0m\u001b[1;33m(\u001b[0m\u001b[0mkey\u001b[0m\u001b[1;33m)\u001b[0m\u001b[1;33m\u001b[0m\u001b[1;33m\u001b[0m\u001b[0m\n\u001b[0m\u001b[0;32m   3025\u001b[0m             \u001b[1;32mif\u001b[0m \u001b[0mis_integer\u001b[0m\u001b[1;33m(\u001b[0m\u001b[0mindexer\u001b[0m\u001b[1;33m)\u001b[0m\u001b[1;33m:\u001b[0m\u001b[1;33m\u001b[0m\u001b[1;33m\u001b[0m\u001b[0m\n\u001b[0;32m   3026\u001b[0m                 \u001b[0mindexer\u001b[0m \u001b[1;33m=\u001b[0m \u001b[1;33m[\u001b[0m\u001b[0mindexer\u001b[0m\u001b[1;33m]\u001b[0m\u001b[1;33m\u001b[0m\u001b[1;33m\u001b[0m\u001b[0m\n",
      "\u001b[1;32m~\\anaconda3\\envs\\mlenv\\lib\\site-packages\\pandas\\core\\indexes\\base.py\u001b[0m in \u001b[0;36mget_loc\u001b[1;34m(self, key, method, tolerance)\u001b[0m\n\u001b[0;32m   3080\u001b[0m                 \u001b[1;32mreturn\u001b[0m \u001b[0mself\u001b[0m\u001b[1;33m.\u001b[0m\u001b[0m_engine\u001b[0m\u001b[1;33m.\u001b[0m\u001b[0mget_loc\u001b[0m\u001b[1;33m(\u001b[0m\u001b[0mcasted_key\u001b[0m\u001b[1;33m)\u001b[0m\u001b[1;33m\u001b[0m\u001b[1;33m\u001b[0m\u001b[0m\n\u001b[0;32m   3081\u001b[0m             \u001b[1;32mexcept\u001b[0m \u001b[0mKeyError\u001b[0m \u001b[1;32mas\u001b[0m \u001b[0merr\u001b[0m\u001b[1;33m:\u001b[0m\u001b[1;33m\u001b[0m\u001b[1;33m\u001b[0m\u001b[0m\n\u001b[1;32m-> 3082\u001b[1;33m                 \u001b[1;32mraise\u001b[0m \u001b[0mKeyError\u001b[0m\u001b[1;33m(\u001b[0m\u001b[0mkey\u001b[0m\u001b[1;33m)\u001b[0m \u001b[1;32mfrom\u001b[0m \u001b[0merr\u001b[0m\u001b[1;33m\u001b[0m\u001b[1;33m\u001b[0m\u001b[0m\n\u001b[0m\u001b[0;32m   3083\u001b[0m \u001b[1;33m\u001b[0m\u001b[0m\n\u001b[0;32m   3084\u001b[0m         \u001b[1;32mif\u001b[0m \u001b[0mtolerance\u001b[0m \u001b[1;32mis\u001b[0m \u001b[1;32mnot\u001b[0m \u001b[1;32mNone\u001b[0m\u001b[1;33m:\u001b[0m\u001b[1;33m\u001b[0m\u001b[1;33m\u001b[0m\u001b[0m\n",
      "\u001b[1;31mKeyError\u001b[0m: '_STATE'"
     ]
    }
   ],
   "source": []
  },
  {
   "cell_type": "code",
   "execution_count": 105,
   "id": "e6ccdc29",
   "metadata": {},
   "outputs": [
    {
     "data": {
      "text/html": [
       "<div>\n",
       "<style scoped>\n",
       "    .dataframe tbody tr th:only-of-type {\n",
       "        vertical-align: middle;\n",
       "    }\n",
       "\n",
       "    .dataframe tbody tr th {\n",
       "        vertical-align: top;\n",
       "    }\n",
       "\n",
       "    .dataframe thead th {\n",
       "        text-align: right;\n",
       "    }\n",
       "</style>\n",
       "<table border=\"1\" class=\"dataframe\">\n",
       "  <thead>\n",
       "    <tr style=\"text-align: right;\">\n",
       "      <th></th>\n",
       "      <th>_AGE80</th>\n",
       "      <th>PA2MIN_</th>\n",
       "    </tr>\n",
       "  </thead>\n",
       "  <tbody>\n",
       "    <tr>\n",
       "      <th>0</th>\n",
       "      <td>47.0</td>\n",
       "      <td>60</td>\n",
       "    </tr>\n",
       "    <tr>\n",
       "      <th>1</th>\n",
       "      <td>30.0</td>\n",
       "      <td>0</td>\n",
       "    </tr>\n",
       "    <tr>\n",
       "      <th>2</th>\n",
       "      <td>42.0</td>\n",
       "      <td>&lt;NA&gt;</td>\n",
       "    </tr>\n",
       "    <tr>\n",
       "      <th>3</th>\n",
       "      <td>25.0</td>\n",
       "      <td>&lt;NA&gt;</td>\n",
       "    </tr>\n",
       "    <tr>\n",
       "      <th>4</th>\n",
       "      <td>41.0</td>\n",
       "      <td>120</td>\n",
       "    </tr>\n",
       "  </tbody>\n",
       "</table>\n",
       "</div>"
      ],
      "text/plain": [
       "  _AGE80  PA2MIN_\n",
       "0   47.0       60\n",
       "1   30.0        0\n",
       "2   42.0     <NA>\n",
       "3   25.0     <NA>\n",
       "4   41.0      120"
      ]
     },
     "execution_count": 105,
     "metadata": {},
     "output_type": "execute_result"
    }
   ],
   "source": [
    "## percieved health across age\n",
    "df = recoded_health_behaviour_df[['_AGE80', 'PA2MIN_']].copy()\n",
    "df.head()"
   ]
  },
  {
   "cell_type": "code",
   "execution_count": null,
   "id": "b8b841a3",
   "metadata": {},
   "outputs": [],
   "source": []
  },
  {
   "cell_type": "code",
   "execution_count": 116,
   "id": "a12ff76e",
   "metadata": {},
   "outputs": [],
   "source": [
    "df = df.dropna(axis=0, how = 'any')"
   ]
  },
  {
   "cell_type": "code",
   "execution_count": 120,
   "id": "7a239b7c",
   "metadata": {
    "scrolled": true
   },
   "outputs": [],
   "source": [
    "##TODO: remove outliers of PA2MIN_"
   ]
  },
  {
   "cell_type": "code",
   "execution_count": 117,
   "id": "133f52e4",
   "metadata": {},
   "outputs": [
    {
     "data": {
      "application/vnd.plotly.v1+json": {
       "config": {
        "plotlyServerURL": "https://plot.ly"
       },
       "data": [
        {
         "hovertemplate": "_AGE80=%{x}<br>PA2MIN_=%{y}<extra></extra>",
         "legendgroup": "",
         "marker": {
          "color": "#636efa",
          "symbol": "circle"
         },
         "mode": "markers",
         "name": "",
         "orientation": "v",
         "showlegend": false,
         "type": "scatter",
         "x": [
          47,
          30,
          41,
          23,
          34,
          70,
          62,
          59,
          36,
          22,
          34,
          34,
          32,
          65,
          69,
          54,
          30,
          22,
          64,
          51,
          37,
          52,
          47,
          58,
          66,
          57,
          22,
          18,
          70,
          27,
          50,
          46,
          50,
          23,
          23,
          61,
          52,
          47,
          70,
          53,
          54,
          67,
          38,
          28,
          77,
          36,
          38,
          43,
          37,
          61,
          26,
          45,
          65,
          38,
          30,
          61,
          30,
          25,
          56,
          56,
          67,
          49,
          57,
          75,
          68,
          28,
          63,
          53,
          74,
          41,
          61,
          73,
          34,
          58,
          22,
          69,
          61,
          23,
          70,
          35,
          36,
          40,
          46,
          31,
          59,
          80,
          59,
          35,
          25,
          59,
          39,
          73,
          26,
          72,
          57,
          33,
          40,
          61,
          41,
          69,
          29,
          44,
          48,
          40,
          76,
          64,
          38,
          40,
          60,
          55,
          70,
          25,
          33,
          46,
          68,
          28,
          39,
          53,
          70,
          42,
          57,
          62,
          20,
          57,
          28,
          63,
          67,
          29,
          69,
          18,
          48,
          73,
          62,
          61,
          70,
          71,
          59,
          36,
          44,
          50,
          68,
          41,
          55,
          27,
          62,
          30,
          38,
          30,
          60,
          58,
          22,
          53,
          36,
          59,
          78,
          55,
          38,
          30,
          33,
          53,
          20,
          36,
          32,
          18,
          37,
          51,
          37,
          56,
          35,
          27,
          32,
          24,
          46,
          69,
          20,
          66,
          56,
          62,
          70,
          80,
          28,
          63,
          53,
          33,
          21,
          40,
          23,
          56,
          63,
          49,
          41,
          19,
          57,
          66,
          80,
          23,
          49,
          72,
          57,
          42,
          49,
          31,
          18,
          58,
          42,
          58,
          76,
          80,
          34,
          48,
          35,
          67,
          26,
          29,
          65,
          67,
          54,
          57,
          52,
          59,
          69,
          70,
          59,
          35,
          79,
          22,
          40,
          55,
          39,
          49,
          66,
          33,
          75,
          42,
          44,
          26,
          23,
          64,
          27,
          61,
          67,
          57,
          65,
          70,
          38,
          54,
          37,
          53,
          21,
          35,
          62,
          54,
          27,
          67,
          69,
          47,
          52,
          21,
          73,
          61,
          38,
          50,
          63,
          68,
          67,
          54,
          59,
          28,
          44,
          59,
          55,
          31,
          55,
          57,
          48,
          25,
          67,
          29,
          67,
          60,
          61,
          60,
          28,
          33,
          74,
          66,
          35,
          29,
          63,
          21,
          78,
          44,
          54,
          65,
          59,
          27,
          58,
          62,
          60,
          18
         ],
         "xaxis": "x",
         "y": [
          60,
          0,
          120,
          60,
          0,
          224,
          0,
          2160,
          56,
          270,
          1440,
          120,
          420,
          90,
          210,
          360,
          45,
          60,
          112,
          0,
          0,
          0,
          0,
          0,
          0,
          1008,
          896,
          0,
          900,
          28,
          63,
          0,
          0,
          224,
          1800,
          0,
          960,
          0,
          0,
          270,
          0,
          1080,
          150,
          0,
          3360,
          0,
          0,
          3360,
          0,
          0,
          90,
          0,
          1200,
          0,
          640,
          0,
          0,
          120,
          0,
          270,
          0,
          0,
          120,
          0,
          630,
          0,
          0,
          0,
          1890,
          504,
          0,
          10080,
          168,
          0,
          1680,
          1680,
          180,
          0,
          240,
          80,
          2100,
          1890,
          630,
          0,
          20,
          240,
          0,
          0,
          0,
          94,
          105,
          2880,
          6988,
          270,
          0,
          0,
          420,
          0,
          120,
          0,
          0,
          0,
          96,
          0,
          0,
          0,
          720,
          210,
          720,
          160,
          882,
          0,
          0,
          0,
          0,
          840,
          360,
          315,
          270,
          0,
          0,
          126,
          60,
          2205,
          0,
          0,
          840,
          0,
          360,
          0,
          1260,
          0,
          174,
          180,
          0,
          0,
          168,
          0,
          0,
          168,
          180,
          0,
          2520,
          0,
          0,
          0,
          0,
          0,
          0,
          0,
          5990,
          0,
          4800,
          0,
          0,
          0,
          504,
          0,
          8386,
          0,
          2520,
          40,
          0,
          252,
          270,
          540,
          8386,
          2400,
          450,
          180,
          224,
          0,
          180,
          135,
          24,
          448,
          90,
          540,
          270,
          0,
          70,
          180,
          4800,
          42,
          0,
          60,
          360,
          0,
          0,
          60,
          0,
          21,
          6300,
          112,
          0,
          80,
          210,
          3360,
          0,
          106,
          0,
          180,
          0,
          120,
          300,
          420,
          720,
          840,
          84,
          0,
          252,
          270,
          420,
          0,
          0,
          0,
          0,
          720,
          96,
          360,
          0,
          420,
          0,
          70,
          0,
          720,
          210,
          560,
          270,
          0,
          0,
          0,
          960,
          0,
          480,
          0,
          840,
          0,
          0,
          45,
          1800,
          0,
          360,
          0,
          360,
          280,
          0,
          168,
          0,
          0,
          180,
          90,
          0,
          0,
          0,
          18,
          3594,
          343,
          0,
          270,
          0,
          0,
          0,
          150,
          120,
          120,
          0,
          210,
          0,
          630,
          0,
          120,
          126,
          0,
          0,
          40,
          540,
          0,
          720,
          360,
          0,
          0,
          0,
          0,
          0,
          0,
          2880,
          840,
          30,
          0,
          3600,
          1080,
          540,
          0,
          252,
          0,
          126,
          0,
          0,
          180
         ],
         "yaxis": "y"
        }
       ],
       "layout": {
        "legend": {
         "tracegroupgap": 0
        },
        "margin": {
         "t": 60
        },
        "template": {
         "data": {
          "bar": [
           {
            "error_x": {
             "color": "#2a3f5f"
            },
            "error_y": {
             "color": "#2a3f5f"
            },
            "marker": {
             "line": {
              "color": "#E5ECF6",
              "width": 0.5
             },
             "pattern": {
              "fillmode": "overlay",
              "size": 10,
              "solidity": 0.2
             }
            },
            "type": "bar"
           }
          ],
          "barpolar": [
           {
            "marker": {
             "line": {
              "color": "#E5ECF6",
              "width": 0.5
             },
             "pattern": {
              "fillmode": "overlay",
              "size": 10,
              "solidity": 0.2
             }
            },
            "type": "barpolar"
           }
          ],
          "carpet": [
           {
            "aaxis": {
             "endlinecolor": "#2a3f5f",
             "gridcolor": "white",
             "linecolor": "white",
             "minorgridcolor": "white",
             "startlinecolor": "#2a3f5f"
            },
            "baxis": {
             "endlinecolor": "#2a3f5f",
             "gridcolor": "white",
             "linecolor": "white",
             "minorgridcolor": "white",
             "startlinecolor": "#2a3f5f"
            },
            "type": "carpet"
           }
          ],
          "choropleth": [
           {
            "colorbar": {
             "outlinewidth": 0,
             "ticks": ""
            },
            "type": "choropleth"
           }
          ],
          "contour": [
           {
            "colorbar": {
             "outlinewidth": 0,
             "ticks": ""
            },
            "colorscale": [
             [
              0,
              "#0d0887"
             ],
             [
              0.1111111111111111,
              "#46039f"
             ],
             [
              0.2222222222222222,
              "#7201a8"
             ],
             [
              0.3333333333333333,
              "#9c179e"
             ],
             [
              0.4444444444444444,
              "#bd3786"
             ],
             [
              0.5555555555555556,
              "#d8576b"
             ],
             [
              0.6666666666666666,
              "#ed7953"
             ],
             [
              0.7777777777777778,
              "#fb9f3a"
             ],
             [
              0.8888888888888888,
              "#fdca26"
             ],
             [
              1,
              "#f0f921"
             ]
            ],
            "type": "contour"
           }
          ],
          "contourcarpet": [
           {
            "colorbar": {
             "outlinewidth": 0,
             "ticks": ""
            },
            "type": "contourcarpet"
           }
          ],
          "heatmap": [
           {
            "colorbar": {
             "outlinewidth": 0,
             "ticks": ""
            },
            "colorscale": [
             [
              0,
              "#0d0887"
             ],
             [
              0.1111111111111111,
              "#46039f"
             ],
             [
              0.2222222222222222,
              "#7201a8"
             ],
             [
              0.3333333333333333,
              "#9c179e"
             ],
             [
              0.4444444444444444,
              "#bd3786"
             ],
             [
              0.5555555555555556,
              "#d8576b"
             ],
             [
              0.6666666666666666,
              "#ed7953"
             ],
             [
              0.7777777777777778,
              "#fb9f3a"
             ],
             [
              0.8888888888888888,
              "#fdca26"
             ],
             [
              1,
              "#f0f921"
             ]
            ],
            "type": "heatmap"
           }
          ],
          "heatmapgl": [
           {
            "colorbar": {
             "outlinewidth": 0,
             "ticks": ""
            },
            "colorscale": [
             [
              0,
              "#0d0887"
             ],
             [
              0.1111111111111111,
              "#46039f"
             ],
             [
              0.2222222222222222,
              "#7201a8"
             ],
             [
              0.3333333333333333,
              "#9c179e"
             ],
             [
              0.4444444444444444,
              "#bd3786"
             ],
             [
              0.5555555555555556,
              "#d8576b"
             ],
             [
              0.6666666666666666,
              "#ed7953"
             ],
             [
              0.7777777777777778,
              "#fb9f3a"
             ],
             [
              0.8888888888888888,
              "#fdca26"
             ],
             [
              1,
              "#f0f921"
             ]
            ],
            "type": "heatmapgl"
           }
          ],
          "histogram": [
           {
            "marker": {
             "pattern": {
              "fillmode": "overlay",
              "size": 10,
              "solidity": 0.2
             }
            },
            "type": "histogram"
           }
          ],
          "histogram2d": [
           {
            "colorbar": {
             "outlinewidth": 0,
             "ticks": ""
            },
            "colorscale": [
             [
              0,
              "#0d0887"
             ],
             [
              0.1111111111111111,
              "#46039f"
             ],
             [
              0.2222222222222222,
              "#7201a8"
             ],
             [
              0.3333333333333333,
              "#9c179e"
             ],
             [
              0.4444444444444444,
              "#bd3786"
             ],
             [
              0.5555555555555556,
              "#d8576b"
             ],
             [
              0.6666666666666666,
              "#ed7953"
             ],
             [
              0.7777777777777778,
              "#fb9f3a"
             ],
             [
              0.8888888888888888,
              "#fdca26"
             ],
             [
              1,
              "#f0f921"
             ]
            ],
            "type": "histogram2d"
           }
          ],
          "histogram2dcontour": [
           {
            "colorbar": {
             "outlinewidth": 0,
             "ticks": ""
            },
            "colorscale": [
             [
              0,
              "#0d0887"
             ],
             [
              0.1111111111111111,
              "#46039f"
             ],
             [
              0.2222222222222222,
              "#7201a8"
             ],
             [
              0.3333333333333333,
              "#9c179e"
             ],
             [
              0.4444444444444444,
              "#bd3786"
             ],
             [
              0.5555555555555556,
              "#d8576b"
             ],
             [
              0.6666666666666666,
              "#ed7953"
             ],
             [
              0.7777777777777778,
              "#fb9f3a"
             ],
             [
              0.8888888888888888,
              "#fdca26"
             ],
             [
              1,
              "#f0f921"
             ]
            ],
            "type": "histogram2dcontour"
           }
          ],
          "mesh3d": [
           {
            "colorbar": {
             "outlinewidth": 0,
             "ticks": ""
            },
            "type": "mesh3d"
           }
          ],
          "parcoords": [
           {
            "line": {
             "colorbar": {
              "outlinewidth": 0,
              "ticks": ""
             }
            },
            "type": "parcoords"
           }
          ],
          "pie": [
           {
            "automargin": true,
            "type": "pie"
           }
          ],
          "scatter": [
           {
            "marker": {
             "colorbar": {
              "outlinewidth": 0,
              "ticks": ""
             }
            },
            "type": "scatter"
           }
          ],
          "scatter3d": [
           {
            "line": {
             "colorbar": {
              "outlinewidth": 0,
              "ticks": ""
             }
            },
            "marker": {
             "colorbar": {
              "outlinewidth": 0,
              "ticks": ""
             }
            },
            "type": "scatter3d"
           }
          ],
          "scattercarpet": [
           {
            "marker": {
             "colorbar": {
              "outlinewidth": 0,
              "ticks": ""
             }
            },
            "type": "scattercarpet"
           }
          ],
          "scattergeo": [
           {
            "marker": {
             "colorbar": {
              "outlinewidth": 0,
              "ticks": ""
             }
            },
            "type": "scattergeo"
           }
          ],
          "scattergl": [
           {
            "marker": {
             "colorbar": {
              "outlinewidth": 0,
              "ticks": ""
             }
            },
            "type": "scattergl"
           }
          ],
          "scattermapbox": [
           {
            "marker": {
             "colorbar": {
              "outlinewidth": 0,
              "ticks": ""
             }
            },
            "type": "scattermapbox"
           }
          ],
          "scatterpolar": [
           {
            "marker": {
             "colorbar": {
              "outlinewidth": 0,
              "ticks": ""
             }
            },
            "type": "scatterpolar"
           }
          ],
          "scatterpolargl": [
           {
            "marker": {
             "colorbar": {
              "outlinewidth": 0,
              "ticks": ""
             }
            },
            "type": "scatterpolargl"
           }
          ],
          "scatterternary": [
           {
            "marker": {
             "colorbar": {
              "outlinewidth": 0,
              "ticks": ""
             }
            },
            "type": "scatterternary"
           }
          ],
          "surface": [
           {
            "colorbar": {
             "outlinewidth": 0,
             "ticks": ""
            },
            "colorscale": [
             [
              0,
              "#0d0887"
             ],
             [
              0.1111111111111111,
              "#46039f"
             ],
             [
              0.2222222222222222,
              "#7201a8"
             ],
             [
              0.3333333333333333,
              "#9c179e"
             ],
             [
              0.4444444444444444,
              "#bd3786"
             ],
             [
              0.5555555555555556,
              "#d8576b"
             ],
             [
              0.6666666666666666,
              "#ed7953"
             ],
             [
              0.7777777777777778,
              "#fb9f3a"
             ],
             [
              0.8888888888888888,
              "#fdca26"
             ],
             [
              1,
              "#f0f921"
             ]
            ],
            "type": "surface"
           }
          ],
          "table": [
           {
            "cells": {
             "fill": {
              "color": "#EBF0F8"
             },
             "line": {
              "color": "white"
             }
            },
            "header": {
             "fill": {
              "color": "#C8D4E3"
             },
             "line": {
              "color": "white"
             }
            },
            "type": "table"
           }
          ]
         },
         "layout": {
          "annotationdefaults": {
           "arrowcolor": "#2a3f5f",
           "arrowhead": 0,
           "arrowwidth": 1
          },
          "autotypenumbers": "strict",
          "coloraxis": {
           "colorbar": {
            "outlinewidth": 0,
            "ticks": ""
           }
          },
          "colorscale": {
           "diverging": [
            [
             0,
             "#8e0152"
            ],
            [
             0.1,
             "#c51b7d"
            ],
            [
             0.2,
             "#de77ae"
            ],
            [
             0.3,
             "#f1b6da"
            ],
            [
             0.4,
             "#fde0ef"
            ],
            [
             0.5,
             "#f7f7f7"
            ],
            [
             0.6,
             "#e6f5d0"
            ],
            [
             0.7,
             "#b8e186"
            ],
            [
             0.8,
             "#7fbc41"
            ],
            [
             0.9,
             "#4d9221"
            ],
            [
             1,
             "#276419"
            ]
           ],
           "sequential": [
            [
             0,
             "#0d0887"
            ],
            [
             0.1111111111111111,
             "#46039f"
            ],
            [
             0.2222222222222222,
             "#7201a8"
            ],
            [
             0.3333333333333333,
             "#9c179e"
            ],
            [
             0.4444444444444444,
             "#bd3786"
            ],
            [
             0.5555555555555556,
             "#d8576b"
            ],
            [
             0.6666666666666666,
             "#ed7953"
            ],
            [
             0.7777777777777778,
             "#fb9f3a"
            ],
            [
             0.8888888888888888,
             "#fdca26"
            ],
            [
             1,
             "#f0f921"
            ]
           ],
           "sequentialminus": [
            [
             0,
             "#0d0887"
            ],
            [
             0.1111111111111111,
             "#46039f"
            ],
            [
             0.2222222222222222,
             "#7201a8"
            ],
            [
             0.3333333333333333,
             "#9c179e"
            ],
            [
             0.4444444444444444,
             "#bd3786"
            ],
            [
             0.5555555555555556,
             "#d8576b"
            ],
            [
             0.6666666666666666,
             "#ed7953"
            ],
            [
             0.7777777777777778,
             "#fb9f3a"
            ],
            [
             0.8888888888888888,
             "#fdca26"
            ],
            [
             1,
             "#f0f921"
            ]
           ]
          },
          "colorway": [
           "#636efa",
           "#EF553B",
           "#00cc96",
           "#ab63fa",
           "#FFA15A",
           "#19d3f3",
           "#FF6692",
           "#B6E880",
           "#FF97FF",
           "#FECB52"
          ],
          "font": {
           "color": "#2a3f5f"
          },
          "geo": {
           "bgcolor": "white",
           "lakecolor": "white",
           "landcolor": "#E5ECF6",
           "showlakes": true,
           "showland": true,
           "subunitcolor": "white"
          },
          "hoverlabel": {
           "align": "left"
          },
          "hovermode": "closest",
          "mapbox": {
           "style": "light"
          },
          "paper_bgcolor": "white",
          "plot_bgcolor": "#E5ECF6",
          "polar": {
           "angularaxis": {
            "gridcolor": "white",
            "linecolor": "white",
            "ticks": ""
           },
           "bgcolor": "#E5ECF6",
           "radialaxis": {
            "gridcolor": "white",
            "linecolor": "white",
            "ticks": ""
           }
          },
          "scene": {
           "xaxis": {
            "backgroundcolor": "#E5ECF6",
            "gridcolor": "white",
            "gridwidth": 2,
            "linecolor": "white",
            "showbackground": true,
            "ticks": "",
            "zerolinecolor": "white"
           },
           "yaxis": {
            "backgroundcolor": "#E5ECF6",
            "gridcolor": "white",
            "gridwidth": 2,
            "linecolor": "white",
            "showbackground": true,
            "ticks": "",
            "zerolinecolor": "white"
           },
           "zaxis": {
            "backgroundcolor": "#E5ECF6",
            "gridcolor": "white",
            "gridwidth": 2,
            "linecolor": "white",
            "showbackground": true,
            "ticks": "",
            "zerolinecolor": "white"
           }
          },
          "shapedefaults": {
           "line": {
            "color": "#2a3f5f"
           }
          },
          "ternary": {
           "aaxis": {
            "gridcolor": "white",
            "linecolor": "white",
            "ticks": ""
           },
           "baxis": {
            "gridcolor": "white",
            "linecolor": "white",
            "ticks": ""
           },
           "bgcolor": "#E5ECF6",
           "caxis": {
            "gridcolor": "white",
            "linecolor": "white",
            "ticks": ""
           }
          },
          "title": {
           "x": 0.05
          },
          "xaxis": {
           "automargin": true,
           "gridcolor": "white",
           "linecolor": "white",
           "ticks": "",
           "title": {
            "standoff": 15
           },
           "zerolinecolor": "white",
           "zerolinewidth": 2
          },
          "yaxis": {
           "automargin": true,
           "gridcolor": "white",
           "linecolor": "white",
           "ticks": "",
           "title": {
            "standoff": 15
           },
           "zerolinecolor": "white",
           "zerolinewidth": 2
          }
         }
        },
        "xaxis": {
         "anchor": "y",
         "domain": [
          0,
          1
         ],
         "title": {
          "text": "_AGE80"
         }
        },
        "yaxis": {
         "anchor": "x",
         "domain": [
          0,
          1
         ],
         "title": {
          "text": "PA2MIN_"
         }
        }
       }
      },
      "text/html": [
       "<div>                            <div id=\"82db944a-52a6-4c20-a104-75d03ef02721\" class=\"plotly-graph-div\" style=\"height:525px; width:100%;\"></div>            <script type=\"text/javascript\">                require([\"plotly\"], function(Plotly) {                    window.PLOTLYENV=window.PLOTLYENV || {};                                    if (document.getElementById(\"82db944a-52a6-4c20-a104-75d03ef02721\")) {                    Plotly.newPlot(                        \"82db944a-52a6-4c20-a104-75d03ef02721\",                        [{\"hovertemplate\":\"_AGE80=%{x}<br>PA2MIN_=%{y}<extra></extra>\",\"legendgroup\":\"\",\"marker\":{\"color\":\"#636efa\",\"symbol\":\"circle\"},\"mode\":\"markers\",\"name\":\"\",\"orientation\":\"v\",\"showlegend\":false,\"type\":\"scatter\",\"x\":[47.0,30.0,41.0,23.0,34.0,70.0,62.0,59.0,36.0,22.0,34.0,34.0,32.0,65.0,69.0,54.0,30.0,22.0,64.0,51.0,37.0,52.0,47.0,58.0,66.0,57.0,22.0,18.0,70.0,27.0,50.0,46.0,50.0,23.0,23.0,61.0,52.0,47.0,70.0,53.0,54.0,67.0,38.0,28.0,77.0,36.0,38.0,43.0,37.0,61.0,26.0,45.0,65.0,38.0,30.0,61.0,30.0,25.0,56.0,56.0,67.0,49.0,57.0,75.0,68.0,28.0,63.0,53.0,74.0,41.0,61.0,73.0,34.0,58.0,22.0,69.0,61.0,23.0,70.0,35.0,36.0,40.0,46.0,31.0,59.0,80.0,59.0,35.0,25.0,59.0,39.0,73.0,26.0,72.0,57.0,33.0,40.0,61.0,41.0,69.0,29.0,44.0,48.0,40.0,76.0,64.0,38.0,40.0,60.0,55.0,70.0,25.0,33.0,46.0,68.0,28.0,39.0,53.0,70.0,42.0,57.0,62.0,20.0,57.0,28.0,63.0,67.0,29.0,69.0,18.0,48.0,73.0,62.0,61.0,70.0,71.0,59.0,36.0,44.0,50.0,68.0,41.0,55.0,27.0,62.0,30.0,38.0,30.0,60.0,58.0,22.0,53.0,36.0,59.0,78.0,55.0,38.0,30.0,33.0,53.0,20.0,36.0,32.0,18.0,37.0,51.0,37.0,56.0,35.0,27.0,32.0,24.0,46.0,69.0,20.0,66.0,56.0,62.0,70.0,80.0,28.0,63.0,53.0,33.0,21.0,40.0,23.0,56.0,63.0,49.0,41.0,19.0,57.0,66.0,80.0,23.0,49.0,72.0,57.0,42.0,49.0,31.0,18.0,58.0,42.0,58.0,76.0,80.0,34.0,48.0,35.0,67.0,26.0,29.0,65.0,67.0,54.0,57.0,52.0,59.0,69.0,70.0,59.0,35.0,79.0,22.0,40.0,55.0,39.0,49.0,66.0,33.0,75.0,42.0,44.0,26.0,23.0,64.0,27.0,61.0,67.0,57.0,65.0,70.0,38.0,54.0,37.0,53.0,21.0,35.0,62.0,54.0,27.0,67.0,69.0,47.0,52.0,21.0,73.0,61.0,38.0,50.0,63.0,68.0,67.0,54.0,59.0,28.0,44.0,59.0,55.0,31.0,55.0,57.0,48.0,25.0,67.0,29.0,67.0,60.0,61.0,60.0,28.0,33.0,74.0,66.0,35.0,29.0,63.0,21.0,78.0,44.0,54.0,65.0,59.0,27.0,58.0,62.0,60.0,18.0],\"xaxis\":\"x\",\"y\":[60,0,120,60,0,224,0,2160,56,270,1440,120,420,90,210,360,45,60,112,0,0,0,0,0,0,1008,896,0,900,28,63,0,0,224,1800,0,960,0,0,270,0,1080,150,0,3360,0,0,3360,0,0,90,0,1200,0,640,0,0,120,0,270,0,0,120,0,630,0,0,0,1890,504,0,10080,168,0,1680,1680,180,0,240,80,2100,1890,630,0,20,240,0,0,0,94,105,2880,6988,270,0,0,420,0,120,0,0,0,96,0,0,0,720,210,720,160,882,0,0,0,0,840,360,315,270,0,0,126,60,2205,0,0,840,0,360,0,1260,0,174,180,0,0,168,0,0,168,180,0,2520,0,0,0,0,0,0,0,5990,0,4800,0,0,0,504,0,8386,0,2520,40,0,252,270,540,8386,2400,450,180,224,0,180,135,24,448,90,540,270,0,70,180,4800,42,0,60,360,0,0,60,0,21,6300,112,0,80,210,3360,0,106,0,180,0,120,300,420,720,840,84,0,252,270,420,0,0,0,0,720,96,360,0,420,0,70,0,720,210,560,270,0,0,0,960,0,480,0,840,0,0,45,1800,0,360,0,360,280,0,168,0,0,180,90,0,0,0,18,3594,343,0,270,0,0,0,150,120,120,0,210,0,630,0,120,126,0,0,40,540,0,720,360,0,0,0,0,0,0,2880,840,30,0,3600,1080,540,0,252,0,126,0,0,180],\"yaxis\":\"y\"}],                        {\"legend\":{\"tracegroupgap\":0},\"margin\":{\"t\":60},\"template\":{\"data\":{\"bar\":[{\"error_x\":{\"color\":\"#2a3f5f\"},\"error_y\":{\"color\":\"#2a3f5f\"},\"marker\":{\"line\":{\"color\":\"#E5ECF6\",\"width\":0.5},\"pattern\":{\"fillmode\":\"overlay\",\"size\":10,\"solidity\":0.2}},\"type\":\"bar\"}],\"barpolar\":[{\"marker\":{\"line\":{\"color\":\"#E5ECF6\",\"width\":0.5},\"pattern\":{\"fillmode\":\"overlay\",\"size\":10,\"solidity\":0.2}},\"type\":\"barpolar\"}],\"carpet\":[{\"aaxis\":{\"endlinecolor\":\"#2a3f5f\",\"gridcolor\":\"white\",\"linecolor\":\"white\",\"minorgridcolor\":\"white\",\"startlinecolor\":\"#2a3f5f\"},\"baxis\":{\"endlinecolor\":\"#2a3f5f\",\"gridcolor\":\"white\",\"linecolor\":\"white\",\"minorgridcolor\":\"white\",\"startlinecolor\":\"#2a3f5f\"},\"type\":\"carpet\"}],\"choropleth\":[{\"colorbar\":{\"outlinewidth\":0,\"ticks\":\"\"},\"type\":\"choropleth\"}],\"contour\":[{\"colorbar\":{\"outlinewidth\":0,\"ticks\":\"\"},\"colorscale\":[[0.0,\"#0d0887\"],[0.1111111111111111,\"#46039f\"],[0.2222222222222222,\"#7201a8\"],[0.3333333333333333,\"#9c179e\"],[0.4444444444444444,\"#bd3786\"],[0.5555555555555556,\"#d8576b\"],[0.6666666666666666,\"#ed7953\"],[0.7777777777777778,\"#fb9f3a\"],[0.8888888888888888,\"#fdca26\"],[1.0,\"#f0f921\"]],\"type\":\"contour\"}],\"contourcarpet\":[{\"colorbar\":{\"outlinewidth\":0,\"ticks\":\"\"},\"type\":\"contourcarpet\"}],\"heatmap\":[{\"colorbar\":{\"outlinewidth\":0,\"ticks\":\"\"},\"colorscale\":[[0.0,\"#0d0887\"],[0.1111111111111111,\"#46039f\"],[0.2222222222222222,\"#7201a8\"],[0.3333333333333333,\"#9c179e\"],[0.4444444444444444,\"#bd3786\"],[0.5555555555555556,\"#d8576b\"],[0.6666666666666666,\"#ed7953\"],[0.7777777777777778,\"#fb9f3a\"],[0.8888888888888888,\"#fdca26\"],[1.0,\"#f0f921\"]],\"type\":\"heatmap\"}],\"heatmapgl\":[{\"colorbar\":{\"outlinewidth\":0,\"ticks\":\"\"},\"colorscale\":[[0.0,\"#0d0887\"],[0.1111111111111111,\"#46039f\"],[0.2222222222222222,\"#7201a8\"],[0.3333333333333333,\"#9c179e\"],[0.4444444444444444,\"#bd3786\"],[0.5555555555555556,\"#d8576b\"],[0.6666666666666666,\"#ed7953\"],[0.7777777777777778,\"#fb9f3a\"],[0.8888888888888888,\"#fdca26\"],[1.0,\"#f0f921\"]],\"type\":\"heatmapgl\"}],\"histogram\":[{\"marker\":{\"pattern\":{\"fillmode\":\"overlay\",\"size\":10,\"solidity\":0.2}},\"type\":\"histogram\"}],\"histogram2d\":[{\"colorbar\":{\"outlinewidth\":0,\"ticks\":\"\"},\"colorscale\":[[0.0,\"#0d0887\"],[0.1111111111111111,\"#46039f\"],[0.2222222222222222,\"#7201a8\"],[0.3333333333333333,\"#9c179e\"],[0.4444444444444444,\"#bd3786\"],[0.5555555555555556,\"#d8576b\"],[0.6666666666666666,\"#ed7953\"],[0.7777777777777778,\"#fb9f3a\"],[0.8888888888888888,\"#fdca26\"],[1.0,\"#f0f921\"]],\"type\":\"histogram2d\"}],\"histogram2dcontour\":[{\"colorbar\":{\"outlinewidth\":0,\"ticks\":\"\"},\"colorscale\":[[0.0,\"#0d0887\"],[0.1111111111111111,\"#46039f\"],[0.2222222222222222,\"#7201a8\"],[0.3333333333333333,\"#9c179e\"],[0.4444444444444444,\"#bd3786\"],[0.5555555555555556,\"#d8576b\"],[0.6666666666666666,\"#ed7953\"],[0.7777777777777778,\"#fb9f3a\"],[0.8888888888888888,\"#fdca26\"],[1.0,\"#f0f921\"]],\"type\":\"histogram2dcontour\"}],\"mesh3d\":[{\"colorbar\":{\"outlinewidth\":0,\"ticks\":\"\"},\"type\":\"mesh3d\"}],\"parcoords\":[{\"line\":{\"colorbar\":{\"outlinewidth\":0,\"ticks\":\"\"}},\"type\":\"parcoords\"}],\"pie\":[{\"automargin\":true,\"type\":\"pie\"}],\"scatter\":[{\"marker\":{\"colorbar\":{\"outlinewidth\":0,\"ticks\":\"\"}},\"type\":\"scatter\"}],\"scatter3d\":[{\"line\":{\"colorbar\":{\"outlinewidth\":0,\"ticks\":\"\"}},\"marker\":{\"colorbar\":{\"outlinewidth\":0,\"ticks\":\"\"}},\"type\":\"scatter3d\"}],\"scattercarpet\":[{\"marker\":{\"colorbar\":{\"outlinewidth\":0,\"ticks\":\"\"}},\"type\":\"scattercarpet\"}],\"scattergeo\":[{\"marker\":{\"colorbar\":{\"outlinewidth\":0,\"ticks\":\"\"}},\"type\":\"scattergeo\"}],\"scattergl\":[{\"marker\":{\"colorbar\":{\"outlinewidth\":0,\"ticks\":\"\"}},\"type\":\"scattergl\"}],\"scattermapbox\":[{\"marker\":{\"colorbar\":{\"outlinewidth\":0,\"ticks\":\"\"}},\"type\":\"scattermapbox\"}],\"scatterpolar\":[{\"marker\":{\"colorbar\":{\"outlinewidth\":0,\"ticks\":\"\"}},\"type\":\"scatterpolar\"}],\"scatterpolargl\":[{\"marker\":{\"colorbar\":{\"outlinewidth\":0,\"ticks\":\"\"}},\"type\":\"scatterpolargl\"}],\"scatterternary\":[{\"marker\":{\"colorbar\":{\"outlinewidth\":0,\"ticks\":\"\"}},\"type\":\"scatterternary\"}],\"surface\":[{\"colorbar\":{\"outlinewidth\":0,\"ticks\":\"\"},\"colorscale\":[[0.0,\"#0d0887\"],[0.1111111111111111,\"#46039f\"],[0.2222222222222222,\"#7201a8\"],[0.3333333333333333,\"#9c179e\"],[0.4444444444444444,\"#bd3786\"],[0.5555555555555556,\"#d8576b\"],[0.6666666666666666,\"#ed7953\"],[0.7777777777777778,\"#fb9f3a\"],[0.8888888888888888,\"#fdca26\"],[1.0,\"#f0f921\"]],\"type\":\"surface\"}],\"table\":[{\"cells\":{\"fill\":{\"color\":\"#EBF0F8\"},\"line\":{\"color\":\"white\"}},\"header\":{\"fill\":{\"color\":\"#C8D4E3\"},\"line\":{\"color\":\"white\"}},\"type\":\"table\"}]},\"layout\":{\"annotationdefaults\":{\"arrowcolor\":\"#2a3f5f\",\"arrowhead\":0,\"arrowwidth\":1},\"autotypenumbers\":\"strict\",\"coloraxis\":{\"colorbar\":{\"outlinewidth\":0,\"ticks\":\"\"}},\"colorscale\":{\"diverging\":[[0,\"#8e0152\"],[0.1,\"#c51b7d\"],[0.2,\"#de77ae\"],[0.3,\"#f1b6da\"],[0.4,\"#fde0ef\"],[0.5,\"#f7f7f7\"],[0.6,\"#e6f5d0\"],[0.7,\"#b8e186\"],[0.8,\"#7fbc41\"],[0.9,\"#4d9221\"],[1,\"#276419\"]],\"sequential\":[[0.0,\"#0d0887\"],[0.1111111111111111,\"#46039f\"],[0.2222222222222222,\"#7201a8\"],[0.3333333333333333,\"#9c179e\"],[0.4444444444444444,\"#bd3786\"],[0.5555555555555556,\"#d8576b\"],[0.6666666666666666,\"#ed7953\"],[0.7777777777777778,\"#fb9f3a\"],[0.8888888888888888,\"#fdca26\"],[1.0,\"#f0f921\"]],\"sequentialminus\":[[0.0,\"#0d0887\"],[0.1111111111111111,\"#46039f\"],[0.2222222222222222,\"#7201a8\"],[0.3333333333333333,\"#9c179e\"],[0.4444444444444444,\"#bd3786\"],[0.5555555555555556,\"#d8576b\"],[0.6666666666666666,\"#ed7953\"],[0.7777777777777778,\"#fb9f3a\"],[0.8888888888888888,\"#fdca26\"],[1.0,\"#f0f921\"]]},\"colorway\":[\"#636efa\",\"#EF553B\",\"#00cc96\",\"#ab63fa\",\"#FFA15A\",\"#19d3f3\",\"#FF6692\",\"#B6E880\",\"#FF97FF\",\"#FECB52\"],\"font\":{\"color\":\"#2a3f5f\"},\"geo\":{\"bgcolor\":\"white\",\"lakecolor\":\"white\",\"landcolor\":\"#E5ECF6\",\"showlakes\":true,\"showland\":true,\"subunitcolor\":\"white\"},\"hoverlabel\":{\"align\":\"left\"},\"hovermode\":\"closest\",\"mapbox\":{\"style\":\"light\"},\"paper_bgcolor\":\"white\",\"plot_bgcolor\":\"#E5ECF6\",\"polar\":{\"angularaxis\":{\"gridcolor\":\"white\",\"linecolor\":\"white\",\"ticks\":\"\"},\"bgcolor\":\"#E5ECF6\",\"radialaxis\":{\"gridcolor\":\"white\",\"linecolor\":\"white\",\"ticks\":\"\"}},\"scene\":{\"xaxis\":{\"backgroundcolor\":\"#E5ECF6\",\"gridcolor\":\"white\",\"gridwidth\":2,\"linecolor\":\"white\",\"showbackground\":true,\"ticks\":\"\",\"zerolinecolor\":\"white\"},\"yaxis\":{\"backgroundcolor\":\"#E5ECF6\",\"gridcolor\":\"white\",\"gridwidth\":2,\"linecolor\":\"white\",\"showbackground\":true,\"ticks\":\"\",\"zerolinecolor\":\"white\"},\"zaxis\":{\"backgroundcolor\":\"#E5ECF6\",\"gridcolor\":\"white\",\"gridwidth\":2,\"linecolor\":\"white\",\"showbackground\":true,\"ticks\":\"\",\"zerolinecolor\":\"white\"}},\"shapedefaults\":{\"line\":{\"color\":\"#2a3f5f\"}},\"ternary\":{\"aaxis\":{\"gridcolor\":\"white\",\"linecolor\":\"white\",\"ticks\":\"\"},\"baxis\":{\"gridcolor\":\"white\",\"linecolor\":\"white\",\"ticks\":\"\"},\"bgcolor\":\"#E5ECF6\",\"caxis\":{\"gridcolor\":\"white\",\"linecolor\":\"white\",\"ticks\":\"\"}},\"title\":{\"x\":0.05},\"xaxis\":{\"automargin\":true,\"gridcolor\":\"white\",\"linecolor\":\"white\",\"ticks\":\"\",\"title\":{\"standoff\":15},\"zerolinecolor\":\"white\",\"zerolinewidth\":2},\"yaxis\":{\"automargin\":true,\"gridcolor\":\"white\",\"linecolor\":\"white\",\"ticks\":\"\",\"title\":{\"standoff\":15},\"zerolinecolor\":\"white\",\"zerolinewidth\":2}}},\"xaxis\":{\"anchor\":\"y\",\"domain\":[0.0,1.0],\"title\":{\"text\":\"_AGE80\"}},\"yaxis\":{\"anchor\":\"x\",\"domain\":[0.0,1.0],\"title\":{\"text\":\"PA2MIN_\"}}},                        {\"responsive\": true}                    ).then(function(){\n",
       "                            \n",
       "var gd = document.getElementById('82db944a-52a6-4c20-a104-75d03ef02721');\n",
       "var x = new MutationObserver(function (mutations, observer) {{\n",
       "        var display = window.getComputedStyle(gd).display;\n",
       "        if (!display || display === 'none') {{\n",
       "            console.log([gd, 'removed!']);\n",
       "            Plotly.purge(gd);\n",
       "            observer.disconnect();\n",
       "        }}\n",
       "}});\n",
       "\n",
       "// Listen for the removal of the full notebook cells\n",
       "var notebookContainer = gd.closest('#notebook-container');\n",
       "if (notebookContainer) {{\n",
       "    x.observe(notebookContainer, {childList: true});\n",
       "}}\n",
       "\n",
       "// Listen for the clearing of the current output cell\n",
       "var outputEl = gd.closest('.output');\n",
       "if (outputEl) {{\n",
       "    x.observe(outputEl, {childList: true});\n",
       "}}\n",
       "\n",
       "                        })                };                });            </script>        </div>"
      ]
     },
     "metadata": {},
     "output_type": "display_data"
    }
   ],
   "source": [
    "fig = px.scatter(df, x='_AGE80', y='PA2MIN_')\n",
    "fig.show()"
   ]
  },
  {
   "cell_type": "code",
   "execution_count": null,
   "id": "d7ccca91",
   "metadata": {},
   "outputs": [],
   "source": [
    "#TODO: make a dataframe that contains the demographic information of the sample and their health outcomes \n",
    "#Draw up summary of sample"
   ]
  },
  {
   "cell_type": "code",
   "execution_count": null,
   "id": "9baf47ad",
   "metadata": {},
   "outputs": [],
   "source": []
  },
  {
   "cell_type": "code",
   "execution_count": null,
   "id": "b5ab2ff1",
   "metadata": {},
   "outputs": [],
   "source": [
    "#map health outcomes accross states"
   ]
  },
  {
   "cell_type": "code",
   "execution_count": null,
   "id": "07077e13",
   "metadata": {},
   "outputs": [],
   "source": [
    "#create a large df with demographic and health behaviour info and create model that can predict health outcomes"
   ]
  },
  {
   "cell_type": "code",
   "execution_count": null,
   "id": "2c2b8bfe",
   "metadata": {},
   "outputs": [],
   "source": []
  }
 ],
 "metadata": {
  "kernelspec": {
   "display_name": "mlenv",
   "language": "python",
   "name": "mlenv"
  },
  "language_info": {
   "codemirror_mode": {
    "name": "ipython",
    "version": 3
   },
   "file_extension": ".py",
   "mimetype": "text/x-python",
   "name": "python",
   "nbconvert_exporter": "python",
   "pygments_lexer": "ipython3",
   "version": "3.7.10"
  }
 },
 "nbformat": 4,
 "nbformat_minor": 5
}

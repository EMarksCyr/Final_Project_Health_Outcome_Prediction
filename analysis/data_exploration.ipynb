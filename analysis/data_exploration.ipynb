{
 "cells": [
  {
   "cell_type": "code",
   "execution_count": 149,
   "id": "5d979754",
   "metadata": {},
   "outputs": [],
   "source": [
    "#import dependencies \n",
    "import psycopg2\n",
    "import pandas as pd\n",
    "import numpy as np"
   ]
  },
  {
   "cell_type": "code",
   "execution_count": 3,
   "id": "f4b41100",
   "metadata": {},
   "outputs": [
    {
     "name": "stdout",
     "output_type": "stream",
     "text": [
      "Enter database password········\n"
     ]
    }
   ],
   "source": [
    "from getpass import getpass\n",
    "password = getpass(\"Enter database password\")\n",
    "\n",
    "param_dic = {\n",
    "    \"host\" : \"localhost\",\n",
    "    \"database\" : \"BRFSSAnalysis\",\n",
    "    \"user\" : \"postgres\",\n",
    "    \"password\" : password\n",
    "}"
   ]
  },
  {
   "cell_type": "code",
   "execution_count": 4,
   "id": "9baae596",
   "metadata": {},
   "outputs": [],
   "source": [
    "def connect(params_dic):\n",
    "    \"\"\"\n",
    "    Tranform a SELECT query into a pandas dataframe\n",
    "    \"\"\"\n",
    "    conn = None\n",
    "    try:\n",
    "        # connect to the PostgreSQL server\n",
    "        print('Connecting to the PostgreSQL database...')\n",
    "        conn = psycopg2.connect(**params_dic)\n",
    "    except (Exception, psycopg2.DatabaseError) as error:\n",
    "        print(error)\n",
    "        sys.exit(1) \n",
    "    print(\"Connection successful\")\n",
    "    return conn"
   ]
  },
  {
   "cell_type": "code",
   "execution_count": 5,
   "id": "88443df6",
   "metadata": {},
   "outputs": [],
   "source": [
    "def postgresql_to_dataframe(conn, select_query, column_names):\n",
    "    \"\"\"\n",
    "    SELECT * from question_info\n",
    "    \"\"\"\n",
    "    cursor = conn.cursor()\n",
    "    try:\n",
    "        cursor.execute(select_query)\n",
    "    except (Exception, psycopg2.DatabaseError) as error:\n",
    "        print(\"Error: %s\" % error)\n",
    "        cursor.close()\n",
    "        return 1\n",
    "    \n",
    "    # Naturally we get a list of tupples\n",
    "    tupples = cursor.fetchall()\n",
    "    cursor.close()\n",
    "    \n",
    "    # We just need to turn it into a pandas dataframe\n",
    "    df = pd.DataFrame(tupples, columns=column_names)\n",
    "    return df"
   ]
  },
  {
   "cell_type": "code",
   "execution_count": 6,
   "id": "4e2d9515",
   "metadata": {},
   "outputs": [
    {
     "name": "stdout",
     "output_type": "stream",
     "text": [
      "Connecting to the PostgreSQL database...\n",
      "Connection successful\n"
     ]
    },
    {
     "data": {
      "text/html": [
       "<div>\n",
       "<style scoped>\n",
       "    .dataframe tbody tr th:only-of-type {\n",
       "        vertical-align: middle;\n",
       "    }\n",
       "\n",
       "    .dataframe tbody tr th {\n",
       "        vertical-align: top;\n",
       "    }\n",
       "\n",
       "    .dataframe thead th {\n",
       "        text-align: right;\n",
       "    }\n",
       "</style>\n",
       "<table border=\"1\" class=\"dataframe\">\n",
       "  <thead>\n",
       "    <tr style=\"text-align: right;\">\n",
       "      <th></th>\n",
       "      <th>id</th>\n",
       "      <th>var_name</th>\n",
       "      <th>label</th>\n",
       "      <th>text</th>\n",
       "    </tr>\n",
       "  </thead>\n",
       "  <tbody>\n",
       "    <tr>\n",
       "      <th>0</th>\n",
       "      <td>1</td>\n",
       "      <td>_STATE</td>\n",
       "      <td>State FIPS Code</td>\n",
       "      <td>State FIPS Code</td>\n",
       "    </tr>\n",
       "    <tr>\n",
       "      <th>1</th>\n",
       "      <td>2</td>\n",
       "      <td>FMONTH</td>\n",
       "      <td>File Month</td>\n",
       "      <td>File Month</td>\n",
       "    </tr>\n",
       "    <tr>\n",
       "      <th>2</th>\n",
       "      <td>3</td>\n",
       "      <td>IDATE</td>\n",
       "      <td>Interview Date</td>\n",
       "      <td>Interview Date</td>\n",
       "    </tr>\n",
       "    <tr>\n",
       "      <th>3</th>\n",
       "      <td>4</td>\n",
       "      <td>IMONTH</td>\n",
       "      <td>Interview Month</td>\n",
       "      <td>Interview Month</td>\n",
       "    </tr>\n",
       "    <tr>\n",
       "      <th>4</th>\n",
       "      <td>5</td>\n",
       "      <td>IDAY</td>\n",
       "      <td>Interview Day</td>\n",
       "      <td>Interview Day</td>\n",
       "    </tr>\n",
       "  </tbody>\n",
       "</table>\n",
       "</div>"
      ],
      "text/plain": [
       "   id var_name            label             text\n",
       "0   1   _STATE  State FIPS Code  State FIPS Code\n",
       "1   2   FMONTH       File Month       File Month\n",
       "2   3    IDATE   Interview Date   Interview Date\n",
       "3   4   IMONTH  Interview Month  Interview Month\n",
       "4   5     IDAY    Interview Day    Interview Day"
      ]
     },
     "execution_count": 6,
     "metadata": {},
     "output_type": "execute_result"
    }
   ],
   "source": [
    "# Connect to the database\n",
    "conn = connect(param_dic)\n",
    "column_names = [\"id\", \"var_name\", \"label\", \"text\"]\n",
    "# Execute the \"SELECT *\" query to save question_info as a datafram\n",
    "question_info_df = postgresql_to_dataframe(conn, \"select * from question_info\", column_names)\n",
    "question_info_df.head()"
   ]
  },
  {
   "cell_type": "code",
   "execution_count": 7,
   "id": "9d8827ec",
   "metadata": {},
   "outputs": [
    {
     "name": "stdout",
     "output_type": "stream",
     "text": [
      "Connecting to the PostgreSQL database...\n",
      "Connection successful\n"
     ]
    },
    {
     "data": {
      "text/html": [
       "<div>\n",
       "<style scoped>\n",
       "    .dataframe tbody tr th:only-of-type {\n",
       "        vertical-align: middle;\n",
       "    }\n",
       "\n",
       "    .dataframe tbody tr th {\n",
       "        vertical-align: top;\n",
       "    }\n",
       "\n",
       "    .dataframe thead th {\n",
       "        text-align: right;\n",
       "    }\n",
       "</style>\n",
       "<table border=\"1\" class=\"dataframe\">\n",
       "  <thead>\n",
       "    <tr style=\"text-align: right;\">\n",
       "      <th></th>\n",
       "      <th>id</th>\n",
       "      <th>question_id</th>\n",
       "      <th>label</th>\n",
       "      <th>value</th>\n",
       "      <th>value_end</th>\n",
       "    </tr>\n",
       "  </thead>\n",
       "  <tbody>\n",
       "    <tr>\n",
       "      <th>0</th>\n",
       "      <td>1</td>\n",
       "      <td>1</td>\n",
       "      <td>Alabama</td>\n",
       "      <td>1</td>\n",
       "      <td>None</td>\n",
       "    </tr>\n",
       "    <tr>\n",
       "      <th>1</th>\n",
       "      <td>2</td>\n",
       "      <td>1</td>\n",
       "      <td>Alaska</td>\n",
       "      <td>2</td>\n",
       "      <td>None</td>\n",
       "    </tr>\n",
       "    <tr>\n",
       "      <th>2</th>\n",
       "      <td>3</td>\n",
       "      <td>1</td>\n",
       "      <td>Arizona</td>\n",
       "      <td>4</td>\n",
       "      <td>None</td>\n",
       "    </tr>\n",
       "    <tr>\n",
       "      <th>3</th>\n",
       "      <td>4</td>\n",
       "      <td>1</td>\n",
       "      <td>Arkansas</td>\n",
       "      <td>5</td>\n",
       "      <td>None</td>\n",
       "    </tr>\n",
       "    <tr>\n",
       "      <th>4</th>\n",
       "      <td>5</td>\n",
       "      <td>1</td>\n",
       "      <td>California</td>\n",
       "      <td>6</td>\n",
       "      <td>None</td>\n",
       "    </tr>\n",
       "  </tbody>\n",
       "</table>\n",
       "</div>"
      ],
      "text/plain": [
       "   id  question_id       label value value_end\n",
       "0   1            1     Alabama     1      None\n",
       "1   2            1      Alaska     2      None\n",
       "2   3            1     Arizona     4      None\n",
       "3   4            1    Arkansas     5      None\n",
       "4   5            1  California     6      None"
      ]
     },
     "execution_count": 7,
     "metadata": {},
     "output_type": "execute_result"
    }
   ],
   "source": [
    "# Connect to the database and repeat process for question_values\n",
    "conn = connect(param_dic)\n",
    "column_names = [\"id\", \"question_id\", \"label\", \"value\", \"value_end\"]\n",
    "# Execute the \"SELECT *\" query to save question_info as a datafram\n",
    "answer_info_df = postgresql_to_dataframe(conn, \"select * from question_values\", column_names)\n",
    "answer_info_df.head()"
   ]
  },
  {
   "cell_type": "code",
   "execution_count": 8,
   "id": "af1478bd",
   "metadata": {},
   "outputs": [],
   "source": [
    "#determing which columns of user answers (aka relevant answers) to bring over\n",
    "a = question_info_df['label'].values.tolist()\n",
    "b = question_info_df['var_name'].values.tolist()"
   ]
  },
  {
   "cell_type": "code",
   "execution_count": 9,
   "id": "16b6d5df",
   "metadata": {},
   "outputs": [],
   "source": [
    "zip_iterator = zip(b, a)\n",
    "a_dictionary = dict(zip_iterator)"
   ]
  },
  {
   "cell_type": "code",
   "execution_count": 10,
   "id": "1c881e7f",
   "metadata": {},
   "outputs": [
    {
     "name": "stdout",
     "output_type": "stream",
     "text": [
      "_STATE  :  State FIPS Code\n",
      "FMONTH  :  File Month\n",
      "IDATE  :  Interview Date\n",
      "IMONTH  :  Interview Month\n",
      "IDAY  :  Interview Day\n",
      "IYEAR  :  Interview Year\n",
      "DISPCODE  :  Final Disposition\n",
      "SEQNO  :  Annual Sequence Number\n",
      "_PSU  :  Primary Sampling Unit\n",
      "CTELENM1  :  Correct telephone number?\n",
      "PVTRESD1  :  Private Residence?\n",
      "COLGHOUS  :  Do you live in college housing?\n",
      "STATERE1  :  Resident of State\n",
      "CELPHONE  :  Cellular Telephone\n",
      "LADULT1  :  Are you 18 years of age or older?\n",
      "COLGSEX  :  Are you male or female?\n",
      "NUMADULT  :  Number of Adults in Household\n",
      "LANDSEX  :  Are you male or female?\n",
      "NUMMEN  :  Number of Adult men in Household\n",
      "NUMWOMEN  :  Number of Adult women in Household\n",
      "RESPSLCT  :  Respondent selection\n",
      "SAFETIME  :  Safe time to talk\n",
      "CTELNUM1  :  Correct Phone Number?\n",
      "CELLFON5  :  Is this a cell phone?\n",
      "CADULT1  :  Are you 18 years of age or older?\n",
      "CELLSEX  :  Are you male or female?\n",
      "PVTRESD3  :  Do you live in a private residence?\n",
      "CCLGHOUS  :  Do you live in college housing?\n",
      "CSTATE1  :  Do you currently live in  ____(state)____?\n",
      "LANDLINE  :  Do you also have a landline telephone?\n",
      "HHADULT  :  Number of Adults in Household\n",
      "SEXVAR  :  Sex of Respondent\n",
      "GENHLTH  :  General Health\n",
      "PHYSHLTH  :  Number of Days Physical Health Not Good\n",
      "MENTHLTH  :  Number of Days Mental Health Not Good\n",
      "POORHLTH  :  Poor Physical or Mental Health\n",
      "HLTHPLN1  :  Have any health care coverage\n",
      "PERSDOC2  :  Multiple Health Care Professionals\n",
      "MEDCOST  :  Could Not See Doctor Because of Cost\n",
      "CHECKUP1  :  Length of time since last routine checkup\n",
      "BPHIGH4  :  Ever Told Blood Pressure High\n",
      "BPMEDS  :  Currently Taking Blood Pressure Medication\n",
      "CHOLCHK2  :  How Long since Cholesterol Checked\n",
      "TOLDHI2  :  Ever Told Blood Cholesterol High\n",
      "CHOLMED2  :  Currently taking medicine for high cholesterol\n",
      "CVDINFR4  :  Ever Diagnosed with Heart Attack\n",
      "CVDCRHD4  :  Ever Diagnosed with Angina or Coronary Heart Disease\n",
      "CVDSTRK3  :  Ever Diagnosed with a Stroke\n",
      "ASTHMA3  :  Ever Told Had Asthma\n",
      "ASTHNOW  :  Still Have Asthma\n",
      "CHCSCNCR  :  (Ever told) you had skin cancer?\n",
      "CHCOCNCR  :  (Ever told) you had any other types of cancer?\n",
      "CHCCOPD2  :  (Ever told) (you had) chronic obstructive pulmonary disease, C.O.P.D., emphysema or chronic bronchitis?\n",
      "ADDEPEV3  :  (Ever told) you had a depressive disorder\n",
      "CHCKDNY2  :  Ever told you have kidney disease?\n",
      "DIABAGE3  :  Age When Told Had Diabetes\n",
      "ARTHEXER  :  Dr. Suggest Use of Physical Activity or Exercise for Arthritis or Joint Symptoms\n",
      "LMTJOIN3  :  Limited Because of Joint Symptoms\n",
      "JOINPAI2  :  How Bad Was Joint Pain\n",
      "EDUCA  :  Education Level\n",
      "NUMHHOL3  :  Household Telephones\n",
      "CPDEMO1B  :  Do you have a cell phone for personal use?\n",
      "EMPLOY1  :  Employment Status\n",
      "INCOME2  :  Income Level\n",
      "HEIGHT3  :  Reported Height in Feet and Inches\n",
      "DEAF  :  Are you deaf or do you have serious difficulty hearing?\n",
      "DECIDE  :  Difficulty Concentrating or Remembering\n",
      "DIFFDRES  :  Difficulty Dressing or Bathing\n",
      "SMOKE100  :  Smoked at Least 100 Cigarettes\n",
      "STOPSMK2  :  Stopped Smoking in past 12 months\n",
      "USENOW3  :  Use of Smokeless Tobacco Products\n",
      "AVEDRNK3  :  Avg alcoholic drinks per day in past 30\n",
      "MAXDRNKS  :  Most drinks on single occasion past 30 days\n",
      "EXRACT11  :  Type of Physical Activity\n",
      "EXERHMM1  :  Minutes or Hours Walking, Running, Jogging, or Swimming\n",
      "EXEROFT2  :  How Many Times Walking, Running, Jogging, or Swimming\n",
      "STRENGTH  :  How many times did you do physical activities or exercises to STRENGTHEN your muscles?\n",
      "FRUITJU2  :  How many times did you drink 100 percent PURE fruit juices?\n",
      "FRENCHF1  :  How often do you eat french fries or fried potatoes?\n",
      "VEGETAB2  :  How many times did you eat OTHER vegetables?\n",
      "FLSHTMY3  :  When did you receive your most recent seasonal flu shot/spray?\n",
      "PNEUVAC4  :  Pneumonia shot ever\n",
      "HIVTSTD3  :  Month and Year of Last HIV Test\n",
      "PDIABTST  :  Had a test for high blood sugar or diabetes in the past three years?\n",
      "INSULIN1  :  Now Taking Insulin\n",
      "FEETCHK3  :  How Often Check Feet for Sores or Irritations\n",
      "CHKHEMO3  :  Times Checked for Glycosylated Hemoglobin\n",
      "EYEEXAM1  :  Last Eye Exam Where Pupils Were Dilated\n",
      "DIABEDU  :  Ever Taken Class in Managing Diabetes\n",
      "HAVECFS  :  Still have Chronic Fatigue Syndrome or Myalgic Encephalomyelitis\n",
      "TOLDHEPC  :  Told had Hepatitis C\n",
      "PRIRHEPC  :  Were you treated for Hepatitis C prior to 2015\n",
      "HAVEHEPB  :  Told  had hepatitis B\n",
      "HPVADVC3  :  Have you ever had the HPV vaccination?\n",
      "IMFVPLA1  :  Where did you get your last flu shot/vaccine?\n",
      "DIABETE4  :  (Ever told) you had diabetes\n",
      "HAVARTH4  :  Told Had Arthritis\n",
      "ARTHEDU  :  Ever Taken Class in Managing Arthritis or Joint Symptoms\n",
      "ARTHDIS2  :  Does Arthritis Affect Whether You Work\n",
      "MARITAL  :  Marital Status\n",
      "RENTHOM1  :  Own or Rent Home\n",
      "NUMPHON3  :  Residential Phones\n",
      "VETERAN3  :  Are You A Veteran\n",
      "CHILDREN  :  Number of Children in Household\n",
      "WEIGHT2  :  Reported Weight in Pounds\n",
      "PREGNANT  :  Pregnancy Status\n",
      "BLIND  :  Blind or Difficulty seeing\n",
      "DIFFWALK  :  Difficulty Walking or Climbing Stairs\n",
      "DIFFALON  :  Difficulty Doing Errands Alone\n",
      "SMOKDAY2  :  Frequency of Days Now Smoking\n",
      "LASTSMK2  :  Interval Since Last Smoked\n",
      "ALCDAY5  :  Days in past 30 had alcoholic beverage\n",
      "DRNK3GE5  :  Binge Drinking\n",
      "EXERANY2  :  Exercise in Past 30 Days\n",
      "EXEROFT1  :  How Many Times Walking, Running, Jogging, or Swimming\n",
      "EXRACT21  :  Other Type of Physical Activity Giving Most Exercise During Past Month\n",
      "EXERHMM2  :  Minutes or Hours Walking, Running, Jogging, or Swimming\n",
      "FRUIT2  :  How many times did you eat fruit?\n",
      "FVGREEN1  :  How many times did you eat dark green vegetables?\n",
      "POTATOE1  :  How Often Do You Eat Potatoes\n",
      "FLUSHOT7  :  Adult flu shot/spray past 12 mos\n",
      "TETANUS1  :  Received Tetanus Shot Since 2005?\n",
      "HIVTST7  :  Ever tested H.I.V.\n",
      "HIVRISK5  :  Do Any High Risk Situations Apply\n",
      "PREDIAB1  :  Ever been told by a doctor or other health professional that you have pre-diabetes or borderline diabetes?\n",
      "BLDSUGAR  :  How Often Check Blood for Glucose\n",
      "DOCTDIAB  :  Times Seen Health Professional for Diabetes\n",
      "FEETCHK  :  Times Feet Check for Sores/irritations\n",
      "DIABEYE  :  Ever Told Diabetes Has Affected Eyes\n",
      "TOLDCFS  :  Told had Chronic Fatigue Syndrome (CFS) or (Myalgic Encephalomyelitis) ME\n",
      "WORKCFS  :  How many hours a week are you been able to work\n",
      "TRETHEPC  :  Treated for Hepatitis C\n",
      "HAVEHEPC  :  Still have Hepatitis C\n",
      "MEDSHEPB  :  Currently taking medicine for hepatitis B\n",
      "HPVADSHT  :  How many HPV shots did you receive?\n",
      "_FRTRES1  :  Missing any fruit responses\n",
      "SHINGLE2  :  Have you ever had the shingles or zoster vaccine?\n",
      "LCSLAST  :  How old when you last smoked?\n",
      "LCSCTSCN  :  Did you have a CT or CAT scan?\n",
      "HOWLONG  :  How Long since Last Mammogram\n",
      "LASTPAP2  :  How Long Since Last Pap Test\n",
      "HPLSTTST  :  How long since your last HPV test?\n",
      "PCPSAAD3  :  Has a health professional EVER talked with you about the advantages of the PSA test?\n",
      "PCPSARE1  :  Has a doctor EVER recommended that you have a PSA test?\n",
      "PSATIME  :  Time Since Last PSA Test\n",
      "PCPSADE1  :  Why was PSA test done?\n",
      "BLDSTOOL  :  Ever Had Blood Stool Test Using Home Kit\n",
      "HADSIGM3  :  Ever Had Sigmoidoscopy/Colonoscopy\n",
      "LASTSIG3  :  Time Since Last Sigmoidoscopy/Colonoscopy\n",
      "CNCRAGE  :  Age Told Had Cancer\n",
      "CSRVTRT3  :  Currently Receiving Treatment for Cancer\n",
      "CSRVSUM  :  Did You Receive a Summary of Cancer Treatments Received\n",
      "CSRVINST  :  Instructions Written or Printed\n",
      "CSRVDEIN  :  Ever Denied Insurance Coverage Because Of Your Cancer?\n",
      "CSRVPAIN  :  Currently Have Physical Pain From Cancer Or Treatment?\n",
      "HLTHCVR1  :  Primary Health Insurance Coverage\n",
      "HOMBPCHK  :  Told check blood pressure at home\n",
      "WHEREBP  :  Where do you get blood pressure taken\n",
      "WTCHSALT  :  Watching Sodium or Salt Intake\n",
      "INDORTAN  :  Times used an indoor tanning device\n",
      "SUNPRTCT  :  How often protect yourself from the sun\n",
      "WKENDOUT  :  How often outside on weekends\n",
      "CDHOUSE  :  Given up day-to-day chores due to confusion or memory loss\n",
      "CDHELP  :  When you need help with day-to-day activities are you able to get it\n",
      "CDDISCUS  :  Have you discussed your confusion or memory loss with a health care professional?\n",
      "CRGVREL3  :  Relationship Of Person To Whom You Are Giving Care?\n",
      "CRGVHRS1  :  How Many Hours Do You Provide Care For Person?\n",
      "CRGVALZD  :  Does Person Being Cared For Have Alzheimer´s Disease?\n",
      "CRGVHOU1  :  Managed household tasks\n",
      "ACEDEPRS  :  Live With Anyone Depressed, Mentally Ill, Or Suicidal?\n",
      "ACEDRUGS  :  Live With Anyone Who Used Illegal Drugs or Abused Prescriptions?\n",
      "ACEDIVRC  :  Were Your Parents Divorced/Seperated?\n",
      "ACEHURT1  :  How Often Did A Parent Physically Hurt You In Any Way?\n",
      "ACETOUCH  :  How Often Did Anyone Ever Touch You Sexually?\n",
      "ACEHVSEX  :  How Often Did Anyone Ever Force You to Have Sex?\n",
      "TYPCNTR8  :  What did you do to keep you from getting pregnant?\n",
      "ASBIALCH  :  Asked during checkup if you drink alchohol\n",
      "ASBIBING  :  Asked whether you drank [5 FOR MEN /4 FOR WOMEN] or more alcoholic drinks on an occasion?\n",
      "ASBIRDUC  :  Were you advised to reduce or quit your drinking?\n",
      "LCSFIRST  :  How old when you first started smoking?\n",
      "LCSNUMCG  :  On average, how many cigarettes do you smoke each day?\n",
      "HADMAM  :  Have You Ever Had a Mammogram\n",
      "HADPAP2  :  Ever Had a Pap Test\n",
      "HPVTEST  :  Have you ever had an HPV test?\n",
      "HADHYST2  :  Had Hysterectomy\n",
      "PCPSADI1  :  Has a health professional EVER talked with you about the disadvantages of the PSA test?\n",
      "PSATEST1  :  Ever Had PSA Test\n",
      "PCPSARS1  :  What was the MAIN reason you had this PSA test?\n",
      "PCDMDEC1  :  Who made the decision with you to have PSA test?\n",
      "LSTBLDS3  :  Time Since Last Blood Stool Test\n",
      "HADSGCO1  :  Was your last test a sigmoidoscopy or colonoscopy?\n",
      "CNCRDIFF  :  How Many Types of Cancer?\n",
      "CNCRTYP1  :  Type of Cancer\n",
      "CSRVDOC1  :  What Type of Doctor Provides Majority of Your Care\n",
      "CSRVRTRN  :  Ever Receive Instructions From A Doctor For Follow-Up Check-Ups\n",
      "CSRVINSR  :  Did Health Insurance Pay For All Of Your Cancer Treatment\n",
      "CSRVCLIN  :  Participate In Clinical Trial As Part Of Cancer Treatment?\n",
      "CSRVCTL2  :  Is Pain Under Control?\n",
      "ASPIRIN  :  How often do you take an aspirin\n",
      "HOMRGCHK  :  Regularly check blood pressure at home\n",
      "SHAREBP  :  How do you share your blood pressure numbers\n",
      "DRADVISE  :  Doctor Advised Reduced Sodium/Salt Intake\n",
      "NUMBURN3  :  Number Of Sunburns In Past 12 Months\n",
      "WKDAYOUT  :  How often outside on weekdays\n",
      "CIMEMLOS  :  Have you experienced confusion or memory loss that is happening more often or is getting worse?\n",
      "CDASSIST  :  Need assistance with day-to_day activities due to confusion or memory loss\n",
      "CDSOCIAL  :  Does confusion or memory loss interfere with work or social activities\n",
      "CAREGIV1  :  Provided regular care for family or friend\n",
      "CRGVLNG1  :  How Long Provided Care For Person.\n",
      "CRGVPRB3  :  What Is The Major Health Problem, Illness, Disability For Care For Person?\n",
      "CRGVPER1  :  Managed personal care\n",
      "CRGVEXPT  :  Do you expect to have a relative you will need to provide care for?\n",
      "ACEDRINK  :  Live With a Problem Drinker/Alcoholic?\n",
      "ACEPRISN  :  Live With Anyone Who Served TIme in Prison or Jail?\n",
      "ACEPUNCH  :  How Often Did Your Parents Beat Each Other Up?\n",
      "ACESWEAR  :  How Often Did A Parent Swear At You?\n",
      "ACETTHEM  :  How Often Did Anyone Make You Touch Them Sexually?\n",
      "PFPPRVN3  :  Did you do anything to keep from getting pregnant?\n",
      "NOBCUSE7  :  What was main reason for not doing anything to keep you from getting pregnant?\n",
      "ASBIDRNK  :  Asked in person or by form how much you drink?\n",
      "ASBIADVC  :  Offered advice about what level of drinking is harmful or risky?\n",
      "MARIJAN1  :  During the past 30 days, on how many days did you use marijuana or hashish?\n",
      "RSNMRJN1  :  What was the reason you used marijuana?\n",
      "BIRTHSEX  :  Are you male or female?\n",
      "SOFEMALE  :  Sexual orientation\n",
      "RCSGENDR  :  Gender of child\n",
      "CASTHDX2  :  Hlth pro ever said child has asthma\n",
      "QSTVER  :  Questionnaire Version Identifier\n",
      "_METSTAT  :  Metropolitan Status\n",
      "MSCODE  :  Metropolitan Status Code\n",
      "_STRWT  :  Stratum weight\n",
      "_WT2RAKE  :  Design weight use in raking\n",
      "_CHISPNC  :  Child Hispanic, Latino/a, or Spanish origin calculated variable\n",
      "_CPRACE  :  Preferred Child Race Categories\n",
      "_DUALUSE  :  Dual Phone Use Categories\n",
      "_LLCPWT2  :  Truncated design weight used in adult combined land line and cell phone raking\n",
      "_RFHLTH  :  Adults with good or better health\n",
      "_MENT14D  :  Computed Mental Health Status\n",
      "_RFHYPE5  :  High Blood Pressure Calculated Variable\n",
      "_RFCHOL2  :  High Cholesterol Calculated Variable\n",
      "_LTASTH1  :  Lifetime Asthma Calculated Variable\n",
      "_ASTHMS1  :  Computed Asthma Status\n",
      "_LMTACT2  :  Limited usual activities\n",
      "_PRACE1  :  Computed Preferred Race\n",
      "_HISPANC  :  Hispanic, Latino/a, or Spanish origin calculated variable\n",
      "_RACEG21  :  Create Computed Non-Hispanic Whites/All Others Race Categories Race/Ethnic Group Codes Used In Post-Stratification Variable\n",
      "_RACE_G1  :  Computed race groups used for internet prevalence tables\n",
      "_AGEG5YR  :  Reported age in five-year age categories calculated variable\n",
      "_AGE80  :  Imputed Age value collapsed above 80\n",
      "HTIN4  :  Computed Height in Inches\n",
      "WTKG3  :  Computed Weight in Kilograms\n",
      "_BMI5CAT  :  Computed body mass index categories\n",
      "_CHLDCNT  :  Computed number of children in household\n",
      "_INCOMG  :  Computed income categories\n",
      "_RFSMOK3  :  Current Smoking Calculated Variable\n",
      "DROCDY3_  :  Computed drink-occasions-per-day\n",
      "_DRNKWK1  :  Computed number of drinks of alcohol beverages per week\n",
      "_TOTINDA  :  Leisure Time Physical Activity Calculated Variable\n",
      "METVL21_  :  Activity MET Value for Second Activity\n",
      "FC601_  :  Estimated Functional Capacity\n",
      "ACTIN22_  :  Estimated Activity Intensity for Second Activity\n",
      "PADUR2_  :  Minutes of Second Activity\n",
      "PAFREQ2_  :  Physical Activity Frequency per Week for Second Activity\n",
      "_MINAC21  :  Minutes of Physical Activity per week for Second Activity\n",
      "PAMISS2_  :  Missing Physical Activity Data\n",
      "PAMIN22_  :  Minutes of Physical Activity per week for Second Activity\n",
      "PAVIG12_  :  Minutes of Vigorous Physical Activity per week for First Activity\n",
      "PA2VIGM_  :  Minutes of total Vigorous Physical Activity per week\n",
      "_PAINDX2  :  Physical Activity Index\n",
      "_PA300R3  :  300 Minute Physical Activity Calculated Variable\n",
      "_PASTRNG  :  Muscle Strengthening Recommendation\n",
      "_PASTAE2  :  Aerobic and Strengthening (2-level)\n",
      "FRUTDA2_  :  Computed Fruit intake in times per day\n",
      "FRNCHDA_  :  Computed French Fry intake in times per day\n",
      "VEGEDA2_  :  Computed Other Vegetable intake in times per  day\n",
      "_MISVEG1  :  The number of missing vegetable responses\n",
      "_VEGRES1  :  Missing any vegetable responses\n",
      "_VEGESU1  :  Total vegetables consumed per day\n",
      "_VEGLT1A  :  Consume Vegetables 1 or more times per day\n",
      "_VEG23A  :  Reported consuming Vegetables >23 per day\n",
      "USEMRJN2  :  During the past 30 days, how did you primarily use marijuana?\n",
      "FOODSTMP  :  In the past 12 months have you received food stamps\n",
      "SOMALE  :  Sexual orientation\n",
      "TRNSGNDR  :  Do you consider yourself to be transgender?\n",
      "RCSRLTN2  :  Relationship to child\n",
      "CASTHNO2  :  Child still have asthma?\n",
      "QSTLANG  :  Language identifier\n",
      "_URBSTAT  :  Urban/Rural Status\n",
      "_STSTR  :  Sample Design Stratification Variable\n",
      "_RAWRAKE  :  Raw weighting factor used in raking\n",
      "_IMPRACE  :  Imputed race/ethnicity value\n",
      "_CRACE1  :  Child Non-Hispanic Race including Multiracial\n",
      "_CLLCPWT  :  Final child weight: Land-line and Cell-Phone data\n",
      "_DUALCOR  :  Dual Phone Use Correction Factor\n",
      "_LLCPWT  :  Final weight: Land-line and cell-phone data\n",
      "_PHYS14D  :  Computed Physical Health Status\n",
      "_HCVU651  :  Respondents aged 18-64 with health care coverage\n",
      "_CHOLCH2  :  Cholesterol Checked Calculated Variable\n",
      "_MICHD  :  Ever had CHD or MI\n",
      "_CASTHM1  :  Current Asthma Calculated Variable\n",
      "_DRDXAR2  :  Respondents diagnosed with arthritis\n",
      "_LMTWRK2  :  Limited work activities\n",
      "_MRACE1  :  Calculated non-Hispanic Race including multiracial\n",
      "_RACE  :  Computed Race-Ethnicity grouping\n",
      "_RACEGR3  :  Computed Five level race/ethnicity category.\n",
      "_SEX  :  Calculated sex variable\n",
      "_AGE65YR  :  Reported age in two age groups calculated variable\n",
      "_AGE_G  :  Imputed age in six groups\n",
      "HTM4  :  Computed Height in Meters\n",
      "_BMI5  :  Computed body mass index\n",
      "_RFBMI5  :  Overweight or obese calculated variable\n",
      "_EDUCAG  :  Computed level of education completed categories\n",
      "_SMOKER3  :  Computed Smoking Status\n",
      "DRNKANY5  :  Drink any alcoholic beverages in past 30 days\n",
      "_RFBING5  :  Binge Drinking Calculated Variable\n",
      "_RFDRHV7  :  Heavy Alcohol Consumption  Calculated Variable\n",
      "METVL11_  :  Activity MET Value for First Activity\n",
      "MAXVO21_  :  Estimated Age-Gender Specific Maximum Oxygen Consumption\n",
      "ACTIN12_  :  Estimated Activity Intensity for First Activity\n",
      "PADUR1_  :  Minutes of First Activity\n",
      "PAFREQ1_  :  Physical Activity Frequency per Week for First Activity\n",
      "_MINAC11  :  Minutes of Physical Activity per week for First Activity\n",
      "STRFREQ_  :  Strength Activity Frequency per Week\n",
      "PAMIN12_  :  Minutes of Physical Activity per week for First Activity\n",
      "PA2MIN_  :  Minutes of total Physical Activity per week\n",
      "PAVIG22_  :  Minutes of Vigorous Physical Activity per week for Second Activity\n",
      "_PACAT2  :  Physical Activity Categories\n",
      "_PA150R3  :  150 Minute Physical Activity Calculated Variable\n",
      "_PA30022  :  300 Minute Physical Activity 2-Level Calculated Variable\n",
      "_PAREC2  :  Aerobic and Strengthening Guideline\n",
      "FTJUDA2_  :  Computed Fruit Juice intake in times per day\n",
      "GRENDA1_  :  Computed Dark Green Vegetable intake in times per day\n",
      "POTADA1_  :  Computed Potato Servings per day\n",
      "_MISFRT1  :  The number of missing fruit responses\n",
      "_FRUTSU1  :  Total fruits consumed per day\n",
      "_FRTLT1A  :  Consume Fruit 1 or more times per day\n",
      "_FRT16A  :  Reported consuming Fruit >16 per day\n",
      "_FRUITE1  :  Fruit Exclusion from analyses\n",
      "_FLSHOT7  :  Flu Shot Calculated Variable\n",
      "_AIDTST4  :  Ever been tested for HIV calculated variable\n",
      "_VEGETE1  :  Vegetable Exclusion from analyses\n",
      "_PNEUMO3  :  Pneumonia Vaccination Calculated Variable\n"
     ]
    }
   ],
   "source": [
    "for key, value in a_dictionary.items():\n",
    "    print(key, ' : ', value)"
   ]
  },
  {
   "cell_type": "code",
   "execution_count": 398,
   "id": "682ae889",
   "metadata": {},
   "outputs": [],
   "source": [
    "#select columns to include from list above for health behaviour features predicting general, mental and physical health\n",
    "columns = [\"id\", \"GENHLTH\", \"PHYSHLTH\", \"MENTHLTH\", \"POORHLTH\", \"EXRACT11\", \"PAFREQ1_\", \"_MINAC11\", \"ACTIN12_\", \"EXRACT21\", \"PAFREQ2_\", \"_MINAC21\", \"ACTIN22_\",  \"STRFREQ_\", \"PA2MIN_\", \"_METSTAT\", \"_URBSTAT\", \"HTIN4\", \"WTKG3\", \"_BMI5\", \"_SMOKER3\", \"_DRNKWK1\", \"FC601_\", \"FTJUDA2_\",  \"GRENDA1_\", \"VEGEDA2_\", \"POTADA1_\", \"FRNCHDA_\", \"_FRUTSU1\", \"_FRUTSU1\", \"_VEGESU1\", \"_PAINDX2\", \"_PASTRNG\"]                 "
   ]
  },
  {
   "cell_type": "code",
   "execution_count": 399,
   "id": "ddb8d7ae",
   "metadata": {},
   "outputs": [
    {
     "name": "stdout",
     "output_type": "stream",
     "text": [
      "Connecting to the PostgreSQL database...\n",
      "Connection successful\n"
     ]
    }
   ],
   "source": [
    "# Connect to the database and repeat process for user_answers: limit of 500\n",
    "conn = connect(param_dic)\n",
    "column_names = columns\n",
    "# Execute the \"SELECT *\" query to save question_info as a datafram\n",
    "health_behaviour_df = postgresql_to_dataframe(conn, f\"select id, GENHLTH, PHYSHLTH, MENTHLTH, POORHLTH, EXRACT11, PAFREQ1_, _MINAC11, ACTIN12_, EXRACT21, PAFREQ2_, _MINAC21, ACTIN22_,  STRFREQ_, PA2MIN_, _METSTAT, _URBSTAT, HTIN4, WTKG3, _BMI5, _SMOKER3, _DRNKWK1, FC601_, FTJUDA2_,  GRENDA1_, VEGEDA2_, POTADA1_, FRNCHDA_, _FRUTSU1, _FRUTSU1, _VEGESU1,  _PAINDX2, _PASTRNG from user_answers limit 500\", column_names)\n"
   ]
  },
  {
   "cell_type": "code",
   "execution_count": 400,
   "id": "86d58daf",
   "metadata": {},
   "outputs": [
    {
     "data": {
      "text/html": [
       "<div>\n",
       "<style scoped>\n",
       "    .dataframe tbody tr th:only-of-type {\n",
       "        vertical-align: middle;\n",
       "    }\n",
       "\n",
       "    .dataframe tbody tr th {\n",
       "        vertical-align: top;\n",
       "    }\n",
       "\n",
       "    .dataframe thead th {\n",
       "        text-align: right;\n",
       "    }\n",
       "</style>\n",
       "<table border=\"1\" class=\"dataframe\">\n",
       "  <thead>\n",
       "    <tr style=\"text-align: right;\">\n",
       "      <th></th>\n",
       "      <th>id</th>\n",
       "      <th>GENHLTH</th>\n",
       "      <th>PHYSHLTH</th>\n",
       "      <th>MENTHLTH</th>\n",
       "      <th>POORHLTH</th>\n",
       "      <th>EXRACT11</th>\n",
       "      <th>PAFREQ1_</th>\n",
       "      <th>_MINAC11</th>\n",
       "      <th>ACTIN12_</th>\n",
       "      <th>EXRACT21</th>\n",
       "      <th>...</th>\n",
       "      <th>FTJUDA2_</th>\n",
       "      <th>GRENDA1_</th>\n",
       "      <th>VEGEDA2_</th>\n",
       "      <th>POTADA1_</th>\n",
       "      <th>FRNCHDA_</th>\n",
       "      <th>_FRUTSU1</th>\n",
       "      <th>_FRUTSU1</th>\n",
       "      <th>_VEGESU1</th>\n",
       "      <th>_PAINDX2</th>\n",
       "      <th>_PASTRNG</th>\n",
       "    </tr>\n",
       "  </thead>\n",
       "  <tbody>\n",
       "    <tr>\n",
       "      <th>0</th>\n",
       "      <td>137083</td>\n",
       "      <td>3.0</td>\n",
       "      <td>5.0</td>\n",
       "      <td>30.0</td>\n",
       "      <td>5.0</td>\n",
       "      <td>14.0</td>\n",
       "      <td>233.0</td>\n",
       "      <td>56.0</td>\n",
       "      <td>2.0</td>\n",
       "      <td>38.0</td>\n",
       "      <td>...</td>\n",
       "      <td>7.0</td>\n",
       "      <td>3.0</td>\n",
       "      <td>100.0</td>\n",
       "      <td>43.0</td>\n",
       "      <td>50.0</td>\n",
       "      <td>50.0</td>\n",
       "      <td>50.0</td>\n",
       "      <td>196.0</td>\n",
       "      <td>1.0</td>\n",
       "      <td>1.0</td>\n",
       "    </tr>\n",
       "    <tr>\n",
       "      <th>1</th>\n",
       "      <td>137084</td>\n",
       "      <td>3.0</td>\n",
       "      <td>30.0</td>\n",
       "      <td>88.0</td>\n",
       "      <td>30.0</td>\n",
       "      <td>None</td>\n",
       "      <td>None</td>\n",
       "      <td>None</td>\n",
       "      <td>None</td>\n",
       "      <td>None</td>\n",
       "      <td>...</td>\n",
       "      <td>0.0</td>\n",
       "      <td>43.0</td>\n",
       "      <td>100.0</td>\n",
       "      <td>57.0</td>\n",
       "      <td>29.0</td>\n",
       "      <td>100.0</td>\n",
       "      <td>100.0</td>\n",
       "      <td>229.0</td>\n",
       "      <td>2.0</td>\n",
       "      <td>2.0</td>\n",
       "    </tr>\n",
       "    <tr>\n",
       "      <th>2</th>\n",
       "      <td>137085</td>\n",
       "      <td>1.0</td>\n",
       "      <td>77.0</td>\n",
       "      <td>88.0</td>\n",
       "      <td>88.0</td>\n",
       "      <td>None</td>\n",
       "      <td>None</td>\n",
       "      <td>None</td>\n",
       "      <td>None</td>\n",
       "      <td>None</td>\n",
       "      <td>...</td>\n",
       "      <td>0.0</td>\n",
       "      <td>0.0</td>\n",
       "      <td>100.0</td>\n",
       "      <td>0.0</td>\n",
       "      <td>43.0</td>\n",
       "      <td>100.0</td>\n",
       "      <td>100.0</td>\n",
       "      <td>143.0</td>\n",
       "      <td>9.0</td>\n",
       "      <td>2.0</td>\n",
       "    </tr>\n",
       "    <tr>\n",
       "      <th>3</th>\n",
       "      <td>137086</td>\n",
       "      <td>4.0</td>\n",
       "      <td>30.0</td>\n",
       "      <td>30.0</td>\n",
       "      <td>30.0</td>\n",
       "      <td>None</td>\n",
       "      <td>None</td>\n",
       "      <td>None</td>\n",
       "      <td>None</td>\n",
       "      <td>None</td>\n",
       "      <td>...</td>\n",
       "      <td>43.0</td>\n",
       "      <td>29.0</td>\n",
       "      <td>57.0</td>\n",
       "      <td>0.0</td>\n",
       "      <td>57.0</td>\n",
       "      <td>86.0</td>\n",
       "      <td>86.0</td>\n",
       "      <td>143.0</td>\n",
       "      <td>2.0</td>\n",
       "      <td>1.0</td>\n",
       "    </tr>\n",
       "    <tr>\n",
       "      <th>4</th>\n",
       "      <td>137087</td>\n",
       "      <td>1.0</td>\n",
       "      <td>88.0</td>\n",
       "      <td>88.0</td>\n",
       "      <td>None</td>\n",
       "      <td>64.0</td>\n",
       "      <td>None</td>\n",
       "      <td>None</td>\n",
       "      <td>1.0</td>\n",
       "      <td>88.0</td>\n",
       "      <td>...</td>\n",
       "      <td>2.0</td>\n",
       "      <td>0.0</td>\n",
       "      <td>0.0</td>\n",
       "      <td>14.0</td>\n",
       "      <td>100.0</td>\n",
       "      <td>31.0</td>\n",
       "      <td>31.0</td>\n",
       "      <td>114.0</td>\n",
       "      <td>9.0</td>\n",
       "      <td>2.0</td>\n",
       "    </tr>\n",
       "  </tbody>\n",
       "</table>\n",
       "<p>5 rows × 33 columns</p>\n",
       "</div>"
      ],
      "text/plain": [
       "       id GENHLTH PHYSHLTH MENTHLTH POORHLTH EXRACT11 PAFREQ1_ _MINAC11  \\\n",
       "0  137083     3.0      5.0     30.0      5.0     14.0    233.0     56.0   \n",
       "1  137084     3.0     30.0     88.0     30.0     None     None     None   \n",
       "2  137085     1.0     77.0     88.0     88.0     None     None     None   \n",
       "3  137086     4.0     30.0     30.0     30.0     None     None     None   \n",
       "4  137087     1.0     88.0     88.0     None     64.0     None     None   \n",
       "\n",
       "  ACTIN12_ EXRACT21  ... FTJUDA2_ GRENDA1_ VEGEDA2_ POTADA1_ FRNCHDA_  \\\n",
       "0      2.0     38.0  ...      7.0      3.0    100.0     43.0     50.0   \n",
       "1     None     None  ...      0.0     43.0    100.0     57.0     29.0   \n",
       "2     None     None  ...      0.0      0.0    100.0      0.0     43.0   \n",
       "3     None     None  ...     43.0     29.0     57.0      0.0     57.0   \n",
       "4      1.0     88.0  ...      2.0      0.0      0.0     14.0    100.0   \n",
       "\n",
       "  _FRUTSU1 _FRUTSU1 _VEGESU1 _PAINDX2 _PASTRNG  \n",
       "0     50.0     50.0    196.0      1.0      1.0  \n",
       "1    100.0    100.0    229.0      2.0      2.0  \n",
       "2    100.0    100.0    143.0      9.0      2.0  \n",
       "3     86.0     86.0    143.0      2.0      1.0  \n",
       "4     31.0     31.0    114.0      9.0      2.0  \n",
       "\n",
       "[5 rows x 33 columns]"
      ]
     },
     "execution_count": 400,
     "metadata": {},
     "output_type": "execute_result"
    }
   ],
   "source": [
    "health_behaviour_df.head()"
   ]
  },
  {
   "cell_type": "code",
   "execution_count": 401,
   "id": "391c49e4",
   "metadata": {},
   "outputs": [],
   "source": [
    "#filling blank spaces with NaN\n",
    "health_behaviour_df = health_behaviour_df.fillna(value=np.nan)"
   ]
  },
  {
   "cell_type": "code",
   "execution_count": 402,
   "id": "54ca6b29",
   "metadata": {},
   "outputs": [
    {
     "name": "stdout",
     "output_type": "stream",
     "text": [
      "id            0\n",
      "GENHLTH       0\n",
      "PHYSHLTH      0\n",
      "MENTHLTH      0\n",
      "POORHLTH    194\n",
      "EXRACT11    140\n",
      "PAFREQ1_    280\n",
      "_MINAC11    278\n",
      "ACTIN12_    144\n",
      "EXRACT21    142\n",
      "PAFREQ2_    280\n",
      "_MINAC21    157\n",
      "ACTIN22_    152\n",
      "STRFREQ_     21\n",
      "PA2MIN_     160\n",
      "_METSTAT      0\n",
      "_URBSTAT      0\n",
      "HTIN4         8\n",
      "WTKG3        32\n",
      "_BMI5        39\n",
      "_SMOKER3      0\n",
      "_DRNKWK1      0\n",
      "FC601_        0\n",
      "FTJUDA2_     24\n",
      "GRENDA1_     25\n",
      "VEGEDA2_     30\n",
      "POTADA1_     28\n",
      "FRNCHDA_     26\n",
      "_FRUTSU1     38\n",
      "_FRUTSU1     38\n",
      "_VEGESU1     40\n",
      "_PAINDX2      0\n",
      "_PASTRNG      0\n",
      "dtype: int64\n"
     ]
    }
   ],
   "source": [
    "print(health_behaviour_df.isnull().sum())"
   ]
  },
  {
   "cell_type": "markdown",
   "id": "59a9693a",
   "metadata": {},
   "source": [
    "## TODO: go through features and correct poorly coded values (e.g. 9999 = no answer)\n",
    "clean up DF for null values\n",
    "clean up poorly encoded variables"
   ]
  },
  {
   "cell_type": "markdown",
   "id": "c155bbf7",
   "metadata": {},
   "source": [
    "### GENHLTH \n",
    "#### question: Would you say that in general your health is:\n",
    "\n",
    "Answers currently coded as : \n",
    "   - 1: Excellent\n",
    "   - 2: Very Good\n",
    "   - 3: Good\n",
    "   - 4: Fair\n",
    "   - 5: Poor\n",
    "   - 7: Don't know/Not Sure\n",
    "   - 9: Refused\n",
    "   - BLANK: Not asked or Missing\n",
    "   \n",
    "Recode to: \n",
    "   - Nan: Don't know/Not Sure\n",
    "   - Nan: Refused\n",
    "   - BLANK: Not asked or Missing \n",
    "   - 1: Poor\n",
    "   - 2: Fair\n",
    "   - 3: Good\n",
    "   - 4: Very Good\n",
    "   - 5: Excellent\n",
    "   "
   ]
  },
  {
   "cell_type": "code",
   "execution_count": 420,
   "id": "684af821",
   "metadata": {},
   "outputs": [
    {
     "data": {
      "text/plain": [
       "0     3.0\n",
       "1     3.0\n",
       "2     1.0\n",
       "3     4.0\n",
       "4     1.0\n",
       "5     3.0\n",
       "6     2.0\n",
       "7     1.0\n",
       "8     1.0\n",
       "9     2.0\n",
       "10    2.0\n",
       "11    4.0\n",
       "12    4.0\n",
       "13    3.0\n",
       "14    3.0\n",
       "15    3.0\n",
       "16    3.0\n",
       "17    4.0\n",
       "18    3.0\n",
       "19    3.0\n",
       "Name: GENHLTH, dtype: object"
      ]
     },
     "execution_count": 420,
     "metadata": {},
     "output_type": "execute_result"
    }
   ],
   "source": [
    "#print out original gen health values for reference and check data type\n",
    "health_behaviour_df['GENHLTH'].head(20)"
   ]
  },
  {
   "cell_type": "code",
   "execution_count": 403,
   "id": "c002b187",
   "metadata": {},
   "outputs": [],
   "source": [
    "#Make a copy of health_behaviour_df to perform value recoding on\n",
    "recoded_health_behaviour_df = health_behaviour_df.copy()"
   ]
  },
  {
   "cell_type": "code",
   "execution_count": 356,
   "id": "b2f8d9e6",
   "metadata": {},
   "outputs": [
    {
     "data": {
      "text/plain": [
       "dtype('int32')"
      ]
     },
     "execution_count": 356,
     "metadata": {},
     "output_type": "execute_result"
    }
   ],
   "source": [
    "#convert column to int\n",
    "recoded_health_behaviour_df.GENHLTH = pd.to_numeric(recoded_health_behaviour_df.GENHLTH).astype(int)\n",
    "recoded_health_behaviour_df['GENHLTH'].dtypes"
   ]
  },
  {
   "cell_type": "code",
   "execution_count": 357,
   "id": "a9eeda23",
   "metadata": {},
   "outputs": [],
   "source": [
    "#recode GENHLTH values to new coding scheme described above\n",
    "recoded_health_behaviour_df.loc[health_behaviour_df.GENHLTH == 1., \"GENHLTH\"] = 5\n",
    "recoded_health_behaviour_df.loc[health_behaviour_df.GENHLTH == 2., \"GENHLTH\"] = 4\n",
    "recoded_health_behaviour_df.loc[health_behaviour_df.GENHLTH == 3., \"GENHLTH\"] = 3\n",
    "recoded_health_behaviour_df.loc[health_behaviour_df.GENHLTH == 4., \"GENHLTH\"] = 2\n",
    "recoded_health_behaviour_df.loc[health_behaviour_df.GENHLTH == 5., \"GENHLTH\"] = 1\n",
    "recoded_health_behaviour_df.loc[health_behaviour_df.GENHLTH == 7., \"GENHLTH\"] = np.NaN\n",
    "recoded_health_behaviour_df.loc[health_behaviour_df.GENHLTH == 9., \"GENHLTH\"] = np.NaN"
   ]
  },
  {
   "cell_type": "code",
   "execution_count": 421,
   "id": "aa54a16f",
   "metadata": {},
   "outputs": [],
   "source": [
    "recoded_health_behaviour_df.GENHLTH = pd.to_numeric(recoded_health_behaviour_df.GENHLTH).astype('Int32')"
   ]
  },
  {
   "cell_type": "code",
   "execution_count": 422,
   "id": "660b0079",
   "metadata": {},
   "outputs": [
    {
     "data": {
      "text/plain": [
       "0     3\n",
       "1     3\n",
       "2     1\n",
       "3     4\n",
       "4     1\n",
       "5     3\n",
       "6     2\n",
       "7     1\n",
       "8     1\n",
       "9     2\n",
       "10    2\n",
       "11    4\n",
       "12    4\n",
       "13    3\n",
       "14    3\n",
       "15    3\n",
       "16    3\n",
       "17    4\n",
       "18    3\n",
       "19    3\n",
       "Name: GENHLTH, dtype: Int32"
      ]
     },
     "execution_count": 422,
     "metadata": {},
     "output_type": "execute_result"
    }
   ],
   "source": [
    "#print to confirm values were recoded correctly\n",
    "recoded_health_behaviour_df['GENHLTH'].head(20)"
   ]
  },
  {
   "cell_type": "code",
   "execution_count": 397,
   "id": "f34459f2",
   "metadata": {},
   "outputs": [
    {
     "name": "stdout",
     "output_type": "stream",
     "text": [
      "id             0\n",
      "GENHLTH        0\n",
      "PHYSHLTH       0\n",
      "MENTHLTH       0\n",
      "POORHLTH     204\n",
      "EXRACT11     164\n",
      "PAFREQ1_     339\n",
      "_MINAC11     336\n",
      "ACTIN12_     169\n",
      "EXRACT21     171\n",
      "PAFREQ2_     339\n",
      "_MINAC21     185\n",
      "ACTIN22_     180\n",
      "STRFREQ_      28\n",
      "PA2MIN_      189\n",
      "_METSTAT       0\n",
      "_URBSTAT       0\n",
      "HTIN4          5\n",
      "WTKG3         17\n",
      "_BMI5         21\n",
      "_SMOKER3       0\n",
      "_DRNKWK1       0\n",
      "FC601_         0\n",
      "FTJUDA2_      33\n",
      "GRENDA1_      32\n",
      "VEGEDA2_      39\n",
      "POTADA1_      45\n",
      "FRNCHDA_      37\n",
      "_FRUTSU1      37\n",
      "_FRUTSU1      37\n",
      "_VEGESU1      55\n",
      " _PAINDX2      0\n",
      "_PASTRNG       0\n",
      "dtype: int64\n"
     ]
    }
   ],
   "source": [
    "print(recoded_health_behaviour_df.isnull().sum())"
   ]
  },
  {
   "cell_type": "markdown",
   "id": "c2b745b0",
   "metadata": {},
   "source": [
    "### PA2MIN_\n",
    "#### Question:  Minutes of total Physical Activity per week\n",
    "Originally coded as: \n",
    "- 0-99999: Minutes of Activity per week\n",
    "- BLANK: not asked or missing\n",
    "    "
   ]
  },
  {
   "cell_type": "code",
   "execution_count": 418,
   "id": "9d73d084",
   "metadata": {},
   "outputs": [
    {
     "data": {
      "text/plain": [
       "0      224.0\n",
       "1        NaN\n",
       "2        NaN\n",
       "3        NaN\n",
       "4        0.0\n",
       "5        NaN\n",
       "6      182.0\n",
       "7        0.0\n",
       "8      120.0\n",
       "9     1890.0\n",
       "10       NaN\n",
       "11       0.0\n",
       "12     180.0\n",
       "13       NaN\n",
       "14     252.0\n",
       "15       0.0\n",
       "16       0.0\n",
       "17     588.0\n",
       "18       NaN\n",
       "19      64.0\n",
       "Name: PA2MIN_, dtype: object"
      ]
     },
     "execution_count": 418,
     "metadata": {},
     "output_type": "execute_result"
    }
   ],
   "source": [
    "#checking column values\n",
    "recoded_health_behaviour_df['PA2MIN_'].head(20)"
   ]
  },
  {
   "cell_type": "code",
   "execution_count": 368,
   "id": "8e0b10da",
   "metadata": {},
   "outputs": [
    {
     "data": {
      "text/plain": [
       "Int32Dtype()"
      ]
     },
     "execution_count": 368,
     "metadata": {},
     "output_type": "execute_result"
    }
   ],
   "source": [
    "recoded_health_behaviour_df.PA2MIN_ = pd.to_numeric(recoded_health_behaviour_df.PA2MIN_).astype('Int32')\n",
    "recoded_health_behaviour_df['PA2MIN_'].dtypes"
   ]
  },
  {
   "cell_type": "code",
   "execution_count": 417,
   "id": "778c27c4",
   "metadata": {},
   "outputs": [
    {
     "data": {
      "text/plain": [
       "0      224.0\n",
       "1        NaN\n",
       "2        NaN\n",
       "3        NaN\n",
       "4        0.0\n",
       "5        NaN\n",
       "6      182.0\n",
       "7        0.0\n",
       "8      120.0\n",
       "9     1890.0\n",
       "10       NaN\n",
       "11       0.0\n",
       "12     180.0\n",
       "13       NaN\n",
       "14     252.0\n",
       "15       0.0\n",
       "16       0.0\n",
       "17     588.0\n",
       "18       NaN\n",
       "19      64.0\n",
       "Name: PA2MIN_, dtype: object"
      ]
     },
     "execution_count": 417,
     "metadata": {},
     "output_type": "execute_result"
    }
   ],
   "source": [
    "recoded_health_behaviour_df['PA2MIN_'].head(20)"
   ]
  },
  {
   "cell_type": "markdown",
   "id": "6111f330",
   "metadata": {},
   "source": [
    "### PHYSHLTH\n",
    "#### Question:  Now thinking about your physical health, which includes physical illness and injury, for how many days during the past 30 days was your physical health not good?\n",
    "Answers originally coded as: \n",
    "- 1-30: Number of Days, numeric\n",
    "- 88: None\n",
    "- 77: Don't know/Not sure\n",
    "- 99: Refused\n",
    "- Blank: Not asked or missing\n",
    "\n",
    "Recode to:\n",
    "\n",
    "- 1-30: Number of Days, int\n",
    "- 0: None\n",
    "- Nan: Don't know/Not sure\n",
    "- Nan: Refused\n",
    "- Blank: Not asked or missing\n"
   ]
  },
  {
   "cell_type": "code",
   "execution_count": 375,
   "id": "64b90f66",
   "metadata": {},
   "outputs": [
    {
     "data": {
      "text/plain": [
       "dtype('O')"
      ]
     },
     "execution_count": 375,
     "metadata": {},
     "output_type": "execute_result"
    }
   ],
   "source": [
    "#check column data type\n",
    "recoded_health_behaviour_df['PHYSHLTH'].dtypes"
   ]
  },
  {
   "cell_type": "code",
   "execution_count": 376,
   "id": "c09ab7bb",
   "metadata": {},
   "outputs": [
    {
     "data": {
      "text/plain": [
       "dtype('O')"
      ]
     },
     "execution_count": 376,
     "metadata": {},
     "output_type": "execute_result"
    }
   ],
   "source": [
    "recoded_health_behaviour_df['PHYSHLTH'].dtypes"
   ]
  },
  {
   "cell_type": "code",
   "execution_count": 416,
   "id": "c18ef81c",
   "metadata": {},
   "outputs": [
    {
     "data": {
      "text/plain": [
       "0      5.0\n",
       "1     30.0\n",
       "2     77.0\n",
       "3     30.0\n",
       "4     88.0\n",
       "5     88.0\n",
       "6     88.0\n",
       "7     88.0\n",
       "8     88.0\n",
       "9      3.0\n",
       "10    88.0\n",
       "11    88.0\n",
       "12    88.0\n",
       "13    88.0\n",
       "14    88.0\n",
       "15    88.0\n",
       "16    88.0\n",
       "17    15.0\n",
       "18     7.0\n",
       "19    88.0\n",
       "Name: PHYSHLTH, dtype: object"
      ]
     },
     "execution_count": 416,
     "metadata": {},
     "output_type": "execute_result"
    }
   ],
   "source": [
    "#print column values for reference\n",
    "recoded_health_behaviour_df['PHYSHLTH'].head(20)"
   ]
  },
  {
   "cell_type": "code",
   "execution_count": 378,
   "id": "30504f04",
   "metadata": {},
   "outputs": [],
   "source": [
    "# recode PHYSHLTH values to new coding scheme described above\n",
    "recoded_health_behaviour_df.loc[health_behaviour_df.PHYSHLTH == 88, \"PHYSHLTH\"] = 0\n",
    "recoded_health_behaviour_df.loc[health_behaviour_df.PHYSHLTH == 77, \"PHYSHLTH\"] = np.NaN\n",
    "recoded_health_behaviour_df.loc[health_behaviour_df.PHYSHLTH == 99, \"PHYSHLTH\"] = np.NaN"
   ]
  },
  {
   "cell_type": "code",
   "execution_count": 379,
   "id": "beb0c569",
   "metadata": {},
   "outputs": [],
   "source": [
    "#convert column from object to int\n",
    "recoded_health_behaviour_df.PHYSHLTH = pd.to_numeric(recoded_health_behaviour_df.PHYSHLTH).astype('Int32')"
   ]
  },
  {
   "cell_type": "code",
   "execution_count": 415,
   "id": "dfc2d533",
   "metadata": {},
   "outputs": [
    {
     "data": {
      "text/plain": [
       "0      5.0\n",
       "1     30.0\n",
       "2     77.0\n",
       "3     30.0\n",
       "4     88.0\n",
       "5     88.0\n",
       "6     88.0\n",
       "7     88.0\n",
       "8     88.0\n",
       "9      3.0\n",
       "10    88.0\n",
       "11    88.0\n",
       "12    88.0\n",
       "13    88.0\n",
       "14    88.0\n",
       "15    88.0\n",
       "16    88.0\n",
       "17    15.0\n",
       "18     7.0\n",
       "19    88.0\n",
       "Name: PHYSHLTH, dtype: object"
      ]
     },
     "execution_count": 415,
     "metadata": {},
     "output_type": "execute_result"
    }
   ],
   "source": [
    "#reprint values to confirm they were correctly recoded\n",
    "recoded_health_behaviour_df['PHYSHLTH'].head(20)"
   ]
  },
  {
   "cell_type": "markdown",
   "id": "f0bf4b8f",
   "metadata": {},
   "source": [
    "### MENTHLTH\n",
    "#### Question:  Now thinking about your mental health, which includes stress, depression, and problems with emotions, for how many days during the past 30 days was your mental health not good?\n",
    "Answers originally coded as: \n",
    "- 1-30: Number of Days, numeric\n",
    "- 88: None\n",
    "- 77: Don't know/Not sure\n",
    "- 99: Refused\n",
    "- Blank: Not asked or missing\n",
    "\n",
    "Recode to:\n",
    "\n",
    "- 1-30: Number of Days, int\n",
    "- 0: None\n",
    "- Nan: Don't know/Not sure\n",
    "- Nan: Refused\n",
    "- Blank: Not asked or missing\n"
   ]
  },
  {
   "cell_type": "code",
   "execution_count": 382,
   "id": "0b0a157f",
   "metadata": {},
   "outputs": [
    {
     "data": {
      "text/plain": [
       "dtype('O')"
      ]
     },
     "execution_count": 382,
     "metadata": {},
     "output_type": "execute_result"
    }
   ],
   "source": [
    "#check column data type\n",
    "recoded_health_behaviour_df['MENTHLTH'].dtypes"
   ]
  },
  {
   "cell_type": "code",
   "execution_count": 414,
   "id": "364056a2",
   "metadata": {},
   "outputs": [
    {
     "data": {
      "text/plain": [
       "0     30.0\n",
       "1     88.0\n",
       "2     88.0\n",
       "3     30.0\n",
       "4     88.0\n",
       "5      1.0\n",
       "6     88.0\n",
       "7     88.0\n",
       "8      6.0\n",
       "9      5.0\n",
       "10    88.0\n",
       "11    88.0\n",
       "12     1.0\n",
       "13    88.0\n",
       "14    88.0\n",
       "15     5.0\n",
       "16     5.0\n",
       "17    88.0\n",
       "18    88.0\n",
       "19     1.0\n",
       "Name: MENTHLTH, dtype: object"
      ]
     },
     "execution_count": 414,
     "metadata": {},
     "output_type": "execute_result"
    }
   ],
   "source": [
    "#print column values for reference\n",
    "recoded_health_behaviour_df['MENTHLTH'].head(20)"
   ]
  },
  {
   "cell_type": "code",
   "execution_count": 384,
   "id": "ab7876a4",
   "metadata": {},
   "outputs": [],
   "source": [
    "# recode PHYSHLTH values to new coding scheme described above\n",
    "recoded_health_behaviour_df.loc[health_behaviour_df.MENTHLTH == 88, \"MENTHLTH\"] = 0\n",
    "recoded_health_behaviour_df.loc[health_behaviour_df.MENTHLTH == 77, \"MENTHLTH\"] = np.NaN\n",
    "recoded_health_behaviour_df.loc[health_behaviour_df.MENTHLTH == 99, \"MENTHLTH\"] = np.NaN"
   ]
  },
  {
   "cell_type": "code",
   "execution_count": 386,
   "id": "7fa41f2c",
   "metadata": {},
   "outputs": [],
   "source": [
    "#convert column from object to int\n",
    "recoded_health_behaviour_df.MENTHLTH = pd.to_numeric(recoded_health_behaviour_df.MENTHLTH).astype('Int32')"
   ]
  },
  {
   "cell_type": "code",
   "execution_count": 387,
   "id": "717ca9c5",
   "metadata": {},
   "outputs": [
    {
     "data": {
      "text/plain": [
       "Int32Dtype()"
      ]
     },
     "execution_count": 387,
     "metadata": {},
     "output_type": "execute_result"
    }
   ],
   "source": [
    "recoded_health_behaviour_df['MENTHLTH'].dtypes"
   ]
  },
  {
   "cell_type": "code",
   "execution_count": 413,
   "id": "bd6970eb",
   "metadata": {},
   "outputs": [
    {
     "data": {
      "text/plain": [
       "0     30.0\n",
       "1     88.0\n",
       "2     88.0\n",
       "3     30.0\n",
       "4     88.0\n",
       "5      1.0\n",
       "6     88.0\n",
       "7     88.0\n",
       "8      6.0\n",
       "9      5.0\n",
       "10    88.0\n",
       "11    88.0\n",
       "12     1.0\n",
       "13    88.0\n",
       "14    88.0\n",
       "15     5.0\n",
       "16     5.0\n",
       "17    88.0\n",
       "18    88.0\n",
       "19     1.0\n",
       "Name: MENTHLTH, dtype: object"
      ]
     },
     "execution_count": 413,
     "metadata": {},
     "output_type": "execute_result"
    }
   ],
   "source": [
    "#reprint values to confirm they were correctly recoded\n",
    "recoded_health_behaviour_df['MENTHLTH'].head(20)"
   ]
  },
  {
   "cell_type": "markdown",
   "id": "b18e5334",
   "metadata": {},
   "source": [
    "### _PAINDX2\n",
    "#### Question:  Physical Activity Index\n",
    "Values originally coded as:\n",
    "- 1: Meet Aerobic Recommendations\n",
    "- 2: Did Not Meet Aerobic Recommendations\n",
    "- 9: Don’t know/Not Sure/Refused/Missing\n",
    "\n",
    "Recode to:\n",
    "- 1: Meet Aerobic Recommendations\n",
    "- 2: Did Not Meet Aerobic Recommendations\n",
    "- Nan: Don’t know/Not Sure/Refused/Missing\n",
    "    "
   ]
  },
  {
   "cell_type": "code",
   "execution_count": 412,
   "id": "2d08c8d9",
   "metadata": {},
   "outputs": [
    {
     "data": {
      "text/plain": [
       "0        1\n",
       "1        2\n",
       "2     <NA>\n",
       "3        2\n",
       "4     <NA>\n",
       "5        2\n",
       "6        1\n",
       "7     <NA>\n",
       "8        2\n",
       "9        1\n",
       "10    <NA>\n",
       "11    <NA>\n",
       "12       1\n",
       "13       2\n",
       "14       1\n",
       "15    <NA>\n",
       "16    <NA>\n",
       "17       1\n",
       "18       2\n",
       "19       2\n",
       "Name: _PAINDX2, dtype: Int32"
      ]
     },
     "execution_count": 412,
     "metadata": {},
     "output_type": "execute_result"
    }
   ],
   "source": [
    "recoded_health_behaviour_df['_PAINDX2'].head(20)"
   ]
  },
  {
   "cell_type": "code",
   "execution_count": 408,
   "id": "1b8994a4",
   "metadata": {},
   "outputs": [],
   "source": [
    "recoded_health_behaviour_df.loc[health_behaviour_df._PAINDX2 == 9, \"_PAINDX2\"] = np.NaN\n",
    "recoded_health_behaviour_df._PAINDX2 = pd.to_numeric(recoded_health_behaviour_df._PAINDX2).astype('Int32')"
   ]
  },
  {
   "cell_type": "code",
   "execution_count": 411,
   "id": "66ce5495",
   "metadata": {},
   "outputs": [
    {
     "data": {
      "text/plain": [
       "0        1\n",
       "1        2\n",
       "2     <NA>\n",
       "3        2\n",
       "4     <NA>\n",
       "5        2\n",
       "6        1\n",
       "7     <NA>\n",
       "8        2\n",
       "9        1\n",
       "10    <NA>\n",
       "11    <NA>\n",
       "12       1\n",
       "13       2\n",
       "14       1\n",
       "15    <NA>\n",
       "16    <NA>\n",
       "17       1\n",
       "18       2\n",
       "19       2\n",
       "Name: _PAINDX2, dtype: Int32"
      ]
     },
     "execution_count": 411,
     "metadata": {},
     "output_type": "execute_result"
    }
   ],
   "source": [
    "recoded_health_behaviour_df['_PAINDX2'].head(20)"
   ]
  },
  {
   "cell_type": "code",
   "execution_count": null,
   "id": "d7ccca91",
   "metadata": {},
   "outputs": [],
   "source": [
    "#TODO: make a dataframe that contains the demographic information of the sample and their health outcomes \n",
    "#Draw up summary of sample"
   ]
  },
  {
   "cell_type": "code",
   "execution_count": null,
   "id": "d709cc1c",
   "metadata": {},
   "outputs": [],
   "source": []
  },
  {
   "cell_type": "code",
   "execution_count": null,
   "id": "b5ab2ff1",
   "metadata": {},
   "outputs": [],
   "source": [
    "#map health outcomes accross states"
   ]
  },
  {
   "cell_type": "code",
   "execution_count": null,
   "id": "07077e13",
   "metadata": {},
   "outputs": [],
   "source": [
    "#create a large df with demographic and health behaviour info and create model that can predict health outcomes"
   ]
  },
  {
   "cell_type": "code",
   "execution_count": null,
   "id": "2c2b8bfe",
   "metadata": {},
   "outputs": [],
   "source": []
  }
 ],
 "metadata": {
  "kernelspec": {
   "display_name": "mlenv",
   "language": "python",
   "name": "mlenv"
  },
  "language_info": {
   "codemirror_mode": {
    "name": "ipython",
    "version": 3
   },
   "file_extension": ".py",
   "mimetype": "text/x-python",
   "name": "python",
   "nbconvert_exporter": "python",
   "pygments_lexer": "ipython3",
   "version": "3.7.10"
  }
 },
 "nbformat": 4,
 "nbformat_minor": 5
}

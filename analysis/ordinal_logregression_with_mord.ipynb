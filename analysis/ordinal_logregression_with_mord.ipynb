{
 "cells": [
  {
   "cell_type": "code",
   "execution_count": 1,
   "id": "ab48d65c",
   "metadata": {},
   "outputs": [],
   "source": [
    "import warnings\n",
    "import numpy as np\n",
    "import pandas as pd\n",
    "from sklearn.compose import ColumnTransformer\n",
    "from sklearn.metrics import confusion_matrix, classification_report, r2_score\n",
    "from sklearn.model_selection import train_test_split, GridSearchCV\n",
    "from sklearn.metrics import mean_absolute_error, accuracy_score, make_scorer\n",
    "from sklearn.pipeline import Pipeline\n",
    "from sklearn.preprocessing import StandardScaler, PowerTransformer, FunctionTransformer\n",
    "from skorch.callbacks import Callback, ProgressBar\n",
    "from skorch.net import NeuralNet\n",
    "import matplotlib.pyplot as plt\n",
    "import torch\n",
    "from torch import nn"
   ]
  },
  {
   "cell_type": "code",
   "execution_count": 152,
   "id": "a13c42f8",
   "metadata": {},
   "outputs": [],
   "source": [
    "start_df = pd.read_csv('Data/post_feat_analysis_health_behaviour.csv')"
   ]
  },
  {
   "cell_type": "code",
   "execution_count": 153,
   "id": "a65e432e",
   "metadata": {},
   "outputs": [
    {
     "data": {
      "text/html": [
       "<div>\n",
       "<style scoped>\n",
       "    .dataframe tbody tr th:only-of-type {\n",
       "        vertical-align: middle;\n",
       "    }\n",
       "\n",
       "    .dataframe tbody tr th {\n",
       "        vertical-align: top;\n",
       "    }\n",
       "\n",
       "    .dataframe thead th {\n",
       "        text-align: right;\n",
       "    }\n",
       "</style>\n",
       "<table border=\"1\" class=\"dataframe\">\n",
       "  <thead>\n",
       "    <tr style=\"text-align: right;\">\n",
       "      <th></th>\n",
       "      <th>_STATE</th>\n",
       "      <th>STRFREQ_</th>\n",
       "      <th>GENHLTH</th>\n",
       "      <th>EXRACT11</th>\n",
       "      <th>ACTIN12_</th>\n",
       "      <th>EXRACT21</th>\n",
       "      <th>PAFREQ2_</th>\n",
       "      <th>_MINAC21</th>\n",
       "      <th>ACTIN22_</th>\n",
       "      <th>PA2MIN_</th>\n",
       "      <th>_BMI5</th>\n",
       "      <th>_RFSMOK3</th>\n",
       "      <th>FTJUDA2_</th>\n",
       "      <th>_FRUTSU1</th>\n",
       "      <th>_VEGESU1</th>\n",
       "      <th>_PAINDX2</th>\n",
       "      <th>_PASTRNG</th>\n",
       "      <th>_EDUCAG</th>\n",
       "      <th>INCOME2</th>\n",
       "    </tr>\n",
       "  </thead>\n",
       "  <tbody>\n",
       "    <tr>\n",
       "      <th>0</th>\n",
       "      <td>1.0</td>\n",
       "      <td>0.0</td>\n",
       "      <td>4.0</td>\n",
       "      <td>64.0</td>\n",
       "      <td>1.0</td>\n",
       "      <td>73.0</td>\n",
       "      <td>5.000</td>\n",
       "      <td>750.0</td>\n",
       "      <td>1.0</td>\n",
       "      <td>778.0</td>\n",
       "      <td>18.54</td>\n",
       "      <td>1.0</td>\n",
       "      <td>0.00</td>\n",
       "      <td>1.00</td>\n",
       "      <td>1.21</td>\n",
       "      <td>1.0</td>\n",
       "      <td>2.0</td>\n",
       "      <td>3.0</td>\n",
       "      <td>5.0</td>\n",
       "    </tr>\n",
       "    <tr>\n",
       "      <th>1</th>\n",
       "      <td>1.0</td>\n",
       "      <td>2.0</td>\n",
       "      <td>3.0</td>\n",
       "      <td>2.0</td>\n",
       "      <td>2.0</td>\n",
       "      <td>64.0</td>\n",
       "      <td>1.167</td>\n",
       "      <td>70.0</td>\n",
       "      <td>1.0</td>\n",
       "      <td>190.0</td>\n",
       "      <td>31.62</td>\n",
       "      <td>1.0</td>\n",
       "      <td>0.14</td>\n",
       "      <td>1.14</td>\n",
       "      <td>1.64</td>\n",
       "      <td>1.0</td>\n",
       "      <td>1.0</td>\n",
       "      <td>4.0</td>\n",
       "      <td>7.0</td>\n",
       "    </tr>\n",
       "    <tr>\n",
       "      <th>2</th>\n",
       "      <td>1.0</td>\n",
       "      <td>3.0</td>\n",
       "      <td>2.0</td>\n",
       "      <td>98.0</td>\n",
       "      <td>2.0</td>\n",
       "      <td>73.0</td>\n",
       "      <td>3.000</td>\n",
       "      <td>90.0</td>\n",
       "      <td>1.0</td>\n",
       "      <td>270.0</td>\n",
       "      <td>32.98</td>\n",
       "      <td>2.0</td>\n",
       "      <td>0.20</td>\n",
       "      <td>1.20</td>\n",
       "      <td>1.34</td>\n",
       "      <td>1.0</td>\n",
       "      <td>1.0</td>\n",
       "      <td>4.0</td>\n",
       "      <td>7.0</td>\n",
       "    </tr>\n",
       "    <tr>\n",
       "      <th>3</th>\n",
       "      <td>1.0</td>\n",
       "      <td>3.0</td>\n",
       "      <td>2.0</td>\n",
       "      <td>64.0</td>\n",
       "      <td>1.0</td>\n",
       "      <td>18.0</td>\n",
       "      <td>0.467</td>\n",
       "      <td>84.0</td>\n",
       "      <td>2.0</td>\n",
       "      <td>468.0</td>\n",
       "      <td>22.31</td>\n",
       "      <td>2.0</td>\n",
       "      <td>0.00</td>\n",
       "      <td>2.00</td>\n",
       "      <td>3.10</td>\n",
       "      <td>1.0</td>\n",
       "      <td>1.0</td>\n",
       "      <td>4.0</td>\n",
       "      <td>7.0</td>\n",
       "    </tr>\n",
       "    <tr>\n",
       "      <th>4</th>\n",
       "      <td>1.0</td>\n",
       "      <td>0.0</td>\n",
       "      <td>1.0</td>\n",
       "      <td>64.0</td>\n",
       "      <td>2.0</td>\n",
       "      <td>18.0</td>\n",
       "      <td>4.000</td>\n",
       "      <td>720.0</td>\n",
       "      <td>2.0</td>\n",
       "      <td>1920.0</td>\n",
       "      <td>25.79</td>\n",
       "      <td>1.0</td>\n",
       "      <td>1.00</td>\n",
       "      <td>2.00</td>\n",
       "      <td>1.79</td>\n",
       "      <td>1.0</td>\n",
       "      <td>2.0</td>\n",
       "      <td>4.0</td>\n",
       "      <td>8.0</td>\n",
       "    </tr>\n",
       "  </tbody>\n",
       "</table>\n",
       "</div>"
      ],
      "text/plain": [
       "   _STATE  STRFREQ_  GENHLTH  EXRACT11  ACTIN12_  EXRACT21  PAFREQ2_  \\\n",
       "0     1.0       0.0      4.0      64.0       1.0      73.0     5.000   \n",
       "1     1.0       2.0      3.0       2.0       2.0      64.0     1.167   \n",
       "2     1.0       3.0      2.0      98.0       2.0      73.0     3.000   \n",
       "3     1.0       3.0      2.0      64.0       1.0      18.0     0.467   \n",
       "4     1.0       0.0      1.0      64.0       2.0      18.0     4.000   \n",
       "\n",
       "   _MINAC21  ACTIN22_  PA2MIN_  _BMI5  _RFSMOK3  FTJUDA2_  _FRUTSU1  _VEGESU1  \\\n",
       "0     750.0       1.0    778.0  18.54       1.0      0.00      1.00      1.21   \n",
       "1      70.0       1.0    190.0  31.62       1.0      0.14      1.14      1.64   \n",
       "2      90.0       1.0    270.0  32.98       2.0      0.20      1.20      1.34   \n",
       "3      84.0       2.0    468.0  22.31       2.0      0.00      2.00      3.10   \n",
       "4     720.0       2.0   1920.0  25.79       1.0      1.00      2.00      1.79   \n",
       "\n",
       "   _PAINDX2  _PASTRNG  _EDUCAG  INCOME2  \n",
       "0       1.0       2.0      3.0      5.0  \n",
       "1       1.0       1.0      4.0      7.0  \n",
       "2       1.0       1.0      4.0      7.0  \n",
       "3       1.0       1.0      4.0      7.0  \n",
       "4       1.0       2.0      4.0      8.0  "
      ]
     },
     "execution_count": 153,
     "metadata": {},
     "output_type": "execute_result"
    }
   ],
   "source": [
    "start_df.head()"
   ]
  },
  {
   "cell_type": "code",
   "execution_count": 154,
   "id": "0f2bf6a4",
   "metadata": {},
   "outputs": [
    {
     "data": {
      "text/plain": [
       "Index(['_STATE', 'STRFREQ_', 'GENHLTH', 'EXRACT11', 'ACTIN12_', 'EXRACT21',\n",
       "       'PAFREQ2_', '_MINAC21', 'ACTIN22_', 'PA2MIN_', '_BMI5', '_RFSMOK3',\n",
       "       'FTJUDA2_', '_FRUTSU1', '_VEGESU1', '_PAINDX2', '_PASTRNG', '_EDUCAG',\n",
       "       'INCOME2'],\n",
       "      dtype='object')"
      ]
     },
     "execution_count": 154,
     "metadata": {},
     "output_type": "execute_result"
    }
   ],
   "source": [
    "start_df.columns"
   ]
  },
  {
   "cell_type": "code",
   "execution_count": 155,
   "id": "358ed791",
   "metadata": {},
   "outputs": [],
   "source": [
    "#pull only features with sig Chi square > 200\n",
    "#df = df[['GENHLTH','_BMI5','ACTIN12_', 'ACTIN22_', '_RFSMOK3','_PASTRNG', 'INCOME2', '_EDUCAG', '_STATE', 'EXRACT21', '_PAINDX2']].copy()"
   ]
  },
  {
   "cell_type": "code",
   "execution_count": 156,
   "id": "167f83fe",
   "metadata": {},
   "outputs": [],
   "source": [
    "df = start_df[['GENHLTH', 'INCOME2', '_BMI5', '_EDUCAG', '_RFSMOK3', 'STRFREQ_']].copy()"
   ]
  },
  {
   "cell_type": "code",
   "execution_count": 157,
   "id": "74b0ff8c",
   "metadata": {},
   "outputs": [
    {
     "data": {
      "image/png": "[encoded data removed]",
      "text/plain": [
       "<Figure size 720x720 with 6 Axes>"
      ]
     },
     "metadata": {
      "needs_background": "light"
     },
     "output_type": "display_data"
    }
   ],
   "source": [
    "#now look at distributions of the features\n",
    "df.hist(figsize=(10, 10));\n",
    "plt.tight_layout();"
   ]
  },
  {
   "cell_type": "code",
   "execution_count": 112,
   "id": "e9df08e4",
   "metadata": {},
   "outputs": [],
   "source": [
    "#Look more closely at the features with odd ranges\n",
    "#check the distribution of target\n",
    "#feat = df['PAFREQ2_']\n",
    "#(feat.value_counts()\n",
    "#  .sort_index()\n",
    "#  .plot(kind='bar'));\n",
    "#plt.ylabel('Counts');\n",
    "#plt.xlabel('PAFREQ2_');"
   ]
  },
  {
   "cell_type": "code",
   "execution_count": 113,
   "id": "4b4204bf",
   "metadata": {},
   "outputs": [],
   "source": [
    "#df['PAFREQ2_'].max() - df['PAFREQ2_'].min() "
   ]
  },
  {
   "cell_type": "code",
   "execution_count": 94,
   "id": "bddac5bb",
   "metadata": {},
   "outputs": [],
   "source": [
    "#looks like there are quite a few extreme outliers in several columns, this aligns with what I noticed earlier"
   ]
  },
  {
   "cell_type": "code",
   "execution_count": 158,
   "id": "75804214",
   "metadata": {},
   "outputs": [],
   "source": [
    "#remove all outliers\n",
    "from scipy import stats\n",
    "df = df[(np.abs(stats.zscore(df)) < 3).all(axis=1)]\n",
    "df = df.dropna(how=\"any\")"
   ]
  },
  {
   "cell_type": "code",
   "execution_count": 159,
   "id": "f36dda36",
   "metadata": {},
   "outputs": [
    {
     "data": {
      "image/png": "[encoded data removed]",
      "text/plain": [
       "<Figure size 432x288 with 1 Axes>"
      ]
     },
     "metadata": {
      "needs_background": "light"
     },
     "output_type": "display_data"
    }
   ],
   "source": [
    "#check the distribution of target\n",
    "y = df.pop('GENHLTH')\n",
    "(y.value_counts()\n",
    "  .sort_index()\n",
    "  .plot(kind='bar'));\n",
    "plt.ylabel('Counts');\n",
    "plt.xlabel('GENHLTH');"
   ]
  },
  {
   "cell_type": "code",
   "execution_count": 160,
   "id": "ce86c9c5",
   "metadata": {},
   "outputs": [
    {
     "data": {
      "image/png": "[encoded data removed]",
      "text/plain": [
       "<Figure size 720x720 with 6 Axes>"
      ]
     },
     "metadata": {
      "needs_background": "light"
     },
     "output_type": "display_data"
    }
   ],
   "source": [
    "#look at distributions of the features again\n",
    "df.hist(figsize=(10, 10));\n",
    "plt.tight_layout();"
   ]
  },
  {
   "cell_type": "code",
   "execution_count": 163,
   "id": "bc9c0572",
   "metadata": {},
   "outputs": [],
   "source": [
    "#Use standard scaler on the more gaussian-like columns and power transformer on the others\n",
    "\n",
    "gaussian_columns = ['_BMI5'] #'_STATE', 'ACTIN12_', 'EXRACT21', 'ACTIN22_', \n",
    "power_columns = ['_RFSMOK3', '_EDUCAG', 'INCOME2', 'STRFREQ_'] # '_PAINDX2', '_PASTRNG', \n",
    "column_transformer = ColumnTransformer([\n",
    "    ('gaussian', StandardScaler(), gaussian_columns),\n",
    "    ('power', PowerTransformer(), power_columns)\n",
    "])"
   ]
  },
  {
   "cell_type": "code",
   "execution_count": 164,
   "id": "10bb225f",
   "metadata": {},
   "outputs": [
    {
     "data": {
      "image/png": "[encoded data removed]",
      "text/plain": [
       "<Figure size 720x720 with 6 Axes>"
      ]
     },
     "metadata": {
      "needs_background": "light"
     },
     "output_type": "display_data"
    }
   ],
   "source": [
    "X_trans = column_transformer.fit_transform(df)\n",
    "(pd.DataFrame(X_trans,\n",
    "              columns= gaussian_columns + power_columns)\n",
    "   .hist(figsize=(10, 10)));\n",
    "plt.tight_layout();"
   ]
  },
  {
   "cell_type": "code",
   "execution_count": 165,
   "id": "bb84656a",
   "metadata": {},
   "outputs": [],
   "source": [
    "#fit to scale and split data\n",
    "y = y.values.astype(np.long).reshape(-1, 1)\n",
    "# Map y from (3-8) to (0-5)\n",
    "y -= y.min()\n",
    "\n",
    "X = df\n",
    "\n",
    "(X_train, X_test,\n",
    " y_train, y_test) = train_test_split(X, y, test_size=0.33,\n",
    "                                     stratify=y, random_state=666)"
   ]
  },
  {
   "cell_type": "code",
   "execution_count": 166,
   "id": "1de259aa",
   "metadata": {},
   "outputs": [],
   "source": [
    "#Develop pipeline\n",
    "from mord.threshold_based import LogisticAT, LogisticIT\n",
    "\n",
    "pipeline = Pipeline([\n",
    "    ('column', column_transformer),\n",
    "    ('caster', FunctionTransformer(to_float)),\n",
    "    ('model', LogisticIT())\n",
    "])"
   ]
  },
  {
   "cell_type": "code",
   "execution_count": 167,
   "id": "c6b6b5f2",
   "metadata": {},
   "outputs": [
    {
     "name": "stdout",
     "output_type": "stream",
     "text": [
      "Fitting 5 folds for each of 25 candidates, totalling 125 fits\n"
     ]
    },
    {
     "data": {
      "text/plain": [
       "GridSearchCV(cv=5,\n",
       "             estimator=Pipeline(steps=[('column',\n",
       "                                        ColumnTransformer(transformers=[('gaussian',\n",
       "                                                                         StandardScaler(),\n",
       "                                                                         ['_BMI5']),\n",
       "                                                                        ('power',\n",
       "                                                                         PowerTransformer(),\n",
       "                                                                         ['_RFSMOK3',\n",
       "                                                                          '_EDUCAG',\n",
       "                                                                          'INCOME2',\n",
       "                                                                          'STRFREQ_'])])),\n",
       "                                       ('caster',\n",
       "                                        FunctionTransformer(func=<function to_float at 0x000001A502E02F78>)),\n",
       "                                       ('model', LogisticIT())]),\n",
       "             param_grid={'model__alpha': array([1.e+00, 1.e+01, 1.e+02, 1.e+03, 1.e+04]),\n",
       "                         'model__max_iter': array([  1000,   3162,  10000,  31622, 100000])},\n",
       "             scoring=make_scorer(mae_scorer, greater_is_better=False, needs_proba=True),\n",
       "             verbose=1)"
      ]
     },
     "execution_count": 167,
     "metadata": {},
     "output_type": "execute_result"
    }
   ],
   "source": [
    "param_grid = {\n",
    "    'model__max_iter': np.logspace(3, 5, 5).astype(int),\n",
    "    'model__alpha': np.logspace(0, 4, 5)\n",
    "}\n",
    "\n",
    "mord_grid_search = GridSearchCV(\n",
    "    pipeline, param_grid, scoring=scoring,\n",
    "    n_jobs=None, cv=5, verbose=1\n",
    ")\n",
    "mord_grid_search.fit(X_train, y_train.ravel()) #added ravel after warning appeared as my y_train was a numpy_array (column vector) and not a 1d array"
   ]
  },
  {
   "cell_type": "code",
   "execution_count": 168,
   "id": "8c441665",
   "metadata": {},
   "outputs": [
    {
     "name": "stdout",
     "output_type": "stream",
     "text": [
      "Cutpoints: [-0.79242513  0.42396909  1.50389924  1.92084376]\n"
     ]
    }
   ],
   "source": [
    "cutpoints = (mord_grid_search\n",
    "             .best_estimator_\n",
    "             .named_steps['model']\n",
    "             .theta_)\n",
    "print(f\"Cutpoints: {cutpoints}\")"
   ]
  },
  {
   "cell_type": "code",
   "execution_count": 169,
   "id": "9f56d07b",
   "metadata": {},
   "outputs": [],
   "source": [
    "y_pred = mord_grid_search.predict(X_test)"
   ]
  },
  {
   "cell_type": "code",
   "execution_count": 125,
   "id": "1190e35c",
   "metadata": {},
   "outputs": [],
   "source": [
    "#Results from LogisticAT (All-threshold)\n",
    "#bins = np.arange(6)\n",
    "#plt.hist(y_test, bins=bins, alpha=0.5);\n",
    "#plt.hist(y_pred, bins=bins, alpha=0.5);\n",
    "#plt.legend(['y_true', 'y_pred']);\n",
    "#plt.ylabel('Counts');\n",
    "#plt.xlabel('Ordinal Class');\n",
    "#plt.title('LogisticAT mord Class Distributions');"
   ]
  },
  {
   "cell_type": "code",
   "execution_count": 126,
   "id": "6e44cb61",
   "metadata": {},
   "outputs": [],
   "source": [
    "#print(f'LogisticAT accuracy = {accuracy_score(y_test, y_pred):1.3f}')\n",
    "#print(f'LogisticAT MSE = {mean_absolute_error(y_test, y_pred):1.3f}')"
   ]
  },
  {
   "cell_type": "code",
   "execution_count": 127,
   "id": "bb353d41",
   "metadata": {},
   "outputs": [],
   "source": [
    "#LogisticAT_matrix = confusion_matrix(y_test, y_pred)\n",
    "#print(f\"Logistic Ordinal Regression, All-Threshold: {LogisticAT_matrix}\")"
   ]
  },
  {
   "cell_type": "code",
   "execution_count": 128,
   "id": "bb58c13e",
   "metadata": {
    "scrolled": true
   },
   "outputs": [],
   "source": [
    "#LogisticAT_report = classification_report(y_test, y_pred, zero_division = 1)\n",
    "#print(f\"Logistic Ordinal Regression, All-Threshold: {LogisticAT_report}\")"
   ]
  },
  {
   "cell_type": "code",
   "execution_count": 129,
   "id": "ff90cad6",
   "metadata": {},
   "outputs": [],
   "source": [
    "#LogisticAT_r_square = r2_score(y_test, y_pred)\n",
    "#print(f\"Logistic Ordinal Regression, All-Threshold R squared: {LogisticAT_r_square}\")"
   ]
  },
  {
   "cell_type": "code",
   "execution_count": 170,
   "id": "0ea3065f",
   "metadata": {
    "scrolled": true
   },
   "outputs": [
    {
     "data": {
      "image/png": "[encoded data removed]",
      "text/plain": [
       "<Figure size 432x288 with 1 Axes>"
      ]
     },
     "metadata": {
      "needs_background": "light"
     },
     "output_type": "display_data"
    }
   ],
   "source": [
    "#Results from LogisticIT (Immediate-threshold)\n",
    "bins = np.arange(6)\n",
    "plt.hist(y_test, bins=bins, alpha=0.5);\n",
    "plt.hist(y_pred, bins=bins, alpha=0.5);\n",
    "plt.legend(['y_true', 'y_pred']);\n",
    "plt.ylabel('Counts');\n",
    "plt.xlabel('Ordinal Class');\n",
    "plt.title('LogisticIT mord Class Distributions');"
   ]
  },
  {
   "cell_type": "code",
   "execution_count": 171,
   "id": "22a92704",
   "metadata": {},
   "outputs": [
    {
     "name": "stdout",
     "output_type": "stream",
     "text": [
      "LogisticIT accuracy = 0.431\n",
      "LogisticIT MSE = 0.661\n"
     ]
    }
   ],
   "source": [
    "print(f'LogisticIT accuracy = {accuracy_score(y_test, y_pred):1.3f}')\n",
    "print(f'LogisticIT MSE = {mean_absolute_error(y_test, y_pred):1.3f}')"
   ]
  },
  {
   "cell_type": "code",
   "execution_count": 172,
   "id": "c417a11a",
   "metadata": {},
   "outputs": [
    {
     "name": "stdout",
     "output_type": "stream",
     "text": [
      "Logistic Ordinal Regression, Immediate-Threshold: [[  458  8318   695     7     0]\n",
      " [  377 14977  2468    14     0]\n",
      " [  103  8615  3385    37     2]\n",
      " [   28  1949  1499    47     2]\n",
      " [    6   391   404    11     1]]\n"
     ]
    }
   ],
   "source": [
    "LogisticIT_matrix = confusion_matrix(y_test, y_pred)\n",
    "print(f\"Logistic Ordinal Regression, Immediate-Threshold: {LogisticIT_matrix}\")"
   ]
  },
  {
   "cell_type": "code",
   "execution_count": 173,
   "id": "33b5f632",
   "metadata": {},
   "outputs": [
    {
     "name": "stdout",
     "output_type": "stream",
     "text": [
      "Logistic Ordinal Regression, Immediate--Threshold:               precision    recall  f1-score   support\n",
      "\n",
      "           0       0.47      0.05      0.09      9478\n",
      "           1       0.44      0.84      0.58     17836\n",
      "           2       0.40      0.28      0.33     12142\n",
      "           3       0.41      0.01      0.03      3525\n",
      "           4       0.20      0.00      0.00       813\n",
      "\n",
      "    accuracy                           0.43     43794\n",
      "   macro avg       0.38      0.24      0.20     43794\n",
      "weighted avg       0.43      0.43      0.35     43794\n",
      "\n"
     ]
    }
   ],
   "source": [
    "LogisticIT_report = classification_report(y_test, y_pred, zero_division = 1)\n",
    "print(f\"Logistic Ordinal Regression, Immediate--Threshold: {LogisticIT_report}\")"
   ]
  },
  {
   "cell_type": "code",
   "execution_count": 174,
   "id": "34d7dccd",
   "metadata": {},
   "outputs": [
    {
     "name": "stdout",
     "output_type": "stream",
     "text": [
      "R-squared:\n",
      "Logistic Ordinal Regression, Immediate-Threshold: 0.04385525737321183\n"
     ]
    }
   ],
   "source": [
    "LogisticIT_r_square = r2_score(y_test, y_pred)\n",
    "print(\"R-squared:\")\n",
    "print(f\"Logistic Ordinal Regression, Immediate-Threshold: {LogisticIT_r_square}\")"
   ]
  },
  {
   "cell_type": "code",
   "execution_count": null,
   "id": "9aaa05a5",
   "metadata": {},
   "outputs": [],
   "source": []
  }
 ],
 "metadata": {
  "kernelspec": {
   "display_name": "mlenv",
   "language": "python",
   "name": "mlenv"
  },
  "language_info": {
   "codemirror_mode": {
    "name": "ipython",
    "version": 3
   },
   "file_extension": ".py",
   "mimetype": "text/x-python",
   "name": "python",
   "nbconvert_exporter": "python",
   "pygments_lexer": "ipython3",
   "version": "3.7.10"
  }
 },
 "nbformat": 4,
 "nbformat_minor": 5
}

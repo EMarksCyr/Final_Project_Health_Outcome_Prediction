{
 "cells": [
  {
   "cell_type": "code",
   "execution_count": 1,
   "id": "cb43af6a",
   "metadata": {},
   "outputs": [],
   "source": [
    "import pandas as pd\n",
    "import numpy as np"
   ]
  },
  {
   "cell_type": "code",
   "execution_count": 2,
   "id": "380f3116",
   "metadata": {},
   "outputs": [],
   "source": [
    "from external.likelihood_ratio_test import likelihood_ratio_test"
   ]
  },
  {
   "cell_type": "code",
   "execution_count": 3,
   "id": "3c77319d",
   "metadata": {},
   "outputs": [],
   "source": [
    "#Get a csv with all cleaned behaviours to feed into SAS JMP"
   ]
  },
  {
   "cell_type": "code",
   "execution_count": 4,
   "id": "20476554",
   "metadata": {},
   "outputs": [],
   "source": [
    "health_behaviour_df = pd.read_csv('Data/uncleaned_health_behaviour.csv')"
   ]
  },
  {
   "cell_type": "code",
   "execution_count": 5,
   "id": "2f93e714",
   "metadata": {},
   "outputs": [
    {
     "data": {
      "text/plain": [
       "Index(['id', '_STATE', 'GENHLTH', 'PHYSHLTH', 'MENTHLTH', 'POORHLTH',\n",
       "       'EXRACT11', 'PAFREQ1_', '_MINAC11', 'ACTIN12_', 'EXRACT21', 'PAFREQ2_',\n",
       "       '_MINAC21', 'ACTIN22_', 'STRFREQ_', 'PA2MIN_', '_METSTAT', '_URBSTAT',\n",
       "       'HTIN4', 'WTKG3', '_RFBMI5', '_BMI5', '_RFSMOK3', '_RFDRHV7', 'FC601_',\n",
       "       'FTJUDA2_', 'GRENDA1_', 'VEGEDA2_', 'POTADA1_', 'FRNCHDA_', '_FRUTSU1',\n",
       "       '_VEGESU1', '_PAINDX2', '_PASTRNG', '_AGEG5YR', '_AGE80', 'CVDINFR4',\n",
       "       'CVDCRHD4', 'CVDSTRK3', 'ASTHMA3', 'CHCSCNCR', 'CHCOCNCR', 'DIABETE4',\n",
       "       'ADDEPEV3', 'CHCKDNY2', 'HAVARTH4', 'HLTHCVR1', 'HLTHPLN1', '_IMPRACE',\n",
       "       '_EDUCAG', 'INCOME2', '_DRNKWK1', 'EDUCA'],\n",
       "      dtype='object')"
      ]
     },
     "execution_count": 5,
     "metadata": {},
     "output_type": "execute_result"
    }
   ],
   "source": [
    "health_behaviour_df.columns"
   ]
  },
  {
   "cell_type": "code",
   "execution_count": 6,
   "id": "2951cfb1",
   "metadata": {},
   "outputs": [],
   "source": [
    "#potential features\n",
    "#'_STATE', 'GENHLTH', \n",
    "#       'EXRACT11', 'PAFREQ1_', '_MINAC11', 'ACTIN12_', 'EXRACT21', 'PAFREQ2_',\n",
    "#       '_MINAC21', 'ACTIN22_', 'STRFREQ_', 'PA2MIN_', '_METSTAT', '_URBSTAT',\n",
    "#        '_BMI5', '_RFSMOK3',  'FTJUDA2_', 'GRENDA1_', 'VEGEDA2_', 'POTADA1_', 'FRNCHDA_', '_FRUTSU1',\n",
    "#        '_VEGESU1', '_PAINDX2', '_PASTRNG', '_EDUCAG', 'INCOME2', '_DRNKWK1'"
   ]
  },
  {
   "cell_type": "code",
   "execution_count": 7,
   "id": "08e231c7",
   "metadata": {},
   "outputs": [],
   "source": [
    "#Make sure every variable is cleaned"
   ]
  },
  {
   "cell_type": "code",
   "execution_count": 8,
   "id": "b280d02f",
   "metadata": {},
   "outputs": [],
   "source": [
    "#_STATE\n",
    "#Doesn't need to be recoded"
   ]
  },
  {
   "cell_type": "code",
   "execution_count": 9,
   "id": "c46705a3",
   "metadata": {},
   "outputs": [],
   "source": [
    "#GENHLTH\n",
    "health_behaviour_df.loc[health_behaviour_df.GENHLTH == 7, \"GENHLTH\"] = np.NaN\n",
    "health_behaviour_df.loc[health_behaviour_df.GENHLTH == 9, \"GENHLTH\"] = np.NaN"
   ]
  },
  {
   "cell_type": "code",
   "execution_count": 10,
   "id": "a3d7da5c",
   "metadata": {},
   "outputs": [],
   "source": [
    "#EXRACT11\n",
    "health_behaviour_df.loc[health_behaviour_df.EXRACT11 ==77 , \"EXRACT11\"] = np.NaN\n",
    "health_behaviour_df.loc[health_behaviour_df.EXRACT11 ==99 , \"EXRACT11\"] = np.NaN"
   ]
  },
  {
   "cell_type": "code",
   "execution_count": 11,
   "id": "943fa25b",
   "metadata": {},
   "outputs": [],
   "source": [
    "#PAFREQ1_\n",
    "health_behaviour_df.loc[health_behaviour_df.PAFREQ1_ ==99000 , \"PAFREQ1_\"] = np.NaN\n",
    "health_behaviour_df[\"PAFREQ1_\"] = health_behaviour_df[\"PAFREQ1_\"] / 1000\n",
    "#PAFREQ2_\n",
    "health_behaviour_df.loc[health_behaviour_df.PAFREQ2_ ==99000 , \"PAFREQ1_\"] = np.NaN\n",
    "health_behaviour_df[\"PAFREQ2_\"] = health_behaviour_df[\"PAFREQ2_\"] / 1000"
   ]
  },
  {
   "cell_type": "code",
   "execution_count": 12,
   "id": "6aa3b347",
   "metadata": {},
   "outputs": [
    {
     "data": {
      "text/plain": [
       "0       NaN\n",
       "1     750.0\n",
       "2      70.0\n",
       "3       NaN\n",
       "4       NaN\n",
       "5       NaN\n",
       "6      90.0\n",
       "7       NaN\n",
       "8     300.0\n",
       "9       0.0\n",
       "10      NaN\n",
       "11     84.0\n",
       "12      NaN\n",
       "13      NaN\n",
       "14    720.0\n",
       "15      NaN\n",
       "16     90.0\n",
       "17     90.0\n",
       "18      NaN\n",
       "19    225.0\n",
       "Name: _MINAC21, dtype: float64"
      ]
     },
     "execution_count": 12,
     "metadata": {},
     "output_type": "execute_result"
    }
   ],
   "source": [
    "#_MINAC11\n",
    "#Doesn't need to be recoded\n",
    "#_MINAC21\n",
    "health_behaviour_df[\"_MINAC21\"].head(20)"
   ]
  },
  {
   "cell_type": "code",
   "execution_count": 13,
   "id": "f0deee98",
   "metadata": {},
   "outputs": [],
   "source": [
    "#ACTIN12_\n",
    "#Doesn't need to be recoded\n",
    "#ACTIN22_"
   ]
  },
  {
   "cell_type": "code",
   "execution_count": 14,
   "id": "8d23874e",
   "metadata": {},
   "outputs": [],
   "source": [
    "#EXRACT21\n",
    "health_behaviour_df.loc[health_behaviour_df.EXRACT21 ==77 , \"EXRACT21\"] = np.NaN\n",
    "health_behaviour_df.loc[health_behaviour_df.EXRACT21 ==99 , \"EXRACT21\"] = np.NaN"
   ]
  },
  {
   "cell_type": "code",
   "execution_count": 15,
   "id": "9296547c",
   "metadata": {},
   "outputs": [],
   "source": [
    "#STRFREQ_\n",
    "health_behaviour_df.loc[health_behaviour_df.STRFREQ_ ==99000 , \"STRFREQ_\"] = np.NaN\n",
    "health_behaviour_df[\"STRFREQ_\"] = health_behaviour_df[\"STRFREQ_\"] / 1000"
   ]
  },
  {
   "cell_type": "code",
   "execution_count": 16,
   "id": "0bcf1db1",
   "metadata": {},
   "outputs": [
    {
     "data": {
      "text/plain": [
       "0        NaN\n",
       "1      778.0\n",
       "2      190.0\n",
       "3        NaN\n",
       "4        NaN\n",
       "5        NaN\n",
       "6      270.0\n",
       "7        NaN\n",
       "8      960.0\n",
       "9      120.0\n",
       "10       NaN\n",
       "11     468.0\n",
       "12       NaN\n",
       "13       NaN\n",
       "14    1920.0\n",
       "15       NaN\n",
       "16     360.0\n",
       "17     900.0\n",
       "18       NaN\n",
       "19    1710.0\n",
       "Name: PA2MIN_, dtype: float64"
      ]
     },
     "execution_count": 16,
     "metadata": {},
     "output_type": "execute_result"
    }
   ],
   "source": [
    "#PA2MIN_\n",
    "#Doesn't need to be cleaned\n",
    "health_behaviour_df[\"PA2MIN_\"].head(20)"
   ]
  },
  {
   "cell_type": "code",
   "execution_count": 17,
   "id": "a62ee88d",
   "metadata": {},
   "outputs": [],
   "source": [
    "#_METSTAT\n",
    "#Doesn't need to be recoded"
   ]
  },
  {
   "cell_type": "code",
   "execution_count": 18,
   "id": "caf03a56",
   "metadata": {},
   "outputs": [],
   "source": [
    "#_URBSTAT\n",
    "#Doesn't need to be recoded"
   ]
  },
  {
   "cell_type": "code",
   "execution_count": 19,
   "id": "bc010780",
   "metadata": {},
   "outputs": [],
   "source": [
    "#_BMI5\n",
    "health_behaviour_df[\"_BMI5\"] = health_behaviour_df[\"_BMI5\"] / 100"
   ]
  },
  {
   "cell_type": "code",
   "execution_count": 20,
   "id": "0b46dd61",
   "metadata": {},
   "outputs": [],
   "source": [
    "#_RFSMOK3\n",
    "health_behaviour_df.loc[health_behaviour_df._RFSMOK3 ==9 , \"_RFSMOK3\"] = np.NaN\n"
   ]
  },
  {
   "cell_type": "code",
   "execution_count": 21,
   "id": "0ce6e57c",
   "metadata": {},
   "outputs": [],
   "source": [
    "#FTJUDA2_\n",
    "health_behaviour_df[\"FTJUDA2_\"] = health_behaviour_df[\"FTJUDA2_\"] / 100"
   ]
  },
  {
   "cell_type": "code",
   "execution_count": 22,
   "id": "26759f60",
   "metadata": {},
   "outputs": [],
   "source": [
    "#GRENDA1_\n",
    "health_behaviour_df[\"GRENDA1_\"] = health_behaviour_df[\"GRENDA1_\"] / 100"
   ]
  },
  {
   "cell_type": "code",
   "execution_count": 23,
   "id": "6567996c",
   "metadata": {},
   "outputs": [],
   "source": [
    "#VEGEDA2_\n",
    "health_behaviour_df[\"VEGEDA2_\"] = health_behaviour_df[\"VEGEDA2_\"] / 100"
   ]
  },
  {
   "cell_type": "code",
   "execution_count": 24,
   "id": "5bbd6eca",
   "metadata": {},
   "outputs": [],
   "source": [
    "#POTADA1_\n",
    "#Doesn't need to be recoded"
   ]
  },
  {
   "cell_type": "code",
   "execution_count": 25,
   "id": "39b0d1ca",
   "metadata": {},
   "outputs": [],
   "source": [
    "#FRNCHDA_\n",
    "health_behaviour_df[\"FRNCHDA_\"] = health_behaviour_df[\"FRNCHDA_\"] / 100"
   ]
  },
  {
   "cell_type": "code",
   "execution_count": 26,
   "id": "00483d0b",
   "metadata": {},
   "outputs": [],
   "source": [
    "#_FRUTSU1\n",
    "health_behaviour_df[\"_FRUTSU1\"] = health_behaviour_df[\"_FRUTSU1\"] / 100"
   ]
  },
  {
   "cell_type": "code",
   "execution_count": 27,
   "id": "220a3b80",
   "metadata": {},
   "outputs": [],
   "source": [
    "#_VEGESU1\n",
    "health_behaviour_df[\"_VEGESU1\"] = health_behaviour_df[\"_VEGESU1\"] / 100"
   ]
  },
  {
   "cell_type": "code",
   "execution_count": 28,
   "id": "46ee4ad9",
   "metadata": {},
   "outputs": [],
   "source": [
    "#_PAINDX2\n",
    "health_behaviour_df.loc[health_behaviour_df._PAINDX2 ==9 , \"_PAINDX2\"] = np.NaN"
   ]
  },
  {
   "cell_type": "code",
   "execution_count": 29,
   "id": "08fccb23",
   "metadata": {},
   "outputs": [],
   "source": [
    "#_PASTRNG\n",
    "health_behaviour_df.loc[health_behaviour_df._PASTRNG ==9 , \"_PASTRNG\"] = np.NaN"
   ]
  },
  {
   "cell_type": "code",
   "execution_count": 30,
   "id": "03a9a073",
   "metadata": {},
   "outputs": [],
   "source": [
    "#EDUCA\n",
    "health_behaviour_df.loc[health_behaviour_df.EDUCA ==9 , \"EDUCA\"] = np.NaN"
   ]
  },
  {
   "cell_type": "code",
   "execution_count": 31,
   "id": "8187ffba",
   "metadata": {},
   "outputs": [],
   "source": [
    "#INCOME2\n",
    "health_behaviour_df.loc[health_behaviour_df.INCOME2 ==77 , \"INCOME2\"] = np.NaN\n",
    "health_behaviour_df.loc[health_behaviour_df.INCOME2 ==99 , \"INCOME2\"] = np.NaN"
   ]
  },
  {
   "cell_type": "code",
   "execution_count": 32,
   "id": "edcfe53c",
   "metadata": {},
   "outputs": [
    {
     "data": {
      "text/html": [
       "<div>\n",
       "<style scoped>\n",
       "    .dataframe tbody tr th:only-of-type {\n",
       "        vertical-align: middle;\n",
       "    }\n",
       "\n",
       "    .dataframe tbody tr th {\n",
       "        vertical-align: top;\n",
       "    }\n",
       "\n",
       "    .dataframe thead th {\n",
       "        text-align: right;\n",
       "    }\n",
       "</style>\n",
       "<table border=\"1\" class=\"dataframe\">\n",
       "  <thead>\n",
       "    <tr style=\"text-align: right;\">\n",
       "      <th></th>\n",
       "      <th>id</th>\n",
       "      <th>_STATE</th>\n",
       "      <th>GENHLTH</th>\n",
       "      <th>PHYSHLTH</th>\n",
       "      <th>MENTHLTH</th>\n",
       "      <th>POORHLTH</th>\n",
       "      <th>EXRACT11</th>\n",
       "      <th>PAFREQ1_</th>\n",
       "      <th>_MINAC11</th>\n",
       "      <th>ACTIN12_</th>\n",
       "      <th>...</th>\n",
       "      <th>ADDEPEV3</th>\n",
       "      <th>CHCKDNY2</th>\n",
       "      <th>HAVARTH4</th>\n",
       "      <th>HLTHCVR1</th>\n",
       "      <th>HLTHPLN1</th>\n",
       "      <th>_IMPRACE</th>\n",
       "      <th>_EDUCAG</th>\n",
       "      <th>INCOME2</th>\n",
       "      <th>_DRNKWK1</th>\n",
       "      <th>EDUCA</th>\n",
       "    </tr>\n",
       "  </thead>\n",
       "  <tbody>\n",
       "    <tr>\n",
       "      <th>0</th>\n",
       "      <td>1</td>\n",
       "      <td>1.0</td>\n",
       "      <td>3.0</td>\n",
       "      <td>15.0</td>\n",
       "      <td>88.0</td>\n",
       "      <td>88.0</td>\n",
       "      <td>NaN</td>\n",
       "      <td>NaN</td>\n",
       "      <td>NaN</td>\n",
       "      <td>NaN</td>\n",
       "      <td>...</td>\n",
       "      <td>2.0</td>\n",
       "      <td>2.0</td>\n",
       "      <td>1.0</td>\n",
       "      <td>NaN</td>\n",
       "      <td>1.0</td>\n",
       "      <td>2.0</td>\n",
       "      <td>1.0</td>\n",
       "      <td>3.0</td>\n",
       "      <td>0.0</td>\n",
       "      <td>3.0</td>\n",
       "    </tr>\n",
       "    <tr>\n",
       "      <th>1</th>\n",
       "      <td>2</td>\n",
       "      <td>1.0</td>\n",
       "      <td>4.0</td>\n",
       "      <td>10.0</td>\n",
       "      <td>88.0</td>\n",
       "      <td>10.0</td>\n",
       "      <td>64.0</td>\n",
       "      <td>0.467</td>\n",
       "      <td>28.0</td>\n",
       "      <td>1.0</td>\n",
       "      <td>...</td>\n",
       "      <td>2.0</td>\n",
       "      <td>2.0</td>\n",
       "      <td>1.0</td>\n",
       "      <td>NaN</td>\n",
       "      <td>1.0</td>\n",
       "      <td>1.0</td>\n",
       "      <td>3.0</td>\n",
       "      <td>5.0</td>\n",
       "      <td>0.0</td>\n",
       "      <td>5.0</td>\n",
       "    </tr>\n",
       "    <tr>\n",
       "      <th>2</th>\n",
       "      <td>3</td>\n",
       "      <td>1.0</td>\n",
       "      <td>3.0</td>\n",
       "      <td>88.0</td>\n",
       "      <td>30.0</td>\n",
       "      <td>88.0</td>\n",
       "      <td>2.0</td>\n",
       "      <td>1.000</td>\n",
       "      <td>60.0</td>\n",
       "      <td>2.0</td>\n",
       "      <td>...</td>\n",
       "      <td>2.0</td>\n",
       "      <td>2.0</td>\n",
       "      <td>1.0</td>\n",
       "      <td>NaN</td>\n",
       "      <td>1.0</td>\n",
       "      <td>2.0</td>\n",
       "      <td>4.0</td>\n",
       "      <td>7.0</td>\n",
       "      <td>0.0</td>\n",
       "      <td>6.0</td>\n",
       "    </tr>\n",
       "    <tr>\n",
       "      <th>3</th>\n",
       "      <td>4</td>\n",
       "      <td>1.0</td>\n",
       "      <td>4.0</td>\n",
       "      <td>30.0</td>\n",
       "      <td>88.0</td>\n",
       "      <td>88.0</td>\n",
       "      <td>NaN</td>\n",
       "      <td>NaN</td>\n",
       "      <td>NaN</td>\n",
       "      <td>NaN</td>\n",
       "      <td>...</td>\n",
       "      <td>2.0</td>\n",
       "      <td>2.0</td>\n",
       "      <td>1.0</td>\n",
       "      <td>NaN</td>\n",
       "      <td>1.0</td>\n",
       "      <td>1.0</td>\n",
       "      <td>3.0</td>\n",
       "      <td>6.0</td>\n",
       "      <td>99900.0</td>\n",
       "      <td>5.0</td>\n",
       "    </tr>\n",
       "    <tr>\n",
       "      <th>4</th>\n",
       "      <td>5</td>\n",
       "      <td>1.0</td>\n",
       "      <td>2.0</td>\n",
       "      <td>88.0</td>\n",
       "      <td>88.0</td>\n",
       "      <td>NaN</td>\n",
       "      <td>NaN</td>\n",
       "      <td>NaN</td>\n",
       "      <td>NaN</td>\n",
       "      <td>NaN</td>\n",
       "      <td>...</td>\n",
       "      <td>2.0</td>\n",
       "      <td>2.0</td>\n",
       "      <td>2.0</td>\n",
       "      <td>NaN</td>\n",
       "      <td>1.0</td>\n",
       "      <td>1.0</td>\n",
       "      <td>3.0</td>\n",
       "      <td>NaN</td>\n",
       "      <td>0.0</td>\n",
       "      <td>5.0</td>\n",
       "    </tr>\n",
       "  </tbody>\n",
       "</table>\n",
       "<p>5 rows × 53 columns</p>\n",
       "</div>"
      ],
      "text/plain": [
       "   id  _STATE  GENHLTH  PHYSHLTH  MENTHLTH  POORHLTH  EXRACT11  PAFREQ1_  \\\n",
       "0   1     1.0      3.0      15.0      88.0      88.0       NaN       NaN   \n",
       "1   2     1.0      4.0      10.0      88.0      10.0      64.0     0.467   \n",
       "2   3     1.0      3.0      88.0      30.0      88.0       2.0     1.000   \n",
       "3   4     1.0      4.0      30.0      88.0      88.0       NaN       NaN   \n",
       "4   5     1.0      2.0      88.0      88.0       NaN       NaN       NaN   \n",
       "\n",
       "   _MINAC11  ACTIN12_  ...  ADDEPEV3  CHCKDNY2  HAVARTH4  HLTHCVR1  HLTHPLN1  \\\n",
       "0       NaN       NaN  ...       2.0       2.0       1.0       NaN       1.0   \n",
       "1      28.0       1.0  ...       2.0       2.0       1.0       NaN       1.0   \n",
       "2      60.0       2.0  ...       2.0       2.0       1.0       NaN       1.0   \n",
       "3       NaN       NaN  ...       2.0       2.0       1.0       NaN       1.0   \n",
       "4       NaN       NaN  ...       2.0       2.0       2.0       NaN       1.0   \n",
       "\n",
       "   _IMPRACE  _EDUCAG  INCOME2  _DRNKWK1  EDUCA  \n",
       "0       2.0      1.0      3.0       0.0    3.0  \n",
       "1       1.0      3.0      5.0       0.0    5.0  \n",
       "2       2.0      4.0      7.0       0.0    6.0  \n",
       "3       1.0      3.0      6.0   99900.0    5.0  \n",
       "4       1.0      3.0      NaN       0.0    5.0  \n",
       "\n",
       "[5 rows x 53 columns]"
      ]
     },
     "execution_count": 32,
     "metadata": {},
     "output_type": "execute_result"
    }
   ],
   "source": [
    "health_behaviour_df.head()"
   ]
  },
  {
   "cell_type": "code",
   "execution_count": 33,
   "id": "f7ab1653",
   "metadata": {},
   "outputs": [
    {
     "data": {
      "text/plain": [
       "(418268, 53)"
      ]
     },
     "execution_count": 33,
     "metadata": {},
     "output_type": "execute_result"
    }
   ],
   "source": [
    "health_behaviour_df.shape"
   ]
  },
  {
   "cell_type": "code",
   "execution_count": 34,
   "id": "1158ffef",
   "metadata": {},
   "outputs": [],
   "source": [
    "feat_analysis_df = health_behaviour_df[['_STATE', 'GENHLTH', \n",
    "       'EXRACT11', 'PAFREQ1_', '_MINAC11', 'ACTIN12_', 'EXRACT21', 'PAFREQ2_',\n",
    "       '_MINAC21', 'ACTIN22_', 'STRFREQ_', 'PA2MIN_', '_METSTAT', '_URBSTAT',\n",
    "        '_BMI5', '_RFSMOK3',  'FTJUDA2_', 'GRENDA1_', 'VEGEDA2_', 'POTADA1_', 'FRNCHDA_', '_FRUTSU1',\n",
    "        '_VEGESU1', '_PAINDX2', '_PASTRNG', '_EDUCAG', 'INCOME2', '_DRNKWK1']].copy()"
   ]
  },
  {
   "cell_type": "code",
   "execution_count": 35,
   "id": "b1075805",
   "metadata": {},
   "outputs": [
    {
     "data": {
      "text/html": [
       "<div>\n",
       "<style scoped>\n",
       "    .dataframe tbody tr th:only-of-type {\n",
       "        vertical-align: middle;\n",
       "    }\n",
       "\n",
       "    .dataframe tbody tr th {\n",
       "        vertical-align: top;\n",
       "    }\n",
       "\n",
       "    .dataframe thead th {\n",
       "        text-align: right;\n",
       "    }\n",
       "</style>\n",
       "<table border=\"1\" class=\"dataframe\">\n",
       "  <thead>\n",
       "    <tr style=\"text-align: right;\">\n",
       "      <th></th>\n",
       "      <th>_STATE</th>\n",
       "      <th>GENHLTH</th>\n",
       "      <th>EXRACT11</th>\n",
       "      <th>PAFREQ1_</th>\n",
       "      <th>_MINAC11</th>\n",
       "      <th>ACTIN12_</th>\n",
       "      <th>EXRACT21</th>\n",
       "      <th>PAFREQ2_</th>\n",
       "      <th>_MINAC21</th>\n",
       "      <th>ACTIN22_</th>\n",
       "      <th>...</th>\n",
       "      <th>VEGEDA2_</th>\n",
       "      <th>POTADA1_</th>\n",
       "      <th>FRNCHDA_</th>\n",
       "      <th>_FRUTSU1</th>\n",
       "      <th>_VEGESU1</th>\n",
       "      <th>_PAINDX2</th>\n",
       "      <th>_PASTRNG</th>\n",
       "      <th>_EDUCAG</th>\n",
       "      <th>INCOME2</th>\n",
       "      <th>_DRNKWK1</th>\n",
       "    </tr>\n",
       "  </thead>\n",
       "  <tbody>\n",
       "    <tr>\n",
       "      <th>0</th>\n",
       "      <td>1.0</td>\n",
       "      <td>3.0</td>\n",
       "      <td>NaN</td>\n",
       "      <td>NaN</td>\n",
       "      <td>NaN</td>\n",
       "      <td>NaN</td>\n",
       "      <td>NaN</td>\n",
       "      <td>NaN</td>\n",
       "      <td>NaN</td>\n",
       "      <td>NaN</td>\n",
       "      <td>...</td>\n",
       "      <td>0.50</td>\n",
       "      <td>43.0</td>\n",
       "      <td>0.14</td>\n",
       "      <td>2.00</td>\n",
       "      <td>1.14</td>\n",
       "      <td>2.0</td>\n",
       "      <td>1.0</td>\n",
       "      <td>1.0</td>\n",
       "      <td>3.0</td>\n",
       "      <td>0.0</td>\n",
       "    </tr>\n",
       "    <tr>\n",
       "      <th>1</th>\n",
       "      <td>1.0</td>\n",
       "      <td>4.0</td>\n",
       "      <td>64.0</td>\n",
       "      <td>0.467</td>\n",
       "      <td>28.0</td>\n",
       "      <td>1.0</td>\n",
       "      <td>73.0</td>\n",
       "      <td>5.000</td>\n",
       "      <td>750.0</td>\n",
       "      <td>1.0</td>\n",
       "      <td>...</td>\n",
       "      <td>1.00</td>\n",
       "      <td>7.0</td>\n",
       "      <td>0.07</td>\n",
       "      <td>1.00</td>\n",
       "      <td>1.21</td>\n",
       "      <td>1.0</td>\n",
       "      <td>2.0</td>\n",
       "      <td>3.0</td>\n",
       "      <td>5.0</td>\n",
       "      <td>0.0</td>\n",
       "    </tr>\n",
       "    <tr>\n",
       "      <th>2</th>\n",
       "      <td>1.0</td>\n",
       "      <td>3.0</td>\n",
       "      <td>2.0</td>\n",
       "      <td>1.000</td>\n",
       "      <td>60.0</td>\n",
       "      <td>2.0</td>\n",
       "      <td>64.0</td>\n",
       "      <td>1.167</td>\n",
       "      <td>70.0</td>\n",
       "      <td>1.0</td>\n",
       "      <td>...</td>\n",
       "      <td>1.00</td>\n",
       "      <td>14.0</td>\n",
       "      <td>0.07</td>\n",
       "      <td>1.14</td>\n",
       "      <td>1.64</td>\n",
       "      <td>1.0</td>\n",
       "      <td>1.0</td>\n",
       "      <td>4.0</td>\n",
       "      <td>7.0</td>\n",
       "      <td>0.0</td>\n",
       "    </tr>\n",
       "    <tr>\n",
       "      <th>3</th>\n",
       "      <td>1.0</td>\n",
       "      <td>4.0</td>\n",
       "      <td>NaN</td>\n",
       "      <td>NaN</td>\n",
       "      <td>NaN</td>\n",
       "      <td>NaN</td>\n",
       "      <td>NaN</td>\n",
       "      <td>NaN</td>\n",
       "      <td>NaN</td>\n",
       "      <td>NaN</td>\n",
       "      <td>...</td>\n",
       "      <td>NaN</td>\n",
       "      <td>NaN</td>\n",
       "      <td>NaN</td>\n",
       "      <td>NaN</td>\n",
       "      <td>NaN</td>\n",
       "      <td>NaN</td>\n",
       "      <td>NaN</td>\n",
       "      <td>3.0</td>\n",
       "      <td>6.0</td>\n",
       "      <td>99900.0</td>\n",
       "    </tr>\n",
       "    <tr>\n",
       "      <th>4</th>\n",
       "      <td>1.0</td>\n",
       "      <td>2.0</td>\n",
       "      <td>NaN</td>\n",
       "      <td>NaN</td>\n",
       "      <td>NaN</td>\n",
       "      <td>NaN</td>\n",
       "      <td>NaN</td>\n",
       "      <td>NaN</td>\n",
       "      <td>NaN</td>\n",
       "      <td>NaN</td>\n",
       "      <td>...</td>\n",
       "      <td>0.71</td>\n",
       "      <td>71.0</td>\n",
       "      <td>0.07</td>\n",
       "      <td>1.43</td>\n",
       "      <td>1.78</td>\n",
       "      <td>2.0</td>\n",
       "      <td>2.0</td>\n",
       "      <td>3.0</td>\n",
       "      <td>NaN</td>\n",
       "      <td>0.0</td>\n",
       "    </tr>\n",
       "  </tbody>\n",
       "</table>\n",
       "<p>5 rows × 28 columns</p>\n",
       "</div>"
      ],
      "text/plain": [
       "   _STATE  GENHLTH  EXRACT11  PAFREQ1_  _MINAC11  ACTIN12_  EXRACT21  \\\n",
       "0     1.0      3.0       NaN       NaN       NaN       NaN       NaN   \n",
       "1     1.0      4.0      64.0     0.467      28.0       1.0      73.0   \n",
       "2     1.0      3.0       2.0     1.000      60.0       2.0      64.0   \n",
       "3     1.0      4.0       NaN       NaN       NaN       NaN       NaN   \n",
       "4     1.0      2.0       NaN       NaN       NaN       NaN       NaN   \n",
       "\n",
       "   PAFREQ2_  _MINAC21  ACTIN22_  ...  VEGEDA2_  POTADA1_  FRNCHDA_  _FRUTSU1  \\\n",
       "0       NaN       NaN       NaN  ...      0.50      43.0      0.14      2.00   \n",
       "1     5.000     750.0       1.0  ...      1.00       7.0      0.07      1.00   \n",
       "2     1.167      70.0       1.0  ...      1.00      14.0      0.07      1.14   \n",
       "3       NaN       NaN       NaN  ...       NaN       NaN       NaN       NaN   \n",
       "4       NaN       NaN       NaN  ...      0.71      71.0      0.07      1.43   \n",
       "\n",
       "   _VEGESU1  _PAINDX2  _PASTRNG  _EDUCAG  INCOME2  _DRNKWK1  \n",
       "0      1.14       2.0       1.0      1.0      3.0       0.0  \n",
       "1      1.21       1.0       2.0      3.0      5.0       0.0  \n",
       "2      1.64       1.0       1.0      4.0      7.0       0.0  \n",
       "3       NaN       NaN       NaN      3.0      6.0   99900.0  \n",
       "4      1.78       2.0       2.0      3.0      NaN       0.0  \n",
       "\n",
       "[5 rows x 28 columns]"
      ]
     },
     "execution_count": 35,
     "metadata": {},
     "output_type": "execute_result"
    }
   ],
   "source": [
    "feat_analysis_df.head()"
   ]
  },
  {
   "cell_type": "code",
   "execution_count": 36,
   "id": "4f1a47f6",
   "metadata": {},
   "outputs": [],
   "source": [
    "feat_analysis_df = feat_analysis_df.dropna(how = \"any\")"
   ]
  },
  {
   "cell_type": "code",
   "execution_count": 37,
   "id": "27f2300e",
   "metadata": {},
   "outputs": [
    {
     "data": {
      "text/plain": [
       "409852    3.733\n",
       "409858    4.000\n",
       "409861    1.000\n",
       "409862    0.233\n",
       "409863    2.000\n",
       "409864    3.000\n",
       "409865    2.000\n",
       "409867    1.400\n",
       "409868    4.000\n",
       "409871    6.000\n",
       "409872    5.000\n",
       "409876    3.000\n",
       "409877    4.000\n",
       "409878    3.000\n",
       "409879    2.000\n",
       "409880    3.000\n",
       "409882    4.000\n",
       "409884    7.000\n",
       "409890    5.000\n",
       "409892    2.333\n",
       "Name: PAFREQ1_, dtype: float64"
      ]
     },
     "execution_count": 37,
     "metadata": {},
     "output_type": "execute_result"
    }
   ],
   "source": [
    "feat_analysis_df['PAFREQ1_'].tail(20)"
   ]
  },
  {
   "cell_type": "code",
   "execution_count": 38,
   "id": "c6ed5857",
   "metadata": {},
   "outputs": [
    {
     "data": {
      "text/plain": [
       "(135029, 28)"
      ]
     },
     "execution_count": 38,
     "metadata": {},
     "output_type": "execute_result"
    }
   ],
   "source": [
    "feat_analysis_df.shape"
   ]
  },
  {
   "cell_type": "code",
   "execution_count": 39,
   "id": "aef87eae",
   "metadata": {},
   "outputs": [],
   "source": [
    "feat_analysis_df.to_csv('Data/feat_analysis_health_behaviour.csv', index=False)"
   ]
  },
  {
   "cell_type": "code",
   "execution_count": 40,
   "id": "c2717aed",
   "metadata": {},
   "outputs": [],
   "source": [
    "## Ran feature analysis on feat_analysis_health_behaviour in SAS JMP, narrow down to '_STATE', 'EXRACT11', ACTIN12_', 'EXRACT21', 'PAFREQ2_',\n",
    "#        '_MINAC21', 'ACTIN22_', 'PA2MIN_', '_BMI5', '_RFSMOK3',  'FTJUDA2_', '_FRUTSU1',\n",
    "#        '_VEGESU1', '_PAINDX2', '_PASTRNG', '_EDUCAG', 'INCOME2'"
   ]
  },
  {
   "cell_type": "code",
   "execution_count": 41,
   "id": "16fd68aa",
   "metadata": {},
   "outputs": [],
   "source": [
    "post_feat_analysis_df = feat_analysis_df[['_STATE', 'STRFREQ_', 'GENHLTH','EXRACT11', 'ACTIN12_', 'EXRACT21', 'PAFREQ2_',\n",
    "       '_MINAC21', 'ACTIN22_', 'PA2MIN_', '_BMI5', '_RFSMOK3',  'FTJUDA2_', '_FRUTSU1',\n",
    "       '_VEGESU1', '_PAINDX2', '_PASTRNG', '_EDUCAG', 'INCOME2']].copy()"
   ]
  },
  {
   "cell_type": "code",
   "execution_count": 42,
   "id": "e6eef291",
   "metadata": {},
   "outputs": [
    {
     "ename": "NameError",
     "evalue": "name 'post_feat_analysis' is not defined",
     "output_type": "error",
     "traceback": [
      "\u001b[1;31m---------------------------------------------------------------------------\u001b[0m",
      "\u001b[1;31mNameError\u001b[0m                                 Traceback (most recent call last)",
      "\u001b[1;32m<ipython-input-42-ce0fa8c02407>\u001b[0m in \u001b[0;36m<module>\u001b[1;34m\u001b[0m\n\u001b[1;32m----> 1\u001b[1;33m \u001b[0mpost_feat_analysis\u001b[0m\u001b[1;33m.\u001b[0m\u001b[0mhead\u001b[0m\u001b[1;33m(\u001b[0m\u001b[1;33m)\u001b[0m\u001b[1;33m\u001b[0m\u001b[1;33m\u001b[0m\u001b[0m\n\u001b[0m",
      "\u001b[1;31mNameError\u001b[0m: name 'post_feat_analysis' is not defined"
     ]
    }
   ],
   "source": [
    "post_feat_analysis.head()"
   ]
  },
  {
   "cell_type": "code",
   "execution_count": 43,
   "id": "62468941",
   "metadata": {},
   "outputs": [],
   "source": [
    "post_feat_analysis_df.to_csv('Data/post_feat_analysis_health_behaviour.csv', index=False)"
   ]
  },
  {
   "cell_type": "code",
   "execution_count": null,
   "id": "15149f22",
   "metadata": {},
   "outputs": [],
   "source": []
  }
 ],
 "metadata": {
  "kernelspec": {
   "display_name": "mlenv",
   "language": "python",
   "name": "mlenv"
  },
  "language_info": {
   "codemirror_mode": {
    "name": "ipython",
    "version": 3
   },
   "file_extension": ".py",
   "mimetype": "text/x-python",
   "name": "python",
   "nbconvert_exporter": "python",
   "pygments_lexer": "ipython3",
   "version": "3.7.10"
  }
 },
 "nbformat": 4,
 "nbformat_minor": 5
}

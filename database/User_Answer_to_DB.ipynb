{
 "cells": [
  {
   "cell_type": "code",
   "execution_count": 3,
   "id": "e926e9c3",
   "metadata": {},
   "outputs": [],
   "source": [
    "import psycopg2\n",
    "f_contents = open('../data/data.csv', 'r')"
   ]
  },
  {
   "cell_type": "code",
   "execution_count": 4,
   "id": "17b317a4",
   "metadata": {},
   "outputs": [
    {
     "name": "stdout",
     "output_type": "stream",
     "text": [
      "Enter database password········\n"
     ]
    }
   ],
   "source": [
    "from flask import Flask\n",
    "from flask import render_template # to render the error page\n",
    "import psycopg2\n",
    "from getpass import getpass\n",
    "t_pw = getpass(\"Enter database password\")\n",
    "t_host = \"localhost\" # either \"localhost\", a domain name, or an IP address.\n",
    "t_port = \"5432\" # default postgres port\n",
    "t_dbname = \"BRFSSAnalysis\"\n",
    "t_user = \"postgres\"\n",
    "\n",
    "db_conn = psycopg2.connect(host=t_host, port=t_port, dbname=t_dbname, user=t_user, password=t_pw)\n",
    "db_cursor = db_conn.cursor()"
   ]
  },
  {
   "cell_type": "code",
   "execution_count": null,
   "id": "0d98a379",
   "metadata": {},
   "outputs": [],
   "source": [
    "db_cursor.copy_from(f_contents, \"tbl_users\", columns=('t_name_user', 't_email'), sep=\",\")"
   ]
  }
 ],
 "metadata": {
  "kernelspec": {
   "display_name": "mlenv",
   "language": "python",
   "name": "mlenv"
  },
  "language_info": {
   "codemirror_mode": {
    "name": "ipython",
    "version": 3
   },
   "file_extension": ".py",
   "mimetype": "text/x-python",
   "name": "python",
   "nbconvert_exporter": "python",
   "pygments_lexer": "ipython3",
   "version": "3.7.10"
  }
 },
 "nbformat": 4,
 "nbformat_minor": 5
}
